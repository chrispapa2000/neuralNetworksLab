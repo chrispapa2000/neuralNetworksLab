{
  "nbformat": 4,
  "nbformat_minor": 0,
  "metadata": {
    "colab": {
      "provenance": []
    },
    "kernelspec": {
      "name": "python3",
      "display_name": "Python 3"
    }
  },
  "cells": [
    {
      "cell_type": "markdown",
      "metadata": {
        "collapsed": true,
        "id": "FXNCweHxH2bF"
      },
      "source": [
        "<img src=\"https://deap.readthedocs.io/en/master/_images/deap_long.png\" width=\"30%\">"
      ]
    },
    {
      "cell_type": "markdown",
      "metadata": {
        "id": "qZ-8g6AuH2bI"
      },
      "source": [
        "Στην Python είναι διαθέσιμες πολλές βιβλιοθήκες γενετικών αλγόριθμων: \n",
        "- [Pyevolve](http://pyevolve.sourceforge.net/)\n",
        "- [pyeasyga](https://pypi.python.org/pypi/pyeasyga)\n",
        "- [PyOCL/OpenCLGA](https://github.com/PyOCL/OpenCLGA)\n",
        "- [inspyred](https://pypi.python.org/pypi/inspyred)\n",
        "\n",
        "Θα βρούμε επίσης γενετικούς σε βιβλιοθήκες βελτιστοποίησης όπως η [PyOpt](http://www.pyopt.org/)\n",
        "\n",
        "Μια από τις πιο ενεργές, ευρύτερα χρησιμοποιούμενες και ενδιαφέρουσες βιβλιοθήκες είναι η [DEAP (Distributed Evolutionary Algorithms in Python)](https://github.com/DEAP/deap). Τα κύρια πλεονεκτήματα της DEAP είναι:\n",
        "- μπορεί να αναπτύξει κανείς γενετικούς αλγόριθμους πάνω σε οποιαδήποτε δομή δεδομένων (list, array, set, dictionary, tree, numpy array κλπ) ή ad hoc κλάση. \n",
        "- είναι διαθέσιμοι πολλοί γνωστοί γενετικοί τελεστές και ολόκληροι αλγόριθμοι, αλλά έχει κανείς επίσης τη δυνατότητα να ορίζει εύκολα τους δικούς του, κάτι που είναι ιδιάιτερα χρήσιμο στις περιπτώσεις που είναι ιδιαίτερα εξαρτώμενοι από το πρόβλημα.\n",
        "- οι γενετικοί είναι από τη φύση τους πολύ κατάλληλοι για παράλληλη εκτέλεση (παράδειγμα: η αποτίμηση της καταλληλότητας ενός πληθυσμού). Η DEAP σε συνδυασμό με τις βιβλιοθήκες \"SCOOP\" και \"multiprocessing\" προσφέρει ένα πολύ εύκολο τρόπο για αποτελεσματική παράλληλη υλοποίηση των αλγόριθμων.\n",
        "\n",
        "# Εισαγωγή\n",
        "\n",
        "Εγκατάσταση:"
      ]
    },
    {
      "cell_type": "code",
      "metadata": {
        "scrolled": true,
        "id": "lFfKCr9jH2bJ"
      },
      "source": [
        "! pip install -U deap"
      ],
      "execution_count": null,
      "outputs": []
    },
    {
      "cell_type": "markdown",
      "metadata": {
        "id": "lZp0KD2lH2bT"
      },
      "source": [
        "## Βασικές έννοιες: Creator, Base, Fitness\n",
        "\n",
        "Οι δύο βασικές έννοιες του DEAP είναι οι Creator και Base. \n",
        "\n",
        "O **Creator** είναι ένα μέτα - εργοστάσιο δημιουργίας κλάσεων που θα χρησιμεύσουν στον γενετικό αλγόριθμο. Η **Base** είναι ένα δομοστοιχείο που παρέχει δύο βασικές δομές (κλάσεις) για την κατασκευή του γενετικού: το **Toolbox**, που θα χρησιμοποιήσουμε για να αποθηκέυσουμε (εισάγουμε) τους τελεστές και την (εικονική) κλάση **Fitness** που θα χρησιμοποιήσουμε για να κατασκευάσουμε το μέλος καταλληλότητας του κάθε ατόμου.\n",
        "\n",
        "Ας πούμε ότι θέλουμε να ορίσουμε μια συνάρτηση καταλληλότητας προς *ελαχιστοποίηση*:"
      ]
    },
    {
      "cell_type": "code",
      "metadata": {
        "id": "1LzceeQWH2bU"
      },
      "source": [
        "from deap import base, creator\n",
        "creator.create(\"FitnessMin\", base.Fitness, weights=(-1.0,))"
      ],
      "execution_count": null,
      "outputs": []
    },
    {
      "cell_type": "markdown",
      "metadata": {
        "id": "JeSOhuhnH2bY"
      },
      "source": [
        "Η συνάρτηση `create` λαμβάνει τουλάχιστον __δύο ορίσματα__: το όνομα της κλάσης που θα δημιουργήσουμε και τη βασική κλάση από την οποία θα κληρονομίσει. Τα ακόλουθα ορίσματα αποτελούν χαρακτηριστικά της κλάσης. Στην περίπτωση του παραδείγματος, η νέα κλάση `FitnessMin` κληρονομεί την `base.Fitness` με χαρακτηριστικό την πλειάδα weights (-1.0,). Το (-1.0,) σημαίνει ότι θέλουμε να ελαχιστοποιήσουμε ένα μόνο κριτήριο. Εξ ορισμού το DEAP είναι σχεδιασμένο για πολυ-κριτηριακή βελτιστοποίηση (multi-objective optimization) και γι' αυτό αναμένει μια πλειάδα βαρών εξού και το \",\". Αν θέλαμε να μεγιστοποιήσουμε ένα κριτήριο θα θέταμε weights=(1.0,). Στη μονοκριτηριακή βελτιστοποίηση σημασία έχει μόνο το πρόσημο του βάρους. Για πολυκριτηριακή βελτιστοποίηση τα βάρη καθορίζουν τη σχετική σημασία των κριτηρίων. Για παράδειγμα το weights=(-1.0,2.0) ορίζει μια πολυκριτηριακή βελτιστοποίηση όπου θέλουμε να ελαχιστοποιήσουμε το πρώτο κριτήριο, να μεγιστοποιήσουμε το δεύτερο, και το δεύτερο έχει διπλάσια σημασία (βάρος) από το πρώτο.\n",
        "\n",
        "Στη συνέχεια ορίζουμε την κλάση του **ατόμου** το οποίο κληρονομεί από τον τύπο *list* και περιλαμβάνει το χαρακτηρηστικό `FitnessMin`"
      ]
    },
    {
      "cell_type": "code",
      "metadata": {
        "id": "A3ykofgnH2ba"
      },
      "source": [
        "creator.create(\"Individual\", list, fitness=creator.FitnessMin)"
      ],
      "execution_count": null,
      "outputs": []
    },
    {
      "cell_type": "markdown",
      "metadata": {
        "id": "zOANJHquH2bg"
      },
      "source": [
        "Μπορούμε τώρα να ορίσουμε ένα στιγμιότυπο ατόμου και να υπολογίσουμε/ορίσουμε την καταλληλότητα του:"
      ]
    },
    {
      "cell_type": "code",
      "metadata": {
        "id": "aqOL19WbH2bh"
      },
      "source": [
        "ind = creator.Individual([1,0,1,0,1])\n",
        "ind.fitness.values = (sum(ind),)\n",
        "\n",
        "print(ind)\n",
        "print(type(ind))\n",
        "print(type(ind.fitness))\n",
        "print(ind.fitness.values)"
      ],
      "execution_count": null,
      "outputs": []
    },
    {
      "cell_type": "markdown",
      "metadata": {
        "id": "dbzqe-O7H2bn"
      },
      "source": [
        "Στο συγκεκριμένο παράδειγμα ορίσαμε ως καταλληλότητα το άθροισμα των στοιχείων της λίστας που αποτελούν το άτομο ind. Η καταλληλότητα στο DEAP είναι πάντα πλειάδα και η μονοκριτηριακή βελτιστοποίηση είναι μια ειδική περίπτωση (προσέξτε το \",\"). Επίσης προσέξτε ότι εμείς ορίζουμε τις τιμές του χαρακτηρηστικού fitness.values. \n",
        "\n",
        "## Τελεστές\n",
        "\n",
        "Το DEAP μας επιτρέπει να δημιουργούμε τελεστές μαζί με τις παραμέτρους τους και να τους ομαδοποιούμε σε εργαλιοθήκες (toolbox):"
      ]
    },
    {
      "cell_type": "code",
      "metadata": {
        "id": "LKKLdIs1H2br"
      },
      "source": [
        "from deap import tools\n",
        "toolbox = base.Toolbox()\n",
        "toolbox.register(\"mate\", tools.cxOnePoint)\n",
        "toolbox.register(\"mutate\", tools.mutGaussian, mu=0.0, std=1.0)"
      ],
      "execution_count": null,
      "outputs": []
    },
    {
      "cell_type": "markdown",
      "metadata": {
        "id": "VeCFDBArH2bx"
      },
      "source": [
        "Αρχικοποιούμε ένα στιγμιότυπο *toolbox* και του αναθέτουμε με τη register ένα τελεστή διασταύρωσης και ένα τελεστή μετάλλαξης. Η register απαιτεί τουλάχιστον δύο ορίσματα, το όνομα που δίνουμε στον τελεστή και τη συνάρτηση που τον υλοποιεί. Τα επόμενα ορίσματα μπορούν να είναι παράμετροι του τελεστή. Εδώ χρησιμοποιούμε τις builtin cxOnePoint (διαστάυρωση ενός σημείου) και mutGausian (γκαουσιανή μετάλλαξη με μέση τιμή 0 και απόκλιση 1 στο παράδειγμα).\n",
        "\n",
        "## Παραλληλισμός\n",
        "Η DEAP μπορεί εύκολα να παραλληλοποιηθεί με τη χρήση της βιβλιοθήκης Scalable Concurent Operations ([SCOOP](https://github.com/soravux/scoop))  και να τρέξει σε κατανεμημένα συστήματα. Γιαυτό αρκεί κανείς να αντικαταστήσει στο toolbox τη στάνταρ συνάρτηση `map` της Python (που εφαρμόζει μια συνάρτηση σε κάθε στοιχείο μιας λίστας) με τη συνάρτηση map του SCOOP. "
      ]
    },
    {
      "cell_type": "code",
      "metadata": {
        "id": "7_MszMTjH2by"
      },
      "source": [
        "! pip install -U scoop\n",
        "\n",
        "from scoop import futures\n",
        "toolbox.register(\"map\", futures.map)"
      ],
      "execution_count": null,
      "outputs": []
    },
    {
      "cell_type": "markdown",
      "metadata": {
        "id": "7kM6PDpxH2b6"
      },
      "source": [
        "Περισσότερες πληροφορίες για τη SCOOP και παραδείγματα [εδώ](http://deap.readthedocs.io/en/master/tutorials/basic/part4.html) και [εδώ](http://scoop.readthedocs.io/en/latest/usage.html).  \n",
        "\n",
        "\n",
        "Η DEAP μπορεί επίσης να χρησιμοποιήσει τη map της βιβλιοθήκης multiprocessing για να τρέξει παράλληλα σε πολλούς πυρήνες ενός μηχάνηματος:"
      ]
    },
    {
      "cell_type": "code",
      "metadata": {
        "id": "bTQoZNHWH2b7"
      },
      "source": [
        "import multiprocessing\n",
        "pool = multiprocessing.Pool()\n",
        "toolbox.register(\"map\", pool.map)"
      ],
      "execution_count": null,
      "outputs": []
    },
    {
      "cell_type": "markdown",
      "metadata": {
        "id": "agLU9CQNH2cB"
      },
      "source": [
        "Στην πράξη στα cloud δεν θα χρησιμοποιήσουμε αυτές τις βιβλιοθήκες αλλά τοπικά είναι πολύ αποτελεσματικές ανάλογα τους διαθέσιμους πόρους.\n",
        "\n",
        "# Παράδειγμα 1: επίλυση του προβλήματος OneMax\n",
        "\n",
        "Το πρόβλημα *OneMax* (ή BitCounting) είναι ένα πολύ απλό πρόβλημα που συνίσταται στο να μεγιστοποιηθεί ο αριθμός των bits \"1\" σε μια δυαδική συμβολοσειρά. Πιο τυπικά, το πρόβλημα περιγράφεται με την αναζήτηση μιας συμβολοσειράς \n",
        "$\\vec{x}=\\{x_{1},x_{2},\\ldots{},x_{N}\\}$, με $x_{i}\\in \\{0,1\\}$,\n",
        "τέτοια που να μεγιστοποιεί την ακόλουθη εξίσωση:\n",
        "\n",
        "\\begin{equation}\n",
        "F(\\vec{x}) = \\sum_{i=1}^{N}{x_{i}}\n",
        "\\end{equation}\n",
        "\n",
        "Η βέλτιστη λύση είναι προφανώς $x_{i}=1$ για $i=1..N$.\n",
        "\n",
        "Αρχικά ορίζουμε μια καταλληλότητα προς μεγιστοποίηση:"
      ]
    },
    {
      "cell_type": "code",
      "metadata": {
        "id": "QGdCk9ynH2cC"
      },
      "source": [
        "creator.create(\"FitnessMax\", base.Fitness, weights=(1.0,))\n",
        "creator.create(\"Individual\", list, fitness=creator.FitnessMax)"
      ],
      "execution_count": null,
      "outputs": []
    },
    {
      "cell_type": "markdown",
      "metadata": {
        "id": "p20kAzIMH2cH"
      },
      "source": [
        "Στη συνέχεια θα δημιουργήσουμε τις κλάσεις των ατόμων και του πληθυσμού μας:"
      ]
    },
    {
      "cell_type": "code",
      "metadata": {
        "id": "ehefFqROH2cI"
      },
      "source": [
        "import random\n",
        "\n",
        "toolbox = base.Toolbox()\n",
        "# Attribute generator \n",
        "toolbox.register(\"attr_bool\", random.randint, 0, 1)\n",
        "# Structure initializers\n",
        "toolbox.register(\"individual\", tools.initRepeat, creator.Individual, toolbox.attr_bool, 100)\n",
        "toolbox.register(\"population\", tools.initRepeat, list, toolbox.individual)"
      ],
      "execution_count": null,
      "outputs": []
    },
    {
      "cell_type": "markdown",
      "metadata": {
        "id": "bovacLK-H2cM"
      },
      "source": [
        "Στο μπλοκ αυτό εγγράψαμε μια συνάρτηση δημιουργίας ενός χαρακτηριστικού \"attr_bool\" που παίρνει μια τυχαία δυαδική τιμή. Στη συνέχεια θα δημιουργήσουμε την κλάση των ατόμων χρησιμοποιώντας την `initRepeat()`. Η συνάρτηση αυτή επιστρέφει ένα άτομο - λίστα με καταλληλότητα προς μεγιστοποίηση (μέσω της κληρονομιάς του τύπου από το  \"Individual\" και της \"FitnessMax\") που προκύπτει αν καλούσαμε την \"attr_bool\" 100 φόρες.\n",
        "\n",
        "Παρόμοια χρησιμοποιούμε την initRepeat για να φτιάξουμε τον πληθυσμό ο οποίος είναι μια λίστα με τα individual που μόλις ορίσαμε. Εδώ δεν ορίζουμε το μήκος της λίστας. \n",
        "\n",
        "Μπορούμε να δούμε πως λειτουργεί η κλήση αυτών των συναρτήσεων:"
      ]
    },
    {
      "cell_type": "code",
      "metadata": {
        "id": "GVqsdDRNH2cO"
      },
      "source": [
        "bit = toolbox.attr_bool()\n",
        "ind = toolbox.individual()\n",
        "pop = toolbox.population(n=3)\n",
        "\n",
        "print(\"bit is of type %s and has value\\n%s\" % (type(bit), bit))\n",
        "print(\"ind is of type %s and contains %d bits\\n%s\" % (type(ind), len(ind), ind))\n",
        "print(\"pop is of type %s and contains %d individuals\\n%s\" % (type(pop), len(pop), pop))"
      ],
      "execution_count": null,
      "outputs": []
    },
    {
      "cell_type": "markdown",
      "metadata": {
        "id": "Bk7W0ZRMH2cT"
      },
      "source": [
        "Στη συνέχεια ορίζουμε τη συνάρτηση καταλληλότητας που πολύ απλά αθροίζει τους άσους του κάθε ατόμου:"
      ]
    },
    {
      "cell_type": "code",
      "metadata": {
        "id": "UIozesd-H2cV"
      },
      "source": [
        "def evalOneMax(individual):\n",
        "    return sum(individual),"
      ],
      "execution_count": null,
      "outputs": []
    },
    {
      "cell_type": "markdown",
      "metadata": {
        "id": "YzlR1d0gH2cZ"
      },
      "source": [
        "Σημειώστε και πάλι ότι επιστρέφουμε μια πλειάδα η οποία έχει μόνο ένα στοιχείο γιατι κάνουμε μονο κριτηριακή βελτιστοποίηση.\n",
        "\n",
        "Προχωράμε στον ορισμό της εργαλειοθήκης για το πρόβλημα:"
      ]
    },
    {
      "cell_type": "code",
      "metadata": {
        "id": "lZqIxCx8H2cb"
      },
      "source": [
        "toolbox.register(\"evaluate\", evalOneMax)\n",
        "toolbox.register(\"mate\", tools.cxTwoPoint)\n",
        "toolbox.register(\"mutate\", tools.mutFlipBit, indpb=0.10)\n",
        "toolbox.register(\"select\", tools.selTournament, tournsize=3)"
      ],
      "execution_count": null,
      "outputs": []
    },
    {
      "cell_type": "markdown",
      "metadata": {
        "id": "PN6e2nHOH2ci"
      },
      "source": [
        "Στην πρώτη γραμμή εγγράφουμε ως συνάρτηση καταλληλότητας \"evaluate\" την `evalOneMax` που εμείς ορίσαμε προηγουμένως. \n",
        "\n",
        "Στη συνέχεια εγγράφουμε ως \"mate\" τον τελεστή διασταύρωσης `cxTwoPoint` που κάνει διασταύρωση σε δύο σημεία. \n",
        "\n",
        "Στη συνέχεια ορίζουμε ως τελεστή μετάλλαξης \"mutate\" την αντιστροφή bit `mutFlipBit`. Προσοχή, η παράμετρος indpb (independent probability) δεν είναι η πιθανότητα μετάλλαξης ενός ατόμου (mutation probability) αλλά η πιθανότητα του κάθε bit χωριστά να υποστεί μετάλλαξη, εφόσον επιλεχθεί για μετάλλαξη το άτομο. Στη συγκεκριμένη περίπτωση περιμένουμε να αλλάξει το 10% των bits. \n",
        "\n",
        "\n",
        "Τέλος επιλέγουμε εγγράφουμε τον τελεστή επιλογής \"select\" που χρησιμοποιεί την `selTournament` με μέγεθος διοργάνωσης 3. Αυτό σημαίνει ότι διαλέγουμε 3 τυχαία άτομα του πληθυσμού, τα συγκρίνουμε και κρατάμε το καλύτερο (ένας ακόμη τρόπος να υλοποιήσουμε το survival of the fittest). Γενικά η selTournament επιστρέφει αναφορές (references) και όχι τα ίδια τα άτομα (θα μας χρειαστεί αργότερα).\n",
        "\n",
        "Μπορείτε να δείτε όλους τους τελεστές στο [tools library reference](http://deap.readthedocs.io/en/master/api/tools.html) της DEAP.\n",
        "\n",
        "Σημειώστε ότι οι τελεστές εκτελούνται inplace στα άτομα στα οποία καλούνται:"
      ]
    },
    {
      "cell_type": "code",
      "metadata": {
        "id": "sC-VJXwPH2cl"
      },
      "source": [
        "ind = toolbox.individual()\n",
        "print(ind)\n",
        "toolbox.mutate(ind)\n",
        "print(ind)"
      ],
      "execution_count": null,
      "outputs": []
    },
    {
      "cell_type": "markdown",
      "metadata": {
        "id": "Rbx2QtktH2cu"
      },
      "source": [
        "Που σημαίνει ότι αν ένα άτομο δεν αντιγραφεί πρωτού το τροποποιήσουμε η αρχική του τιμή χάνεται. Η αντιγραφή γίνεται με την `clone`. Σημειώστε επίσης ότι δύο αντικείμενα είναι διαφορετικά ακόμα και αν έχουν ίδια χρωμοσώματα."
      ]
    },
    {
      "cell_type": "code",
      "metadata": {
        "id": "uSg6ajE9H2cx"
      },
      "source": [
        "mutant = toolbox.clone(ind)\n",
        "print(mutant is ind)\n",
        "print(mutant == ind)\n",
        "# o mutant δεν είναι το ίδιο άτομο με τον ind αλλά έχει το ίδιο χρωμόσωμα"
      ],
      "execution_count": null,
      "outputs": []
    },
    {
      "cell_type": "markdown",
      "metadata": {
        "id": "YLpianfQH2c2"
      },
      "source": [
        "Μπορούμε πλέον πολύ απλά να τρέξουμε τον βασικό γενετικό αλγόριθμο `eaSimple` με import από το [algorithms](http://deap.readthedocs.io/en/master/api/algo.html) του DEAP. Θα αρχικόποιήσουμε έναν πληθυσμό n ατόμων, και θα τρέξουμε την eaSimple ορίζοντας πιθανότητες διασταύρωσης (cxpb), μετάλλαξης (mutpb) καθώς και τον αριθμό των γενεών (ngen). Τέλος θα τυπώσουμε το καλύτερο άτομο του τελικού πληθυσμού με την `selBest`"
      ]
    },
    {
      "cell_type": "code",
      "metadata": {
        "id": "ZqKka1hhH2c4"
      },
      "source": [
        "from deap import algorithms\n",
        "if __name__ == \"__main__\":\n",
        "    pop = toolbox.population(n=300)\n",
        "    algorithms.eaSimple(pop, toolbox, cxpb=0.5, mutpb=0.2, ngen=50, verbose=False)\n",
        "    print(tools.selBest(pop, k=1))"
      ],
      "execution_count": null,
      "outputs": []
    },
    {
      "cell_type": "markdown",
      "metadata": {
        "id": "-iZn1IJVH2dC"
      },
      "source": [
        "Το `if __name__ == \"__main__\":` επιτρέπει την εκτέλεση του κώδικα που το ακολουθεί μόνο όταν το script (εδώ το notebook) είναι η κυρίως ρουτίνα που εκτελείται και που ονομάζεται αυτόματα \"\\_\\_main\\_\\_\". Αυτό διασφαλίζει ότι σε παραλληλία η κυρίως συνάρτηση δεν θα τρέξει από διεργασίες-παιδιά. \n",
        "\n",
        "Προκειμένου να έχουμε καλύτερη εικόνα της συμπεριφοράς του αλγόριθμου θα ξαναγράψουμε το κυρίως πρόγραμμα ως εξής:"
      ]
    },
    {
      "cell_type": "code",
      "metadata": {
        "id": "yoSNTPHCH2dE"
      },
      "source": [
        "def ea_with_stats():\n",
        "    import numpy\n",
        "    \n",
        "    pop = toolbox.population(n=300)\n",
        "    hof = tools.HallOfFame(1)\n",
        "    stats = tools.Statistics(lambda ind: ind.fitness.values)\n",
        "    stats.register(\"avg\", numpy.mean)\n",
        "    stats.register(\"min\", numpy.min)\n",
        "    stats.register(\"max\", numpy.max)\n",
        "    \n",
        "    pop, logbook = algorithms.eaSimple(pop, toolbox, cxpb=0.5, mutpb=0.2, ngen=40, stats=stats, halloffame=hof, verbose=True)\n",
        "    \n",
        "    return pop, logbook, hof"
      ],
      "execution_count": null,
      "outputs": []
    },
    {
      "cell_type": "markdown",
      "metadata": {
        "id": "i91d0q1qH2dI"
      },
      "source": [
        "Η `HallofFame` κρατάει τα k καλύτερα άτομα που έχουν εμφανιστεί οποιαδήποτε στιγμή μέσα στον πληθυσμό. Την αρχικοποιούμε ως \"hof\"\n",
        "\n",
        "H `Statistics` υπολογίζει στατιστικά για μια οποιαδήποτε λίστα αντικειμένων. Εδώ, για κάθε πληθυσμό, θα χρησιμοποιήσουμε τη λίστα με της τιμές καταλληλότητας όλων των ατόμων του πληθυσμού και θα την αρχικοποιήσουμε ως \"stats\".  Στη συνέχεια θα εγράψουμε στη stats τρεις αριθμητικες πράξεις (μέσω της numpy) που θα εκτελούνται στη λίστα με τις καταλληλότητες των ατόμων: μέση, ελάχιστη και μέγιστη τιμή της καταλληλότητας του πληθυσμού.\n",
        "\n",
        "Τα επιπλέον ορίσματα στην eaSimple λειτουργούν ως εξής:\n",
        "- το stats=stats ορίζει ποια στατιστικά θα υπολογίζονται σε κάθε γενιά\n",
        "- το halloffame=hof το αντικείμενο HallOfFame που θα αποθηκεύεται το τυχόν συνολικά βέλτιστο άτομο\n",
        "- το verbose=True θα τυπώνει στην οθόνη τον αριθμό της γενιάς, τον αριθμό αποτιμήσεων καταλληλότητας που χρειάστηκε να γίνουν και στη συνέχεια τα στατιστικά της \"stats\". Σημειώστε ότι μετά την αρχικοποίηση η αποτίμηση καταλληλότητας γίνεται μόνο για άτομα που έχουν υποστεί αλλαγή.\n",
        "\n",
        "Τέλος με την έξοδο pop, logbook η eaSimple μας επιστρέφει τον τελικό πληθυσμό και το αντικείμενο logbook που περιέχει τις στατιστικές που έχουμε ορίσει για όλες τις γενιές.\n",
        "\n",
        "Μπορείτε να δείτε όλες τις παραπάνω συναρτήσεις στο [library reference](http://deap.readthedocs.io/en/master/api/index.html)\n",
        "\n",
        "Στο επόμενο μπλοκ τρέχουμε προστατευμένη την ea_with_stats, τυπώνουμε το καλύτερο άτομο και χρησιμοποιόντας το logbook \"log\" τυπώνουμε την εξέλιξη των τριών μετρικών (avg, min, max) ως συνάρτηση των διαδοχικών γενεών. "
      ]
    },
    {
      "cell_type": "code",
      "metadata": {
        "scrolled": true,
        "id": "phgRSeALH2dK"
      },
      "source": [
        "if __name__ == \"__main__\":\n",
        "    pop, log, hof = ea_with_stats()\n",
        "    print(\"Best individual is: %s\\nwith fitness: %s\" % (hof[0], hof[0].fitness))\n",
        "    \n",
        "    %matplotlib inline\n",
        "    import matplotlib.pyplot as plt\n",
        "    gen, avg, min_, max_ = log.select(\"gen\", \"avg\", \"min\", \"max\")\n",
        "    plt.plot(gen, avg, label=\"average\")\n",
        "    plt.plot(gen, min_, label=\"minimum\")\n",
        "    plt.plot(gen, max_, label=\"maximum\")\n",
        "    plt.xlabel(\"Generation\")\n",
        "    plt.ylabel(\"Fitness\")\n",
        "    plt.legend(loc=\"lower right\")\n",
        "    plt.show()"
      ],
      "execution_count": null,
      "outputs": []
    },
    {
      "cell_type": "markdown",
      "metadata": {
        "id": "PmIG9slcH2dP"
      },
      "source": [
        "Μπορούμε επίσης αντί να χρησιμοποιήσουμε τους έτοιμους αλγόριθμους της algorithms να δημιουργήσουμε το δικό μας γενετικό αλγόριθμο που θα χρησιμοποιεί τους τελεστές που έχουμε ορίσει. Αυτό μας δίνει τη δυνατότητα να ελέγχουμε λεπτομερώς τη λειτουργία του αλγόριθμου."
      ]
    },
    {
      "cell_type": "code",
      "metadata": {
        "id": "kLadvtTuH2dR"
      },
      "source": [
        "def ea_manual():\n",
        "\n",
        "    pop = toolbox.population(n=300)\n",
        "\n",
        "    # όριζουμε τις πιθανότητες διασταύρωσης CXPB και μετάλλαξης MUTPB\n",
        "    CXPB, MUTPB = 0.5, 0.2\n",
        "    \n",
        "    # υπολογίζουμε τη λίστα καταλληλότητας για όλο τον πληθυσμό\n",
        "    fitnesses = list(map(toolbox.evaluate, pop))\n",
        "    # στη manual εφαρμογή πρέπει εμείς να ενημερώνουμε τα fitness.values των ατόμων\n",
        "    for ind, fit in zip(pop, fitnesses):\n",
        "        ind.fitness.values = fit\n",
        "    \n",
        "    # εξάγουμε το fitness ως scalar (το πρώτο χαρακτηριστικό της πλειάδας) σε μία λίστα\n",
        "    fits = [ind.fitness.values[0] for ind in pop]\n",
        "\n",
        "    # θα πρέπει επίσης να παρακολουθούμε εμείς τον αριθμό των γενεών\n",
        "    g = 0\n",
        "        \n",
        "    # ξεκινάμε την εξέλιξη. Θα χρησιμοποιήσουμε δύο κριτήρια τερματισμού:\n",
        "    while max(fits) < 100 and g < 100:\n",
        "        # A new generation\n",
        "        g = g + 1\n",
        "                \n",
        "        # Επιτελούμε φυσική επιλογή (επιστρέφονται αναφορές) τόσες φορές όσες ο πληθυσμός μας\n",
        "        offspring = toolbox.select(pop, len(pop))\n",
        "        # Χρησιμοποιώντας τις αναφορές δημιουργούμε μια νέα γενιά ατόμων (λίστα)\n",
        "        offspring = list(map(toolbox.clone, offspring))\n",
        "    \n",
        "        # Εφαρμόζουμε τους τελεστές διασταύρωσης και μετάλλαξης\n",
        "        for child1, child2 in zip(offspring[::2], offspring[1::2]):\n",
        "        # [::2] παίρνουμε κάθε δεύτερο στοιχειο (ζυγά)\n",
        "        # [1::2] παίρνουμε το στοιχείο 1 και μετά κάθε δεύτερο στοιχείο (μονά)\n",
        "            # διασταύρωση με πιθανότητα CXPB\n",
        "            if random.random() < CXPB:\n",
        "                toolbox.mate(child1, child2)\n",
        "\n",
        "                # διαγράφουμε τις τιμές του fitness όσων έχουν υποστεί διασταύρωση\n",
        "                # για να τις υπολογίσουμε αργότερα\n",
        "                del child1.fitness.values\n",
        "                del child2.fitness.values\n",
        "\n",
        "        for mutant in offspring:\n",
        "\n",
        "            # μετάλλαξη με πιθανότητα MUTPB\n",
        "            if random.random() < MUTPB:\n",
        "                toolbox.mutate(mutant)\n",
        "                # διαγράφουμε τις τιμες του fitness όσων έχουν υποστεί μετάλλαξη\n",
        "                del mutant.fitness.values\n",
        "    \n",
        "        # Θα επιλέξουμε ως invalid_ind τα άτομα που δεν έχουν τιμή fitness (που τη σβήσαμε πριν)\n",
        "        # Με αυτό τον τρόπο υπολογίζουμε την καταλληλότητα μόνο στα καινούρια χρωμοσώματα\n",
        "        invalid_ind = [ind for ind in offspring if not ind.fitness.valid]\n",
        "        fitnesses = map(toolbox.evaluate, invalid_ind)\n",
        "        for ind, fit in zip(invalid_ind, fitnesses):\n",
        "            ind.fitness.values = fit\n",
        "        \n",
        "        # αντικαθιστούμε τον πληθυσμό με τη νέα γενιά\n",
        "        pop[:] = offspring\n",
        "        \n",
        "        # εξάγουμε το fitness κάθε ατόμου ως scalar (το πρώτο χαρακτηριστικό της πλειάδας) σε μία λίστα\n",
        "        fits = [ind.fitness.values[0] for ind in pop]\n",
        "        \n",
        "        # υπολογίζουμε και τυπώνουμε τα στατιστικά κάθε γενιάς\n",
        "        length = len(pop)\n",
        "        mean = sum(fits) / length\n",
        "        print(\"Gen %i\" % g, \"Evals %i\" % len(invalid_ind), \"  Avg %.4f\" % mean, \"  Min %s\" % min(fits), \"  Max %s\" % max(fits))\n",
        "    \n",
        "    # επιλέγουμε και τυπώνουμε το καλύτερο άτομο του τελικού πληθυσμού\n",
        "    best_ind = tools.selBest(pop, 1)[0]\n",
        "    print(\"Best individual is %s, %s\" % (best_ind, best_ind.fitness.values))\n",
        "\n",
        "if __name__ == \"__main__\":\n",
        "    ea_manual()"
      ],
      "execution_count": null,
      "outputs": []
    },
    {
      "cell_type": "markdown",
      "metadata": {
        "id": "q_RIWYe6H2dV"
      },
      "source": [
        "# Παράδειγμα 2: Συναρτήσεις πολλών συνεχών μεταβλητών και περιορισμοί\n",
        "\n",
        "Έστω ότι θέλουμε να ελαχιστοποιήσουμε τη συνάρτηση 5 μεταβλητών:\n",
        "\n",
        "$$f(x_1,x_2,x_3,x_4,x_5) = -5sin(x_1)sin(x_2)sin(x_3)sin(x_4)sin(x_5) – sin(5x_1)sin(5x_2)sin(x_3)sin(5x_4)sin(5x_5)$$\n",
        "\n",
        "με τον περιορισμό $x_i \\in [0,\\pi], \\forall i$. \n",
        "\n",
        "\"Γνωρίζουμε\" ότι το ολικό ελάχιστο στο διάστημα αυτό είναι $-6$ και το επιτυγχάνουμε για $x_1=x_2=x_3=x_4=x_5=\\pi/2$. \n",
        "\n",
        "Κατα τα γνωστά δημιουργούμε μια συνάρτηση καταλληλότητας προς ελαχιστοποίηση και τις κλάσεις των ατόμων και του πληθυσμού."
      ]
    },
    {
      "cell_type": "code",
      "metadata": {
        "id": "OD1DUxJ0H2dW"
      },
      "source": [
        "import numpy as np\n",
        "from math import sin, pi\n",
        "\n",
        "numVariables = 5 \n",
        "\n",
        "creator.create( \"FitnessMin\", base.Fitness , weights=(-1.0,))\n",
        "creator.create( \"IndividualContainer\", list , fitness= creator.FitnessMin)\n",
        "toolbox2 = base.Toolbox()\n",
        "toolbox2.register( \"InitialValue\", np.random.uniform, 0, pi)\n",
        "toolbox2.register( \"indiv\", tools.initRepeat, creator.IndividualContainer, toolbox2.InitialValue, numVariables)\n",
        "toolbox2.register( \"population\", tools.initRepeat, list , toolbox2.indiv)\n",
        "\n",
        "def evalSinFunc( indiv ):\n",
        "    sum= -5*sin( indiv [0])*sin( indiv [1])*sin( indiv [2])*sin( indiv [3])*sin( indiv [4]) - sin( indiv [0]*5)*sin( indiv [1]*5)*sin( indiv [2])*sin( indiv [3]*5)*sin( indiv [4]*5)\n",
        "    return (sum,)"
      ],
      "execution_count": null,
      "outputs": []
    },
    {
      "cell_type": "code",
      "metadata": {
        "scrolled": true,
        "id": "HHn6-yucH2db"
      },
      "source": [
        "ind = toolbox2.indiv()\n",
        "print(ind)"
      ],
      "execution_count": null,
      "outputs": []
    },
    {
      "cell_type": "markdown",
      "metadata": {
        "id": "VhTP0VcOH2df"
      },
      "source": [
        "Ο βασικός τρόπος για να επιβάλουμε περιορισμούς είναι να επιβάλουμε μια ποινή στην τιμή της καταλληλότητας στα άτομα που είναι εκτός των ορίων που έχουμε θέσει. \n",
        "\n",
        "Αρχικά ορίζουμε δύο συναρτήσεις, τη \"feasible\" που μας επιστρέφει True αν όλα τα $x_i$ είναι εντός του διαστήματος και False αλλιώς και την \"distance\" που μας ποσοτικοποιεί πόσο εκτός ορίων είναι ένα άτομο. Συγκεκριμένα επιλέγουμε η απόσταση να είναι το απόλυτο άθροισμα σε όλες τις διαστάσεις της απόστασης από το όριο. Θα μπορούσαμε να κάνουμε και άλλες επιλογές όπως πχ να χρησιμοποιήσουμε μια τετραγωνική συνάρτηση της απόστασης."
      ]
    },
    {
      "cell_type": "code",
      "metadata": {
        "id": "dGymJkC2H2dg"
      },
      "source": [
        "MIN_BOUND = np.array([0]*numVariables)\n",
        "MAX_BOUND = np.array([pi]*numVariables)\n",
        "\n",
        "def feasible( indiv ):\n",
        "    if any( indiv < MIN_BOUND) or any( indiv > MAX_BOUND):\n",
        "        return False\n",
        "    return True\n",
        "\n",
        "def distance( indiv ) :\n",
        "    dist = 0.0\n",
        "    for i in range (len( indiv )) :\n",
        "        penalty = 0\n",
        "        if ( indiv [i] < MIN_BOUND[i]) : penalty = 0 - indiv [i]\n",
        "        if ( indiv [i] > MAX_BOUND[i]) : penalty = indiv [i] - pi\n",
        "        dist = dist + penalty\n",
        "    return dist"
      ],
      "execution_count": null,
      "outputs": []
    },
    {
      "cell_type": "markdown",
      "metadata": {
        "id": "V-lHWut7H2dj"
      },
      "source": [
        "Μια πολύ χρήσιμη μέθοδος που διαθέτει η Python και η DEAP είναι η διακόσμηση συναρτήσεων μέσω διακοσμητών (decorators). Πρόκειται για τη δυνατότητα να τροποποιούμε τη συμπεριφορά μιας συνάρτησης χωρίς να μεταβάλουμε τον κώδικά της αλλά επιτυγχάνοντάς το μέσω μιας άλλης συνάρτησης (του decorator). Για το DEAP για να διακοσμήσουμε μια συνάρτηση πρέπει να είναι εγγεγραμμένη στο toolbox. Εδώ θα τροποποιήσουμε τη συνάρτηση καταλληλότητας `evalSinFunv` με την builtin `DeltaPenality`:"
      ]
    },
    {
      "cell_type": "code",
      "metadata": {
        "id": "CmgpFDhgH2dl"
      },
      "source": [
        "toolbox2.register( \"evaluate\", evalSinFunc)\n",
        "toolbox2.decorate( \"evaluate\", tools.DeltaPenality (feasible, 7.0, distance))"
      ],
      "execution_count": null,
      "outputs": []
    },
    {
      "cell_type": "markdown",
      "metadata": {
        "id": "P514ZHJoH2ds"
      },
      "source": [
        "Η DeltaPenality ή ποινή-Δ απαιτεί τουλάχιστον δύο ορίσματα. Το πρώτο πρέπει να επιστρέφει αν ένα άτομο είναι έγκυρο ή όχι, σύμφωνα με τα όρια που έχουμε θέσει. Εμείς θα χρησιμοποιήσουμε τη \"feasible\" που ορίσαμε γι' αυτό το λόγο. Το δεύτερο όρισμα είναι η σταθερά Δ, δηλαδή η σταθερή ποινή που θα προστεθεί (σε πρόβλημα ελαχιστοποίησης) ή αφαιρεθεί (σε πρόβλημα μεγιστοποίησης) στην τιμή καταλληλότητας ενός ατόμου που είναι εκτός των ορίων που θέλουμε. Ο τρίτος όρος είναι μια επιπλέον ποινή που μπορεί να εφαρμοστεί και που συνήθως την ορίζουμε να είναι ανάλογη του κατά πόσο είναι εκτός ορίων ένα άτομο.Συνολικά δηλαδή θα έχουμε: \n",
        "$$f_i^\\mathrm{penalty}(\\mathbf{x}) = \\Delta - w_i d_i(\\mathbf{x})$$\n",
        "Θυμηθείτε ότι στο μονο-κριτηριακό ($i=1$) πρόβλημα ελαχιστοποίησης μας έχουμε θέσει $w_1=-1.0$ (μπορούμε να αντιληφθούμε ήδη πως μέσω της συνάρτησης ποινής Δ θα μπορούμε να λαμβάνουμε υπόψη διαφορετικά βάρη στα κριτήρια μιας πολυ-κριτηριακής βελτιστοποίησης). Εδώ θα χρησιμοποιήσουμε την \"distance\" που ορίσαμε προηγουμένως. Μπορείτε να δείτε περισσότερα παραδείγματα υλποίησης περιορισμών [εδώ](http://deap.readthedocs.io/en/master/tutorials/advanced/constraints.html). \n",
        "\n",
        "Εφόσον έχουμε πραγματικούς αριθμούς θα χρησιμοποιήσουμε ένα διαφορετικό τελεστή διασταύρωσης, τον `cxBlend` που ανακατεύει το γενετικό υλικό των γονέων $x_1$ και $x_2$ σε κάθε διάσταση $i$ με τυχαίο τρόπο και ανάλογο της παραμέτρου $\\alpha$: \n",
        "\n",
        "$\\gamma = (1 + 2 \\cdot \\alpha) \\cdot  random() - \\alpha\\\\\n",
        "ind1[i] = (1 - gamma) \\cdot x_1[i] + gamma \\cdot x_2[i]\\\\\n",
        "ind2[i] = gamma \\cdot x_1[i] + (1 - gamma) \\cdot x_2[i]$"
      ]
    },
    {
      "cell_type": "code",
      "metadata": {
        "id": "CwAEci0KH2dv"
      },
      "source": [
        "def my_cx(ind1 , ind2 ):\n",
        "    alpha = 0.5\n",
        "    (ind1, ind2) = tools.cxBlend(ind1, ind2, alpha)\n",
        "    return ind1 , ind2"
      ],
      "execution_count": null,
      "outputs": []
    },
    {
      "cell_type": "code",
      "metadata": {
        "id": "6liQEJMlH2dz"
      },
      "source": [
        "toolbox2.register( \"mate\", my_cx)\n",
        "# επιλέγουμε κέντρο της γκαουσιανής τη μέση του διαστήματος\n",
        "toolbox2.register( \"mutate\", tools.mutGaussian, mu = 0.5 * pi/2, sigma=1.0, indpb=0.05)\n",
        "toolbox2.register( \"select\", tools.selTournament, tournsize=3)"
      ],
      "execution_count": null,
      "outputs": []
    },
    {
      "cell_type": "code",
      "metadata": {
        "id": "6Mt04t0oH2d1"
      },
      "source": [
        "def ea2_with_stats():\n",
        "    import numpy\n",
        "      \n",
        "    pop = toolbox2.population(n=200)\n",
        "    hof = tools.HallOfFame(1)\n",
        "    stats = tools.Statistics(lambda ind: ind.fitness.values)\n",
        "    stats.register(\"avg\", numpy.mean)\n",
        "    stats.register(\"min\", numpy.min)\n",
        "    stats.register(\"max\", numpy.max)\n",
        "    \n",
        "    pop, logbook = algorithms.eaSimple(pop, toolbox2, cxpb=0.5, mutpb=0.2, ngen=30, stats=stats, halloffame=hof, verbose=True)\n",
        "    \n",
        "    return pop, logbook, hof"
      ],
      "execution_count": null,
      "outputs": []
    },
    {
      "cell_type": "code",
      "metadata": {
        "id": "hzDqP1p5H2d4"
      },
      "source": [
        "if __name__ == \"__main__\":\n",
        "    pop, log, hof = ea2_with_stats()\n",
        "    print(\"Best individual is: %s\\nwith fitness: %s\" % (hof[0], hof[0].fitness))"
      ],
      "execution_count": null,
      "outputs": []
    }
  ]
}