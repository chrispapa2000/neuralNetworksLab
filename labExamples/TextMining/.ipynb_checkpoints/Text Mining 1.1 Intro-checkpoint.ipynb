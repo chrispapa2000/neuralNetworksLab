{
 "cells": [
  {
   "cell_type": "code",
   "execution_count": 1,
   "metadata": {
    "colab": {
     "base_uri": "https://localhost:8080/",
     "height": 800
    },
    "executionInfo": {
     "elapsed": 43701,
     "status": "ok",
     "timestamp": 1668433051424,
     "user": {
      "displayName": "Giorgos Siolas",
      "userId": "10127542075805046236"
     },
     "user_tz": -120
    },
    "id": "QJNKuWwUYzsJ",
    "outputId": "d35a1cf7-1b46-433a-bac1-c46fc5258b7f"
   },
   "outputs": [
    {
     "name": "stdout",
     "output_type": "stream",
     "text": [
      "Looking in indexes: https://pypi.org/simple, https://us-python.pkg.dev/colab-wheels/public/simple/\n",
      "Requirement already satisfied: scikit-learn in /usr/local/lib/python3.7/dist-packages (1.0.2)\n",
      "Requirement already satisfied: scipy>=1.1.0 in /usr/local/lib/python3.7/dist-packages (from scikit-learn) (1.7.3)\n",
      "Requirement already satisfied: threadpoolctl>=2.0.0 in /usr/local/lib/python3.7/dist-packages (from scikit-learn) (3.1.0)\n",
      "Requirement already satisfied: numpy>=1.14.6 in /usr/local/lib/python3.7/dist-packages (from scikit-learn) (1.21.6)\n",
      "Requirement already satisfied: joblib>=0.11 in /usr/local/lib/python3.7/dist-packages (from scikit-learn) (1.2.0)\n",
      "Looking in indexes: https://pypi.org/simple, https://us-python.pkg.dev/colab-wheels/public/simple/\n",
      "Requirement already satisfied: numpy in /usr/local/lib/python3.7/dist-packages (1.21.6)\n",
      "Looking in indexes: https://pypi.org/simple, https://us-python.pkg.dev/colab-wheels/public/simple/\n",
      "Requirement already satisfied: scipy in /usr/local/lib/python3.7/dist-packages (1.7.3)\n",
      "Requirement already satisfied: numpy<1.23.0,>=1.16.5 in /usr/local/lib/python3.7/dist-packages (from scipy) (1.21.6)\n",
      "Looking in indexes: https://pypi.org/simple, https://us-python.pkg.dev/colab-wheels/public/simple/\n",
      "Requirement already satisfied: nltk in /usr/local/lib/python3.7/dist-packages (3.7)\n",
      "Requirement already satisfied: regex>=2021.8.3 in /usr/local/lib/python3.7/dist-packages (from nltk) (2022.6.2)\n",
      "Requirement already satisfied: tqdm in /usr/local/lib/python3.7/dist-packages (from nltk) (4.64.1)\n",
      "Requirement already satisfied: joblib in /usr/local/lib/python3.7/dist-packages (from nltk) (1.2.0)\n",
      "Requirement already satisfied: click in /usr/local/lib/python3.7/dist-packages (from nltk) (7.1.2)\n",
      "Looking in indexes: https://pypi.org/simple, https://us-python.pkg.dev/colab-wheels/public/simple/\n",
      "Requirement already satisfied: matplotlib in /usr/local/lib/python3.7/dist-packages (3.2.2)\n",
      "Collecting matplotlib\n",
      "  Downloading matplotlib-3.5.3-cp37-cp37m-manylinux_2_5_x86_64.manylinux1_x86_64.whl (11.2 MB)\n",
      "\u001b[K     |████████████████████████████████| 11.2 MB 4.2 MB/s \n",
      "\u001b[?25hRequirement already satisfied: kiwisolver>=1.0.1 in /usr/local/lib/python3.7/dist-packages (from matplotlib) (1.4.4)\n",
      "Requirement already satisfied: pillow>=6.2.0 in /usr/local/lib/python3.7/dist-packages (from matplotlib) (7.1.2)\n",
      "Collecting fonttools>=4.22.0\n",
      "  Downloading fonttools-4.38.0-py3-none-any.whl (965 kB)\n",
      "\u001b[K     |████████████████████████████████| 965 kB 52.8 MB/s \n",
      "\u001b[?25hRequirement already satisfied: pyparsing>=2.2.1 in /usr/local/lib/python3.7/dist-packages (from matplotlib) (3.0.9)\n",
      "Requirement already satisfied: packaging>=20.0 in /usr/local/lib/python3.7/dist-packages (from matplotlib) (21.3)\n",
      "Requirement already satisfied: numpy>=1.17 in /usr/local/lib/python3.7/dist-packages (from matplotlib) (1.21.6)\n",
      "Requirement already satisfied: cycler>=0.10 in /usr/local/lib/python3.7/dist-packages (from matplotlib) (0.11.0)\n",
      "Requirement already satisfied: python-dateutil>=2.7 in /usr/local/lib/python3.7/dist-packages (from matplotlib) (2.8.2)\n",
      "Requirement already satisfied: typing-extensions in /usr/local/lib/python3.7/dist-packages (from kiwisolver>=1.0.1->matplotlib) (4.1.1)\n",
      "Requirement already satisfied: six>=1.5 in /usr/local/lib/python3.7/dist-packages (from python-dateutil>=2.7->matplotlib) (1.15.0)\n",
      "Installing collected packages: fonttools, matplotlib\n",
      "  Attempting uninstall: matplotlib\n",
      "    Found existing installation: matplotlib 3.2.2\n",
      "    Uninstalling matplotlib-3.2.2:\n",
      "      Successfully uninstalled matplotlib-3.2.2\n",
      "Successfully installed fonttools-4.38.0 matplotlib-3.5.3\n"
     ]
    },
    {
     "data": {
      "application/vnd.colab-display-data+json": {
       "pip_warning": {
        "packages": [
         "matplotlib",
         "mpl_toolkits"
        ]
       }
      }
     },
     "metadata": {},
     "output_type": "display_data"
    }
   ],
   "source": [
    "!pip install --upgrade scikit-learn\n",
    "!pip install --upgrade numpy\n",
    "!pip install --upgrade scipy\n",
    "!pip install --upgrade nltk\n",
    "!pip install --upgrade matplotlib\n",
    "%matplotlib inline"
   ]
  },
  {
   "cell_type": "markdown",
   "metadata": {
    "id": "j3AJwwzFsa6f"
   },
   "source": [
    "\n",
    "# Εξόρυξη κειμένου (Text Mining)\n",
    "\n",
    "To Text Mining είναι ένα σύνολο αυτόματων (μηχανικών) τεχνικών που στοχεύουν στην εξαγωγή υψηλής ποιότητας πληροφορίας από κειμενική πληροφορία. Ο ασυμπτωτικός ορίζοντας του text mining είναι η συνολική σημασιολογική κατανόηση του ανθρώπινου λόγου, κάτι όμως που ανήκει στους δύσκολους στόχους της λεγόμενης **Ισχυρής Τεχνητής Νοημοσύνης** (*Strong AI*). Στο δρόμο για την επίτευξη αυτού του στόχου η έρευνα στο text mining επικεντρώνεται σε μια σειρά πιο συγκεκριμένων και άρα περισσότερο προσιτών στόχων - tasks (*Weak AI*) όπως (μεταξύ άλλων):\n",
    "- **Κατηγοριοποίηση κειμένων** (*text categorization*) - Ταξινόμηση με βάση το περιεχόμενο σε συγκεκριμένες θεματικές κατηγορίες\n",
    "- **Συσταδοποίηση** (*text clustering*) - Συσταδοποίηση \"κοντινών\" σημασιολογικά κειμένων\n",
    "- **Εξαγωγή θεμάτων** (*topic extraction*) - Ανακάλυψη των θεμάτων που περιέχει ένα κείμενο\n",
    "- **Εξαγωγή εννοιών και οντοτήτων** (*concept/entity extraction*) - Σε ποιες έννοιες και οντότητες του φυσικού κόσμου αναφέρεται το κείμενο.\n",
    "- **Ανάλυση συναισθήματος** (*sentiment analysis*) - Χαρακτηρισμός του συναισθήματος\n",
    "- **Αυτόματη περίληψη** (*document summarization*) - Δημιουργία αυτόματης περίληψης\n",
    "- **Μοντελοποιηση σχέσεων μεταξύ οντοτήτων** (*entity relation modeling*) - Ποιες σχέσεις διέπουν τις οντότητες που εντοπίζονται εντός του κειμένου.\n",
    "- **Απάντηση ερωτήσεων** *(question answering*) - απάντηση ερώτησης και τα δύο σε φυσική γλώσσα\n",
    "\n",
    "\n",
    "Στην εξόρυξη κειμένου συνδυάζονται τεχνικές και προσεγγίσεις που προέρχονται από τη θεωρία της πληροφορίας και τη στατιστική, την αναγνώριση προτύπων, την εξόρυξη δεδομένων, τη μηχανική μάθηση, την ανάκτηση πληροφορίας, την επεξεργασία φυσικής γλώσσας (Natural Language Processing - NLP), τη γλωσσολογία, την αναπαράσταση γνώσεων, τις οντολογίες κ.α."
   ]
  },
  {
   "cell_type": "markdown",
   "metadata": {
    "id": "fmKJbF4UVJOL"
   },
   "source": [
    "Για την εξόρυξη κειμένου και την επεξεργασία φυσικής γλώσσας θα βασιστούμε στο [Natural Language Toolkit](http://www.nltk.org/) της Python\n",
    "\n",
    "Περισσότερα θα δείτε στο [nltk book](http://www.nltk.org/book/)"
   ]
  },
  {
   "cell_type": "code",
   "execution_count": 5,
   "metadata": {
    "executionInfo": {
     "elapsed": 1143,
     "status": "ok",
     "timestamp": 1668433739096,
     "user": {
      "displayName": "Giorgos Siolas",
      "userId": "10127542075805046236"
     },
     "user_tz": -120
    },
    "id": "64d0RcciVJOM"
   },
   "outputs": [],
   "source": [
    "import numpy as np\n",
    "import nltk"
   ]
  },
  {
   "cell_type": "markdown",
   "metadata": {
    "id": "a_RhBsaIVJOR"
   },
   "source": [
    "## Εισαγωγή κειμένων στο notebook\n",
    "\n",
    "\n",
    "Το NLTK από μόνο του έχει μόνο τις πολύ βασικές λειτουργίες. Για πιο σύνθετα πράγματα (τα οποία θα χρειαστούμε) χρειάζεται να κατεβάσουμε επιπλέον δυνατότητες της βιβλιοθήκης. Όταν τρέχουμε τοπικά την Python, αυτό μπορούμε να το κάνουμε μέσω της εντολής `nltk.download()`, η οποία ανοίγει ένα παράθυρο όπου επιλέγουμε ποιες λειτουργίες μας ενδιαφέρει να κατεβάσουμε. Σε κάποιες cloud πλατφόρμες αυτό δεν είναι δυνατό, γι' αυτό πρέπει να τα κατεβάζουμε ένα ένα τα επιπλέον πακέτα, όπως θα δούμε παρακάτω."
   ]
  },
  {
   "cell_type": "markdown",
   "metadata": {
    "id": "yoaSYPnWoL5C"
   },
   "source": [
    "\n",
    "\n",
    "### Από βιβλιοθήκες της Python\n",
    "\n",
    "Στα πλαίσια της άσκησης θα χρησιμοποιήσουμε το [reuters dataset](https://archive.ics.uci.edu/ml/datasets/reuters-21578+text+categorization+collection). \n",
    "\n",
    "Το σώμα (corpus) κειμένων Reuters περιέχει 10788 κείμενα ειδήσεων. Κάθε κείμενο (document) ανήκει σε μία ή περισσότερες από 90 θεματικές κατηγορίες ειδήσεων που έχουν να κάνουν κυρίως με εμπορικά και χρηματιστηριακά αγαθά και υπηρεσίες (πχ \"fuel\", \"cotton\", \"ship\" κλπ). To Reuters είναι ήδη χωρισμένο σε train και test set.\n",
    "Μπορούμε να εισάγουμε το Reuters μέσω του NLTK:\n"
   ]
  },
  {
   "cell_type": "code",
   "execution_count": 6,
   "metadata": {
    "colab": {
     "base_uri": "https://localhost:8080/"
    },
    "executionInfo": {
     "elapsed": 422,
     "status": "ok",
     "timestamp": 1668433741700,
     "user": {
      "displayName": "Giorgos Siolas",
      "userId": "10127542075805046236"
     },
     "user_tz": -120
    },
    "id": "RWZXceaPVJOR",
    "outputId": "a32c6628-ff0a-401b-f1b6-b28901a973a8"
   },
   "outputs": [
    {
     "name": "stderr",
     "output_type": "stream",
     "text": [
      "[nltk_data] Downloading package reuters to /root/nltk_data...\n",
      "[nltk_data]   Package reuters is already up-to-date!\n"
     ]
    }
   ],
   "source": [
    "nltk.download('reuters') # κατεβάζουμε το dataset\n",
    "\n",
    "from nltk.corpus import reuters # το κάνουμε import\n"
   ]
  },
  {
   "cell_type": "markdown",
   "metadata": {
    "id": "MK0sHMNDc9Br"
   },
   "source": [
    "\n",
    "και τυπώνουμε κάποια βασικά χαρακτηριστικά:\n",
    "\n"
   ]
  },
  {
   "cell_type": "code",
   "execution_count": 7,
   "metadata": {
    "colab": {
     "base_uri": "https://localhost:8080/"
    },
    "executionInfo": {
     "elapsed": 1794,
     "status": "ok",
     "timestamp": 1668433747032,
     "user": {
      "displayName": "Giorgos Siolas",
      "userId": "10127542075805046236"
     },
     "user_tz": -120
    },
    "id": "Yp4tsAJLclo6",
    "outputId": "b38489d2-cbb7-4151-d22b-089ef5b6c1de"
   },
   "outputs": [
    {
     "name": "stdout",
     "output_type": "stream",
     "text": [
      "10788 documents\n",
      "7769 total train documents\n",
      "3019 total test documents\n",
      "90 categories\n",
      "['acq', 'alum', 'barley', 'bop', 'carcass', 'castor-oil', 'cocoa', 'coconut', 'coconut-oil', 'coffee', 'copper', 'copra-cake', 'corn', 'cotton', 'cotton-oil', 'cpi', 'cpu', 'crude', 'dfl', 'dlr'] ...\n"
     ]
    }
   ],
   "source": [
    "def collection_stats():\n",
    "    # List of documents\n",
    "    documents = reuters.fileids()\n",
    "    print(str(len(documents)) + \" documents\");\n",
    " \n",
    "    train_docs = list(filter(lambda doc: doc.startswith(\"train\"),\n",
    "                        documents));\n",
    "    print(str(len(train_docs)) + \" total train documents\");\n",
    " \n",
    "    test_docs = list(filter(lambda doc: doc.startswith(\"test\"),\n",
    "                       documents));\n",
    "    print(str(len(test_docs)) + \" total test documents\");\n",
    " \n",
    "    # List of categories\n",
    "    categories = reuters.categories();\n",
    "    print(str(len(categories)) + \" categories\");\n",
    "\n",
    "collection_stats()\n",
    "print(reuters.categories()[:20], '...')"
   ]
  },
  {
   "cell_type": "markdown",
   "metadata": {
    "id": "T_qroRjPbhcS"
   },
   "source": [
    "Για ένα τυχαίο document μπορούμε να δούμε τις κατηγορίες που ανήκει και το ίδιο το κείμενο χρησιμοποιώντας το id του:"
   ]
  },
  {
   "cell_type": "code",
   "execution_count": 8,
   "metadata": {
    "colab": {
     "base_uri": "https://localhost:8080/"
    },
    "executionInfo": {
     "elapsed": 594,
     "status": "ok",
     "timestamp": 1668433752977,
     "user": {
      "displayName": "Giorgos Siolas",
      "userId": "10127542075805046236"
     },
     "user_tz": -120
    },
    "id": "TtI_Oqxsb8uJ",
    "outputId": "a0b46a54-e180-4112-c332-72a05586514c"
   },
   "outputs": [
    {
     "name": "stdout",
     "output_type": "stream",
     "text": [
      "Categories\n",
      "['money-fx']\n",
      "Document\n",
      "U.K. MONEY MARKET GETS 25 MLN STG LATE HELP\n",
      "  The Bank of England said it provided\n",
      "  about 25 mln stg in late help to the money market, bringing the\n",
      "  total assistance today to 266 mln stg.\n",
      "      This compares with the bank's revised estimate of a 350 mln\n",
      "  stg money market shortfall.\n",
      "  \n",
      "\n",
      "\n",
      "Categories\n",
      "['barley', 'corn', 'grain', 'wheat']\n",
      "Document\n",
      "FRENCH FREE MARKET CEREAL EXPORT BIDS DETAILED\n",
      "  French operators have requested licences\n",
      "  to export 675,500 tonnes of maize, 245,000 tonnes of barley,\n",
      "  22,000 tonnes of soft bread wheat and 20,000 tonnes of feed\n",
      "  wheat at today's European Community tender, traders said.\n",
      "      Rebates requested ranged from 127.75 to 132.50 European\n",
      "  Currency Units a tonne for maize, 136.00 to 141.00 Ecus a tonne\n",
      "  for barley and 134.25 to 141.81 Ecus for bread wheat, while\n",
      "  rebates requested for feed wheat were 137.65 Ecus, they said.\n",
      "  \n",
      "\n",
      "\n"
     ]
    }
   ],
   "source": [
    "def describe_doc(document_id):\n",
    "    # Raw categories\n",
    "    print(\"Categories\")\n",
    "    doc_categories = reuters.categories(document_id) \n",
    "    print(doc_categories)\n",
    "    # Raw document\n",
    "    print(\"Document\")\n",
    "    print(reuters.raw(document_id));\n",
    "\n",
    "doc_id = 'training/9880'\n",
    "describe_doc(doc_id)\n",
    "doc_id = 'training/9865'\n",
    "describe_doc(doc_id)\n"
   ]
  },
  {
   "cell_type": "markdown",
   "metadata": {
    "id": "yqg9kYW7moPW"
   },
   "source": [
    "Το Reuters χρησιμοποιείται συχνά για την μελέτη της απόδοσης αλγορίθμων Μηχανικής Μάθησης στην κατηγοριοποίηση ή ομάδοποιήση κειμένων."
   ]
  },
  {
   "cell_type": "markdown",
   "metadata": {
    "id": "kcNsEV60VJOd"
   },
   "source": [
    "### Από το internet"
   ]
  },
  {
   "cell_type": "code",
   "execution_count": 9,
   "metadata": {
    "colab": {
     "base_uri": "https://localhost:8080/"
    },
    "executionInfo": {
     "elapsed": 3296,
     "status": "ok",
     "timestamp": 1668433771673,
     "user": {
      "displayName": "Giorgos Siolas",
      "userId": "10127542075805046236"
     },
     "user_tz": -120
    },
    "id": "cMLHmozBVJOe",
    "outputId": "723a4f52-27de-4bc0-c641-a77c3ef46a94"
   },
   "outputs": [
    {
     "name": "stdout",
     "output_type": "stream",
     "text": [
      "b'_.\\r\\n\\r\\n  \\xe2\\x80\\x9cAnd what thing soever besides cometh within the chaos of this\\r\\n  monster\\xe2\\x80\\x99s mouth, be it beast, boat, or stone, down it goes all\\r\\n  incontinently that foul great swallow of his, and perisheth in the\\r\\n  bottomless gulf of his paunch.\\xe2\\x80\\x9d \\xe2\\x80\\x94_Holland\\xe2\\x80\\x99s Plutarch\\xe2\\x80\\x99s Morals_.\\r\\n\\r\\n  \\xe2\\x80\\x9cThe Indian Sea breedeth the most and the biggest fishes that are:\\r\\n  among which the Whales and Whirlpooles called Balaene, take up as\\r\\n  much in length as four acres or arpens of land.\\xe2\\x80\\x9d \\xe2\\x80\\x94_Holland\\xe2\\x80\\x99s Pliny_.\\r\\n\\r\\n  \\xe2\\x80\\x9cScarcely had we proceeded two days on the sea, when about sunrise a\\r\\n  great many Whales and other monsters of the sea, appeared. Among the\\r\\n  former, one was of a most monstrous size.... This came towards us,\\r\\n  open-mouthed, raising the waves on all sides, and beating the sea\\r\\n  before him into a foam.\\xe2\\x80\\x9d \\xe2\\x80\\x94_Tooke\\xe2\\x80\\x99s Lucian_. \\xe2\\x80\\x9c_The True History_.\\xe2\\x80\\x9d\\r\\n\\r\\n\\r\\n\\r\\n\\r\\n  \\xe2\\x80\\x9cHe visited this country also with a view of catching horse-whales,\\r\\n  which had bones of very great value for the'\n"
     ]
    }
   ],
   "source": [
    "import urllib\n",
    "\n",
    "# ορίζουμε το url που περιέχει το κείμενο (εδώ το Moby Dick)\n",
    "url = 'https://www.mirrorservice.org/sites/ftp.ibiblio.org/pub/docs/books/gutenberg/2/7/0/2701/2701-0.txt'\n",
    "\n",
    "with urllib.request.urlopen(url) as response:\n",
    "   raw = response.read()\n",
    "\n",
    "#τυπώνουμε ένα κομμάτι του κειμένου\n",
    "text_chunk=raw[10000:11000]\n",
    "print(text_chunk)"
   ]
  },
  {
   "cell_type": "markdown",
   "metadata": {
    "id": "sOIlekSrk7W4"
   },
   "source": [
    "Το κείμενο είναι σε κωδικοποίηση Unicode UTF-8. Θα το μετατρέψουμε σε εκτυπώσιμους χαρακτήρες."
   ]
  },
  {
   "cell_type": "code",
   "execution_count": 10,
   "metadata": {
    "colab": {
     "base_uri": "https://localhost:8080/"
    },
    "executionInfo": {
     "elapsed": 6,
     "status": "ok",
     "timestamp": 1668433772216,
     "user": {
      "displayName": "Giorgos Siolas",
      "userId": "10127542075805046236"
     },
     "user_tz": -120
    },
    "id": "lKb1lugrj9qU",
    "outputId": "1c7dd935-4ca7-4bd4-d52b-2986c823ceb8"
   },
   "outputs": [
    {
     "name": "stdout",
     "output_type": "stream",
     "text": [
      "_.\r\n",
      "\r\n",
      "  “And what thing soever besides cometh within the chaos of this\r\n",
      "  monster’s mouth, be it beast, boat, or stone, down it goes all\r\n",
      "  incontinently that foul great swallow of his, and perisheth in the\r\n",
      "  bottomless gulf of his paunch.” —_Holland’s Plutarch’s Morals_.\r\n",
      "\r\n",
      "  “The Indian Sea breedeth the most and the biggest fishes that are:\r\n",
      "  among which the Whales and Whirlpooles called Balaene, take up as\r\n",
      "  much in length as four acres or arpens of land.” —_Holland’s Pliny_.\r\n",
      "\r\n",
      "  “Scarcely had we proceeded two days on the sea, when about sunrise a\r\n",
      "  great many Whales and other monsters of the sea, appeared. Among the\r\n",
      "  former, one was of a most monstrous size.... This came towards us,\r\n",
      "  open-mouthed, raising the waves on all sides, and beating the sea\r\n",
      "  before him into a foam.” —_Tooke’s Lucian_. “_The True History_.”\r\n",
      "\r\n",
      "\r\n",
      "\r\n",
      "\r\n",
      "  “He visited this country also with a view of catching horse-whales,\r\n",
      "  which had bones of very great value for the\n"
     ]
    }
   ],
   "source": [
    "s = text_chunk.decode('utf-8')\n",
    "print(s)"
   ]
  },
  {
   "cell_type": "markdown",
   "metadata": {
    "id": "EKDKy_NMVJOh"
   },
   "source": [
    "### Από τοπικό αρχείο \n",
    "\n",
    "Έστω ότι έχω ένα αρχείο στον υπολογιστή μου με όνομα `mydoc.txt` (κατεβάστε ένα από [εδώ](https://drive.google.com/uc?export=download&id=1WF31UdA9kmM5vmqgtvjTxoW0hHi0CmAV)). Αυτό πρέπει πρώτα να το ανεβάσουμε στο περιβάλλον του notebook. Γενικά αυτή η διαδικασία διαφέρει από cloud σε cloud, οπότε ο παρακάτω κώδικας θα τρέξει μόνο σε περιβάλλον Google Colaboratory. Αντίστοιχες διαδικασίες ανεβάσματος αρχείου από τον τοπικό υπολογιστή υπάρχουν και για τα υπόλοιπα cloud που έχουμε δείξει."
   ]
  },
  {
   "cell_type": "code",
   "execution_count": 1,
   "metadata": {
    "colab": {
     "base_uri": "https://localhost:8080/",
     "height": 90
    },
    "executionInfo": {
     "elapsed": 6566,
     "status": "ok",
     "timestamp": 1668433673187,
     "user": {
      "displayName": "Giorgos Siolas",
      "userId": "10127542075805046236"
     },
     "user_tz": -120
    },
    "id": "drJ5uCxVnZDp",
    "outputId": "c6aa7745-99f2-4e8e-f8da-6d25264ddac3"
   },
   "outputs": [
    {
     "data": {
      "text/html": [
       "\n",
       "     <input type=\"file\" id=\"files-7dd07be8-1539-4947-8452-5ccd09abf17c\" name=\"files[]\" multiple disabled\n",
       "        style=\"border:none\" />\n",
       "     <output id=\"result-7dd07be8-1539-4947-8452-5ccd09abf17c\">\n",
       "      Upload widget is only available when the cell has been executed in the\n",
       "      current browser session. Please rerun this cell to enable.\n",
       "      </output>\n",
       "      <script>// Copyright 2017 Google LLC\n",
       "//\n",
       "// Licensed under the Apache License, Version 2.0 (the \"License\");\n",
       "// you may not use this file except in compliance with the License.\n",
       "// You may obtain a copy of the License at\n",
       "//\n",
       "//      http://www.apache.org/licenses/LICENSE-2.0\n",
       "//\n",
       "// Unless required by applicable law or agreed to in writing, software\n",
       "// distributed under the License is distributed on an \"AS IS\" BASIS,\n",
       "// WITHOUT WARRANTIES OR CONDITIONS OF ANY KIND, either express or implied.\n",
       "// See the License for the specific language governing permissions and\n",
       "// limitations under the License.\n",
       "\n",
       "/**\n",
       " * @fileoverview Helpers for google.colab Python module.\n",
       " */\n",
       "(function(scope) {\n",
       "function span(text, styleAttributes = {}) {\n",
       "  const element = document.createElement('span');\n",
       "  element.textContent = text;\n",
       "  for (const key of Object.keys(styleAttributes)) {\n",
       "    element.style[key] = styleAttributes[key];\n",
       "  }\n",
       "  return element;\n",
       "}\n",
       "\n",
       "// Max number of bytes which will be uploaded at a time.\n",
       "const MAX_PAYLOAD_SIZE = 100 * 1024;\n",
       "\n",
       "function _uploadFiles(inputId, outputId) {\n",
       "  const steps = uploadFilesStep(inputId, outputId);\n",
       "  const outputElement = document.getElementById(outputId);\n",
       "  // Cache steps on the outputElement to make it available for the next call\n",
       "  // to uploadFilesContinue from Python.\n",
       "  outputElement.steps = steps;\n",
       "\n",
       "  return _uploadFilesContinue(outputId);\n",
       "}\n",
       "\n",
       "// This is roughly an async generator (not supported in the browser yet),\n",
       "// where there are multiple asynchronous steps and the Python side is going\n",
       "// to poll for completion of each step.\n",
       "// This uses a Promise to block the python side on completion of each step,\n",
       "// then passes the result of the previous step as the input to the next step.\n",
       "function _uploadFilesContinue(outputId) {\n",
       "  const outputElement = document.getElementById(outputId);\n",
       "  const steps = outputElement.steps;\n",
       "\n",
       "  const next = steps.next(outputElement.lastPromiseValue);\n",
       "  return Promise.resolve(next.value.promise).then((value) => {\n",
       "    // Cache the last promise value to make it available to the next\n",
       "    // step of the generator.\n",
       "    outputElement.lastPromiseValue = value;\n",
       "    return next.value.response;\n",
       "  });\n",
       "}\n",
       "\n",
       "/**\n",
       " * Generator function which is called between each async step of the upload\n",
       " * process.\n",
       " * @param {string} inputId Element ID of the input file picker element.\n",
       " * @param {string} outputId Element ID of the output display.\n",
       " * @return {!Iterable<!Object>} Iterable of next steps.\n",
       " */\n",
       "function* uploadFilesStep(inputId, outputId) {\n",
       "  const inputElement = document.getElementById(inputId);\n",
       "  inputElement.disabled = false;\n",
       "\n",
       "  const outputElement = document.getElementById(outputId);\n",
       "  outputElement.innerHTML = '';\n",
       "\n",
       "  const pickedPromise = new Promise((resolve) => {\n",
       "    inputElement.addEventListener('change', (e) => {\n",
       "      resolve(e.target.files);\n",
       "    });\n",
       "  });\n",
       "\n",
       "  const cancel = document.createElement('button');\n",
       "  inputElement.parentElement.appendChild(cancel);\n",
       "  cancel.textContent = 'Cancel upload';\n",
       "  const cancelPromise = new Promise((resolve) => {\n",
       "    cancel.onclick = () => {\n",
       "      resolve(null);\n",
       "    };\n",
       "  });\n",
       "\n",
       "  // Wait for the user to pick the files.\n",
       "  const files = yield {\n",
       "    promise: Promise.race([pickedPromise, cancelPromise]),\n",
       "    response: {\n",
       "      action: 'starting',\n",
       "    }\n",
       "  };\n",
       "\n",
       "  cancel.remove();\n",
       "\n",
       "  // Disable the input element since further picks are not allowed.\n",
       "  inputElement.disabled = true;\n",
       "\n",
       "  if (!files) {\n",
       "    return {\n",
       "      response: {\n",
       "        action: 'complete',\n",
       "      }\n",
       "    };\n",
       "  }\n",
       "\n",
       "  for (const file of files) {\n",
       "    const li = document.createElement('li');\n",
       "    li.append(span(file.name, {fontWeight: 'bold'}));\n",
       "    li.append(span(\n",
       "        `(${file.type || 'n/a'}) - ${file.size} bytes, ` +\n",
       "        `last modified: ${\n",
       "            file.lastModifiedDate ? file.lastModifiedDate.toLocaleDateString() :\n",
       "                                    'n/a'} - `));\n",
       "    const percent = span('0% done');\n",
       "    li.appendChild(percent);\n",
       "\n",
       "    outputElement.appendChild(li);\n",
       "\n",
       "    const fileDataPromise = new Promise((resolve) => {\n",
       "      const reader = new FileReader();\n",
       "      reader.onload = (e) => {\n",
       "        resolve(e.target.result);\n",
       "      };\n",
       "      reader.readAsArrayBuffer(file);\n",
       "    });\n",
       "    // Wait for the data to be ready.\n",
       "    let fileData = yield {\n",
       "      promise: fileDataPromise,\n",
       "      response: {\n",
       "        action: 'continue',\n",
       "      }\n",
       "    };\n",
       "\n",
       "    // Use a chunked sending to avoid message size limits. See b/62115660.\n",
       "    let position = 0;\n",
       "    do {\n",
       "      const length = Math.min(fileData.byteLength - position, MAX_PAYLOAD_SIZE);\n",
       "      const chunk = new Uint8Array(fileData, position, length);\n",
       "      position += length;\n",
       "\n",
       "      const base64 = btoa(String.fromCharCode.apply(null, chunk));\n",
       "      yield {\n",
       "        response: {\n",
       "          action: 'append',\n",
       "          file: file.name,\n",
       "          data: base64,\n",
       "        },\n",
       "      };\n",
       "\n",
       "      let percentDone = fileData.byteLength === 0 ?\n",
       "          100 :\n",
       "          Math.round((position / fileData.byteLength) * 100);\n",
       "      percent.textContent = `${percentDone}% done`;\n",
       "\n",
       "    } while (position < fileData.byteLength);\n",
       "  }\n",
       "\n",
       "  // All done.\n",
       "  yield {\n",
       "    response: {\n",
       "      action: 'complete',\n",
       "    }\n",
       "  };\n",
       "}\n",
       "\n",
       "scope.google = scope.google || {};\n",
       "scope.google.colab = scope.google.colab || {};\n",
       "scope.google.colab._files = {\n",
       "  _uploadFiles,\n",
       "  _uploadFilesContinue,\n",
       "};\n",
       "})(self);\n",
       "</script> "
      ],
      "text/plain": [
       "<IPython.core.display.HTML object>"
      ]
     },
     "metadata": {},
     "output_type": "display_data"
    },
    {
     "name": "stdout",
     "output_type": "stream",
     "text": [
      "Saving mydoc.txt to mydoc.txt\n",
      "User uploaded file \"mydoc.txt\" with length 1042 bytes\n"
     ]
    }
   ],
   "source": [
    "from google.colab import files\n",
    "\n",
    "uploaded = files.upload()\n",
    "\n",
    "for fn in uploaded.keys():\n",
    "  print('User uploaded file \"{name}\" with length {length} bytes'.format(\n",
    "      name=fn, length=len(uploaded[fn])))"
   ]
  },
  {
   "cell_type": "code",
   "execution_count": 11,
   "metadata": {
    "colab": {
     "base_uri": "https://localhost:8080/"
    },
    "executionInfo": {
     "elapsed": 469,
     "status": "ok",
     "timestamp": 1668433789670,
     "user": {
      "displayName": "Giorgos Siolas",
      "userId": "10127542075805046236"
     },
     "user_tz": -120
    },
    "id": "NzYTrrzBndhX",
    "outputId": "58828da5-6c73-4bfc-c38c-7c7d0383ddde"
   },
   "outputs": [
    {
     "name": "stdout",
     "output_type": "stream",
     "text": [
      "mydoc.txt  sample_data\n"
     ]
    }
   ],
   "source": [
    "!ls"
   ]
  },
  {
   "cell_type": "markdown",
   "metadata": {
    "id": "Oo4gforhnyHw"
   },
   "source": [
    "Διαβάζω το περιεχόμενο του αρχείο μέσα στο string \"document\""
   ]
  },
  {
   "cell_type": "code",
   "execution_count": 12,
   "metadata": {
    "colab": {
     "base_uri": "https://localhost:8080/"
    },
    "executionInfo": {
     "elapsed": 61,
     "status": "ok",
     "timestamp": 1668433790540,
     "user": {
      "displayName": "Giorgos Siolas",
      "userId": "10127542075805046236"
     },
     "user_tz": -120
    },
    "id": "uJQ97LXDVJOp",
    "outputId": "a5803aef-44ed-4bae-8352-3f18773ba1ea"
   },
   "outputs": [
    {
     "name": "stdout",
     "output_type": "stream",
     "text": [
      "Commerce Secretary Malcolm Baldrige\n",
      "said he supported efforts to persuade newly-industrialized\n",
      "countries (NICS) to revalue currencies that are tied to the\n",
      "dollar in order to help the United States cut its massive trade\n",
      "deficit.\n",
      "    \"We do need to do something with those currencies or we\n",
      "will be substituting Japanese products for Taiwanese products,\"\n",
      "or those of other nations with currencies tied to the dollar,\n",
      "Baldrige told a House banking subcommittee.\n",
      "    The U.S. dollar has declined in value against the Yen and\n",
      "European currencies, but has changed very little against the\n",
      "currencies of some developing countries such as South Korea and\n",
      "Taiwan because they are linked to the value of the dollar.\n",
      "    As a result, efforts to reduce the value of the dollar over\n",
      "the past year and a half have done little to improve the trade\n",
      "deficits with those countries.\n",
      "    Baldrige told a House Banking subcommittee that the\n",
      "Treasury Department was attempting to persuade those countries\n",
      "to reach agreement with the United States on exchange rates.\n",
      "\n"
     ]
    }
   ],
   "source": [
    "with open('mydoc.txt', 'r') as f:\n",
    "    document = ''\n",
    "    for line in f:\n",
    "        document += line\n",
    "\n",
    "print(document)"
   ]
  },
  {
   "cell_type": "markdown",
   "metadata": {
    "id": "XnlcPw_ivn_p"
   },
   "source": [
    "## Μοντέλο διανυσματικού χώρου (Vector Space Model)\n",
    "\n",
    "Ως σημείο εκκίνησης λαμβάνουμε ότι διαθέτουμε μια συλλογή από κείμενα (αρχεία text) και ότι οι αλγόριθμοι μηχανικής μάθησης που χρησιμοποιούμε λαμβάνουν στην είσοδο αριθμητικές τιμές (διανύσματα). Ένα πρώτο και πολύ βασικό ερώτημα λοιπόν είναι πως μπορούμε να μετατρέψουμε τα κείμενα σε κατάλληλη διανυσματική μορφή. Τί θα αποτελούσε όμως \"κατάλληλη διανυσματική μορφή\";\n",
    "\n",
    "Μια απάντηση που μπορούμε να δώσουμε από την υπολογιστική σκοπιά είναι ότι αν κάθε κείμενο της συλλογής μετατραπεί σε ένα διάνυσμα, θα θέλαμε η μετατροπή αυτή να κρατήσει τη σημασιολογική πληροφορία των κειμένων έτσι ώστε κείμενα που το κειμενικό τους περιεχόμενο είναι σημασιολογικά \"κοντινό\" (μιλάνε για κοντινά θέματα) να αντιστοιχούν σε σημεία του διανυσματικού χώρου αναπαράστασης που είναι κοντά μεταξύ τους και το αντίστροφο για κείμενα με ανόμοιο περιεχόμενο.\n"
   ]
  },
  {
   "cell_type": "markdown",
   "metadata": {
    "id": "vOY46Yu_B0Cu"
   },
   "source": [
    "\n",
    "### Σάκος λέξεων (bag of words)\n",
    "\n",
    "Ας θεωρήσουμε χωρίς βλάβη της γενικότητας την ακόλουθη μικρή συλλογή κειμένων (documents): \n",
    "\n",
    "d1 = \"a big black cat\"\n",
    "\n",
    "d2 = \"a cat and a dog\"\n",
    "\n",
    "d3 = \"a lovely town\"\n",
    "\n",
    "Τα d1 και d2 έχουν μεταξύ τους κοινό σημασιολογικό περιεχόμενο και δεν έχουν με το d3. Κατασκευάζουμε ένα διάνυσμα του οποίου κάθε χαρακτηριστικό είναι κάθε μοναδική λέξη της συλλογής μας σε αλφαβητική σειρά δηλαδή:\n",
    "\n",
    "\\[ a and big black cat dog lovely town \\]\n",
    "\n",
    "Με βάση αυτό τα 8 χαρακτηριστικά τώρα, αναπαριστούμε κάθε document με ένα διάνυσμα όπου τα χαρακτηριστικά λαμβάνουν τιμές ίσες με τη συχνότητα εμφάνισης της κάθε λέξης (term frequency) στο συγκεκριμένο document: \n",
    "\n",
    "d1 = \\[ 1 0 1 1 1 0 0 0 \\]\n",
    "\n",
    "d2 = \\[ 2 1 0 0 1 1 0 0 \\]\n",
    "\n",
    "d3 = \\[ 1 0 0 0 0 0 1 1 \\]\n",
    "\n",
    "Αυτή είναι το βασικό μοντέλο (αναπαράστασης) διανυσματικού χώρου που χρησιμοποιεί τις συχνότητες εμφάνισης κάθε λέξης. Εξαιτίας του γεγονότος ότι αγνοούμε τη σειρά των λέξεων (το \"a big black cat\" έχει την ίδια διανυσματική αναπαράσταση με το \"cat big a black\") το ονομάζουμε σάκο λέξεων - bag of words (BOW). \n",
    "\n",
    "Ας τα περάσουμε στο numpy και να δοκιμάσουμε να υπολογίσουμε αποστάσεις μεταξύ διανυσμάτων:"
   ]
  },
  {
   "cell_type": "code",
   "execution_count": 13,
   "metadata": {
    "colab": {
     "base_uri": "https://localhost:8080/"
    },
    "executionInfo": {
     "elapsed": 54,
     "status": "ok",
     "timestamp": 1668433790541,
     "user": {
      "displayName": "Giorgos Siolas",
      "userId": "10127542075805046236"
     },
     "user_tz": -120
    },
    "id": "9CIQMyt4Gv6q",
    "outputId": "bf1a72e6-ab50-45af-dd69-17fb7fa64b1f"
   },
   "outputs": [
    {
     "name": "stdout",
     "output_type": "stream",
     "text": [
      "d1 με d2 2.23606797749979\n",
      "d1 με d3 2.23606797749979\n",
      "d2 με d3 2.449489742783178\n"
     ]
    }
   ],
   "source": [
    "d1 = np.array([1,0,1,1,1,0,0,0])\n",
    "d2 = np.array([2,1,0,0,1,1,0,0])\n",
    "d3 = np.array([1,0,0,0,0,0,1,1])\n",
    "\n",
    "#Ευκλείδεια απόσταση\n",
    "\n",
    "d1d2 = print(\"d1 με d2\", np.linalg.norm(d1-d2))\n",
    "d1d3 = print(\"d1 με d3\", np.linalg.norm(d1-d3))\n",
    "d2d3 = print(\"d2 με d3\", np.linalg.norm(d2-d3))"
   ]
  },
  {
   "cell_type": "markdown",
   "metadata": {
    "id": "7pScjhAZJMTM"
   },
   "source": [
    "Συνεπώς βλέπουμε ότι ακόμα δεν έχουμε πετύχει αυτό που θέσαμε ως αρχικό στόχο, τα d1 και d2 να είναι πιο κοντά μεταξύ τους απ' ότι είνα με το d3. Στην πράξη δεν χρησιμοποιούμε την ευκλείδεια απόσταση γιατί για παράδειγμα αν πάρουμε το\n",
    "\n",
    "d4 = \"a big black cat a big black cat\"\n",
    "\n",
    "που δεν έχει καμία σημασιολογική μονάδα πληροφορίας (λέξη) διαφορετική από το d1 (και άρα θα έπρεπε να έχει απόσταση 0) το οποίο έχει  διανυσματική αναπαράσταση το διπλάσιο του d1\n",
    "\n",
    "d4 = \\[ 2 0 2 2 2 0 0 0 \\]\n",
    "\n",
    "Με ευκλείδεια απόσταση θα λάβουμε:"
   ]
  },
  {
   "cell_type": "code",
   "execution_count": 14,
   "metadata": {
    "colab": {
     "base_uri": "https://localhost:8080/"
    },
    "executionInfo": {
     "elapsed": 48,
     "status": "ok",
     "timestamp": 1668433790543,
     "user": {
      "displayName": "Giorgos Siolas",
      "userId": "10127542075805046236"
     },
     "user_tz": -120
    },
    "id": "HlsolnvpLSBs",
    "outputId": "405b1c82-8a2d-43d2-aea3-8fb75847f328"
   },
   "outputs": [
    {
     "name": "stdout",
     "output_type": "stream",
     "text": [
      "d1 με d4 2.0\n"
     ]
    }
   ],
   "source": [
    "d4 = np.array([2,0,2,2,2,0,0,0])\n",
    "d1d4 = print(\"d1 με d4\", np.linalg.norm(d1-d4))"
   ]
  },
  {
   "cell_type": "markdown",
   "metadata": {
    "id": "Z6Zh4ryILpPP"
   },
   "source": [
    "### Ομοιότητα συνημιτόνόυ (cosine similarity)\n",
    "\n",
    "Για το λόγο αυτό, στο Vector Space Model χρησιμοποιούμε την απόσταση (ή ομοιότητα) συνημιτόνου (cosine similarity): \n",
    "\n",
    "$ {\\text{similarity}}=\\cos(\\theta )={\\mathbf {A} \\cdot \\mathbf {B}  \\over \\|\\mathbf {A} \\|\\|\\mathbf {B} \\|}={\\frac {\\sum \\limits _{i=1}^{n}{A_{i}B_{i}}}{{\\sqrt {\\sum \\limits _{i=1}^{n}{A_{i}^{2}}}}{\\sqrt {\\sum \\limits _{i=1}^{n}{B_{i}^{2}}}}}}$\n"
   ]
  },
  {
   "cell_type": "code",
   "execution_count": 15,
   "metadata": {
    "colab": {
     "base_uri": "https://localhost:8080/"
    },
    "executionInfo": {
     "elapsed": 42,
     "status": "ok",
     "timestamp": 1668433790544,
     "user": {
      "displayName": "Giorgos Siolas",
      "userId": "10127542075805046236"
     },
     "user_tz": -120
    },
    "id": "FcoNf4CeL9Wy",
    "outputId": "75415847-8e9c-4b86-a4dd-4221a7052463"
   },
   "outputs": [
    {
     "name": "stdout",
     "output_type": "stream",
     "text": [
      "0\n"
     ]
    }
   ],
   "source": [
    "import scipy as sp\n",
    "\n",
    "cosd1d4 = sp.spatial.distance.cosine(d1, d4)\n",
    "print(cosd1d4)"
   ]
  },
  {
   "cell_type": "markdown",
   "metadata": {
    "id": "ap8y7fDKMW3a"
   },
   "source": [
    "και αντίστοιχα:"
   ]
  },
  {
   "cell_type": "code",
   "execution_count": 16,
   "metadata": {
    "colab": {
     "base_uri": "https://localhost:8080/"
    },
    "executionInfo": {
     "elapsed": 35,
     "status": "ok",
     "timestamp": 1668433790545,
     "user": {
      "displayName": "Giorgos Siolas",
      "userId": "10127542075805046236"
     },
     "user_tz": -120
    },
    "id": "Jn5n6KSsMav0",
    "outputId": "8104e110-17d0-4360-9239-77beccf78ecf"
   },
   "outputs": [
    {
     "name": "stdout",
     "output_type": "stream",
     "text": [
      "d1 με d2 0.43305329048615915\n",
      "d1 με d3 0.7113248654051871\n",
      "d2 με d3 0.5635642195280153\n"
     ]
    }
   ],
   "source": [
    "cosd1d2 = sp.spatial.distance.cosine(d1, d2)\n",
    "cosd1d3 = sp.spatial.distance.cosine(d1, d3)\n",
    "cosd2d3 = sp.spatial.distance.cosine(d2, d3)\n",
    "\n",
    "print(\"d1 με d2\", cosd1d2)\n",
    "print(\"d1 με d3\", cosd1d3)\n",
    "print(\"d2 με d3\", cosd2d3)"
   ]
  },
  {
   "cell_type": "markdown",
   "metadata": {
    "id": "IYdHyGzqN1ak"
   },
   "source": [
    "Η ομοιότητα (απόσταση) συνημιτόνου κανονικοποιεί με βάση τις νόρμες (μήκος) των κειμένων (άρα δεν έχουμε διανύσματα διαφορετικών μηκών) και είναι 1 (0) για διανύσματα που έχουν ακριβώς την ίδια \"γωνία\" στον υπερχώρο διαστάσεων Ν (o αριθμός των μοναδικών λέξεων) του vector space model.\n",
    "\n",
    "<!-- http://blog.christianperone.com/wp-content/uploads/2013/09/vector_space.png -->\n",
    "![Imgur](https://i.imgur.com/Kl6MFc8.png)\n",
    "\n"
   ]
  },
  {
   "cell_type": "markdown",
   "metadata": {
    "id": "frHOFj8VoYui"
   },
   "source": [
    "## Μετατροπή κειμένων σε διανύσματα\n"
   ]
  },
  {
   "cell_type": "markdown",
   "metadata": {
    "id": "HSn9R6mUPWKT"
   },
   "source": [
    "Στη συνέχεια παρουσιάζουμε μερικά κλασικά βήματα που χρησιμοποιούμε για τη μετατροπή των κειμένων σε διανύσματα στο VSM. Τα βήματα αυτά περιλαμβάνουν κάποιες βελτιώσεις σε σχέση με το βασικό μοντέλο.\n",
    "\n",
    "Επειδή αν έχουμε μια μεγάλη συλλογή κειμένων το να λάβουμε όλες τις μοναδικές λέξεις ως χαρακτηριστικά του VSM μπορεί να οδηγήσει σε πάρα πολύ μεγάλες διαστάσεις, είναι βασικό μας μέλημα να χρησιμοποιούμε διάφορες τεχνικές ώστε να περιορίζουμε όσο είναι δυνατό αυτή τη διαστατικότητα χωρίς να χάνουμε περιεχόμενο (σημασία). "
   ]
  },
  {
   "cell_type": "markdown",
   "metadata": {
    "id": "xrbaAeBTVJOu"
   },
   "source": [
    "### Προεπεξεργασία κειμένου\n",
    "\n",
    "Τώρα που φορτώσαμε το κείμενο στην python, πρέπει να το επεξεργαστούμε. Επειδή ο υπολογιστής θεωρεί τα κεφαλαία και τα μικρά ως διαφορετικούς χαρακτήρες, το πρώτο πράγμα που πρέπει να κάνουμε είναι να τα κάνουμε **όλα πεζά**. Έπειτα θέλουμε να **χωρίσουμε τις λέξεις μια προς μια**, ώστε να φτιάξουμε μια λίστα τα στοιχεία της οποίας θα είναι οι λέξεις."
   ]
  },
  {
   "cell_type": "code",
   "execution_count": 17,
   "metadata": {
    "colab": {
     "base_uri": "https://localhost:8080/"
    },
    "executionInfo": {
     "elapsed": 698,
     "status": "ok",
     "timestamp": 1668433791217,
     "user": {
      "displayName": "Giorgos Siolas",
      "userId": "10127542075805046236"
     },
     "user_tz": -120
    },
    "id": "EQV7lIyYVJOu",
    "outputId": "72b1a6d8-4bc6-49fb-e06d-90d1cc879406"
   },
   "outputs": [
    {
     "name": "stderr",
     "output_type": "stream",
     "text": [
      "[nltk_data] Downloading package punkt to /root/nltk_data...\n",
      "[nltk_data]   Unzipping tokenizers/punkt.zip.\n"
     ]
    },
    {
     "name": "stdout",
     "output_type": "stream",
     "text": [
      "['Lionel', 'Messi', 'a', 'football', 'player', ',', 'playing', 'for', 'Barcelona', 'Football', 'Club', ',', 'a', 'Spanish', 'football', 'team', '.']\n"
     ]
    }
   ],
   "source": [
    "documents = [\"Lionel Messi is the best football player in the world! Messi plays for Barcelona Football Club. Barcelona Football Club plays in the Spanish Primera Division.\",\n",
    "            \"Lionel Messi a football player, playing for Barcelona Football Club, a Spanish football team.\", \n",
    "            \"Barcelona is a city in a northern spanish province called Catalonia. It is the largest city in Catalonia and the second most populated spanish city.\", \n",
    "            \"Python is a programming language. Python is an object-oriented programming language. Unlike COBOL, Python is a interpreted programming language.\", \n",
    "            \"COBOL is a compiled computer programming language designed for business use. This programming language is imperative, procedural and, since 2002, object-oriented. But Python is better.\"]\n",
    "\n",
    "document = documents[1]\n",
    "\n",
    "nltk.download('punkt') # χρειάζεται για το tokenizer\n",
    "words = nltk.word_tokenize(document)\n",
    "\n",
    "print(words)"
   ]
  },
  {
   "cell_type": "markdown",
   "metadata": {
    "id": "6LhkTcBnVJOy"
   },
   "source": [
    "Το tokenizer ουσιαστικά κάνει ό,τι και η built-in μέθοδος `.split()` των string, αλλά λίγο πιο έξυπνα. Για αρχή χωρίζει με βάση τόσο τα κενά (`' '`), όσο και τα tabs (`'\\t'`) και τα new lines (`'\\n'`). Επίσης όπως μπορούμε να δούμε και παραπάνω χωρίζει και τις παρενθέσεις από το περιεχόμενό τους.\n",
    "\n",
    "Το επόμενο βήμα είναι να διαγράψουμε από τη λίστα μας τα **σημεία στίξης**. Μόλις το κάνουμε αυτό, θέλουμε να διαγράψουμε και μερικές συχνά χρησιμοποιούμενες λέξεις που δεν προσφέρουν σημασιολογική αξία στο κείμενο (**stopwords**).  Τυπικά stopwords στα αγγλικά είναι λέξεις όπως \"the\", \"a\", \"to\", \"and\", \"he\", \"she\" κοκ."
   ]
  },
  {
   "cell_type": "code",
   "execution_count": 18,
   "metadata": {
    "colab": {
     "base_uri": "https://localhost:8080/"
    },
    "executionInfo": {
     "elapsed": 23,
     "status": "ok",
     "timestamp": 1668433791218,
     "user": {
      "displayName": "Giorgos Siolas",
      "userId": "10127542075805046236"
     },
     "user_tz": -120
    },
    "id": "p6pypWyaVJOz",
    "outputId": "a3009678-ded6-49e7-8967-5bb0486b5e41"
   },
   "outputs": [
    {
     "name": "stdout",
     "output_type": "stream",
     "text": [
      "['Lionel', 'Messi', 'football', 'player', 'playing', 'Barcelona', 'Football', 'Club', 'Spanish', 'football', 'team']\n"
     ]
    },
    {
     "name": "stderr",
     "output_type": "stream",
     "text": [
      "[nltk_data] Downloading package stopwords to /root/nltk_data...\n",
      "[nltk_data]   Unzipping corpora/stopwords.zip.\n"
     ]
    }
   ],
   "source": [
    "nltk.download('stopwords') # κατεβάζουμε ένα αρχείο που έχει stopwords στα αγγλικά\n",
    "from nltk.corpus import stopwords\n",
    "import string\n",
    "\n",
    "'''\n",
    "filtered_words = [word for word in words if word not in list(string.punctuation)] # το string.punctuation είναι απλά ένα\n",
    "                                                                                  # string που περιέχει όλα τα σημεία στίξης\n",
    "\n",
    "filtered_words = [word for word in filtered_words if word not in stopwords.words('english')] # το stopwords.words('english')\n",
    "                                                                                             # είναι μια λίστα που περιέχει\n",
    "                                                                                             # stopwords στα αγγλικά\n",
    "'''\n",
    "filtered_words = [word for word in words if word not in stopwords.words('english') + list(string.punctuation)]\n",
    "\n",
    "print(filtered_words)"
   ]
  },
  {
   "cell_type": "markdown",
   "metadata": {
    "id": "BlSuSAUzVJO3"
   },
   "source": [
    "Πρέπει να κάνουμε καλύτερη δουλειά στην αφαίρεση των σημείων στίξης γιατί δεν αφαιρούνται οι λέξεις που περιέχουν περισσότερα από ένα τέτοια σημεία."
   ]
  },
  {
   "cell_type": "code",
   "execution_count": 19,
   "metadata": {
    "colab": {
     "base_uri": "https://localhost:8080/"
    },
    "executionInfo": {
     "elapsed": 18,
     "status": "ok",
     "timestamp": 1668433791219,
     "user": {
      "displayName": "Giorgos Siolas",
      "userId": "10127542075805046236"
     },
     "user_tz": -120
    },
    "id": "VcLJukuIVJO4",
    "outputId": "ad735b68-d322-4cd5-9020-1e5804ea4142"
   },
   "outputs": [
    {
     "name": "stdout",
     "output_type": "stream",
     "text": [
      "['Lionel', 'Messi', 'football', 'player', 'playing', 'Barcelona', 'Football', 'Club', 'Spanish', 'football', 'team']\n"
     ]
    }
   ],
   "source": [
    "def thorough_filter(words):\n",
    "    filtered_words = []\n",
    "    for word in words:\n",
    "        pun = []\n",
    "        for letter in word:\n",
    "            pun.append(letter in string.punctuation)\n",
    "        if not all(pun):\n",
    "            filtered_words.append(word)\n",
    "    return filtered_words\n",
    "        \n",
    "filtered_words = thorough_filter(filtered_words)\n",
    "print(filtered_words)"
   ]
  },
  {
   "cell_type": "markdown",
   "metadata": {
    "id": "WCySdKVxVJO9"
   },
   "source": [
    "### Stemming & Lemmatization\n",
    "\n",
    "Για γραμματικούς λόγους, τα κείμενα χρησιμοποιούν διαφορετικές μορφές μιας λέξης, όπως π.χ. *play*, *plays*, *playing*, *played*. Αυτό έχει σαν αποτέλεσμα πως, ενώ αναφερόμαστε σε κάποιο παρόμοιο σημασιολογικό περιεχόμενο, ο υπολογιστής τις καταλαβαίνει ως διαφορετικές και προσθέτει διαστάσεις στην αναπαράσταση. Για να λύσουμε αυτό το πρόβλημα, μπορούμε να χρησιμοποιήσουμε δύο γλωσσολογικούς μετασχηματισμούς, είτε την αφαίρεση της κατάληξης (stemming), είτε τη λημματοποίηση (lemmatization). Ο στόχος, τόσο της αφαίρεσης κατάληξης όσο και της λημματοποίησης, είναι να φέρουν τις διάφορες μορφές της λέξης σε μια κοινή μορφή βάσης. Πιο συγκεκριμένα:\n",
    "\n",
    "Η **αφαίρεση της κατάληξης** αναφέρεται σε μια ακατέργαστη ευριστική διαδικασία που απομακρύνει τα άκρα των λέξεων με την ελπίδα να επιτύχει αυτό το στόχο σωστά τις περισσότερες φορές.\n",
    "\n",
    "Η **λημματοποίηση** αναφέρεται στην απομάκρυνση της κλίσης των λέξεων και στην επιστροφή της μορφής της λέξης όπως θα τη βρίσκαμε στο λεξικό, με τη χρήση λεξιλογίου και μορφολογικής ανάλυσης των λέξεων. Η μορφή αυτή είναι γνωστή ως λήμμα (*lemma*)."
   ]
  },
  {
   "cell_type": "code",
   "execution_count": 20,
   "metadata": {
    "colab": {
     "base_uri": "https://localhost:8080/"
    },
    "executionInfo": {
     "elapsed": 2346,
     "status": "ok",
     "timestamp": 1668433793553,
     "user": {
      "displayName": "Giorgos Siolas",
      "userId": "10127542075805046236"
     },
     "user_tz": -120
    },
    "id": "bTe8-vDgVJO-",
    "outputId": "5ec77328-6be1-4bc4-fbbb-8a827bac83d4"
   },
   "outputs": [
    {
     "name": "stderr",
     "output_type": "stream",
     "text": [
      "[nltk_data] Downloading package omw-1.4 to /root/nltk_data...\n",
      "[nltk_data] Downloading package wordnet to /root/nltk_data...\n",
      "[nltk_data] Downloading package rslp to /root/nltk_data...\n",
      "[nltk_data]   Unzipping stemmers/rslp.zip.\n"
     ]
    },
    {
     "name": "stdout",
     "output_type": "stream",
     "text": [
      "\n",
      "Original             Stemmed              Lemmatized          \n",
      "------------------------------------------------------------\n",
      "Lionel               lionel               Lionel              \n",
      "Messi                messi                Messi               \n",
      "football             footbal              football            \n",
      "player               player               player              \n",
      "playing              play                 playing             \n",
      "Barcelona            barcelona            Barcelona           \n",
      "Football             footbal              Football            \n",
      "Club                 club                 Club                \n",
      "Spanish              spanish              Spanish             \n",
      "football             footbal              football            \n",
      "team                 team                 team                \n"
     ]
    }
   ],
   "source": [
    "import nltk\n",
    "nltk.download('omw-1.4')\n",
    "nltk.download('wordnet') # απαραίτητα download για τους stemmer/lemmatizer\n",
    "nltk.download('rslp')\n",
    "\n",
    "from nltk.stem import WordNetLemmatizer\n",
    "wordnet_lemmatizer = WordNetLemmatizer()\n",
    "\n",
    "from nltk.stem.porter import PorterStemmer\n",
    "porter_stemmer = PorterStemmer()\n",
    "\n",
    "lem_words = [wordnet_lemmatizer.lemmatize(word) for word in filtered_words]\n",
    "stem_words = [porter_stemmer.stem(word) for word in filtered_words]\n",
    "\n",
    "print('\\n{:<20} {:<20} {:<20}'.format('Original', 'Stemmed', 'Lemmatized'))\n",
    "print('-'*60)\n",
    "for i in range(len(filtered_words)):\n",
    "    print('{:<20} {:<20} {:<20}'.format(filtered_words[i], stem_words[i], lem_words[i]))"
   ]
  },
  {
   "cell_type": "markdown",
   "metadata": {
    "id": "3828s8RpVJPB"
   },
   "source": [
    "**Προσοχή:** χρησιμοποιούμε είτε stemming (πιο συχνά), είτε lemmatization, αλλά όχι και τα δύο μαζί. Το πρώτο βελτιώνει την ανάκληση, το δεύτερο την ακρίβεια.\n",
    "\n",
    "Αφότου έχουμε ολοκληρώσει τις γλωσσολογικές προεπεξεργασίες, θα ορίσουμε μια μικρή συλλογή κειμένων ώστε να προχωρήσουμε ένα παράδειγμα ομαδοποίησης  κειμένων. \n",
    "\n",
    "Όπως βλέπουμε παρακάτω τα πρώτα δύο και τα τελευταία δύο κείμενα βρίσκονται  σημασιολογικά κοντά μεταξύ τους."
   ]
  },
  {
   "cell_type": "code",
   "execution_count": 21,
   "metadata": {
    "executionInfo": {
     "elapsed": 50,
     "status": "ok",
     "timestamp": 1668433793554,
     "user": {
      "displayName": "Giorgos Siolas",
      "userId": "10127542075805046236"
     },
     "user_tz": -120
    },
    "id": "hjhcVYkhVJPI"
   },
   "outputs": [],
   "source": [
    "# Το νέο σύνολο κειμένων μας\n",
    "documents = [\"Lionel Messi is the best football player in the world! Messi plays for Barcelona Football Club. Barcelona Football Club plays in the Spanish Primera Division.\",\n",
    "            \"Lionel Messi a football player, playing for Barcelona Football Club, a Spanish football team.\", \n",
    "            \"Barcelona is a city in a northern spanish province called Catalonia. It is the largest city in Catalonia and the second most populated spanish city.\", \n",
    "            \"Python is a programming language. Python is an object-oriented programming language. Unlike COBOL, Python is a interpreted programming language.\", \n",
    "            \"COBOL is a compiled computer programming language designed for business use. This programming language is imperative, procedural and, since 2002, object-oriented. But Python is better.\"]\n"
   ]
  },
  {
   "cell_type": "markdown",
   "metadata": {
    "id": "BhosxSZKUZaI"
   },
   "source": [
    "Κάνουμε τη γνωστή μας προεπεξεργασία και τυπώνουμε τη συχνότητα κάθε token σε κάθε document."
   ]
  },
  {
   "cell_type": "code",
   "execution_count": 22,
   "metadata": {
    "colab": {
     "base_uri": "https://localhost:8080/"
    },
    "executionInfo": {
     "elapsed": 50,
     "status": "ok",
     "timestamp": 1668433793555,
     "user": {
      "displayName": "Giorgos Siolas",
      "userId": "10127542075805046236"
     },
     "user_tz": -120
    },
    "id": "j1_d_UMzTYrk",
    "outputId": "146084f9-1537-4635-c79b-64dac3a7d570"
   },
   "outputs": [
    {
     "name": "stdout",
     "output_type": "stream",
     "text": [
      "Counter({'footbal': 3, 'messi': 2, 'play': 2, 'barcelona': 2, 'club': 2, 'lionel': 1, 'best': 1, 'player': 1, 'world': 1, 'spanish': 1, 'primera': 1, 'divis': 1})\n",
      "Counter({'footbal': 3, 'lionel': 1, 'messi': 1, 'player': 1, 'play': 1, 'barcelona': 1, 'club': 1, 'spanish': 1, 'team': 1})\n",
      "Counter({'citi': 3, 'spanish': 2, 'catalonia': 2, 'barcelona': 1, 'northern': 1, 'provinc': 1, 'call': 1, 'largest': 1, 'second': 1, 'popul': 1})\n",
      "Counter({'python': 3, 'program': 3, 'languag': 3, 'object-ori': 1, 'unlik': 1, 'cobol': 1, 'interpret': 1})\n",
      "Counter({'program': 2, 'languag': 2, 'cobol': 1, 'compil': 1, 'comput': 1, 'design': 1, 'busi': 1, 'use': 1, 'imper': 1, 'procedur': 1, 'sinc': 1, '2002': 1, 'object-ori': 1, 'python': 1, 'better': 1})\n"
     ]
    }
   ],
   "source": [
    "import collections\n",
    "\n",
    "def preprocess_document(document):\n",
    "    # όλα τα προηγούμενα βήματα που κάναμε μέχρι στιγμής\n",
    "    words = nltk.word_tokenize(document.lower())\n",
    "    filtered_words = [word for word in words if word not in stopwords.words('english') + list(string.punctuation)]\n",
    "    filtered_words = thorough_filter(filtered_words)\n",
    "    stemmed_words = [porter_stemmer.stem(wordnet_lemmatizer.lemmatize(word)) for word in filtered_words]\n",
    "    cnt = collections.Counter(stemmed_words)\n",
    "    return cnt\n",
    "\n",
    "preprocessed_documents = [preprocess_document(doc) for doc in documents]\n",
    "\n",
    "for doc in preprocessed_documents:\n",
    "    print(doc)"
   ]
  },
  {
   "cell_type": "markdown",
   "metadata": {
    "id": "X-JniL0wVJPN"
   },
   "source": [
    "Μια τυπική μέθοδος μείωσης της διασταστικότητας είναι να πετάμε τους πάρα πολύ συχνούς όρους, τους πάρα πολύ σπάνιους ή τους όρους που εμφανίζονται σε πολύ λίγα documents (μιλάμε πάντα για το σύνολο της συλλογής, όχι τα μεμονωμένα documents).\n",
    "\n",
    "Στο μικρό αυτό dataset αποφασίζουμε να πετάξουμε τους όρους που εμφανίζονται μόνο μία φορά στο σύνολο της συλλογής"
   ]
  },
  {
   "cell_type": "code",
   "execution_count": 23,
   "metadata": {
    "colab": {
     "base_uri": "https://localhost:8080/"
    },
    "executionInfo": {
     "elapsed": 46,
     "status": "ok",
     "timestamp": 1668433793556,
     "user": {
      "displayName": "Giorgos Siolas",
      "userId": "10127542075805046236"
     },
     "user_tz": -120
    },
    "id": "bU2vMn9DDVeu",
    "outputId": "a7b96d05-cf33-41fd-b923-a3cb95ea362e"
   },
   "outputs": [
    {
     "name": "stdout",
     "output_type": "stream",
     "text": [
      "Counter({'footbal': 6, 'program': 5, 'languag': 5, 'barcelona': 4, 'spanish': 4, 'python': 4, 'messi': 3, 'play': 3, 'club': 3, 'citi': 3, 'lionel': 2, 'player': 2, 'catalonia': 2, 'object-ori': 2, 'cobol': 2, 'best': 1, 'world': 1, 'primera': 1, 'divis': 1, 'team': 1, 'northern': 1, 'provinc': 1, 'call': 1, 'largest': 1, 'second': 1, 'popul': 1, 'unlik': 1, 'interpret': 1, 'compil': 1, 'comput': 1, 'design': 1, 'busi': 1, 'use': 1, 'imper': 1, 'procedur': 1, 'sinc': 1, '2002': 1, 'better': 1}) \n",
      "\n",
      "['lionel', 'messi', 'footbal', 'player', 'play', 'barcelona', 'club', 'spanish', 'citi', 'catalonia', 'python', 'program', 'languag', 'object-ori', 'cobol']\n"
     ]
    }
   ],
   "source": [
    "threshold = 1\n",
    "\n",
    "total_counter = preprocessed_documents[0]\n",
    "\n",
    "for i in range(1, len(preprocessed_documents)):\n",
    "    total_counter += preprocessed_documents[i] # counter που περιέχει τα συνολικά αθροίσματα σε όλα τα κείμενα\n",
    "\n",
    "print(total_counter, '\\n')\n",
    "\n",
    "vocabulary = [word for word in total_counter if total_counter[word] > threshold] # κρατάμε μόνο τους όρους με συχνότητα εμφάνισης πάνω από το κατώφλι\n",
    "preprocessed_documents = [preprocess_document(doc) for doc in documents]\n",
    "\n",
    "\n",
    "print(vocabulary)"
   ]
  },
  {
   "cell_type": "markdown",
   "metadata": {
    "id": "yFY2a06iVJPR"
   },
   "source": [
    "Για την ευκολία μας θα δημιουργήσουμε έναν πίνακα που στις γραμμές του θα έχει τα documents και στις στήλες του τις λέξεις και θα αποθηκεύσουμε μέσα σε αυτόν τον αριθμό εμφάνισης των όρων. "
   ]
  },
  {
   "cell_type": "code",
   "execution_count": 24,
   "metadata": {
    "colab": {
     "base_uri": "https://localhost:8080/"
    },
    "executionInfo": {
     "elapsed": 41,
     "status": "ok",
     "timestamp": 1668433793558,
     "user": {
      "displayName": "Giorgos Siolas",
      "userId": "10127542075805046236"
     },
     "user_tz": -120
    },
    "id": "pUIfU63sVJPS",
    "outputId": "85b9e476-5060-4016-ef35-dbecc6870c31"
   },
   "outputs": [
    {
     "name": "stdout",
     "output_type": "stream",
     "text": [
      "['lionel', 'messi', 'footbal', 'player', 'play', 'barcelona', 'club', 'spanish', 'citi', 'catalonia', 'python', 'program', 'languag', 'object-ori', 'cobol'] \n",
      "\n",
      "[[1. 2. 3. 1. 2. 2. 2. 1. 0. 0. 0. 0. 0. 0. 0.]\n",
      " [1. 1. 3. 1. 1. 1. 1. 1. 0. 0. 0. 0. 0. 0. 0.]\n",
      " [0. 0. 0. 0. 0. 1. 0. 2. 3. 2. 0. 0. 0. 0. 0.]\n",
      " [0. 0. 0. 0. 0. 0. 0. 0. 0. 0. 3. 3. 3. 1. 1.]\n",
      " [0. 0. 0. 0. 0. 0. 0. 0. 0. 0. 1. 2. 2. 1. 1.]]\n"
     ]
    }
   ],
   "source": [
    "freq_array = np.zeros((len(preprocessed_documents), len(vocabulary)))\n",
    "\n",
    "for i in range(len(preprocessed_documents)):\n",
    "    for j in range(len(vocabulary)):\n",
    "        freq_array[i,j] = preprocessed_documents[i][vocabulary[j]] \n",
    "\n",
    "print(vocabulary, '\\n')\n",
    "print(freq_array)"
   ]
  },
  {
   "cell_type": "markdown",
   "metadata": {
    "id": "vmawczqZVJPW"
   },
   "source": [
    "### TF-IDF\n",
    "\n",
    "Η αναπαράσταση στο VSM μόνο με τις συχνότητες εμφάνισης κάθε όρου δεν είναι βέλτιστη. Στην πράξη χρησιμοποιούμε το **TF-IDF** (Term Frequency - Inverse Document Frequency).\n",
    "\n",
    "Όπως προσδίδει και το όνομά του, το tf-idf αποτελείται από 2 όρους. Ο πρώτος είναι το **Term Frequency (TF)**:\n",
    "\n",
    "$$ tf(i,d) = \\frac{f(i,d)}{\\sum_{i} f(i,d)}$$\n",
    "\n",
    "Όπου *i* ο όρος στο κείμενο *d*. Το tf είναι στην ουσία η συχνότητα με την οποία εμφανίζεται ο κάθε όρος στο κείμενο. Λέξεις με μεγάλη συχνότητα είναι σημαντικότερες για το κείμενο από ό,τι λέξεις με μικρή."
   ]
  },
  {
   "cell_type": "code",
   "execution_count": 25,
   "metadata": {
    "colab": {
     "base_uri": "https://localhost:8080/"
    },
    "executionInfo": {
     "elapsed": 37,
     "status": "ok",
     "timestamp": 1668433793559,
     "user": {
      "displayName": "Giorgos Siolas",
      "userId": "10127542075805046236"
     },
     "user_tz": -120
    },
    "id": "YXLO-r_RVJPX",
    "outputId": "799cf5f5-ffae-40bd-bfaf-6e8260565228"
   },
   "outputs": [
    {
     "name": "stdout",
     "output_type": "stream",
     "text": [
      "[14. 10.  8. 11.  7.]\n",
      "[[0.07142857 0.14285714 0.21428571 0.07142857 0.14285714 0.14285714\n",
      "  0.14285714 0.07142857 0.         0.         0.         0.\n",
      "  0.         0.         0.        ]\n",
      " [0.1        0.1        0.3        0.1        0.1        0.1\n",
      "  0.1        0.1        0.         0.         0.         0.\n",
      "  0.         0.         0.        ]\n",
      " [0.         0.         0.         0.         0.         0.125\n",
      "  0.         0.25       0.375      0.25       0.         0.\n",
      "  0.         0.         0.        ]\n",
      " [0.         0.         0.         0.         0.         0.\n",
      "  0.         0.         0.         0.         0.27272727 0.27272727\n",
      "  0.27272727 0.09090909 0.09090909]\n",
      " [0.         0.         0.         0.         0.         0.\n",
      "  0.         0.         0.         0.         0.14285714 0.28571429\n",
      "  0.28571429 0.14285714 0.14285714]]\n"
     ]
    }
   ],
   "source": [
    "print(freq_array.sum(axis=1)), '\\n' # ο αριθμός των όρων ανά κείμενο\n",
    "\n",
    "\n",
    "for i in range(len(freq_array)):\n",
    "    freq_array[i, :] = freq_array[i, :] / freq_array.sum(axis=1)[i] # Η συχνότητα του όρου (αριθμός εμφάνισης όρου / συνολικοί όροι στο κείμενο)\n",
    "\n",
    "print(freq_array)"
   ]
  },
  {
   "cell_type": "markdown",
   "metadata": {
    "id": "n-ft9F1eVJPa"
   },
   "source": [
    "Ο δεύτερος όρος στο tf-idf είναι το **Inverse Document Frequency**:\n",
    "\n",
    "$$ idf(i) = log \\frac{N}{df(i)}$$\n",
    "\n",
    "Όπου *Ν* ο αριθμός των κειμένων και *df(i)* ο αριθμός των κειμένων στους οποίους εμφανίζεται ο όρος *i*. Το idf είναι ένας δείκτης της πληροφορίας που δίνει η κάθε λέξη. Αν η λέξη εμφανίζεται σε όλα τα κείμενα τότε αυτή δε δίνει καθόλου πληροφορία και το κλάσμα θα γίνει 1, άρα ο λογάριθμος θα μας δώσει την τιμή 0. Αντίθετα σε όσο πιο λίγα κείμενα εμφανίζεται η λέξη, τόσο πιο μεγάλη τιμή θα έχει το κλάσμα. "
   ]
  },
  {
   "cell_type": "code",
   "execution_count": 26,
   "metadata": {
    "executionInfo": {
     "elapsed": 35,
     "status": "ok",
     "timestamp": 1668433793562,
     "user": {
      "displayName": "Giorgos Siolas",
      "userId": "10127542075805046236"
     },
     "user_tz": -120
    },
    "id": "YmsGVtFDVJPb"
   },
   "outputs": [],
   "source": [
    "non_zero_elements_per_row = np.zeros((len(freq_array[0])))\n",
    "\n",
    "for i in range(len(freq_array)):\n",
    "    for j in range(len(freq_array[0])):\n",
    "        if freq_array[i,j]>0.0:\n",
    "            non_zero_elements_per_row[j] += 1\n",
    "\n",
    "#non_zero_elements_per_row = np.count_nonzero(freq_array, axis=0)\n",
    "\n",
    "idf = np.log10(float(len(freq_array))/non_zero_elements_per_row) # ο αριθμητής του κλάσματος είναι ο αριθμός των κειμένων μας \n",
    "                                                                 # (ή ο αριθμός των γραμμών στον πίνακα freq_array)\n",
    "                                                                 # η np.count_zero μετράει πόσα μη μηδενικά στοιχεία έχει ο πίνακας \n",
    "                                                                 # (στην περίπτωσή μας ο παρονομαστής του κλάσματος του idf)"
   ]
  },
  {
   "cell_type": "markdown",
   "metadata": {
    "id": "BhOpEdJ6VJPd"
   },
   "source": [
    "Το tf-idf τελικά υπολογίζεται ως το γινόμενο των δύο όρων:\n",
    "\n",
    "$$ tfidf(i) = tf(i,d) \\cdot idf(i)$$"
   ]
  },
  {
   "cell_type": "code",
   "execution_count": 27,
   "metadata": {
    "colab": {
     "base_uri": "https://localhost:8080/"
    },
    "executionInfo": {
     "elapsed": 36,
     "status": "ok",
     "timestamp": 1668433793563,
     "user": {
      "displayName": "Giorgos Siolas",
      "userId": "10127542075805046236"
     },
     "user_tz": -120
    },
    "id": "oakbvK76VJPe",
    "outputId": "8253d615-f155-4113-b7b1-f65659a996d9",
    "scrolled": true
   },
   "outputs": [
    {
     "name": "stdout",
     "output_type": "stream",
     "text": [
      "[[0.02842429 0.05684857 0.08527286 0.02842429 0.05684857 0.03169268\n",
      "  0.05684857 0.01584634 0.         0.         0.         0.\n",
      "  0.         0.         0.        ]\n",
      " [0.039794   0.039794   0.119382   0.039794   0.039794   0.02218487\n",
      "  0.039794   0.02218487 0.         0.         0.         0.\n",
      "  0.         0.         0.        ]\n",
      " [0.         0.         0.         0.         0.         0.02773109\n",
      "  0.         0.05546219 0.26211375 0.1747425  0.         0.\n",
      "  0.         0.         0.        ]\n",
      " [0.         0.         0.         0.         0.         0.\n",
      "  0.         0.         0.         0.         0.10852909 0.10852909\n",
      "  0.10852909 0.03617636 0.03617636]\n",
      " [0.         0.         0.         0.         0.         0.\n",
      "  0.         0.         0.         0.         0.05684857 0.11369715\n",
      "  0.11369715 0.05684857 0.05684857]]\n"
     ]
    }
   ],
   "source": [
    "tf_idf = freq_array * idf # το tf-idf είναι απλά το γινόμενο του tf με το idf\n",
    "\n",
    "print(tf_idf)"
   ]
  },
  {
   "cell_type": "markdown",
   "metadata": {
    "id": "eKCWHEfuVJPi"
   },
   "source": [
    "Για να δούμε ποιο κείμενο βρίσκεται πιο κοντά στο άλλο, υπολογίζουμε απλά τις αποστάσεις του ενός διανύσματος απ' το άλλο."
   ]
  },
  {
   "cell_type": "code",
   "execution_count": 28,
   "metadata": {
    "colab": {
     "base_uri": "https://localhost:8080/"
    },
    "executionInfo": {
     "elapsed": 32,
     "status": "ok",
     "timestamp": 1668433793565,
     "user": {
      "displayName": "Giorgos Siolas",
      "userId": "10127542075805046236"
     },
     "user_tz": -120
    },
    "id": "QyW1IV6zVJPi",
    "outputId": "ef7c48eb-69ff-4364-d38d-7835328b6536",
    "scrolled": true
   },
   "outputs": [
    {
     "name": "stdout",
     "output_type": "stream",
     "text": [
      "[[0.         0.05358886 0.96113036 1.         1.        ]\n",
      " [0.05358886 0.         0.96222231 1.         1.        ]\n",
      " [0.96113036 0.96222231 0.         1.         1.        ]\n",
      " [1.         1.         1.         0.         0.04818273]\n",
      " [1.         1.         1.         0.04818273 0.        ]]\n"
     ]
    }
   ],
   "source": [
    "distances = np.zeros((len(tf_idf), len(tf_idf)))\n",
    "\n",
    "import scipy as sp\n",
    "for i in range(len(tf_idf)):\n",
    "      for j in range(len(tf_idf)):\n",
    "            distances[i,j]= sp.spatial.distance.cosine(tf_idf[i],tf_idf[j])\n",
    "            #distances[i,j] = sum(np.abs(tf_idf[i] - tf_idf[j])) # το ίδιο με ευκλείδια, εδώ είναι λιγότερο κακή γιατί έχουμε κανονικοποιησει ως προς το μήκος\n",
    "print(distances)"
   ]
  },
  {
   "cell_type": "markdown",
   "metadata": {
    "id": "N65CJy19VJPm"
   },
   "source": [
    "Όπως παρατηρούμε τα πρώτα 2 και τα τελευταία 2 διανύσματα του πίνακα έχουν πολύ μικρή απόσταση (της τάξης του 0.1). Αντίθετα όλα τα υπόλοιπα έχουν απόσταση μεγαλύτερη από 0.5.\n"
   ]
  },
  {
   "cell_type": "markdown",
   "metadata": {
    "id": "w0T-s4Zx19cL"
   },
   "source": [
    "## Εφαρμογή: Ομαδοποίηση κειμένων"
   ]
  },
  {
   "cell_type": "markdown",
   "metadata": {
    "id": "oWmjWb8H159y"
   },
   "source": [
    "\n",
    "### Ιεραρχικό Clustering\n",
    "\n",
    "Στην εφαρμογή αυτή θα χρησιμοποιήσουμε ιεραρχικό clustering με την [μέθοδο ελαχιστοποίησης της διασποράς του Ward](https://en.wikipedia.org/wiki/Ward%27s_method). Ο αλγόριθμος αυτός ψάχνει αναδρομικά να βρει το ζεύγος των cluster που αν τα ενώσουμε θα δώσει την ελάχιστη αύξηση στη συνολική εσωτερική διασπορά των cluster. (Σημ. εσωτερική διασπορά θεωρούμε τη διασπορά όλων των σημείων από το κέντρο του cluster και ορίζεται για κάθε cluster ξεχωριστά. Συνολική εσωτερική διασπορά θεωρούμε το άθροισμα όλων των εσωτερικών διασπορών για κάθε cluster).\n",
    "\n",
    "Αρχικά θεωρεί ότι το κάθε σημείο είναι κι από ένα cluster. Έπειτα ψάχνει να βρει ποιο ζεύγος σημείων, αν ενωθούν σε ένα cluster, θα οδηγήσουν στην ελάχιστη αύξηση της συνολικής εσωτερικής διασποράς. Προφανώς, στην περίπτωση αυτή θα είναι τα δύο πιο κοντινά σημεία. Η διαδικασία αυτή επαναλαμβάνεται μέχρις ότου να καταλήξουμε σε 2 ομάδες. \n",
    "\n",
    "Αυτό μπορεί να υλοποιηθεί πολύ απλά στο [scikit-learn](https://docs.scipy.org/doc/scipy/reference/generated/scipy.cluster.hierarchy.linkage.html) στο προηγούμενο παράδειγμα με τις προτάσεις:"
   ]
  },
  {
   "cell_type": "code",
   "execution_count": 29,
   "metadata": {
    "colab": {
     "base_uri": "https://localhost:8080/",
     "height": 268
    },
    "executionInfo": {
     "elapsed": 30,
     "status": "ok",
     "timestamp": 1668433793567,
     "user": {
      "displayName": "Giorgos Siolas",
      "userId": "10127542075805046236"
     },
     "user_tz": -120
    },
    "id": "0gzxgxaXVJPn",
    "outputId": "0004725e-eb6d-4fc9-a30c-76e4bc0d1209"
   },
   "outputs": [
    {
     "data": {
      "image/png": "[encoded data removed]",
      "text/plain": [
       "<Figure size 432x288 with 1 Axes>"
      ]
     },
     "metadata": {
      "needs_background": "light"
     },
     "output_type": "display_data"
    }
   ],
   "source": [
    "import matplotlib.pyplot as plt\n",
    "\n",
    "from scipy.cluster import hierarchy\n",
    "Z = hierarchy.linkage(tf_idf, 'ward') # εκπαιδεύει τον αλγόριθμο\n",
    "plt.figure()\n",
    "dn = hierarchy.dendrogram(Z) # σχεδιάζει ένα δενδρόγραμμα με το αποτέλεσμα του ιεραρχικού αλγορίθμου"
   ]
  },
  {
   "cell_type": "markdown",
   "metadata": {
    "id": "uGx-U97PVJPq"
   },
   "source": [
    "Παρατηρούμε ότι οι προτάσεις που βρίσκονται κοντά μεταξύ τους καταλήγουν και σε κοινά cluster. Θα προσπαθήσουμε να εφαρμόσουμε την τεχνική αυτή και σε ένα πραγματικό πρόβλημα με αληθινά κείμενα.\n"
   ]
  },
  {
   "cell_type": "markdown",
   "metadata": {
    "id": "uHZHhc7iaZUi"
   },
   "source": [
    "\n",
    "### 20 Newsgroups dataset\n",
    "\n",
    "Ως πραγματικό παράδειγμα θα χρησιμοποιήσουμε το [20 Newsgroups](http://qwone.com/~jason/20Newsgroups/) dataset, το οποίο υπάρχει και μέσα στο [sklearn](http://scikit-learn.org/stable/datasets/twenty_newsgroups.html). Για το clustering θα χρησιμοποιήσουμε τον ιεραρχικό αλγόριθμο που μελετήσαμε προηγουμένως."
   ]
  },
  {
   "cell_type": "code",
   "execution_count": 30,
   "metadata": {
    "executionInfo": {
     "elapsed": 14782,
     "status": "ok",
     "timestamp": 1668433808321,
     "user": {
      "displayName": "Giorgos Siolas",
      "userId": "10127542075805046236"
     },
     "user_tz": -120
    },
    "id": "01oYTGVYVJPr"
   },
   "outputs": [],
   "source": [
    "from sklearn.datasets import fetch_20newsgroups\n",
    "newsgroups = fetch_20newsgroups(subset='all')"
   ]
  },
  {
   "cell_type": "markdown",
   "metadata": {
    "id": "G_PUNTJkcU90"
   },
   "source": [
    "To 20 newsgroups είναι και αυτό ένα dataset για κατηγοριοποίηση ή ομαδοποίηση κειμένων. Τυπώνουμε τις κατηγορίες των κειμένων:"
   ]
  },
  {
   "cell_type": "code",
   "execution_count": 31,
   "metadata": {
    "colab": {
     "base_uri": "https://localhost:8080/"
    },
    "executionInfo": {
     "elapsed": 21,
     "status": "ok",
     "timestamp": 1668433808322,
     "user": {
      "displayName": "Giorgos Siolas",
      "userId": "10127542075805046236"
     },
     "user_tz": -120
    },
    "id": "hGjtK1xabZ1d",
    "outputId": "63ea062e-2493-46df-9155-acc0fe4885a9"
   },
   "outputs": [
    {
     "name": "stdout",
     "output_type": "stream",
     "text": [
      "['alt.atheism', 'comp.graphics', 'comp.os.ms-windows.misc', 'comp.sys.ibm.pc.hardware', 'comp.sys.mac.hardware', 'comp.windows.x', 'misc.forsale', 'rec.autos', 'rec.motorcycles', 'rec.sport.baseball', 'rec.sport.hockey', 'sci.crypt', 'sci.electronics', 'sci.med', 'sci.space', 'soc.religion.christian', 'talk.politics.guns', 'talk.politics.mideast', 'talk.politics.misc', 'talk.religion.misc']\n"
     ]
    }
   ],
   "source": [
    "print(newsgroups.target_names)"
   ]
  },
  {
   "cell_type": "markdown",
   "metadata": {
    "id": "pquHlH5tVJPw"
   },
   "source": [
    "Θα πάρουμε 3 κατηγορίες από το dataset αυτό και θα δημιουργήσουμε ένα corpus με τα πρώτα 5 κείμενα από κάθε κατηγορία. Για ευκολία θα επιλέξουμε 3 αρκετά ξεκάθαρες μεταξύ τους κατηγορίες."
   ]
  },
  {
   "cell_type": "code",
   "execution_count": 32,
   "metadata": {
    "colab": {
     "base_uri": "https://localhost:8080/"
    },
    "executionInfo": {
     "elapsed": 564,
     "status": "ok",
     "timestamp": 1668433808872,
     "user": {
      "displayName": "Giorgos Siolas",
      "userId": "10127542075805046236"
     },
     "user_tz": -120
    },
    "id": "Tq6P3Xd3VJPy",
    "outputId": "b3d96310-c9e5-4c55-d168-bc2809611404"
   },
   "outputs": [
    {
     "name": "stdout",
     "output_type": "stream",
     "text": [
      "Input shape: 15 \n",
      "\n",
      "In <16BA7103C3.I3150101@dbstu1.rz.tu-bs.de> I3150101@dbstu1.rz.tu-bs.de (Benedikt Rosenau) writes:\n",
      "\n",
      ">In article <1993Apr5.091258.11830@monu6.cc.monash.edu.au>\n",
      ">darice@yoyo.cc.monash.edu.au (Fred Rice) writes:\n",
      "> \n",
      ">(Deletion)\n",
      ">>>>Of course people say what they think to be the religion, and that this\n",
      ">>>>is not exactly the same coming from different people within the\n",
      ">>>>religion.  There is nothing with there existing different perspectives\n",
      ">>>>within the religion -- perhaps one can say that they tend to converge on\n",
      ">>>>the truth.\n",
      ">>\n",
      ">>>My point is that they are doing a lot of harm on the way in the meantime.\n",
      ">>>\n",
      ">>>And that they converge is counterfactual, religions appear to split and\n",
      ">>>diverge. Even when there might be a 'True Religion' at the core, the layers\n",
      ">>>above determine what happens in practise, and they are quite inhumane\n",
      ">>>usually.\n",
      ">>>\n",
      "> \n",
      ">What you post then is supposed to be an answer, but I don't see what is has\n",
      ">got to do with what I say.\n",
      "> \n",
      ">I will repeat it. Religions\n",
      "-----\n",
      "Disclaimer -- This is for fun.\n",
      "\n",
      "In my computerized baseball game, I keep track of a category called\n",
      "\"stolen hits\", defined as a play made that \"an average fielder would not\n",
      "make with average effort.\"  Using the 1992 Defensive Averages posted\n",
      "by Sherri Nichols (Thanks Sherri!), I've figured out some defensive stats\n",
      "for the second basemen. Hits Stolen have been redefined as \"Plays Kurt\n",
      "Stillwell would not have made.\"\n",
      "\n",
      "OK, I realize that's unfair.  Kurt's probably the victim of pitching staff,\n",
      "fluke shots, and a monster park factor.  But let's put it this way:  If we\n",
      "replaced every second baseman in the NL with someone with Kurt's 57.6% out\n",
      "making ability, how many extra hits would go by?\n",
      "\n",
      "To try and correlate it to reality a little more, I've calculated Net\n",
      "Hits Stolen, based on the number of outs made compared to what a league\n",
      "average fielder would make.  By the same method I've calculated Net Double\n",
      "Plays, and Net Extra Bases (doubles and triples let by).\n",
      "\n",
      "Finally, I throw all this int\n"
     ]
    }
   ],
   "source": [
    "import functools\n",
    "\n",
    "categ = ['alt.atheism', 'comp.graphics', 'rec.sport.baseball']\n",
    "data = functools.reduce(lambda x,y: x+y, [fetch_20newsgroups(categories=[x], remove=('headers', 'footers'))['data'][:5] for x in categ])\n",
    "print('Input shape:', len(data), '\\n')\n",
    "print(data[0][:1000])\n",
    "print(\"-----\")\n",
    "print(data[13][:1000])"
   ]
  },
  {
   "cell_type": "markdown",
   "metadata": {
    "id": "UhkPMD3lVJP2"
   },
   "source": [
    "Σημειώστε εδώ ότι με το να πετάμε τους πολύ σπάνιους όρους ξεφορτωνόμαστε διάφορα σπάνια strings όπως emails, τυπογραφικά λάθη, \"παράξενα\" σύμβολα κλπ\n",
    "\n",
    "\n",
    "### TfidfVectorizer και μείωση της διαστατικότητας του VSM\n",
    "\n",
    "Για την προεπεξεργασία των αρχείων θα χρησιμοποιήσουμε τη συνάρτηση [TfidfVectorizer](http://scikit-learn.org/stable/modules/generated/sklearn.feature_extraction.text.TfidfVectorizer.html) του sklearn. Η συγκεκριμένη συνάρτηση έχει τη δυνατότητα να υποστηρίξει και όλη την [προεπεξεργασία](http://scikit-learn.org/stable/modules/feature_extraction.html#customizing-the-vectorizer-classes) που κάναμε προηγουμένως (stopwords, stemming, lematizing, κτλ). Επίσης δέχεται και πολλές επιπλέον παραμέτρους όπως την `max_df=x` η οποία αγνοεί τους όρους που εμφανίζονται σε ποσοστό `x` των κειμένων και πάνω  (δηλ. λέξεις πολύ συχνές στο συγκεκριμένο σύνολο κειμένων), και την `min_df=y` η οποία αγνοεί τους όρους οι οποίοι εμφανίζονται σε ποσοστό μικρότερο από `y` του συνόλου των κειμένων (δηλ. πολύ σπάνιοι όροι). Για το παρακάτω παράδειγμα. Το "
   ]
  },
  {
   "cell_type": "code",
   "execution_count": 33,
   "metadata": {
    "colab": {
     "base_uri": "https://localhost:8080/",
     "height": 355
    },
    "executionInfo": {
     "elapsed": 535,
     "status": "ok",
     "timestamp": 1668433809398,
     "user": {
      "displayName": "Giorgos Siolas",
      "userId": "10127542075805046236"
     },
     "user_tz": -120
    },
    "id": "eGUujy-TVJP3",
    "outputId": "a86952e1-1149-44b5-bace-3857587b75bb"
   },
   "outputs": [
    {
     "name": "stdout",
     "output_type": "stream",
     "text": [
      "Dimensions before optimizing TfidfVectorizer parameters\n",
      "TF-IDF array shape: (15, 1232)\n",
      "Dimensions after optimizing TfidfVectorizer parameters\n",
      "TF-IDF array shape: (15, 124)\n"
     ]
    },
    {
     "data": {
      "text/plain": [
       "<function print>"
      ]
     },
     "execution_count": 33,
     "metadata": {},
     "output_type": "execute_result"
    },
    {
     "data": {
      "image/png": "[encoded data removed]",
      "text/plain": [
       "<Figure size 432x288 with 1 Axes>"
      ]
     },
     "metadata": {
      "needs_background": "light"
     },
     "output_type": "display_data"
    }
   ],
   "source": [
    "from sklearn.feature_extraction.text import TfidfVectorizer\n",
    "\n",
    "print(\"Dimensions before optimizing TfidfVectorizer parameters\")\n",
    "vectorizer = TfidfVectorizer()\n",
    "tf_idf_array = vectorizer.fit_transform(data).toarray() # επιστρέφει sparse matrix, γι'αυτό το κάνουμε .toarray()\n",
    "print('TF-IDF array shape:', tf_idf_array.shape)\n",
    "\n",
    "print(\"Dimensions after optimizing TfidfVectorizer parameters\")\n",
    "vectorizer = TfidfVectorizer(max_df=0.5, min_df=2, stop_words='english')\n",
    "tf_idf_array = vectorizer.fit_transform(data).toarray() # επιστρέφει sparse matrix, γι'αυτό το κάνουμε .toarray()\n",
    "print('TF-IDF array shape:', tf_idf_array.shape)\n",
    "Z = hierarchy.linkage(tf_idf_array, 'ward')\n",
    "\n",
    "labels = ['a'] * 5 + ['g'] * 5 + ['b'] * 5 # 'a' = atheism, 'g' = graphics, 'b' = baseball \n",
    "plt.figure()\n",
    "dn = hierarchy.dendrogram(Z, labels=labels, color_threshold=0) # σχεδιάζει ένα δενδρόγραμμα με το αποτέλεσμα του ιεραρχικού αλγορίθμου\n",
    "\n",
    "colors = {'a':'r', 'g':'g', 'b':'b'}\n",
    "for l in plt.gca().get_xticklabels():\n",
    "    l.set_color(colors[l.get_text()])\n",
    "print"
   ]
  },
  {
   "cell_type": "markdown",
   "metadata": {
    "id": "hbstBcfgVJP6"
   },
   "source": [
    "Παρατηρούμε ότι όντως τοποθετεί με αρκετά καλή ακρίβεια τα κλαδιά που περιέχουν κείμενα από την ίδια κατηγορία. Επίσης ο αλγόριθμος αυτός μπορεί να εντοπίσει και ιεραρχίες εντός της κάθε ομάδας. (Σημ. σε ένα πραγματικό unsupervised πρόβλημα τα χρώματα και τα label στον άξονα x **δεν** είναι διαθέσιμα).\n"
   ]
  },
  {
   "cell_type": "markdown",
   "metadata": {
    "id": "19cZxmnnhtu3"
   },
   "source": [
    "\n",
    "Σημειώστε επίσης την τεράστια επίδραση στις διαστάσεις των διανυσμάτων (το 1/10) που έχουν οι παράμετροι του  TfidfVectorizer. Στην πράξη προσπαθούμε να μικρύνουμε όσο γίνεται τις διαστάσεις μέχρι το σημείο που αρχίζει να πέφτει η ποιότητα (της κατηγοριοποίησης, του clustering κοκ).\n"
   ]
  },
  {
   "cell_type": "markdown",
   "metadata": {
    "id": "axdk56-nhvyn"
   },
   "source": [
    "\n",
    "### k-Means και πλήθος clusters\n",
    "\n",
    "Θα δοκιμάσουμε επίσης για το ίδιο πρόβλημα και τον **k-means**, σε περισσότερα κείμενα. Πρώτα φορτώνουμε τα κείμενα..."
   ]
  },
  {
   "cell_type": "code",
   "execution_count": 34,
   "metadata": {
    "colab": {
     "base_uri": "https://localhost:8080/"
    },
    "executionInfo": {
     "elapsed": 1251,
     "status": "ok",
     "timestamp": 1668433810644,
     "user": {
      "displayName": "Giorgos Siolas",
      "userId": "10127542075805046236"
     },
     "user_tz": -120
    },
    "id": "yiUI7OoLVJP6",
    "outputId": "43584457-134a-4a88-de24-0cf63862db76"
   },
   "outputs": [
    {
     "name": "stdout",
     "output_type": "stream",
     "text": [
      "Σύνολο κειμένων: 300\n"
     ]
    }
   ],
   "source": [
    "categ = ['alt.atheism', 'comp.graphics', 'rec.sport.baseball']\n",
    "data = functools.reduce(lambda x,y: x+y, [fetch_20newsgroups(categories=[x], remove=('headers', 'footers'))['data'][:100] for x in categ])\n",
    "print('Σύνολο κειμένων:', len(data))"
   ]
  },
  {
   "cell_type": "markdown",
   "metadata": {
    "id": "PVXBumV-VJP9"
   },
   "source": [
    "Στη συνέχεια εφαρμόζουμε την προεπεξεργασία και τρέχουμε τον k-means για διάφορα k για να βρούμε το βέλτιστο."
   ]
  },
  {
   "cell_type": "code",
   "execution_count": 35,
   "metadata": {
    "executionInfo": {
     "elapsed": 1426,
     "status": "ok",
     "timestamp": 1668433812067,
     "user": {
      "displayName": "Giorgos Siolas",
      "userId": "10127542075805046236"
     },
     "user_tz": -120
    },
    "id": "fgJO85EcVJP-"
   },
   "outputs": [],
   "source": [
    "from sklearn.cluster import KMeans\n",
    "from sklearn.metrics import silhouette_score\n",
    "tf_idf_array = vectorizer.fit_transform(data)\n",
    "\n",
    "silhouette_scores = []\n",
    "for k in range(2, 10):\n",
    "    km = KMeans(k)\n",
    "    preds = km.fit_predict(tf_idf_array)\n",
    "    silhouette_scores.append(silhouette_score(tf_idf_array, preds))"
   ]
  },
  {
   "cell_type": "markdown",
   "metadata": {
    "id": "b4FUiTrfVJQA"
   },
   "source": [
    "Σχεδιάζουμε τη γραφική του silhouette και βρίσκουμε το βέλτιστο k. Αυτό αντιπροσωπεύει τον αριθμό των κατηγοριών στις οποίες ανήκουν τα κείμενά μας."
   ]
  },
  {
   "cell_type": "code",
   "execution_count": 36,
   "metadata": {
    "colab": {
     "base_uri": "https://localhost:8080/",
     "height": 284
    },
    "executionInfo": {
     "elapsed": 28,
     "status": "ok",
     "timestamp": 1668433812070,
     "user": {
      "displayName": "Giorgos Siolas",
      "userId": "10127542075805046236"
     },
     "user_tz": -120
    },
    "id": "vrnA-CPuVJQB",
    "outputId": "cca606d6-98ad-4caa-c024-66f22cc8d222"
   },
   "outputs": [
    {
     "name": "stdout",
     "output_type": "stream",
     "text": [
      "Maximum average silhouette score for k = 3\n"
     ]
    },
    {
     "data": {
      "image/png": "[encoded data removed]",
      "text/plain": [
       "<Figure size 432x288 with 1 Axes>"
      ]
     },
     "metadata": {
      "needs_background": "light"
     },
     "output_type": "display_data"
    }
   ],
   "source": [
    "plt.plot(range(2, 10), silhouette_scores)\n",
    "best_k = np.argmax(silhouette_scores) + 2 # +2 γιατί ξεκινάμε το range() από k=2 και όχι από 0 που ξεκινάει η αρίθμηση της λίστας\n",
    "plt.scatter(best_k, silhouette_scores[best_k-2], color='r') # για τον ίδιο λόγο το καλύτερο k είναι αυτό 2 θέσεις παρακάτω από το index της λίστας\n",
    "plt.xlim([2,9])\n",
    "plt.annotate(\"best k\", xy=(best_k, silhouette_scores[best_k-2]), xytext=(5, silhouette_scores[best_k-2]),arrowprops=dict(arrowstyle=\"->\")) # annotation\n",
    "print('Maximum average silhouette score for k =', best_k)"
   ]
  },
  {
   "cell_type": "markdown",
   "metadata": {
    "id": "5PmC1zVwVJQG"
   },
   "source": [
    "Με το κριτήριο silhouette βρήκαμε 3 cluster στα κείμενά μας, όσες κατηγορίες είχαμε και αρχικά.\n",
    "Ας εκτυπώσουμε τις ετικέτες που μας δίνει ο k-means:"
   ]
  },
  {
   "cell_type": "code",
   "execution_count": 37,
   "metadata": {
    "colab": {
     "base_uri": "https://localhost:8080/"
    },
    "executionInfo": {
     "elapsed": 22,
     "status": "ok",
     "timestamp": 1668433812071,
     "user": {
      "displayName": "Giorgos Siolas",
      "userId": "10127542075805046236"
     },
     "user_tz": -120
    },
    "id": "00e7BytwVJQG",
    "outputId": "867eccb0-1874-4f1e-d944-3060676499ae"
   },
   "outputs": [
    {
     "name": "stdout",
     "output_type": "stream",
     "text": [
      "[2 2 2 2 2 2 2 2 2 0 2 2 2 2 2 2 2 2 2 1 1 2 2 2 1 2 2 2 1 2 2 2 2 2 2 2 2\n",
      " 1 2 2 2 2 2 2 2 2 1 2 1 2 2 2 2 1 2 2 2 1 2 2 2 1 1 1 2 2 2 1 2 2 2 2 1 0\n",
      " 1 2 2 2 2 2 2 2 1 1 2 2 2 1 2 2 2 2 1 2 2 2 2 2 2 2 1 1 1 1 1 1 1 1 1 1 1\n",
      " 1 1 1 1 1 1 1 1 1 0 1 1 1 1 1 1 1 1 1 1 1 1 1 1 1 1 1 1 1 1 1 1 1 1 1 1 1\n",
      " 1 1 1 1 1 1 1 0 1 1 1 1 1 1 1 1 1 1 1 1 1 1 1 1 1 1 1 1 1 1 1 1 1 1 1 1 1\n",
      " 1 1 1 1 1 1 1 1 1 1 1 1 1 1 1 1 2 0 0 0 0 0 2 0 1 0 2 0 0 0 1 1 1 0 0 0 0\n",
      " 0 0 0 0 0 1 0 0 0 0 1 0 0 0 1 1 1 0 1 0 1 0 1 1 0 0 1 0 0 1 0 0 0 0 0 0 0\n",
      " 0 0 1 0 0 0 0 1 1 0 1 1 0 0 0 1 0 0 0 0 0 1 0 0 0 0 1 0 0 1 2 0 1 0 1 0 0\n",
      " 1 1 0 0]\n"
     ]
    }
   ],
   "source": [
    "km = KMeans(best_k)\n",
    "km.fit(tf_idf_array)\n",
    "print(km.labels_)"
   ]
  },
  {
   "cell_type": "markdown",
   "metadata": {
    "id": "qlwgP3UfVJQN"
   },
   "source": [
    "Ξέρουμε ότι στο σύνολό μας, τα πρώτα 100 κείμενα ανήκουν στην 1η κατηγορία, τα επόμενα 100 στη δεύτερη, κτλ. Από τις παραπάνω προβλέψεις βλέπουμε ότι τα έχει πάει αρκετά καλά ο k-means. Σημειώστε ότι το label δεν έχει σημασία. \n",
    "Για να δούμε για ποιο πράγμα μιλάει η κάθε κατηγορία, μπορούμε να βρούμε τους top όρους για κάθε ομάδα."
   ]
  },
  {
   "cell_type": "code",
   "execution_count": 38,
   "metadata": {
    "colab": {
     "base_uri": "https://localhost:8080/"
    },
    "executionInfo": {
     "elapsed": 16,
     "status": "ok",
     "timestamp": 1668433812073,
     "user": {
      "displayName": "Giorgos Siolas",
      "userId": "10127542075805046236"
     },
     "user_tz": -120
    },
    "id": "oDPxSPMmVJQO",
    "outputId": "3720432f-7775-435a-da2c-6e1627046e96"
   },
   "outputs": [
    {
     "name": "stdout",
     "output_type": "stream",
     "text": [
      "Cluster 0: year team game edu better games hitter like good hit baseball season play pitching cubs article clemens win alomar fans\n",
      "Cluster 1: thanks image graphics know edu files hi does file mail program article help just information book card use looking com\n",
      "Cluster 2: god edu people think don article atheism believe com say just does exist islam argument wrong bible moral objective morality\n"
     ]
    }
   ],
   "source": [
    "terms = vectorizer.get_feature_names_out()\n",
    "order_centroids = km.cluster_centers_.argsort()[:, ::-1]\n",
    "for i in range(best_k):\n",
    "    out = \"Cluster %d:\" % i\n",
    "    for ind in order_centroids[i, :20]:\n",
    "        out += ' %s' % terms[ind]\n",
    "    print(out)"
   ]
  },
  {
   "cell_type": "markdown",
   "metadata": {
    "id": "Z-C8XiNYVJQR"
   },
   "source": [
    "Οι όροι βλέπουμε ότι έχουν όντως σχέση με το περιεχόμενο των κειμένων. Μπορούμε να τυπώσουμε και περισσότερα clusters και να διαπιστώσουμε ότι και αυτά έχουν σημασιολογική συνοχή."
   ]
  },
  {
   "cell_type": "code",
   "execution_count": 39,
   "metadata": {
    "colab": {
     "base_uri": "https://localhost:8080/"
    },
    "executionInfo": {
     "elapsed": 18,
     "status": "ok",
     "timestamp": 1668433812628,
     "user": {
      "displayName": "Giorgos Siolas",
      "userId": "10127542075805046236"
     },
     "user_tz": -120
    },
    "id": "Wu2sqzOdVJQS",
    "outputId": "9c69e460-5f2f-4ece-cd77-44ef3d5542bf"
   },
   "outputs": [
    {
     "name": "stdout",
     "output_type": "stream",
     "text": [
      "Cluster 0: book information copy baseball lost sent image mail appreciated steve imaging rules sun rule tiff number box appreciate mormon local\n",
      "Cluster 1: graphics image hi thanks program looking know color vga code card file help driver use appreciated package windows points comp\n",
      "Cluster 2: year edu game better season games clemens good article players team cubs sox hit league time know just alomar new\n",
      "Cluster 3: islam jaeger bu islamic muslim rushdie gregg muslims edu uk god article law buphy laws khomeini true bcci book religion\n",
      "Cluster 4: moral morality edu psuvm think natural uiuc species team immoral psu don win examples wrong saying humans fellow cso ico\n",
      "Cluster 5: god atheism edu exist believe atheists don existence value people atheist think just mean say bible article ultb rit isc\n",
      "Cluster 6: thanks does mike play position lansing advance texas bsa line colorado plus transform baseman address accepted algorithm super add cold\n",
      "Cluster 7: come edu jewish john hitter article mary maine baseball joseph somebody got maybe knew stadium just does colorado gov msstate\n",
      "Cluster 8: files com thanks article file read pd just look hdf edu gl newsgroup says faq people use viewer love earth\n",
      "Cluster 9: people mathew don like com war say ellipse religion liar good uk mantis better commit bible koresh die yes crime\n"
     ]
    }
   ],
   "source": [
    "km = KMeans(10)\n",
    "km.fit(tf_idf_array)\n",
    "order_centroids = km.cluster_centers_.argsort()[:, ::-1]\n",
    "for i in range(10):\n",
    "    out = \"Cluster %d:\" % i\n",
    "    for ind in order_centroids[i, :20]:\n",
    "        out += ' %s' % terms[ind]\n",
    "    print(out)"
   ]
  },
  {
   "cell_type": "markdown",
   "metadata": {
    "id": "fIMe-MMjjBXn"
   },
   "source": [
    "Σημειώστε ότι η παρουσία διάφορων όρων όπως edu, use, thanks που είτε υπάρχουν παντού είτε έχουν προφανώς μικρή σημασιολογική αξία, δείχνει ότι θα μπορούσαμε να κάνουμε ακόμα καλύτερη προεπεξεργασία και διανυσματική αναπαράσταση. "
   ]
  }
 ],
 "metadata": {
  "colab": {
   "provenance": []
  },
  "kernelspec": {
   "display_name": "Python 3",
   "language": "python",
   "name": "python3"
  },
  "language_info": {
   "codemirror_mode": {
    "name": "ipython",
    "version": 3
   },
   "file_extension": ".py",
   "mimetype": "text/x-python",
   "name": "python",
   "nbconvert_exporter": "python",
   "pygments_lexer": "ipython3",
   "version": "3.8.10"
  }
 },
 "nbformat": 4,
 "nbformat_minor": 1
}
