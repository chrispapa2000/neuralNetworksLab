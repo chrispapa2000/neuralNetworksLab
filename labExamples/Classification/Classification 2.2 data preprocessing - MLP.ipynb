{
 "cells": [
  {
   "cell_type": "code",
   "execution_count": 1,
   "metadata": {
    "id": "gd8SH8deJKzA",
    "scrolled": true
   },
   "outputs": [
    {
     "name": "stdout",
     "output_type": "stream",
     "text": [
      "Defaulting to user installation because normal site-packages is not writeable\n",
      "Requirement already satisfied: pip in /home/chris/.local/lib/python3.8/site-packages (22.3.1)\n",
      "Defaulting to user installation because normal site-packages is not writeable\n",
      "Requirement already satisfied: scikit-learn in /home/chris/.local/lib/python3.8/site-packages (1.1.3)\n",
      "Requirement already satisfied: numpy>=1.17.3 in /home/chris/.local/lib/python3.8/site-packages (from scikit-learn) (1.23.4)\n",
      "Requirement already satisfied: joblib>=1.0.0 in /home/chris/.local/lib/python3.8/site-packages (from scikit-learn) (1.1.0)\n",
      "Requirement already satisfied: scipy>=1.3.2 in /home/chris/.local/lib/python3.8/site-packages (from scikit-learn) (1.8.1)\n",
      "Requirement already satisfied: threadpoolctl>=2.0.0 in /home/chris/.local/lib/python3.8/site-packages (from scikit-learn) (3.1.0)\n",
      "Defaulting to user installation because normal site-packages is not writeable\n",
      "Requirement already satisfied: numpy in /home/chris/.local/lib/python3.8/site-packages (1.23.4)\n",
      "Defaulting to user installation because normal site-packages is not writeable\n",
      "Requirement already satisfied: scipy in /home/chris/.local/lib/python3.8/site-packages (1.8.1)\n",
      "Collecting scipy\n",
      "  Downloading scipy-1.9.3-cp38-cp38-manylinux_2_17_x86_64.manylinux2014_x86_64.whl (33.8 MB)\n",
      "\u001b[2K     \u001b[38;2;114;156;31m━━━━━━━━━━━━━━━━━━━━━━━━━━━━━━━━━━━━━━━━\u001b[0m \u001b[32m33.8/33.8 MB\u001b[0m \u001b[31m5.5 MB/s\u001b[0m eta \u001b[36m0:00:00\u001b[0mm eta \u001b[36m0:00:01\u001b[0m[36m0:00:01\u001b[0m\n",
      "\u001b[?25hRequirement already satisfied: numpy<1.26.0,>=1.18.5 in /home/chris/.local/lib/python3.8/site-packages (from scipy) (1.23.4)\n",
      "Installing collected packages: scipy\n",
      "  Attempting uninstall: scipy\n",
      "    Found existing installation: scipy 1.8.1\n",
      "    Uninstalling scipy-1.8.1:\n",
      "      Successfully uninstalled scipy-1.8.1\n",
      "Successfully installed scipy-1.9.3\n",
      "Defaulting to user installation because normal site-packages is not writeable\n",
      "Requirement already satisfied: pandas in /home/chris/.local/lib/python3.8/site-packages (1.4.2)\n",
      "Collecting pandas\n",
      "  Downloading pandas-1.5.1-cp38-cp38-manylinux_2_17_x86_64.manylinux2014_x86_64.whl (12.2 MB)\n",
      "\u001b[2K     \u001b[38;2;114;156;31m━━━━━━━━━━━━━━━━━━━━━━━━━━━━━━━━━━━━━━━━\u001b[0m \u001b[32m12.2/12.2 MB\u001b[0m \u001b[31m5.3 MB/s\u001b[0m eta \u001b[36m0:00:00\u001b[0mm eta \u001b[36m0:00:01\u001b[0m0:01\u001b[0m:01\u001b[0m\n",
      "\u001b[?25hRequirement already satisfied: pytz>=2020.1 in /home/chris/.local/lib/python3.8/site-packages (from pandas) (2022.1)\n",
      "Requirement already satisfied: python-dateutil>=2.8.1 in /home/chris/.local/lib/python3.8/site-packages (from pandas) (2.8.2)\n",
      "Requirement already satisfied: numpy>=1.20.3 in /home/chris/.local/lib/python3.8/site-packages (from pandas) (1.23.4)\n",
      "Requirement already satisfied: six>=1.5 in /usr/lib/python3/dist-packages (from python-dateutil>=2.8.1->pandas) (1.14.0)\n",
      "Installing collected packages: pandas\n",
      "  Attempting uninstall: pandas\n",
      "    Found existing installation: pandas 1.4.2\n",
      "    Uninstalling pandas-1.4.2:\n",
      "      Successfully uninstalled pandas-1.4.2\n",
      "Successfully installed pandas-1.5.1\n"
     ]
    }
   ],
   "source": [
    "!pip install --upgrade pip \n",
    "!pip install --upgrade scikit-learn \n",
    "!pip install --upgrade numpy \n",
    "!pip install --upgrade scipy \n",
    "!pip install --upgrade pandas "
   ]
  },
  {
   "cell_type": "markdown",
   "metadata": {
    "id": "_oZdbODzJKzF"
   },
   "source": [
    "# Εισαγωγή και επισκόπηση των δεδομένων.\n",
    "\n",
    "## Ένα dataset αναγνώρισης αντικειμένων σε εικόνα\n",
    "\n",
    "Σε αυτή την άσκηση θα προεπεξεργαστούμε μια σειρά χαρακτηριστικών χαμηλού επιπέδου που έχουν εξαχθεί από τμήματα εικόνων, και στη συνέχεια θα εκπαιδεύσουμε έναν νευρωνικό δίκτυο που θα τις κατατάσσει σε μία από τις 5 διαφορετικές κατηγορίες στις οποίες μπορεί να ανήκουν.\n",
    "\n",
    "![alt text](https://cdn-images-1.medium.com/max/1600/1*r9ELExnk1B1zHnRReDW9Ow.png)\n",
    "\n",
    "Ένα από τα πιο δημοφιλή προβλήματα στο χώρο της σημασιολογικής ανάλυσης πολυμεσικού υλικού αποτελεί η ταξινόμηση τμημάτων εικόνων με βάση το περιεχόμενο. Μια συνηθισμένη διαδικασία για την επίτευξη αυτού του σκοπού έχει ως εξής. Αρχικά ένας αλγόριθμος τμηματοποίησης επεξεργάζεται την εικόνα και τη χωρίζει σε περιοχές με παρόμοια χαρακτηριστικά χαμηλού επιπέδου (για παράδειγμα ιστογράμματα χρώματος, αναγνώριση ακμών κλπ). Τα τμήματα αυτά ταξινομούνται χειροκίνητα σύμφωνα με το περιεχόμενο τους σε κάποιες κατηγορίες. Με αυτό το τρόπο δημιουργείται ένα σύνολο εκπαίδευσης (χαρακτηριστικά και επιθυμητές αποκρίσεις) το οποίο χρησιμοποιείται από ένα νευρωνικό δίκτυο για την ταξινόμηση των τμημάτων της εικόνας. \n",
    "\n",
    "Σύμφωνα με την περιγραφή του dataset, οι πίνακες που μας δίνονται για την εκπαίδευση του δικτύου έχουν τα εξής περιεχόμενα:\n",
    "\n",
    "1. Κάθε στήλη του πίνακα TrainData αντιστοιχεί στο τμήμα μίας εικόνας ενώ κάθε γραμμή περιέχει χαρακτηριστικά χαμηλού επιπέδου (που αντιστοιχούν σε Descriptors) του τμήματος αυτού. Σύμφωνα με την περιγραφή του dataset το σύνολο τμημάτων εικόνας (δειγμάτων) στο train set είναι 645 και το σύνολο των χαρακτηριστικών είναι 586 \n",
    "2. Κάθε στήλη του πίνακα TrainDataTargets αντιστοιχεί στο τμήμα μίας εικόνας ενώ κάθε γραμμή αντιστοιχεί σε μία από τις κατηγορίες «Άλογο», «Σκύλος», «Πρόσωπο», «Αυτοκίνητο», «Ποδήλατο», «Λουλούδι» κ.ά. Γνωρίζουμε ότι το σύνολο των στηλών - δειγμάτων στο test set είναι 159 και ότι το σύνολο των κατηγοριών - γραμμών είναι 5 (Για την υλοποίηση της άσκησης έχουν δηλαδή επιλεξεί 5 μόνο κατηγορίες αντικειμένων). Στην περίπτωση που το τμήμα μιας εικόνας ανήκει σε μία από τις κατηγορίες τότε η αντίστοιχη γραμμή θα έχει την τιμή 1 ενώ οι υπόλοιπες γραμμές θα πάρουν την τιμή 0.\n",
    "\n",
    "Τα δεδομένα των πινάκων TrainData, TrainDataTargets θα χρησιμοποιηθούν για την εκπαίδευση του νευρωνικού δικτύου ενώ τα δεδομένα των πινάκων TestData, TestDataTargets θα χρησιμοποιηθούν ως μέτρο των επιδόσεων του νευρωνικού δικτύου. Προφανώς τα δεδομένα των πινάκων TestData και TestDataTargets έχουν αντίστοιχη δομή με τα δεδομένα των πινάκων TrainData και TrainDataTargets. \n",
    "\n",
    "Οι πίνακες των χαρακτηριστικών και ετικετών του train και test set στην περίπτωση αυτή μας δίνονται έτοιμοι και δεν κάνουμε εμείς split του dataset.\n",
    "\n",
    "Το πρώτο βήμα όταν διαχειριζόμαστε datasets είναι να τα εισάγουμε σωστά στο περιβάλλον μας και να βεβαιωθούμε ότι οι πίνακες έχουν τη σωστή μορφή.\n",
    "\n",
    "## Εισαγωγή dataset\n",
    "\n",
    "Θα εισάγουμε τα δεδομένα σε dataframes απευθείας από τα URL όπου είναι αποθηκευμένα."
   ]
  },
  {
   "cell_type": "code",
   "execution_count": 2,
   "metadata": {
    "id": "4W8Eo5R-iIrv"
   },
   "outputs": [
    {
     "name": "stdout",
     "output_type": "stream",
     "text": [
      "[[   1  -66 -168 ...  -44 -124 -107]\n",
      " [   2  -72   70 ...   49   69   38]\n",
      " [   3 -124   70 ...    0   60    7]\n",
      " ...\n",
      " [ 584  129   25 ...   88   92  116]\n",
      " [ 585  127    5 ...   92  101  123]\n",
      " [ 586  139    5 ...  114  126  154]]\n",
      "[[1 1 0 ... 0 0 0]\n",
      " [2 0 0 ... 0 0 0]\n",
      " [3 0 0 ... 1 1 1]\n",
      " [4 0 0 ... 0 0 0]\n",
      " [5 0 1 ... 0 0 0]]\n"
     ]
    }
   ],
   "source": [
    "import pandas as pd\n",
    "trainData = pd.read_csv(\"http://mycourses.ntua.gr/document/goto/?url=%2F%C5%F1%E3%E1%F3%F4%DE%F1%E9%EF_2018_-_2019%2FLab_4%2Fdata_files%2FtrainData.csv&cidReq=ECE1078\").values\n",
    "trainDataTargets = pd.read_csv(\"http://mycourses.ntua.gr/document/goto/?url=%2F%C5%F1%E3%E1%F3%F4%DE%F1%E9%EF_2018_-_2019%2FLab_4%2Fdata_files%2FtrainDataTargets.csv&cidReq=ECE1078\").values\n",
    "testData = pd.read_csv(\"http://mycourses.ntua.gr/document/goto/?url=%2F%C5%F1%E3%E1%F3%F4%DE%F1%E9%EF_2018_-_2019%2FLab_4%2Fdata_files%2FtestData.csv&cidReq=ECE1078\").values\n",
    "testDataTargets = pd.read_csv(\"http://mycourses.ntua.gr/document/goto/?url=%2F%C5%F1%E3%E1%F3%F4%DE%F1%E9%EF_2018_-_2019%2FLab_4%2Fdata_files%2FtestDataTargets.csv&cidReq=ECE1078\").values\n",
    "print(trainData)\n",
    "print(trainDataTargets)"
   ]
  },
  {
   "cell_type": "markdown",
   "metadata": {
    "id": "s9fiXqGYJKzL"
   },
   "source": [
    "Γνωρίζουμε ότι το csv μας περιέχουν μόνο αριθμητικά δεδομένα οπότε καλώντας τη μέθοδο .values τα δεδομένα μετατρέπονται αυτόματα σε πίνακα numpy αντί για data_frame. Προσοχή: σε csv που περιέχουν συνδυασμό strings και αριθμών ακολουθούμε τη μεθοδολογία με διαφορετικά dataframes ανάλογα τον τύπο δεδομένων που είδαμε στο τελευταίο section του notebook \"Classification 1.1.\" \n",
    "\n",
    "## Επισκόπηση του Dataset\n",
    "\n",
    "Αφού εισάγουμε τα δεδομένα και έχουμε τις κλάσεις με τις οποίες επιθυμούμε να δουλέψουμε, πρέπει να κάνουμε έναν αρχικό έλεγχο και να δούμε αν είναι σε κατάλληλη μορφή. Πολλές φορές τα δεδομένα έχουν αντίστροφα από το επιθυμητό τις σειρές και τις στήλες ή περιέχουν κατηγορίες (indexes) που κατά λάθος μπορεί να περάσουμε σαν έξτρα σειρές στους πίνακές μας. \n",
    "\n",
    "Σημείωση: ένας από τους λόγους που πολλοί επιστήμονες δεδομένων επιλέγουν να δουλεύουν με panda data_frames αντί απλά arrays είναι το ότι διαχειρίζονται αυτόματα τα indexes των δεδομένων. \n",
    "\n",
    "Πρέπει πάντοτε να κάνουμε μια επισκόπηση των πινάκων να δούμε αν είναι στη σωστή μορφή, ειδικά όταν δεν έχουμε dataset description (δηλαδή τι σημαίνουν οι κολώνες και οι γραμμές), όπως στην περίπτωση αυτή."
   ]
  },
  {
   "cell_type": "code",
   "execution_count": 3,
   "metadata": {
    "id": "aWcZ1BLcJKzN"
   },
   "outputs": [
    {
     "name": "stdout",
     "output_type": "stream",
     "text": [
      "(586, 646)\n",
      "(5, 646)\n",
      "(586, 160)\n",
      "(5, 160)\n",
      "\n",
      "\n",
      "[[   1  -66 -168 ...  -44 -124 -107]\n",
      " [   2  -72   70 ...   49   69   38]\n",
      " [   3 -124   70 ...    0   60    7]\n",
      " ...\n",
      " [ 584  129   25 ...   88   92  116]\n",
      " [ 585  127    5 ...   92  101  123]\n",
      " [ 586  139    5 ...  114  126  154]]\n",
      "[[1 1 0 ... 0 0 0]\n",
      " [2 0 0 ... 0 0 0]\n",
      " [3 0 0 ... 1 1 1]\n",
      " [4 0 0 ... 0 0 0]\n",
      " [5 0 1 ... 0 0 0]]\n",
      "[[   1 -153 -164 ...  -62  -96  -82]\n",
      " [   2   70   69 ...  -29  -16  -16]\n",
      " [   3   65   64 ... -126  -94 -108]\n",
      " ...\n",
      " [ 584   36   35 ...  139  130  139]\n",
      " [ 585    3    0 ...  150  128  144]\n",
      " [ 586    5    8 ...  177  141  165]]\n",
      "[[1 0 0 0 0 0 0 0 0 0 0 0 0 0 0 0 0 0 0 0 0 0 0 0 0 0 0 0 0 0 0 0 0 0 0 0\n",
      "  0 0 1 1 0 1 0 1 0 1 0 0 0 0 1 0 1 0 0 0 0 0 0 0 0 0 0 0 0 0 1 0 0 0 0 0\n",
      "  1 0 0 0 0 0 0 0 0 0 0 0 0 0 0 0 0 0 0 1 0 0 0 0 0 0 0 0 0 0 0 0 0 0 0 0\n",
      "  0 0 1 0 0 0 0 0 0 0 0 0 1 0 1 0 0 0 0 0 0 0 1 1 1 1 1 1 1 1 1 1 1 1 1 1\n",
      "  1 1 1 1 1 1 1 1 0 1 1 1 1 1 1 1]\n",
      " [2 0 0 0 0 0 0 0 0 0 0 0 0 0 0 0 0 0 0 0 0 0 0 0 0 0 0 0 0 0 0 0 0 0 0 0\n",
      "  0 0 0 0 0 0 0 0 0 0 0 0 0 0 0 0 0 0 1 1 0 0 0 1 0 1 1 1 1 1 0 0 0 0 0 1\n",
      "  0 0 1 1 1 1 0 1 0 1 0 1 0 1 0 1 0 0 0 0 0 0 1 0 1 0 1 0 0 1 0 0 1 0 1 0\n",
      "  1 0 0 0 0 0 0 0 0 1 0 0 0 1 0 1 1 0 0 1 0 0 0 0 0 0 0 0 0 0 0 0 0 0 0 0\n",
      "  0 0 0 0 0 0 0 0 0 0 0 0 0 0 0 0]\n",
      " [3 0 0 0 0 0 0 0 0 0 0 0 0 0 0 0 0 0 0 0 0 0 0 0 0 0 0 0 0 0 0 0 0 0 0 0\n",
      "  0 0 0 0 0 0 0 0 0 0 0 0 0 0 0 0 0 0 0 0 0 0 0 0 0 0 0 0 0 0 0 0 0 0 0 0\n",
      "  0 0 0 0 0 0 1 0 1 0 1 0 1 0 1 0 1 1 1 0 1 1 0 1 0 1 0 1 0 0 1 1 0 1 0 1\n",
      "  0 1 0 1 1 0 1 1 1 0 1 1 0 0 0 0 0 1 1 0 1 1 0 0 0 0 0 0 0 0 0 0 0 0 0 0\n",
      "  0 0 0 0 0 0 0 0 1 0 0 0 0 0 0 0]\n",
      " [4 0 0 0 0 0 0 0 0 0 0 1 0 0 0 0 0 1 0 0 0 0 1 0 0 1 0 1 0 0 0 0 0 0 1 1\n",
      "  0 1 0 0 1 0 0 0 1 0 1 1 1 1 0 1 0 1 0 0 1 1 1 0 1 0 0 0 0 0 0 1 0 1 1 0\n",
      "  0 1 0 0 0 0 0 0 0 0 0 0 0 0 0 0 0 0 0 0 0 0 0 0 0 0 0 0 1 0 0 0 0 0 0 0\n",
      "  0 0 0 0 0 1 0 0 0 0 0 0 0 0 0 0 0 0 0 0 0 0 0 0 0 0 0 0 0 0 0 0 0 0 0 0\n",
      "  0 0 0 0 0 0 0 0 0 0 0 0 0 0 0 0]\n",
      " [5 1 1 1 1 1 1 1 1 1 1 0 1 1 1 1 1 0 1 1 1 1 0 1 1 0 1 0 1 1 1 1 1 1 0 0\n",
      "  1 0 0 0 0 0 1 0 0 0 0 0 0 0 0 0 0 0 0 0 0 0 0 0 0 0 0 0 0 0 0 0 1 0 0 0\n",
      "  0 0 0 0 0 0 0 0 0 0 0 0 0 0 0 0 0 0 0 0 0 0 0 0 0 0 0 0 0 0 0 0 0 0 0 0\n",
      "  0 0 0 0 0 0 0 0 0 0 0 0 0 0 0 0 0 0 0 0 0 0 0 0 0 0 0 0 0 0 0 0 0 0 0 0\n",
      "  0 0 0 0 0 0 0 0 0 0 0 0 0 0 0 0]]\n"
     ]
    }
   ],
   "source": [
    "# παίρνουμε πρώτα τις διαστάσεις όλων των πινάκων\n",
    "print(trainData.shape)\n",
    "print(trainDataTargets.shape)\n",
    "print(testData.shape)\n",
    "print(testDataTargets.shape)\n",
    "print(\"\\n\")\n",
    "\n",
    "# κάνουμε μια πρώτη εκτύπωση των χαρακτηριστικών\n",
    "print( trainData)\n",
    "print(trainDataTargets)\n",
    "print(testData)\n",
    "print(testDataTargets)"
   ]
  },
  {
   "cell_type": "markdown",
   "metadata": {
    "id": "ip4laBb1HH_6"
   },
   "source": [
    "### Multi-class dataset format\n",
    "\n",
    "Όταν έχουμε c διαφορετικές κλάσεις το scikit περιμένει το dataset να έχει την ακόλουθη μορφή:\n",
    "\n",
    "- ο πίνακας των δεδομένων να έχει σχήμα (n samples, m features)\n",
    "- ο πίνακας των ετικετών να έχει σχήμα(n samples, c κλάσεις)\n",
    "\n",
    "Εάν έχουμε 3 κλάσεις και ένα δείγμα ανήκει στη δεύτερη (index 1) τότε η ετικέτα του θα είναι [0 1 0]. Αυτή είναι η πυκνή αναπαράσταση (dense). Μπορούμε επίσης να έχουμε την αραιή (sparse) αναπαράσταση:\n",
    "\n",
    "- ο πίνακας των δεδομένων να έχει σχήμα (n samples, m features)\n",
    "- ο πίνακας των ετικετών να έχει σχήμα (n samples, ετικέτα κλάσης)\n",
    "\n",
    "ένα δείγμα της κατηγορίας 3 θα έχει ετικέτα '2' (δηλαδή 3 ξεκινώνατας το index από το 0). \n",
    "\n",
    "Το scikit καταλαβαίνει και τις δύο συμβάσεις για τις ετικέτες πολλών κατηγοριών. Τα ονόματα δεν χρειάζεται καν να είναι 0, 1, 2 κλπ, μπορούν να είναι και string αρκεί να είναι μοναδικά. Γενικά προτιμάται η αναπαράσταση sparse. H dense μετατρέπεται εσωτερικά σε sparse.\n"
   ]
  },
  {
   "cell_type": "markdown",
   "metadata": {
    "id": "gSc_xcxnJKzR"
   },
   "source": [
    "## Συμβατότητα με scikit-learn\n",
    "Οι παρατηρήσεις που κάνουμε για τα δείγματα και τα χαρακτηριστικά  είναι δύο:\n",
    "* Πρώτον, τα χαρακτηριστικά είναι σε γραμμές και τα δείγματα σε κολόνες. Αυτό είναι ασύμβατο με το scikit-learn \n",
    "* Δεύτερον, οι κολόνες - δείγματα αντί να είναι 645 όπως λέει η περιγραφή είναι 646. Από το print λοιπόν βλέπουμε ότι η διάσταση αυτή δεν συμπίπτει με την περιγραφή γιατί η πρώτη κολώνα είναι ένα index από 1 μέχρι το 586 των χαρακτηριστικών (και όχι δείγμα). \n",
    "\n",
    "Συνεπώς θα πρέπει να αφαιρέσουμε  αυτό το index (δεν αποτελεί δείγμα) και εν συνεχεία να κάνουμε αναστροφή στους πίνακες (που γινεται με τη μέθοδο \".Τ\") ώστε να έχουμε δείγματα στις γραμμές και χαρακτηριστικά στις κολώνες (standard στο scikit-kearn). \n",
    "\n",
    "Παρόμοια για τις ετικέτες των κατηγοριών, αφενός η πρώτη κολόνα είναι πάλι ένα index από 1 έως 5 των κατηγοριών (που δεν το θέλουμε) και αφετέρου θέλουμε να έχουμε τα δείγματα σε γραμμές και τα 0 και 1 των κατηγοριών σε 5 κολόνες, οπότε θα χρειαστούμε και εκεί αναστροφή των πινάκων."
   ]
  },
  {
   "cell_type": "code",
   "execution_count": 4,
   "metadata": {
    "id": "f6QGego7JKzS"
   },
   "outputs": [
    {
     "name": "stdout",
     "output_type": "stream",
     "text": [
      "(645, 586)\n",
      "(645, 5)\n",
      "(159, 586)\n",
      "(159, 5)\n",
      "\n",
      "\n",
      "[[ -66  -72 -124   54   26]\n",
      " [-168   70   70    8    8]\n",
      " [-172   72   54   18    8]\n",
      " [ -63  -23  -99   54  -18]\n",
      " [ -62   43  -18   63    8]]\n",
      "[[1 0 0 0 0]\n",
      " [0 0 0 0 1]\n",
      " [0 0 0 0 1]\n",
      " [0 1 0 0 0]\n",
      " [0 1 0 0 0]]\n",
      "[[-153   70   65    3    5]\n",
      " [-164   69   64   15    8]\n",
      " [-157   73   71    2    8]\n",
      " [-133   63   71   -2    1]\n",
      " [-137   65   71    4    8]]\n",
      "[[0 0 0 0 1]\n",
      " [0 0 0 0 1]\n",
      " [0 0 0 0 1]\n",
      " [0 0 0 0 1]\n",
      " [0 0 0 0 1]]\n"
     ]
    }
   ],
   "source": [
    "# C for Corrected\n",
    "C_trainData = trainData.T[1:,]\n",
    "C_testData = testData.T[1:,]\n",
    "C_trainDataTargets = trainDataTargets.T[1:,]\n",
    "C_testDataTargets = testDataTargets.T[1:,]\n",
    "\n",
    "print(C_trainData.shape)\n",
    "print(C_trainDataTargets.shape)\n",
    "print(C_testData.shape)\n",
    "print(C_testDataTargets.shape)\n",
    "print(\"\\n\")\n",
    "\n",
    "#τυπώνουμε τις 5 πρώτες γραμμές και κολόνες\n",
    "print(C_trainData[:5,:5])\n",
    "print(C_trainDataTargets[:5,:5])\n",
    "print(C_testData[:5,:5])\n",
    "print(C_testDataTargets[:5,:5])"
   ]
  },
  {
   "cell_type": "markdown",
   "metadata": {
    "id": "u-Odl2r4JKzX"
   },
   "source": [
    "Συμπερασματικά: είναι πάντα καλή πρακτική να κάνουμε μια ποιοτική επισκόπηση του dataset και να εξετάζουμε αν οι πίνακες των δεδομένων είναι στη σωστή μορφή και να τους διορθώνουμε αν χρειαστεί. Μπορούμε να έχουμε ή να μην έχουμε ονόματα χαρακτηριστικών στην πρώτη γραμμή η κολώνα, αρίθμηση σειρών, να λείπουν τιμές χαρακτηριστικών, να έχουμε μαζί αριθμητικές και κατηγορικές μεταβλητές (strings) \n",
    "\n",
    "## Ένα απλό Multi Layer Perceptron (MLP)\n",
    "Στη συνέχεια θα κάνουμε κάποιες διαδικασίες προεπεξεργασίας στα δεδομένα για να βελτιώσουμε την απόδοση των ταξινομητών. Για να δούμε τη διαφορά πριν και μετά την προεπεξεργασία, κάνουμε εκπαίδευση σε ένα Multi Layer Perceptron (MLP) με παραμέτρους (σταθερές, που δεν τις βελτιστοποιούμε) και μη επεξεργασμένα δεδομένα και υπολογίζουμε precision, recall, f1. Θα δούμε ότι το MLP αδυνατεί να μάθει να κάνει προβλέψεις. Σημειώστε επίσης ότι καλούμε τη μέθοδο fit στα δεδομένα train, και τη μέθοδο predict στα δεδομένα test."
   ]
  },
  {
   "cell_type": "code",
   "execution_count": 5,
   "metadata": {
    "id": "0loPbjyDJKzZ"
   },
   "outputs": [
    {
     "name": "stdout",
     "output_type": "stream",
     "text": [
      "              precision    recall  f1-score   support\n",
      "\n",
      "           0       0.00      0.00      0.00        42\n",
      "           1       0.00      0.00      0.00        30\n",
      "           2       0.00      0.00      0.00        30\n",
      "           3       0.00      0.00      0.00        26\n",
      "           4       0.00      0.00      0.00        31\n",
      "\n",
      "   micro avg       0.00      0.00      0.00       159\n",
      "   macro avg       0.00      0.00      0.00       159\n",
      "weighted avg       0.00      0.00      0.00       159\n",
      " samples avg       0.00      0.00      0.00       159\n",
      "\n"
     ]
    },
    {
     "name": "stderr",
     "output_type": "stream",
     "text": [
      "/home/chris/.local/lib/python3.8/site-packages/sklearn/metrics/_classification.py:1334: UndefinedMetricWarning: Precision and F-score are ill-defined and being set to 0.0 in labels with no predicted samples. Use `zero_division` parameter to control this behavior.\n",
      "  _warn_prf(average, modifier, msg_start, len(result))\n",
      "/home/chris/.local/lib/python3.8/site-packages/sklearn/metrics/_classification.py:1334: UndefinedMetricWarning: Precision and F-score are ill-defined and being set to 0.0 due to no predicted samples. Use `zero_division` parameter to control this behavior.\n",
      "  _warn_prf(average, modifier, msg_start, len(result))\n",
      "/home/chris/.local/lib/python3.8/site-packages/sklearn/metrics/_classification.py:1334: UndefinedMetricWarning: Precision and F-score are ill-defined and being set to 0.0 in samples with no predicted labels. Use `zero_division` parameter to control this behavior.\n",
      "  _warn_prf(average, modifier, msg_start, len(result))\n"
     ]
    }
   ],
   "source": [
    "from sklearn.neural_network import MLPClassifier\n",
    "from sklearn.metrics import classification_report\n",
    "\n",
    "clf = MLPClassifier(solver='lbfgs', alpha=1e-5,\n",
    "                    hidden_layer_sizes=(5,), random_state=1)\n",
    "clf.fit(C_trainData, C_trainDataTargets)\n",
    "preds = clf.predict(C_testData)\n",
    "print(classification_report(C_testDataTargets, preds))"
   ]
  },
  {
   "cell_type": "markdown",
   "metadata": {
    "id": "hlSlLOCTJKze"
   },
   "source": [
    "Το μοντέλο **δεν λειτουργεί** για δύο βασικούς λόγους:\n",
    "1. δεν έχει γίνει επαρκής προεπεξεργασία στα πρότυπα εισόδου\n",
    "2. οι υπερπαράμετροι του μοντέλου, όπως ο αριθμός των νευρώνων του κρυμμένου επιπέδου, δεν είναι βελτιστοποιημένοι. Σημειώστε ότι το MLP έχει ένα [πάρα πολύ μεγάλο πλήθος υπερπαραμέτρων](http://scikit-learn.org/stable/modules/generated/sklearn.neural_network.MLPClassifier.html)"
   ]
  },
  {
   "cell_type": "markdown",
   "metadata": {
    "id": "_rNmB92OJKzf"
   },
   "source": [
    "# Προεπεξεργασία δεδομένων\n",
    "\n",
    "Αφού εισάγαμε τα δεδομένα και κάναμε μια πρώτη επισκόπηση και τα φέραμε στη σωστή μορφοποίηση, περνάμε στο επόμενο στάδιο, αυτό της προεπεξεργασίας (data preprocessing). Σε πολλά προβλήματα ταξινόμησης (και machine learning γενικότερα) η προεπεξεργασία είναι ένα πολύ σημαντικό κομμάτι (και συχνά πολύ χρονοβόρο) ολόκληρης της διαδικασίας το οποίο όμως συχνά έχει πολύ μεγάλο αντίκτυπο στην επίδοση του συστήματος. \n",
    "\n",
    "Τα βήματα προεπεξεργασίας στοχεύουν:\n",
    "* Στην αφαίρεση η αντικατάσταση απουσιάζουσων τιμών από το dataset\n",
    "* Στη μετατροπή των κατηγορικών μεταβλητών κατάλληλα ώστε να μπορούν να τους διαχειριστούν αλγόριθμοι μηχανικής μάθησης\n",
    "* Στην επιλογή ή εξαγωγή των κατάλληλων χαρακτηριστικών για το μοντέλο μας"
   ]
  },
  {
   "cell_type": "markdown",
   "metadata": {
    "id": "BQOQYnhOotJ9"
   },
   "source": [
    "## Απουσιάζουσες τιμές χαρακτηριστικών\n",
    "\n",
    "Επειδή τα datasets δημιουργούνται από μετρήσεις ή αντικείμενα του πραγματικού κόσμου, δεν είναι σπάνιο να υπάρχουν απουσιάζουσες τιμές κάποιων χαρακτηριστικών σε έναν αριθμό δειγμάτων. Ωστόσο, η είσοδος στους αλγόριθμους ΜΜ πρέπει να είναι πληρης. \n",
    "\n"
   ]
  },
  {
   "cell_type": "code",
   "execution_count": 6,
   "metadata": {
    "id": "uaa8-2ciNv9c"
   },
   "outputs": [
    {
     "name": "stdout",
     "output_type": "stream",
     "text": [
      "A,B,C,D \n",
      " 1.0,2.0,3.0,4.0 \n",
      " 5.0,6.0,NaN,8.0 \n",
      " 10.0,11.0,12.0,NaN\n",
      "      A     B     C   D \n",
      "0   1.0   2.0   3.0  4.0\n",
      "1   5.0   6.0   NaN  8.0\n",
      "2  10.0  11.0  12.0  NaN\n"
     ]
    }
   ],
   "source": [
    "from io import StringIO\n",
    "\n",
    "csv_data = '''A,B,C,D \\n 1.0,2.0,3.0,4.0 \\n 5.0,6.0,NaN,8.0 \\n 10.0,11.0,12.0,NaN'''\n",
    "print(csv_data)\n",
    "\n",
    "df = pd.read_csv(StringIO(csv_data))\n",
    "print(df)"
   ]
  },
  {
   "cell_type": "markdown",
   "metadata": {
    "id": "4CNKdT9HNu5r"
   },
   "source": [
    "Με την StringIO διαβάζουμε σε ένα dataframe από ένα string ως να ήταν CSV αρχείο στο δίσκο. Παρατηρούμε ότι στο CSV λείπουν δύο τιμές τις οποίες το dataframe αντιλαμβάνεται και αντικαθιστά με \"NaN\" (\"Not A Number\").\n",
    "\n",
    "Μια στρατηγική θα ήταν να αφαιρέσουμε τα δείγματα (γραμμές) που έχουν χαρακτηριστικά με απουσιάζουσες τιμές ή παρόμοια τα χαρακτηριστικά αν σε κάποια δείγματα απουσιάζουν\n",
    "\n"
   ]
  },
  {
   "cell_type": "code",
   "execution_count": 7,
   "metadata": {
    "id": "Sjb8ROJ0QMRw"
   },
   "outputs": [
    {
     "data": {
      "text/html": [
       "<div>\n",
       "<style scoped>\n",
       "    .dataframe tbody tr th:only-of-type {\n",
       "        vertical-align: middle;\n",
       "    }\n",
       "\n",
       "    .dataframe tbody tr th {\n",
       "        vertical-align: top;\n",
       "    }\n",
       "\n",
       "    .dataframe thead th {\n",
       "        text-align: right;\n",
       "    }\n",
       "</style>\n",
       "<table border=\"1\" class=\"dataframe\">\n",
       "  <thead>\n",
       "    <tr style=\"text-align: right;\">\n",
       "      <th></th>\n",
       "      <th>A</th>\n",
       "      <th>B</th>\n",
       "      <th>C</th>\n",
       "      <th>D</th>\n",
       "    </tr>\n",
       "  </thead>\n",
       "  <tbody>\n",
       "    <tr>\n",
       "      <th>0</th>\n",
       "      <td>1.0</td>\n",
       "      <td>2.0</td>\n",
       "      <td>3.0</td>\n",
       "      <td>4.0</td>\n",
       "    </tr>\n",
       "  </tbody>\n",
       "</table>\n",
       "</div>"
      ],
      "text/plain": [
       "     A    B    C   D \n",
       "0  1.0  2.0  3.0  4.0"
      ]
     },
     "execution_count": 7,
     "metadata": {},
     "output_type": "execute_result"
    }
   ],
   "source": [
    "df.dropna(axis=0) # κρατάμε μόνο τα δείγματα με αριθμητικές τιμές"
   ]
  },
  {
   "cell_type": "code",
   "execution_count": 8,
   "metadata": {
    "id": "Cft8yPHzRFNT"
   },
   "outputs": [
    {
     "data": {
      "text/html": [
       "<div>\n",
       "<style scoped>\n",
       "    .dataframe tbody tr th:only-of-type {\n",
       "        vertical-align: middle;\n",
       "    }\n",
       "\n",
       "    .dataframe tbody tr th {\n",
       "        vertical-align: top;\n",
       "    }\n",
       "\n",
       "    .dataframe thead th {\n",
       "        text-align: right;\n",
       "    }\n",
       "</style>\n",
       "<table border=\"1\" class=\"dataframe\">\n",
       "  <thead>\n",
       "    <tr style=\"text-align: right;\">\n",
       "      <th></th>\n",
       "      <th>A</th>\n",
       "      <th>B</th>\n",
       "    </tr>\n",
       "  </thead>\n",
       "  <tbody>\n",
       "    <tr>\n",
       "      <th>0</th>\n",
       "      <td>1.0</td>\n",
       "      <td>2.0</td>\n",
       "    </tr>\n",
       "    <tr>\n",
       "      <th>1</th>\n",
       "      <td>5.0</td>\n",
       "      <td>6.0</td>\n",
       "    </tr>\n",
       "    <tr>\n",
       "      <th>2</th>\n",
       "      <td>10.0</td>\n",
       "      <td>11.0</td>\n",
       "    </tr>\n",
       "  </tbody>\n",
       "</table>\n",
       "</div>"
      ],
      "text/plain": [
       "      A     B\n",
       "0   1.0   2.0\n",
       "1   5.0   6.0\n",
       "2  10.0  11.0"
      ]
     },
     "execution_count": 8,
     "metadata": {},
     "output_type": "execute_result"
    }
   ],
   "source": [
    "df.dropna(axis=1) # κρατάμε μόνο τα χαρακτηριστικά με αριθμητικές τιμές"
   ]
  },
  {
   "cell_type": "markdown",
   "metadata": {
    "id": "_UuI2_OFQK73"
   },
   "source": [
    "(η μέθοδος dropna έχει πολλά ακόμη [options](https://pandas.pydata.org/pandas-docs/stable/generated/pandas.DataFrame.dropna.html))\n",
    "\n",
    "Σημειώστε ότι αυτή μεθοδολογία είναι η μόνη μορφή προεπεξεργασίας που καλύτερο είναι να γίνει πριν διαχωρίσουμε σε train και test. Aν έχουμε κάνει το διαχωρισμό θα πρέπει ότι χαρακτηριστικό (στήλη) αφαιρέσουμε στο ένα, να το αφαιρέσουμε και στο άλλο.\n",
    "\n",
    "Μπορεί αυτή η προσέγγιση να είναι μοιάζει απλή, ωστόσο ειδικά αν απουσιάζουν πολλές τιμές, συνήθως δεν θέλουμε να θυσιάσουμε δεδομένα (δείγματα ) ούτε να αφαιρέσουμε χαρακτηριστικά που μπορεί να περιλαμβάνουν σημαντική πληροφορία για το διαχωρισμό των κλάσσεων.\n",
    "\n",
    "Πρακτικά συνήθως χρησιμοποιούμε το μετασχηματιστή “[Imputer](http://scikit-learn.org/stable/modules/impute.html)” του scikit learn που αντικαθιστά κάθε απουσιάζουσα τιμή χαρακτηριστικού με τη μέση τιμή (συνεχείς μεταβλητές) ή την πιο συχνή τιμή (κατηγορικές μεταβλητές) του χαρακτηριστικού στο train set. \n",
    "\n",
    "\n",
    "Αν θεωρήσουμε ότι το df είναι το training set τότε:\n"
   ]
  },
  {
   "cell_type": "code",
   "execution_count": 9,
   "metadata": {
    "id": "TsO-2v-Tif-v"
   },
   "outputs": [
    {
     "name": "stdout",
     "output_type": "stream",
     "text": [
      "      A     B     C   D \n",
      "0   1.0   2.0   3.0  4.0\n",
      "1   5.0   6.0   7.5  8.0\n",
      "2  10.0  11.0  12.0  6.0\n"
     ]
    }
   ],
   "source": [
    "from sklearn.impute import SimpleImputer\n",
    "import numpy as np\n",
    "\n",
    "df.replace('nan',np.NaN,inplace=True)\n",
    "imp=SimpleImputer(missing_values=np.NaN,strategy='mean')\n",
    "\n",
    "idf=pd.DataFrame(imp.fit_transform(df))\n",
    "idf.columns=df.columns\n",
    "idf.index=df.index\n",
    "\n",
    "print(idf)"
   ]
  },
  {
   "cell_type": "markdown",
   "metadata": {
    "id": "svtRRwr7jt_N"
   },
   "source": [
    "Αν τώρα έχουμε ένα test set με missing values οι τιμές θα αντικατασταθούν με τις μέσες / πιο συχνές τιμές που έχουν υπολογιστεί στο **train set**."
   ]
  },
  {
   "cell_type": "code",
   "execution_count": 10,
   "metadata": {
    "id": "QhYZwc11kK2e"
   },
   "outputs": [
    {
     "name": "stdout",
     "output_type": "stream",
     "text": [
      "     A    B     C   D \n",
      "0  3.0  4.0   NaN  1.0\n",
      "1  5.0  2.0  10.0  6.0\n"
     ]
    },
    {
     "name": "stderr",
     "output_type": "stream",
     "text": [
      "/home/chris/.local/lib/python3.8/site-packages/sklearn/base.py:450: UserWarning: X does not have valid feature names, but SimpleImputer was fitted with feature names\n",
      "  warnings.warn(\n"
     ]
    },
    {
     "data": {
      "text/plain": [
       "array([[ 3. ,  4. ,  7.5,  1. ],\n",
       "       [ 5. ,  2. , 10. ,  6. ]])"
      ]
     },
     "execution_count": 10,
     "metadata": {},
     "output_type": "execute_result"
    }
   ],
   "source": [
    "csv_data = '''A,B,C,D \\n 3.0,4.0,,1.0 \\n 5.0,2.0,10.0,6.0'''\n",
    "\n",
    "test_df = pd.read_csv(StringIO(csv_data))\n",
    "print(test_df)\n",
    "imputed_test_data = imp.transform(test_df.values)\n",
    "imputed_test_data"
   ]
  },
  {
   "cell_type": "markdown",
   "metadata": {
    "id": "eI4ctBONifGA"
   },
   "source": [
    "Ο μετασχηματισμός με Imputer γίνεται στην απόλυτη αρχή της προεπεξεργασίας."
   ]
  },
  {
   "cell_type": "markdown",
   "metadata": {
    "id": "OMR7d5XLlbWR"
   },
   "source": [
    "## Μετασχηματικές και Εκτιμητές στο scikit-learn\n",
    "\n",
    "Η κλάση Imputer που είδαμε προηγουμένως ανήκει στο scikit στη κατηγορία των λεγόμενων μετασχηματιστών (**transformers**). Οι μετασχηματιστές έχουν δύο βασικές μεθόδους, την fit και την transform. Με την fit μαθαίνουν κάποιες παραμέτρους (πχ προηγουμένως τη μέση τιμή) με βάση τα δεδομένα train και με την transform μπορούν να μετασχηματίσουν τα δεδομένα (train ή test) βάσει των παραμέτρων που έχουν μάθει.\n",
    "![alt text](https://i.imgur.com/uqtJyI8.jpg)\n",
    "\n",
    "Η δεύτερη μεγάλη κλάση του scikit learn είναι οι εκτιμητές (**estimators**). Αυτό που τους διαφοροποιεί είναι ότι ενώ έχουν τις δικές τους μεθόδους fit και σε κάποιες περιπτώσεις και transform, έχουν επιπλέον τη μέθοδο predict, που κάνει τις προβλέψεις πάνω στα δεδομένα του test set. Οι ταξινομητές στην επιβλεπόμενη μάθηση είναι λοιπόν όλοι τους εκτιμητές, αφόσον κάνουν fit πάνω στα δεδομένα train και predict στα δεδομένα test.\n",
    "\n",
    "![alt text](https://i.imgur.com/jhExL9i.jpg)\n",
    "\n",
    "Θα δούμε στη συνέχεια ότι μπορούμε να σχηματίζουμε αλυσίδες πολλών διαδοχικών μετασχηματιστών που καταλήγουν σε έναν εκτιμητή, τα λεγόμενα pipelines."
   ]
  },
  {
   "cell_type": "markdown",
   "metadata": {
    "id": "2UwCejs5JKzg"
   },
   "source": [
    "## Αριθμητικά και κατηγορικά χαρακτηριστικά\n",
    "Σε κάποιες περιπτώσεις τα datasets περιέχουν εκτός από αριθμητικά και κατηγορικά χαρακτηριστικά στη μορφή string. Για παράδειγμα:"
   ]
  },
  {
   "cell_type": "code",
   "execution_count": 11,
   "metadata": {
    "id": "My-3PGZqJKzi"
   },
   "outputs": [
    {
     "name": "stdout",
     "output_type": "stream",
     "text": [
      "[['John' '25' '63.2' 'UK']\n",
      " ['Maria' '62' '54.3' 'US']\n",
      " ['Nick' '18' '70.3' 'US']]\n"
     ]
    }
   ],
   "source": [
    "# Όνομα Ηλικία Βάρος Κάτοικος\n",
    "MixedType = np.array([\n",
    "    ['John', 25, 63.2, 'UK'],\n",
    "    ['Maria', 62, 54.3, 'US'],\n",
    "    ['Nick', 18, 70.3, 'US'],\n",
    "])\n",
    "print(MixedType)"
   ]
  },
  {
   "cell_type": "markdown",
   "metadata": {
    "id": "c8qZnadWJKzp"
   },
   "source": [
    "Για να μπορέσει ο αλγόριθμος να λειτουργήσει, θα μπορούσε κανείς να σκεφτεί να \n",
    "αντικαταστήσει κάθε διαφορετική τιμή κάθε κατηγορικού χαρακτηριστικού με μια αριθμητική τιμή. Στο προηγούμενο παράδειγμα να θέσει John=0, Maria=1, Nick=2 και Europe=0, US=1. Αυτό όμως είναι λάθος γιατί θεωρεί ότι το σύνολο τιμών των δύο κατηγορικών μεταβλητών είναι διατεταγμένο (ordered) κάτι που προφανώς δεν ισχύει και θα οδηγήσει τον ταξινομητή σε λάθη.\n",
    "\n",
    "Μια λύση είναι να μετατρέψουμε κάθε κατηγορικό χαρακτηριστικό με m τιμές σε m binary χαρακτηριστικά από τα οποία μόνο ένα είναι ενεργό κάθε φορά:"
   ]
  },
  {
   "cell_type": "code",
   "execution_count": 12,
   "metadata": {
    "id": "JC_DDUZ9JKzr"
   },
   "outputs": [
    {
     "name": "stdout",
     "output_type": "stream",
     "text": [
      "       0   1     2   3\n",
      "0   John  25  63.2  UK\n",
      "1  Maria  62  54.3  US\n",
      "2   Nick  18  70.3  US\n",
      "    1     2  0_John  0_Maria  0_Nick  3_UK  3_US\n",
      "0  25  63.2       1        0       0     1     0\n",
      "1  62  54.3       0        1       0     0     1\n",
      "2  18  70.3       0        0       1     0     1\n",
      "[[25.  63.2  1.   0.   0.   1.   0. ]\n",
      " [62.  54.3  0.   1.   0.   0.   1. ]\n",
      " [18.  70.3  0.   0.   1.   0.   1. ]]\n"
     ]
    }
   ],
   "source": [
    "# μετατρέπουμε σε dataframe και τυπώνουμε\n",
    "mtdf = pd.DataFrame(MixedType)\n",
    "print(mtdf)\n",
    "# οι κολόνες 1 και 4 έχουν κατηγορικές μεταβλητές. \n",
    "# Με την \"get_dummies\" κάνουμε τη μετατροπή σε binary χαρακτηριστικά που περιγράψαμε\n",
    "dummies = pd.get_dummies(mtdf, columns=[0,3])\n",
    "print(dummies)\n",
    "# Μετατρέπουμε σε αριθμητικές τιμές (pd.to_numeric) και σε numpy array (.values)\n",
    "np_dummies = dummies.apply(pd.to_numeric).values\n",
    "print(np_dummies)"
   ]
  },
  {
   "cell_type": "markdown",
   "metadata": {
    "id": "93R8pvUiJKzv"
   },
   "source": [
    "Θα πρέπει εδώ να σημειώσουμε την ειδική περίπτωση όπου ένα αριθμητικό χαρακτηριστικό είναι και αυτό κατηγορικό. Αν κάποια χαρακτηριστικά είναι αριθμητικά και αναφέρονται ως κατηγορικά, σημαίνει ότι έχουν ένα ορισμένο και πεπερασμένο σύνολο τιμών. Διακρίνουμε δύο περιπτώσεις: αν το σύνολο τιμών είναι διατεταγμένο (πχ size: \"10\" \"20\" \"30\") δεν χρειάζεται μετατροπή σε δυαδικά χαρακτηριστικά. Αν όμως το σύνολο τιμών είναι αριθμητικό αλλά μη διατεταγμένο, τότε χρειάζεται. Παράδειγμα person: \"1\" \"2\" \"3\", όπου 1 σημαίνει \"γυναίκα\", 2 \"άνδρας\" και 3 \"παιδί\".\n",
    "\n",
    "Τέλος, τα ονομαστικά χαρακτηριστικά μπορούν να είναι και αυτά διατεταγμένα πχ οι τιμές \"(M)edium\", \"(L)arge\", \"E(X)tra Large\": \n"
   ]
  },
  {
   "cell_type": "code",
   "execution_count": 13,
   "metadata": {
    "id": "3-isPnb2RJT4"
   },
   "outputs": [
    {
     "data": {
      "text/html": [
       "<div>\n",
       "<style scoped>\n",
       "    .dataframe tbody tr th:only-of-type {\n",
       "        vertical-align: middle;\n",
       "    }\n",
       "\n",
       "    .dataframe tbody tr th {\n",
       "        vertical-align: top;\n",
       "    }\n",
       "\n",
       "    .dataframe thead th {\n",
       "        text-align: right;\n",
       "    }\n",
       "</style>\n",
       "<table border=\"1\" class=\"dataframe\">\n",
       "  <thead>\n",
       "    <tr style=\"text-align: right;\">\n",
       "      <th></th>\n",
       "      <th>color</th>\n",
       "      <th>size</th>\n",
       "      <th>price</th>\n",
       "      <th>classlabel</th>\n",
       "    </tr>\n",
       "  </thead>\n",
       "  <tbody>\n",
       "    <tr>\n",
       "      <th>0</th>\n",
       "      <td>green</td>\n",
       "      <td>M</td>\n",
       "      <td>10.1</td>\n",
       "      <td>class1</td>\n",
       "    </tr>\n",
       "    <tr>\n",
       "      <th>1</th>\n",
       "      <td>red</td>\n",
       "      <td>L</td>\n",
       "      <td>13.5</td>\n",
       "      <td>class2</td>\n",
       "    </tr>\n",
       "    <tr>\n",
       "      <th>2</th>\n",
       "      <td>blue</td>\n",
       "      <td>XL</td>\n",
       "      <td>15.3</td>\n",
       "      <td>class1</td>\n",
       "    </tr>\n",
       "  </tbody>\n",
       "</table>\n",
       "</div>"
      ],
      "text/plain": [
       "   color size  price classlabel\n",
       "0  green    M   10.1     class1\n",
       "1    red    L   13.5     class2\n",
       "2   blue   XL   15.3     class1"
      ]
     },
     "execution_count": 13,
     "metadata": {},
     "output_type": "execute_result"
    }
   ],
   "source": [
    "cdf = pd.DataFrame([\n",
    "['green', 'M', 10.1, 'class1'],\n",
    "['red', 'L', 13.5, 'class2'],\n",
    "['blue', 'XL', 15.3, 'class1']])\n",
    "cdf.columns = ['color', 'size', 'price', 'classlabel']\n",
    "cdf"
   ]
  },
  {
   "cell_type": "markdown",
   "metadata": {
    "id": "yA7omPbzRoze"
   },
   "source": [
    "Σε αυτήν την περίπτωση μπορούμε να αποφύγουμε τη μετατροπή σε δυαδικά χαρακτηριστικά, αλλά θα πρέπει να ορίσουμε ρητά μια αντιστοίχιση που να σέβεται την διάταξη των κατηγορικών τιμών:"
   ]
  },
  {
   "cell_type": "code",
   "execution_count": 14,
   "metadata": {
    "id": "_-GtXjEPR9N-"
   },
   "outputs": [
    {
     "data": {
      "text/html": [
       "<div>\n",
       "<style scoped>\n",
       "    .dataframe tbody tr th:only-of-type {\n",
       "        vertical-align: middle;\n",
       "    }\n",
       "\n",
       "    .dataframe tbody tr th {\n",
       "        vertical-align: top;\n",
       "    }\n",
       "\n",
       "    .dataframe thead th {\n",
       "        text-align: right;\n",
       "    }\n",
       "</style>\n",
       "<table border=\"1\" class=\"dataframe\">\n",
       "  <thead>\n",
       "    <tr style=\"text-align: right;\">\n",
       "      <th></th>\n",
       "      <th>color</th>\n",
       "      <th>size</th>\n",
       "      <th>price</th>\n",
       "      <th>classlabel</th>\n",
       "    </tr>\n",
       "  </thead>\n",
       "  <tbody>\n",
       "    <tr>\n",
       "      <th>0</th>\n",
       "      <td>green</td>\n",
       "      <td>1</td>\n",
       "      <td>10.1</td>\n",
       "      <td>class1</td>\n",
       "    </tr>\n",
       "    <tr>\n",
       "      <th>1</th>\n",
       "      <td>red</td>\n",
       "      <td>2</td>\n",
       "      <td>13.5</td>\n",
       "      <td>class2</td>\n",
       "    </tr>\n",
       "    <tr>\n",
       "      <th>2</th>\n",
       "      <td>blue</td>\n",
       "      <td>3</td>\n",
       "      <td>15.3</td>\n",
       "      <td>class1</td>\n",
       "    </tr>\n",
       "  </tbody>\n",
       "</table>\n",
       "</div>"
      ],
      "text/plain": [
       "   color  size  price classlabel\n",
       "0  green     1   10.1     class1\n",
       "1    red     2   13.5     class2\n",
       "2   blue     3   15.3     class1"
      ]
     },
     "execution_count": 14,
     "metadata": {},
     "output_type": "execute_result"
    }
   ],
   "source": [
    "size_mapping = {'XL': 3, 'L': 2, 'M': 1}\n",
    "cdf['size'] = cdf['size'].map(size_mapping)\n",
    "cdf"
   ]
  },
  {
   "cell_type": "markdown",
   "metadata": {
    "id": "mT9vWqt-iKiG"
   },
   "source": [
    "Οι μετατροπές χαρακτηριστικών πρέπει να είναι οι ίδιες στο train και test set και γίνονται μετά τη διαχείριση τιμών που απουσιάζουν."
   ]
  },
  {
   "cell_type": "markdown",
   "metadata": {
    "id": "469akvZYS-1v"
   },
   "source": [
    "## Κωδικοποίηση των ετικετών των κατηγοριών\n",
    "\n",
    "Πολλές βιβλιοθήκες μηχανικής μάθησης απαιτούν οι ετικέτες κλάσης να κωδικοποιούνται ως ακέραιοι αριθμοι. Αν και οι περισσότεροι εκτιμητές για ταξινόμηση στο scikit-learn μετατρέπουν εσωτερικά τις \n",
    "ετικέτες σε ακέραιους αριθμούς, θεωρείται καλή πρακτική η παροχή ετικετών κλάσης ως ακέραιους\n",
    "για να αποφευχθούν τυχόν  δυσλειτουργίες. Για την κωδικοποίηση των ετικετών κλάσης, μπορούμε να χρησιμοποιήσουμε μια προσέγγιση παρόμοια με την αντιστοίχιση των διατεταγμένων χαρακτηριστικών που κάναμε προηγουμένως. Οι ετικέτες κλάσης δεν είναι διατεταγμένες και άρα δεν έχει σημασία ο ακέραιος αριθμός που εκχωρούμε σε μια συγκεκριμένη ετικέτα, αρκεί να είναι μοναδικός. Έτσι, μπορούμε απλά να απαριθμήσουμε το ετικέτες κλάσης, ξεκινώντας από το 0:"
   ]
  },
  {
   "cell_type": "code",
   "execution_count": 15,
   "metadata": {
    "id": "k1TQyzAHUk4b"
   },
   "outputs": [
    {
     "data": {
      "text/html": [
       "<div>\n",
       "<style scoped>\n",
       "    .dataframe tbody tr th:only-of-type {\n",
       "        vertical-align: middle;\n",
       "    }\n",
       "\n",
       "    .dataframe tbody tr th {\n",
       "        vertical-align: top;\n",
       "    }\n",
       "\n",
       "    .dataframe thead th {\n",
       "        text-align: right;\n",
       "    }\n",
       "</style>\n",
       "<table border=\"1\" class=\"dataframe\">\n",
       "  <thead>\n",
       "    <tr style=\"text-align: right;\">\n",
       "      <th></th>\n",
       "      <th>color</th>\n",
       "      <th>size</th>\n",
       "      <th>price</th>\n",
       "      <th>classlabel</th>\n",
       "    </tr>\n",
       "  </thead>\n",
       "  <tbody>\n",
       "    <tr>\n",
       "      <th>0</th>\n",
       "      <td>green</td>\n",
       "      <td>1</td>\n",
       "      <td>10.1</td>\n",
       "      <td>0</td>\n",
       "    </tr>\n",
       "    <tr>\n",
       "      <th>1</th>\n",
       "      <td>red</td>\n",
       "      <td>2</td>\n",
       "      <td>13.5</td>\n",
       "      <td>1</td>\n",
       "    </tr>\n",
       "    <tr>\n",
       "      <th>2</th>\n",
       "      <td>blue</td>\n",
       "      <td>3</td>\n",
       "      <td>15.3</td>\n",
       "      <td>0</td>\n",
       "    </tr>\n",
       "  </tbody>\n",
       "</table>\n",
       "</div>"
      ],
      "text/plain": [
       "   color  size  price  classlabel\n",
       "0  green     1   10.1           0\n",
       "1    red     2   13.5           1\n",
       "2   blue     3   15.3           0"
      ]
     },
     "execution_count": 15,
     "metadata": {},
     "output_type": "execute_result"
    }
   ],
   "source": [
    "# βρίσκουμε τις μοναδικές ετικέτες\n",
    "class_mapping = {label:idx for idx,label in enumerate(np.unique(cdf['classlabel']))}\n",
    "class_mapping\n",
    "# και κάνουμε την μετατροπή\n",
    "cdf['classlabel'] = cdf['classlabel'].map(class_mapping)  \n",
    "cdf"
   ]
  },
  {
   "cell_type": "markdown",
   "metadata": {
    "id": "s8T3pG4bJKzw"
   },
   "source": [
    "## Η κατάρα της διαστατικότητας (Curse of dimensionality)\n",
    "\n",
    "Μια πολύ σημαντική παράμετρος για την απόδοση των ταξινομητών είναι η διασταστικότητα των δεδομένων, ιδιαίτερα σε σχέση με τον διαθέσιμο αριθμό δειγμάτων. Γενικά και ανεξάρτητα από το μοντέλο του ταξινομητή, η απόδοση αυξάνεται όσο αυξάνεται το πλήθος και η ποιότητα των δεδομένων και όσο μειώνεται η διαστατικότητα. Αντίστροφα, τα προβλήματα δυσκολεύουν όσο η διαστατικότητα αυξάνεται και τα δείγματα δεν επαρκούν για να καλύψουν όλες τις κατηγορίες του προβλήματος. Αναφερόμαστε στο πρόβλημα αυτό ως την κατάρα της διαστατικότητας (the curse of dimensionality): όσο αυξάνει η διαστατικότητα, τόσο τα διαθέσιμα δεδομένα γίνονται αραιά (sparse). \n",
    "\n",
    "Ας πούμε ότι έχουμε n-διαστάσεων κατηγορικές μεταβλητές, με δυαδικές τιμές $x_n = 0$ ή $x_n = 1$, που περιγράφουν πχ. εικόνες. Θέλουμε να μετρήσουμε πόσα αντιπροσωπευτικά παραδείγματα πρέπει να έχουμε για να καλύψουμε όλες τις κατηγορίες. Αν n=1, θέλουμε 2 παραδείγματα, αν n=2 θέλουμε 4 κ.ο.κ. δηλαδή θέλουμε $n^2$ παραδείγματα ανάλογα την διάσταση. Εάν όμως έχουμε πάνω από 2 κατηγορίες σε κάθε μεταβλητή, δηλαδή $x_n = r, r >2$, τότε αντίστοιχα έχουμε $n^r$ δυνατές *περιοχές* που χωρίζουμε τον υπερχώρο.\n",
    "\n",
    "Στο παράδειγμα μας οι μεταβλητές έχουν διάσταση n = 586 με πραγματικές τιμές και μόνο 645 δείγματα, επομένως καταλαβαίνει κανείς ότι χωρίς μείωση της διάστασης των μεταβλητών εισόδου με κάποιον τρόπο, η απόδοση όποιου ταξινομητή και να χρησιμοποιήσουμε θα υπονομεύεται από τον μικρό αριθμό παραδειγμάτων, δεδομένης της διαστατικότητας.\n",
    "\n",
    "\n",
    "![alt text](https://www.kdnuggets.com/wp-content/uploads/curse-dimensionality-2.png)\n",
    "\n",
    "\n",
    "Σε γενικές γραμμές λοιπόν οι πολύ μεγάλες διαστάσεις του χώρου εισόδου (χαρακτηριστικών) κάνουν δυσκολότερο για τον ταξινομητή να υπολογίσει το σύνορο απόφασης μεταξύ των κλάσεων και αυξάνουν τις απαιτήσεις χώρου και χρόνου εκπαίδευσης ή/και ταξινόμησης. \n",
    "\n",
    "Για να μειωθεί η διαστατικότητα των δεδομένων χρησιμοποιούμε τεχνικές **μείωσης διαστατικότητας (dimensionality reduction)**. To dimensionality reduction γίνεται με τεχνικές επιλογής χαρακτηριστικών (feature selection) όπου ουσιαστικά αφαιρούμε κάποια χαρακτηριστικά με βάση ένα κριτήριο χωρίς μετασχηματισμό των τιμών τους και τεχνικές εξαγωγής χαρακτηριστικών (feature extraction), όπου μετασχηματίζουμε τις τιμές των χαρακτηριστικών σε νέες (εξάγουμε δηλαδή νέα χαρακτηριστικά) αλλά σε ένα χώρο μικρότερων διαστάσεων."
   ]
  },
  {
   "cell_type": "markdown",
   "metadata": {
    "id": "ALlm5XPDJKzx"
   },
   "source": [
    "## Μείωση διαστάσεων εισόδου με επιλογή χαρακτηριστικών\n",
    "\n",
    "Για την επιλογή χαρακτηριστικών υπάρχουν πολλές διαφορετικές τεχνικές (πχ [εδώ](http://scikit-learn.org/stable/modules/classes.html#module-sklearn.feature_selection) οι επιλογές του scikit-learn). Μια απλή τεχνική επιλογής χαρακτηριστικών είναι το ελάχιστο κατώφλι της διακύμανσης (Variance threshold). Σε γενικές γραμμές αν η διακύμανση ενός χαρακτηριστικού εισόδου είναι πολύ χαμηλή, δεν μπορεί να προσφέρει σημαντικά στη διαχωριστική ικανότητα του ταξινομητή. Ειδικά στην περίπτωση που η διακύμανση είναι 0, δηλαδή το χαρακτηριστικό έχει σταθερή τιμή για όλα τα δείγματα εκπαίδευσης, δεν χρησιμεύει καθόλου στον ταξινομητή για να αποφασίσει αν ένα δείγμα ανήκει σε μία κλάση ή σε μια άλλη και επιπλέον μπορεί να δυσκολέψει άλλες διαδικασίες της προεπεξεργασίας όπως η κανονικοποίηση των χαρακτηριστικών. \n",
    "\n",
    "Μπορούμε να χρησιμοποιήσουμε τη συνάρτηση VarianceThreshold για να αφαιρέσουμε τα  χαρακτηριστικά στο training set που έχουν μηδενική διακύμανση (default) ή πολύ χαμηλή. Πρέπει επίσης να πάρουμε μια μάσκα (index) των χαρακτηριστικών που επιλέγουμε, ώστε να την εφαρμόσουμε και στα δεδομένα train ώστε να έχουν τις ίδιες διαστάσεις. Αυτό δεν σπάει τον κανόνα ότι δεν χρησιμοποιούμε τα δεδομένα test γιατί μπορούμε να θεωρήσουμε ότι ο ταξινομητής απλώς αγνοεί τις εισόδους που δεν περιλαμβάνονται στη μάσκα.  Ας δούμε τη VarianceThreshold σε ένα toy dataset:"
   ]
  },
  {
   "cell_type": "code",
   "execution_count": 16,
   "metadata": {
    "id": "nV_smzezJKzz",
    "scrolled": true
   },
   "outputs": [
    {
     "name": "stdout",
     "output_type": "stream",
     "text": [
      "[[2 2 0 3]\n",
      " [3 1 4 3]\n",
      " [0 1 1 3]]\n",
      "[[2 2 0]\n",
      " [3 1 4]\n",
      " [0 1 1]]\n",
      "[ True  True  True False]\n",
      "[[1 2 5 3]\n",
      " [3 4 0 3]\n",
      " [0 3 2 0]]\n",
      "[[1 2 5]\n",
      " [3 4 0]\n",
      " [0 3 2]]\n"
     ]
    }
   ],
   "source": [
    "from sklearn.feature_selection import VarianceThreshold\n",
    "\n",
    "train = np.array([[2, 2, 0, 3], [3, 1, 4, 3], [0, 1, 1, 3]])\n",
    "print(train)\n",
    "# αρχικοποιούμε έναν selector\n",
    "selector = VarianceThreshold()\n",
    "# όπως κάναμε και με τους ταξινομητές τον κάνουμε fit στα δεδομένα εκπαίδευσης\n",
    "train_reduced = selector.fit_transform(train)\n",
    "print(train_reduced)\n",
    "# φτιάχνουμε μια μάσκα που μας λέει αν ο selector κρατάει ένα χαρακτηριστικό ή όχι\n",
    "mask = selector.get_support()\n",
    "print(mask)\n",
    "\n",
    "test = np.array([[1, 2, 5, 3], [3, 4, 0, 3], [0, 3, 2, 0]])\n",
    "print(test)\n",
    "# καθώς δεν ξέρουμε τι θα συμβεί στο test set μπορεί η υπόθεση της μηδενικής διακύμανσης του 4ου χαρακτηριστικού να μην είναι απόλυτα σωστή. Ωστόσο θα είναι πρακτικά αμελητέα.\n",
    "\n",
    "#test_reduced = test[:,mask]\n",
    "\n",
    "test_reduced = selector.transform(test)\n",
    "print(test_reduced)"
   ]
  },
  {
   "cell_type": "markdown",
   "metadata": {
    "id": "Xn_80U2-JKz4"
   },
   "source": [
    "Ενώ οι σταθερές τιμές πρέπει να αφαιρούνται κατά κανόνα πάντα, μπορεί κανείς να δοκιμάσει με μεγαλύτερα κατώφλια από μηδέν, αφαιρώντας και χαρακτηριστικά που έχουν κάποια διακύμανση και να αξιολογεί την επίδραση που έχει η περαιτέρω μείωση των διαστάσεων στην επίδοση του ταξινομητή. Για να καταλάβουμε τι τιμές μπορούμε να δοκιμάζουμε στο κατώφλι πρέπει να δούμε τη διακύμανση όλων των μεταβλητών: \n"
   ]
  },
  {
   "cell_type": "code",
   "execution_count": 17,
   "metadata": {
    "id": "YvvcPPhy6ueR"
   },
   "outputs": [
    {
     "name": "stdout",
     "output_type": "stream",
     "text": [
      "[1.55555556 0.22222222 2.88888889 0.        ]\n"
     ]
    }
   ],
   "source": [
    "X = [[2, 2, 0, 3], [3, 1, 4, 3], [0, 1, 1, 3]]\n",
    "Xvar = np.var(X, axis=0)\n",
    "print(Xvar)"
   ]
  },
  {
   "cell_type": "markdown",
   "metadata": {
    "id": "Oyb5eNNq6tuj"
   },
   "source": [
    "\n",
    "Με αυτό τον τρόπο αφαιρούμε τις κολόνες με 0 variance (σταθερές) από το αρχικό dataset αναγνώρισης αντικειμένων μας:"
   ]
  },
  {
   "cell_type": "code",
   "execution_count": 18,
   "metadata": {
    "id": "2MfXXfEHJKz_"
   },
   "outputs": [
    {
     "name": "stdout",
     "output_type": "stream",
     "text": [
      "(645, 326)\n",
      "(159, 326)\n"
     ]
    }
   ],
   "source": [
    "selector = VarianceThreshold(threshold=0.5)\n",
    "train_reduced = selector.fit_transform(C_trainData)\n",
    "mask = selector.get_support()\n",
    "test_reduced = C_testData[:,mask]\n",
    "\n",
    "print(train_reduced.shape)\n",
    "print(test_reduced.shape)\n",
    "# διαπιστώνουμε σημαντική μείωση του αριθμού χαρακτηριστικών από 586 που ήταν αρχικά"
   ]
  },
  {
   "cell_type": "markdown",
   "metadata": {
    "id": "9UcyrQ6NJK0C"
   },
   "source": [
    "## Κανονικοποίηση χαρακτηριστικών\n",
    "\n",
    "Μετά την επιλογή χαρακτηριστικών η επόμενη τεχνική προεπεξεργασίας που μπορούμε να κάνουμε είναι η κανονικοποίηση των χαρακτηριστικών. Χαρακτηριστικά με πολύ μεγάλες διαφορές στις απόλυτες τιμές τους μπορούν να προκαλέσουν προβλήματα στην εκπαίδευση και να δώσουν ταξινομητές με μη βέλτιστη απόδοση. Για παράδειγμα, ένα χαρακτηριστικό με πολύ μεγάλες τιμές θα έχει μεγαλύτερη επίδραση στον υπολογισμό της απόστασης στον kNN από τι ένα με μικρές τιμές, χωρίς αυτό να σημαίνει απαραίτητα ότι είναι περισσότερο καθοριστικό για το διαχωρισμό των κλάσεων. Η κανονικοποίηση μετασχηματίζει τις τιμές των χαρακτηριστικών ώστε να αμβλυνθούν αυτές οι διαφορές.\n",
    "\n",
    "Η κανονικοποίηση των χαρακτηριστικών μπορεί να γίνει με 2 βασικούς τρόπους, γνωστούς και από τη στατιστική. Με την διαίρεση με τη διαφορά μεγίστου-ελαχίστου (feature scaling) οπότε οι τιμές όλων των χαρακτηριστικών κλιμακώνονται γραμμικά στο διάστημα [0,1] ή με το z-score (ή standard score) του κάθε χαρακτηριστικού (standardization), που κάνει το χαρακτηριστικό να έχει μέση τιμή μηδέν και διακύμανση μονάδα, σαν την κανονική κατανομή. \n",
    "\n",
    "Η μετατροπή μεγίστου ελαχίστου γίνεται με τον τύπο: $$X' = {X - X_{min} \\over X_{max} - X_{min}}$$Η μετατροπή σε standard score γίνεται με τον τύπο: $$z = {X- \\mu \\over \\sigma}$$ όπου: $μ$ είναι η μέση τιμή του χαρακτηριστικού και $σ$ η απόκλιση. \n",
    "\n",
    "Στην πράξη, δεν μας ενδιαφέρει αν η πραγματική κατανομή των χαρακτηριστικών είναι κανονική, απλά αφαιρούμε τη μέση τιμή και διαιρούμε με την απόκλιση για να έχουν τα χαρακτηριστικά της.\n",
    "\n",
    "H μετατροπή σε standard score είναι απαραίτητη σε πολλούς ταξινομητές για να συμπεριφερθούν σωστά. Επίσης είναι πιο ανθεκτική από την min-max σε τιμές outliers δηλαδή σποραδικές τιμές που είναι πολύ μακριά απο τη μέση τιμή και τις υπόλοιπες τιμές του χαρακτηριστικού (η min-max θα συμπιέσει τις περισσότερες τιμές σε ένα μικρό διάστημα)\n",
    "\n",
    "Από την άλλη, η κλιμάκωση σε [0,1] είναι λιγότερο ευαίσθητη σε πολύ μικρές αποκλίσεις και επίσης σε αραιά (sparse) διανύσματα χαρακτηριστικών (δηλαδή με πολλές μηδενικές τιμές) η εφαρμογή της διατηρεί τα μηδέν, κάτι που μπορεί να είναι καθοριστικό για την ταχύτητα εκπαίδευσης."
   ]
  },
  {
   "cell_type": "code",
   "execution_count": 19,
   "metadata": {
    "id": "MQy9EHw8JK0D"
   },
   "outputs": [
    {
     "name": "stdout",
     "output_type": "stream",
     "text": [
      "10 τυχαίες τιμές από -30 ως 30\n"
     ]
    },
    {
     "data": {
      "image/png": "[encoded data removed]",
      "text/plain": [
       "<Figure size 432x288 with 1 Axes>"
      ]
     },
     "metadata": {
      "needs_background": "light"
     },
     "output_type": "display_data"
    },
    {
     "name": "stdout",
     "output_type": "stream",
     "text": [
      "οι προηγούμενες 10 τιμές από -30 ως 30 και το οutlier 100\n"
     ]
    },
    {
     "data": {
      "image/png": "[encoded data removed]",
      "text/plain": [
       "<Figure size 432x288 with 1 Axes>"
      ]
     },
     "metadata": {
      "needs_background": "light"
     },
     "output_type": "display_data"
    },
    {
     "name": "stdout",
     "output_type": "stream",
     "text": [
      "οι προηγούμενες 11 τιμές κανονικοποιημένες στο [0,1]\n"
     ]
    },
    {
     "data": {
      "image/png": "[encoded data removed]",
      "text/plain": [
       "<Figure size 432x288 with 1 Axes>"
      ]
     },
     "metadata": {
      "needs_background": "light"
     },
     "output_type": "display_data"
    },
    {
     "name": "stdout",
     "output_type": "stream",
     "text": [
      "οι προηγούμενες 11 standarized\n"
     ]
    },
    {
     "data": {
      "image/png": "[encoded data removed]",
      "text/plain": [
       "<Figure size 432x288 with 1 Axes>"
      ]
     },
     "metadata": {
      "needs_background": "light"
     },
     "output_type": "display_data"
    }
   ],
   "source": [
    "import matplotlib.pyplot as plt\n",
    "from scipy import stats as st\n",
    "\n",
    "x= np.random.randint(-30,30, size=10)\n",
    "y = [0]*len(x)\n",
    "plt.scatter(x,y)\n",
    "print(\"10 τυχαίες τιμές από -30 ως 30\")\n",
    "plt.show()\n",
    "\n",
    "# προσθέτουμε τον outlier 100\n",
    "x = np.append(x,100)\n",
    "y = [0]*len(x)\n",
    "plt.scatter(x,y)\n",
    "print(\"οι προηγούμενες 10 τιμές από -30 ως 30 και το οutlier 100\")\n",
    "plt.show()\n",
    "\n",
    "# κανονικοποίηση στο [0,1] με min max\n",
    "min_max_x = (x - np.min(x) )/ (np.max(x) - np.min(x))\n",
    "plt.scatter(min_max_x,y)\n",
    "print(\"οι προηγούμενες 11 τιμές κανονικοποιημένες στο [0,1]\")\n",
    "plt.show()\n",
    "\n",
    "# standardization\n",
    "std_x = st.zscore(x)\n",
    "plt.scatter(std_x,y)\n",
    "print(\"οι προηγούμενες 11 standarized\")\n",
    "plt.show()"
   ]
  },
  {
   "cell_type": "markdown",
   "metadata": {
    "id": "KmDQPEq6JK0L"
   },
   "source": [
    "Παρατηρούμε ότι το min-max scaling μας στέλνει τις τιμές εκτός του outlier πολύ κοντά στο μηδέν και τις πιέζει εντός του \\[0, 0.4\\] περίπου , ενώ το z-score διατηρεί μεν το μακρινό outlier, αλλά αφήνει και τις υπόλοιπες τιμές να έχουν ένα εύρος περίπου στο \\[-1, 0.5\\] και να διαφοροποιούνται. Αλγόριθμοι όπως ο backpropagation για τα νευρωνικά δίκτυα συγκλίνουν γενικά καλύτερα με την κανονικοποίηση z-score.\n",
    "\n",
    "Ας εφαρμόσουμε τις δύο κανονικοποιήσεις σε ένα toy dataset:"
   ]
  },
  {
   "cell_type": "code",
   "execution_count": 20,
   "metadata": {
    "id": "B8irr8xnJK0N"
   },
   "outputs": [
    {
     "name": "stdout",
     "output_type": "stream",
     "text": [
      "[[ 0.         -1.22474487  1.33630621]\n",
      " [ 1.22474487  0.         -0.26726124]\n",
      " [-1.22474487  1.22474487 -1.06904497]]\n",
      "[0. 0. 0.]\n",
      "[1. 1. 1.]\n"
     ]
    }
   ],
   "source": [
    "from sklearn import preprocessing\n",
    "X_train = np.array([[ 1., -1.,  2.],\n",
    "                    [ 2.,  0.,  0.],\n",
    "                    [ 0.,  1., -1.]])\n",
    "\n",
    "X_test = np.array([[ -3., -1.,  4.],\n",
    "                  [ 3., 4., 2.]])\n",
    "\n",
    "# standardization των features του training set\n",
    "X_train_scaled = preprocessing.scale(X_train)\n",
    "print(X_train_scaled)\n",
    "# μέση τιμη και απόκλιση των scaled χαρακτηριστικών\n",
    "print(X_train_scaled.mean(axis=0))\n",
    "print(X_train_scaled.std(axis=0))"
   ]
  },
  {
   "cell_type": "markdown",
   "metadata": {
    "id": "hdp9Ff8gJK0W"
   },
   "source": [
    "**Προσοχή:** ό,τι μετασχηματισμό κανονικοποίησης κάνουμε στο train set, θα τον κάνουμε και στο test set, χρησιμοποιώντας όμως απαραίτητα το max ή τα $μ$ και $σ$ που έχουμε βρει στο train set, πράγμα που σημαίνει ότι στο test set μετά την κανονικοποίηση δεν θα έχουμε απαραίτητα παντού τιμές μεταξύ 0 και 1 και αντίστοιχα ούτε μέση τιμή 0 και διακύμανση 1."
   ]
  },
  {
   "cell_type": "code",
   "execution_count": 21,
   "metadata": {
    "id": "-9sXZ4HLJK0X"
   },
   "outputs": [
    {
     "name": "stdout",
     "output_type": "stream",
     "text": [
      "[[-4.89897949 -1.22474487  2.93987366]\n",
      " [ 2.44948974  4.89897949  1.33630621]]\n",
      "[-1.22474487  1.83711731  2.13808994]\n",
      "[3.67423461 3.06186218 0.80178373]\n"
     ]
    }
   ],
   "source": [
    "# όριζουμε ένα αντικείμενο scaler και το κάνουμε fit στο train set\n",
    "scaler = preprocessing.StandardScaler().fit(X_train)\n",
    "# εφαρμόζουμε τον scaler στα δεδομένα test. ΠΡΟΣΟΧΗ μέθοδος transform, όχι fit!\n",
    "X_test_scaled = scaler.transform(X_test)\n",
    "print(X_test_scaled)\n",
    "\n",
    "# και τυπώνουμε τη μέση τιμ;h και απόκλιση του test set \n",
    "print(X_test_scaled.mean(axis=0))\n",
    "print(X_test_scaled.std(axis=0))\n"
   ]
  },
  {
   "cell_type": "code",
   "execution_count": 22,
   "metadata": {
    "id": "A2-AHrXGJK0d"
   },
   "outputs": [
    {
     "name": "stdout",
     "output_type": "stream",
     "text": [
      "[[0.5        0.         1.        ]\n",
      " [1.         0.5        0.33333333]\n",
      " [0.         1.         0.        ]] \n",
      "\n",
      "[[-1.5         0.          1.66666667]\n",
      " [ 1.5         2.5         1.        ]]\n"
     ]
    }
   ],
   "source": [
    "# το ίδιο με  min max scaling\n",
    "min_max_scaler = preprocessing.MinMaxScaler()\n",
    "X_train_minmax = min_max_scaler.fit_transform(X_train)\n",
    "print(X_train_minmax, \"\\n\")\n",
    "X_test_minmax = min_max_scaler.transform(X_test)\n",
    "print(X_test_minmax)\n",
    "# παρατηρούμε ότι στο test set έχουμε τιμές εκτός [0,1] γιατί στο train set το min ήταν -1 και το max 2"
   ]
  },
  {
   "cell_type": "markdown",
   "metadata": {
    "id": "sRbTEYvMJK0j"
   },
   "source": [
    "Θα εφαρμόσουμε κανονικοποίηση με standardization στο (διορθωμένο και με επιλογή χαρακτηριστικών) dataset μας. Παρατηρήστε ότι μετασχηματίζουμε και τα δεδομένα του test, ΟΜΩΣ με το μετασχηματιστή που έχουμε μάθει στο training set. Έτσι δεν κάνουμε το λάθος να χρησιμοποιήσουμε δεδομένα test για εκπαίδευση."
   ]
  },
  {
   "cell_type": "code",
   "execution_count": 23,
   "metadata": {
    "id": "gYE575p9JK0l"
   },
   "outputs": [],
   "source": [
    "scaler = preprocessing.StandardScaler().fit(train_reduced)\n",
    "train_scaled = scaler.transform(train_reduced)\n",
    "test_scaled = scaler.transform(test_reduced)"
   ]
  },
  {
   "cell_type": "markdown",
   "metadata": {
    "id": "Na9oAdUhBWhx"
   },
   "source": [
    "**ΠΡΟΣΟΧΗ**\n",
    "* Aν θέλουμε να δοκιμάσουμε κατώφλια μεγαλύτερα του 0 στο VarianceThreshold, πρέπει πρώτα να εφαρμόσουμε τον minmaxscaler (γιατί οι μεταβλητές με μεγάλες μέσες τιμές θα δώσουν γενικά μεγαλύτερη τιμή variance)\n",
    "* H εφαρμογή του VarianceThreshold δεν έχει προφανώς νόημα μετά το StandarScaler (γιατί όλες οι μεταβλητές έχουν variance 1 μετά το transform)"
   ]
  },
  {
   "cell_type": "markdown",
   "metadata": {
    "id": "rZtgsSrpJK0r"
   },
   "source": [
    "## Εξισορρόπηση μη ισορροπημένων datasets\n",
    "\n",
    "Με τον όρο μη ισορροπημένο dataset εννούμε ένα dataset στο οποίο τα πλήθη των δειγμάτων της κάθε κλάσης διαφέρουν σημαντικά μεταξύ τους. Χωρίς να υπάρχει κάποια συνολική απάντηση, όταν ο λόγος μεταξύ του αριθμού των δειγμάτων δύο κλάσεων αρχίζει να είναι μεγαλύτερος από 2:3, μπορούμε να αρχίζουμε να θεωρούμε το dataset μη ισορροπημένο (imbalanced). Στα πραγματικά datasets αυτό είναι κάτι πολύ κοινό. Οι περισσότεροι ταξινομητές ωστόσο εκπαιδεύονται καλύτερα όταν τα δείγματα όλων των κλάσεων είναι σχετικά ισάριθμα.  \n",
    "\n",
    "Για να δούμε αν το dataset μας είναι ισορροπημένο ή μη, θα δούμε πόσα δείγματα έχουμε ανά κατηγορία στο training set. Εφόσον κάθε δείγμα ανήκει σε μια μόνο από τις 5 κατηγορίες κάνουμε απλά: "
   ]
  },
  {
   "cell_type": "code",
   "execution_count": 24,
   "metadata": {
    "id": "aM6IKPrMJK0s"
   },
   "outputs": [
    {
     "name": "stdout",
     "output_type": "stream",
     "text": [
      "[170 122 120 107 126]\n"
     ]
    }
   ],
   "source": [
    "summ = C_trainDataTargets.T.sum(axis=1)\n",
    "print(summ)"
   ]
  },
  {
   "cell_type": "markdown",
   "metadata": {
    "id": "Vf-Rtz4hJK0x"
   },
   "source": [
    "Τα δεδομένα εκπαίδευσης δεν έχουν ισορροπημένα πλήθη ανά κατηγορία με την πιο συχνή κατηγορία να διαφέρει σημαντικά από τη λιγότερο συχνή.\n",
    "\n",
    "Έχουμε δύο βασικούς τρόπους για να εξισσοροπούμε ένα dataset, την υποδειγματοληψία (undersampling) και την υπερδειγματοληψία (oversampling). Εν ολίγοις, στο undersampling απλά αφαιρούμε τυχαία δείγματα από όλες τις κατηγορίες που έχουν μεγαλύτερο πλήθος από τη μικρότερη, ενώ στο oversampling επιλέγουμε τυχαία ορισμένα παραδείγματα από τις λιγότερο συχνές κατηγορίες και τα επαναλαμβάνουμε. Στην πρώτη δηλαδή αφαιρούμε δεδομένα ενώ στην άλλη προσθέτουμε. \n",
    "\n",
    "Γενικά το oversampling ενδείκνυται περισσότερο, αφού δεν χάνουμε δεδομένα εκπαίδευσης. Επίσης, σε κάποιους αλγορίθμους όπως πχ. random forests, έχει παρατηρηθεί ότι τα αποτελέσματα βελτιώνονται ακόμα και με oversampling με παράγοντες άνω του 2, δηλαδή αντιγράφοντας τα ίδια δεδομένα μπορεί να βοηθάμε τη σύγκλιση. Τα προηγούμενα βέβαια δεν παρατηρούνται σε όλες τις περιπτώσεις.\n",
    "\n",
    " Η βιβλιοθήκη [imbalanced-learn (ή imblearn)](https://github.com/scikit-learn-contrib/imbalanced-learn) προσφέρει πολλές μεθόδους εξισορρόπησης datasets. Αφού εγκαταστήσουμε την imblearn θα κάνουμε ένα απλό random oversampling στο training set μας."
   ]
  },
  {
   "cell_type": "code",
   "execution_count": 25,
   "metadata": {
    "id": "C4i0qcdqJK0z"
   },
   "outputs": [
    {
     "name": "stdout",
     "output_type": "stream",
     "text": [
      "Defaulting to user installation because normal site-packages is not writeable\n",
      "Collecting imbalanced-learn\n",
      "  Downloading imbalanced_learn-0.9.1-py3-none-any.whl (199 kB)\n",
      "\u001b[2K     \u001b[38;2;114;156;31m━━━━━━━━━━━━━━━━━━━━━━━━━━━━━━━━━━━━━━━\u001b[0m \u001b[32m199.3/199.3 kB\u001b[0m \u001b[31m1.5 MB/s\u001b[0m eta \u001b[36m0:00:00\u001b[0m MB/s\u001b[0m eta \u001b[36m0:00:01\u001b[0m:01\u001b[0m\n",
      "\u001b[?25hRequirement already satisfied: numpy>=1.17.3 in /home/chris/.local/lib/python3.8/site-packages (from imbalanced-learn) (1.23.4)\n",
      "Requirement already satisfied: scipy>=1.3.2 in /home/chris/.local/lib/python3.8/site-packages (from imbalanced-learn) (1.9.3)\n",
      "Requirement already satisfied: threadpoolctl>=2.0.0 in /home/chris/.local/lib/python3.8/site-packages (from imbalanced-learn) (3.1.0)\n",
      "Requirement already satisfied: scikit-learn>=1.1.0 in /home/chris/.local/lib/python3.8/site-packages (from imbalanced-learn) (1.1.3)\n",
      "Requirement already satisfied: joblib>=1.0.0 in /home/chris/.local/lib/python3.8/site-packages (from imbalanced-learn) (1.1.0)\n",
      "Installing collected packages: imbalanced-learn\n",
      "Successfully installed imbalanced-learn-0.9.1\n"
     ]
    }
   ],
   "source": [
    "!pip install -U imbalanced-learn"
   ]
  },
  {
   "cell_type": "code",
   "execution_count": 26,
   "metadata": {
    "id": "vPEU3yPXJK03"
   },
   "outputs": [
    {
     "name": "stdout",
     "output_type": "stream",
     "text": [
      "(850, 326)\n",
      "(850, 5)\n",
      "[[1 0 0 0 0]\n",
      " [0 0 0 0 1]\n",
      " [0 0 0 0 1]\n",
      " ...\n",
      " [0 0 0 0 1]\n",
      " [0 0 0 0 1]\n",
      " [0 0 0 0 1]]\n",
      "[170 170 170 170 170]\n",
      "850\n"
     ]
    }
   ],
   "source": [
    "from imblearn.over_sampling import RandomOverSampler\n",
    "from sklearn.preprocessing import MultiLabelBinarizer\n",
    "# αρχικοποίηση του RandomOverSampler\n",
    "ros = RandomOverSampler()\n",
    "# o RandomOverSampler θέλει τις ετικέτες όχι ως δυαδικό διάνυσμα αλλά ως αριθμό κλάσης. \n",
    "# το [0 0 1 0 0] πρέπει να γίνει 2 κοκ\n",
    "\n",
    "mlb = MultiLabelBinarizer().fit(['0', '1', '2', '3', '4'])\n",
    "tmplabels = np.asarray(mlb.inverse_transform(C_trainDataTargets)).flatten()\n",
    "train_resampled, trainTargets_resampled = ros.fit_resample(train_scaled,tmplabels)\n",
    "# ξαναφέρνουμε τα labels σε binary μορφή\n",
    "trainTargets_resampled = mlb.transform(trainTargets_resampled)\n",
    "\n",
    "# εκτυπώνουμε τις νέες διαστάσεις του train set\n",
    "print(train_resampled.shape)\n",
    "print(trainTargets_resampled.shape)\n",
    "# επιβεβαιώνουμε ότι τα labels είναι στη binary μορφή\n",
    "print(trainTargets_resampled)\n",
    "# επιβεβαιώνουμε ότι το training set έχει εξισορροπηθεί με oversampling\n",
    "summ = trainTargets_resampled.T.sum(axis=1)\n",
    "print(summ) #πλήθος ανα κλάση \n",
    "print(summ.sum()) #σύνολο δειγμάτων"
   ]
  },
  {
   "cell_type": "markdown",
   "metadata": {
    "id": "WDODKrZdJK09"
   },
   "source": [
    "Σημειώστε ότι δεν κάνουμε καμία επέμβαση sampling στο test set.\n",
    "\n",
    "Ας ξαναδοκιμάσουμε το αρχικό MLP με ακριβώς ίδες υπερπαραμέτρους, απλώς αυτή τη φορά στα προεπεξεργασμένα δεδομένα (variance threshold, standard scaler, oversampling) και ας τυπώσουμε τις μετρικές απόδοσης:"
   ]
  },
  {
   "cell_type": "code",
   "execution_count": 27,
   "metadata": {
    "id": "r7T4CZmTJK0-"
   },
   "outputs": [
    {
     "name": "stdout",
     "output_type": "stream",
     "text": [
      "              precision    recall  f1-score   support\n",
      "\n",
      "           0       0.93      0.98      0.95        42\n",
      "           1       0.87      0.90      0.89        30\n",
      "           2       0.90      0.87      0.88        30\n",
      "           3       0.91      0.77      0.83        26\n",
      "           4       0.97      0.94      0.95        31\n",
      "\n",
      "   micro avg       0.92      0.90      0.91       159\n",
      "   macro avg       0.92      0.89      0.90       159\n",
      "weighted avg       0.92      0.90      0.91       159\n",
      " samples avg       0.90      0.90      0.90       159\n",
      "\n"
     ]
    },
    {
     "name": "stderr",
     "output_type": "stream",
     "text": [
      "/home/chris/.local/lib/python3.8/site-packages/sklearn/metrics/_classification.py:1334: UndefinedMetricWarning: Precision and F-score are ill-defined and being set to 0.0 in samples with no predicted labels. Use `zero_division` parameter to control this behavior.\n",
      "  _warn_prf(average, modifier, msg_start, len(result))\n"
     ]
    }
   ],
   "source": [
    "clf = MLPClassifier(solver='lbfgs', alpha=1e-5,\n",
    "                    hidden_layer_sizes=(5,), random_state=1)\n",
    "clf.fit(train_resampled, trainTargets_resampled)\n",
    "preds = clf.predict(test_scaled)\n",
    "print(classification_report(C_testDataTargets, preds))"
   ]
  },
  {
   "cell_type": "markdown",
   "metadata": {
    "id": "6HzuJTw9Pk1o"
   },
   "source": [
    "Συμπέρασμα: ακόμα και χωρίς καμία βελτιστοποίηση των υπερπαραμέτρων του ταξινομητή, έχουμε πολύ μεγάλη βελτίωση στην απόδοση, απλά ακολουθώντας τις βέλτιστες πρακτικές στην προεπεξεργασία των δεδομένων."
   ]
  },
  {
   "cell_type": "markdown",
   "metadata": {
    "id": "hPyBFR8XJK1U"
   },
   "source": [
    "## Μείωση της διαστατικότητας με εξαγωγή χαρακτηριστικών\n",
    "\n",
    "Όπως είπαμε και προηγουμένως για να μειώσουμε τις διαστάσεις των μεταβλητών μας μπορούμε να κάνουμε δύο πράγματα: vα αφαιρέσουμε κατηγορίες που δεν προσφέρουν *σημαντική πληροφορία*, δηλαδή να κάνουμε **επιλογή μεταβλητών (feature selection)**. Εναλλακτικά, μπορούμε να κάνουμε εξαγωγή νέων χαρακτηριστικών σε ένα χώρο μικρότερων διαστάσεων (**feature extraction**). Η βασικότερη τεχνική feature extraction είναι η **ανάλυση σε κύριες συνιστώσες (principal components analysis - PCA)** όπου αναλύουμε τα δεδομένα σε κύριες συνιστώσες και δουλέυουμε με τελείως νέες, γραμμικά ασυσχέτιστες μεταβλητές μικρότερης διαστατικότητας."
   ]
  },
  {
   "cell_type": "markdown",
   "metadata": {
    "id": "UNgljy-eJK1X"
   },
   "source": [
    "## Ανάλυση σε κύριες συνιστώσες\n",
    "\n",
    "Η ανάλυση σε κύριες συνιστώσες (PCA) είναι η ευρέως διαδεδομένη μέθοδος μείωσης της διαστατικότητας. Ούτε εδώ θα εμβαθύνουμε, αλλά θα εξηγήσουμε περιγραφικά τις αρχές της μεθόδου. Αρχικά υπολογίζουμε τον πίνακα συσχέτισης (covariance matrix) των μεταβλητών που έχουμε στα δεδομένα. Από αυτόν τον πίνακα βρίσκουμε τις γραμμικώς συσχετισμένες μεταβλητές και βρίσκοντας τα ιδιοδιανύσματα του πίνακα μπορούμε να μετατρέψουμε τον πίνακα με έναν ορθογώνιο μετασχηματισμό και να βρούμε την βάση του νέου πίνακα. Αυτή η βάση του χώρου αποτελεί ένα νέο σύνολο μεταβλητών που είναι *γραμμικά ασυσχέτιστες* και ονομάζονται κύριες συνιστώσες.\n",
    "\n",
    "![alt text](https://i.imgur.com/s5CfXoy.png)\n",
    "\n",
    "\n",
    "[Ένα ωραίο online visual PCA demo](http://setosa.io/ev/principal-component-analysis/)\n",
    "\n",
    "Εκτός από τη μείωση της διαστατικότητας για καλύτερη ταξινόμηση, η PCA με 1 έως 3 συνιστώσες μπορεί να χρησιμοποιηθεί και για την οπτικοποίηση δεδομένων υψηλής διαστατικότητας. Περισσότερα για την PCA από το [indepth tutorial](https://jakevdp.github.io/PythonDataScienceHandbook/05.09-principal-component-analysis.html) του Python Data Science Handbook και το αντίστοιχο [jupyter notebook](https://github.com/jakevdp/PythonDataScienceHandbook/blob/master/notebooks/05.09-Principal-Component-Analysis.ipynb).\n"
   ]
  },
  {
   "cell_type": "code",
   "execution_count": 28,
   "metadata": {
    "id": "v25p32l7JK1X"
   },
   "outputs": [
    {
     "name": "stdout",
     "output_type": "stream",
     "text": [
      "(850, 326)\n",
      "(850, 25)\n",
      "\n",
      "(159, 326)\n",
      "(159, 25)\n"
     ]
    }
   ],
   "source": [
    "from sklearn.decomposition import PCA\n",
    "\n",
    "# Ορίζουμε την PCA και τον τελικό αριθμό features - αριθμό κύριων συνιστωσών\n",
    "# είναι ακόμα μια υπερπαράμετρος με την οποία μπορούμε να πειραματιστούμε\n",
    "n = 25\n",
    "pca = PCA(n_components=n)\n",
    "\n",
    "# Εφαρμόζουμε στα δεδομένα εκπαίδευσης και ελέγχου τον *ΙΔΙΟ* μετασχηματισμό\n",
    "# Οι κύριες συνιστώσες υπολογίζονται στο train set\n",
    "# Στα train κάνουμε fit_transform στο test μόνο transform:\n",
    "trainPCA = pca.fit_transform(train_resampled)\n",
    "testPCA = pca.transform(test_scaled)\n",
    "\n",
    "print(train_resampled.shape)\n",
    "print(trainPCA.shape)\n",
    "print(\"\")\n",
    "print(test_scaled.shape)\n",
    "print(testPCA.shape)\n",
    "\n",
    "# πλεόν οι διαστάση των χαρακτηριστικών είναι 25"
   ]
  },
  {
   "cell_type": "markdown",
   "metadata": {
    "id": "JMXmSWd1X_fx"
   },
   "source": [
    "\n",
    "Για να δούμε αν χάνεται πληροφοριά θα δούμε τι ποσοστό διακύμανσης εξηγείται σε συνάρτηση του αριθμού κύριων συνιστωσών"
   ]
  },
  {
   "cell_type": "code",
   "execution_count": 29,
   "metadata": {
    "id": "6X5ncGgRJK1f"
   },
   "outputs": [
    {
     "name": "stdout",
     "output_type": "stream",
     "text": [
      "[0.17454028 0.2755122  0.35754909 0.40304326 0.44539981 0.47967405\n",
      " 0.50975193 0.53473774 0.55517414 0.57344315 0.59012861 0.60570212\n",
      " 0.62019275 0.63395562 0.64626208 0.6576166  0.66812109 0.67794148\n",
      " 0.68773847 0.69672899 0.70566714 0.71393592 0.72200248 0.72969188\n",
      " 0.73728569]\n"
     ]
    },
    {
     "data": {
      "image/png": "[encoded data removed]",
      "text/plain": [
       "<Figure size 360x360 with 1 Axes>"
      ]
     },
     "metadata": {
      "needs_background": "light"
     },
     "output_type": "display_data"
    }
   ],
   "source": [
    "# Θα τυπωσουμε το συσσωρευτικό ποσοστό διασποράς που εξηγείται από τις κύριες συνιστώσες\n",
    "evar = pca.explained_variance_ratio_\n",
    "cum_evar = np.cumsum(evar)\n",
    "print(cum_evar)\n",
    "plt.figure(1, figsize=(5, 5))\n",
    "plt.xlabel(\"Principal Component number\")\n",
    "plt.ylabel('Cumulative Variance')\n",
    "plt.plot(cum_evar, linewidth=2)\n",
    "plt.show()"
   ]
  },
  {
   "cell_type": "markdown",
   "metadata": {
    "id": "9nldk_DtJK1j"
   },
   "source": [
    "Με μόλις 15 κύριες συνιστώσες εξηγούμε 55% της διακύμανσης (πληροφορίας) του dataset, με 25 κοντά στο 70%.\n",
    "\n",
    "Τέλος, ας εφαρμόσουμε την PCA στα δεδομένα και ας ξανα\n",
    "πάρουμε τα metrics του MLP:"
   ]
  },
  {
   "cell_type": "code",
   "execution_count": 30,
   "metadata": {
    "id": "H09_-588JK1b"
   },
   "outputs": [
    {
     "name": "stdout",
     "output_type": "stream",
     "text": [
      "              precision    recall  f1-score   support\n",
      "\n",
      "           0       0.91      0.93      0.92        42\n",
      "           1       0.89      0.80      0.84        30\n",
      "           2       0.67      0.97      0.79        30\n",
      "           3       0.87      0.77      0.82        26\n",
      "           4       0.97      0.90      0.93        31\n",
      "\n",
      "   micro avg       0.85      0.88      0.86       159\n",
      "   macro avg       0.86      0.87      0.86       159\n",
      "weighted avg       0.86      0.88      0.87       159\n",
      " samples avg       0.86      0.88      0.87       159\n",
      "\n"
     ]
    },
    {
     "name": "stderr",
     "output_type": "stream",
     "text": [
      "/home/chris/.local/lib/python3.8/site-packages/sklearn/neural_network/_multilayer_perceptron.py:559: ConvergenceWarning: lbfgs failed to converge (status=1):\n",
      "STOP: TOTAL NO. of ITERATIONS REACHED LIMIT.\n",
      "\n",
      "Increase the number of iterations (max_iter) or scale the data as shown in:\n",
      "    https://scikit-learn.org/stable/modules/preprocessing.html\n",
      "  self.n_iter_ = _check_optimize_result(\"lbfgs\", opt_res, self.max_iter)\n",
      "/home/chris/.local/lib/python3.8/site-packages/sklearn/metrics/_classification.py:1334: UndefinedMetricWarning: Precision and F-score are ill-defined and being set to 0.0 in samples with no predicted labels. Use `zero_division` parameter to control this behavior.\n",
      "  _warn_prf(average, modifier, msg_start, len(result))\n"
     ]
    }
   ],
   "source": [
    "clf = MLPClassifier(solver='lbfgs', alpha=1e-5,\n",
    "                    hidden_layer_sizes=(5,), random_state=1)\n",
    "clf.fit(trainPCA, trainTargets_resampled)\n",
    "preds = clf.predict(testPCA)\n",
    "print(classification_report(C_testDataTargets, preds))"
   ]
  },
  {
   "cell_type": "markdown",
   "metadata": {
    "id": "8fXVEy-xL5l0"
   },
   "source": [
    "**ΠΑΡΑΤΗΡΗΣΕΙΣ**\n",
    "* Στο συγκεκριμένο παράδειγμα, το MLP δουλεύει καλύτερα γιατί εφαρμόσαμε 4 μετασχηματιστές επεξεργασίας (variance threshold, standard scaler, oversampling, pca). Πιθανότατα το καθοριστικότερο ήταν η μείωση της διαστατικότητας γιατί ο λόγος samples / number of features είναι αρκετά μικρός (τυπικά έχουμε πολλαπλάσια ή τάξη μεγέθους περισσότερα samples από features.\n",
    "* Το ποιους μετασχηματιστές προεπεξεργασίας θα εφαρμόσουμε και ποιες τιμές των παραμέτρων τους (variance threshold, αριθμός κυρίων συνιστωσών) θα αποδώσουν καλύτερα δεν το ξέρουμε από την αρχή, και μπορεί να είναι διαφορετικό ανάλογα τον ταξινομητή, ακόμα και στο ίδιο dataset. Έχουμε μόνο κάποιες εμπειρικές γνώσεις όπως ότι η κανονικοποίηση γενικά βοηθάει, ότι τα samples πρέπει να είναι αρκετά περισσότερα από τα features κλπ\n",
    "\n",
    "\n"
   ]
  }
 ],
 "metadata": {
  "colab": {
   "collapsed_sections": [
    "OMR7d5XLlbWR",
    "s8T3pG4bJKzw"
   ],
   "provenance": []
  },
  "kernelspec": {
   "display_name": "Python 3",
   "language": "python",
   "name": "python3"
  },
  "language_info": {
   "codemirror_mode": {
    "name": "ipython",
    "version": 3
   },
   "file_extension": ".py",
   "mimetype": "text/x-python",
   "name": "python",
   "nbconvert_exporter": "python",
   "pygments_lexer": "ipython3",
   "version": "3.8.10"
  }
 },
 "nbformat": 4,
 "nbformat_minor": 1
}
