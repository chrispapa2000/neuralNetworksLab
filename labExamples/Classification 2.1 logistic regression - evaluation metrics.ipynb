{
 "cells": [
  {
   "cell_type": "code",
   "execution_count": 1,
   "metadata": {
    "colab": {
     "base_uri": "https://localhost:8080/"
    },
    "executionInfo": {
     "elapsed": 27396,
     "status": "ok",
     "timestamp": 1666618789011,
     "user": {
      "displayName": "Giorgos Siolas",
      "userId": "10127542075805046236"
     },
     "user_tz": -180
    },
    "id": "6emEWnHI-78w",
    "outputId": "5864b336-dcaf-4eb9-f1bf-a1e699d704ed"
   },
   "outputs": [
    {
     "name": "stdout",
     "output_type": "stream",
     "text": [
      "Looking in indexes: https://pypi.org/simple, https://us-python.pkg.dev/colab-wheels/public/simple/\n",
      "Requirement already satisfied: scikit-learn in /usr/local/lib/python3.7/dist-packages (1.0.2)\n",
      "Requirement already satisfied: numpy>=1.14.6 in /usr/local/lib/python3.7/dist-packages (from scikit-learn) (1.21.6)\n",
      "Requirement already satisfied: scipy>=1.1.0 in /usr/local/lib/python3.7/dist-packages (from scikit-learn) (1.7.3)\n",
      "Requirement already satisfied: threadpoolctl>=2.0.0 in /usr/local/lib/python3.7/dist-packages (from scikit-learn) (3.1.0)\n",
      "Requirement already satisfied: joblib>=0.11 in /usr/local/lib/python3.7/dist-packages (from scikit-learn) (1.2.0)\n",
      "Looking in indexes: https://pypi.org/simple, https://us-python.pkg.dev/colab-wheels/public/simple/\n",
      "Requirement already satisfied: pandas in /usr/local/lib/python3.7/dist-packages (1.3.5)\n",
      "Requirement already satisfied: pytz>=2017.3 in /usr/local/lib/python3.7/dist-packages (from pandas) (2022.4)\n",
      "Requirement already satisfied: numpy>=1.17.3 in /usr/local/lib/python3.7/dist-packages (from pandas) (1.21.6)\n",
      "Requirement already satisfied: python-dateutil>=2.7.3 in /usr/local/lib/python3.7/dist-packages (from pandas) (2.8.2)\n",
      "Requirement already satisfied: six>=1.5 in /usr/local/lib/python3.7/dist-packages (from python-dateutil>=2.7.3->pandas) (1.15.0)\n",
      "Looking in indexes: https://pypi.org/simple, https://us-python.pkg.dev/colab-wheels/public/simple/\n",
      "Requirement already satisfied: scipy in /usr/local/lib/python3.7/dist-packages (1.7.3)\n",
      "Requirement already satisfied: numpy<1.23.0,>=1.16.5 in /usr/local/lib/python3.7/dist-packages (from scipy) (1.21.6)\n",
      "Looking in indexes: https://pypi.org/simple, https://us-python.pkg.dev/colab-wheels/public/simple/\n",
      "Requirement already satisfied: numpy in /usr/local/lib/python3.7/dist-packages (1.21.6)\n"
     ]
    }
   ],
   "source": [
    " # κάνουμε update τις βιβλιοθήκες μας\n",
    "!pip install -U scikit-learn\n",
    "!pip install --upgrade pandas\n",
    "!pip install -U scipy\n",
    "!pip install --upgrade numpy "
   ]
  },
  {
   "cell_type": "markdown",
   "metadata": {
    "id": "IFEqoygIPQ2i"
   },
   "source": [
    "# Ταξινομητές βασισμένοι στην παλινδόρμηση: Λογιστική Παλινδρόμηση (Logistic Regression)"
   ]
  },
  {
   "cell_type": "markdown",
   "metadata": {
    "id": "aNkEKo8qLYSo"
   },
   "source": [
    "Παρόμοια με τον Αφελή Μπεϋζιανό και τον kNN, θα φτιάξουμε έναν ταξινομητή βασισμένο στη Λογιστική Παλινδόμηση from scratch, προτού χρησιμοποιήσουμε την έτοιμη συνάρτηση του scikit. Ξεκινάμε, όπως είναι αναμενόμενο για αυτό το παράδειγμα ταξινομητών, από την γραμμική παλινδόμηση.\n",
    "\n",
    "Η Λογιστική Παλινδρόμηση, παρά το όνομά της, είναι μέθοδος ταξινόμησης.\n",
    "\n",
    "![](https://rajputhimanshu.files.wordpress.com/2018/03/linear_vs_logistic_regression.jpg)"
   ]
  },
  {
   "cell_type": "markdown",
   "metadata": {
    "id": "ZWoh55HtNCRo"
   },
   "source": [
    "## Γραμμική παλινδρόμηση\n",
    "\n",
    "Η συνάρτηση της ευθείας είναι $y=mx+b$, όπου $m$ η κλίση της ευθείας και $b$ το σημείο τομής του άξονα $Y$. Στην περίπτωση όπου τα δεδομένα έχουν μία διάσταση (scalar), η διαχωριστική επιφάνεια (*η υπόθεση*) του ταξινομητή είναι μια απλή ευθεία, σύμφωνα με τον προηγούμενο τύπο. Η εύρεση των *εμπειρικών* $\\hat{m}$ και $\\hat{b}$ γίνεται με τη μέθοδο των ελαχίστων τετραγώνων."
   ]
  },
  {
   "cell_type": "markdown",
   "metadata": {
    "id": "FIdm6eJfiMIP"
   },
   "source": [
    "### Μέθοδος των Ελάχιστων Τετραγώνων\n",
    "Με τη Μέθοδο των Ελαχίστων Τετραγώνων προσπαθούμε να βρούμε μια ευθεία για την οποία η απόσταση κάθε σημείου $\\{x_i, y_i\\}$ είναι η ελάχιστη. Δήλαδή θέλουμε να βρούμε $$\\min_{b,m}Q(b,m) \\mbox{ όπου } Q(b,m) = \\sum_{i=1}^n\\hat{\\varepsilon}_i^{\\,2} = \\sum_{i=1}^n (y_i - b - m x_i)^2\\ $$\n",
    "\n",
    "Χρησιμοποιώντας απειροστικό λογισμό, την γεωμετρία του εσωτερικού γινόμενου ή απλά αναπτύσσοντας την συνάρτηση μπορεί να δειχθεί ότι οι τιμές $ b $ και $ m $ οι οποίες ελαχιστοποιούν την συνάρτηση $Q(b,m)$ είναι:\n",
    "$$ \\begin{align} \\hat{m} & = \\frac{ \\sum_{i=1}^{n} (x_{i}-\\bar{x})(y_{i}-\\bar{y}) }{ \\sum_{i=1}^{n} (x_{i}-\\bar{x})^2 }\n",
    "  = \\frac{ \\sum_{i=1}^{n}{x_{i}y_{i}} - \\frac1n \\sum_{i=1}^{n}{x_{i}}\\sum_{j=1}^{n}{y_{i}}}{ \\sum_{i=1}^{n}({x_{i}^2}) - \\frac1n (\\sum_{i=1}^{n}{x_{i}})^2 } =\\\\  &= \\frac{ \\overline{xy} - \\bar{x}\\bar{y} }{ \\overline{x^2} - \\bar{x}^2 } =   \\frac{ \\operatorname{Cov}[x,y] }{ \\operatorname{Var}[x] } = r_{xy} \\frac{s_y}{s_x},\\\\ \\hat{b}  & = \\bar{y} - \\hat{m}\\,\\bar{x}\\end{align}$$\n",
    "\n",
    "όπου $r_{xy} = \\frac{ Cov[x,y] }{s_xs_y}$ είναι η παράμετρος συσχέτισης μεταξύ $x$ και $y$, $s_x$ είναι η τυπική απόκλιση του $x$, και $s_y$ είναι αντίστοιχα η τυπική απόκλιση του $y$. Η οριζόντια γραμμή πάνω από μια μεταβλητή δηλώνει τον απλό μέσο όρο της μεταβλητής. Για παράδειγμα: $\\overline{xy} = \\tfrac{1}{n}\\textstyle\\sum_{i=1}^n x_iy_i.$ Τα \"b καπέλο\" $\\hat{b}$ και \"m καπέλο\" $\\hat{m}$ ονομάζονται εκτιμήτριες ελάχιστων τετραγώνων.\n",
    "Αντικαθιστώντας τις παραπάνω μαθηματικές εκφράσεις για τις παραμέτρους $\\hat{b}$ και $\\hat{m}$ στο $ y = \\hat{b} + \\hat{m} x, \\,$ πέρνουμε\n",
    "\n",
    "$\\frac{ y-\\bar{y}}{s_y} = r_{xy} \\frac{ x-\\bar{x}}{s_x}  $\n",
    "\n",
    "Αυτό δείχνει ότι το $r_{xy}$ έχει το ρόλο της γραμμής παλινδρόμησης για τα σημεία. Η συνάρτηση $ y = \\hat{b} + \\hat{m} x, $ λέγεται ευθεία ελαχίστων τετραγώνων ή ευθεία παλινδρόμησης. \n",
    "\n",
    "Στη μηχανική μάθηση η συνάρτηση αυτή λέγεται συνάρτηση υπόθεσης ή απλά *υπόθεση* και συμβολίζεται ως $ h_\\theta(x) = \\theta_0 + \\theta_1x$ (το $\\hat{b}$ και $\\hat{m}$ είναι οι παράμετροι $\\theta_0$ και $\\theta_1$ αντίστοιχα).\n"
   ]
  },
  {
   "cell_type": "markdown",
   "metadata": {
    "id": "fG6s1bzFsLO9"
   },
   "source": [
    "### Πολλαπλή γραμμική παλινδρόμηση\n",
    "\n",
    "Σε περίπτωση που έχουμε δεδομένα που βρίσκονται εντός ενός πολυδιάστατου χώρου $m$, κάτι σύνηθες σε προβλήματα μηχανικής μάθησης, η ευθεία γενικεύεται (για *διανύσματα* εισόδου πλέον) σε $$y= β_1 ​ x_1 ​+...+β_mx_m ​ +b,$$ και μιλάμε πλέον για το πρόβλημα της πολλαπλής γραμμικής παλινδρόμησης όπου αναζητούμε τις τιμές $β$ (διάνυσμα) και b που ορίζουν το υπερεπίπεδο που έχει τη βέλτιστη προσαρμογή στα δεδομένα. \n",
    "\n",
    "Σημειώστε ότι το $y$ παραμένει ένας βαθμωτός αριθμος o οποίος στη γενική περίπτωση μπορεί να πάρει οποιαδήποτε τιμή."
   ]
  },
  {
   "cell_type": "markdown",
   "metadata": {
    "id": "gRRMORlYzzKv"
   },
   "source": [
    "## Από τη γραμμική στη λογιστική παλινδρόμηση\n",
    "\n",
    "Σε περίπτωση που θα θέλαμε να μετατρέψουμε το πρόβλημα της παλινδρόμησης σε ένα πρόλβημα δυαδικής ταξινόμησης μια προσέγγιση θα ήταν να κοιτάξουμε το πεδίο τιμών της $y$ και να θέσουμε μια τιμή κατωφλιού $y_{thresh}$ για την οποία θα ισχύει $$\\begin{align} y_{i} &=1 \\text{, αν } y_i \\geq y_{thresh} \\text{ και }\\\\\n",
    "y_{i} &=0 \\text{ αλλιώς} \\end{align}\n",
    "$$\n",
    "Το πρόβλημα με αυτή την ευρετική μέθοδο είναι ότι ενώ πρακτικά πράγματι μετατρέπει το πρόβλημα παλινδρόμησης σε δυαδική ταξινόμηση, δεν υπάρχει κάποια θεωρητική βάση για να υποστηρίξει την ορθότητα της απόφασης μας. Αυτή θα υπήρχε, αν με κάποιο τρόπο μπορούσαμε να λάβουμε μια συνάρτηση πυκνότητας πιθανότητας για τα $P(y_i)$ έτσι ώστε αν $P(y_i)\\geq 0,5$ να έχουμε $y_{i} =1$"
   ]
  },
  {
   "cell_type": "markdown",
   "metadata": {
    "id": "veDrcRz2-Zyr"
   },
   "source": [
    "### Η λογιστική (σιγμοειδής) συνάρτηση\n",
    "![](https://upload.wikimedia.org/wikipedia/commons/thumb/8/88/Logistic-curve.svg/320px-Logistic-curve.svg.png)\n",
    "\n",
    "Μια ιδιαίτερα βολική συνάρτηση για να λάβουμε τιμές στο διάσημα μεταξύ 0 και 1 είναι λογιστική σιγμοειδής συνάρτηση ή απλά λογιστική συνάρτηση:\n",
    "$$ f(x)={\\frac {1}{1+e^{-x}}} .$$ \n",
    "Ας την ορίσουμε:\n"
   ]
  },
  {
   "cell_type": "code",
   "execution_count": 2,
   "metadata": {
    "executionInfo": {
     "elapsed": 25,
     "status": "ok",
     "timestamp": 1666618789011,
     "user": {
      "displayName": "Giorgos Siolas",
      "userId": "10127542075805046236"
     },
     "user_tz": -180
    },
    "id": "ukEFhHOuAakl"
   },
   "outputs": [],
   "source": [
    "import math\n",
    "\n",
    "def sigmoid(x: float) -> float:\n",
    "    return 1 / (1 + math.exp(-x))\n",
    "\n",
    "assert sigmoid(0) == 0.5 \n",
    "# Με την assert κάνουμε έλεγχο τιμών, μια καλή πρακτική \n",
    "# Αν δεν προκύπτει η ισότητα ο διερμηνευτής της Python θα πετάξει σφάλμα. \n",
    "# Αν είναι σωστή η τιμή η εκτέλεση θα συνεχιστεί χωρίς κάποια έξοδο."
   ]
  },
  {
   "cell_type": "markdown",
   "metadata": {
    "id": "Sg_kEX4LCLql"
   },
   "source": [
    "### Δημιουργία μιας συνάρτησης καταστολής (squashing function)\n",
    "\n",
    "Καταρχάς θα χρησιμοποιήσουμε ένα μικρό αλγεβρικό \"τρικ\" για να \"ξεφορτωθούμε\" τον όρο $b$ και να πάρουμε τη βολική μορφή του γινομένου. Θα προσθέσουμε στην αρχή του διανύσματος του $x$ έναν άσσο και στην αρχή του διανύσματος $β$ το $b$ ως εξής:\n",
    "$$\n",
    "\\vec{x}=\\left(\\begin{array}{c}\n",
    "1 \\\\\n",
    "x_{1} \\\\\n",
    "\\cdots \\\\\n",
    "x_{m}\n",
    "\\end{array}\\right) \\vec { β }=\\left(\\begin{array}{c}\n",
    "b \\\\\n",
    "\\beta_{1} \\\\\n",
    "\\cdots \\\\\n",
    "\\beta_{m}\n",
    "\\end{array}\\right)\n",
    "$$\n",
    "\n",
    "Συνεπώς τώρα μπορούμε να γράψουμε\n",
    "$$y= b + β_1 ​ x_1 ​+...+β_mx_m ​ +b= b +β_1 ​ x_1 ​+...+β_mx_m ​ =\\vec{x}\\cdot \\vec{β}$$\n",
    "όπου \"$\\cdot$\" είναι το εσωτερικό γινόμενο των δύο διανυσμάτων. Υλοποιούμε το εσωτερικό γινόμενο δύο διανυσμάτων:"
   ]
  },
  {
   "cell_type": "code",
   "execution_count": 3,
   "metadata": {
    "executionInfo": {
     "elapsed": 23,
     "status": "ok",
     "timestamp": 1666618789011,
     "user": {
      "displayName": "Giorgos Siolas",
      "userId": "10127542075805046236"
     },
     "user_tz": -180
    },
    "id": "ivETpwcMFp7t"
   },
   "outputs": [],
   "source": [
    "from typing import List\n",
    "\n",
    "def dot(a: List[float], b: List[float]) -> float:\n",
    "    assert len(a) == len(b)\n",
    "    return sum([a_i * b_i for a_i, b_i in zip(a, b)])\n",
    "\n",
    "assert dot([1, 2, 3, 4], [5, 6, 7, 8]) == 70"
   ]
  },
  {
   "cell_type": "markdown",
   "metadata": {
    "id": "vpNO6AVvGcPp"
   },
   "source": [
    "Μπορούμε τώρα να γράψουμε τώρα τη δική μας συνάρτηση καταστολής `squash` η οποία εφαρμόζει τη σιγμοειδή συνάρτηση πάνω στο εσωτερικό γινόμενο δύο διανυσμάτων ή αλλιώς που υπολογίζει το \n",
    "$$ y= \\sigma(β_1 ​ x_1 ​+...+β_mx_m ​ +b)$$ όπου $\\sigma$ η σιγμοειδής:"
   ]
  },
  {
   "cell_type": "code",
   "execution_count": 4,
   "metadata": {
    "executionInfo": {
     "elapsed": 23,
     "status": "ok",
     "timestamp": 1666618789011,
     "user": {
      "displayName": "Giorgos Siolas",
      "userId": "10127542075805046236"
     },
     "user_tz": -180
    },
    "id": "eHm8B3w0HIip"
   },
   "outputs": [],
   "source": [
    "def squash(beta: List[float], x: List[float]) -> float:\n",
    "    assert len(beta) == len(x)\n",
    "    # Calculate the dot product\n",
    "    dot_result: float = dot(beta, x)\n",
    "    # Use sigmoid to get a result between 0 and 1\n",
    "    return sigmoid(dot_result)\n",
    "\n",
    "assert squash([1, 2, 3, 4], [5, 6, 7, 8]) == 1.0"
   ]
  },
  {
   "cell_type": "markdown",
   "metadata": {
    "id": "7iDFs1TxH9lm"
   },
   "source": [
    "Έχουμε λοιπόν μετατρέψει το πρόβλημα παλινδρόμησης σε πρόβλημα δυαδικής ταξινόμησης. Το ζητούμενό μας τώρα είναι το εξής: εφόσον μιλάμε για ταξινόμηση, δηλαδή επιβλεπόμενη μάθηση, για κάθε $x_i$ θα μας δίνονται οι επιθυμητές ετικέτες 0 και 1 $y_i$ και εμείς θα πρέπει να προσδιορίσουμε τις βέλτιστες τιμές του $β$ ή αλλοιώς να προσδιορίσουμε την υπόθεση μας με όρους μηχανικής μάθησης."
   ]
  },
  {
   "cell_type": "markdown",
   "metadata": {
    "id": "p1kBp94UJ_zX"
   },
   "source": [
    "### Συνάρτηση πυκνότητας πιθανότητας και συνάρτηση κόστους\n",
    "\n",
    "Για να μπορέσουμε να προχωρήσουμε θα πρέπει να ορίσουμε μια συνάρτηση υπό συνθήκης πιθανότητας που θα εκφράζει κατά πόσο \"πλησιάζουμε\" στη σωστή ετικέτα $y_i$ για κάθε δείγμα $x_i$ και τα βάρη μας $β$. Αυτή η συνάρτηση θα πρέπει αν έχει πιθανότητα $\\sigma(βx_i)$ για να είναι η ετικέτα \"1\" και $1-\\sigma(βx_i)$ για να είναι η ετικέτα \"0\". Μπορούμε να το γράψουμε σε μία εξίσωση ως εξής:\n",
    "$$\n",
    "P\\left(y_{i} \\mid \\beta x_{i}\\right)=\\sigma\\left(\\beta x_{i}\\right)^{y_{i}} \\times\\left(1-\\sigma\\left(\\beta x_{i}\\right)\\right)^{1-y_{i}}\n",
    "$$\n",
    "όπου ανάλογα αν $y_i=1$ ή $y_i=0$ μένει μόνο ο πρώτος ή ο δεύτερος όρος στη δεξιά πλευρά της εξίσωσης. Πρόκειται για τη συνάρτηση πιθανοφάνειας της υπόθεσής μας, η οποία επιθυμούμε να είναι η μέγιστη δυνατή.\n",
    "\n",
    "Εφόσον μας δίνονται τα $x_i$ και $y_i$ και πρέπει να βρούμε τα βέλτιστα βάρη $β$ θα χρειαστούμε μια συνάρτηση σφάλματος ή απώλειας (loss) $L(β|y_ix_i)$ προς ελαχιστοποίηση. \n",
    "Αρχικά, θα πάρουμε τον λογάριθμο της πιθανοφάνειας, κάτι που κανουμε συχνά για υπολογιστικούς λόγους. Ο λογάριθμος έχει την ίδια μονοτονία με την αρχικη συνάρτηση αλλά μας δίνει αθροίσματα τιμών αντί για γινόμενα. Στη συνέχεια, εφόσον στοχεύουμε σε ελαχιστοποίηση και οι λογάριθμοι είναι αρνητικοί, θα χρησιμοποιήσουμε την αρνητική συνάρτηση του λογάριθμου της log-πιθανοφάνειας. Τελικά προκύπτει:\n",
    "$$\n",
    "\\log L\\left(\\beta \\mid x_{i} y_{i}\\right)=-\\left(y_{i} \\log \\left(\\sigma\\left(\\beta x_{i}\\right)\\right)+\\left(1-y_{i}\\right) \\log \\left(1-\\sigma\\left(\\beta x_{i}\\right)\\right)\\right)\n",
    "$$\n",
    "που είναι η συνάρτηση λογαριθμικού σφάλματος ή απώλειας (Log Loss / Log Likelihood) προς ελαχιστοποίηση. Την ορίζουμε:\n"
   ]
  },
  {
   "cell_type": "code",
   "execution_count": 5,
   "metadata": {
    "executionInfo": {
     "elapsed": 23,
     "status": "ok",
     "timestamp": 1666618789012,
     "user": {
      "displayName": "Giorgos Siolas",
      "userId": "10127542075805046236"
     },
     "user_tz": -180
    },
    "id": "FBnD8-7JTUNc"
   },
   "outputs": [],
   "source": [
    "def neg_log_likelihood(y: float, y_pred: float) -> float:\n",
    "    return -((y * math.log(y_pred)) + ((1 - y) * math.log(1 - y_pred)))\n",
    "\n",
    "assert 2.30 < neg_log_likelihood(1, 0.1) < 2.31\n",
    "assert 2.30 < neg_log_likelihood(0, 0.9) < 2.31\n",
    "assert 0.10 < neg_log_likelihood(1, 0.9) < 0.11\n",
    "assert 0.10 < neg_log_likelihood(0, 0.1) < 0.11"
   ]
  },
  {
   "cell_type": "markdown",
   "metadata": {
    "id": "Iu3_kRq9UiDq"
   },
   "source": [
    "### Συνάρτηση κόστους\n",
    "Η συνάρτηση κόστους (cost function) είναι απλά το άθροισμα του σφάλματος για όλο το dataset: \n",
    "$$\n",
    "\\text { Cost }=-\\frac{1}{n} \\sum_{i=1}^{n}\\left(y_{i} \\log \\left(\\sigma\\left(\\beta x_{i}\\right)\\right)+\\left(1-y_{i}\\right) \\log \\left(1-\\sigma\\left(\\beta x_{i}\\right)\\right)\\right)\n",
    "$$\n",
    "Την ορίζουμε:"
   ]
  },
  {
   "cell_type": "code",
   "execution_count": 6,
   "metadata": {
    "executionInfo": {
     "elapsed": 23,
     "status": "ok",
     "timestamp": 1666618789013,
     "user": {
      "displayName": "Giorgos Siolas",
      "userId": "10127542075805046236"
     },
     "user_tz": -180
    },
    "id": "MgeXUxP2U4Bl"
   },
   "outputs": [],
   "source": [
    "def error(ys: List[float], ys_pred: List[float]) -> float:\n",
    "    assert len(ys) == len(ys_pred)\n",
    "    num_items: int = len(ys)\n",
    "    sum_nll: float = sum([neg_log_likelihood(y, y_pred) for y, y_pred in zip(ys, ys_pred)])\n",
    "    return (1 / num_items) * sum_nll\n",
    "\n",
    "assert 2.30 < error([1], [0.1]) < 2.31\n",
    "assert 2.30 < error([0], [0.9]) < 2.31\n",
    "assert 0.10 < error([1], [0.9]) < 0.11\n",
    "assert 0.10 < error([0], [0.1]) < 0.11"
   ]
  },
  {
   "cell_type": "markdown",
   "metadata": {
    "id": "LTcGv43CV3Vo"
   },
   "source": [
    "### Βελτιστοποίηση με κάθοδο κλίσης\n",
    "\n",
    "Η μέθοδος βελτιστοποίησης που χρησιμοποιούμε κατά κανόνα στη μηχανική μάθηση είναι η κάθοδος κλίσης (gradient descent) ως προς κάθε διάσταση,\n",
    "$$\n",
    "\\frac{\\partial \\text { Cost }}{\\partial x_{ j}}=\\frac{1}{n} \\sum_{i=1}^{n}\\left(\\sigma\\left(\\beta x_{i}\\right)-y_{i}\\right) x_{i j},\n",
    "$$\n",
    "η οποία εγγυάται την εύρεση ενός τοπικού ελάχιστου. Προγραμματιστικά αυτό μπορεί να γραφτεί ως εξής:"
   ]
  },
  {
   "cell_type": "markdown",
   "metadata": {
    "id": "J2EBX-wGXNOa"
   },
   "source": [
    "```python\n",
    "grad: List[float] = [0 for _ in range(len(beta))]\n",
    "for x, y in zip(xs, ys):\n",
    "    err: float = squash(beta, x) - y\n",
    "    for i, x_i in enumerate(x):\n",
    "        grad[i] += (err * x_i)\n",
    "grad = [1 / len(x) * g_i for g_i in grad]\n",
    "```"
   ]
  },
  {
   "cell_type": "markdown",
   "metadata": {
    "id": "8FU-d_jsSpyi"
   },
   "source": [
    "Τα βάρη $β_j$ στη συνέχεια θα ανανεώνονται επαναληπτικά ως εξής:\n",
    "\n",
    "$$ β_j  \\gets β_j - \\alpha \\frac{1}{n} \\sum_{i=1}^{n}\\left(\\sigma\\left(\\beta x_{i}\\right)-y_{i}\\right) x_{i j},$$\n",
    "\n",
    "όπου $α$ ο ρυθμός μάθησης (learning rate), μέχρι την ικανοποίηση κάποιου κριτήρίου σύγκλισης."
   ]
  },
  {
   "cell_type": "markdown",
   "metadata": {
    "id": "Lnz1cORqbWZI"
   },
   "source": [
    "### Ένα παράδειγμα\n",
    "\n",
    "Θα δοκιμάσουμε τον ταξινομήτή που φτιάξαμε σε ένα παράδειγμα με ένα δiσδιάστατο διαχωρίσιμο dataset.\n",
    "Κατεβάζουμε τα δεδομένα μας και τα διαβάζουμε:"
   ]
  },
  {
   "cell_type": "code",
   "execution_count": 7,
   "metadata": {
    "colab": {
     "base_uri": "https://localhost:8080/"
    },
    "executionInfo": {
     "elapsed": 23,
     "status": "ok",
     "timestamp": 1666618789013,
     "user": {
      "displayName": "Giorgos Siolas",
      "userId": "10127542075805046236"
     },
     "user_tz": -180
    },
    "id": "bHMxtGWnb6bb",
    "outputId": "2bee2312-2814-4c2f-ddc6-5f4a112a4d0c"
   },
   "outputs": [
    {
     "name": "stdout",
     "output_type": "stream",
     "text": [
      "--2022-10-24 13:39:49--  https://tinyurl.com/y5oyomko\n",
      "Resolving tinyurl.com (tinyurl.com)... 172.67.1.225, 104.20.138.65, 104.20.139.65, ...\n",
      "Connecting to tinyurl.com (tinyurl.com)|172.67.1.225|:443... connected.\n",
      "HTTP request sent, awaiting response... 301 Moved Permanently\n",
      "Location: https://gist.githubusercontent.com/gsiolas/df2e54953cec6253db366312a4eae6f0/raw/0e7acd076b0975ac08caeabcf5f6acff805e4ba6/csv [following]\n",
      "--2022-10-24 13:39:49--  https://gist.githubusercontent.com/gsiolas/df2e54953cec6253db366312a4eae6f0/raw/0e7acd076b0975ac08caeabcf5f6acff805e4ba6/csv\n",
      "Resolving gist.githubusercontent.com (gist.githubusercontent.com)... 185.199.108.133, 185.199.109.133, 185.199.110.133, ...\n",
      "Connecting to gist.githubusercontent.com (gist.githubusercontent.com)|185.199.108.133|:443... connected.\n",
      "HTTP request sent, awaiting response... 200 OK\n",
      "Length: 1599 (1.6K) [text/plain]\n",
      "Saving to: ‘data.csv’\n",
      "\n",
      "data.csv            100%[===================>]   1.56K  --.-KB/s    in 0s      \n",
      "\n",
      "2022-10-24 13:39:50 (17.6 MB/s) - ‘data.csv’ saved [1599/1599]\n",
      "\n"
     ]
    }
   ],
   "source": [
    "!wget -nc  https://tinyurl.com/y5oyomko -O data.csv"
   ]
  },
  {
   "cell_type": "code",
   "execution_count": 8,
   "metadata": {
    "executionInfo": {
     "elapsed": 13,
     "status": "ok",
     "timestamp": 1666618789013,
     "user": {
      "displayName": "Giorgos Siolas",
      "userId": "10127542075805046236"
     },
     "user_tz": -180
    },
    "id": "ldkPtbR8cFzL"
   },
   "outputs": [],
   "source": [
    "toy_data_file = 'data.csv'\n",
    "\n",
    "xs: List[List[float]] = []\n",
    "ys: List[float] = []\n",
    "\n",
    "with open(toy_data_file) as file:\n",
    "    for line in file:\n",
    "        data_point: List[str] = line.strip().split(',')\n",
    "        y: int = int(data_point[0])\n",
    "        x1: float = float(data_point[1])\n",
    "        x2: float = float(data_point[2])\n",
    "        xs.append([x1, x2])\n",
    "        ys.append(y)"
   ]
  },
  {
   "cell_type": "markdown",
   "metadata": {
    "id": "-9W8EcwTi1od"
   },
   "source": [
    "Ας κάνουμε μια απεικόνιση των δεδομένων μας:"
   ]
  },
  {
   "cell_type": "code",
   "execution_count": 9,
   "metadata": {
    "colab": {
     "base_uri": "https://localhost:8080/",
     "height": 265
    },
    "executionInfo": {
     "elapsed": 1103,
     "status": "ok",
     "timestamp": 1666618790104,
     "user": {
      "displayName": "Giorgos Siolas",
      "userId": "10127542075805046236"
     },
     "user_tz": -180
    },
    "id": "PTZ7U24MejvE",
    "outputId": "b7310171-d4d6-48c4-f3e4-1fd8baf731c7"
   },
   "outputs": [
    {
     "data": {
      "image/png": "[encoded data removed]",
      "text/plain": [
       "<Figure size 432x288 with 1 Axes>"
      ]
     },
     "metadata": {
      "needs_background": "light"
     },
     "output_type": "display_data"
    }
   ],
   "source": [
    "import matplotlib.pyplot as plt\n",
    "\n",
    "x1s: List[float] = [x[0] for x in xs]\n",
    "x2s: List[float] = [x[1] for x in xs]\n",
    "\n",
    "plt.scatter(x1s, x2s, c=ys)\n",
    "plt.axis([min(x1s), max(x1s), min(x2s), max(x2s)]);"
   ]
  },
  {
   "cell_type": "markdown",
   "metadata": {
    "id": "kRoolX2ri63w"
   },
   "source": [
    "Για να μπορέσουμε να χρησιμοποιήσουμε το αλγεβρικό τρικ που μας δίνει το γινόμενο $βx$ πρέπει να προσθέσουμε μια μονάδα στην αρχή κάθε διανύσματος εισόδου:"
   ]
  },
  {
   "cell_type": "code",
   "execution_count": 10,
   "metadata": {
    "colab": {
     "base_uri": "https://localhost:8080/"
    },
    "executionInfo": {
     "elapsed": 15,
     "status": "ok",
     "timestamp": 1666618790105,
     "user": {
      "displayName": "Giorgos Siolas",
      "userId": "10127542075805046236"
     },
     "user_tz": -180
    },
    "id": "cyW3TLUtjKKR",
    "outputId": "f59f3fbe-0e2e-460b-a8e2-bc9e6ee8c51e"
   },
   "outputs": [
    {
     "data": {
      "text/plain": [
       "[[1, 2.6487, 4.5192],\n",
       " [1, 1.5438, 2.4443],\n",
       " [1, 1.899, 4.2409],\n",
       " [1, 2.4711, 5.8097],\n",
       " [1, 3.359, 6.4423]]"
      ]
     },
     "execution_count": 10,
     "metadata": {},
     "output_type": "execute_result"
    }
   ],
   "source": [
    "for x in xs:\n",
    "    x.insert(0, 1)\n",
    "\n",
    "xs[:5] # για να δούμε τα πέντε πρώτα διανύσματα\n"
   ]
  },
  {
   "cell_type": "markdown",
   "metadata": {
    "id": "tsPmBp6KkWsw"
   },
   "source": [
    "Έχουμε πλέον ό,τι χρειαζόμαστε για να προσαρμόσουμε τον ταξινομητή μας στα διαθέσιμα δεδομένα:"
   ]
  },
  {
   "cell_type": "code",
   "execution_count": 11,
   "metadata": {
    "colab": {
     "base_uri": "https://localhost:8080/"
    },
    "executionInfo": {
     "elapsed": 2672,
     "status": "ok",
     "timestamp": 1666618792766,
     "user": {
      "displayName": "Giorgos Siolas",
      "userId": "10127542075805046236"
     },
     "user_tz": -180
    },
    "id": "A0o-l_28jmoj",
    "outputId": "18eb9e67-f54b-436a-ad3b-1f7e9fa6d340"
   },
   "outputs": [
    {
     "name": "stdout",
     "output_type": "stream",
     "text": [
      "Starting with \"beta\": [0.04679930323651016, 0.22420081523016955, 0.5090784821159893]\n",
      "Epoch 1 --> loss: 1.9165651196966718\n",
      "Epoch 1001 --> loss: 0.017886523272825586\n",
      "Epoch 2001 --> loss: 0.010754851524214577\n",
      "Epoch 3001 --> loss: 0.00785716900965857\n",
      "Epoch 4001 --> loss: 0.006252231644364842\n",
      "Best estimate for \"beta\": [5.4568686313154435, -6.744810377241063, 4.947133794859569]\n"
     ]
    }
   ],
   "source": [
    "import random\n",
    "\n",
    "beta: List[float] = [random.random() for _ in range(3)]\n",
    "\n",
    "print(f'Starting with \"beta\": {beta}')\n",
    "\n",
    "epochs: int = 5000\n",
    "learning_rate: float = 0.01\n",
    "\n",
    "for epoch in range(epochs):\n",
    "    # Calculate the \"predictions\" (squishified dot product of `beta` and `x`) based on our current `beta` vector\n",
    "    ys_pred: List[float] = [squash(beta, x) for x in xs]\n",
    "\n",
    "    # Calculate and print the error\n",
    "    if epoch % 1000 == True:\n",
    "        loss: float = error(ys, ys_pred)\n",
    "        print(f'Epoch {epoch} --> loss: {loss}')\n",
    "\n",
    "    # Calculate the gradient\n",
    "    grad: List[float] = [0 for _ in range(len(beta))]\n",
    "    for x, y in zip(xs, ys):\n",
    "        err: float = squash(beta, x) - y\n",
    "        for i, x_i in enumerate(x):\n",
    "            grad[i] += (err * x_i)\n",
    "    grad = [1 / len(x) * g_i for g_i in grad]\n",
    "\n",
    "    # Take a small step in the direction of greatest decrease\n",
    "    beta = [b + (gb * -learning_rate) for b, gb in zip(beta, grad)]\n",
    "\n",
    "print(f'Best estimate for \"beta\": {beta}')"
   ]
  },
  {
   "cell_type": "markdown",
   "metadata": {
    "id": "lLaCNWP2klt8"
   },
   "source": [
    "Για να εκτιμήσουμε την απόδοση του ταξινομήτη μας θα τυπώσουμε τα γνωστά στατιστικά που συγκροτούν τον πίνακα σύγχυσης καθώς και τη συνολική ορθότητα.\n",
    "\n",
    "Σημειώστε ότι τώρα το να θέσουμε ένα κατώφλι $\\geq 0,5$ για την απόφασή μας είναι δόκιμο καθώς η έξοδος του ταξινομητή μας είναι μια συνάρτηση πυκνότητας πιθανότητας."
   ]
  },
  {
   "cell_type": "code",
   "execution_count": 12,
   "metadata": {
    "colab": {
     "base_uri": "https://localhost:8080/"
    },
    "executionInfo": {
     "elapsed": 14,
     "status": "ok",
     "timestamp": 1666618792767,
     "user": {
      "displayName": "Giorgos Siolas",
      "userId": "10127542075805046236"
     },
     "user_tz": -180
    },
    "id": "gTnb3DHwlQWu",
    "outputId": "0fcf6a7d-7023-4ad5-dae1-78b113573707"
   },
   "outputs": [
    {
     "name": "stdout",
     "output_type": "stream",
     "text": [
      "True Positives: 50\n",
      "True Negatives: 50\n",
      "False Positives: 0\n",
      "False Negatives: 0\n",
      "Accuracy: 1.0\n",
      "Error rate: 0.0\n"
     ]
    }
   ],
   "source": [
    "total: int = len(ys)\n",
    "thresh: float = 0.5\n",
    "true_positives: int = 0\n",
    "true_negatives: int = 0\n",
    "false_positives: int = 0\n",
    "false_negatives: int = 0\n",
    "for i, x in enumerate(xs):\n",
    "    y: int = ys[i]\n",
    "    pred: float = squash(beta, x)\n",
    "    y_pred: int = 1\n",
    "    if pred < thresh:\n",
    "        y_pred = 0\n",
    "    if y == 1 and y_pred == 1:\n",
    "        true_positives += 1\n",
    "    elif y == 0 and y_pred == 0:\n",
    "        true_negatives += 1\n",
    "    elif y == 1 and y_pred == 0:\n",
    "        false_negatives += 1\n",
    "    elif y == 0 and y_pred == 1:\n",
    "        false_positives += 1\n",
    "\n",
    "print(f'True Positives: {true_positives}')\n",
    "print(f'True Negatives: {true_negatives}')\n",
    "print(f'False Positives: {false_positives}')\n",
    "print(f'False Negatives: {false_negatives}')\n",
    "print(f'Accuracy: {(true_positives + true_negatives) / total}')\n",
    "print(f'Error rate: {(false_positives + false_negatives) / total}')"
   ]
  },
  {
   "cell_type": "markdown",
   "metadata": {
    "id": "cXlme8fZlg6U"
   },
   "source": [
    "Τέλος, τυπώνουμε την ευθεία διαχωρισμού:"
   ]
  },
  {
   "cell_type": "code",
   "execution_count": 13,
   "metadata": {
    "colab": {
     "base_uri": "https://localhost:8080/",
     "height": 265
    },
    "executionInfo": {
     "elapsed": 762,
     "status": "ok",
     "timestamp": 1666619000732,
     "user": {
      "displayName": "Giorgos Siolas",
      "userId": "10127542075805046236"
     },
     "user_tz": -180
    },
    "id": "QOCKeJqqlnHg",
    "outputId": "785a9c4c-4999-4ec3-c800-53e5efdaa2d7"
   },
   "outputs": [
    {
     "data": {
      "image/png": "[encoded data removed]",
      "text/plain": [
       "<Figure size 432x288 with 1 Axes>"
      ]
     },
     "metadata": {
      "needs_background": "light"
     },
     "output_type": "display_data"
    }
   ],
   "source": [
    "x1s: List[float] = [x[1] for x in xs]\n",
    "x2s: List[float] = [x[2] for x in xs]\n",
    "plt.scatter(x1s, x2s, c=ys)\n",
    "plt.axis([min(x1s), max(x1s), min(x2s), max(x2s)]);\n",
    "\n",
    "m: float = -(beta[1] / beta[2])\n",
    "b: float = -(beta[0] / beta[2])\n",
    "\n",
    "x2s: List[float] = [m * x[1] + b for x in xs]\n",
    "\n",
    "plt.plot(x1s, x2s, '--');"
   ]
  },
  {
   "cell_type": "markdown",
   "metadata": {
    "id": "BTKO53NDluvf"
   },
   "source": [
    "## Λογιστική παλινδρόμηση του scikit με πολλές κατηγορίες"
   ]
  },
  {
   "cell_type": "markdown",
   "metadata": {
    "id": "f-yzcdzl2-sT"
   },
   "source": [
    "### Εισαγωγή των δεδομένων (Digits Dataset)\n",
    "\n",
    "![](https://www.engineeringbigdata.com/wp-content/uploads/digits-plots-matplotlib.png)\n",
    "\n",
    "Το digits dataset είναι ένα από τα datasets του scikit που δεν χρειάζεται το download αρχείων από εξωτερικά URLs. Ο ακόλουθος κώδικας θα φορτώσει το dataset."
   ]
  },
  {
   "cell_type": "code",
   "execution_count": 14,
   "metadata": {
    "executionInfo": {
     "elapsed": 1603,
     "status": "ok",
     "timestamp": 1666619292340,
     "user": {
      "displayName": "Giorgos Siolas",
      "userId": "10127542075805046236"
     },
     "user_tz": -180
    },
    "id": "L6jdIMT73JVH"
   },
   "outputs": [],
   "source": [
    "from sklearn.datasets import load_digits\n",
    "digits = load_digits()"
   ]
  },
  {
   "cell_type": "markdown",
   "metadata": {
    "id": "G53Lm2153KCF"
   },
   "source": [
    "Τώρα που έχουμε φορτώσει το dataset μπορούμε να δούμε πόσα είναι τα δείγματα"
   ]
  },
  {
   "cell_type": "code",
   "execution_count": 15,
   "metadata": {
    "colab": {
     "base_uri": "https://localhost:8080/"
    },
    "executionInfo": {
     "elapsed": 808,
     "status": "ok",
     "timestamp": 1666619296278,
     "user": {
      "displayName": "Giorgos Siolas",
      "userId": "10127542075805046236"
     },
     "user_tz": -180
    },
    "id": "H7JnxzLZ3Og8",
    "outputId": "a735de40-ecb5-456f-800e-c35cceeecf8c"
   },
   "outputs": [
    {
     "name": "stdout",
     "output_type": "stream",
     "text": [
      "Image Data Shape (1797, 64)\n",
      "Label Data Shape (1797,)\n"
     ]
    }
   ],
   "source": [
    "# Print to show there are 1797 images (8 by 8 images for a dimensionality of 64)\n",
    "print(\"Image Data Shape\" , digits.data.shape)\n",
    "# Print to show there are 1797 labels (integers from 0–9)\n",
    "print(\"Label Data Shape\", digits.target.shape)"
   ]
  },
  {
   "cell_type": "markdown",
   "metadata": {
    "id": "HdSKx1p03QkG"
   },
   "source": [
    "υπάρχουν 1797 εικόνες και 1797 ετικέτες στο σύνολο δεδομένων."
   ]
  },
  {
   "cell_type": "markdown",
   "metadata": {
    "id": "ymsA3jSB3aG1"
   },
   "source": [
    "### Οπτικοποίηση εικόνων και ετικετών \n",
    "\n",
    "Εδώ απλά θέλουμε να έχουμε εποπτεία του πως είναι μια εικόνα και ποια είναι η ετικέτα της. "
   ]
  },
  {
   "cell_type": "code",
   "execution_count": 16,
   "metadata": {
    "colab": {
     "base_uri": "https://localhost:8080/",
     "height": 283
    },
    "executionInfo": {
     "elapsed": 968,
     "status": "ok",
     "timestamp": 1666619305258,
     "user": {
      "displayName": "Giorgos Siolas",
      "userId": "10127542075805046236"
     },
     "user_tz": -180
    },
    "id": "nhpEVqIN3n4n",
    "outputId": "b81525bc-f389-49ad-e6da-22c41391d640"
   },
   "outputs": [
    {
     "data": {
      "image/png": "[encoded data removed]",
      "text/plain": [
       "<Figure size 1440x288 with 5 Axes>"
      ]
     },
     "metadata": {
      "needs_background": "light"
     },
     "output_type": "display_data"
    }
   ],
   "source": [
    "import numpy as np \n",
    "import matplotlib.pyplot as plt\n",
    "plt.figure(figsize=(20,4))\n",
    "for index, (image, label) in enumerate(zip(digits.data[0:5], digits.target[0:5])):\n",
    " plt.subplot(1, 5, index + 1)\n",
    " plt.imshow(np.reshape(image, (8,8)), cmap=plt.cm.gray)\n",
    " plt.title('Training: %i\\n' % label, fontsize = 20)"
   ]
  },
  {
   "cell_type": "markdown",
   "metadata": {
    "id": "QIT5y3JU3oa8"
   },
   "source": [
    "### Διαχωρισμός σε train και test set\n",
    "\n",
    "Δημιουργούμε train και test sets ώστε να μπορέσουμε να εκτιμήσουμε την ικανότητα γενίκευσης του ταξινομητή μας. "
   ]
  },
  {
   "cell_type": "code",
   "execution_count": 17,
   "metadata": {
    "executionInfo": {
     "elapsed": 924,
     "status": "ok",
     "timestamp": 1666619324676,
     "user": {
      "displayName": "Giorgos Siolas",
      "userId": "10127542075805046236"
     },
     "user_tz": -180
    },
    "id": "IdAnpkLn3vTC"
   },
   "outputs": [],
   "source": [
    "from sklearn.model_selection import train_test_split\n",
    "x_train, x_test, y_train, y_test = train_test_split(digits.data, digits.target, test_size=0.25, random_state=0)"
   ]
  },
  {
   "cell_type": "markdown",
   "metadata": {
    "id": "5fEptG_a4Ru4"
   },
   "source": [
    "### Εκπαιδεύση ενός ταξινομητή λογιστικής παλινδρόμησης και προβλέψεις"
   ]
  },
  {
   "cell_type": "markdown",
   "metadata": {
    "id": "nk2wh1D66_ZK"
   },
   "source": [
    "[Documentation απο το scikit-learn](https://scikit-learn.org/stable/modules/generated/sklearn.linear_model.LogisticRegression.html#sklearn.linear_model.LogisticRegression)"
   ]
  },
  {
   "cell_type": "code",
   "execution_count": 18,
   "metadata": {
    "colab": {
     "base_uri": "https://localhost:8080/"
    },
    "executionInfo": {
     "elapsed": 2651,
     "status": "ok",
     "timestamp": 1666619330658,
     "user": {
      "displayName": "Giorgos Siolas",
      "userId": "10127542075805046236"
     },
     "user_tz": -180
    },
    "id": "0yocL-IL3xZk",
    "outputId": "84474996-bfa7-49f9-c81b-9a53504ffc91"
   },
   "outputs": [
    {
     "name": "stderr",
     "output_type": "stream",
     "text": [
      "/usr/local/lib/python3.7/dist-packages/sklearn/linear_model/_sag.py:354: ConvergenceWarning: The max_iter was reached which means the coef_ did not converge\n",
      "  ConvergenceWarning,\n"
     ]
    }
   ],
   "source": [
    "# Step 1. Import the model you want to use\n",
    "from sklearn.linear_model import LogisticRegression\n",
    "# Step 2. Make an instance of the Model\n",
    "# all parameters not specified are set to their defaults\n",
    "logisticRegr = LogisticRegression(solver='saga', max_iter=500)\n",
    "# Step 3. Training the model on the data, storing the information learned from the data\n",
    "# Model is learning the relationship between digits (x_train) and labels (y_train)\n",
    "logisticRegr.fit(x_train, y_train)\n",
    "# Step 4. Predict labels for new data (new images)\n",
    "# Uses the information the model learned during the model training process\n",
    "# Returns a NumPy Array\n",
    "# Predict for One Observation (image)\n",
    "logisticRegr.predict(x_test[0].reshape(1,-1))\n",
    "#Predict for Multiple Observations (images) at Once\n",
    "logisticRegr.predict(x_test[0:10])\n",
    "#Make predictions on entire test data\n",
    "predictions = logisticRegr.predict(x_test)"
   ]
  },
  {
   "cell_type": "markdown",
   "metadata": {
    "id": "oIam0WBF4XZH"
   },
   "source": [
    "### Αποτίμηση επίδοσης με βάση την ορθότητα (accuracy)\n",
    "\n",
    "Για να δούμε ποιες είναι οι επιδόσεις του ταξινομητή στο test set θα χρησιμοποιήσουμε τη μεττρική της ορθότητας (accuracy).\n",
    "\n",
    "Η ορθότητα ορίζεται ως:\n",
    "\n",
    "σύνολο ορθών προβλέψεων / σύνολο προβλέψεων (ή δειγμάτων στο test set)"
   ]
  },
  {
   "cell_type": "code",
   "execution_count": 19,
   "metadata": {
    "colab": {
     "base_uri": "https://localhost:8080/"
    },
    "executionInfo": {
     "elapsed": 13,
     "status": "ok",
     "timestamp": 1666619336600,
     "user": {
      "displayName": "Giorgos Siolas",
      "userId": "10127542075805046236"
     },
     "user_tz": -180
    },
    "id": "kJauWYyT47jO",
    "outputId": "820f1429-8b94-4ccb-a785-42c8b8f7494b"
   },
   "outputs": [
    {
     "name": "stdout",
     "output_type": "stream",
     "text": [
      "0.9577777777777777\n"
     ]
    }
   ],
   "source": [
    "# Use score method to get accuracy of model\n",
    "score = logisticRegr.score(x_test, y_test)\n",
    "print(score)"
   ]
  },
  {
   "cell_type": "markdown",
   "metadata": {
    "id": "CtHisQHSPDuw"
   },
   "source": [
    "### Η σχέση με τα νευρωνικά δίκτυα\n",
    "\n",
    "👉 Τα Νευρωνικά Δίκτυα (MLP) λόγω της σιγμοειδούς συνάρτησης ενεργοποίησης που εφαρμόζεται σε ένα γραμμικό ταξινομητή (Perceptron) θεωρούνται regression-based classifiers."
   ]
  },
  {
   "cell_type": "markdown",
   "metadata": {
    "id": "NO_qd5W7N4pX"
   },
   "source": [
    "# Αξιολόγηση ταξινόμησης με ακρίβεια, ανάκληση και F1, μέσοι όροι\n",
    "Η ορθότητα (ή πιστότητα) είναι μια πολύ χρήσιμη και πρακτική μετρική της απόδοσης ενός ταξινομητή. Ωστόσο, δεν αρκεί για μια ολοκληρωμένη μελέτη της απόδοσής του. Είναι τυπικό για όλα τα προβλήματα machine learning να χρησιμοποιούμε διαφορετικές μετρικές για να μελετήσουμε τις ιδιότητες των δεδομένων. \n",
    "\n",
    "Καταρχάς, ας ξαναφέρουμε το Iris dataset και τον kNN και ας κάνουμε προβλέψεις με τον default kNN (είναι ακριβώς ο κώδικας από το προηγούμενο notebook σε ένα cell)"
   ]
  },
  {
   "cell_type": "code",
   "execution_count": 21,
   "metadata": {
    "colab": {
     "base_uri": "https://localhost:8080/"
    },
    "executionInfo": {
     "elapsed": 390,
     "status": "ok",
     "timestamp": 1666619408227,
     "user": {
      "displayName": "Giorgos Siolas",
      "userId": "10127542075805046236"
     },
     "user_tz": -180
    },
    "id": "M7S5oMasoiux",
    "outputId": "d7f2d162-a002-4766-b547-2f83a996ab6c"
   },
   "outputs": [
    {
     "name": "stdout",
     "output_type": "stream",
     "text": [
      "['setosa' 'versicolor' 'virginica'] \n",
      "\n",
      "[[20  0  0]\n",
      " [ 0 21  2]\n",
      " [ 0  0 17]]\n",
      "['setosa' 'versicolor' 'virginica'] \n",
      "\n",
      "[[20  0  0]\n",
      " [ 0 21  2]\n",
      " [ 0  0 17]]\n",
      "['setosa' 'versicolor' 'virginica'] \n",
      "\n",
      "[[20  0  0]\n",
      " [ 0 21  2]\n",
      " [ 0  0 17]]\n",
      "['setosa' 'versicolor' 'virginica'] \n",
      "\n",
      "[[20  0  0]\n",
      " [ 0 22  1]\n",
      " [ 0  0 17]]\n",
      "['setosa' 'versicolor' 'virginica'] \n",
      "\n",
      "[[20  0  0]\n",
      " [ 0 22  1]\n",
      " [ 0  0 17]]\n",
      "['setosa' 'versicolor' 'virginica'] \n",
      "\n",
      "[[20  0  0]\n",
      " [ 0 22  1]\n",
      " [ 0  0 17]]\n",
      "['setosa' 'versicolor' 'virginica'] \n",
      "\n",
      "[[20  0  0]\n",
      " [ 0 21  2]\n",
      " [ 0  0 17]]\n",
      "['setosa' 'versicolor' 'virginica'] \n",
      "\n",
      "[[20  0  0]\n",
      " [ 0 21  2]\n",
      " [ 0  0 17]]\n",
      "['setosa' 'versicolor' 'virginica'] \n",
      "\n",
      "[[20  0  0]\n",
      " [ 0 21  2]\n",
      " [ 0  0 17]]\n",
      "['setosa' 'versicolor' 'virginica'] \n",
      "\n",
      "[[20  0  0]\n",
      " [ 0 22  1]\n",
      " [ 0  0 17]]\n",
      "['setosa' 'versicolor' 'virginica'] \n",
      "\n",
      "[[20  0  0]\n",
      " [ 0 21  2]\n",
      " [ 0  0 17]]\n",
      "['setosa' 'versicolor' 'virginica'] \n",
      "\n",
      "[[20  0  0]\n",
      " [ 0 21  2]\n",
      " [ 0  0 17]]\n",
      "['setosa' 'versicolor' 'virginica'] \n",
      "\n",
      "[[20  0  0]\n",
      " [ 0 21  2]\n",
      " [ 0  0 17]]\n",
      "['setosa' 'versicolor' 'virginica'] \n",
      "\n",
      "[[20  0  0]\n",
      " [ 0 22  1]\n",
      " [ 0  0 17]]\n",
      "['setosa' 'versicolor' 'virginica'] \n",
      "\n",
      "[[20  0  0]\n",
      " [ 0 21  2]\n",
      " [ 0  0 17]]\n",
      "['setosa' 'versicolor' 'virginica'] \n",
      "\n",
      "[[20  0  0]\n",
      " [ 0 21  2]\n",
      " [ 0  0 17]]\n",
      "['setosa' 'versicolor' 'virginica'] \n",
      "\n",
      "[[20  0  0]\n",
      " [ 0 21  2]\n",
      " [ 0  0 17]]\n",
      "['setosa' 'versicolor' 'virginica'] \n",
      "\n",
      "[[20  0  0]\n",
      " [ 0 21  2]\n",
      " [ 0  0 17]]\n",
      "['setosa' 'versicolor' 'virginica'] \n",
      "\n",
      "[[20  0  0]\n",
      " [ 0 21  2]\n",
      " [ 0  0 17]]\n"
     ]
    }
   ],
   "source": [
    "# Load Iris and organize our data\n",
    "from sklearn.datasets import load_iris\n",
    "from sklearn.metrics import confusion_matrix\n",
    "data = load_iris()\n",
    "label_names = data['target_names']\n",
    "labels = data['target']\n",
    "feature_names = data['feature_names']\n",
    "features = data['data']\n",
    "# Χρησιμοποιούμε τη γνωστή train_test_split για να διαχωρίσουμε σε train και test set\n",
    "# το (int) όρισμα \"random_state\" είναι το seed της γεννήτριας τυχαίων αριθμών (αν του δώσουμε τιμή θα παράξει την ίδια σειρά τυχαίων αριθμών)\n",
    "import numpy as np\n",
    "from sklearn.model_selection import train_test_split\n",
    "X_train, X_test, y_train, y_test = train_test_split(features, labels, test_size=0.40, random_state=78)\n",
    "from sklearn.neighbors import KNeighborsClassifier\n",
    "from sklearn.metrics import accuracy_score\n",
    "for i in range(1,20):\n",
    "  knn = KNeighborsClassifier(n_neighbors=i)\n",
    "  knn.fit(X_train, y_train)\n",
    "  pred = knn.predict(X_test)\n",
    "  # Compute confusion matrix\n",
    "  cnf_matrix = confusion_matrix(y_test, pred)\n",
    "  # τυπώνουμε τα labels\n",
    "  print(label_names, \"\\n\")\n",
    "  # τυπώνουμε το confusion matrix\n",
    "  print(cnf_matrix)"
   ]
  },
  {
   "cell_type": "markdown",
   "metadata": {
    "id": "Swg5-nF2pbsx"
   },
   "source": [
    "Η βάση για τις μετρικές απόδοσης των ταξινομητών είναι ο πίνακας σύγχυσης (confusion matrix). O πίνακας σύχγυσης $C$  είναι τέτοιος ώστε το $C_{i, j}$ είναι ίσο με τα δείγματα που ενώ ανήκουν στην κατηγορία $i$ ταξινομήθηκαν στην κατηγορία  $j$. Για το Iris, στο συγκεκριμένο train/test split, o πίνακας σύγχυσης είναι:"
   ]
  },
  {
   "cell_type": "code",
   "execution_count": 22,
   "metadata": {
    "colab": {
     "base_uri": "https://localhost:8080/"
    },
    "executionInfo": {
     "elapsed": 279,
     "status": "ok",
     "timestamp": 1666619426758,
     "user": {
      "displayName": "Giorgos Siolas",
      "userId": "10127542075805046236"
     },
     "user_tz": -180
    },
    "id": "mcMHwGmJN4pZ",
    "outputId": "46720ad8-8da6-4bbc-e770-37c94a7875a8"
   },
   "outputs": [
    {
     "name": "stdout",
     "output_type": "stream",
     "text": [
      "['setosa' 'versicolor' 'virginica'] \n",
      "\n",
      "[[20  0  0]\n",
      " [ 0 21  2]\n",
      " [ 0  0 17]]\n"
     ]
    }
   ],
   "source": [
    "from sklearn.metrics import confusion_matrix\n",
    "# Compute confusion matrix\n",
    "cnf_matrix = confusion_matrix(y_test, pred)\n",
    "# τυπώνουμε τα labels\n",
    "print(label_names, \"\\n\")\n",
    "# τυπώνουμε το confusion matrix\n",
    "print(cnf_matrix)"
   ]
  },
  {
   "cell_type": "markdown",
   "metadata": {
    "id": "UUP5FyOdN4pe"
   },
   "source": [
    "που σημαίνει ότι 1 δείγμα που άνηκε κανονικά στο είδος _I.versicolor_ ταξινομήθηκε λανθασμένα στο είδος _I.virginica_. Τα στοιχεία της διαγωνίου είναι αληθινά θετικά δείγματα (true positive) της κάθε κλάσης. Για κάθε κλάση $i$ τα στοιχεία της γραμμής $i$ εκτός της διαγωνίου είναι λάνθασμένα αρνητικά δείγματα (false negative) της κλάσης και τα στοιχεία της κολώνας $i$ εκτός της διαγωνίου είναι λανθασμένα θετικά δείγματα (false positive) της κλάσης. \n",
    "\n",
    "\n",
    "<figure>\n",
    "  <center>\n",
    "  <img src=\"http://scikit-learn.org/stable/_images/sphx_glr_plot_confusion_matrix_001.png\" alt=\"Confusion Matrix\">\n",
    "   <figcaption>Confusion matrix στο Iris - αλλος ταξινομητής (SVM)</figcaption>\n",
    "  </center>\n",
    "</figure>\n",
    "\n",
    "\n",
    "Σε περίπτωση δυαδικού ταξινομητή $C_{0,0}$ είναι τα αληθινά αρνητικά δείγματα (true negative, η κλάση 0 θεωρείται η αρνητική), $C_{1,0}$ είναι τα λανθασμένα αρνητικά δείγματα, $C_{1,1}$ τα αληθινά θετικά δείγματα και $C_{0,1}$ τα λανθασμένα θετικά. Για παράδειγμα:"
   ]
  },
  {
   "cell_type": "code",
   "execution_count": 23,
   "metadata": {
    "colab": {
     "base_uri": "https://localhost:8080/"
    },
    "executionInfo": {
     "elapsed": 306,
     "status": "ok",
     "timestamp": 1666619608940,
     "user": {
      "displayName": "Giorgos Siolas",
      "userId": "10127542075805046236"
     },
     "user_tz": -180
    },
    "id": "knmN5cfFN4pf",
    "outputId": "6174360e-fab1-4b80-f64f-dc365d06dc6a"
   },
   "outputs": [
    {
     "name": "stdout",
     "output_type": "stream",
     "text": [
      "0 2 1 1\n"
     ]
    }
   ],
   "source": [
    "# παράδειγμα confusion matrix σε δυαδική ταξινόμηση\n",
    "tn, fp, fn, tp = confusion_matrix([0, 1, 0, 1], [1, 1, 1, 0]).ravel()\n",
    "print(tn, fp, fn, tp)"
   ]
  },
  {
   "cell_type": "markdown",
   "metadata": {
    "id": "L5YF7Z4BN4pi"
   },
   "source": [
    "Συχνά στην δυαδική ταξινόμηση θεωρούμε θετική την πιο σπάνια κλάση ή το φαινόμενο προς εντοπισμό (πχ διαβητικός). \n",
    "\n",
    "![CMMulti2](https://drive.google.com/uc?export=download&id=17t5de5tpSYeIwufkHilTPBxCCNo6F2C0)\n",
    "\n",
    "\n",
    "Ορίζουμε:\n",
    "Ακρίβεια -Precision- ($P$) είναι ο λόγος των true positives ($T_p$) ως προς τον αριθμό των true positives συν τον αριθμό των false positives ($F_p$).\n",
    "$$P = \\frac{T_p}{T_p+F_p}$$\n",
    "Ανάκληση -Recall- ($R$) είναι ο λόγος των true positives ($T_p$) ως προς τον αριθμό των true positives συν τον αριθμό των false negatives ($F_n$).\n",
    "$$R = \\frac{T_p}{T_p + F_n}$$\n",
    "Συχνά χρησιμοποιούμε και το ($F_1$) score, το οποίο είναι ο αρμονικός μέσος της ακρίβειας και της ανάκλησης.\n",
    "$$F1 = 2\\frac{P \\times R}{P+R}$$\n",
    "Ιδανικά θέλουμε και υψηλή ακρίβεια και υψηλή ανάκληση, ωστόσο μεταξύ της ακρίβειας και της ανάκλησης υπάρχει γενικά trade-off. Στην οριακή περίπτωση του ταξινομητή που επιστρέφει σταθερά μόνο τη θετική κλάση για παράδειγμα, η ανάκληση θα είναι 1 αλλά η ακρίβεια θα έχει τη μικρότερη δυνατή τιμή της. Γενικά, κατεβάζοντας το κατώφλι της απόφασης του ταξινομητή, αυξάνουμε την ανάκληση και μειώνουμε την ακρίβεια και αντιστρόφως.\n",
    "\n",
    "Στην πράξη και ειδικά σε μη ισορροπημένα datasets χρησιμοποιούμε την ακρίβεια, ανάκληση και το F1 πιο συχνά από την πιστότητα. Επίσης, ανάλογα την εφαρμογή μπορεί να μας ενδιαφέρει περισσότερο ένα συγκεκριμένο metric, πχ η ανάκληση (πχ στη διάγνωση μιας ασθένειας) ή η ακρίβεια (πχ σε μια οικονομική απόφαση)."
   ]
  },
  {
   "cell_type": "code",
   "execution_count": null,
   "metadata": {
    "id": "hbaie_yIN4pk"
   },
   "outputs": [],
   "source": [
    "from sklearn.metrics import precision_recall_fscore_support\n",
    "\n",
    "# εκτυπώνουμε 4 πίνακες, precision, recall, F1 και support. Support είναι ο συνολικός αριθμός προβλέψεων σε κάθε κλάση\n",
    "# το πρώτο στοιχείο του κάθε πίνακα είναι η κλάση setosa, το δεύτερο η versicolor και το τρίτο η virginica\n",
    "print(precision_recall_fscore_support(y_test, pred, average=None), \"\\n\")\n",
    "# εκτυπώνουμε τa precision, recall και F1 λαμβάνοντας υπόψη συνολικά (αθροίζοντας εκτός κλάσεων) τα δείγματα (average = micro).\n",
    "print(precision_recall_fscore_support(y_test, pred, average='micro'), \"\\n\")\n",
    "\n",
    "# εκτυπώνουμε το μέσο όρο των precision, recall και F1 θεωρώντας ότι οι κλάσεις έχουν το ίδιο βάρος (average = macro)\n",
    "print(precision_recall_fscore_support(y_test, pred, average='macro'), \"\\n\")\n",
    "\n",
    "# εκτυπώνουμε τa precision, recall και F1 λαμβάνοντας. Με average = weighted κάθε κλάση μετρά στο μέσο όρο ανάλογα με το support της.\n",
    "print(precision_recall_fscore_support(y_test, pred, average='weighted'), \"\\n\")\n",
    "\n",
    "# η classification_report τυπώνει πιο ωραία οπτικά σε string τα αποτελέσματα\n",
    "# πρώτα για κάθε κλάση και μετά με μέσους όρους\n",
    "\n",
    "from sklearn.metrics import classification_report\n",
    "print(classification_report(y_test, pred, target_names=label_names))"
   ]
  },
  {
   "cell_type": "markdown",
   "metadata": {
    "id": "3NgAbLr4ZhSB"
   },
   "source": [
    "Documentation από το scikit σχετικά με την αξιολόγηση των μοντέλων:\n",
    "\n",
    "* [sklearn.metrics.precision_recall_fscore_support](http://scikit-learn.org/stable/modules/generated/sklearn.metrics.precision_recall_fscore_support.html)\n",
    "* [Model evaluation: quantifying the quality of predictions](http://scikit-learn.org/stable/modules/model_evaluation.html#multiclass-and-multilabel-classification)\n",
    "* [Multiclass and multilabel classification](http://scikit-learn.org/stable/modules/model_evaluation.html#multiclass-and-multilabel-classification)\n",
    "\n",
    "Σημειώστε ότι όταν η classification report μέχρι το version 0.19 του scikit τυπώνει μόνο ένα μέσο όρο, τον weighted. (σχετική συζήτηση [εδώ](https://stackoverflow.com/questions/23914472/strange-f1-score-result-using-scikit-learn))."
   ]
  },
  {
   "cell_type": "markdown",
   "metadata": {
    "id": "yD1gabVouubh"
   },
   "source": [
    "# Άσκηση: Σύγκριση των Gausian Naive Bayes, Logistic Regression και kNN στo Pima Indians Diabetes dataset\n",
    "![1889 Photograph shows half-length portrait of two Pima Indians, facing front, wearing bead necklaces.](https://i.pinimg.com/236x/60/05/76/600576905d4ad5bb1a9c3e3387b397ca--pima-indians-native-american-indians.jpg \"1889 Photograph shows half-length portrait of two Pima Indians, facing front, wearing bead necklaces.\")\n",
    "\n",
    "Διαβάστε το [\"pima-indians-diabetes.data.csv\"](https://raw.githubusercontent.com/jbrownlee/Datasets/master/pima-indians-diabetes.data.csv) σε ένα numpy array data και ξεχωρίστε features και labels.\n",
    "\n",
    "Για 40% test set: \n",
    "1. υπολογίστε την πρόβλεψη του Gaussian Naive Bayes με τη μέθοδο predict(). \n",
    "2. υπολογίστε την πρόβλεψη της λογιστικής παλινδρόμισης με τη μέθοδο predict().\n",
    "3. πάρτε τις προβλέψεις ενός kNN με k=5.\n",
    "5. για έναν ταξινομητή kNN, με 3-fold cross validation και με μετρική 'f1_weighted' υπολογίστε το βέλτιστο k στο train set (maximum k=50). \n",
    "6. εκτυπώστε με την \"classification_report\" τα precision, recall, f1, support για τον NB, τον kNN με k=5 και με το k που έχει προκύψει από cross validation.\n",
    "7. Κάντε 3 runs και αποθηκεύστε σε ένα κελί markdown το average F1 του non optimized και του optimized kNN. Πόσο % έχει βελτιβωθεί η επίδοσή του; \n",
    "\n",
    "hint: Για τη δημιουργία πινάκων σε markdown μπορείτε να χρησιμοποιείτε ένα [markdown table generator](https://www.tablesgenerator.com/markdown_tables)"
   ]
  }
 ],
 "metadata": {
  "colab": {
   "collapsed_sections": [],
   "provenance": []
  },
  "kernelspec": {
   "display_name": "Python 3",
   "language": "python",
   "name": "python3"
  },
  "language_info": {
   "codemirror_mode": {
    "name": "ipython",
    "version": 3
   },
   "file_extension": ".py",
   "mimetype": "text/x-python",
   "name": "python",
   "nbconvert_exporter": "python",
   "pygments_lexer": "ipython3",
   "version": "3.8.10"
  }
 },
 "nbformat": 4,
 "nbformat_minor": 1
}
