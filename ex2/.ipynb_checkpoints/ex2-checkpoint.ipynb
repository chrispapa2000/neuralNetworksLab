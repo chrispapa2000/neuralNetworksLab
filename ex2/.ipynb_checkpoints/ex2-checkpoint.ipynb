{
 "cells": [
  {
   "cell_type": "markdown",
   "metadata": {
    "id": "hLFXD3IePSyL"
   },
   "source": [
    "# Εργαστηριακή Άσκηση 2. Μη επιβλεπόμενη μάθηση. \n",
    "## Σύστημα συστάσεων βασισμένο στο περιεχόμενο\n",
    "## Σημασιολογική απεικόνιση δεδομένων με χρήση SOM \n",
    "Ημερομηνία εκφώνησης της άσκησης: 29 Νοεμβρίου 2022\n",
    "\n",
    "**Θα βρείτε το παρόν σε μορφή jupyter notebook ως συνημμένο στο τέλος της εκφώνησης.**\n"
   ]
  },
  {
   "cell_type": "code",
   "execution_count": 2,
   "metadata": {
    "id": "S5wbBzIYnird"
   },
   "outputs": [
    {
     "name": "stdout",
     "output_type": "stream",
     "text": [
      "Defaulting to user installation because normal site-packages is not writeable\n",
      "Requirement already satisfied: pip in /home/chris/.local/lib/python3.8/site-packages (22.3.1)\n",
      "Defaulting to user installation because normal site-packages is not writeable\n",
      "Requirement already satisfied: numpy in /home/chris/.local/lib/python3.8/site-packages (1.23.5)\n",
      "Defaulting to user installation because normal site-packages is not writeable\n",
      "Requirement already satisfied: pandas in /home/chris/.local/lib/python3.8/site-packages (1.5.2)\n",
      "Requirement already satisfied: numpy>=1.20.3 in /home/chris/.local/lib/python3.8/site-packages (from pandas) (1.23.5)\n",
      "Requirement already satisfied: python-dateutil>=2.8.1 in /home/chris/.local/lib/python3.8/site-packages (from pandas) (2.8.2)\n",
      "Requirement already satisfied: pytz>=2020.1 in /home/chris/.local/lib/python3.8/site-packages (from pandas) (2022.1)\n",
      "Requirement already satisfied: six>=1.5 in /usr/lib/python3/dist-packages (from python-dateutil>=2.8.1->pandas) (1.14.0)\n",
      "Defaulting to user installation because normal site-packages is not writeable\n",
      "Requirement already satisfied: nltk in /home/chris/.local/lib/python3.8/site-packages (3.7)\n",
      "Requirement already satisfied: regex>=2021.8.3 in /home/chris/.local/lib/python3.8/site-packages (from nltk) (2022.6.2)\n",
      "Requirement already satisfied: click in /home/chris/.local/lib/python3.8/site-packages (from nltk) (8.1.3)\n",
      "Requirement already satisfied: tqdm in /home/chris/.local/lib/python3.8/site-packages (from nltk) (4.40.0)\n",
      "Requirement already satisfied: joblib in /home/chris/.local/lib/python3.8/site-packages (from nltk) (1.2.0)\n",
      "Defaulting to user installation because normal site-packages is not writeable\n",
      "Requirement already satisfied: scikit-learn in /home/chris/.local/lib/python3.8/site-packages (1.2.0)\n",
      "Requirement already satisfied: joblib>=1.1.1 in /home/chris/.local/lib/python3.8/site-packages (from scikit-learn) (1.2.0)\n",
      "Requirement already satisfied: scipy>=1.3.2 in /home/chris/.local/lib/python3.8/site-packages (from scikit-learn) (1.9.3)\n",
      "Requirement already satisfied: numpy>=1.17.3 in /home/chris/.local/lib/python3.8/site-packages (from scikit-learn) (1.23.5)\n",
      "Requirement already satisfied: threadpoolctl>=2.0.0 in /home/chris/.local/lib/python3.8/site-packages (from scikit-learn) (3.1.0)\n",
      "Defaulting to user installation because normal site-packages is not writeable\n",
      "Requirement already satisfied: joblib in /home/chris/.local/lib/python3.8/site-packages (1.2.0)\n"
     ]
    }
   ],
   "source": [
    "!pip install --upgrade pip\n",
    "!pip install --upgrade numpy\n",
    "!pip install --upgrade pandas\n",
    "!pip install --upgrade nltk\n",
    "!pip install --upgrade scikit-learn\n",
    "!pip install --upgrade joblib"
   ]
  },
  {
   "cell_type": "markdown",
   "metadata": {
    "id": "aViHqlQcPSyP"
   },
   "source": [
    "## Εισαγωγή του Dataset"
   ]
  },
  {
   "cell_type": "markdown",
   "metadata": {
    "id": "2ZVmdDExPSyQ"
   },
   "source": [
    "Το σύνολο δεδομένων με το οποίο θα δουλέψουμε είναι βασισμένο στο [Carnegie Mellon Movie Summary Corpus](http://www.cs.cmu.edu/~ark/personas/). Πρόκειται για ένα dataset με 22.301 περιγραφές ταινιών. Η περιγραφή κάθε ταινίας αποτελείται από τον τίτλο της, μια ή περισσότερες ετικέτες που χαρακτηρίζουν το είδος της ταινίας και τέλος τη σύνοψη της υπόθεσής της. Αρχικά εισάγουμε το dataset (χρησιμοποιήστε αυτούσιο τον κώδικα, δεν χρειάζεστε το αρχείο csv) στο dataframe `df_data_1`: "
   ]
  },
  {
   "cell_type": "code",
   "execution_count": 16,
   "metadata": {
    "id": "62SOj46gPSyS"
   },
   "outputs": [],
   "source": [
    "import pandas as pd\n",
    "\n",
    "dataset_url = \"https://drive.google.com/uc?export=download&id=1zo13kUAf-MDMPZmBDxq1FxWtZY01lsxD\"\n",
    "df_data_1 = pd.read_csv(dataset_url, sep='\\t',  header=None, quoting=3)"
   ]
  },
  {
   "cell_type": "markdown",
   "metadata": {
    "id": "7TAEZGdIPSyW"
   },
   "source": [
    "Κάθε ομάδα θα δουλέψει σε **ένα μοναδικό υποσύνολο 5.000 ταινιών** (διαφορετικό dataset για κάθε ομάδα) ως εξής:\n",
    "\n",
    "1. Κάθε ομάδα του εργαστηρίου νευρωνικών έχει έναν αριθμό στο helios. Θα βάλετε τον αριθμό αυτό στη μεταβλητή team_seed_number στο επόμενο κελί κώδικα.\n",
    "\n",
    "2. Το data frame `df_data_2` έχει γραμμές όσες και οι ομάδες και 5.000 στήλες. Σε κάθε ομάδα αντιστοιχεί η γραμμή του πίνακα με το `team_seed_number` της. Η γραμμή αυτή θα περιλαμβάνει 5.000 διαφορετικούς αριθμούς που αντιστοιχούν σε ταινίες του αρχικού dataset. \n",
    "\n",
    "3. Τρέξτε τον κώδικα. Θα προκύψουν τα μοναδικά για κάθε ομάδα  titles, categories, catbins, summaries και corpus με τα οποία θα δουλέψετε."
   ]
  },
  {
   "cell_type": "code",
   "execution_count": 17,
   "metadata": {
    "id": "2POlqDjkPSyY"
   },
   "outputs": [],
   "source": [
    "import numpy as np\n",
    "\n",
    "# Στο επόμενη γραμή βάλτε τον αριθμό της ομάδας στο εργαστήριο των νευρωνικών\n",
    "team_seed_number = 70\n",
    "\n",
    "movie_seeds_url = \"https://drive.google.com/uc?export=download&id=1g6F4TCHrs2wgtdOk7D3gtONaeirNt_Vo\"\n",
    "df_data_2 = pd.read_csv(movie_seeds_url, header=None)\n",
    "\n",
    "# επιλέγεται \n",
    "my_index = df_data_2.iloc[team_seed_number,:].values\n",
    "\n",
    "titles = df_data_1.iloc[:, [2]].values[my_index] # movie titles (string)\n",
    "categories = df_data_1.iloc[:, [3]].values[my_index] # movie categories (string)\n",
    "bins = df_data_1.iloc[:, [4]]\n",
    "catbins = bins[4].str.split(',', expand=True).values.astype(float)[my_index] # movie categories in binary form (1 feature per category)\n",
    "summaries =  df_data_1.iloc[:, [5]].values[my_index] # movie summaries (string)\n",
    "corpus = summaries[:,0].tolist() # list form of summaries\n",
    "corpus_df = pd.DataFrame(corpus) # dataframe version of corpus"
   ]
  },
  {
   "cell_type": "markdown",
   "metadata": {
    "id": "If66lkwxPSyb"
   },
   "source": [
    "- Ο πίνακας **titles** περιέχει τους τίτλους των ταινιών. Παράδειγμα: 'Sid and Nancy'.\n",
    "- O πίνακας **categories** περιέχει τις κατηγορίες (είδη) της ταινίας υπό τη μορφή string. Παράδειγμα: '\"Tragedy\",  \"Indie\",  \"Punk rock\",  \"Addiction Drama\",  \"Cult\",  \"Musical\",  \"Drama\",  \"Biopic \\[feature\\]\",  \"Romantic drama\",  \"Romance Film\",  \"Biographical film\"'. Παρατηρούμε ότι είναι μια comma separated λίστα strings, με κάθε string να είναι μια κατηγορία.\n",
    "- Ο πίνακας **catbins** περιλαμβάνει πάλι τις κατηγορίες των ταινιών αλλά σε δυαδική μορφή ([one hot encoding](https://hackernoon.com/what-is-one-hot-encoding-why-and-when-do-you-have-to-use-it-e3c6186d008f)). Έχει διαστάσεις 5.000 x 322 (όσες οι διαφορετικές κατηγορίες). Αν η ταινία ανήκει στο συγκεκριμένο είδος η αντίστοιχη στήλη παίρνει την τιμή 1, αλλιώς παίρνει την τιμή 0.\n",
    "- Ο πίνακας **summaries** και η λίστα **corpus** περιλαμβάνουν τις συνόψεις των ταινιών (η corpus είναι απλά ο summaries σε μορφή λίστας). Κάθε σύνοψη είναι ένα (συνήθως μεγάλο) string. Παράδειγμα: *'The film is based on the real story of a Soviet Internal Troops soldier who killed his entire unit  as a result of Dedovschina. The plot unfolds mostly on board of the prisoner transport rail car guarded by a unit of paramilitary conscripts.'*\n",
    "- το dataframe **corpus_df** που είναι απλά το corpus σε μορφή dataframe. Τα summaries βρίσκονται στην κολόνα 0. Πιθανώς να σας βολεύει να κάνετε κάποιες προεπεξεργασίες με dataframes.\n",
    "\n",
    "\n",
    "Θεωρούμε ως **ID** της κάθε ταινίας τον αριθμό γραμμής της ή το αντίστοιχο στοιχείο της λίστας. Παράδειγμα: για να τυπώσουμε τη σύνοψη της ταινίας με `ID=999` (την χιλιοστή) θα γράψουμε `print(corpus[999])`."
   ]
  },
  {
   "cell_type": "code",
   "execution_count": 18,
   "metadata": {
    "id": "k_7A3KXLp0qS"
   },
   "outputs": [
    {
     "name": "stdout",
     "output_type": "stream",
     "text": [
      "['Eddelu Manjunatha']\n",
      "['\"Drama\",  \"Comedy\"']\n",
      "[0. 0. 0. 0. 0. 0. 0. 0. 0. 0. 0. 0. 0. 0. 0. 0. 0. 0. 0. 0. 0. 0. 0. 0.\n",
      " 0. 0. 0. 0. 0. 0. 0. 0. 0. 0. 0. 0. 0. 0. 0. 0. 0. 0. 0. 0. 0. 0. 0. 0.\n",
      " 0. 0. 0. 0. 0. 0. 0. 0. 0. 0. 0. 0. 0. 0. 0. 0. 0. 0. 0. 1. 0. 0. 0. 0.\n",
      " 0. 0. 0. 0. 0. 0. 0. 0. 0. 0. 0. 0. 0. 0. 0. 0. 0. 0. 0. 0. 0. 0. 0. 0.\n",
      " 0. 0. 0. 0. 0. 0. 0. 0. 0. 1. 0. 0. 0. 0. 0. 0. 0. 0. 0. 0. 0. 0. 0. 0.\n",
      " 0. 0. 0. 0. 0. 0. 0. 0. 0. 0. 0. 0. 0. 0. 0. 0. 0. 0. 0. 0. 0. 0. 0. 0.\n",
      " 0. 0. 0. 0. 0. 0. 0. 0. 0. 0. 0. 0. 0. 0. 0. 0. 0. 0. 0. 0. 0. 0. 0. 0.\n",
      " 0. 0. 0. 0. 0. 0. 0. 0. 0. 0. 0. 0. 0. 0. 0. 0. 0. 0. 0. 0. 0. 0. 0. 0.\n",
      " 0. 0. 0. 0. 0. 0. 0. 0. 0. 0. 0. 0. 0. 0. 0. 0. 0. 0. 0. 0. 0. 0. 0. 0.\n",
      " 0. 0. 0. 0. 0. 0. 0. 0. 0. 0. 0. 0. 0. 0. 0. 0. 0. 0. 0. 0. 0. 0. 0. 0.\n",
      " 0. 0. 0. 0. 0. 0. 0. 0. 0. 0. 0. 0. 0. 0. 0. 0. 0. 0. 0. 0. 0. 0. 0. 0.\n",
      " 0. 0. 0. 0. 0. 0. 0. 0. 0. 0. 0. 0. 0. 0. 0. 0. 0. 0. 0. 0. 0. 0. 0. 0.\n",
      " 0. 0. 0. 0. 0. 0. 0. 0. 0. 0. 0. 0. 0. 0. 0. 0. 0. 0. 0. 0. 0. 0. 0. 0.\n",
      " 0. 0. 0. 0. 0. 0. 0. 0. 0. 0.]\n",
      "This film is about the life and times of a lazy and jobless middle aged man named Manjunatha  who considers his life as an eventual existence rather than a practical, deserving and a capable one. His laziness is portrayed in the film as not a quality but as an ethic imbibed within his general thoughts and notions of the everyday world that surrounds him. Through his formative years his thinking becomes pragmatic in considering that livelihood can always be sought through alternate sources rather than being a puppet to how the world goes about through linear methods of gaining success and money. The other essentially important character in the film is a visually impaired person named Naani . Although being born blind, he wishes to be a film director. Naani's most positive aspect of the role is that he does not believe that his physical disability could stop him from achieving what he dreams, that is to be a film maker. The film is structured around the lengthy conversation, which happen in a captive lodge room, between Manja and Naani where each depict their ideologies and experiences and co-relate their thoughts. Being a Jaggesh film, the film is no where short in containing blatant satirical humour and constant metaphors. The characters of Manja and Naani form contrasting personalities - Manja being an unmotivated, lazy and irresponsible guy and Naani being optimistic and ambitious. Naani happens to meet Manja in a very interesting scenario. Even with their contrasting personalities, Manja and Naani get along together pretty well. The other important, yet minimally portrayed, role is of Manja's wife Gowri . Manja admittedly marries Gowri in the fact that he was getting a small house as a dowry. Gowri struggles to save her relationship while Manja is doused into the casual habits of alcohol, his influential \"circle\" of friends, betting, occasional petty thieving at random jobs, inability to sustain decent jobs, wife-bitching and other habits including schemes that eventually thicken the gap between living a moral and a meaningful life and being an incapable disloyal husband. However Gowri's character is portrayed to be of a devout woman who honours the capacity of developing a more healthy family hood through her husband changing his ways some day or the other. But days and years go on and Manja's lifestyle remains unchanged much to the chagrin of Gowri. The conversation now continues shifting from the lodge to Manja's home itself. After celebrating their freedom from the lodge with alcoholism that night they find themselves again captive within the house due to the help of the local inspector who assists Gowri to tackle Manja's unyielding ways. Naani then talks about the plot of his film, which was seemingly ignored by the producer with whom he had placed his trust upon . Manja, hearing of the simple story of Dr. Rajkumar's pledged eyes and how they were now seeing a world through another person, is taken aback and applauds Naani for such a heartwarming plot and how the -Annavru-'s fans would welcome such a movie. He motivates Naani with all success if Naani ever made the film by taking out his mother's prized 50 rupee note from the cupboard and giving it to Naani. He tells Naani that it was considered as a luck charm to any person that received it. He also happens to find a note in the cupboard that Gowri leaves behind  to Manja conveying that she was now carrying and that he would soon become a father. Manja's personality suddenly defines a change after reading the news. He is unable to express his joy, apart from sharing it with Naani, at that moment being locked in his home. He tries calling Gowri but he doesn't get her on-line. In the midst of all this there concocts a life turning situation for Manja at that moment. His wife returns home struck in pain. Gowri had killed the developing child in her womb due to the burdensome worry which she concluded that she wasn't in a state to be able to maintain and grow a child while having such a lackluster and incapable husband. She perceived that it was best for the child to not come to life and face a deteriorated lifestyle. Naani leaves the house expressing his ill timed presence in the development of such an event. Manja is clipped between a moment of where he faced fresh joy like he had not known for a long long time where he believed that the child, who would be his Lakshmi , would change his life for the better and to another moment that his 'Lakshmi' would not be happening. In his state of hopelessness he threatens Gowri as to what rights she held to kill his child. Gowri is throbbing in pain to be able to reply to his questions. In this delusion of Manja, Lakshmi -the unborn child, appears to him and speaks to him as to how ill fated she would have been to have been born as a daughter to such a father. Lakshmi says that Gowri, her mother, did not kill her and that Manja, her father, killed her and suggests to him that he could celebrate this occasion with his friends by drinking along with them. Manja's remorse knows no bounds. He reflects back Lakshmi's words to Gowri and says to his wife that neither his own parents or his own wife or any of his gurus could ever be a guru to him, but the unborn dead child which will never happen in his existence was his ultimate guru to his final immediate realization of the value of life.\n"
     ]
    }
   ],
   "source": [
    "ID = 999\n",
    "print(titles[ID])\n",
    "print(categories[ID])\n",
    "print(catbins[ID])\n",
    "print(corpus[ID])"
   ]
  },
  {
   "cell_type": "markdown",
   "metadata": {
    "id": "UTNgwBfjPSyc"
   },
   "source": [
    "# Εφαρμογή 1. Υλοποίηση συστήματος συστάσεων ταινιών βασισμένο στο περιεχόμενο\n",
    "<img src=\"http://clture.org/wp-content/uploads/2015/12/Netflix-Streaming-End-of-Year-Posts.jpg\" width=\"70%\">"
   ]
  },
  {
   "cell_type": "markdown",
   "metadata": {
    "id": "rnA2RP8GPSyf"
   },
   "source": [
    "Η πρώτη εφαρμογή που θα αναπτύξετε θα είναι ένα [σύστημα συστάσεων](https://en.wikipedia.org/wiki/Recommender_system) ταινιών βασισμένο στο περιεχόμενο (content based recommender system). Τα συστήματα συστάσεων στοχεύουν στο να προτείνουν αυτόματα στο χρήστη αντικείμενα από μια συλλογή τα οποία ιδανικά θέλουμε να βρει ενδιαφέροντα ο χρήστης. Η κατηγοριοποίηση των συστημάτων συστάσεων βασίζεται στο πώς γίνεται η επιλογή (filtering) των συστηνόμενων αντικειμένων. Οι δύο κύριες κατηγορίες είναι η συνεργατική διήθηση (collaborative filtering) όπου το σύστημα προτείνει στο χρήστη αντικείμενα που έχουν αξιολογηθεί θετικά από χρήστες που έχουν παρόμοιο με αυτόν ιστορικό αξιολογήσεων και η διήθηση με βάση το περιεχόμενο (content based filtering), όπου προτείνονται στο χρήστη αντικείμενα με παρόμοιο περιεχόμενο (με βάση κάποια χαρακτηριστικά) με αυτά που έχει προηγουμένως αξιολογήσει θετικά.\n",
    "\n",
    "Το σύστημα συστάσεων που θα αναπτύξετε θα βασίζεται στο **περιεχόμενο** και συγκεκριμένα στις συνόψεις των ταινιών (corpus). \n"
   ]
  },
  {
   "cell_type": "markdown",
   "metadata": {
    "id": "l3nZv-xueEtd"
   },
   "source": [
    "## Προεπεξεργασία\n",
    "\n",
    "Το πρώτο βήμα στην επεξεργασία μας είναι ο καθαρισμός των περιγραφών των ταινιών. \n",
    "\n",
    "Εκτυπώστε (αρκετές) διαφορετικές περιγραφές ταινιών για να δείτε πιθανά προβλήματα που θα πρέπει να αντιμετωπιστούν.\n",
    "\n",
    "Τα (ελάχιστα) βήματα καθαρισμού που προτείνουμε είναι:\n",
    "- μετατροπή όλων των χαρακτήρων σε πεζά,\n",
    "- αφαίρεση των stopwords. Εδώ σημειώστε ότι για το δεδομένο task του συστήματος συστάσεων που είναι η πρόταση ταινιών ίσως θα είχαν ενδιαφέρον και λίστες stopwords πέραν αυτών της κοινής γλώσσας.\n",
    "- αφαίρεση σημείων στίξης και ειδικών χαρακτρήρων (special characters). Αυτό δεν γίνεται μόνο με την punkt του NLTK. Θα μπορούσατε να βασιστείτε σε κανονικές εκφράσεις (regular expressions), και\n",
    "- αφαίρεση πολυ σύντομων συμβολοσειρών.\n",
    "\n",
    "Προσοχή: το corpus και τα τελικά tokens που θα το αποτελούν θα χρησιμοποιηθούν στη συνέχεια ως κλειδιά για να βρούμε εμφυτεύματα. Για το λόγο αυτό, πρέπει να είστε προσεκτικοί ως προς την εφαρμογή μεθόδων κανονικοποίησης (text normalization) όπως το stemming και το lemmatization."
   ]
  },
  {
   "cell_type": "code",
   "execution_count": 12,
   "metadata": {},
   "outputs": [],
   "source": [
    "import collections\n",
    "import nltk\n",
    "import string\n",
    "from nltk.corpus import stopwords"
   ]
  },
  {
   "cell_type": "markdown",
   "metadata": {},
   "source": [
    "**Μετατροπή όλων των χαρακτήρων σε πεζα**"
   ]
  },
  {
   "cell_type": "code",
   "execution_count": 5,
   "metadata": {},
   "outputs": [],
   "source": [
    "def all2lowercase(text):\n",
    "    return text.lower()"
   ]
  },
  {
   "cell_type": "code",
   "execution_count": 6,
   "metadata": {},
   "outputs": [],
   "source": [
    "corpus = list(map(all2lowercase, corpus))"
   ]
  },
  {
   "cell_type": "markdown",
   "metadata": {},
   "source": [
    "**Αφαίρεση Stopwords**"
   ]
  },
  {
   "cell_type": "code",
   "execution_count": null,
   "metadata": {},
   "outputs": [],
   "source": []
  },
  {
   "cell_type": "markdown",
   "metadata": {},
   "source": [
    "**Αφαίρεση Σημείων στίξης**"
   ]
  },
  {
   "cell_type": "code",
   "execution_count": 71,
   "metadata": {},
   "outputs": [],
   "source": [
    "def checkExtraChars(word, chars):\n",
    "    l = []\n",
    "    final_word = \"\"\n",
    "    for letter in word:\n",
    "        l.append((letter in chars))\n",
    "        final_word = final_word+letter if letter not in chars else final_word\n",
    "    return final_word if not all(l) else None        "
   ]
  },
  {
   "cell_type": "markdown",
   "metadata": {},
   "source": [
    "**Αφαίρεση πολύ σύντομων συμβολοσειρών**"
   ]
  },
  {
   "cell_type": "code",
   "execution_count": 147,
   "metadata": {},
   "outputs": [],
   "source": [
    "def preprocess_document(document):\n",
    "    # all words to lowercase\n",
    "    words = nltk.word_tokenize(document.lower())\n",
    "\n",
    "    # remove stopwords\n",
    "    myStopWords = [\"film\", \"movie\", \"story\", \"n't\"]\n",
    "    words_no_stopwords = [word for word in words if word not in stopwords.words('english')+myStopWords]\n",
    "    \n",
    "    # remove punctuation\n",
    "    words_no_punctuation = [word for word in words_no_stopwords if word not in list(string.punctuation)]\n",
    "    \n",
    "    # replace some strings\n",
    "    words_replaced =  list(map(lambda word: word.replace('.', ''), words_no_punctuation))\n",
    "    \n",
    "    # remove some special characters\n",
    "    words_no_extra_chars, extraChars = [], [\"'\", \"`\", \"\\\"\", \"-\", \"_\"]\n",
    "    for word in words_replaced:\n",
    "        if checkExtraChars(word, extraChars) != None:\n",
    "            words_no_extra_chars.append(checkExtraChars(word, extraChars))\n",
    "            \n",
    "    # remove urls (which we identify as strings with more than one '/')\n",
    "    words_no_urls = []\n",
    "    for word in words_no_extra_chars:\n",
    "        if word.count('/') < 2:\n",
    "            words_no_urls.append(word.replace('/', ''))            \n",
    "            \n",
    "    # remove strings containing some special characters ('|', '=', '+')\n",
    "    words_no_special_chars = []\n",
    "    for word in words_no_urls:\n",
    "        if not ('|' in word or '+' in word or '=' in word):\n",
    "            words_no_special_chars.append(word)   \n",
    "\n",
    "    \n",
    "    # remove string with size 1\n",
    "    words_no_small = [word for word in words_no_special_chars if len(word)>1]\n",
    "    \n",
    "    return words_no_small"
   ]
  },
  {
   "cell_type": "code",
   "execution_count": 150,
   "metadata": {
    "scrolled": true
   },
   "outputs": [],
   "source": [
    "preprocessed_corpus = [preprocess_document(doc) for doc in corpus]"
   ]
  },
  {
   "cell_type": "code",
   "execution_count": 151,
   "metadata": {},
   "outputs": [],
   "source": [
    "# convert corpus to a list of strings\n",
    "preprocessed_corpus_string = list(map(lambda doc : ' '.join(doc) , preprocessed_corpus))"
   ]
  },
  {
   "cell_type": "markdown",
   "metadata": {
    "id": "DD5KuSKrxQ8I"
   },
   "source": [
    "## Μετατροπή σε TFIDF\n",
    "\n",
    "Το πρώτο βήμα θα είναι λοιπόν να μετατρέψετε το corpus σε αναπαράσταση tf-idf:"
   ]
  },
  {
   "cell_type": "code",
   "execution_count": 258,
   "metadata": {
    "id": "s5YP6XCZPSyh"
   },
   "outputs": [],
   "source": [
    "from sklearn.feature_extraction.text import TfidfVectorizer\n",
    "# create sparse tf_idf representation\n",
    "vectorizer = TfidfVectorizer(max_df=0.97, min_df=0.0005)\n",
    "vectorizer.fit(preprocessed_corpus_string)\n",
    "corpus_tf_idf_plain = vectorizer.transform(preprocessed_corpus_string)"
   ]
  },
  {
   "cell_type": "markdown",
   "metadata": {
    "id": "H-uRZK3EPSyl"
   },
   "source": [
    "Η συνάρτηση [TfidfVectorizer](http://scikit-learn.org/stable/modules/generated/sklearn.feature_extraction.text.TfidfVectorizer.html) όπως καλείται εδώ **δεν είναι βελτιστοποιημένη**. Οι επιλογές των μεθόδων και παραμέτρων της μπορεί να έχουν **δραματική επίδραση στην ποιότητα των συστάσεων** και είναι διαφορετικές για κάθε dataset. Επίσης, οι επιλογές αυτές έχουν πολύ μεγάλη επίδραση και στη **διαστατικότητα και όγκο των δεδομένων**. Η διαστατικότητα των δεδομένων με τη σειρά της θα έχει πολύ μεγάλη επίδραση στους **χρόνους εκπαίδευσης**, ιδιαίτερα στη δεύτερη εφαρμογή της άσκησης.\n",
    "\n",
    "Προσοχή: ο TfidfVectorizer έχει κάποιες δυνατότητες προεπεξεργασίας παρόποιες με αυτές που αναφέραμε στην προηγούμενη ενότητα. Ό,τι προεπεξεργασία μπορείτε να κάνετε που χρειάζεται ως είσοδο μόνο το κάθε document ξεχωριστά, κάντε την στο πρώτο βήμα της προεπεξεργασίας. Αν χρειάζεται γνώση των συνολικών στατιστικών της συλλογής, κάντε την με τον TfidfVectorizer."
   ]
  },
  {
   "cell_type": "code",
   "execution_count": 259,
   "metadata": {
    "id": "y_Cw0brpnisF"
   },
   "outputs": [
    {
     "name": "stdout",
     "output_type": "stream",
     "text": [
      "(5000, 18639)\n"
     ]
    }
   ],
   "source": [
    "print(corpus_tf_idf_plain.shape)"
   ]
  },
  {
   "cell_type": "code",
   "execution_count": 260,
   "metadata": {},
   "outputs": [
    {
     "data": {
      "text/plain": [
       "'The film features John Huston as Jake Hannaford, an aging Hollywood director modeled on Ernest Hemingway. The film opens with narration over the wreckage of Hannaford\\'s crashed car, casting doubt as to whether the crash which killed him on his 70th birthday was really an accident. The narrator sets the tone for the film by telling us \"This [film] was put together from many sources — from all that footage shot by the TV and documentary film-makers — and also the students, critics and young directors who happened to bring sixteen and eight millimeter cameras to his birthday party...\" Just before his death, Hannaford was trying to revive his flagging career by making a \"hip, with-it\" film in the style of Antonioni, laden with gratuitous sex scenes and violence, with mixed results. At the time of Hannaford\\'s party, this film  has been left unfinished after its star stormed off the set, for reasons not immediately apparent to the audience. The film includes extensive excerpts of this film-within-a-film, as well as excerpts of a documentary on Hannaford\\'s life. After the titles, we see a screening of some incomprehensible parts of Hannaford\\'s unfinished experimental film. The screening is being held to attract \"end money\" from clearly-unimpressed studio boss Max David . Hannaford himself is absent, and a loyal member of his entourage, the aging former child star Billy Boyle ([[Norman Foster  makes an inept attempt to describe what the film is about. David asks, \"Jake is just making this up as he goes along, isn\\'t he?\" After an awkward pause, Boyle can only reply, \"He\\'s done it before.\" Intercut with this scene, we see various groups setting out for Hannaford\\'s 70th birthday party at his Arizona ranch, including Hannaford and his young protégé Brooks Otterlake , a young, commercially successful director who has a talent for mimicking well-known celebrities.  One of the people they share their car with is the obnoxious cineaste reporter Mr. Pister , whose flurry of intrusive questions culminates in, \"Mr. Hannaford, in the body of your film work, how significantly would you relate the trauma of your father\\'s suicide?\" and he is thrown out of Hannaford\\'s car. Stranded in the desert, Pister hitches a lift on a bus that is taking crew and reporters to Hannaford\\'s birthday party. Although there are many journalists in the bus, they are also carrying several dozen life-size clay dolls of Hannaford\\'s leading man, taken from the set of the unfinished film. The scene is indicative of the experimental nature of the picture, and includes much overlapping dialogue: a tape recorder belonging to reporter Juliette Riche  playing back Hannaford\\'s voice, while a member of Hannaford\\'s entourage Pat  reads out an authoritarian anti-hippy diatribe of Hannaford\\'s, fellow reporter Pister struggles to thread the tape back onto his reel-to-reel tape recorder, and at the same time, film footage of the scene is rapidly intercut with footage from Hannaford\\'s film. Further scenes depict the festivities at Hannaford\\'s party, including fireworks, assorted midgets, and a musical number with John Carroll leading a rendition of \"The Glow-Worm.\" Many of the journalists attending are all brandishing cameras, and the film follows the perspectives of individual journalists as they follow Hannaford everywhere, even to the toilet, asking personal questions. In the second half of the film they begin querying Hannaford\\'s sexuality and whether he has long been a closet homosexual, in spite of his macho public persona. Each camera\\'s footage is displayed in a distinctive style, representing the perspectives of different directors and cameramen. Throughout the film, there is rapid inter-cutting between simultaneous conversations at Hannaford\\'s party, so that the viewer hears a few lines of dialogue from one conversation, switches to another conversation, then another, before returning to more of the original conversation.  Several party guests comment on the conspicuous absence of John Dale , Hannaford\\'s androgynous-looking, leather-clad leading man in his last film, whom Hannaford first discovered when Dale was attempting suicide by jumping into the Pacific Ocean off the Mexican coast. Meanwhile, guests are shown more scenes from the film in the private cinema Hannaford has at the ranch. The scenes of the film-within-the-film intercut throughout the film include: *A scene set in a Turkish bath, which plays over the opening titles. *John Dale\\'s onscreen character pursuing \"The red, red Indian\"  on his motorcycle, with increasing ambiguity as to which of them is pursuing the other. These scenes involve extensive use of flat landscapes and plains; and tall, high-rise glass skyscrapers, the mirrors and windows of which form various optical illusions reminiscent of the \\'hall of mirrors\\' scene in Welles\\' earlier The Lady from Shanghai.  *A graphic sex scene between Random and Kodar in a station wagon being driven through heavy rain, culminating in the driver of the car  throwing Kodar out. *A sexual dream sequence involving Kodar walking at least partially nude in front of a giant black phallus.  This short scene was directed by Kodar. *The violent death of John Dale\\'s character in the film-within-the-film. *A graphic sex scene between Random and Kodar, filmed from below, looking through the bedsprings in the style of Russ Meyer. The scene takes place on a rusting bed in a deserted movie lot. Throughout this scene, Hannaford provides increasingly voyeuristic and intrusive/abusive off-screen direction, prompting an enraged and humiliated John Dale to storm off the set. As the party continues, Hannaford gets progressively drunker. He is washing his face in the bathroom when he tearfully breaks down in front of Otterlake, asking for the young director\\'s help to revive his flagging career, and desperately trying to sober up before returning to the screening of his still-unfinished film. A power cut in the middle of Hannaford\\'s party interrupts the screening mid-way. The party continues by lantern-light, and eventually reconvenes to an empty drive-in cinema, where the last portion of Hannaford\\'s film is screened. Later in the film, Dale arrives at the party. At one point, a drunken Hannaford makes a pass at Dale, and is rebuffed. Hannaford has a history of seducing the wife or girlfriend of each of his leading men, but maintains a strong attraction to the leading men themselves. Hannaford then uses a rifle from his Indian trophy room to shoot several life-sized clay dolls of Dale. This is paralleled by a subplot about the unnamed actress playing \"The red red Indian\" seducing Dale at Hannaford\\'s party and being rebuffed, leading to her shooting at him towards the end of the film. Dale is no longer alive by the end of the film. Having relocated to the drive-in cinema, intrusive journalist Juliette Riche asked Hannaford the most explicit questions of all about his sexuality. At this moment, Billy Boyle stops the film cameras, although with the soundtrack still running, and through a montage of still photos, we gather that Hannaford violently assaults Riche. The film\\'s final scene features Hannaford\\'s sports car - which he had originally bought as a present for Dale - crashing into the screen of the drive-in cinema, killing him. At the time, the screen had been projecting the end of Hannaford\\'s new film, and the sun sets behind it. It is left ambiguous whether his death was the result of drunk driving or suicide. A monologue from Hannaford is heard in voice-over during the final scene:  The film concludes as Hannaford\\'s voice says, \"Cut!\"'"
      ]
     },
     "execution_count": 260,
     "metadata": {},
     "output_type": "execute_result"
    }
   ],
   "source": [
    "corpus[500]"
   ]
  },
  {
   "cell_type": "markdown",
   "metadata": {
    "id": "3LsmvSyVykTU"
   },
   "source": [
    "## Υλοποίηση του συστήματος συστάσεων\n",
    "\n",
    "Το σύστημα συστάσεων που θα υλοποιήσετε θα είναι μια συνάρτηση `content_recommender` με τρία ορίσματα: `target_movie`, `max_recommendations` και `corpus_type`. Στην `target_movie` περνάμε το ID μιας ταινίας-στόχου για την οποία μας ενδιαφέρει να βρούμε παρόμοιες ως προς το περιεχόμενο (τη σύνοψη) ταινίες, `max_recommendations` στο πλήθος.\n",
    "Υλοποιήστε τη συνάρτηση ως εξής: \n",
    "- για την ταινία-στόχο, θα υπολογίζετε την [ομοιότητα συνημιτόνου](https://en.wikipedia.org/wiki/Cosine_similarity) της με όλες τις ταινίες της συλλογής σας όπως αυτές αναπαριστώνται στο `corpus_type`.\n",
    "- με βάση την ομοιότητα συνημιτόνου που υπολογίσατε, δημιουργήστε ταξινομημένο πίνακα από το μεγαλύτερο στο μικρότερο, με τα indices (`ID`) των ταινιών. Παράδειγμα: αν η ταινία με index 1 έχει ομοιότητα συνημιτόνου με 3 ταινίες \\[0.2 1 0.6\\] (έχει ομοιότητα 1 με τον εαύτό της) ο ταξινομημένος αυτός πίνακας indices θα είναι \\[1 2 0\\].\n",
    "- Για την ταινία-στόχο εκτυπώστε: id, τίτλο, σύνοψη, κατηγορίες (categories)\n",
    "- Για τις `max_recommendations` ταινίες (πλην της ίδιας της ταινίας-στόχου που έχει cosine similarity 1 με τον εαυτό της) με τη μεγαλύτερη ομοιότητα συνημιτόνου (σε φθίνουσα σειρά), τυπώστε σειρά σύστασης (1 πιο κοντινή, 2 η δεύτερη πιο κοντινή κλπ), ομοιότητα συνημιτόνου, id, τίτλο, σύνοψη, και κατηγορίες (categories)\n"
   ]
  },
  {
   "cell_type": "code",
   "execution_count": 261,
   "metadata": {},
   "outputs": [],
   "source": [
    "import scipy as sp\n",
    "from IPython.display import display, Markdown, Latex\n",
    "\n",
    "def createRow(ind,extra=''):\n",
    "    return \"|\" + str(ind) + \"|\" + titles[ind][0]+ \"|\" + str(corpus[ind]) + \"|\" + str(categories[ind]) +\"|\\n\"\n",
    "\n",
    "def content_recommender(target_movie, max_recommendations, corpus_type):\n",
    "    (height, width) = corpus_type.shape\n",
    "    distances = np.zeros(height)\n",
    "    for i in range(height):\n",
    "        distances[i] = sp.spatial.distance.cosine(corpus_type[target_movie].toarray()[0],\n",
    "                                                  corpus_type[i].toarray()[0])\n",
    "        \n",
    "    order = sorted(range(len(distances)), key = (lambda length : distances[length]))\n",
    "    order.remove(target_movie)\n",
    "    \n",
    "    disp = \"|Movie|Title|description|categories|\\n|:-:|:-:|:-:|:-:|\\n\"\n",
    "    disp += createRow(target_movie,extra=\"\\n(target)\")\n",
    "    for i in range(0,max_recommendations):\n",
    "        disp += createRow(order[i])\n",
    "    display(Markdown(disp))"
   ]
  },
  {
   "cell_type": "code",
   "execution_count": 264,
   "metadata": {},
   "outputs": [
    {
     "data": {
      "text/markdown": [
       "|Movie|Title|description|categories|\n",
       "|:-:|:-:|:-:|:-:|\n",
       "|4000|Three Strangers|Crystal Shackelford  lures two strangers, solicitor Jerome K. Arbutny  and charming and erudite drunkard Johnny West  to her London flat on Chinese New Year in 1938 because of her belief that if three strangers make the same wish to an idol of Kwan Yin, Chinese goddess of fortune and destiny, the wish will be granted. Since money will make their dreams come true, the three go in on a sweepstakes ticket for the Grand National horse race together and agree that they will not sell the ticket if it is chosen, but will hold onto it until the race is run. Shackelford would use the money to try to win her estranged husband back, Arbutny to smooth the way for his selection to the prestigious Barrister's Club, and Johnny to buy a bar and live in it. The stories of the three strangers are revealed. Shackelford's husband David  moved to Canada and fell in love with Janet Elliot . He returns, just after Johnny and Arbutny take their leave of Crystal, and demands a divorce, but she refuses. She sees to it that he loses a promotion. She also lies to Janet, telling her that David still loves her and that she is pregnant. The trusting woman believes her and returns to Canada. With the help of an adoring Icey Crane , Johnny has been hiding out after his drunken participation in a botched robbery that resulted in the death of a policeman. Icey commits perjury in order to provide an alibi for the murderer and ringleader, Bertram Fallon . When a second witness is discredited, Fallon confesses to the robbery but blames the murder on West and the third man involved, Gabby . Johnny is caught and sentenced to death, but Gabby finds Fallon on his way to prison and stabs him. On his deathbed, Fallon clears Johnny. Arbutny has been speculating in stocks with money from the trust fund of Lady Rhea Belladon , an eccentric widow who believe she can talk with her dead husband. When the stock falls and his margin is called, a desperate Arbutny proposes to Lady Belladon. After consulting with her dead husband, she turns him down. Worse, she says that Lord Belladon wants to have the books checked. Arbutny is about to shoot himself when he sees in a newspaper that the sweepstakes ticket has drawn the favorite in the Grand National. The three strangers converge on Crystal's flat. Arbutny wants to sell his share of the ticket immediately so he can replace the funds he stole before his crime can be uncovered. Johnny is willing, but Shackelford is adamant that they stick to their original agreement. Arbutny becomes enraged and kills her with her statue of Kwan Yin. He then panics and runs out into the middle of the busy street, where he is struck down by a car, but not fatally. When the police arrive, he confesses the murder to them. Ironically, their horse wins. However, Johnny realizes that the winning ticket has to be destroyed because their signatures are on it; the money would be seen as a motive for murder. They leave, but the guilt-ridden Arbutny confesses in public what he has done. Johnny returns to the pub, where Icey finds him. Content with her, he sets the ticket on fire.|['\"Crime Fiction\",  \"Drama\",  \"Film noir\",  \"Black-and-white\",  \"Crime Drama\"']|\n",
       "|3725|Johnny Tsunami|The movie starts out when Johnny Kapahala  is living in Hawaii. Johnny has good friends, a great family, and a grandpa who is a surf legend. But then, his dad gets a job transfer and makes his wife and Johnny move to Vermont. In Johnny's new town, there are two schools: one is a private school where the students are all skiers, and the other is the public school where all the students are snowboarders. Although Johnny goes to the skiers' school, he would prefer to snowboard because he thinks it is more like surfing. Although he has a hard time at first, Johnny eventually learns how to snowboard with some help from Sam Sterling . While at his new school, Johnny meets a girl named Emily , with whom he becomes good friends. However, a skier named Brett likes Emily as well. During one incident in the mountain, the Urchins  decide to ride the side of the mountain that belongs to the skiers and are confronted by the Skies . A quick fight ensues between Johnny and Brett, but is immediately dispersed when a snow ranger arrives. When Johnny arrives home after a meeting with his parents and the principal concerning the fight with Brett, Sam tells Johnny that he is moving to Iceland, as are his father's orders since he is a sergeant major in the U.S. Marine Corps. Intent on doing something to prevent the move, Johnny and Sam fly to Hawaii on a cargo plane to stay with Johnny's grandfather. Johnny and Sam have a great time in Hawaii surfing and enjoying the warm weather, but they decide to come back to Vermont along with Johnny's grandfather, the famous Johnny Tsunami. Johnny, to his amazement, finds out that his grandfather has great snowboarding ability and they decide to ride the skiers' side of the mountain, where the best rides are. Brett and his gang meet Johnny and his grandfather and they decide to have a one-race challenge between Brett and Johnny. If Johnny wins the race, then the skiers must share the mountain with the snowboarders. If Brett wins, then he is awarded the Tsunami Medal, a prize given to the best surfer in Hawaii. Johnny goes on to defeat Brett, allowing him and Emily to begin a relationship. The two brothers who own the opposite sides of the mountain finally reveal their story. Their parents couldn't agree on what should happen when they inherited the mountain, which ended up being split between the two families. Johnny wins the race even though Brett played some dirty tricks throughout the race. Johnny's parents decides to throw a celebration party, the brothers finally re-unite and the ending scene shows Johnny and Emily dancing together.|['\"Family Film\",  \"Drama\",  \"Comedy\",  \"Children\\'s/Family\"']|\n",
       "|2680|The Blue Dahlia|Navy pilot Lieutenant Commander Johnny Morrison  is put on the inactive list. He returns home to Hollywood from the fighting in the south Pacific, bringing along his buddies and medically discharged crewmates Buzz Wanchek  and George Copeland . Buzz is prone to memory lapses and headaches, and is often short tempered, all likely due to his head wound. Johnny finds his wife Helen  living  in a hotel bungalow. When he spots her kissing her boyfriend Eddie Harwood , the owner of the Blue Dahlia nightclub, he punches Eddie. Though Johnny is willing to try to salvage their troubled marriage, Helen is not. She tells him that their son did not die of diphtheria as she had written him but because she got drunk at a party and crashed her car. Johnny pulls a gun on her but decides she is not worth it. He drops the pistol and walks out taking a framed photograph of their son. When Buzz comes looking for Johnny, Helen picks him up in the hotel bar and brings him home, neither one knowing who the other is. Later, Helen calls Eddie and becomes angry when he wants to break off their relationship. Eddie drops by that night to straighten things out. All these comings and goings are noted by the house detective, \"Dad\" Newell ([[Will Wright . Dad sees Eddie and gets paid to keep his mouth shut. He later sells information about Johnny's whereabouts to his worried friends. By chance, Johnny is offered a ride by Joyce , Harwood's estranged wife, though he tells her his name is \"Jimmy Moore\" and they remain unaware of their connection. He brushes off her attempts to become better acquainted and gets out of the car; but she spends the night at the same inn. When they meet again at breakfast, she talks him into a walk along the beach. However, when Johnny hears on the radio that Helen has been found dead and that the police are looking for him, he leaves without keeping the rendezvous. Joyce puts two and two together and guesses his identity. Johnny hides out in a flophouse run by Corelli. When he catches Corelli going through his suitcase, a scuffle breaks out, during which the frame of his son's picture is broken. Johnny discovers a message written by Helen and addressed to him on the back of the photograph; it states that Eddie's real name is Bauer, and that he is wanted in New Jersey for murder. Johnny pays a visit to Eddie, but before he can do anything, Joyce shows up. Upon learning that she is Eddie's wife, Johnny leaves in disgust, in the mistaken belief that Joyce was helping her husband all along. Meanwhile, Corelli calls Eddie's business partner Leo and tells him about Johnny. Leo and one of his men pick up Johnny by pretending to be policemen and take him to Leo's ranch. When the henchman finds and reads Helen's message, Leo has no choice but to dispose of him. Then, though his hands are tied, Johnny manages to strangle Leo and cut himself free before Eddie arrives. Eddie admits to killing a man during a robbery fifteen years ago, but denies murdering Helen, pointing out that he could easily have arranged it much more discreetly. Just then, Leo regains consciousness and tries to shoot Johnny. In the ensuing brawl, Leo accidentally kills Eddie before he himself is shot dead. When Johnny turns himself in, he finds Buzz about to confess to Helen's murder, even though he cannot remember what happened that night. Johnny is certain he is innocent. He helps Buzz recall that he just walked out. Police Captain Hendrickson  then accuses Dad . Hendrickson suggests that when she refused to pay his increased demands after her husband's return, Dad killed her, fearing that she would turn him in to the police or worse, tell Eddie. Dad confesses and pulls out a gun. When he is distracted, Hendrickson shoots him. Afterward, Johnny and Joyce get together.|['\"Thriller\",  \"Crime Fiction\",  \"Black-and-white\",  \"Mystery\",  \"Drama\",  \"Crime Thriller\",  \"Film noir\"']|\n",
       "|2438|The Imposter|The Imposter deals with the lifestyle and subsequent breakdown of a Christian rock singer. Kevin Max stars as Johnny C, a talented singer who is addicted to oxycodone. After his wife and child leave him, Johnny is fired from the band by leader James, played by Jeff Deyo. Johnny tries to make it on his own but gets swindled by a sleazy record producer and beat up by his drug suppliers. Finally out of options, Johnny travels home to see if his family will take him back.|['\"Drama\"']|\n"
      ],
      "text/plain": [
       "<IPython.core.display.Markdown object>"
      ]
     },
     "metadata": {},
     "output_type": "display_data"
    }
   ],
   "source": [
    "content_recommender(4000,3,corpus_tf_idf_plain)"
   ]
  },
  {
   "cell_type": "markdown",
   "metadata": {
    "id": "8IvHkTUHyu78"
   },
   "source": [
    "## Βελτιστοποίηση του TfidfVectorizer\n",
    "\n",
    "Αφού υλοποιήσετε τη συνάρτηση `content_recommender` χρησιμοποιήστε την για να βελτιστοποιήσετε την `TfidfVectorizer`. Συγκεκριμένα, αρχικά μπορείτε να δείτε τι επιστρέφει το σύστημα για τυχαίες ταινίες-στόχους και για ένα μικρό `max_recommendations` (2 ή 3). Αν σε κάποιες ταινίες το σύστημα μοιάζει να επιστρέφει σημασιολογικά κοντινές ταινίες σημειώστε το `ID` τους. Δοκιμάστε στη συνέχεια να βελτιστοποιήσετε την `TfidfVectorizer` για τα συγκεκριμένα `ID` ώστε να επιστρέφονται σημασιολογικά κοντινές ταινίες για μεγαλύτερο αριθμό `max_recommendations`. Παράλληλα, όσο βελτιστοποιείτε την `TfidfVectorizer`, θα πρέπει να λαμβάνετε καλές συστάσεις για μεγαλύτερο αριθμό τυχαίων ταινιών. \n",
    "\n",
    "Ταυτόχρονα, μια αντίρροπη κατά κάποιο τρόπο κατεύθυνση της βελτιστοποίησης είναι να χρησιμοποιείτε τις παραμέτρους του `TfidfVectorizer` έτσι ώστε να μειώνονται οι διαστάσεις του Vector Space Model μέχρι το σημείο που θα αρχίσει να εμφανίζονται επιπτώσεις στην ποιότητα των συστάσεων. \n",
    "\n",
    "\n"
   ]
  },
  {
   "cell_type": "markdown",
   "metadata": {
    "id": "PSQ2tCs_hbaH"
   },
   "source": [
    "## Βαθιά μάθηση: δημιουργία corpora με χρήση word emmbeddings\n",
    "\n",
    "Η προσέγγιση της κατασκευής μόνο μέσω tfidf του συστήματος συστάσεων έχει διάφορα μειονεκτήματα. Θα μας ενδιέφερε λοιπόν να δούμε αν μπορούμε να χρησιμοποιήσουμε για τις λέξεις **εμφυτεύματα (embeddings)**, δηλαδή τις πυκνές διανυσματικές αναπαραστάσεις για τις λέξεις που μας δίνει το μοντέλο **Word2Vec**\n",
    "\n",
    "Ωστόσο, το dataset της κάθε ομάδας είναι πολύ μικρό για να εξάγουμε τα δικά μας word embeddings (και να είναι καλά). Για το λόγο αυτό θα χρησιμοποιήσουμε τη μεθοδολογία της Βαθιάς Μάθησης που είναι η **Μεταφορά Μάθησης (Transfer Learning).**.\n",
    "\n",
    "Στη μεταφορά μάθησης ουσιαστικά μεταφέρουμε τη γνώση που έχει αποκτήσει ένα ήδη εκπαιδευμένο (και κατά κανόνα πολύ μεγάλο) σύστημα. Η μεταφορά γίνεται διαμέσου των τιμών των βαρών που έχει προσδιορίσει μετά το πέρας της εκπαίδευσης.\n",
    "\n",
    "Στην περίπτωσή μας, δεν μας ενδιαφέρουν τόσο τα ίδια τα βάρη των μοντέλων από τα οποία θα κάνουμε μεταφορά μάθησης. Κάτι τέτοιο θα μας ενδιέφερε αν π.χ. θέλαμε να συνεχίσουμε την εκπαίδευση στα δικά μας κείμενα. Μας ενδιαφέρουν όμως τα ίδια τα εμφυτεύματα, δηλαδή τα embeddings (διανύσματα διαστάσεων $m$) που έχει μάθει το νευρωνικό για το λεξιλόγιο του (vocabulary). To vocabulary σε τέτοια μεγάλα νευρωνικά θα είναι πιθανότατα υπερσύνολο του δικού μας."
   ]
  },
  {
   "cell_type": "markdown",
   "metadata": {
    "id": "6UFGxnb9iknm"
   },
   "source": [
    "### Μεταφορά μάθησης εμφυτευμάτων\n",
    "\n"
   ]
  },
  {
   "cell_type": "markdown",
   "metadata": {
    "id": "G3Z28edwj4wF"
   },
   "source": [
    "#### Εμφυτεύματα του Gensim-data\n",
    "Το Gensim περιλαμβάνει αρκετά προεκπαιδευμένα μοντέλα εμφυτευμάτων Word2Vec. Με το επόμενο κελί παίρνουμε τη λίστα τους."
   ]
  },
  {
   "cell_type": "code",
   "execution_count": null,
   "metadata": {
    "id": "UX9ZkHSvi3Mi"
   },
   "outputs": [],
   "source": [
    "!pip install -U gensim\n",
    "import gensim.downloader\n",
    "print(list(gensim.downloader.info()['models'].keys()))"
   ]
  },
  {
   "cell_type": "markdown",
   "metadata": {
    "id": "mS0XEVWUi_0e"
   },
   "source": [
    "Τα μοντέλα αυτά βρίσκονται στο [αποθετήριο Gensim-data](https://github.com/RaRe-Technologies/gensim-data) όπου μπορείτε να βρείτε και την τεκμηρίωσή τους. Η φόρτωση των μοντέλων αυτών γίνεται με τη συνάρτηση `gensim.downloader.load`."
   ]
  },
  {
   "cell_type": "markdown",
   "metadata": {
    "id": "IfNs5fMAkADF"
   },
   "source": [
    "#### Άλλα εμφυτεύμαατα\n",
    "Μπορείτε να βρείτε προεκπαιδευμένα εμφυτεύματα και από πηγές εκτός του Gensim. Για παράδειγμα:\n",
    "\n",
    "- [Google News dataset](https://code.google.com/archive/p/word2vec/). Πρόκειται για προ-εκπαιδευμένα διανύσματα που έχουν εκπαιδευτεί σε μέρος του συνόλου δεδομένων Google News (περίπου 100 δισεκατομμύρια λέξεις). Το μοντέλο περιέχει διανύσματα 300 διαστάσεων για 3 εκατομμύρια λέξεις και φράσεις.\n",
    "- [Amazon BlazingText](https://docs.aws.amazon.com/sagemaker/latest/dg/blazingtext.html). Το BlazingText δεν είναι μόνο προεκπαιδευμένα εμφυτεύματα αλλα και βελτιστοποιημένες υλοποιήσεις των αλγορίθμων Word2vec για την επεξεργασία κειμένου. Προυπόθεση είναι να δουλέψει κανείς στο SageMaker.\n",
    "\n",
    "Οι διαδικασίες φόρτωσης embeddings από εξωτερικά δεδομένα μπορεί να είναι ελαφρά διαφορετικές από αυτή του Gensim.\n",
    "\n"
   ]
  },
  {
   "cell_type": "markdown",
   "metadata": {
    "id": "qkkZE41d_DjX"
   },
   "source": [
    "#### Παρατηρήσεις\n",
    "\n",
    "*   Επαναλαμβάνουμε ότι στην εργασία αυτή δεν μας ενδιαφέρουν τα ίδια τα μοντέλα αλλά το να μπορούμε για μία λέξη του λεξιλογίου μας να μπορούμε να βρούμε το embedding (διάνυσμα) που της αντιστοιχεί στο εκάστοτε προεκπαιδευμένο μοντέλο. \n",
    "\n",
    "*   Επίσης, δεν θα χρησιμοποιήσουμε την `Phrases` για να βρούμε bigrams στο dataset μας όπως θα ήταν το ορθότερο, καθώς αυτό θα απαιτούσε την συνέχιση της εκπαίδευσης του μοντέλου σε νέο λεξιλόγιο με πολύ λίγα νέα δεδομένα.\n"
   ]
  },
  {
   "cell_type": "markdown",
   "metadata": {
    "id": "aF6bQOziqISL"
   },
   "source": [
    " ### Δημιουργία corpora βασισμένων στα εμφυτεύματα\n",
    "\n",
    "Για να μπορέσουμε να ενσωματώσουμε τη γνώση που υπάρχει στα προεκπαιδευμένα εμφυτεύματα στο δικό μας corpus θα προχωρήσουμε όπως περιγράφεται ακολούθως.\n",
    "\n",
    "Για κάθε περιγραφή ταινίας $d$, η οποία αποτελείται από τις $N_d$ λέξεις $w_i$, το  $tfidf$ της κάθε λέξης $w_i$ δίνεται από τη σχέση:\n",
    "\n",
    "$$ tfidf(w_i) = tf(w_i,d) \\cdot idf(w_i)$$\n",
    "\n",
    "Ταυτόχρονα, σε κάθε λέξη $w_i$ αντιστοιχεί ένα διάνυσμα $W2V(w_i)$ από το μοντέλο εμφυτευμάτων που έχουμε εισάγει. Τα διανύσματα εμφυτευμάτων $W2V$ θα έχουν διάσταση $m$, ανάλογα το μοντέλο. \n",
    "\n",
    "Για κάθε ταινία d, μπορούμε να δημιουργήσουμε μια διανυσματική αναπαράσταση $W2V(d)$ διαστάσεων $m$ χρησιμοποιώντας το $tfidf(w_i)$ ως συντελεστή βαρύτητας για κάθε εμφύτευμα $W2V(w_i)$:\n",
    "\n",
    "$$ W2V(d) = \\frac{tfidf(w_1)\\cdot W2V(w_i) + tfidf(w_2)\\cdot W2V(w_2) + \\dotsc  + tfidf(w_{N_{d}})\\cdot W2V(w_{N_{d}})}{tfidf(w_1)+tfidf(w_2)+ \\dotsc + tfidf(w_{N_{d}})}$$\n"
   ]
  },
  {
   "cell_type": "markdown",
   "metadata": {
    "id": "Umbd7mv__be8"
   },
   "source": [
    "#### build_tfw2v\n",
    "\n",
    "Υλοποιήστε μια συνάρτηση `build_tfw2v` με ορίσματα:\n",
    "- `corpus` που θα είναι το προεπεξεργασμένο dataset σας,\n",
    "- `vectors` που θα είναι το μοντέλο που θα σας δίνει τα διανύσματα των εμφυτεύσεων vectors, και \n",
    "- `embeddings_size` που θα είναι η διάσταση των εμφυτευμάτων $m$.\n",
    "\n",
    "H συνάρτηση αυτή θα επιστρέφει ένα νέο corpus που θα είναι ένας πίνακας 5000 (όσες οι ταινίες σας) x $m$ (το η διάσταση των εμφυτευμάτων). Ανάλογα ποιο μοντέλο χρησιμποιείτε για transfer learning ο πίνακας αυτός θα είναι διαφορετικός.\n",
    "\n",
    "Μπορείτε πλεόν να καλείτε την `content_recommender` με διαφορετικά corpora στο όρισμα `corpus_type`. Σημειώστε ότι στο TFidfVectorizer χρησιμοποιουμε τη σειριακή μορφή των numpy arrays και ίσως σας χρησιμεύσει η `sparse.csr_matrix()` από την Scipy."
   ]
  },
  {
   "cell_type": "markdown",
   "metadata": {
    "id": "NPVK7Z5c1p5F"
   },
   "source": [
    "## Ανάλυση αποτελεσμάτων\n",
    "\n",
    "### Σύστημα συστάσεων βασισμένο μόνο στο tfidf\n",
    "\n",
    "- Σε markdown περιγράψτε τι προεπεξεργασία κάνετε στα κείμενα και γιατί.\n",
    "\n",
    "- Περιγράψτε πως προχωρήσατε στις επιλογές σας για τη βελτιστοποίηση της `TfidfVectorizer`. \n",
    "\n",
    "- [Cherry-picking:](https://www.wikiwand.com/en/Cherry_picking) Δώσετε παραδείγματα (IDs) από τη συλλογή σας που επιστρέφουν καλά αποτελέσματα μέχρι `max_recommendations` (τουλάχιστον 5) και σχολιάστε.\n",
    "\n",
    "- [Nit-picking:](https://en.wikipedia.org/wiki/Nitpicking) Δώστε παραδείγματα (IDs) από τη συλλογή σας που επιστρέφουν κακά αποτελέσματα και σχολιάστε.\n",
    "\n",
    "- Ποια είναι συνολικά τα πλεονεκτήματα και μειονεκτήματα ενός recommender βασισμένου στο tfidf;"
   ]
  },
  {
   "cell_type": "markdown",
   "metadata": {
    "id": "zPBW9WH56I-y"
   },
   "source": [
    "### Σύγκριση και σχολιασμός με recommenders βασισμένων στο Word2Vec\n",
    "\n",
    "- Υλoποιήστε recommenders που βασίζονται σε μεταφορά μάθησης και εμφυτεύματα. Χρησιμοποιήστε παραδείγματα για να υποδείξετε δυνατά και αδύναμα σημεία τους.\n",
    "\n",
    "- Μπορείτε να σχολιάσετε τα recommenders που βασίζονται στο Word2Vec σε σχέση με το απλό μοντέλο tfidf, εξετάζοντας τις συστάσεις για ίδια ID.\n",
    "\n",
    "- Μπορείτε επίσης να εξετάσετε συγκριτικά τα Word2Vec recommenders μεταξύ τους και πάλι βασιζόμενοι σε παραδείγματα.\n",
    "\n",
    "- Οι παρατηρήσεις σας θα βασίζονται στην ανάλυση των ποιοτικών χαρακτηριστικών που είναι η σειρά και το σύνολο των συστάσεων. Ωστόσο, μπορείτε να συμπεριλάβετε και ποσοτικά χαρακτηριστικά όπως τους χρονους loading και συγκρότησης του corpus αλλά και της διαστατικότητας $m$.\n",
    "\n",
    "Χρησιμοποιήστε όποια μορφή reporting κρίνετε καταλληλότερη: κείμενο, πίνακες, διαγράμματα.\n"
   ]
  },
  {
   "cell_type": "markdown",
   "metadata": {
    "id": "4irg4K-IPSym"
   },
   "source": [
    "## Πρακτικό tip - persistence αντικειμένων με joblib.dump\n",
    "\n",
    "Καθώς στην δεύτερη εργασία καλείστε να δημιουργήσετε διάφορα corpora των οποίων η δημιουργία παίρνει χρόνο, υπάρχει ένας εύκολος τρόπος να αποθηκεύουμε μεταβλητές σε dump files και να τις διαβάζουμε απευθείας.\n",
    "\n",
    "H βιβλιοθήκη [joblib](https://pypi.python.org/pypi/joblib) της Python δίνει κάποιες εξαιρετικά χρήσιμες ιδιότητες στην ανάπτυξη κώδικα: pipelining, παραλληλισμό, caching και variable persistence. Τις τρεις πρώτες ιδιότητες τις είδαμε στην πρώτη άσκηση. Στην παρούσα άσκηση θα μας φανεί χρήσιμη η τέταρτη, το persistence των αντικειμένων. Συγκεκριμένα μπορούμε με:\n",
    "\n",
    "```python\n",
    "joblib.dump(my_object, 'my_object.pkl') \n",
    "```\n",
    "\n",
    "να αποθηκεύσουμε οποιοδήποτε αντικείμενο-μεταβλητή (εδώ το `my_object`) απευθείας πάνω στο filesystem ως αρχείο, το οποίο στη συνέχεια μπορούμε να ανακαλέσουμε ως εξής:\n",
    "\n",
    "```python\n",
    "my_object = joblib.load('my_object.pkl')\n",
    "```\n",
    "\n",
    "Μπορούμε έτσι να ανακαλέσουμε μεταβλητές ακόμα και αφού κλείσουμε και ξανανοίξουμε το notebook, χωρίς να χρειαστεί να ακολουθήσουμε ξανά όλα τα βήματα ένα - ένα για την παραγωγή τους, κάτι ιδιαίτερα χρήσιμο αν αυτή η διαδικασία είναι χρονοβόρα.\n",
    "\n",
    "Ας αποθηκεύσουμε το `corpus_tf_idf` και στη συνέχεια ας το ανακαλέσουμε."
   ]
  },
  {
   "cell_type": "code",
   "execution_count": null,
   "metadata": {
    "id": "aESOPYQaPSyo",
    "scrolled": true
   },
   "outputs": [],
   "source": [
    "import joblib\n",
    "\n",
    "joblib.dump(corpus_tf_idf, 'corpus_tf_idf.pkl') "
   ]
  },
  {
   "cell_type": "markdown",
   "metadata": {
    "id": "7_rAEj5ZPSy1"
   },
   "source": [
    "\n",
    "\n",
    "Μπορείτε με ένα απλό `!ls` να δείτε ότι το αρχείο `corpus_tf_idf.pkl` υπάρχει στο filesystem σας (== persistence):"
   ]
  },
  {
   "cell_type": "code",
   "execution_count": null,
   "metadata": {
    "id": "ZhwXmTEIPSy3",
    "scrolled": true
   },
   "outputs": [],
   "source": [
    "!ls -lh"
   ]
  },
  {
   "cell_type": "markdown",
   "metadata": {
    "id": "cey5AbkO475S"
   },
   "source": [
    "και μπορούμε να τα διαβάσουμε με `joblib.load`"
   ]
  },
  {
   "cell_type": "code",
   "execution_count": null,
   "metadata": {
    "id": "DSJPTKY8PSyu"
   },
   "outputs": [],
   "source": [
    "corpus_tf_idf = joblib.load('corpus_tf_idf.pkl')"
   ]
  },
  {
   "cell_type": "markdown",
   "metadata": {
    "id": "zHOQtO83PSy9"
   },
   "source": [
    "# Εφαρμογή 2.  Τοπολογική και σημασιολογική απεικόνιση της ταινιών με χρήση SOM\n",
    "<img src=\"https://i.imgur.com/Z4FdurD.jpg\" width=\"60%\">"
   ]
  },
  {
   "cell_type": "markdown",
   "metadata": {
    "id": "UB_clmizPSy-"
   },
   "source": [
    "## Δημιουργία dataset\n",
    "Στη δεύτερη εφαρμογή θα βασιστούμε στις τοπολογικές ιδιότητες των Self Organizing Maps (SOM) για να φτιάξουμε ενά χάρτη (grid) δύο διαστάσεων όπου θα απεικονίζονται όλες οι ταινίες της συλλογής της ομάδας με τρόπο χωρικά συνεκτικό ως προς το περιεχόμενο και κυρίως το είδος τους (ο παραπάνω χάρτης είναι ενδεικτικός, δεν αντιστοιχεί στο dataset μας). \n",
    "\n",
    "Διαλέξτε για την αναπαράσταση των documents αυτήν που πιστεύετε απέδωσε καλύτερα στο πρώτα σκέλος της άσκησης. Έστω ότι αυτή είναι η `my_best_corpus`.\n",
    "\n",
    "Η έτοιμη συνάρτηση `build_final_set` θα ενώσει την αναπαράσταση που θα της δώσετε ως όρισμα `mycorpus` με τις binarized κατηγορίες `catbins` των ταινιών ως επιπλέον κολόνες (χαρακτηριστικά). Συνεπώς, κάθε ταινία αναπαρίσταται στο Vector Space Model από τα χαρακτηριστικά της αναπαράστασης `mycorpus` και τις κατηγορίες της.\n",
    "\n",
    "Τέλος, η συνάρτηση δέχεται ένα ορισμα για το πόσες ταινίες να επιστρέψει, με default τιμή όλες τις ταινίες (5000). Αυτό είναι χρήσιμο για να μπορείτε αν θέλετε να φτιάχνετε μικρότερα σύνολα δεδομένων ώστε να εκπαιδεύεται ταχύτερα το SOM. \n",
    "\n",
    "Θα τρέχουμε τη συνάρτηση με `final_set = build_final_set(my_best_corpus)`."
   ]
  },
  {
   "cell_type": "code",
   "execution_count": null,
   "metadata": {
    "id": "U-FDDOkQPSzA"
   },
   "outputs": [],
   "source": [
    "def build_final_set(mycorpus, doc_limit = 5000, tf_idf_only=False):\n",
    "    # convert sparse tf_idf to dense tf_idf representation\n",
    "    dense_tf_idf = mycorpus.toarray()[0:doc_limit,:]\n",
    "    if tf_idf_only:\n",
    "        # use only tf_idf\n",
    "        final_set = dense_tf_idf\n",
    "    else:\n",
    "        # append the binary categories features horizontaly to the (dense) tf_idf features\n",
    "        final_set = np.hstack((dense_tf_idf, catbins[0:doc_limit,:]))\n",
    "    # η somoclu θέλει δεδομ΄ένα σε float32\n",
    "    return np.array(final_set, dtype=np.float32)"
   ]
  },
  {
   "cell_type": "markdown",
   "metadata": {
    "id": "KjvPPENS_dYL"
   },
   "source": [
    "Στο επόμενο κελί, τυπώνουμε τις διαστάσεις του τελικού dataset μας. **Χωρίς βελτιστοποίηση του TFIDF** θα έχουμε περίπου 50.000 χαρακτηριστικά και ο θα είναι ανέφικτο να προχωρήσουμε στην εκπαίδευση του SOM."
   ]
  },
  {
   "cell_type": "code",
   "execution_count": null,
   "metadata": {
    "id": "fvEgNn-L-jEw"
   },
   "outputs": [],
   "source": [
    "final_set.shape"
   ]
  },
  {
   "cell_type": "markdown",
   "metadata": {
    "id": "8tikdip0PSzQ"
   },
   "source": [
    "## Εκπαίδευση χάρτη SOM\n",
    "\n",
    "Θα δουλέψουμε με τη βιβλιοθήκη SOM [\"Somoclu\"](http://somoclu.readthedocs.io/en/stable/index.html). Εισάγουμε τις somoclu και matplotlib και λέμε στη matplotlib να τυπώνει εντός του notebook (κι όχι σε pop up window)."
   ]
  },
  {
   "cell_type": "code",
   "execution_count": null,
   "metadata": {
    "id": "oX9rzxGSPSzR"
   },
   "outputs": [],
   "source": [
    "# install somoclu\n",
    "!pip install --upgrade somoclu\n",
    "# import sompoclu, matplotlib\n",
    "import somoclu\n",
    "import matplotlib\n",
    "# we will plot inside the notebook and not in separate window\n",
    "%matplotlib inline"
   ]
  },
  {
   "cell_type": "markdown",
   "metadata": {
    "id": "EqBfn0ijPSzX"
   },
   "source": [
    "Καταρχάς διαβάστε το [function reference](http://somoclu.readthedocs.io/en/stable/reference.html) του somoclu. Θα δoυλέψουμε με χάρτη τύπου planar, παραλληλόγραμμου σχήματος νευρώνων με τυχαία αρχικοποίηση (όλα αυτά είναι default). Μπορείτε να δοκιμάσετε διάφορα μεγέθη χάρτη ωστόσο όσο ο αριθμός των νευρώνων μεγαλώνει, μεγαλώνει και ο χρόνος εκπαίδευσης. Για το training δεν χρειάζεται να ξεπεράσετε τα 100 epochs. Σε γενικές γραμμές μπορούμε να βασιστούμε στις default παραμέτρους μέχρι να έχουμε τη δυνατότητα να οπτικοποιήσουμε και να αναλύσουμε ποιοτικά τα αποτελέσματα. Ξεκινήστε με ένα χάρτη 10 x 10, 100 epochs training και ένα υποσύνολο των ταινιών (π.χ. 2000). Χρησιμοποιήστε την `time` για να έχετε μια εικόνα των χρόνων εκπαίδευσης. "
   ]
  },
  {
   "cell_type": "markdown",
   "metadata": {
    "id": "ntd2GE9SaHiS"
   },
   "source": [
    "\n",
    "## Best matching units\n",
    "\n",
    "Μετά από κάθε εκπαίδευση αποθηκεύστε σε μια μεταβλητή τα best matching units (bmus) για κάθε ταινία. Τα bmus μας δείχνουν σε ποιο νευρώνα ανήκει η κάθε ταινία. **Προσοχή: η σύμβαση των συντεταγμένων των νευρώνων στη Somoclu είναι (στήλη, γραμμή) δηλαδή το ανάποδο από την Python**. Με χρήση της [np.unique](https://docs.scipy.org/doc/numpy-1.13.0/reference/generated/numpy.unique.html) (μια πολύ χρήσιμη συνάρτηση στην άσκηση) αποθηκεύστε τα μοναδικά best matching units και τους δείκτες τους (indices) προς τις ταινίες. \n",
    "\n",
    "Σημειώστε ότι μπορεί να έχετε λιγότερα μοναδικά bmus από αριθμό νευρώνων γιατί μπορεί σε κάποιους νευρώνες να μην έχουν ανατεθεί ταινίες. Ως αριθμό νευρώνα θα θεωρήσουμε τον αριθμό γραμμής στον πίνακα μοναδικών bmus.\n"
   ]
  },
  {
   "cell_type": "markdown",
   "metadata": {
    "id": "grzqcyHyaKdg"
   },
   "source": [
    "\n",
    "## Ομαδοποίηση (clustering)\n",
    "\n",
    "Τυπικά, η ομαδοποίηση σε ένα χάρτη SOM προκύπτει από το unified distance matrix (U-matrix): για κάθε κόμβο υπολογίζεται η μέση απόστασή του από τους γειτονικούς κόμβους. Εάν χρησιμοποιηθεί μπλε χρώμα στις περιοχές του χάρτη όπου η τιμή αυτή είναι χαμηλή (μικρή απόσταση) και κόκκινο εκεί που η τιμή είναι υψηλή (μεγάλη απόσταση), τότε μπορούμε να πούμε ότι οι μπλε περιοχές αποτελούν clusters και οι κόκκινες αποτελούν σύνορα μεταξύ clusters.\n",
    "\n",
    "To somoclu δίνει την επιπρόσθετη δυνατότητα να κάνουμε ομαδοποίηση των νευρώνων χρησιμοποιώντας οποιονδήποτε αλγόριθμο ομαδοποίησης του scikit-learn. Στην άσκηση θα χρησιμοποιήσουμε τον k-Means. Για τον αρχικό σας χάρτη δοκιμάστε ένα k=20 ή 25. Οι δύο προσεγγίσεις ομαδοποίησης είναι διαφορετικές, οπότε περιμένουμε τα αποτελέσματα να είναι κοντά αλλά όχι τα ίδια.\n"
   ]
  },
  {
   "cell_type": "markdown",
   "metadata": {
    "id": "2nupuqcuaMe3"
   },
   "source": [
    "\n",
    "## Αποθήκευση του SOM\n",
    "\n",
    "Επειδή η αρχικοποίηση του SOM γίνεται τυχαία και το clustering είναι και αυτό στοχαστική διαδικασία, οι θέσεις και οι ετικέτες των νευρώνων και των clusters θα είναι διαφορετικές κάθε φορά που τρέχετε τον χάρτη, ακόμα και με τις ίδιες παραμέτρους. Για να αποθηκεύσετε ένα συγκεκριμένο som και clustering χρησιμοποιήστε και πάλι την `joblib`. Μετά την ανάκληση ενός SOM θυμηθείτε να ακολουθήσετε τη διαδικασία για τα bmus.\n"
   ]
  },
  {
   "cell_type": "markdown",
   "metadata": {
    "id": "ejX0Qs18aRHU"
   },
   "source": [
    "\n",
    "## Οπτικοποίηση U-matrix, clustering και μέγεθος clusters\n",
    "\n",
    "Για την εκτύπωση του U-matrix χρησιμοποιήστε τη `view_umatrix` με ορίσματα `bestmatches=True` και `figsize=(15, 15)` ή `figsize=(20, 20)`. Τα διαφορετικά χρώματα που εμφανίζονται στους κόμβους αντιπροσωπεύουν τα διαφορετικά clusters που προκύπτουν από τον k-Means. Μπορείτε να εμφανίσετε τη λεζάντα του U-matrix με το όρισμα `colorbar`. Μην τυπώνετε τις ετικέτες (labels) των δειγμάτων, είναι πολύ μεγάλος ο αριθμός τους.\n",
    "\n",
    "Για μια δεύτερη πιο ξεκάθαρη οπτικοποίηση του clustering τυπώστε απευθείας τη μεταβλητή `clusters`.\n",
    "\n",
    "Τέλος, χρησιμοποιώντας πάλι την `np.unique` (με διαφορετικό όρισμα) και την `np.argsort` (υπάρχουν και άλλοι τρόποι υλοποίησης) εκτυπώστε τις ετικέτες των clusters (αριθμοί από 0 έως k-1) και τον αριθμό των νευρώνων σε κάθε cluster, με φθίνουσα ή αύξουσα σειρά ως προς τον αριθμό των νευρώνων. Ουσιαστικά είναι ένα εργαλείο για να βρίσκετε εύκολα τα μεγάλα και μικρά clusters. \n",
    "\n",
    "Ακολουθεί ένα μη βελτιστοποιημένο παράδειγμα για τις τρεις προηγούμενες εξόδους:\n",
    "\n",
    "<img src=\"https://image.ibb.co/i0tsfR/umatrix_s.jpg\" width=\"35%\">\n",
    "<img src=\"https://image.ibb.co/nLgHEm/clusters.png\" width=\"35%\">\n",
    "\n"
   ]
  },
  {
   "cell_type": "markdown",
   "metadata": {
    "id": "fMO_KcQYaTv-"
   },
   "source": [
    "\n",
    "## Σημασιολογική ερμηνεία των clusters\n",
    "\n",
    "Προκειμένου να μελετήσουμε τις τοπολογικές ιδιότητες του SOM και το αν έχουν ενσωματώσει σημασιολογική πληροφορία για τις ταινίες διαμέσου της διανυσματικής αναπαράστασης του tf-idf, των εμφυτευμάτων και των κατηγοριών, χρειαζόμαστε ένα κριτήριο ποιοτικής επισκόπησης των clusters. \n",
    "\n",
    "Θα υλοποιήσουμε το εξής κριτήριο: Λαμβάνουμε όρισμα έναν αριθμό (ετικέτα) cluster. Για το cluster αυτό βρίσκουμε όλους τους νευρώνες που του έχουν ανατεθεί από τον k-Means. Για όλους τους νευρώνες αυτούς βρίσκουμε όλες τις ταινίες που τους έχουν ανατεθεί (για τις οποίες αποτελούν bmus). Για όλες αυτές τις ταινίες τυπώνουμε ταξινομημένη τη συνολική στατιστική όλων των ειδών (κατηγοριών) και τις συχνότητές τους. Αν το cluster διαθέτει καλή συνοχή και εξειδίκευση, θα πρέπει κάποιες κατηγορίες να έχουν σαφώς μεγαλύτερη συχνότητα από τις υπόλοιπες. Θα μπορούμε τότε να αναθέσουμε αυτήν/ές την/τις κατηγορία/ες ως ετικέτες κινηματογραφικού είδους στο cluster.\n",
    "\n",
    "Μπορείτε να υλοποιήσετε τη συνάρτηση αυτή όπως θέλετε. Μια πιθανή διαδικασία θα μπορούσε να είναι η ακόλουθη:\n",
    "\n",
    "1. Ορίζουμε συνάρτηση `print_categories_stats` που δέχεται ως είσοδο λίστα με ids ταινιών. Δημιουργούμε μια κενή λίστα συνολικών κατηγοριών. Στη συνέχεια, για κάθε ταινία επεξεργαζόμαστε το string `categories` ως εξής: δημιουργούμε μια λίστα διαχωρίζοντας το string κατάλληλα με την `split` και αφαιρούμε τα whitespaces μεταξύ ετικετών με την `strip`. Προσθέτουμε τη λίστα αυτή στη συνολική λίστα κατηγοριών με την `extend`. Τέλος χρησιμοποιούμε πάλι την `np.unique` για να μετρήσουμε συχνότητα μοναδικών ετικετών κατηγοριών και ταξινομούμε με την `np.argsort`. Τυπώνουμε τις κατηγορίες και τις συχνότητες εμφάνισης ταξινομημένα. Χρήσιμες μπορεί να σας φανούν και οι `np.ravel`, `np.nditer`, `np.array2string` και `zip`.\n",
    "\n",
    "2. Ορίζουμε τη βασική μας συνάρτηση `print_cluster_neurons_movies_report` που δέχεται ως όρισμα τον αριθμό ενός cluster. Με τη χρήση της `np.where` μπορούμε να βρούμε τις συντεταγμένες των bmus που αντιστοιχούν στο cluster και με την `column_stack` να φτιάξουμε έναν πίνακα bmus για το cluster. Προσοχή στη σειρά (στήλη - σειρά) στον πίνακα bmus. Για κάθε bmu αυτού του πίνακα ελέγχουμε αν υπάρχει στον πίνακα μοναδικών bmus που έχουμε υπολογίσει στην αρχή συνολικά και αν ναι προσθέτουμε το αντίστοιχο index του νευρώνα σε μια λίστα. Χρήσιμες μπορεί να είναι και οι `np.rollaxis`, `np.append`, `np.asscalar`. Επίσης πιθανώς να πρέπει να υλοποιήσετε ένα κριτήριο ομοιότητας μεταξύ ενός bmu και ενός μοναδικού bmu από τον αρχικό πίνακα bmus.\n",
    "\n",
    "3. Υλοποιούμε μια βοηθητική συνάρτηση `neuron_movies_report`. Λαμβάνει ένα σύνολο νευρώνων από την `print_cluster_neurons_movies_report` και μέσω της `indices` φτιάχνει μια λίστα με το σύνολο ταινιών που ανήκουν σε αυτούς τους νευρώνες. Στο τέλος καλεί με αυτή τη λίστα την `print_categories_stats` που τυπώνει τις στατιστικές των κατηγοριών.\n",
    "\n",
    "Μπορείτε βέβαια να προσθέσετε οποιαδήποτε επιπλέον έξοδο σας βοηθάει. Μια χρήσιμη έξοδος είναι πόσοι νευρώνες ανήκουν στο cluster και σε πόσους και ποιους από αυτούς έχουν ανατεθεί ταινίες.\n",
    "\n",
    "Θα επιτελούμε τη σημασιολογική ερμηνεία του χάρτη καλώντας την `print_cluster_neurons_movies_report` με τον αριθμός ενός cluster που μας ενδιαφέρει. \n",
    "\n",
    "Παράδειγμα εξόδου για ένα cluster (μη βελτιστοποιημένος χάρτης, ωστόσο βλέπετε ότι οι μεγάλες κατηγορίες έχουν σημασιολογική  συνάφεια):\n",
    "\n",
    "```\n",
    "Overall Cluster Genres stats:  \n",
    "[('\"Horror\"', 86), ('\"Science Fiction\"', 24), ('\"B-movie\"', 16), ('\"Monster movie\"', 10), ('\"Creature Film\"', 10), ('\"Indie\"', 9), ('\"Zombie Film\"', 9), ('\"Slasher\"', 8), ('\"World cinema\"', 8), ('\"Sci-Fi Horror\"', 7), ('\"Natural horror films\"', 6), ('\"Supernatural\"', 6), ('\"Thriller\"', 6), ('\"Cult\"', 5), ('\"Black-and-white\"', 5), ('\"Japanese Movies\"', 4), ('\"Short Film\"', 3), ('\"Drama\"', 3), ('\"Psychological thriller\"', 3), ('\"Crime Fiction\"', 3), ('\"Monster\"', 3), ('\"Comedy\"', 2), ('\"Western\"', 2), ('\"Horror Comedy\"', 2), ('\"Archaeology\"', 2), ('\"Alien Film\"', 2), ('\"Teen\"', 2), ('\"Mystery\"', 2), ('\"Adventure\"', 2), ('\"Comedy film\"', 2), ('\"Combat Films\"', 1), ('\"Chinese Movies\"', 1), ('\"Action/Adventure\"', 1), ('\"Gothic Film\"', 1), ('\"Costume drama\"', 1), ('\"Disaster\"', 1), ('\"Docudrama\"', 1), ('\"Film adaptation\"', 1), ('\"Film noir\"', 1), ('\"Parody\"', 1), ('\"Period piece\"', 1), ('\"Action\"', 1)]```\n",
    "   "
   ]
  },
  {
   "cell_type": "markdown",
   "metadata": {
    "id": "lq4QrImhaa7E"
   },
   "source": [
    "\n",
    "## Tips για το SOM και το clustering\n",
    "\n",
    "- Για την ομαδοποίηση ένα U-matrix καλό είναι να εμφανίζει και μπλε-πράσινες περιοχές (clusters) και κόκκινες περιοχές (ορίων). Παρατηρήστε ποια σχέση υπάρχει μεταξύ αριθμού ταινιών στο final set, μεγέθους grid και ποιότητας U-matrix.\n",
    "- Για το k του k-Means προσπαθήστε να προσεγγίζει σχετικά τα clusters του U-matrix (όπως είπαμε είναι διαφορετικοί μέθοδοι clustering). Μικρός αριθμός k δεν θα σέβεται τα όρια. Μεγάλος αριθμός θα δημιουργεί υπο-clusters εντός των clusters που φαίνονται στο U-matrix. Το τελευταίο δεν είναι απαραίτητα κακό, αλλά μεγαλώνει τον αριθμό clusters που πρέπει να αναλυθούν σημασιολογικά.\n",
    "- Σε μικρούς χάρτες και με μικρά final sets δοκιμάστε διαφορετικές παραμέτρους για την εκπαίδευση του SOM. Σημειώστε τυχόν παραμέτρους που επηρεάζουν την ποιότητα του clustering για το dataset σας ώστε να τις εφαρμόσετε στους μεγάλους χάρτες.\n",
    "- Κάποια τοπολογικά χαρακτηριστικά εμφανίζονται ήδη σε μικρούς χάρτες. Κάποια άλλα χρειάζονται μεγαλύτερους χάρτες. Δοκιμάστε μεγέθη 20x20, 25x25 ή και 30x30 και αντίστοιχη προσαρμογή των k. Όσο μεγαλώνουν οι χάρτες, μεγαλώνει η ανάλυση του χάρτη αλλά μεγαλώνει και ο αριθμός clusters που πρέπει να αναλυθούν.\n"
   ]
  },
  {
   "cell_type": "markdown",
   "metadata": {
    "id": "x4IUl8O8ayVf"
   },
   "source": [
    "\n",
    "\n",
    "## Ανάλυση τοπολογικών ιδιοτήτων χάρτη SOM\n",
    "\n",
    "Μετά το πέρας της εκπαίδευσης και του clustering θα έχετε ένα χάρτη με τοπολογικές ιδιότητες ως προς τα είδη των ταίνιών της συλλογής σας, κάτι αντίστοιχο με την εικόνα στην αρχή της Εφαρμογής 2 αυτού του notebook. Η συγκεκριμένη εικόνα είναι μόνο για εικονογράφιση, δεν είναι χάρτης SOM καιδεν έχει καμία σχέση με τη συλλογή δεδομένων και τις κατηγορίες μας.\n",
    "\n",
    "Για τον τελικό χάρτη SOM που θα παράξετε για τη συλλογή σας, αναλύστε σε markdown με συγκεκριμένη αναφορά σε αριθμούς clusters και τη σημασιολογική ερμηνεία τους τις εξής τρεις τοπολογικές ιδιότητες του SOM: \n",
    "\n",
    "1. Δεδομένα που έχουν μεγαλύτερη πυκνότητα πιθανότητας στο χώρο εισόδου τείνουν να απεικονίζονται με περισσότερους νευρώνες στο χώρο μειωμένης διαστατικότητας. Δώστε παραδείγματα από συχνές και λιγότερο συχνές κατηγορίες ταινιών. Χρησιμοποιήστε τις στατιστικές των κατηγοριών στη συλλογή σας και τον αριθμό κόμβων που χαρακτηρίζουν.\n",
    "2. Μακρινά πρότυπα εισόδου τείνουν να απεικονίζονται απομακρυσμένα στο χάρτη. Υπάρχουν χαρακτηριστικές κατηγορίες ταινιών που ήδη από μικρούς χάρτες τείνουν να τοποθετούνται σε διαφορετικά ή απομονωμένα σημεία του χάρτη.\n",
    "3. Κοντινά πρότυπα εισόδου τείνουν να απεικονίζονται κοντά στο χάρτη. Σε μεγάλους χάρτες εντοπίστε είδη ταινιών και κοντινά τους υποείδη.\n",
    "\n",
    "Προφανώς τοποθέτηση σε 2 διαστάσεις που να σέβεται μια απόλυτη τοπολογία δεν είναι εφικτή, αφενός γιατί δεν υπάρχει κάποια απόλυτη εξ ορισμού για τα κινηματογραφικά είδη ακόμα και σε πολλές διαστάσεις, αφετέρου γιατί πραγματοποιούμε μείωση διαστατικότητας.\n",
    "\n",
    "Εντοπίστε μεγάλα clusters και μικρά clusters που δεν έχουν σαφή χαρακτηριστικά. Εντοπίστε clusters συγκεκριμένων ειδών που μοιάζουν να μην έχουν τοπολογική συνάφεια με γύρω περιοχές. Προτείνετε πιθανές ερμηνείες.\n",
    "\n",
    "\n",
    "Τέλος, εντοπίστε clusters που έχουν κατά την άποψή σας ιδιαίτερο ενδιαφέρον στη συλλογή της ομάδας σας (data exploration / discovery value) και σχολιάστε.\n"
   ]
  },
  {
   "cell_type": "markdown",
   "metadata": {
    "id": "tYjxGR5DawIy"
   },
   "source": [
    "\n",
    "# Τελική παράδοση άσκησης\n",
    "\n",
    "- Θα παραδώσετε στο helios το παρόν notebook επεξεργασμένο ή ένα ή δύο νέα zipαρισμένα με τις απαντήσεις σας για τα ζητούμενα και των δύο εφαρμογών. \n",
    "- Θυμηθείτε ότι η ανάλυση του χάρτη στο markdown με αναφορά σε αριθμούς clusters πρέπει να αναφέρεται στον τελικό χάρτη με τα κελιά ορατά που θα παραδώσετε αλλιώς ο χάρτης που θα προκύψει θα είναι διαφορετικός και τα labels των clusters δεν θα αντιστοιχούν στην ανάλυσή σας. \n",
    "- Μην ξεχάσετε στην αρχή ένα κελί markdown με **τα στοιχεία της ομάδας σας**."
   ]
  },
  {
   "cell_type": "markdown",
   "metadata": {
    "id": "UHhCkvxjnitd"
   },
   "source": [
    "<table>\n",
    "  <tr><td align=\"center\">\n",
    "    <font size=\"4\">Παρακαλούμε διατρέξτε βήμα-βήμα το notebook για να μην ξεχάσετε παραδοτέα</font>\n",
    "</td>\n",
    "  </tr>\n",
    "</table>"
   ]
  }
 ],
 "metadata": {
  "colab": {
   "provenance": [],
   "toc_visible": true
  },
  "kernelspec": {
   "display_name": "Python 3",
   "language": "python",
   "name": "python3"
  },
  "language_info": {
   "codemirror_mode": {
    "name": "ipython",
    "version": 3
   },
   "file_extension": ".py",
   "mimetype": "text/x-python",
   "name": "python",
   "nbconvert_exporter": "python",
   "pygments_lexer": "ipython3",
   "version": "3.8.10"
  }
 },
 "nbformat": 4,
 "nbformat_minor": 1
}
