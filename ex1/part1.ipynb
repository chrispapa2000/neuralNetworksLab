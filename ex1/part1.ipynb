{
 "cells": [
  {
   "cell_type": "markdown",
   "id": "6196d638",
   "metadata": {},
   "source": [
    "### Ομάδα 70: \n",
    "#### Χρήστος Παπαδημητρίου, el18017\n",
    "#### Βαρθολομαίος Βαμβακάρης, el18072\n",
    "#### Ζαχαρίας-Παύλος Αναστασιάδης, el18161"
   ]
  },
  {
   "cell_type": "markdown",
   "id": "bf51fc08",
   "metadata": {},
   "source": [
    "# Dataset : Connectionist Bench (Sonar, Mimes vs. Rocks)"
   ]
  },
  {
   "cell_type": "code",
   "execution_count": 1,
   "id": "fe66dd9c",
   "metadata": {
    "scrolled": true
   },
   "outputs": [
    {
     "name": "stdout",
     "output_type": "stream",
     "text": [
      "Defaulting to user installation because normal site-packages is not writeable\n",
      "Requirement already satisfied: pip in /home/chris/.local/lib/python3.8/site-packages (22.3.1)\n",
      "Defaulting to user installation because normal site-packages is not writeable\n",
      "Requirement already satisfied: scikit-learn in /home/chris/.local/lib/python3.8/site-packages (1.1.3)\n",
      "Requirement already satisfied: scipy>=1.3.2 in /home/chris/.local/lib/python3.8/site-packages (from scikit-learn) (1.9.3)\n",
      "Requirement already satisfied: numpy>=1.17.3 in /home/chris/.local/lib/python3.8/site-packages (from scikit-learn) (1.23.4)\n",
      "Requirement already satisfied: threadpoolctl>=2.0.0 in /home/chris/.local/lib/python3.8/site-packages (from scikit-learn) (3.1.0)\n",
      "Requirement already satisfied: joblib>=1.0.0 in /home/chris/.local/lib/python3.8/site-packages (from scikit-learn) (1.1.0)\n",
      "Defaulting to user installation because normal site-packages is not writeable\n",
      "Requirement already satisfied: numpy in /home/chris/.local/lib/python3.8/site-packages (1.23.4)\n",
      "Defaulting to user installation because normal site-packages is not writeable\n",
      "Requirement already satisfied: matplotlib in /home/chris/.local/lib/python3.8/site-packages (3.6.2)\n",
      "Requirement already satisfied: pyparsing>=2.2.1 in /home/chris/.local/lib/python3.8/site-packages (from matplotlib) (3.0.7)\n",
      "Requirement already satisfied: packaging>=20.0 in /home/chris/.local/lib/python3.8/site-packages (from matplotlib) (21.3)\n",
      "Requirement already satisfied: pillow>=6.2.0 in /usr/lib/python3/dist-packages (from matplotlib) (7.0.0)\n",
      "Requirement already satisfied: fonttools>=4.22.0 in /home/chris/.local/lib/python3.8/site-packages (from matplotlib) (4.31.2)\n",
      "Requirement already satisfied: numpy>=1.19 in /home/chris/.local/lib/python3.8/site-packages (from matplotlib) (1.23.4)\n",
      "Requirement already satisfied: contourpy>=1.0.1 in /home/chris/.local/lib/python3.8/site-packages (from matplotlib) (1.0.5)\n",
      "Requirement already satisfied: python-dateutil>=2.7 in /home/chris/.local/lib/python3.8/site-packages (from matplotlib) (2.8.2)\n",
      "Requirement already satisfied: kiwisolver>=1.0.1 in /home/chris/.local/lib/python3.8/site-packages (from matplotlib) (1.4.2)\n",
      "Requirement already satisfied: cycler>=0.10 in /home/chris/.local/lib/python3.8/site-packages (from matplotlib) (0.11.0)\n",
      "Requirement already satisfied: six>=1.5 in /usr/lib/python3/dist-packages (from python-dateutil>=2.7->matplotlib) (1.14.0)\n",
      "Defaulting to user installation because normal site-packages is not writeable\n",
      "Requirement already satisfied: seaborn in /home/chris/.local/lib/python3.8/site-packages (0.12.1)\n",
      "Requirement already satisfied: pandas>=0.25 in /home/chris/.local/lib/python3.8/site-packages (from seaborn) (1.5.1)\n",
      "Requirement already satisfied: matplotlib!=3.6.1,>=3.1 in /home/chris/.local/lib/python3.8/site-packages (from seaborn) (3.6.2)\n",
      "Requirement already satisfied: numpy>=1.17 in /home/chris/.local/lib/python3.8/site-packages (from seaborn) (1.23.4)\n",
      "Requirement already satisfied: contourpy>=1.0.1 in /home/chris/.local/lib/python3.8/site-packages (from matplotlib!=3.6.1,>=3.1->seaborn) (1.0.5)\n",
      "Requirement already satisfied: python-dateutil>=2.7 in /home/chris/.local/lib/python3.8/site-packages (from matplotlib!=3.6.1,>=3.1->seaborn) (2.8.2)\n",
      "Requirement already satisfied: kiwisolver>=1.0.1 in /home/chris/.local/lib/python3.8/site-packages (from matplotlib!=3.6.1,>=3.1->seaborn) (1.4.2)\n",
      "Requirement already satisfied: packaging>=20.0 in /home/chris/.local/lib/python3.8/site-packages (from matplotlib!=3.6.1,>=3.1->seaborn) (21.3)\n",
      "Requirement already satisfied: cycler>=0.10 in /home/chris/.local/lib/python3.8/site-packages (from matplotlib!=3.6.1,>=3.1->seaborn) (0.11.0)\n",
      "Requirement already satisfied: fonttools>=4.22.0 in /home/chris/.local/lib/python3.8/site-packages (from matplotlib!=3.6.1,>=3.1->seaborn) (4.31.2)\n",
      "Requirement already satisfied: pyparsing>=2.2.1 in /home/chris/.local/lib/python3.8/site-packages (from matplotlib!=3.6.1,>=3.1->seaborn) (3.0.7)\n",
      "Requirement already satisfied: pillow>=6.2.0 in /usr/lib/python3/dist-packages (from matplotlib!=3.6.1,>=3.1->seaborn) (7.0.0)\n",
      "Requirement already satisfied: pytz>=2020.1 in /home/chris/.local/lib/python3.8/site-packages (from pandas>=0.25->seaborn) (2022.1)\n",
      "Requirement already satisfied: six>=1.5 in /usr/lib/python3/dist-packages (from python-dateutil>=2.7->matplotlib!=3.6.1,>=3.1->seaborn) (1.14.0)\n",
      "Defaulting to user installation because normal site-packages is not writeable\n",
      "Requirement already satisfied: markdown in /home/chris/.local/lib/python3.8/site-packages (3.4.1)\n",
      "Requirement already satisfied: importlib-metadata>=4.4 in /home/chris/.local/lib/python3.8/site-packages (from markdown) (4.12.0)\n",
      "Requirement already satisfied: zipp>=0.5 in /usr/lib/python3/dist-packages (from importlib-metadata>=4.4->markdown) (1.0.0)\n"
     ]
    }
   ],
   "source": [
    "!pip install --upgrade pip #upgrade pip package installer\n",
    "!pip install scikit-learn --upgrade #upgrade scikit-learn package\n",
    "!pip install numpy --upgrade #upgrade numpy package\n",
    "!pip install --upgrade matplotlib # Κάνουμε update την matplotlib\n",
    "!pip install seaborn\n",
    "!pip install markdown"
   ]
  },
  {
   "cell_type": "markdown",
   "id": "9e6d36ef",
   "metadata": {},
   "source": [
    "## Εισαγωγή & Επισκόπηση"
   ]
  },
  {
   "cell_type": "code",
   "execution_count": 2,
   "id": "24db49c2",
   "metadata": {},
   "outputs": [
    {
     "data": {
      "text/html": [
       "<div>\n",
       "<style scoped>\n",
       "    .dataframe tbody tr th:only-of-type {\n",
       "        vertical-align: middle;\n",
       "    }\n",
       "\n",
       "    .dataframe tbody tr th {\n",
       "        vertical-align: top;\n",
       "    }\n",
       "\n",
       "    .dataframe thead th {\n",
       "        text-align: right;\n",
       "    }\n",
       "</style>\n",
       "<table border=\"1\" class=\"dataframe\">\n",
       "  <thead>\n",
       "    <tr style=\"text-align: right;\">\n",
       "      <th></th>\n",
       "      <th>0</th>\n",
       "      <th>1</th>\n",
       "      <th>2</th>\n",
       "      <th>3</th>\n",
       "      <th>4</th>\n",
       "      <th>5</th>\n",
       "      <th>6</th>\n",
       "      <th>7</th>\n",
       "      <th>8</th>\n",
       "      <th>9</th>\n",
       "      <th>...</th>\n",
       "      <th>51</th>\n",
       "      <th>52</th>\n",
       "      <th>53</th>\n",
       "      <th>54</th>\n",
       "      <th>55</th>\n",
       "      <th>56</th>\n",
       "      <th>57</th>\n",
       "      <th>58</th>\n",
       "      <th>59</th>\n",
       "      <th>60</th>\n",
       "    </tr>\n",
       "  </thead>\n",
       "  <tbody>\n",
       "    <tr>\n",
       "      <th>0</th>\n",
       "      <td>0.0200</td>\n",
       "      <td>0.0371</td>\n",
       "      <td>0.0428</td>\n",
       "      <td>0.0207</td>\n",
       "      <td>0.0954</td>\n",
       "      <td>0.0986</td>\n",
       "      <td>0.1539</td>\n",
       "      <td>0.1601</td>\n",
       "      <td>0.3109</td>\n",
       "      <td>0.2111</td>\n",
       "      <td>...</td>\n",
       "      <td>0.0027</td>\n",
       "      <td>0.0065</td>\n",
       "      <td>0.0159</td>\n",
       "      <td>0.0072</td>\n",
       "      <td>0.0167</td>\n",
       "      <td>0.0180</td>\n",
       "      <td>0.0084</td>\n",
       "      <td>0.0090</td>\n",
       "      <td>0.0032</td>\n",
       "      <td>R</td>\n",
       "    </tr>\n",
       "    <tr>\n",
       "      <th>1</th>\n",
       "      <td>0.0453</td>\n",
       "      <td>0.0523</td>\n",
       "      <td>0.0843</td>\n",
       "      <td>0.0689</td>\n",
       "      <td>0.1183</td>\n",
       "      <td>0.2583</td>\n",
       "      <td>0.2156</td>\n",
       "      <td>0.3481</td>\n",
       "      <td>0.3337</td>\n",
       "      <td>0.2872</td>\n",
       "      <td>...</td>\n",
       "      <td>0.0084</td>\n",
       "      <td>0.0089</td>\n",
       "      <td>0.0048</td>\n",
       "      <td>0.0094</td>\n",
       "      <td>0.0191</td>\n",
       "      <td>0.0140</td>\n",
       "      <td>0.0049</td>\n",
       "      <td>0.0052</td>\n",
       "      <td>0.0044</td>\n",
       "      <td>R</td>\n",
       "    </tr>\n",
       "    <tr>\n",
       "      <th>2</th>\n",
       "      <td>0.0262</td>\n",
       "      <td>0.0582</td>\n",
       "      <td>0.1099</td>\n",
       "      <td>0.1083</td>\n",
       "      <td>0.0974</td>\n",
       "      <td>0.2280</td>\n",
       "      <td>0.2431</td>\n",
       "      <td>0.3771</td>\n",
       "      <td>0.5598</td>\n",
       "      <td>0.6194</td>\n",
       "      <td>...</td>\n",
       "      <td>0.0232</td>\n",
       "      <td>0.0166</td>\n",
       "      <td>0.0095</td>\n",
       "      <td>0.0180</td>\n",
       "      <td>0.0244</td>\n",
       "      <td>0.0316</td>\n",
       "      <td>0.0164</td>\n",
       "      <td>0.0095</td>\n",
       "      <td>0.0078</td>\n",
       "      <td>R</td>\n",
       "    </tr>\n",
       "    <tr>\n",
       "      <th>3</th>\n",
       "      <td>0.0100</td>\n",
       "      <td>0.0171</td>\n",
       "      <td>0.0623</td>\n",
       "      <td>0.0205</td>\n",
       "      <td>0.0205</td>\n",
       "      <td>0.0368</td>\n",
       "      <td>0.1098</td>\n",
       "      <td>0.1276</td>\n",
       "      <td>0.0598</td>\n",
       "      <td>0.1264</td>\n",
       "      <td>...</td>\n",
       "      <td>0.0121</td>\n",
       "      <td>0.0036</td>\n",
       "      <td>0.0150</td>\n",
       "      <td>0.0085</td>\n",
       "      <td>0.0073</td>\n",
       "      <td>0.0050</td>\n",
       "      <td>0.0044</td>\n",
       "      <td>0.0040</td>\n",
       "      <td>0.0117</td>\n",
       "      <td>R</td>\n",
       "    </tr>\n",
       "    <tr>\n",
       "      <th>4</th>\n",
       "      <td>0.0762</td>\n",
       "      <td>0.0666</td>\n",
       "      <td>0.0481</td>\n",
       "      <td>0.0394</td>\n",
       "      <td>0.0590</td>\n",
       "      <td>0.0649</td>\n",
       "      <td>0.1209</td>\n",
       "      <td>0.2467</td>\n",
       "      <td>0.3564</td>\n",
       "      <td>0.4459</td>\n",
       "      <td>...</td>\n",
       "      <td>0.0031</td>\n",
       "      <td>0.0054</td>\n",
       "      <td>0.0105</td>\n",
       "      <td>0.0110</td>\n",
       "      <td>0.0015</td>\n",
       "      <td>0.0072</td>\n",
       "      <td>0.0048</td>\n",
       "      <td>0.0107</td>\n",
       "      <td>0.0094</td>\n",
       "      <td>R</td>\n",
       "    </tr>\n",
       "    <tr>\n",
       "      <th>...</th>\n",
       "      <td>...</td>\n",
       "      <td>...</td>\n",
       "      <td>...</td>\n",
       "      <td>...</td>\n",
       "      <td>...</td>\n",
       "      <td>...</td>\n",
       "      <td>...</td>\n",
       "      <td>...</td>\n",
       "      <td>...</td>\n",
       "      <td>...</td>\n",
       "      <td>...</td>\n",
       "      <td>...</td>\n",
       "      <td>...</td>\n",
       "      <td>...</td>\n",
       "      <td>...</td>\n",
       "      <td>...</td>\n",
       "      <td>...</td>\n",
       "      <td>...</td>\n",
       "      <td>...</td>\n",
       "      <td>...</td>\n",
       "      <td>...</td>\n",
       "    </tr>\n",
       "    <tr>\n",
       "      <th>203</th>\n",
       "      <td>0.0187</td>\n",
       "      <td>0.0346</td>\n",
       "      <td>0.0168</td>\n",
       "      <td>0.0177</td>\n",
       "      <td>0.0393</td>\n",
       "      <td>0.1630</td>\n",
       "      <td>0.2028</td>\n",
       "      <td>0.1694</td>\n",
       "      <td>0.2328</td>\n",
       "      <td>0.2684</td>\n",
       "      <td>...</td>\n",
       "      <td>0.0116</td>\n",
       "      <td>0.0098</td>\n",
       "      <td>0.0199</td>\n",
       "      <td>0.0033</td>\n",
       "      <td>0.0101</td>\n",
       "      <td>0.0065</td>\n",
       "      <td>0.0115</td>\n",
       "      <td>0.0193</td>\n",
       "      <td>0.0157</td>\n",
       "      <td>M</td>\n",
       "    </tr>\n",
       "    <tr>\n",
       "      <th>204</th>\n",
       "      <td>0.0323</td>\n",
       "      <td>0.0101</td>\n",
       "      <td>0.0298</td>\n",
       "      <td>0.0564</td>\n",
       "      <td>0.0760</td>\n",
       "      <td>0.0958</td>\n",
       "      <td>0.0990</td>\n",
       "      <td>0.1018</td>\n",
       "      <td>0.1030</td>\n",
       "      <td>0.2154</td>\n",
       "      <td>...</td>\n",
       "      <td>0.0061</td>\n",
       "      <td>0.0093</td>\n",
       "      <td>0.0135</td>\n",
       "      <td>0.0063</td>\n",
       "      <td>0.0063</td>\n",
       "      <td>0.0034</td>\n",
       "      <td>0.0032</td>\n",
       "      <td>0.0062</td>\n",
       "      <td>0.0067</td>\n",
       "      <td>M</td>\n",
       "    </tr>\n",
       "    <tr>\n",
       "      <th>205</th>\n",
       "      <td>0.0522</td>\n",
       "      <td>0.0437</td>\n",
       "      <td>0.0180</td>\n",
       "      <td>0.0292</td>\n",
       "      <td>0.0351</td>\n",
       "      <td>0.1171</td>\n",
       "      <td>0.1257</td>\n",
       "      <td>0.1178</td>\n",
       "      <td>0.1258</td>\n",
       "      <td>0.2529</td>\n",
       "      <td>...</td>\n",
       "      <td>0.0160</td>\n",
       "      <td>0.0029</td>\n",
       "      <td>0.0051</td>\n",
       "      <td>0.0062</td>\n",
       "      <td>0.0089</td>\n",
       "      <td>0.0140</td>\n",
       "      <td>0.0138</td>\n",
       "      <td>0.0077</td>\n",
       "      <td>0.0031</td>\n",
       "      <td>M</td>\n",
       "    </tr>\n",
       "    <tr>\n",
       "      <th>206</th>\n",
       "      <td>0.0303</td>\n",
       "      <td>0.0353</td>\n",
       "      <td>0.0490</td>\n",
       "      <td>0.0608</td>\n",
       "      <td>0.0167</td>\n",
       "      <td>0.1354</td>\n",
       "      <td>0.1465</td>\n",
       "      <td>0.1123</td>\n",
       "      <td>0.1945</td>\n",
       "      <td>0.2354</td>\n",
       "      <td>...</td>\n",
       "      <td>0.0086</td>\n",
       "      <td>0.0046</td>\n",
       "      <td>0.0126</td>\n",
       "      <td>0.0036</td>\n",
       "      <td>0.0035</td>\n",
       "      <td>0.0034</td>\n",
       "      <td>0.0079</td>\n",
       "      <td>0.0036</td>\n",
       "      <td>0.0048</td>\n",
       "      <td>M</td>\n",
       "    </tr>\n",
       "    <tr>\n",
       "      <th>207</th>\n",
       "      <td>0.0260</td>\n",
       "      <td>0.0363</td>\n",
       "      <td>0.0136</td>\n",
       "      <td>0.0272</td>\n",
       "      <td>0.0214</td>\n",
       "      <td>0.0338</td>\n",
       "      <td>0.0655</td>\n",
       "      <td>0.1400</td>\n",
       "      <td>0.1843</td>\n",
       "      <td>0.2354</td>\n",
       "      <td>...</td>\n",
       "      <td>0.0146</td>\n",
       "      <td>0.0129</td>\n",
       "      <td>0.0047</td>\n",
       "      <td>0.0039</td>\n",
       "      <td>0.0061</td>\n",
       "      <td>0.0040</td>\n",
       "      <td>0.0036</td>\n",
       "      <td>0.0061</td>\n",
       "      <td>0.0115</td>\n",
       "      <td>M</td>\n",
       "    </tr>\n",
       "  </tbody>\n",
       "</table>\n",
       "<p>208 rows × 61 columns</p>\n",
       "</div>"
      ],
      "text/plain": [
       "         0       1       2       3       4       5       6       7       8   \\\n",
       "0    0.0200  0.0371  0.0428  0.0207  0.0954  0.0986  0.1539  0.1601  0.3109   \n",
       "1    0.0453  0.0523  0.0843  0.0689  0.1183  0.2583  0.2156  0.3481  0.3337   \n",
       "2    0.0262  0.0582  0.1099  0.1083  0.0974  0.2280  0.2431  0.3771  0.5598   \n",
       "3    0.0100  0.0171  0.0623  0.0205  0.0205  0.0368  0.1098  0.1276  0.0598   \n",
       "4    0.0762  0.0666  0.0481  0.0394  0.0590  0.0649  0.1209  0.2467  0.3564   \n",
       "..      ...     ...     ...     ...     ...     ...     ...     ...     ...   \n",
       "203  0.0187  0.0346  0.0168  0.0177  0.0393  0.1630  0.2028  0.1694  0.2328   \n",
       "204  0.0323  0.0101  0.0298  0.0564  0.0760  0.0958  0.0990  0.1018  0.1030   \n",
       "205  0.0522  0.0437  0.0180  0.0292  0.0351  0.1171  0.1257  0.1178  0.1258   \n",
       "206  0.0303  0.0353  0.0490  0.0608  0.0167  0.1354  0.1465  0.1123  0.1945   \n",
       "207  0.0260  0.0363  0.0136  0.0272  0.0214  0.0338  0.0655  0.1400  0.1843   \n",
       "\n",
       "         9   ...      51      52      53      54      55      56      57  \\\n",
       "0    0.2111  ...  0.0027  0.0065  0.0159  0.0072  0.0167  0.0180  0.0084   \n",
       "1    0.2872  ...  0.0084  0.0089  0.0048  0.0094  0.0191  0.0140  0.0049   \n",
       "2    0.6194  ...  0.0232  0.0166  0.0095  0.0180  0.0244  0.0316  0.0164   \n",
       "3    0.1264  ...  0.0121  0.0036  0.0150  0.0085  0.0073  0.0050  0.0044   \n",
       "4    0.4459  ...  0.0031  0.0054  0.0105  0.0110  0.0015  0.0072  0.0048   \n",
       "..      ...  ...     ...     ...     ...     ...     ...     ...     ...   \n",
       "203  0.2684  ...  0.0116  0.0098  0.0199  0.0033  0.0101  0.0065  0.0115   \n",
       "204  0.2154  ...  0.0061  0.0093  0.0135  0.0063  0.0063  0.0034  0.0032   \n",
       "205  0.2529  ...  0.0160  0.0029  0.0051  0.0062  0.0089  0.0140  0.0138   \n",
       "206  0.2354  ...  0.0086  0.0046  0.0126  0.0036  0.0035  0.0034  0.0079   \n",
       "207  0.2354  ...  0.0146  0.0129  0.0047  0.0039  0.0061  0.0040  0.0036   \n",
       "\n",
       "         58      59  60  \n",
       "0    0.0090  0.0032   R  \n",
       "1    0.0052  0.0044   R  \n",
       "2    0.0095  0.0078   R  \n",
       "3    0.0040  0.0117   R  \n",
       "4    0.0107  0.0094   R  \n",
       "..      ...     ...  ..  \n",
       "203  0.0193  0.0157   M  \n",
       "204  0.0062  0.0067   M  \n",
       "205  0.0077  0.0031   M  \n",
       "206  0.0036  0.0048   M  \n",
       "207  0.0061  0.0115   M  \n",
       "\n",
       "[208 rows x 61 columns]"
      ]
     },
     "execution_count": 2,
     "metadata": {},
     "output_type": "execute_result"
    }
   ],
   "source": [
    "import pandas as pd\n",
    "\n",
    "df = pd.read_csv('sonar.all-data', header=None)\n",
    "df"
   ]
  },
  {
   "cell_type": "code",
   "execution_count": 3,
   "id": "87107e76",
   "metadata": {},
   "outputs": [
    {
     "name": "stdout",
     "output_type": "stream",
     "text": [
      "There are no missing data in the Dataset\n"
     ]
    }
   ],
   "source": [
    "# check if we have any missing values\n",
    "\n",
    "isNullArray, nullValsPresent = df.isnull(), False\n",
    "\n",
    "for numCol in isNullArray:\n",
    "    if True in isNullArray[numCol]:\n",
    "        print(\"Missing Values in column: \" + str(col))\n",
    "        flag = True\n",
    "\n",
    "if not nullValsPresent:\n",
    "    print(\"There are no missing data in the Dataset\")"
   ]
  },
  {
   "cell_type": "markdown",
   "id": "a9f748a9",
   "metadata": {},
   "source": [
    "#### Σύντομη Παρουσίαση του Dataset\n",
    "Το παραπάνω Dataset περιλαμβάνει 208 δείγματα που αντιστοιχούν σε patterns συχνοτήτων. Αυτά τα patterns έχουν προκύψει από την αντανάκλαση σημάτων Sonar σε μεταλλικούς κυλίνδρους και σε πετρώματα. Συγκεκριμένα τα σήματα Sonar που χρησιμοποιήθηκαν είναι \"Chirps\" αυξανόμενης συχνότητας. Το Dataset περιλαμβάνει αποτελέσματα εκπομπής Sonar από ποικίλες γωνίες (aspect angles), μεχρί 90$^{o}$ για τους μεταλλικούς κυλίνδρους και μέχρι 180$^{o}$ για τα πετρώματα. \n",
    "\n",
    "Κάθε pattern περιγράφεται από 60 αριθμούς μεταξύ 0.0 και 1.0. Καθένας από αυτούς τους αριθμούς αντιστοιχεί στο ολοκλήρωμα της ενέργειας μιας συγκεκριμένης μπάντας συχνοτήτων για μια περίοδο στον χρόνο. \n",
    "\n",
    "Τα labels που συναντάμε στο dataset είναι 'R' για τα πετρώματα (Rocks) και 'Μ' για τους μεταλλικούς κυλίνδρους (Metal cylinder). "
   ]
  },
  {
   "cell_type": "markdown",
   "id": "0e85cdd3",
   "metadata": {},
   "source": [
    "Σημειώνεται ότι **δεν** χρειάστηκε να γίνουν μετατροπές στο αρχείο 'sonar.all-data' πριν την εισαγωγή του στο Notebook"
   ]
  },
  {
   "cell_type": "markdown",
   "id": "e29be43c",
   "metadata": {},
   "source": [
    "#### Ακολουθούν κάποιες επιπλέον πληροφορίες για το Dataset:\n",
    "* Το Dataset περιλαμβάνει 208 δείγματα. Κάθε δείγμα έχει 60 χαρακτηριστηκά. Το καθένα από αυτά είναι μία τιμή μεταξύ 0.0 και 1.1 (Το ολοκλήρωμα της ενέργειας που αναφέραμε παραπάνω) \n",
    "* Δεν υπάρχουν επικεφαλίδες, ούτε αρίθμηση γραμμών\n",
    "* Οι ετικέτες των κλάσεων παίρνουν τιμές 'R' και 'Μ', όπως αναφέραμε παραπάνω. Βρίσκονται στην 61$^{η}$ κολόνα (index 60).\n",
    "* Δεν υπάρχουν δείγματα με απουσιάζουσες τιμές\n",
    "* Η κλαση R έχει 97 δείγματα (ποσοστό: 46.6%), ενώ η κλάση M έχει 111 δείγματα (ποσοστό: 53.4%). Σύμφωνα με το όριο 60%-40% πρόκειται για ισορροπημένο Dataset."
   ]
  },
  {
   "cell_type": "markdown",
   "id": "af766966",
   "metadata": {},
   "source": [
    "## Προετοιμασία"
   ]
  },
  {
   "cell_type": "code",
   "execution_count": 4,
   "id": "da08d620",
   "metadata": {},
   "outputs": [
    {
     "name": "stdout",
     "output_type": "stream",
     "text": [
      "(208, 1)\n",
      "(208, 60)\n"
     ]
    }
   ],
   "source": [
    "# split the dataframe into features matrix and labels column\n",
    "features_df, labels_df = df.iloc[:,0:60], df.iloc[:,[60]]\n",
    "print(labels_df.shape)\n",
    "print(features_df.shape)"
   ]
  },
  {
   "cell_type": "code",
   "execution_count": 5,
   "id": "1c3d5ce6",
   "metadata": {},
   "outputs": [
    {
     "data": {
      "text/plain": [
       "array([[0.02  , 0.0371, 0.0428, ..., 0.0084, 0.009 , 0.0032],\n",
       "       [0.0453, 0.0523, 0.0843, ..., 0.0049, 0.0052, 0.0044],\n",
       "       [0.0262, 0.0582, 0.1099, ..., 0.0164, 0.0095, 0.0078],\n",
       "       ...,\n",
       "       [0.0522, 0.0437, 0.018 , ..., 0.0138, 0.0077, 0.0031],\n",
       "       [0.0303, 0.0353, 0.049 , ..., 0.0079, 0.0036, 0.0048],\n",
       "       [0.026 , 0.0363, 0.0136, ..., 0.0036, 0.0061, 0.0115]])"
      ]
     },
     "execution_count": 5,
     "metadata": {},
     "output_type": "execute_result"
    }
   ],
   "source": [
    "# turn features into a numpy array\n",
    "features_np = features_df.values\n",
    "features_np"
   ]
  },
  {
   "cell_type": "code",
   "execution_count": 6,
   "id": "269b5c4e",
   "metadata": {},
   "outputs": [
    {
     "data": {
      "text/plain": [
       "array([0, 0, 0, 0, 0, 0, 0, 0, 0, 0, 0, 0, 0, 0, 0, 0, 0, 0, 0, 0, 0, 0,\n",
       "       0, 0, 0, 0, 0, 0, 0, 0, 0, 0, 0, 0, 0, 0, 0, 0, 0, 0, 0, 0, 0, 0,\n",
       "       0, 0, 0, 0, 0, 0, 0, 0, 0, 0, 0, 0, 0, 0, 0, 0, 0, 0, 0, 0, 0, 0,\n",
       "       0, 0, 0, 0, 0, 0, 0, 0, 0, 0, 0, 0, 0, 0, 0, 0, 0, 0, 0, 0, 0, 0,\n",
       "       0, 0, 0, 0, 0, 0, 0, 0, 0, 1, 1, 1, 1, 1, 1, 1, 1, 1, 1, 1, 1, 1,\n",
       "       1, 1, 1, 1, 1, 1, 1, 1, 1, 1, 1, 1, 1, 1, 1, 1, 1, 1, 1, 1, 1, 1,\n",
       "       1, 1, 1, 1, 1, 1, 1, 1, 1, 1, 1, 1, 1, 1, 1, 1, 1, 1, 1, 1, 1, 1,\n",
       "       1, 1, 1, 1, 1, 1, 1, 1, 1, 1, 1, 1, 1, 1, 1, 1, 1, 1, 1, 1, 1, 1,\n",
       "       1, 1, 1, 1, 1, 1, 1, 1, 1, 1, 1, 1, 1, 1, 1, 1, 1, 1, 1, 1, 1, 1,\n",
       "       1, 1, 1, 1, 1, 1, 1, 1, 1, 1])"
      ]
     },
     "execution_count": 6,
     "metadata": {},
     "output_type": "execute_result"
    }
   ],
   "source": [
    "# replace (R,M) with (0,1) in labels \n",
    "\n",
    "labels_df = labels_df.replace({'R':0}).replace({'M':1})\n",
    "labels_np = labels_df.values.flatten()\n",
    "labels_np"
   ]
  },
  {
   "cell_type": "code",
   "execution_count": 7,
   "id": "a68c1725",
   "metadata": {},
   "outputs": [],
   "source": [
    "from sklearn.model_selection import train_test_split\n",
    "\n",
    "# split our data into training and testing data\n",
    "train, test, train_labels, test_labels = train_test_split(features_np, labels_np,\n",
    "                                                          test_size=0.30,\n",
    "                                                          random_state=42,\n",
    "                                                          stratify = labels_np # keep proportions when spliting\n",
    "                                                         )"
   ]
  },
  {
   "cell_type": "markdown",
   "id": "5a338083",
   "metadata": {},
   "source": [
    "## Ταξινόμηση"
   ]
  },
  {
   "cell_type": "code",
   "execution_count": 8,
   "id": "ac057d01",
   "metadata": {},
   "outputs": [],
   "source": [
    "# import all classifiers \n",
    "from sklearn.dummy import DummyClassifier\n",
    "from sklearn.naive_bayes import GaussianNB\n",
    "from sklearn.neighbors import KNeighborsClassifier\n",
    "from sklearn.linear_model import LogisticRegression\n",
    "\n",
    "\n",
    "# import metrics\n",
    "from sklearn.metrics import accuracy_score\n",
    "from sklearn.metrics import precision_recall_fscore_support\n",
    "from sklearn.metrics import classification_report\n",
    "from sklearn.metrics import f1_score"
   ]
  },
  {
   "cell_type": "markdown",
   "id": "fd3ac98d",
   "metadata": {},
   "source": [
    "### Επίδοση Out-Of-the-Box"
   ]
  },
  {
   "cell_type": "code",
   "execution_count": 9,
   "id": "125cde18",
   "metadata": {},
   "outputs": [],
   "source": [
    "# Dummy Classifier\n",
    "\n",
    "dc_uniform = DummyClassifier(strategy=\"uniform\")\n",
    "dc_constant_0 = DummyClassifier(strategy=\"constant\", constant=0)\n",
    "dc_constant_1 = DummyClassifier(strategy=\"constant\", constant=1)\n",
    "dc_most_frequent = DummyClassifier(strategy=\"most_frequent\")\n",
    "dc_stratified = DummyClassifier(strategy=\"stratified\")\n",
    "\n",
    "accuracy_scores_ootb = dict()\n",
    "f1_scores_ootb = dict()\n",
    "dummy_classifiers = [(dc_uniform, 'dc uniform'), (dc_constant_0, 'dc constant 0'),\\\n",
    "                       (dc_constant_1, 'dc constant 1'), (dc_most_frequent, 'dc most frequent'),\\\n",
    "                       (dc_stratified, 'dc stratified')]\n",
    "\n",
    "for (classifier, name) in dummy_classifiers:\n",
    "    # train \n",
    "    model = classifier.fit(train, train_labels)\n",
    "    # predict for test data\n",
    "    preds = classifier.predict(test)\n",
    "    # calculate accuracy\n",
    "    accuracy_scores_ootb[name] = round(accuracy_score(test_labels, preds),3)\n",
    "    # calculate f1 scores\n",
    "#     f1_scores_ootb[name] = round(precision_recall_fscore_support(\n",
    "#         test_labels, preds, average='macro', zero_division=1)[2],3)\n",
    "    f1_scores_ootb[name] = f1_score(test_labels, preds)"
   ]
  },
  {
   "cell_type": "code",
   "execution_count": 10,
   "id": "3a9e9d61",
   "metadata": {},
   "outputs": [],
   "source": [
    "# Gaussian Naive Bayes Classifier\n",
    "\n",
    "name = 'gnb'\n",
    "gnb = GaussianNB()\n",
    "#train\n",
    "model = gnb.fit(train, train_labels)\n",
    "# predict for test data\n",
    "preds = gnb.predict(test)\n",
    "# calculate accuracy\n",
    "accuracy_scores_ootb[name] = round(accuracy_score(test_labels, preds),3)\n",
    "# calculate f1 scores\n",
    "f1_scores_ootb[name] = round(precision_recall_fscore_support(test_labels, preds, average='macro', zero_division=1)[2],3)\n",
    "f1_scores_ootb[name] = f1_score(test_labels, preds)"
   ]
  },
  {
   "cell_type": "code",
   "execution_count": 11,
   "id": "ea694a53",
   "metadata": {},
   "outputs": [],
   "source": [
    "# K-Nearest-Neighbours\n",
    "\n",
    "name = 'knn'\n",
    "knn = KNeighborsClassifier()\n",
    "# train\n",
    "knn.fit(train, train_labels)\n",
    "# predict for test data\n",
    "preds = knn.predict(test)\n",
    "# calculate accuracy\n",
    "accuracy_scores_ootb[name] = round(accuracy_score(test_labels, preds),3)\n",
    "# calculate f1 scores\n",
    "f1_scores_ootb[name] = round(precision_recall_fscore_support(test_labels, preds, average='macro', zero_division=1)[2],3)\n",
    "f1_scores_ootb[name] = f1_score(test_labels, preds)"
   ]
  },
  {
   "cell_type": "code",
   "execution_count": 12,
   "id": "1751ed69",
   "metadata": {},
   "outputs": [],
   "source": [
    "name = 'logisticRegression'\n",
    "logReg = LogisticRegression()\n",
    "\n",
    "# train\n",
    "logReg.fit(train, train_labels)\n",
    "# predict for test data\n",
    "preds = logReg.predict(test)\n",
    "# calculate accuracy\n",
    "accuracy_scores_ootb[name] = round(accuracy_score(test_labels, preds),3)\n",
    "# calculate f1 scores\n",
    "f1_scores_ootb[name] = round(precision_recall_fscore_support(test_labels, preds, average='macro', zero_division=1)[2],3)\n",
    "f1_scores_ootb[name] = f1_score(test_labels, preds)"
   ]
  },
  {
   "cell_type": "code",
   "execution_count": null,
   "id": "abc51554",
   "metadata": {},
   "outputs": [],
   "source": [
    "\n"
   ]
  },
  {
   "cell_type": "markdown",
   "id": "4d52629d",
   "metadata": {},
   "source": [
    "**Παρουσίαση Επίδοσης Out-of-the-Box:**"
   ]
  },
  {
   "cell_type": "code",
   "execution_count": 13,
   "id": "6048729b",
   "metadata": {},
   "outputs": [
    {
     "data": {
      "text/markdown": [
       "\n",
       "| Classifier | Accuracy | F1-score |\n",
       "| :-: | :-: | :-: |\n",
       "|dc uniform|0.429|0.4000000000000001|\n",
       "|dc constant 0|0.46|0.0|\n",
       "|dc constant 1|0.54|0.7010309278350516|\n",
       "|dc most frequent|0.54|0.7010309278350516|\n",
       "|dc stratified|0.444|0.4615384615384615|\n",
       "|gnb|0.762|0.7692307692307693|\n",
       "|knn|0.794|0.8219178082191781|\n",
       "|logisticRegression|0.778|0.7941176470588235|\n"
      ],
      "text/plain": [
       "<IPython.core.display.Markdown object>"
      ]
     },
     "metadata": {},
     "output_type": "display_data"
    }
   ],
   "source": [
    "# print results\n",
    "from IPython.display import display, Markdown, Latex\n",
    "\n",
    "disp = \"\"\"\n",
    "| Classifier | Accuracy | F1-score |\n",
    "| :-: | :-: | :-: |\n",
    "\"\"\"\n",
    "\n",
    "for name in accuracy_scores_ootb.keys():\n",
    "    disp += \"|\"+name+\"|\"+str(accuracy_scores_ootb[name])+\"|\"+str(f1_scores_ootb[name])+\"|\\n\"\n",
    "\n",
    "display(Markdown(disp))\n"
   ]
  },
  {
   "cell_type": "code",
   "execution_count": 14,
   "id": "58698309",
   "metadata": {},
   "outputs": [],
   "source": [
    "import numpy as np\n",
    "import matplotlib.pyplot as plt\n",
    "\n",
    "# functions to plot bar charts\n",
    "\n",
    "def plotBarChart(x, ylist, cols, labs, tit, xlab, ylab):\n",
    "    plt.clf()\n",
    "    xaxis = np.arange(len(x))\n",
    "\n",
    "    # offsets of bar plots\n",
    "    totalWidth = len(ylist)*0.2-0.2\n",
    "    offset = [-(totalWidth/2)+i*0.2 for i in range(len(ylist))]\n",
    "    fig, ax = plt.subplots(figsize=(15,8))\n",
    "    \n",
    "    for i in range(len(ylist)):\n",
    "        fig = plt.bar(xaxis+offset[i], ylist[i], color=cols[i], label=labs[i], width=0.2)\n",
    "\n",
    "    # correct the xticklabels\n",
    "    ax.set_xticks(xaxis)\n",
    "    ax.set_xticklabels(x)\n",
    "    \n",
    "    plt.legend()\n",
    "    plt.xlabel(xlab)\n",
    "    plt.ylabel(ylab)\n",
    "    plt.title(tit)\n",
    "    \n",
    "def plotBarChartDoubleAxes(x,ylist,cols,labs,tit,xlab,ylabList):\n",
    "    xaxis = np.arange(len(x))\n",
    "    \n",
    "    # offsets of bar plots\n",
    "    totalWidth = len(ylist)*0.2-0.2\n",
    "    offset = [-(totalWidth/2)+i*0.2 for i in range(len(ylist))]\n",
    "    \n",
    "    \n",
    "    fig, ax0 = plt.subplots(figsize=(15,9))\n",
    "    # create second set of axes with same x axis\n",
    "    ax1 = ax0.twinx()\n",
    "    \n",
    "    ax0.set_yticks([i/10 for i in range(11)])\n",
    "    # plot       \n",
    "    ax0.bar(xaxis+offset[0], ylist[0], color=cols[0], label=labs[0], width=0.2)\n",
    "    ax1.bar(xaxis+offset[1], ylist[1], color=cols[1], label=labs[1], width=0.2)\n",
    "    \n",
    "    # ylabels\n",
    "    ax0.set_ylabel(ylabList[0])\n",
    "    ax1.set_ylabel(ylabList[1])\n",
    "    \n",
    "    # correct the xticklabels\n",
    "    ax0.set_xticks(xaxis)\n",
    "    ax0.set_xticklabels(x)\n",
    "    \n",
    "    \n",
    "    ax0.legend(loc='upper right', bbox_to_anchor=(0.95,0.99))\n",
    "    ax1.legend(loc='upper right', bbox_to_anchor=(0.95,0.94))\n",
    "    ax0.set_xlabel(xlab)\n",
    "    plt.title(tit)   "
   ]
  },
  {
   "cell_type": "code",
   "execution_count": 15,
   "id": "9aef768c",
   "metadata": {},
   "outputs": [
    {
     "data": {
      "text/plain": [
       "<Figure size 432x288 with 0 Axes>"
      ]
     },
     "metadata": {},
     "output_type": "display_data"
    },
    {
     "data": {
      "image/png": "[encoded data removed]",
      "text/plain": [
       "<Figure size 1080x576 with 1 Axes>"
      ]
     },
     "metadata": {
      "needs_background": "light"
     },
     "output_type": "display_data"
    }
   ],
   "source": [
    "xaxis, yaxis = [], []\n",
    "for (key, val) in accuracy_scores_ootb.items():\n",
    "    xaxis.append(key)\n",
    "    yaxis.append(val)\n",
    "\n",
    "plotBarChart(xaxis, [yaxis], ['darkseagreen'], ['accuracy'],\\\n",
    "             'Accuracy scores per Classifier', 'Classifier', 'Accuracy Score')"
   ]
  },
  {
   "cell_type": "code",
   "execution_count": 16,
   "id": "a60a0751",
   "metadata": {},
   "outputs": [
    {
     "data": {
      "text/plain": [
       "<Figure size 432x288 with 0 Axes>"
      ]
     },
     "metadata": {},
     "output_type": "display_data"
    },
    {
     "data": {
      "image/png": "[encoded data removed]",
      "text/plain": [
       "<Figure size 1080x576 with 1 Axes>"
      ]
     },
     "metadata": {
      "needs_background": "light"
     },
     "output_type": "display_data"
    }
   ],
   "source": [
    "xaxis, yaxis = [], []\n",
    "for (key, val) in f1_scores_ootb.items():\n",
    "    xaxis.append(key)\n",
    "    yaxis.append(val)\n",
    "\n",
    "plotBarChart(xaxis, [yaxis], ['teal'], ['F1-score'],\\\n",
    "             'F1-score per Classifier', 'Classifier', 'Accuracy Score')"
   ]
  },
  {
   "cell_type": "markdown",
   "id": "cf50e188",
   "metadata": {},
   "source": [
    "## Βελτιστοποίηση"
   ]
  },
  {
   "cell_type": "code",
   "execution_count": 17,
   "id": "faced916",
   "metadata": {},
   "outputs": [
    {
     "name": "stdout",
     "output_type": "stream",
     "text": [
      "Defaulting to user installation because normal site-packages is not writeable\n",
      "Requirement already satisfied: imbalanced-learn in /home/chris/.local/lib/python3.8/site-packages (0.9.1)\n",
      "Requirement already satisfied: scipy>=1.3.2 in /home/chris/.local/lib/python3.8/site-packages (from imbalanced-learn) (1.9.3)\n",
      "Requirement already satisfied: scikit-learn>=1.1.0 in /home/chris/.local/lib/python3.8/site-packages (from imbalanced-learn) (1.1.3)\n",
      "Requirement already satisfied: numpy>=1.17.3 in /home/chris/.local/lib/python3.8/site-packages (from imbalanced-learn) (1.23.4)\n",
      "Requirement already satisfied: joblib>=1.0.0 in /home/chris/.local/lib/python3.8/site-packages (from imbalanced-learn) (1.1.0)\n",
      "Requirement already satisfied: threadpoolctl>=2.0.0 in /home/chris/.local/lib/python3.8/site-packages (from imbalanced-learn) (3.1.0)\n"
     ]
    }
   ],
   "source": [
    "!pip install --upgrade imbalanced-learn"
   ]
  },
  {
   "cell_type": "code",
   "execution_count": 18,
   "id": "d4b67385",
   "metadata": {},
   "outputs": [],
   "source": [
    "from imblearn.pipeline import Pipeline\n",
    "\n",
    "from sklearn.feature_selection import VarianceThreshold\n",
    "from sklearn.preprocessing import StandardScaler \n",
    "from imblearn.over_sampling import RandomOverSampler\n",
    "from sklearn.decomposition import PCA\n",
    "from sklearn import preprocessing\n",
    "from sklearn.model_selection import GridSearchCV\n",
    "from sklearn.metrics import confusion_matrix"
   ]
  },
  {
   "cell_type": "code",
   "execution_count": 19,
   "id": "3b988f63",
   "metadata": {},
   "outputs": [
    {
     "data": {
      "text/plain": [
       "0.07404667920760999"
      ]
     },
     "execution_count": 19,
     "metadata": {},
     "output_type": "execute_result"
    }
   ],
   "source": [
    "train_variance = train.var(axis=0)\n",
    "# print(train_variance)\n",
    "\n",
    "# maximum variance\n",
    "max_variance = np.max(train_variance)\n",
    "max_variance"
   ]
  },
  {
   "cell_type": "markdown",
   "id": "0b38fa70",
   "metadata": {},
   "source": [
    "**Εύρεση Βέλτιστων Υπερπαραμέτρων**\n",
    "**(Διασταυρούμενη Επικύρωση σε Αναζήτηση Πλέγματος)**"
   ]
  },
  {
   "cell_type": "code",
   "execution_count": 20,
   "id": "21de4a46",
   "metadata": {},
   "outputs": [],
   "source": [
    "accuracy_scores_best = dict()\n",
    "f1_scores_best = dict()\n",
    "accuracy_test_time = dict()\n",
    "accuracy_train_time = dict()\n",
    "f1_test_time = dict()\n",
    "f1_train_time = dict()\n",
    "cnf_matrices = dict()"
   ]
  },
  {
   "cell_type": "markdown",
   "id": "1921bc41",
   "metadata": {},
   "source": [
    "### *Dummy*"
   ]
  },
  {
   "cell_type": "code",
   "execution_count": 21,
   "id": "a9f81c45",
   "metadata": {},
   "outputs": [],
   "source": [
    "# selector = VarianceThreshold()\n",
    "# # scaler = StandardScaler()\n",
    "# scaler = preprocessing.MinMaxScaler()\n",
    "# ros = RandomOverSampler()\n",
    "# pca = PCA()\n",
    "# clf = DummyClassifier(strategy='uniform') \n",
    "# pipe = Pipeline(steps=[('selector', selector), ('scaler', scaler), ('sampler', ros), ('pca', pca), ('dummy', clf)])"
   ]
  },
  {
   "cell_type": "code",
   "execution_count": 22,
   "id": "b4e239b4",
   "metadata": {},
   "outputs": [],
   "source": [
    "# # variance thresholds\n",
    "# vthresholds = [0, max_variance/110000, max_variance/101000, max_variance/100100, max_variance/100000, max_variance/(100000-100),max_variance/(100000-1000),max_variance/(100000-10000) ]\n",
    "# # vthresholds = [max_variance/num for num in range(100000+10000, 100000-10000, -100)]\n",
    "# vthresholds = [0, max_variance/1000000, max_variance/100000,max_variance/10000,max_variance/1000]\n",
    "\n",
    "# # print(len(vthresholds))\n",
    "\n",
    "# # number of components for pca \n",
    "# n_components = [7,8,9,10,11,12]"
   ]
  },
  {
   "cell_type": "code",
   "execution_count": 23,
   "id": "fcdad260",
   "metadata": {},
   "outputs": [],
   "source": [
    "# estimator = GridSearchCV(pipe, dict(selector__threshold=vthresholds, pca__n_components=n_components), cv=10, scoring='f1_macro', n_jobs=-1)"
   ]
  },
  {
   "cell_type": "code",
   "execution_count": 24,
   "id": "22917e97",
   "metadata": {},
   "outputs": [],
   "source": [
    "# import time\n",
    "# start_time = time.time()\n",
    "# estimator.fit(train, train_labels)\n",
    "# preds = estimator.predict(test)\n",
    "# print(\"Total time to fit & predict: %s seconds\" % (time.time() - start_time))\n",
    "# print(classification_report(test_labels, preds))"
   ]
  },
  {
   "cell_type": "code",
   "execution_count": 25,
   "id": "162a9b81",
   "metadata": {},
   "outputs": [],
   "source": [
    "# print(estimator.best_estimator_)\n",
    "# print(estimator.best_params_)"
   ]
  },
  {
   "cell_type": "markdown",
   "id": "90c3e58d",
   "metadata": {},
   "source": [
    "### *Gaussian Naive Bayes*"
   ]
  },
  {
   "cell_type": "code",
   "execution_count": 26,
   "id": "b19b280a",
   "metadata": {},
   "outputs": [],
   "source": [
    "# create pipeline to perform preprocessing and fitting\n",
    "\n",
    "selector = VarianceThreshold()\n",
    "scaler = StandardScaler()\n",
    "ros = RandomOverSampler()\n",
    "pca = PCA()\n",
    "clf = GaussianNB()\n",
    "pipe = Pipeline(steps=[('selector', selector), ('scaler', scaler), ('sampler', ros), ('pca', pca), ('gnb', clf)])"
   ]
  },
  {
   "cell_type": "code",
   "execution_count": 27,
   "id": "2cbe99e4",
   "metadata": {},
   "outputs": [],
   "source": [
    "# parameters for the grid\n",
    "\n",
    "# variance thresholds\n",
    "vthresholds = [0, max_variance/1000000, max_variance/100000,max_variance/10000,max_variance/1000,max_variance/100]\n",
    "\n",
    "# number of components for pca \n",
    "n_components = [8,9,10,11,12,13,17,20]\n",
    "\n",
    "#smoothing\n",
    "smoothing = np.logspace(0,-9, num=10)"
   ]
  },
  {
   "cell_type": "markdown",
   "id": "eb206fd1",
   "metadata": {},
   "source": [
    "**GNB - Βελτιστοποίηση ως προς το F1-score**"
   ]
  },
  {
   "cell_type": "code",
   "execution_count": 28,
   "id": "8721fcb0",
   "metadata": {},
   "outputs": [],
   "source": [
    "estimator_f1_score = GridSearchCV(pipe,\n",
    "                         dict(selector__threshold=vthresholds,\n",
    "                              pca__n_components=n_components,\n",
    "                              gnb__var_smoothing = smoothing\n",
    "                             ),\n",
    "                         cv=10,\n",
    "                         scoring='f1_macro',\n",
    "                         n_jobs=-1)"
   ]
  },
  {
   "cell_type": "code",
   "execution_count": 29,
   "id": "d342e812",
   "metadata": {},
   "outputs": [
    {
     "name": "stdout",
     "output_type": "stream",
     "text": [
      "              precision    recall  f1-score   support\n",
      "\n",
      "           0       0.72      0.90      0.80        29\n",
      "           1       0.89      0.71      0.79        34\n",
      "\n",
      "    accuracy                           0.79        63\n",
      "   macro avg       0.81      0.80      0.79        63\n",
      "weighted avg       0.81      0.79      0.79        63\n",
      "\n"
     ]
    }
   ],
   "source": [
    "# find best parameters according to f1-score metric\n",
    "\n",
    "estimator_f1_score.fit(train, train_labels)\n",
    "preds = estimator_f1_score.predict(test)\n",
    "print(classification_report(test_labels, preds))"
   ]
  },
  {
   "cell_type": "code",
   "execution_count": 30,
   "id": "3b4e42d4",
   "metadata": {},
   "outputs": [],
   "source": [
    "# print('Best f1-score: %s' % estimator_f1_score.best_score_)\n",
    "# f1_scores_best['gnb'] = estimator_f1_score.best_score_"
   ]
  },
  {
   "cell_type": "code",
   "execution_count": 31,
   "id": "83fdb85d",
   "metadata": {},
   "outputs": [],
   "source": [
    "import time\n",
    "\n",
    "# train and test the best model again, to calculate the requested times\n",
    "gnb_f1_best = estimator_f1_score.best_estimator_\n",
    "\n",
    "# find training time\n",
    "start_time = time.time()\n",
    "gnb_f1_best.fit(train, train_labels)\n",
    "f1_train_time['gnb'] = (time.time()-start_time)\n",
    "\n",
    "# find testing time\n",
    "start_time = time.time()\n",
    "preds = gnb_f1_best.predict(test)\n",
    "f1_test_time['gnb'] = (time.time()-start_time)\n",
    "\n",
    "\n",
    "# calculate f1 scores\n",
    "f1_scores_best['gnb'] = round(precision_recall_fscore_support(test_labels, preds,\\\n",
    "                                                              average='macro', zero_division=1)[2],3)\n",
    "f1_scores_ootb['gnb'] = f1_score(test_labels, preds)"
   ]
  },
  {
   "cell_type": "markdown",
   "id": "0489e3de",
   "metadata": {},
   "source": [
    "**GNB - Βελτιστοποίηση ως προς το Accuracy**"
   ]
  },
  {
   "cell_type": "code",
   "execution_count": 32,
   "id": "b96ef7fb",
   "metadata": {},
   "outputs": [],
   "source": [
    "estimator_accuracy = GridSearchCV(pipe,\n",
    "                         dict(selector__threshold=vthresholds,\n",
    "                              pca__n_components=n_components,\n",
    "                              gnb__var_smoothing = smoothing\n",
    "                             ),\n",
    "                         cv=10,\n",
    "                         scoring='accuracy',\n",
    "                         n_jobs=-1)"
   ]
  },
  {
   "cell_type": "code",
   "execution_count": 33,
   "id": "889c8077",
   "metadata": {},
   "outputs": [
    {
     "name": "stdout",
     "output_type": "stream",
     "text": [
      "              precision    recall  f1-score   support\n",
      "\n",
      "           0       0.69      0.83      0.75        29\n",
      "           1       0.82      0.68      0.74        34\n",
      "\n",
      "    accuracy                           0.75        63\n",
      "   macro avg       0.75      0.75      0.75        63\n",
      "weighted avg       0.76      0.75      0.75        63\n",
      "\n"
     ]
    }
   ],
   "source": [
    "# find best parameters according to accuracy metric\n",
    "\n",
    "estimator_accuracy.fit(train, train_labels)\n",
    "preds = estimator_accuracy.predict(test)\n",
    "print(classification_report(test_labels, preds))"
   ]
  },
  {
   "cell_type": "code",
   "execution_count": 34,
   "id": "71699b79",
   "metadata": {
    "scrolled": true
   },
   "outputs": [],
   "source": [
    "# print('Best accuracy: %s' % estimator_accuracy.best_score_)\n",
    "# accuracy_scores_best['gnb'] = estimator_accuracy.best_score_"
   ]
  },
  {
   "cell_type": "code",
   "execution_count": 35,
   "id": "2340df9c",
   "metadata": {},
   "outputs": [],
   "source": [
    "import time\n",
    "train_time = dict()\n",
    "test_time = dict()\n",
    "\n",
    "# train and test the best model again, to calculate the requested times\n",
    "gnb_accuracy_best = estimator_accuracy.best_estimator_\n",
    "\n",
    "# find training time\n",
    "start_time = time.time()\n",
    "gnb_accuracy_best.fit(train, train_labels)\n",
    "accuracy_train_time['gnb'] = (time.time()-start_time)\n",
    "\n",
    "# find testing time\n",
    "start_time = time.time()\n",
    "preds = gnb_accuracy_best.predict(test)\n",
    "accuracy_test_time['gnb'] = (time.time()-start_time)\n",
    "\n",
    "# calculate accuracy\n",
    "accuracy_scores_best['gnb'] = round(accuracy_score(test_labels, preds),3)\n",
    "\n",
    "# cnf matrix\n",
    "cnf_matrices['gnb'] = confusion_matrix(test_labels, preds)"
   ]
  },
  {
   "cell_type": "markdown",
   "id": "919ad71b",
   "metadata": {},
   "source": [
    "### *K-Nearest-Neighbours*"
   ]
  },
  {
   "cell_type": "code",
   "execution_count": 36,
   "id": "5fe5fb87",
   "metadata": {},
   "outputs": [],
   "source": [
    "selector = VarianceThreshold()\n",
    "scaler = StandardScaler()\n",
    "ros = RandomOverSampler()\n",
    "pca = PCA()\n",
    "clf = KNeighborsClassifier(n_jobs=-1) # η παράμετρος n_jobs = 1 χρησιμοποιεί όλους τους πυρήνες του υπολογιστή\n",
    "pipe = Pipeline(steps=[('selector', selector), ('scaler', scaler), ('pca', pca), ('kNN', clf)])"
   ]
  },
  {
   "cell_type": "code",
   "execution_count": 37,
   "id": "ebb97640",
   "metadata": {},
   "outputs": [],
   "source": [
    "# variance thresholds\n",
    "vthresholds = [0, max_variance/1000000, max_variance/100000,max_variance/10000,max_variance/1000, max_variance/100]\n",
    "\n",
    "# number of components for pca \n",
    "n_components = [7,8,9,10,11,12]\n",
    "\n",
    "# number of neighbours\n",
    "k = [1,2,3,4,5]"
   ]
  },
  {
   "cell_type": "markdown",
   "id": "a011d791",
   "metadata": {},
   "source": [
    "**KNN - Βελτιστοποίηση ως προς το F1-score**"
   ]
  },
  {
   "cell_type": "code",
   "execution_count": 38,
   "id": "b6b2f195",
   "metadata": {},
   "outputs": [],
   "source": [
    "estimator_f1_score = GridSearchCV(pipe, \n",
    "                         dict(selector__threshold=vthresholds, \n",
    "                              pca__n_components=n_components, \n",
    "                              kNN__n_neighbors=k\n",
    "                             ), \n",
    "                         cv=10, \n",
    "                         scoring='f1_macro',\n",
    "                         n_jobs=-1)"
   ]
  },
  {
   "cell_type": "code",
   "execution_count": 39,
   "id": "249853ad",
   "metadata": {},
   "outputs": [
    {
     "name": "stdout",
     "output_type": "stream",
     "text": [
      "              precision    recall  f1-score   support\n",
      "\n",
      "           0       0.92      0.79      0.85        29\n",
      "           1       0.84      0.94      0.89        34\n",
      "\n",
      "    accuracy                           0.87        63\n",
      "   macro avg       0.88      0.87      0.87        63\n",
      "weighted avg       0.88      0.87      0.87        63\n",
      "\n"
     ]
    }
   ],
   "source": [
    "# find best parameters according to f1-score metric\n",
    "\n",
    "estimator_f1_score.fit(train, train_labels)\n",
    "preds = estimator_f1_score.predict(test)\n",
    "print(classification_report(test_labels, preds))"
   ]
  },
  {
   "cell_type": "code",
   "execution_count": 40,
   "id": "1c902be0",
   "metadata": {},
   "outputs": [],
   "source": [
    "# print('Best f1-score: %s' % estimator_f1_score.best_score_)\n",
    "# f1_scores_best['knn'] = estimator_f1_score.best_score_"
   ]
  },
  {
   "cell_type": "code",
   "execution_count": 41,
   "id": "1d95f897",
   "metadata": {},
   "outputs": [],
   "source": [
    "import time\n",
    "\n",
    "# train and test the best model again, to calculate the requested times\n",
    "knn_f1_best = estimator_f1_score.best_estimator_\n",
    "\n",
    "# find training time\n",
    "start_time = time.time()\n",
    "knn_f1_best.fit(train, train_labels)\n",
    "f1_train_time['knn'] = (time.time()-start_time)\n",
    "\n",
    "# find testing time\n",
    "start_time = time.time()\n",
    "preds = knn_f1_best.predict(test)\n",
    "f1_test_time['knn'] = (time.time()-start_time)\n",
    "\n",
    "f1_scores_best['knn'] = round(precision_recall_fscore_support(test_labels, preds,\\\n",
    "                                                              average='macro', zero_division=1)[2],3)\n",
    "f1_scores_ootb['knn'] = f1_score(test_labels, preds)"
   ]
  },
  {
   "cell_type": "markdown",
   "id": "5f80f966",
   "metadata": {},
   "source": [
    "**KNN - Βελτιστοποίηση ως προς το Accuracy**"
   ]
  },
  {
   "cell_type": "code",
   "execution_count": 42,
   "id": "1be8ec9e",
   "metadata": {},
   "outputs": [],
   "source": [
    "estimator_accuracy = GridSearchCV(pipe, \n",
    "                         dict(selector__threshold=vthresholds, \n",
    "                              pca__n_components=n_components, \n",
    "                              kNN__n_neighbors=k\n",
    "                             ), \n",
    "                         cv=10, \n",
    "                         scoring='accuracy',\n",
    "                         n_jobs=-1)"
   ]
  },
  {
   "cell_type": "code",
   "execution_count": 43,
   "id": "07815aca",
   "metadata": {},
   "outputs": [
    {
     "name": "stdout",
     "output_type": "stream",
     "text": [
      "              precision    recall  f1-score   support\n",
      "\n",
      "           0       0.92      0.79      0.85        29\n",
      "           1       0.84      0.94      0.89        34\n",
      "\n",
      "    accuracy                           0.87        63\n",
      "   macro avg       0.88      0.87      0.87        63\n",
      "weighted avg       0.88      0.87      0.87        63\n",
      "\n"
     ]
    }
   ],
   "source": [
    "# find best parameters according to accuracy metric\n",
    "\n",
    "estimator_accuracy.fit(train, train_labels)\n",
    "preds = estimator_accuracy.predict(test)\n",
    "print(classification_report(test_labels, preds))"
   ]
  },
  {
   "cell_type": "code",
   "execution_count": 44,
   "id": "0f95f019",
   "metadata": {},
   "outputs": [],
   "source": [
    "# print('Best accuracy: %s' % estimator_accuracy.best_score_)\n",
    "# accuracy_scores_best['knn'] = estimator_accuracy.best_score_"
   ]
  },
  {
   "cell_type": "code",
   "execution_count": 45,
   "id": "643d5d26",
   "metadata": {},
   "outputs": [
    {
     "name": "stdout",
     "output_type": "stream",
     "text": [
      "0.873\n"
     ]
    }
   ],
   "source": [
    "import time\n",
    "\n",
    "# train and test the best model again, to calculate the requested times\n",
    "knn_accuracy_best = estimator_accuracy.best_estimator_\n",
    "\n",
    "# find training time\n",
    "start_time = time.time()\n",
    "knn_accuracy_best.fit(train, train_labels)\n",
    "accuracy_train_time['knn'] = (time.time()-start_time)\n",
    "\n",
    "# find testing time\n",
    "start_time = time.time()\n",
    "preds = knn_accuracy_best.predict(test)\n",
    "accuracy_test_time['knn'] = (time.time()-start_time)\n",
    "\n",
    "# calculate accuracy\n",
    "accuracy_scores_best['knn'] = round(accuracy_score(test_labels, preds),3)\n",
    "\n",
    "# cnf matrix\n",
    "cnf_matrices['knn'] = confusion_matrix(test_labels, preds)\n",
    "print(accuracy_scores_best['knn'])"
   ]
  },
  {
   "cell_type": "markdown",
   "id": "0b3bce27",
   "metadata": {},
   "source": [
    "### *Logistic Regression*"
   ]
  },
  {
   "cell_type": "code",
   "execution_count": 46,
   "id": "b5669968",
   "metadata": {},
   "outputs": [],
   "source": [
    "selector = VarianceThreshold()\n",
    "scaler = StandardScaler()\n",
    "ros = RandomOverSampler()\n",
    "pca = PCA()\n",
    "clf = LogisticRegression()\n",
    "pipe = Pipeline(steps=[('selector', selector), ('scaler', scaler), ('sampler', ros), ('pca', pca),\\\n",
    "                       ('logReg', clf)])\n",
    "\n",
    "# variance thresholds\n",
    "vthresholds = [0, max_variance/1000000, max_variance/100000,max_variance/10000,max_variance/1000,max_variance/100]\n",
    "\n",
    "# number of components for pca \n",
    "n_components = [7,8,9,10,11,12]\n",
    "\n",
    "# logistic regression classifier parameters\n",
    "penalty = ['l1', 'l2', 'elasticnet', 'none']\n",
    "C = np.logspace(-4, 4, num=10)\n",
    "\n",
    "logReg_solver = ['lbfgs','newton-cg','liblinear','sag','saga']"
   ]
  },
  {
   "cell_type": "markdown",
   "id": "e1014ddc",
   "metadata": {},
   "source": [
    "**Logistic Regression - Βελτιστοποίηση ως προς το F1-Score**"
   ]
  },
  {
   "cell_type": "code",
   "execution_count": 47,
   "id": "962f3f28",
   "metadata": {},
   "outputs": [
    {
     "name": "stdout",
     "output_type": "stream",
     "text": [
      "              precision    recall  f1-score   support\n",
      "\n",
      "           0       0.74      0.86      0.79        29\n",
      "           1       0.86      0.74      0.79        34\n",
      "\n",
      "    accuracy                           0.79        63\n",
      "   macro avg       0.80      0.80      0.79        63\n",
      "weighted avg       0.80      0.79      0.79        63\n",
      "\n"
     ]
    }
   ],
   "source": [
    "estimator_f1_score = GridSearchCV(pipe, \n",
    "                         dict(selector__threshold=vthresholds, \n",
    "                              pca__n_components=n_components,\n",
    "#                               logReg__penalty=penalty,\n",
    "                              logReg__C=C,\n",
    "                              logReg__solver=logReg_solver,\n",
    "                             ),\n",
    "                         cv=10, \n",
    "                         scoring='f1_macro', \n",
    "                         n_jobs=-1)\n",
    "\n",
    "# find best parameters according to f1-score metric\n",
    "estimator_f1_score.fit(train, train_labels)\n",
    "preds = estimator_f1_score.predict(test)\n",
    "print(classification_report(test_labels, preds))\n",
    "\n",
    "# print('Best f1-score: %s' % estimator_f1_score.best_score_)\n",
    "# f1_scores_best['logisticRegression'] = estimator_f1_score.best_score_"
   ]
  },
  {
   "cell_type": "code",
   "execution_count": 48,
   "id": "1cf12313",
   "metadata": {},
   "outputs": [],
   "source": [
    "import time\n",
    "\n",
    "# train and test the best model again, to calculate the requested times\n",
    "logReg_f1_best = estimator_f1_score.best_estimator_\n",
    "\n",
    "# find training time\n",
    "start_time = time.time()\n",
    "logReg_f1_best.fit(train, train_labels)\n",
    "f1_train_time['logisticRegression'] = (time.time()-start_time)\n",
    "\n",
    "# find testing time\n",
    "start_time = time.time()\n",
    "preds = logReg_f1_best.predict(test)\n",
    "f1_test_time['logisticRegression'] = (time.time()-start_time)\n",
    "\n",
    "f1_scores_best['logisticRegression'] = round(precision_recall_fscore_support(test_labels, preds,\\\n",
    "                                                              average='macro', zero_division=1)[2],3)\n",
    "f1_scores_ootb['logisticRegression'] = f1_score(test_labels, preds)"
   ]
  },
  {
   "cell_type": "markdown",
   "id": "47a57df4",
   "metadata": {},
   "source": [
    "**Logistic Regression - Βελτιστοποίηση ως προς το Accuracy**"
   ]
  },
  {
   "cell_type": "code",
   "execution_count": 49,
   "id": "ecf9fcbc",
   "metadata": {},
   "outputs": [
    {
     "name": "stdout",
     "output_type": "stream",
     "text": [
      "              precision    recall  f1-score   support\n",
      "\n",
      "           0       0.71      0.76      0.73        29\n",
      "           1       0.78      0.74      0.76        34\n",
      "\n",
      "    accuracy                           0.75        63\n",
      "   macro avg       0.75      0.75      0.75        63\n",
      "weighted avg       0.75      0.75      0.75        63\n",
      "\n"
     ]
    }
   ],
   "source": [
    "estimator_accuracy = GridSearchCV(pipe, \n",
    "                         dict(selector__threshold=vthresholds, \n",
    "                              pca__n_components=n_components,\n",
    "#                               logReg__penalty=penalty,\n",
    "                              logReg__C=C,\n",
    "                              logReg__solver=logReg_solver,\n",
    "                             ),\n",
    "                         cv=10, \n",
    "                         scoring='f1_macro', \n",
    "                         n_jobs=-1)\n",
    "\n",
    "# find best parameters according to accuracy metric\n",
    "\n",
    "estimator_accuracy.fit(train, train_labels)\n",
    "preds = estimator_accuracy.predict(test)\n",
    "print(classification_report(test_labels, preds))\n",
    "\n",
    "# print('Best accuracy: %s' % estimator_accuracy.best_score_)\n",
    "# accuracy_scores_best['logisticRegression'] = estimator_accuracy.best_score_"
   ]
  },
  {
   "cell_type": "code",
   "execution_count": 50,
   "id": "d63d7547",
   "metadata": {},
   "outputs": [],
   "source": [
    "import time\n",
    "\n",
    "# train and test the best model again, to calculate the requested times\n",
    "logReg_accuracy_best = estimator_accuracy.best_estimator_\n",
    "\n",
    "# find training time\n",
    "start_time = time.time()\n",
    "logReg_accuracy_best.fit(train, train_labels)\n",
    "accuracy_train_time['logisticRegression'] = (time.time()-start_time)\n",
    "\n",
    "# find testing time\n",
    "start_time = time.time()\n",
    "preds = logReg_accuracy_best.predict(test)\n",
    "accuracy_test_time['logisticRegression'] = (time.time()-start_time)\n",
    "\n",
    "# calculate accuracy\n",
    "accuracy_scores_best['logisticRegression'] = round(accuracy_score(test_labels, preds),3)\n",
    "\n",
    "# cnf matrix\n",
    "cnf_matrices['logisticRegression'] = confusion_matrix(test_labels, preds)"
   ]
  },
  {
   "cell_type": "markdown",
   "id": "01e6cc5a",
   "metadata": {},
   "source": [
    "## Αποτελέσματα & Συμπεράσματα"
   ]
  },
  {
   "cell_type": "code",
   "execution_count": 51,
   "id": "9356f475",
   "metadata": {},
   "outputs": [],
   "source": [
    "# calculate relative metrics\n",
    "accuracy_scores_relative = dict()\n",
    "f1_scores_relative = dict()\n",
    "\n",
    "for name in accuracy_scores_best.keys():\n",
    "    accuracy_scores_relative[name] = accuracy_scores_best[name]/accuracy_scores_ootb[name]\n",
    "    f1_scores_relative[name] = f1_scores_best[name]/f1_scores_ootb[name]    "
   ]
  },
  {
   "cell_type": "markdown",
   "id": "5162fa57",
   "metadata": {},
   "source": [
    "**Αποτελέσματα με μορφή Πίνακα**"
   ]
  },
  {
   "cell_type": "markdown",
   "id": "dc2d3a4c",
   "metadata": {},
   "source": [
    "Παρουσιάζουμε τις επιδόσεις των βέλτιστων ταξινομητών κάθε είδους. Η στήλη `Relative Accuracy` περιλαμβάνει τον λόγo του βέλτιστου Accuracy προς το out-of-the-box Accuracy. Το αντίστοιχο ισχύει για την στήλη `Relative F1-score`."
   ]
  },
  {
   "cell_type": "code",
   "execution_count": 52,
   "id": "dbd822d7",
   "metadata": {},
   "outputs": [
    {
     "data": {
      "text/markdown": [
       "\n",
       "| Classifier | Accuracy | Relative Accuracy | Train Time (s) | Test Time (s) |\n",
       "| :-: | :-: | :-: | :-: | :-: |\n",
       "|gnb|0.746|0.979002624671916|0.03340935707092285|0.004111528396606445|\n",
       "|knn|0.873|1.0994962216624684|0.024643659591674805|0.03696560859680176|\n",
       "|logisticRegression|0.73|0.9383033419023136|0.053275346755981445|0.0011401176452636719|\n"
      ],
      "text/plain": [
       "<IPython.core.display.Markdown object>"
      ]
     },
     "metadata": {},
     "output_type": "display_data"
    }
   ],
   "source": [
    "from IPython.display import display, Markdown, Latex\n",
    "\n",
    "disp = \"\"\"\n",
    "| Classifier | Accuracy | Relative Accuracy | Train Time (s) | Test Time (s) |\n",
    "| :-: | :-: | :-: | :-: | :-: |\n",
    "\"\"\"\n",
    "\n",
    "for name in f1_scores_best.keys():\n",
    "    disp += \"|\"+name+\"|\"+str(accuracy_scores_best[name])+\"|\"+str(accuracy_scores_relative[name])+\\\n",
    "    \"|\"+str(accuracy_train_time[name])+\"|\"+str(accuracy_test_time[name])+\"|\\n\"\n",
    "\n",
    "display(Markdown(disp))"
   ]
  },
  {
   "cell_type": "code",
   "execution_count": 53,
   "id": "ee0f6ebe",
   "metadata": {},
   "outputs": [
    {
     "data": {
      "text/markdown": [
       "\n",
       "| Classifier | F1-score | Relative F1-score | Train Time (s) | Test Time (s) |\n",
       "| :-: | :-: | :-: | :-: | :-: |\n",
       "|gnb|0.778|1.0049166666666667|0.020415306091308594|0.0022110939025878906|\n",
       "|knn|0.87|0.97875|0.029726743698120117|0.035933732986450195|\n",
       "|logisticRegression|0.809|0.9956923076923078|0.0629737377166748|0.0014796257019042969|\n"
      ],
      "text/plain": [
       "<IPython.core.display.Markdown object>"
      ]
     },
     "metadata": {},
     "output_type": "display_data"
    }
   ],
   "source": [
    "from IPython.display import display, Markdown, Latex\n",
    "disp = \"\"\"\n",
    "| Classifier | F1-score | Relative F1-score | Train Time (s) | Test Time (s) |\n",
    "| :-: | :-: | :-: | :-: | :-: |\n",
    "\"\"\"\n",
    "\n",
    "for name in f1_scores_best.keys():\n",
    "    disp += \"|\"+name+\"|\"+str(f1_scores_best[name])+\"|\"+str(f1_scores_relative[name])+\\\n",
    "    \"|\"+str(f1_train_time[name])+\"|\"+str(f1_test_time[name])+\"|\\n\"\n",
    "\n",
    "display(Markdown(disp))\n"
   ]
  },
  {
   "cell_type": "markdown",
   "id": "bdf00fde",
   "metadata": {},
   "source": [
    "**Αποτελέσματα με μορφή Διαγράμματος**"
   ]
  },
  {
   "cell_type": "markdown",
   "id": "99d094b3",
   "metadata": {},
   "source": [
    "Παρουσιάζουμε τα αποτελέσματά μας για τους βέλτιστους ταξινομητές κάθε κατηγορίας σε μορφή bar-plots:"
   ]
  },
  {
   "cell_type": "code",
   "execution_count": 54,
   "id": "f75d9906",
   "metadata": {},
   "outputs": [],
   "source": [
    "# prapare to plot\n",
    "names, f1_best_axis, accuracy_best_axis, f1_relative_axis, accuracy_relative_axis = [], [], [], [], []\n",
    "\n",
    "for name in accuracy_scores_best.keys():\n",
    "    names.append(name)\n",
    "    f1_best_axis.append(f1_scores_best[name])\n",
    "    accuracy_best_axis.append(accuracy_scores_best[name])\n",
    "    f1_relative_axis.append(f1_scores_relative[name])\n",
    "    accuracy_relative_axis.append(accuracy_scores_relative[name])\n",
    "    "
   ]
  },
  {
   "cell_type": "code",
   "execution_count": 55,
   "id": "767770ca",
   "metadata": {},
   "outputs": [
    {
     "data": {
      "image/png": "[encoded data removed]",
      "text/plain": [
       "<Figure size 1080x648 with 2 Axes>"
      ]
     },
     "metadata": {
      "needs_background": "light"
     },
     "output_type": "display_data"
    }
   ],
   "source": [
    "# plot f1 scores\n",
    "plotBarChartDoubleAxes(names, [f1_best_axis, f1_relative_axis], ['goldenrod','lightgreen'],\\\n",
    "            ['F1-score','Relative F1-score'],\\\n",
    "             'F1-score & Relative F1-score', 'Classifier', ['F1-score','Relative F1-score'])"
   ]
  },
  {
   "cell_type": "code",
   "execution_count": 56,
   "id": "156a5ffb",
   "metadata": {},
   "outputs": [
    {
     "data": {
      "image/png": "[encoded data removed]",
      "text/plain": [
       "<Figure size 1080x648 with 2 Axes>"
      ]
     },
     "metadata": {
      "needs_background": "light"
     },
     "output_type": "display_data"
    }
   ],
   "source": [
    "# plot accuracy\n",
    "plotBarChartDoubleAxes(names, [accuracy_best_axis, accuracy_relative_axis], ['slateblue','violet'],\\\n",
    "            ['Accuracy','Relative Accuracy'],\\\n",
    "             'Accuracy & Relative Accuracy', 'Classifier', ['Accuracy','Relative Accuracy'])\n"
   ]
  },
  {
   "cell_type": "markdown",
   "id": "14a5c76b",
   "metadata": {},
   "source": [
    "**Σχολιασμός**"
   ]
  },
  {
   "cell_type": "markdown",
   "id": "d23e9258",
   "metadata": {},
   "source": []
  },
  {
   "cell_type": "markdown",
   "id": "ccf597d9",
   "metadata": {},
   "source": [
    "**Εκτύπωση Confusion Matrices**"
   ]
  },
  {
   "cell_type": "code",
   "execution_count": 57,
   "id": "162bba46",
   "metadata": {},
   "outputs": [],
   "source": [
    "import seaborn as sns"
   ]
  },
  {
   "cell_type": "markdown",
   "id": "217f6f4d",
   "metadata": {},
   "source": [
    "**_Confusion Matrix του Ταξινομητή με την Χειρότερη Ορθότητα:_**"
   ]
  },
  {
   "cell_type": "code",
   "execution_count": 58,
   "id": "cdcfca8f",
   "metadata": {},
   "outputs": [
    {
     "name": "stdout",
     "output_type": "stream",
     "text": [
      "logisticRegression\n",
      "AxesSubplot(0.125,0.125;0.62x0.755)\n"
     ]
    },
    {
     "data": {
      "image/png": "[encoded data removed]",
      "text/plain": [
       "<Figure size 432x288 with 2 Axes>"
      ]
     },
     "metadata": {
      "needs_background": "light"
     },
     "output_type": "display_data"
    }
   ],
   "source": [
    "ind = list(accuracy_scores_best.values()).index(min(list(accuracy_scores_best.values())))\n",
    "name = list(accuracy_scores_best.keys())[ind]\n",
    "print(name)\n",
    "\n",
    "print(sns.heatmap(cnf_matrices[name]/np.sum(cnf_matrices[name]), annot=True, fmt='.2%', cmap='Oranges'))"
   ]
  },
  {
   "cell_type": "markdown",
   "id": "e61d6d8f",
   "metadata": {},
   "source": [
    "**_Confusion Matrix του Ταξινομητή με την Καλύτερη Ορθότητα:_**"
   ]
  },
  {
   "cell_type": "code",
   "execution_count": 59,
   "id": "4bf11954",
   "metadata": {},
   "outputs": [
    {
     "name": "stdout",
     "output_type": "stream",
     "text": [
      "knn\n",
      "AxesSubplot(0.125,0.125;0.62x0.755)\n"
     ]
    },
    {
     "data": {
      "image/png": "[encoded data removed]",
      "text/plain": [
       "<Figure size 432x288 with 2 Axes>"
      ]
     },
     "metadata": {
      "needs_background": "light"
     },
     "output_type": "display_data"
    }
   ],
   "source": [
    "ind = list(accuracy_scores_best.values()).index(max(list(accuracy_scores_best.values())))\n",
    "name = list(accuracy_scores_best.keys())[ind]\n",
    "print(name)\n",
    "\n",
    "print(sns.heatmap(cnf_matrices[name]/np.sum(cnf_matrices[name]), annot=True, fmt='.2%', cmap='Greens'))"
   ]
  },
  {
   "cell_type": "code",
   "execution_count": null,
   "id": "f268e20b",
   "metadata": {},
   "outputs": [],
   "source": []
  }
 ],
 "metadata": {
  "kernelspec": {
   "display_name": "Python 3",
   "language": "python",
   "name": "python3"
  },
  "language_info": {
   "codemirror_mode": {
    "name": "ipython",
    "version": 3
   },
   "file_extension": ".py",
   "mimetype": "text/x-python",
   "name": "python",
   "nbconvert_exporter": "python",
   "pygments_lexer": "ipython3",
   "version": "3.8.10"
  }
 },
 "nbformat": 4,
 "nbformat_minor": 5
}
