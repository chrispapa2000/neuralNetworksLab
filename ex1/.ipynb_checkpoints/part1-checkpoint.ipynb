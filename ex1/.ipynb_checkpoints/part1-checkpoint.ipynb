{
 "cells": [
  {
   "cell_type": "markdown",
   "id": "d6b0b0ce",
   "metadata": {},
   "source": [
    "### Ομάδα 70: \n",
    "#### Χρήστος Παπαδημητρίου, el18017\n",
    "#### Βαρθολομαίος Βαμβακάρης, el18072\n",
    "#### Ζαχαρίας-Παύλος Αναστασιάδης, el18161"
   ]
  },
  {
   "cell_type": "markdown",
   "id": "435bd4ca",
   "metadata": {},
   "source": [
    "# Dataset : Connectionist Bench (Sonar, Mimes vs. Rocks)"
   ]
  },
  {
   "cell_type": "code",
   "execution_count": 1,
   "id": "7db88159",
   "metadata": {
    "scrolled": true
   },
   "outputs": [
    {
     "name": "stdout",
     "output_type": "stream",
     "text": [
      "Defaulting to user installation because normal site-packages is not writeable\n",
      "Requirement already satisfied: pip in /home/chris/.local/lib/python3.8/site-packages (22.3.1)\n",
      "Defaulting to user installation because normal site-packages is not writeable\n",
      "Requirement already satisfied: scikit-learn in /home/chris/.local/lib/python3.8/site-packages (1.1.3)\n",
      "Requirement already satisfied: joblib>=1.0.0 in /home/chris/.local/lib/python3.8/site-packages (from scikit-learn) (1.1.0)\n",
      "Requirement already satisfied: threadpoolctl>=2.0.0 in /home/chris/.local/lib/python3.8/site-packages (from scikit-learn) (3.1.0)\n",
      "Requirement already satisfied: scipy>=1.3.2 in /home/chris/.local/lib/python3.8/site-packages (from scikit-learn) (1.9.3)\n",
      "Requirement already satisfied: numpy>=1.17.3 in /home/chris/.local/lib/python3.8/site-packages (from scikit-learn) (1.23.4)\n",
      "Defaulting to user installation because normal site-packages is not writeable\n",
      "Requirement already satisfied: numpy in /home/chris/.local/lib/python3.8/site-packages (1.23.4)\n",
      "Defaulting to user installation because normal site-packages is not writeable\n",
      "Requirement already satisfied: matplotlib in /home/chris/.local/lib/python3.8/site-packages (3.6.2)\n",
      "Requirement already satisfied: pillow>=6.2.0 in /usr/lib/python3/dist-packages (from matplotlib) (7.0.0)\n",
      "Requirement already satisfied: python-dateutil>=2.7 in /home/chris/.local/lib/python3.8/site-packages (from matplotlib) (2.8.2)\n",
      "Requirement already satisfied: kiwisolver>=1.0.1 in /home/chris/.local/lib/python3.8/site-packages (from matplotlib) (1.4.2)\n",
      "Requirement already satisfied: contourpy>=1.0.1 in /home/chris/.local/lib/python3.8/site-packages (from matplotlib) (1.0.5)\n",
      "Requirement already satisfied: numpy>=1.19 in /home/chris/.local/lib/python3.8/site-packages (from matplotlib) (1.23.4)\n",
      "Requirement already satisfied: pyparsing>=2.2.1 in /home/chris/.local/lib/python3.8/site-packages (from matplotlib) (3.0.7)\n",
      "Requirement already satisfied: cycler>=0.10 in /home/chris/.local/lib/python3.8/site-packages (from matplotlib) (0.11.0)\n",
      "Requirement already satisfied: fonttools>=4.22.0 in /home/chris/.local/lib/python3.8/site-packages (from matplotlib) (4.31.2)\n",
      "Requirement already satisfied: packaging>=20.0 in /home/chris/.local/lib/python3.8/site-packages (from matplotlib) (21.3)\n",
      "Requirement already satisfied: six>=1.5 in /usr/lib/python3/dist-packages (from python-dateutil>=2.7->matplotlib) (1.14.0)\n"
     ]
    }
   ],
   "source": [
    "!pip install --upgrade pip #upgrade pip package installer\n",
    "!pip install scikit-learn --upgrade #upgrade scikit-learn package\n",
    "!pip install numpy --upgrade #upgrade numpy package\n",
    "!pip install --upgrade matplotlib # Κάνουμε update την matplotlib"
   ]
  },
  {
   "cell_type": "markdown",
   "id": "919b5b15",
   "metadata": {},
   "source": [
    "## Εισαγωγή & Επισκόπηση"
   ]
  },
  {
   "cell_type": "code",
   "execution_count": 2,
   "id": "7bf56a4b",
   "metadata": {},
   "outputs": [
    {
     "data": {
      "text/html": [
       "<div>\n",
       "<style scoped>\n",
       "    .dataframe tbody tr th:only-of-type {\n",
       "        vertical-align: middle;\n",
       "    }\n",
       "\n",
       "    .dataframe tbody tr th {\n",
       "        vertical-align: top;\n",
       "    }\n",
       "\n",
       "    .dataframe thead th {\n",
       "        text-align: right;\n",
       "    }\n",
       "</style>\n",
       "<table border=\"1\" class=\"dataframe\">\n",
       "  <thead>\n",
       "    <tr style=\"text-align: right;\">\n",
       "      <th></th>\n",
       "      <th>0</th>\n",
       "      <th>1</th>\n",
       "      <th>2</th>\n",
       "      <th>3</th>\n",
       "      <th>4</th>\n",
       "      <th>5</th>\n",
       "      <th>6</th>\n",
       "      <th>7</th>\n",
       "      <th>8</th>\n",
       "      <th>9</th>\n",
       "      <th>...</th>\n",
       "      <th>51</th>\n",
       "      <th>52</th>\n",
       "      <th>53</th>\n",
       "      <th>54</th>\n",
       "      <th>55</th>\n",
       "      <th>56</th>\n",
       "      <th>57</th>\n",
       "      <th>58</th>\n",
       "      <th>59</th>\n",
       "      <th>60</th>\n",
       "    </tr>\n",
       "  </thead>\n",
       "  <tbody>\n",
       "    <tr>\n",
       "      <th>0</th>\n",
       "      <td>0.0200</td>\n",
       "      <td>0.0371</td>\n",
       "      <td>0.0428</td>\n",
       "      <td>0.0207</td>\n",
       "      <td>0.0954</td>\n",
       "      <td>0.0986</td>\n",
       "      <td>0.1539</td>\n",
       "      <td>0.1601</td>\n",
       "      <td>0.3109</td>\n",
       "      <td>0.2111</td>\n",
       "      <td>...</td>\n",
       "      <td>0.0027</td>\n",
       "      <td>0.0065</td>\n",
       "      <td>0.0159</td>\n",
       "      <td>0.0072</td>\n",
       "      <td>0.0167</td>\n",
       "      <td>0.0180</td>\n",
       "      <td>0.0084</td>\n",
       "      <td>0.0090</td>\n",
       "      <td>0.0032</td>\n",
       "      <td>R</td>\n",
       "    </tr>\n",
       "    <tr>\n",
       "      <th>1</th>\n",
       "      <td>0.0453</td>\n",
       "      <td>0.0523</td>\n",
       "      <td>0.0843</td>\n",
       "      <td>0.0689</td>\n",
       "      <td>0.1183</td>\n",
       "      <td>0.2583</td>\n",
       "      <td>0.2156</td>\n",
       "      <td>0.3481</td>\n",
       "      <td>0.3337</td>\n",
       "      <td>0.2872</td>\n",
       "      <td>...</td>\n",
       "      <td>0.0084</td>\n",
       "      <td>0.0089</td>\n",
       "      <td>0.0048</td>\n",
       "      <td>0.0094</td>\n",
       "      <td>0.0191</td>\n",
       "      <td>0.0140</td>\n",
       "      <td>0.0049</td>\n",
       "      <td>0.0052</td>\n",
       "      <td>0.0044</td>\n",
       "      <td>R</td>\n",
       "    </tr>\n",
       "    <tr>\n",
       "      <th>2</th>\n",
       "      <td>0.0262</td>\n",
       "      <td>0.0582</td>\n",
       "      <td>0.1099</td>\n",
       "      <td>0.1083</td>\n",
       "      <td>0.0974</td>\n",
       "      <td>0.2280</td>\n",
       "      <td>0.2431</td>\n",
       "      <td>0.3771</td>\n",
       "      <td>0.5598</td>\n",
       "      <td>0.6194</td>\n",
       "      <td>...</td>\n",
       "      <td>0.0232</td>\n",
       "      <td>0.0166</td>\n",
       "      <td>0.0095</td>\n",
       "      <td>0.0180</td>\n",
       "      <td>0.0244</td>\n",
       "      <td>0.0316</td>\n",
       "      <td>0.0164</td>\n",
       "      <td>0.0095</td>\n",
       "      <td>0.0078</td>\n",
       "      <td>R</td>\n",
       "    </tr>\n",
       "    <tr>\n",
       "      <th>3</th>\n",
       "      <td>0.0100</td>\n",
       "      <td>0.0171</td>\n",
       "      <td>0.0623</td>\n",
       "      <td>0.0205</td>\n",
       "      <td>0.0205</td>\n",
       "      <td>0.0368</td>\n",
       "      <td>0.1098</td>\n",
       "      <td>0.1276</td>\n",
       "      <td>0.0598</td>\n",
       "      <td>0.1264</td>\n",
       "      <td>...</td>\n",
       "      <td>0.0121</td>\n",
       "      <td>0.0036</td>\n",
       "      <td>0.0150</td>\n",
       "      <td>0.0085</td>\n",
       "      <td>0.0073</td>\n",
       "      <td>0.0050</td>\n",
       "      <td>0.0044</td>\n",
       "      <td>0.0040</td>\n",
       "      <td>0.0117</td>\n",
       "      <td>R</td>\n",
       "    </tr>\n",
       "    <tr>\n",
       "      <th>4</th>\n",
       "      <td>0.0762</td>\n",
       "      <td>0.0666</td>\n",
       "      <td>0.0481</td>\n",
       "      <td>0.0394</td>\n",
       "      <td>0.0590</td>\n",
       "      <td>0.0649</td>\n",
       "      <td>0.1209</td>\n",
       "      <td>0.2467</td>\n",
       "      <td>0.3564</td>\n",
       "      <td>0.4459</td>\n",
       "      <td>...</td>\n",
       "      <td>0.0031</td>\n",
       "      <td>0.0054</td>\n",
       "      <td>0.0105</td>\n",
       "      <td>0.0110</td>\n",
       "      <td>0.0015</td>\n",
       "      <td>0.0072</td>\n",
       "      <td>0.0048</td>\n",
       "      <td>0.0107</td>\n",
       "      <td>0.0094</td>\n",
       "      <td>R</td>\n",
       "    </tr>\n",
       "    <tr>\n",
       "      <th>...</th>\n",
       "      <td>...</td>\n",
       "      <td>...</td>\n",
       "      <td>...</td>\n",
       "      <td>...</td>\n",
       "      <td>...</td>\n",
       "      <td>...</td>\n",
       "      <td>...</td>\n",
       "      <td>...</td>\n",
       "      <td>...</td>\n",
       "      <td>...</td>\n",
       "      <td>...</td>\n",
       "      <td>...</td>\n",
       "      <td>...</td>\n",
       "      <td>...</td>\n",
       "      <td>...</td>\n",
       "      <td>...</td>\n",
       "      <td>...</td>\n",
       "      <td>...</td>\n",
       "      <td>...</td>\n",
       "      <td>...</td>\n",
       "      <td>...</td>\n",
       "    </tr>\n",
       "    <tr>\n",
       "      <th>203</th>\n",
       "      <td>0.0187</td>\n",
       "      <td>0.0346</td>\n",
       "      <td>0.0168</td>\n",
       "      <td>0.0177</td>\n",
       "      <td>0.0393</td>\n",
       "      <td>0.1630</td>\n",
       "      <td>0.2028</td>\n",
       "      <td>0.1694</td>\n",
       "      <td>0.2328</td>\n",
       "      <td>0.2684</td>\n",
       "      <td>...</td>\n",
       "      <td>0.0116</td>\n",
       "      <td>0.0098</td>\n",
       "      <td>0.0199</td>\n",
       "      <td>0.0033</td>\n",
       "      <td>0.0101</td>\n",
       "      <td>0.0065</td>\n",
       "      <td>0.0115</td>\n",
       "      <td>0.0193</td>\n",
       "      <td>0.0157</td>\n",
       "      <td>M</td>\n",
       "    </tr>\n",
       "    <tr>\n",
       "      <th>204</th>\n",
       "      <td>0.0323</td>\n",
       "      <td>0.0101</td>\n",
       "      <td>0.0298</td>\n",
       "      <td>0.0564</td>\n",
       "      <td>0.0760</td>\n",
       "      <td>0.0958</td>\n",
       "      <td>0.0990</td>\n",
       "      <td>0.1018</td>\n",
       "      <td>0.1030</td>\n",
       "      <td>0.2154</td>\n",
       "      <td>...</td>\n",
       "      <td>0.0061</td>\n",
       "      <td>0.0093</td>\n",
       "      <td>0.0135</td>\n",
       "      <td>0.0063</td>\n",
       "      <td>0.0063</td>\n",
       "      <td>0.0034</td>\n",
       "      <td>0.0032</td>\n",
       "      <td>0.0062</td>\n",
       "      <td>0.0067</td>\n",
       "      <td>M</td>\n",
       "    </tr>\n",
       "    <tr>\n",
       "      <th>205</th>\n",
       "      <td>0.0522</td>\n",
       "      <td>0.0437</td>\n",
       "      <td>0.0180</td>\n",
       "      <td>0.0292</td>\n",
       "      <td>0.0351</td>\n",
       "      <td>0.1171</td>\n",
       "      <td>0.1257</td>\n",
       "      <td>0.1178</td>\n",
       "      <td>0.1258</td>\n",
       "      <td>0.2529</td>\n",
       "      <td>...</td>\n",
       "      <td>0.0160</td>\n",
       "      <td>0.0029</td>\n",
       "      <td>0.0051</td>\n",
       "      <td>0.0062</td>\n",
       "      <td>0.0089</td>\n",
       "      <td>0.0140</td>\n",
       "      <td>0.0138</td>\n",
       "      <td>0.0077</td>\n",
       "      <td>0.0031</td>\n",
       "      <td>M</td>\n",
       "    </tr>\n",
       "    <tr>\n",
       "      <th>206</th>\n",
       "      <td>0.0303</td>\n",
       "      <td>0.0353</td>\n",
       "      <td>0.0490</td>\n",
       "      <td>0.0608</td>\n",
       "      <td>0.0167</td>\n",
       "      <td>0.1354</td>\n",
       "      <td>0.1465</td>\n",
       "      <td>0.1123</td>\n",
       "      <td>0.1945</td>\n",
       "      <td>0.2354</td>\n",
       "      <td>...</td>\n",
       "      <td>0.0086</td>\n",
       "      <td>0.0046</td>\n",
       "      <td>0.0126</td>\n",
       "      <td>0.0036</td>\n",
       "      <td>0.0035</td>\n",
       "      <td>0.0034</td>\n",
       "      <td>0.0079</td>\n",
       "      <td>0.0036</td>\n",
       "      <td>0.0048</td>\n",
       "      <td>M</td>\n",
       "    </tr>\n",
       "    <tr>\n",
       "      <th>207</th>\n",
       "      <td>0.0260</td>\n",
       "      <td>0.0363</td>\n",
       "      <td>0.0136</td>\n",
       "      <td>0.0272</td>\n",
       "      <td>0.0214</td>\n",
       "      <td>0.0338</td>\n",
       "      <td>0.0655</td>\n",
       "      <td>0.1400</td>\n",
       "      <td>0.1843</td>\n",
       "      <td>0.2354</td>\n",
       "      <td>...</td>\n",
       "      <td>0.0146</td>\n",
       "      <td>0.0129</td>\n",
       "      <td>0.0047</td>\n",
       "      <td>0.0039</td>\n",
       "      <td>0.0061</td>\n",
       "      <td>0.0040</td>\n",
       "      <td>0.0036</td>\n",
       "      <td>0.0061</td>\n",
       "      <td>0.0115</td>\n",
       "      <td>M</td>\n",
       "    </tr>\n",
       "  </tbody>\n",
       "</table>\n",
       "<p>208 rows × 61 columns</p>\n",
       "</div>"
      ],
      "text/plain": [
       "         0       1       2       3       4       5       6       7       8   \\\n",
       "0    0.0200  0.0371  0.0428  0.0207  0.0954  0.0986  0.1539  0.1601  0.3109   \n",
       "1    0.0453  0.0523  0.0843  0.0689  0.1183  0.2583  0.2156  0.3481  0.3337   \n",
       "2    0.0262  0.0582  0.1099  0.1083  0.0974  0.2280  0.2431  0.3771  0.5598   \n",
       "3    0.0100  0.0171  0.0623  0.0205  0.0205  0.0368  0.1098  0.1276  0.0598   \n",
       "4    0.0762  0.0666  0.0481  0.0394  0.0590  0.0649  0.1209  0.2467  0.3564   \n",
       "..      ...     ...     ...     ...     ...     ...     ...     ...     ...   \n",
       "203  0.0187  0.0346  0.0168  0.0177  0.0393  0.1630  0.2028  0.1694  0.2328   \n",
       "204  0.0323  0.0101  0.0298  0.0564  0.0760  0.0958  0.0990  0.1018  0.1030   \n",
       "205  0.0522  0.0437  0.0180  0.0292  0.0351  0.1171  0.1257  0.1178  0.1258   \n",
       "206  0.0303  0.0353  0.0490  0.0608  0.0167  0.1354  0.1465  0.1123  0.1945   \n",
       "207  0.0260  0.0363  0.0136  0.0272  0.0214  0.0338  0.0655  0.1400  0.1843   \n",
       "\n",
       "         9   ...      51      52      53      54      55      56      57  \\\n",
       "0    0.2111  ...  0.0027  0.0065  0.0159  0.0072  0.0167  0.0180  0.0084   \n",
       "1    0.2872  ...  0.0084  0.0089  0.0048  0.0094  0.0191  0.0140  0.0049   \n",
       "2    0.6194  ...  0.0232  0.0166  0.0095  0.0180  0.0244  0.0316  0.0164   \n",
       "3    0.1264  ...  0.0121  0.0036  0.0150  0.0085  0.0073  0.0050  0.0044   \n",
       "4    0.4459  ...  0.0031  0.0054  0.0105  0.0110  0.0015  0.0072  0.0048   \n",
       "..      ...  ...     ...     ...     ...     ...     ...     ...     ...   \n",
       "203  0.2684  ...  0.0116  0.0098  0.0199  0.0033  0.0101  0.0065  0.0115   \n",
       "204  0.2154  ...  0.0061  0.0093  0.0135  0.0063  0.0063  0.0034  0.0032   \n",
       "205  0.2529  ...  0.0160  0.0029  0.0051  0.0062  0.0089  0.0140  0.0138   \n",
       "206  0.2354  ...  0.0086  0.0046  0.0126  0.0036  0.0035  0.0034  0.0079   \n",
       "207  0.2354  ...  0.0146  0.0129  0.0047  0.0039  0.0061  0.0040  0.0036   \n",
       "\n",
       "         58      59  60  \n",
       "0    0.0090  0.0032   R  \n",
       "1    0.0052  0.0044   R  \n",
       "2    0.0095  0.0078   R  \n",
       "3    0.0040  0.0117   R  \n",
       "4    0.0107  0.0094   R  \n",
       "..      ...     ...  ..  \n",
       "203  0.0193  0.0157   M  \n",
       "204  0.0062  0.0067   M  \n",
       "205  0.0077  0.0031   M  \n",
       "206  0.0036  0.0048   M  \n",
       "207  0.0061  0.0115   M  \n",
       "\n",
       "[208 rows x 61 columns]"
      ]
     },
     "execution_count": 2,
     "metadata": {},
     "output_type": "execute_result"
    }
   ],
   "source": [
    "import pandas as pd\n",
    "\n",
    "df = pd.read_csv('sonar.all-data', header=None)\n",
    "df"
   ]
  },
  {
   "cell_type": "code",
   "execution_count": 3,
   "id": "58403772",
   "metadata": {},
   "outputs": [
    {
     "name": "stdout",
     "output_type": "stream",
     "text": [
      "There are no missing data in the Dataset\n"
     ]
    }
   ],
   "source": [
    "# check if we have any missing values\n",
    "\n",
    "isNullArray, nullValsPresent = df.isnull(), False\n",
    "\n",
    "for numCol in isNullArray:\n",
    "    if True in isNullArray[numCol]:\n",
    "        print(\"Missing Values in column: \" + str(col))\n",
    "        flag = True\n",
    "\n",
    "if not nullValsPresent:\n",
    "    print(\"There are no missing data in the Dataset\")"
   ]
  },
  {
   "cell_type": "markdown",
   "id": "ec934cfa",
   "metadata": {},
   "source": [
    "#### Σύντομη Παρουσίαση του Dataset\n",
    "Το παραπάνω Dataset περιλαμβάνει 208 δείγματα που αντιστοιχούν σε patterns συχνοτήτων. Αυτά τα patterns έχουν προκύψει από την αντανάκλαση σημάτων Sonar σε μεταλλικούς κυλίνδρους και σε πετρώματα. Συγκεκριμένα τα σήματα Sonar που χρησιμοποιήθηκαν είναι \"Chirps\" αυξανόμενης συχνότητας. Το Dataset περιλαμβάνει αποτελέσματα εκπομπής Sonar από ποικίλες γωνίες (aspect angles), μεχρί 90$^{o}$ για τους μεταλλικούς κυλίνδρους και μέχρι 180$^{o}$ για τα πετρώματα. \n",
    "\n",
    "Κάθε pattern περιγράφεται από 60 αριθμούς μεταξύ 0.0 και 1.0. Καθένας από αυτούς τους αριθμούς αντιστοιχεί στο ολοκλήρωμα της ενέργειας μιας συγκεκριμένης μπάντας συχνοτήτων για μια περίοδο στον χρόνο. \n",
    "\n",
    "Τα labels που συναντάμε στο dataset είναι 'R' για τα πετρώματα (Rocks) και 'Μ' για τους μεταλλικούς κυλίνδρους (Metal cylinder). "
   ]
  },
  {
   "cell_type": "markdown",
   "id": "75844bad",
   "metadata": {},
   "source": [
    "Σημειώνεται ότι **δεν** χρειάστηκε να γίνουν μετατροπές στο αρχείο 'sonar.all-data' πριν την εισαγωγή του στο Notebook"
   ]
  },
  {
   "cell_type": "markdown",
   "id": "4cf25b89",
   "metadata": {},
   "source": [
    "#### Ακολουθούν κάποιες επιπλέον πληροφορίες για το Dataset:\n",
    "* Το Dataset περιλαμβάνει 208 δείγματα. Κάθε δείγμα έχει 60 χαρακτηριστηκά. Το καθένα από αυτά είναι μία τιμή μεταξύ 0.0 και 1.1 (Το ολοκλήρωμα της ενέργειας που αναφέραμε παραπάνω) \n",
    "* Δεν υπάρχουν επικεφαλίδες, ούτε αρίθμηση γραμμών\n",
    "* Οι ετικέτες των κλάσεων παίρνουν τιμές 'R' και 'Μ', όπως αναφέραμε παραπάνω. Βρίσκονται στην 61$^{η}$ κολόνα (index 60).\n",
    "* Δεν υπάρχουν δείγματα με απουσιάζουσες τιμές\n",
    "* Η κλαση R έχει 97 δείγματα (ποσοστό: 46.6%), ενώ η κλάση M έχει 111 δείγματα (ποσοστό: 53.4%). Σύμφωνα με το όριο 60%-40% πρόκειται για ισορροπημένο Dataset."
   ]
  },
  {
   "cell_type": "markdown",
   "id": "71d2f60f",
   "metadata": {},
   "source": [
    "## Προετοιμασία"
   ]
  },
  {
   "cell_type": "code",
   "execution_count": 4,
   "id": "b112887b",
   "metadata": {},
   "outputs": [
    {
     "name": "stdout",
     "output_type": "stream",
     "text": [
      "(208, 1)\n",
      "(208, 60)\n"
     ]
    }
   ],
   "source": [
    "# split the dataframe into features matrix and labels column\n",
    "features_df, labels_df = df.iloc[:,0:60], df.iloc[:,[60]]\n",
    "print(labels_df.shape)\n",
    "print(features_df.shape)"
   ]
  },
  {
   "cell_type": "code",
   "execution_count": 5,
   "id": "6f8471c7",
   "metadata": {},
   "outputs": [
    {
     "data": {
      "text/plain": [
       "array([[0.02  , 0.0371, 0.0428, ..., 0.0084, 0.009 , 0.0032],\n",
       "       [0.0453, 0.0523, 0.0843, ..., 0.0049, 0.0052, 0.0044],\n",
       "       [0.0262, 0.0582, 0.1099, ..., 0.0164, 0.0095, 0.0078],\n",
       "       ...,\n",
       "       [0.0522, 0.0437, 0.018 , ..., 0.0138, 0.0077, 0.0031],\n",
       "       [0.0303, 0.0353, 0.049 , ..., 0.0079, 0.0036, 0.0048],\n",
       "       [0.026 , 0.0363, 0.0136, ..., 0.0036, 0.0061, 0.0115]])"
      ]
     },
     "execution_count": 5,
     "metadata": {},
     "output_type": "execute_result"
    }
   ],
   "source": [
    "# turn features into a numpy array\n",
    "features_np = features_df.values\n",
    "features_np"
   ]
  },
  {
   "cell_type": "code",
   "execution_count": 6,
   "id": "956a692f",
   "metadata": {},
   "outputs": [
    {
     "data": {
      "text/plain": [
       "array([0, 0, 0, 0, 0, 0, 0, 0, 0, 0, 0, 0, 0, 0, 0, 0, 0, 0, 0, 0, 0, 0,\n",
       "       0, 0, 0, 0, 0, 0, 0, 0, 0, 0, 0, 0, 0, 0, 0, 0, 0, 0, 0, 0, 0, 0,\n",
       "       0, 0, 0, 0, 0, 0, 0, 0, 0, 0, 0, 0, 0, 0, 0, 0, 0, 0, 0, 0, 0, 0,\n",
       "       0, 0, 0, 0, 0, 0, 0, 0, 0, 0, 0, 0, 0, 0, 0, 0, 0, 0, 0, 0, 0, 0,\n",
       "       0, 0, 0, 0, 0, 0, 0, 0, 0, 1, 1, 1, 1, 1, 1, 1, 1, 1, 1, 1, 1, 1,\n",
       "       1, 1, 1, 1, 1, 1, 1, 1, 1, 1, 1, 1, 1, 1, 1, 1, 1, 1, 1, 1, 1, 1,\n",
       "       1, 1, 1, 1, 1, 1, 1, 1, 1, 1, 1, 1, 1, 1, 1, 1, 1, 1, 1, 1, 1, 1,\n",
       "       1, 1, 1, 1, 1, 1, 1, 1, 1, 1, 1, 1, 1, 1, 1, 1, 1, 1, 1, 1, 1, 1,\n",
       "       1, 1, 1, 1, 1, 1, 1, 1, 1, 1, 1, 1, 1, 1, 1, 1, 1, 1, 1, 1, 1, 1,\n",
       "       1, 1, 1, 1, 1, 1, 1, 1, 1, 1])"
      ]
     },
     "execution_count": 6,
     "metadata": {},
     "output_type": "execute_result"
    }
   ],
   "source": [
    "# replace (R,M) with (0,1) in labels \n",
    "\n",
    "labels_df = labels_df.replace({'R':0}).replace({'M':1})\n",
    "labels_np = labels_df.values.flatten()\n",
    "labels_np"
   ]
  },
  {
   "cell_type": "code",
   "execution_count": 7,
   "id": "ab51126c",
   "metadata": {},
   "outputs": [],
   "source": [
    "from sklearn.model_selection import train_test_split\n",
    "\n",
    "# split our data into training and testing data\n",
    "train, test, train_labels, test_labels = train_test_split(features_np, labels_np, test_size=0.30)"
   ]
  },
  {
   "cell_type": "markdown",
   "id": "3bd3a90f",
   "metadata": {},
   "source": [
    "## Ταξινόμηση"
   ]
  },
  {
   "cell_type": "code",
   "execution_count": 8,
   "id": "b97bfcec",
   "metadata": {},
   "outputs": [],
   "source": [
    "# import all classifiers \n",
    "from sklearn.dummy import DummyClassifier\n",
    "from sklearn.naive_bayes import GaussianNB\n",
    "from sklearn.neighbors import KNeighborsClassifier\n",
    "from sklearn.linear_model import LogisticRegression\n",
    "\n",
    "\n",
    "# import metrics\n",
    "from sklearn.metrics import accuracy_score\n",
    "from sklearn.metrics import precision_recall_fscore_support\n",
    "from sklearn.metrics import classification_report"
   ]
  },
  {
   "cell_type": "markdown",
   "id": "3c5db758",
   "metadata": {},
   "source": [
    "### Επίδοση Out-Of-the-Box"
   ]
  },
  {
   "cell_type": "code",
   "execution_count": 9,
   "id": "e512a7ce",
   "metadata": {},
   "outputs": [],
   "source": [
    "# Dummy Classifier\n",
    "\n",
    "dc_uniform = DummyClassifier(strategy=\"uniform\")\n",
    "dc_constant_0 = DummyClassifier(strategy=\"constant\", constant=0)\n",
    "dc_constant_1 = DummyClassifier(strategy=\"constant\", constant=1)\n",
    "dc_most_frequent = DummyClassifier(strategy=\"most_frequent\")\n",
    "dc_stratified = DummyClassifier(strategy=\"stratified\")\n",
    "\n",
    "accuracy_scores_ootb = dict()\n",
    "f1_scores_ootb = dict()\n",
    "dummy_classifiers = [(dc_uniform, 'dc uniform'), (dc_constant_0, 'dc constant 0'),\\\n",
    "                       (dc_constant_1, 'dc constant 1'), (dc_most_frequent, 'dc most frequent'),\\\n",
    "                       (dc_stratified, 'dc stratified')]\n",
    "\n",
    "for (classifier, name) in dummy_classifiers:\n",
    "    # train \n",
    "    model = classifier.fit(train, train_labels)\n",
    "    # predict for test data\n",
    "    preds = classifier.predict(test)\n",
    "    # calculate accuracy\n",
    "    accuracy_scores_ootb[name] = round(accuracy_score(test_labels, preds),3)\n",
    "    # calculate f1 scores\n",
    "    f1_scores_ootb[name] = round(precision_recall_fscore_support(test_labels, preds, average='macro', zero_division=1)[2],3)"
   ]
  },
  {
   "cell_type": "code",
   "execution_count": 10,
   "id": "83b88876",
   "metadata": {},
   "outputs": [],
   "source": [
    "# Gaussian Naive Bayes Classifier\n",
    "\n",
    "name = 'gnb'\n",
    "gnb = GaussianNB()\n",
    "#train\n",
    "model = gnb.fit(train, train_labels)\n",
    "# predict for test data\n",
    "preds = gnb.predict(test)\n",
    "# calculate accuracy\n",
    "accuracy_scores_ootb[name] = round(accuracy_score(test_labels, preds),3)\n",
    "# calculate f1 scores\n",
    "f1_scores_ootb[name] = round(precision_recall_fscore_support(test_labels, preds, average='macro', zero_division=1)[2],3)"
   ]
  },
  {
   "cell_type": "code",
   "execution_count": 11,
   "id": "1c9626a5",
   "metadata": {},
   "outputs": [],
   "source": [
    "# K-Nearest-Neighbours\n",
    "\n",
    "name = 'knn'\n",
    "knn = KNeighborsClassifier()\n",
    "# train\n",
    "knn.fit(train, train_labels)\n",
    "# predict for test data\n",
    "preds = knn.predict(test)\n",
    "# calculate accuracy\n",
    "accuracy_scores_ootb[name] = round(accuracy_score(test_labels, preds),3)\n",
    "# calculate f1 scores\n",
    "f1_scores_ootb[name] = round(precision_recall_fscore_support(test_labels, preds, average='macro', zero_division=1)[2],3)"
   ]
  },
  {
   "cell_type": "code",
   "execution_count": 12,
   "id": "1ed47332",
   "metadata": {},
   "outputs": [],
   "source": [
    "name = 'logisticRegression'\n",
    "logReg = LogisticRegression()\n",
    "\n",
    "# train\n",
    "logReg.fit(train, train_labels)\n",
    "# predict for test data\n",
    "preds = logReg.predict(test)\n",
    "# calculate accuracy\n",
    "accuracy_scores_ootb[name] = round(accuracy_score(test_labels, preds),3)\n",
    "# calculate f1 scores\n",
    "f1_scores_ootb[name] = round(precision_recall_fscore_support(test_labels, preds, average='macro', zero_division=1)[2],3)"
   ]
  },
  {
   "cell_type": "code",
   "execution_count": null,
   "id": "f40f70b3",
   "metadata": {},
   "outputs": [],
   "source": []
  },
  {
   "cell_type": "markdown",
   "id": "aa24e038",
   "metadata": {},
   "source": [
    "**Παρουσίαση Επίδοσης Out-of-the-Box:**"
   ]
  },
  {
   "cell_type": "code",
   "execution_count": 13,
   "id": "4f6ca171",
   "metadata": {},
   "outputs": [
    {
     "name": "stdout",
     "output_type": "stream",
     "text": [
      "Classifier: dc uniform->accuracy: 0.317, f1-score: 0.317\n",
      "\n",
      "Classifier: dc constant 0->accuracy: 0.524, f1-score: 0.344\n",
      "\n",
      "Classifier: dc constant 1->accuracy: 0.476, f1-score: 0.323\n",
      "\n",
      "Classifier: dc most frequent->accuracy: 0.476, f1-score: 0.323\n",
      "\n",
      "Classifier: dc stratified->accuracy: 0.46, f1-score: 0.454\n",
      "\n",
      "Classifier: gnb->accuracy: 0.714, f1-score: 0.708\n",
      "\n",
      "Classifier: knn->accuracy: 0.73, f1-score: 0.728\n",
      "\n",
      "Classifier: logisticRegression->accuracy: 0.762, f1-score: 0.762\n",
      "\n"
     ]
    }
   ],
   "source": [
    "# print results\n",
    "for name in accuracy_scores_ootb.keys():\n",
    "    print(\"Classifier: \" + name + \"->accuracy: \" + str(accuracy_scores_ootb[name]) + \\\n",
    "         \", f1-score: \" + str(f1_scores_ootb[name]))\n",
    "    print()    "
   ]
  },
  {
   "cell_type": "markdown",
   "id": "fc74e98e",
   "metadata": {},
   "source": [
    "| Classifier | Accuracy | F1-score |\n",
    "| :-: | :-: | :-: |\n",
    "| Dummy-Uniform | 0.42857142857142855 | 0.4284274193548387 |\n",
    "| Dummy-Constant-0 | 0.47619047619047616 | 0.3225806451612903 |\n",
    "| Dummy-Constant-1 | 0.5238095238095238 | 0.34375000000000006 |\n",
    "| Dummy-Most-Frequent | 0.5238095238095238 | 0.34375000000000006 |\n",
    "| Dummy-Stratified | 0.47619047619047616 | 0.471395881006865 |\n",
    "| Gaussian Naive Bayes | 0.6984126984126984 | 0.6971920060713381 |\n",
    "| K-Nearest-Neighbours | 0.8095238095238095 | 0.8055555555555555 "
   ]
  },
  {
   "cell_type": "code",
   "execution_count": 120,
   "id": "990fcf09",
   "metadata": {},
   "outputs": [],
   "source": [
    "import numpy as np\n",
    "import matplotlib.pyplot as plt\n",
    "\n",
    "# function to plot bar charts\n",
    "# def plotBarChart(x, ylist, cols, labs, tit, xlab, ylab):\n",
    "#     plt.clf()\n",
    "#     xaxis = np.arange(len(x))\n",
    "#     print(xaxis)\n",
    "\n",
    "#     # offsets of bar plots\n",
    "#     totalWidth = len(ylist)*0.2-0.2\n",
    "#     offset = [-(totalWidth/2)+i*0.2 for i in range(len(ylist))]\n",
    "#     fig, ax = plt.subplots(figsize=(15,8))\n",
    "#     print(ax.get_xticklabels())\n",
    "    \n",
    "#     for i in range(len(ylist)):\n",
    "#         fig = plt.bar(xaxis+offset[i], ylist[i], color=cols[i], label=labs[i], width=0.2)\n",
    "#         print(len(xaxis+offset[i]))\n",
    "#         print(ax.get_xticklabels())\n",
    "#         # correct the label names\n",
    "# #         labels = [item.get_text() for item in ax.get_xticklabels()]\n",
    "# #         for j in range(1,len(labels)-1):\n",
    "# #             labels[j] = x[j-1]\n",
    "#         ax.set_xticklabels(x)\n",
    "#     plt.legend()\n",
    "#     plt.xlabel(xlab)\n",
    "#     plt.ylabel(ylab)\n",
    "#     plt.title(tit)\n",
    "\n",
    "def plotBarChart(x, ylist, cols, labs, tit, xlab, ylab):\n",
    "    plt.clf()\n",
    "    xaxis = np.arange(len(x))\n",
    "\n",
    "    # offsets of bar plots\n",
    "    totalWidth = len(ylist)*0.2-0.2\n",
    "    offset = [-(totalWidth/2)+i*0.2 for i in range(len(ylist))]\n",
    "    fig, ax = plt.subplots(figsize=(15,8))\n",
    "    \n",
    "    for i in range(len(ylist)):\n",
    "        fig = plt.bar(xaxis+offset[i], ylist[i], color=cols[i], label=labs[i], width=0.2)\n",
    "\n",
    "    # correct the xticklabels\n",
    "    ax.set_xticks(xaxis)\n",
    "    ax.set_xticklabels(x)\n",
    "    \n",
    "    plt.legend()\n",
    "    plt.xlabel(xlab)\n",
    "    plt.ylabel(ylab)\n",
    "    plt.title(tit)"
   ]
  },
  {
   "cell_type": "code",
   "execution_count": 168,
   "id": "452d9eb6",
   "metadata": {},
   "outputs": [
    {
     "data": {
      "text/plain": [
       "<Figure size 432x288 with 0 Axes>"
      ]
     },
     "metadata": {},
     "output_type": "display_data"
    },
    {
     "data": {
      "image/png": "[encoded data removed]",
      "text/plain": [
       "<Figure size 1080x576 with 1 Axes>"
      ]
     },
     "metadata": {
      "needs_background": "light"
     },
     "output_type": "display_data"
    }
   ],
   "source": [
    "xaxis, yaxis = [], []\n",
    "for (key, val) in accuracy_scores_ootb.items():\n",
    "    xaxis.append(key)\n",
    "    yaxis.append(val)\n",
    "\n",
    "plotBarChart(xaxis, [yaxis], ['darkseagreen'], ['accuracy'],\\\n",
    "             'Accuracy scores per Classifier', 'Classifier', 'Accuracy Score')"
   ]
  },
  {
   "cell_type": "code",
   "execution_count": 103,
   "id": "51b44934",
   "metadata": {},
   "outputs": [
    {
     "data": {
      "text/plain": [
       "<Figure size 432x288 with 0 Axes>"
      ]
     },
     "metadata": {},
     "output_type": "display_data"
    },
    {
     "data": {
      "image/png": "[encoded data removed]",
      "text/plain": [
       "<Figure size 1080x576 with 1 Axes>"
      ]
     },
     "metadata": {
      "needs_background": "light"
     },
     "output_type": "display_data"
    }
   ],
   "source": [
    "xaxis, yaxis = [], []\n",
    "for (key, val) in f1_scores_ootb.items():\n",
    "    xaxis.append(key)\n",
    "    yaxis.append(val)\n",
    "\n",
    "plotBarChart(xaxis, [yaxis], ['teal'], ['F1-score'],\\\n",
    "             'F1-score per Classifier', 'Classifier', 'Accuracy Score')"
   ]
  },
  {
   "cell_type": "markdown",
   "id": "5d7a4512",
   "metadata": {},
   "source": [
    "### Βελτιστοποίηση"
   ]
  },
  {
   "cell_type": "markdown",
   "id": "34c0ecd8",
   "metadata": {},
   "source": [
    "**Προεπεξεργασία**"
   ]
  },
  {
   "cell_type": "markdown",
   "id": "f29012b2",
   "metadata": {},
   "source": [
    "Δεν υπαρχει κάποια επιπλέον ανάγκη για προεπεξεργασία:\n",
    "* Εχουμε ήδη ελέγξει για απουσιάζουσες τιμές. \n",
    "* Τα χαρακτηριστηκά είναι όλα αριθμητικά και διατεταγμένα (τιμές ενέργειας), οπότε δεν απαιτούν μετατροπή.\n",
    "* Τo Dataset δεν έχει μεγάλη διαστατικότητα (δύο διαστάσεις).\n",
    "* Τα χαρακτηριστικά είναι ουσιαστικά κανονικοποιημένα (κυμαίνονται όλα μεταξύ 0 και 1)."
   ]
  },
  {
   "cell_type": "markdown",
   "id": "dc809314",
   "metadata": {},
   "source": [
    "**Ορισμός Pipelines**"
   ]
  },
  {
   "cell_type": "code",
   "execution_count": 17,
   "id": "103820ff",
   "metadata": {},
   "outputs": [
    {
     "name": "stdout",
     "output_type": "stream",
     "text": [
      "Defaulting to user installation because normal site-packages is not writeable\n",
      "Requirement already satisfied: imbalanced-learn in /home/chris/.local/lib/python3.8/site-packages (0.9.1)\n",
      "Requirement already satisfied: joblib>=1.0.0 in /home/chris/.local/lib/python3.8/site-packages (from imbalanced-learn) (1.1.0)\n",
      "Requirement already satisfied: threadpoolctl>=2.0.0 in /home/chris/.local/lib/python3.8/site-packages (from imbalanced-learn) (3.1.0)\n",
      "Requirement already satisfied: scipy>=1.3.2 in /home/chris/.local/lib/python3.8/site-packages (from imbalanced-learn) (1.9.3)\n",
      "Requirement already satisfied: scikit-learn>=1.1.0 in /home/chris/.local/lib/python3.8/site-packages (from imbalanced-learn) (1.1.3)\n",
      "Requirement already satisfied: numpy>=1.17.3 in /home/chris/.local/lib/python3.8/site-packages (from imbalanced-learn) (1.23.4)\n"
     ]
    }
   ],
   "source": [
    "!pip install --upgrade imbalanced-learn"
   ]
  },
  {
   "cell_type": "code",
   "execution_count": 18,
   "id": "ade98dbc",
   "metadata": {},
   "outputs": [],
   "source": [
    "from imblearn.pipeline import Pipeline\n",
    "\n",
    "from sklearn.feature_selection import VarianceThreshold\n",
    "from sklearn.preprocessing import StandardScaler \n",
    "from imblearn.over_sampling import RandomOverSampler\n",
    "from sklearn.decomposition import PCA\n",
    "from sklearn import preprocessing\n",
    "from sklearn.model_selection import GridSearchCV"
   ]
  },
  {
   "cell_type": "code",
   "execution_count": 19,
   "id": "b24318e2",
   "metadata": {},
   "outputs": [],
   "source": [
    "# selector = VarianceThreshold()\n",
    "# scaler = StandardScaler()\n",
    "# # min_max_scaler = preprocessing.MinMaxScaler()\n",
    "# ros = RandomOverSampler()\n",
    "# pca = PCA()\n",
    "# clf = KNeighborsClassifier(n_jobs=-1) # η παράμετρος n_jobs = 1 χρησιμοποιεί όλους τους πυρήνες του υπολογιστή\n",
    "# pipe = Pipeline(steps=[('selector', selector), ('scaler', scaler), ('sampler', ros), ('pca', pca), ('kNN', clf)])"
   ]
  },
  {
   "cell_type": "code",
   "execution_count": 20,
   "id": "59a6ba97",
   "metadata": {},
   "outputs": [
    {
     "data": {
      "text/plain": [
       "0.07109661447514866"
      ]
     },
     "execution_count": 20,
     "metadata": {},
     "output_type": "execute_result"
    }
   ],
   "source": [
    "train_variance = train.var(axis=0)\n",
    "# print(train_variance)\n",
    "# print(np.max(train_variance))\n",
    "\n",
    "# maximum variance\n",
    "max_variance = np.max(train_variance)\n",
    "max_variance"
   ]
  },
  {
   "cell_type": "code",
   "execution_count": 21,
   "id": "1e231ba5",
   "metadata": {},
   "outputs": [],
   "source": [
    "# # import grid search cv \n",
    "# from sklearn.model_selection import GridSearchCV\n",
    "\n",
    "# # variance thresholds\n",
    "# # vthresholds = [0, max_variance/110000, max_variance/101000, max_variance/100100, max_variance/100000, max_variance/(100000-100),max_variance/(100000-1000),max_variance/(100000-10000) ]\n",
    "# vthresholds = [max_variance/num for num in range(100000+10000, 100000-10000, -100)]\n",
    "# print(len(vthresholds))\n",
    "\n",
    "# # number of components for pca \n",
    "# n_components = [7,8,9,10,11,12]\n",
    "# # number of neighbours for k_neighbours\n",
    "# k = [1,2,3,4,5]"
   ]
  },
  {
   "cell_type": "markdown",
   "id": "c381e705",
   "metadata": {},
   "source": [
    "**Εύρεση Βέλτιστων Υπερπαραμέτρων**\n",
    "**(Διασταυρούμενη Επικύρωση σε Αναζήτηση Πλέγματος)**"
   ]
  },
  {
   "cell_type": "code",
   "execution_count": 22,
   "id": "31f39ef8",
   "metadata": {},
   "outputs": [],
   "source": [
    "accuracy_scores_best = dict()\n",
    "f1_scores_best = dict()"
   ]
  },
  {
   "cell_type": "markdown",
   "id": "69beb903",
   "metadata": {},
   "source": [
    "#### *Dummy*"
   ]
  },
  {
   "cell_type": "code",
   "execution_count": 23,
   "id": "4182cc9a",
   "metadata": {},
   "outputs": [],
   "source": [
    "# selector = VarianceThreshold()\n",
    "# # scaler = StandardScaler()\n",
    "# scaler = preprocessing.MinMaxScaler()\n",
    "# ros = RandomOverSampler()\n",
    "# pca = PCA()\n",
    "# clf = DummyClassifier(strategy='uniform') \n",
    "# pipe = Pipeline(steps=[('selector', selector), ('scaler', scaler), ('sampler', ros), ('pca', pca), ('dummy', clf)])"
   ]
  },
  {
   "cell_type": "code",
   "execution_count": 24,
   "id": "06eb3537",
   "metadata": {},
   "outputs": [],
   "source": [
    "# # variance thresholds\n",
    "# vthresholds = [0, max_variance/110000, max_variance/101000, max_variance/100100, max_variance/100000, max_variance/(100000-100),max_variance/(100000-1000),max_variance/(100000-10000) ]\n",
    "# # vthresholds = [max_variance/num for num in range(100000+10000, 100000-10000, -100)]\n",
    "# vthresholds = [0, max_variance/1000000, max_variance/100000,max_variance/10000,max_variance/1000]\n",
    "\n",
    "# # print(len(vthresholds))\n",
    "\n",
    "# # number of components for pca \n",
    "# n_components = [7,8,9,10,11,12]"
   ]
  },
  {
   "cell_type": "code",
   "execution_count": 25,
   "id": "01292c77",
   "metadata": {},
   "outputs": [],
   "source": [
    "# estimator = GridSearchCV(pipe, dict(selector__threshold=vthresholds, pca__n_components=n_components), cv=10, scoring='f1_macro', n_jobs=-1)"
   ]
  },
  {
   "cell_type": "code",
   "execution_count": 26,
   "id": "77db966e",
   "metadata": {},
   "outputs": [],
   "source": [
    "# import time\n",
    "# start_time = time.time()\n",
    "# estimator.fit(train, train_labels)\n",
    "# preds = estimator.predict(test)\n",
    "# print(\"Total time to fit & predict: %s seconds\" % (time.time() - start_time))\n",
    "# print(classification_report(test_labels, preds))"
   ]
  },
  {
   "cell_type": "code",
   "execution_count": 27,
   "id": "6a751a54",
   "metadata": {},
   "outputs": [],
   "source": [
    "# print(estimator.best_estimator_)\n",
    "# print(estimator.best_params_)"
   ]
  },
  {
   "cell_type": "markdown",
   "id": "aae8c826",
   "metadata": {},
   "source": [
    "#### *Gaussian Naive Bayes*"
   ]
  },
  {
   "cell_type": "code",
   "execution_count": 176,
   "id": "7e6b4517",
   "metadata": {},
   "outputs": [],
   "source": [
    "# create pipeline to perform preprocessing and fitting\n",
    "selector = VarianceThreshold()\n",
    "scaler = StandardScaler()\n",
    "# scaler = preprocessing.MinMaxScaler()\n",
    "ros = RandomOverSampler()\n",
    "pca = PCA()\n",
    "clf = GaussianNB()\n",
    "pipe = Pipeline(steps=[('selector', selector), ('scaler', scaler), ('sampler', ros), ('pca', pca), ('gnb', clf)])"
   ]
  },
  {
   "cell_type": "code",
   "execution_count": 177,
   "id": "1c4f1d25",
   "metadata": {},
   "outputs": [],
   "source": [
    "# parameters for the grid\n",
    "\n",
    "# variance thresholds\n",
    "# vthresholds = [0, max_variance/110000, max_variance/101000, max_variance/100100, max_variance/100000, max_variance/(100000-100),max_variance/(100000-1000),max_variance/(100000-10000) ]\n",
    "vthresholds = [0, max_variance/1000000, max_variance/100000,max_variance/10000,max_variance/1000,max_variance/100]\n",
    "\n",
    "# number of components for pca \n",
    "n_components = [8,9,10,11,12,13,17,20]\n",
    "smoothing = np.logspace(0,-9, num=10)"
   ]
  },
  {
   "cell_type": "code",
   "execution_count": 178,
   "id": "457ccce9",
   "metadata": {},
   "outputs": [],
   "source": [
    "estimator_f1_score = GridSearchCV(pipe,\n",
    "                         dict(selector__threshold=vthresholds,\n",
    "                              pca__n_components=n_components,\n",
    "                              gnb__var_smoothing = smoothing\n",
    "                             ),\n",
    "                         cv=10,\n",
    "                         scoring='f1_macro',\n",
    "                         n_jobs=-1)"
   ]
  },
  {
   "cell_type": "code",
   "execution_count": 179,
   "id": "22841fe5",
   "metadata": {},
   "outputs": [
    {
     "name": "stdout",
     "output_type": "stream",
     "text": [
      "Total time to fit & predict: 18.93577265739441 seconds\n",
      "              precision    recall  f1-score   support\n",
      "\n",
      "           0       0.79      0.91      0.85        33\n",
      "           1       0.88      0.73      0.80        30\n",
      "\n",
      "    accuracy                           0.83        63\n",
      "   macro avg       0.83      0.82      0.82        63\n",
      "weighted avg       0.83      0.83      0.82        63\n",
      "\n"
     ]
    }
   ],
   "source": [
    "# find best parameters according to f1-score metric\n",
    "\n",
    "import time\n",
    "start_time = time.time()\n",
    "estimator_f1_score.fit(train, train_labels)\n",
    "preds = estimator_f1_score.predict(test)\n",
    "print(\"Total time to fit & predict: %s seconds\" % (time.time() - start_time))\n",
    "print(classification_report(test_labels, preds))"
   ]
  },
  {
   "cell_type": "code",
   "execution_count": 180,
   "id": "cd0781c3",
   "metadata": {},
   "outputs": [
    {
     "name": "stdout",
     "output_type": "stream",
     "text": [
      "Pipeline(steps=[('selector',\n",
      "                 VarianceThreshold(threshold=0.0007109661447514866)),\n",
      "                ('scaler', StandardScaler()), ('sampler', RandomOverSampler()),\n",
      "                ('pca', PCA(n_components=9)),\n",
      "                ('gnb', GaussianNB(var_smoothing=0.01))])\n",
      "{'gnb__var_smoothing': 0.01, 'pca__n_components': 9, 'selector__threshold': 0.0007109661447514866}\n",
      "Best f1-score: 0.8119362745098039\n"
     ]
    }
   ],
   "source": [
    "print(estimator_f1_score.best_estimator_)\n",
    "print(estimator_f1_score.best_params_)\n",
    "print('Best f1-score: %s' % estimator_f1_score.best_score_)\n",
    "f1_scores_best['gnb'] = estimator_f1_score.best_score_"
   ]
  },
  {
   "cell_type": "code",
   "execution_count": 181,
   "id": "5d6812e3",
   "metadata": {},
   "outputs": [],
   "source": [
    "estimator_accuracy = GridSearchCV(pipe,\n",
    "                         dict(selector__threshold=vthresholds,\n",
    "                              pca__n_components=n_components,\n",
    "                              gnb__var_smoothing = smoothing\n",
    "                             ),\n",
    "                         cv=10,\n",
    "                         scoring='accuracy',\n",
    "                         n_jobs=-1)"
   ]
  },
  {
   "cell_type": "code",
   "execution_count": 182,
   "id": "2112befc",
   "metadata": {},
   "outputs": [
    {
     "name": "stdout",
     "output_type": "stream",
     "text": [
      "Total time to fit & predict: 12.355648517608643 seconds\n",
      "              precision    recall  f1-score   support\n",
      "\n",
      "           0       0.82      0.85      0.84        33\n",
      "           1       0.83      0.80      0.81        30\n",
      "\n",
      "    accuracy                           0.83        63\n",
      "   macro avg       0.83      0.82      0.82        63\n",
      "weighted avg       0.83      0.83      0.83        63\n",
      "\n"
     ]
    }
   ],
   "source": [
    "# find best parameters according to accuracy metric\n",
    "\n",
    "import time\n",
    "start_time = time.time()\n",
    "estimator_accuracy.fit(train, train_labels)\n",
    "preds = estimator_accuracy.predict(test)\n",
    "print(\"Total time to fit & predict: %s seconds\" % (time.time() - start_time))\n",
    "print(classification_report(test_labels, preds))"
   ]
  },
  {
   "cell_type": "code",
   "execution_count": 183,
   "id": "72671bc0",
   "metadata": {},
   "outputs": [
    {
     "name": "stdout",
     "output_type": "stream",
     "text": [
      "Pipeline(steps=[('selector', VarianceThreshold(threshold=0)),\n",
      "                ('scaler', StandardScaler()), ('sampler', RandomOverSampler()),\n",
      "                ('pca', PCA(n_components=12)),\n",
      "                ('gnb', GaussianNB(var_smoothing=1e-06))])\n",
      "{'gnb__var_smoothing': 1e-06, 'pca__n_components': 12, 'selector__threshold': 0}\n",
      "Best accuracy: 0.8133333333333332\n"
     ]
    }
   ],
   "source": [
    "print(estimator_accuracy.best_estimator_)\n",
    "print(estimator_accuracy.best_params_)\n",
    "print('Best accuracy: %s' % estimator_accuracy.best_score_)\n",
    "accuracy_scores_best['gnb'] = estimator_accuracy.best_score_"
   ]
  },
  {
   "cell_type": "markdown",
   "id": "278ce3a7",
   "metadata": {},
   "source": [
    "##### *K-Nearest-Neighbours*"
   ]
  },
  {
   "cell_type": "code",
   "execution_count": 187,
   "id": "f83af192",
   "metadata": {},
   "outputs": [],
   "source": [
    "selector = VarianceThreshold()\n",
    "scaler = StandardScaler()\n",
    "# min_max_scaler = preprocessing.MinMaxScaler()\n",
    "ros = RandomOverSampler()\n",
    "pca = PCA()\n",
    "clf = KNeighborsClassifier(n_jobs=-1) # η παράμετρος n_jobs = 1 χρησιμοποιεί όλους τους πυρήνες του υπολογιστή\n",
    "# pipe = Pipeline(steps=[('selector', selector), ('scaler', scaler), ('sampler', ros), ('pca', pca), ('kNN', clf)])\n",
    "pipe = Pipeline(steps=[('selector', selector), ('scaler', scaler), ('pca', pca), ('kNN', clf)])"
   ]
  },
  {
   "cell_type": "code",
   "execution_count": 188,
   "id": "819dc2fe",
   "metadata": {},
   "outputs": [],
   "source": [
    "# variance thresholds\n",
    "vthresholds = [0, max_variance/110000, max_variance/101000, max_variance/100100, max_variance/100000, max_variance/(100000-100),max_variance/(100000-1000),max_variance/(100000-10000) ]\n",
    "# vthresholds = [max_variance/num for num in range(100000+10000, 100000-10000, -100)]\n",
    "vthresholds = [0, max_variance/1000000, max_variance/100000,max_variance/10000,max_variance/1000, max_variance/100]\n",
    "\n",
    "# number of components for pca \n",
    "n_components = [7,8,9,10,11,12]\n",
    "# number of neighbours\n",
    "k = [1,2,3,4,5]"
   ]
  },
  {
   "cell_type": "code",
   "execution_count": 189,
   "id": "f8858cd3",
   "metadata": {},
   "outputs": [],
   "source": [
    "estimator_f1_score = GridSearchCV(pipe, \n",
    "                         dict(selector__threshold=vthresholds, \n",
    "                              pca__n_components=n_components, \n",
    "                              kNN__n_neighbors=k\n",
    "                             ), \n",
    "                         cv=10, \n",
    "                         scoring='f1_macro',\n",
    "                         n_jobs=-1)"
   ]
  },
  {
   "cell_type": "code",
   "execution_count": 190,
   "id": "546a4f6f",
   "metadata": {},
   "outputs": [
    {
     "name": "stdout",
     "output_type": "stream",
     "text": [
      "Total time to fit & predict: 12.05391263961792 seconds\n",
      "              precision    recall  f1-score   support\n",
      "\n",
      "           0       0.90      0.82      0.86        33\n",
      "           1       0.82      0.90      0.86        30\n",
      "\n",
      "    accuracy                           0.86        63\n",
      "   macro avg       0.86      0.86      0.86        63\n",
      "weighted avg       0.86      0.86      0.86        63\n",
      "\n"
     ]
    }
   ],
   "source": [
    "# find best parameters according to f1-score metric\n",
    "\n",
    "import time\n",
    "start_time = time.time()\n",
    "estimator_f1_score.fit(train, train_labels)\n",
    "preds = estimator_f1_score.predict(test)\n",
    "print(\"Total time to fit & predict: %s seconds\" % (time.time() - start_time))\n",
    "print(classification_report(test_labels, preds))"
   ]
  },
  {
   "cell_type": "code",
   "execution_count": 191,
   "id": "4c5db892",
   "metadata": {},
   "outputs": [
    {
     "name": "stdout",
     "output_type": "stream",
     "text": [
      "Pipeline(steps=[('selector', VarianceThreshold(threshold=0)),\n",
      "                ('scaler', StandardScaler()), ('pca', PCA(n_components=11)),\n",
      "                ('kNN', KNeighborsClassifier(n_jobs=-1, n_neighbors=1))])\n",
      "{'kNN__n_neighbors': 1, 'pca__n_components': 11, 'selector__threshold': 0}\n",
      "Best f1-score: 0.8636720713926597\n"
     ]
    }
   ],
   "source": [
    "print(estimator_f1_score.best_estimator_)\n",
    "print(estimator_f1_score.best_params_)\n",
    "print('Best f1-score: %s' % estimator_f1_score.best_score_)\n",
    "f1_scores_best['knn'] = estimator_f1_score.best_score_"
   ]
  },
  {
   "cell_type": "code",
   "execution_count": 192,
   "id": "af53cbf5",
   "metadata": {},
   "outputs": [],
   "source": [
    "estimator_accuracy = GridSearchCV(pipe, \n",
    "                         dict(selector__threshold=vthresholds, \n",
    "                              pca__n_components=n_components, \n",
    "                              kNN__n_neighbors=k\n",
    "                             ), \n",
    "                         cv=10, \n",
    "                         scoring='accuracy',\n",
    "                         n_jobs=-1)"
   ]
  },
  {
   "cell_type": "code",
   "execution_count": 193,
   "id": "98e5f2cb",
   "metadata": {},
   "outputs": [
    {
     "name": "stdout",
     "output_type": "stream",
     "text": [
      "Total time to fit & predict: 9.252922534942627 seconds\n",
      "              precision    recall  f1-score   support\n",
      "\n",
      "           0       0.90      0.82      0.86        33\n",
      "           1       0.82      0.90      0.86        30\n",
      "\n",
      "    accuracy                           0.86        63\n",
      "   macro avg       0.86      0.86      0.86        63\n",
      "weighted avg       0.86      0.86      0.86        63\n",
      "\n"
     ]
    }
   ],
   "source": [
    "# find best parameters according to accuracy metric\n",
    "\n",
    "import time\n",
    "start_time = time.time()\n",
    "estimator_accuracy.fit(train, train_labels)\n",
    "preds = estimator_accuracy.predict(test)\n",
    "print(\"Total time to fit & predict: %s seconds\" % (time.time() - start_time))\n",
    "print(classification_report(test_labels, preds))"
   ]
  },
  {
   "cell_type": "code",
   "execution_count": 194,
   "id": "02da4ce4",
   "metadata": {},
   "outputs": [
    {
     "name": "stdout",
     "output_type": "stream",
     "text": [
      "Pipeline(steps=[('selector', VarianceThreshold(threshold=0)),\n",
      "                ('scaler', StandardScaler()), ('pca', PCA(n_components=11)),\n",
      "                ('kNN', KNeighborsClassifier(n_jobs=-1, n_neighbors=1))])\n",
      "{'kNN__n_neighbors': 1, 'pca__n_components': 11, 'selector__threshold': 0}\n",
      "Best accuracy: 0.868095238095238\n"
     ]
    }
   ],
   "source": [
    "print(estimator_accuracy.best_estimator_)\n",
    "print(estimator_accuracy.best_params_)\n",
    "print('Best accuracy: %s' % estimator_accuracy.best_score_)\n",
    "accuracy_scores_best['knn'] = estimator_accuracy.best_score_"
   ]
  },
  {
   "cell_type": "markdown",
   "id": "3c9602ca",
   "metadata": {},
   "source": [
    "##### *Logistic Regression*"
   ]
  },
  {
   "cell_type": "code",
   "execution_count": 198,
   "id": "9e54b178",
   "metadata": {},
   "outputs": [],
   "source": [
    "selector = VarianceThreshold()\n",
    "scaler = StandardScaler()\n",
    "# scaler = preprocessing.MinMaxScaler()\n",
    "ros = RandomOverSampler()\n",
    "pca = PCA()\n",
    "clf = LogisticRegression()\n",
    "pipe = Pipeline(steps=[('selector', selector), ('scaler', scaler), ('sampler', ros), ('pca', pca),\\\n",
    "                       ('logReg', clf)])\n",
    "\n",
    "# variance thresholds\n",
    "# vthresholds = [0, max_variance/110000, max_variance/101000, max_variance/100100, max_variance/100000, max_variance/(100000-100),max_variance/(100000-1000),max_variance/(100000-10000) ]\n",
    "# vthresholds = [max_variance/num for num in range(100000+10000, 100000-10000, -100)]\n",
    "vthresholds = [0, max_variance/1000000, max_variance/100000,max_variance/10000,max_variance/1000,max_variance/100]\n",
    "\n",
    "# number of components for pca \n",
    "n_components = [7,8,9,10,11,12]\n",
    "\n",
    "# logistic regression classifier parameters\n",
    "# penalty = ['l1', 'l2', 'elasticnet', 'none']\n",
    "C = np.logspace(-4, 4, num=10)\n",
    "\n",
    "logReg_solver = ['lbfgs','newton-cg','liblinear','sag','saga']\n",
    "# max_iter = [100, 1000, 2500, 5000]"
   ]
  },
  {
   "cell_type": "code",
   "execution_count": 199,
   "id": "7e0bbaf9",
   "metadata": {},
   "outputs": [
    {
     "name": "stdout",
     "output_type": "stream",
     "text": [
      "Total time to fit & predict: 93.80409502983093 seconds\n",
      "              precision    recall  f1-score   support\n",
      "\n",
      "           0       0.81      0.79      0.80        33\n",
      "           1       0.77      0.80      0.79        30\n",
      "\n",
      "    accuracy                           0.79        63\n",
      "   macro avg       0.79      0.79      0.79        63\n",
      "weighted avg       0.79      0.79      0.79        63\n",
      "\n",
      "Pipeline(steps=[('selector',\n",
      "                 VarianceThreshold(threshold=7.109661447514866e-05)),\n",
      "                ('scaler', StandardScaler()), ('sampler', RandomOverSampler()),\n",
      "                ('pca', PCA(n_components=10)),\n",
      "                ('logReg',\n",
      "                 LogisticRegression(C=166.81005372000558, solver='liblinear'))])\n",
      "{'logReg__C': 166.81005372000558, 'logReg__solver': 'liblinear', 'pca__n_components': 10, 'selector__threshold': 7.109661447514866e-05}\n",
      "Best f1-score: 0.8268986405751111\n"
     ]
    }
   ],
   "source": [
    "estimator_f1_score = GridSearchCV(pipe, \n",
    "                         dict(selector__threshold=vthresholds, \n",
    "                              pca__n_components=n_components,\n",
    "#                               logReg__penalty=penalty,\n",
    "                              logReg__C=C,\n",
    "                              logReg__solver=logReg_solver,\n",
    "                             ),\n",
    "                         cv=10, \n",
    "                         scoring='f1_macro', \n",
    "                         n_jobs=-1)\n",
    "\n",
    "# find best parameters according to f1-score metric\n",
    "import time\n",
    "start_time = time.time()\n",
    "estimator_f1_score.fit(train, train_labels)\n",
    "preds = estimator_f1_score.predict(test)\n",
    "print(\"Total time to fit & predict: %s seconds\" % (time.time() - start_time))\n",
    "print(classification_report(test_labels, preds))\n",
    "\n",
    "\n",
    "print(estimator_f1_score.best_estimator_)\n",
    "print(estimator_f1_score.best_params_)\n",
    "print('Best f1-score: %s' % estimator_f1_score.best_score_)\n",
    "f1_scores_best['logisticRegression'] = estimator_f1_score.best_score_"
   ]
  },
  {
   "cell_type": "code",
   "execution_count": 200,
   "id": "2c59ad62",
   "metadata": {},
   "outputs": [
    {
     "name": "stdout",
     "output_type": "stream",
     "text": [
      "Total time to fit & predict: 83.22010779380798 seconds\n",
      "              precision    recall  f1-score   support\n",
      "\n",
      "           0       0.84      0.82      0.83        33\n",
      "           1       0.81      0.83      0.82        30\n",
      "\n",
      "    accuracy                           0.83        63\n",
      "   macro avg       0.83      0.83      0.83        63\n",
      "weighted avg       0.83      0.83      0.83        63\n",
      "\n",
      "Pipeline(steps=[('selector',\n",
      "                 VarianceThreshold(threshold=7.109661447514866e-05)),\n",
      "                ('scaler', StandardScaler()), ('sampler', RandomOverSampler()),\n",
      "                ('pca', PCA(n_components=12)),\n",
      "                ('logReg',\n",
      "                 LogisticRegression(C=1291.5496650148827, solver='saga'))])\n",
      "{'logReg__C': 1291.5496650148827, 'logReg__solver': 'saga', 'pca__n_components': 12, 'selector__threshold': 7.109661447514866e-05}\n",
      "Best accuracy: 0.8327406090641386\n"
     ]
    }
   ],
   "source": [
    "estimator_accuracy = GridSearchCV(pipe, \n",
    "                         dict(selector__threshold=vthresholds, \n",
    "                              pca__n_components=n_components,\n",
    "#                               logReg__penalty=penalty,\n",
    "                              logReg__C=C,\n",
    "                              logReg__solver=logReg_solver,\n",
    "                             ),\n",
    "                         cv=10, \n",
    "                         scoring='f1_macro', \n",
    "                         n_jobs=-1)\n",
    "\n",
    "# find best parameters according to accuracy metric\n",
    "import time\n",
    "start_time = time.time()\n",
    "estimator_accuracy.fit(train, train_labels)\n",
    "preds = estimator_accuracy.predict(test)\n",
    "print(\"Total time to fit & predict: %s seconds\" % (time.time() - start_time))\n",
    "print(classification_report(test_labels, preds))\n",
    "\n",
    "print(estimator_accuracy.best_estimator_)\n",
    "print(estimator_accuracy.best_params_)\n",
    "print('Best accuracy: %s' % estimator_accuracy.best_score_)\n",
    "accuracy_scores_best['logisticRegression'] = estimator_accuracy.best_score_"
   ]
  },
  {
   "cell_type": "markdown",
   "id": "02d15ad2",
   "metadata": {},
   "source": [
    "## Αποτελέσματα & Συμπεράσματα"
   ]
  },
  {
   "cell_type": "markdown",
   "id": "f7a0d1e8",
   "metadata": {},
   "source": [
    "Παρουσιάζουμε τις επιδόσεις των βέλτιστων ταξινομητών κάθε είδους. Η στήλη `Relative Accuracy` περιλαμβάνει τον λόγo του βέλτιστου Accuracy προς το out-of-the-box Accuracy. Το αντίστοιχο ισχύει για την στήλη `Relative F1-score`.\n",
    "\n",
    "| Classifier | Accuracy | Relative Accuracy | F1-score | Relative F1-score | Train Time (s) | Test Time (s) |\n",
    "| :-: | :-: | :-: | :-: | :-: | :-: | :-: |\n",
    "| Gaussian Naive Bayes | 0 | 0 | 0 | 0 | 0 | 0|\n",
    "| K-Nearest-Neighbours | 0 | 0 |  0 | 0 | 0 | 0|\n",
    "| Logistic Regression | 0 | 0 | 0 | 0 | 0 | 0"
   ]
  },
  {
   "cell_type": "code",
   "execution_count": 201,
   "id": "c29b50ab",
   "metadata": {},
   "outputs": [],
   "source": [
    "# calculate relative metrics\n",
    "accuracy_scores_relative = dict()\n",
    "f1_scores_relative = dict()\n",
    "\n",
    "for name in accuracy_scores_best.keys():\n",
    "    accuracy_scores_relative[name] = accuracy_scores_best[name]/accuracy_scores_ootb[name]\n",
    "    f1_scores_relative[name] = f1_scores_best[name]/f1_scores_ootb[name]    "
   ]
  },
  {
   "cell_type": "code",
   "execution_count": 202,
   "id": "21a08839",
   "metadata": {},
   "outputs": [],
   "source": [
    "# prapare to plot\n",
    "names, f1_best_axis, accuracy_best_axis, f1_relative_axis, accuracy_relative_axis = [], [], [], [], []\n",
    "\n",
    "for name in accuracy_scores_best.keys():\n",
    "    names.append(name)\n",
    "    f1_best_axis.append(f1_scores_best[name])\n",
    "    accuracy_best_axis.append(accuracy_scores_best[name])\n",
    "    f1_relative_axis.append(f1_scores_relative[name])\n",
    "    accuracy_relative_axis.append(accuracy_scores_relative[name])\n",
    "    "
   ]
  },
  {
   "cell_type": "code",
   "execution_count": 203,
   "id": "4dc37155",
   "metadata": {},
   "outputs": [
    {
     "name": "stdout",
     "output_type": "stream",
     "text": [
      "['gnb', 'knn', 'logisticRegression']\n",
      "[0.8119362745098039, 0.8636720713926597, 0.8268986405751111]\n",
      "[1.1468026476127173, 1.1863627354294777, 1.0851688196523768]\n",
      "[0.8133333333333332, 0.868095238095238, 0.8327406090641386]\n"
     ]
    }
   ],
   "source": [
    "print(names)\n",
    "print(f1_best_axis)\n",
    "print(f1_relative_axis)\n",
    "\n",
    "print(accuracy_best_axis)"
   ]
  },
  {
   "cell_type": "code",
   "execution_count": 204,
   "id": "35c8ba54",
   "metadata": {},
   "outputs": [],
   "source": [
    "def plotBarChartDoubleAxes(x,ylist,cols,labs,tit,xlab,ylabList):\n",
    "    xaxis = np.arange(len(x))\n",
    "    \n",
    "    # offsets of bar plots\n",
    "    totalWidth = len(ylist)*0.2-0.2\n",
    "    offset = [-(totalWidth/2)+i*0.2 for i in range(len(ylist))]\n",
    "    \n",
    "    \n",
    "    fig, ax0 = plt.subplots(figsize=(15,9))\n",
    "    # create second set of axes with same x axis\n",
    "    ax1 = ax0.twinx()\n",
    "    \n",
    "    ax0.set_yticks([i/10 for i in range(11)])\n",
    "    # plot       \n",
    "    ax0.bar(xaxis+offset[0], ylist[0], color=cols[0], label=labs[0], width=0.2)\n",
    "    ax1.bar(xaxis+offset[1], ylist[1], color=cols[1], label=labs[1], width=0.2)\n",
    "    \n",
    "    # ylabels\n",
    "    ax0.set_ylabel(ylabList[0])\n",
    "    ax1.set_ylabel(ylabList[1])\n",
    "    \n",
    "    # correct the xticklabels\n",
    "    ax0.set_xticks(xaxis)\n",
    "    ax0.set_xticklabels(x)\n",
    "    \n",
    "    \n",
    "    ax0.legend(loc='upper right', bbox_to_anchor=(0.95,0.99))\n",
    "    ax1.legend(loc='upper right', bbox_to_anchor=(0.95,0.94))\n",
    "    ax0.set_xlabel(xlab)\n",
    "    plt.title(tit)   "
   ]
  },
  {
   "cell_type": "code",
   "execution_count": 205,
   "id": "81d99aeb",
   "metadata": {},
   "outputs": [
    {
     "data": {
      "image/png": "[encoded data removed]",
      "text/plain": [
       "<Figure size 1080x648 with 2 Axes>"
      ]
     },
     "metadata": {
      "needs_background": "light"
     },
     "output_type": "display_data"
    }
   ],
   "source": [
    "# plot f1 scores\n",
    "plotBarChartDoubleAxes(names, [f1_best_axis, f1_relative_axis], ['goldenrod','lightgreen'],\\\n",
    "            ['F1-score','Relative F1-score'],\\\n",
    "             'F1-score & Relative F1-score', 'Classifier', ['F1-score','Relative F1-score'])"
   ]
  },
  {
   "cell_type": "code",
   "execution_count": 206,
   "id": "39f69066",
   "metadata": {},
   "outputs": [
    {
     "data": {
      "image/png": "[encoded data removed]",
      "text/plain": [
       "<Figure size 1080x648 with 2 Axes>"
      ]
     },
     "metadata": {
      "needs_background": "light"
     },
     "output_type": "display_data"
    }
   ],
   "source": [
    "# plot accuracy\n",
    "plotBarChartDoubleAxes(names, [accuracy_best_axis, accuracy_relative_axis], ['slateblue','violet'],\\\n",
    "            ['Accuracy','Relative Accuracy'],\\\n",
    "             'Accuracy & Relative Accuracy', 'Classifier', ['Accuracy','Relative Accuracy'])\n"
   ]
  },
  {
   "cell_type": "code",
   "execution_count": 209,
   "id": "e6c9a8a1",
   "metadata": {},
   "outputs": [],
   "source": [
    "from sklearn.metrics import confusion_matrix\n",
    "import seaborn as sns\n",
    "\n",
    "\n",
    "# confusion matrices\n",
    "cnf_matrix = confusion_matrix(test_labels,preds)\n",
    "\n",
    "sns.heatmap(cf_matrix, annot=True)"
   ]
  },
  {
   "cell_type": "code",
   "execution_count": null,
   "id": "8fb7f6bf",
   "metadata": {},
   "outputs": [],
   "source": []
  }
 ],
 "metadata": {
  "kernelspec": {
   "display_name": "Python 3",
   "language": "python",
   "name": "python3"
  },
  "language_info": {
   "codemirror_mode": {
    "name": "ipython",
    "version": 3
   },
   "file_extension": ".py",
   "mimetype": "text/x-python",
   "name": "python",
   "nbconvert_exporter": "python",
   "pygments_lexer": "ipython3",
   "version": "3.8.10"
  }
 },
 "nbformat": 4,
 "nbformat_minor": 5
}
