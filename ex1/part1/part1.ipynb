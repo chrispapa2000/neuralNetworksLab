{
 "cells": [
  {
   "cell_type": "markdown",
   "id": "6330803d",
   "metadata": {},
   "source": [
    "### Ομάδα 70: \n",
    "#### Χρήστος Παπαδημητρίου, el18017\n",
    "#### Βαρθολομαίος Βαμβακάρης, el18072\n",
    "#### Ζαχαρίας-Παύλος Αναστασιάδης, el18161"
   ]
  },
  {
   "cell_type": "markdown",
   "id": "f667cf16",
   "metadata": {},
   "source": [
    "# Dataset : Connectionist Bench (Sonar, Mimes vs. Rocks)"
   ]
  },
  {
   "cell_type": "code",
   "execution_count": 1,
   "id": "858d92bb",
   "metadata": {
    "scrolled": true
   },
   "outputs": [
    {
     "name": "stdout",
     "output_type": "stream",
     "text": [
      "Defaulting to user installation because normal site-packages is not writeable\n",
      "Requirement already satisfied: pip in /home/chris/.local/lib/python3.8/site-packages (22.3.1)\n",
      "Defaulting to user installation because normal site-packages is not writeable\n",
      "Requirement already satisfied: scikit-learn in /home/chris/.local/lib/python3.8/site-packages (1.1.3)\n",
      "Requirement already satisfied: scipy>=1.3.2 in /home/chris/.local/lib/python3.8/site-packages (from scikit-learn) (1.9.3)\n",
      "Requirement already satisfied: threadpoolctl>=2.0.0 in /home/chris/.local/lib/python3.8/site-packages (from scikit-learn) (3.1.0)\n",
      "Requirement already satisfied: joblib>=1.0.0 in /home/chris/.local/lib/python3.8/site-packages (from scikit-learn) (1.1.0)\n",
      "Requirement already satisfied: numpy>=1.17.3 in /home/chris/.local/lib/python3.8/site-packages (from scikit-learn) (1.23.5)\n",
      "Defaulting to user installation because normal site-packages is not writeable\n",
      "Requirement already satisfied: numpy in /home/chris/.local/lib/python3.8/site-packages (1.23.5)\n",
      "Defaulting to user installation because normal site-packages is not writeable\n",
      "Requirement already satisfied: matplotlib in /home/chris/.local/lib/python3.8/site-packages (3.6.2)\n",
      "Requirement already satisfied: fonttools>=4.22.0 in /home/chris/.local/lib/python3.8/site-packages (from matplotlib) (4.31.2)\n",
      "Requirement already satisfied: numpy>=1.19 in /home/chris/.local/lib/python3.8/site-packages (from matplotlib) (1.23.5)\n",
      "Requirement already satisfied: contourpy>=1.0.1 in /home/chris/.local/lib/python3.8/site-packages (from matplotlib) (1.0.5)\n",
      "Requirement already satisfied: cycler>=0.10 in /home/chris/.local/lib/python3.8/site-packages (from matplotlib) (0.11.0)\n",
      "Requirement already satisfied: pillow>=6.2.0 in /usr/lib/python3/dist-packages (from matplotlib) (7.0.0)\n",
      "Requirement already satisfied: kiwisolver>=1.0.1 in /home/chris/.local/lib/python3.8/site-packages (from matplotlib) (1.4.2)\n",
      "Requirement already satisfied: python-dateutil>=2.7 in /home/chris/.local/lib/python3.8/site-packages (from matplotlib) (2.8.2)\n",
      "Requirement already satisfied: packaging>=20.0 in /home/chris/.local/lib/python3.8/site-packages (from matplotlib) (21.3)\n",
      "Requirement already satisfied: pyparsing>=2.2.1 in /home/chris/.local/lib/python3.8/site-packages (from matplotlib) (3.0.7)\n",
      "Requirement already satisfied: six>=1.5 in /usr/lib/python3/dist-packages (from python-dateutil>=2.7->matplotlib) (1.14.0)\n",
      "Defaulting to user installation because normal site-packages is not writeable\n",
      "Requirement already satisfied: seaborn in /home/chris/.local/lib/python3.8/site-packages (0.12.1)\n",
      "Requirement already satisfied: matplotlib!=3.6.1,>=3.1 in /home/chris/.local/lib/python3.8/site-packages (from seaborn) (3.6.2)\n",
      "Requirement already satisfied: numpy>=1.17 in /home/chris/.local/lib/python3.8/site-packages (from seaborn) (1.23.5)\n",
      "Requirement already satisfied: pandas>=0.25 in /home/chris/.local/lib/python3.8/site-packages (from seaborn) (1.5.1)\n",
      "Requirement already satisfied: cycler>=0.10 in /home/chris/.local/lib/python3.8/site-packages (from matplotlib!=3.6.1,>=3.1->seaborn) (0.11.0)\n",
      "Requirement already satisfied: pyparsing>=2.2.1 in /home/chris/.local/lib/python3.8/site-packages (from matplotlib!=3.6.1,>=3.1->seaborn) (3.0.7)\n",
      "Requirement already satisfied: kiwisolver>=1.0.1 in /home/chris/.local/lib/python3.8/site-packages (from matplotlib!=3.6.1,>=3.1->seaborn) (1.4.2)\n",
      "Requirement already satisfied: packaging>=20.0 in /home/chris/.local/lib/python3.8/site-packages (from matplotlib!=3.6.1,>=3.1->seaborn) (21.3)\n",
      "Requirement already satisfied: python-dateutil>=2.7 in /home/chris/.local/lib/python3.8/site-packages (from matplotlib!=3.6.1,>=3.1->seaborn) (2.8.2)\n",
      "Requirement already satisfied: contourpy>=1.0.1 in /home/chris/.local/lib/python3.8/site-packages (from matplotlib!=3.6.1,>=3.1->seaborn) (1.0.5)\n",
      "Requirement already satisfied: fonttools>=4.22.0 in /home/chris/.local/lib/python3.8/site-packages (from matplotlib!=3.6.1,>=3.1->seaborn) (4.31.2)\n",
      "Requirement already satisfied: pillow>=6.2.0 in /usr/lib/python3/dist-packages (from matplotlib!=3.6.1,>=3.1->seaborn) (7.0.0)\n",
      "Requirement already satisfied: pytz>=2020.1 in /home/chris/.local/lib/python3.8/site-packages (from pandas>=0.25->seaborn) (2022.1)\n",
      "Requirement already satisfied: six>=1.5 in /usr/lib/python3/dist-packages (from python-dateutil>=2.7->matplotlib!=3.6.1,>=3.1->seaborn) (1.14.0)\n",
      "Defaulting to user installation because normal site-packages is not writeable\n",
      "Requirement already satisfied: markdown in /home/chris/.local/lib/python3.8/site-packages (3.4.1)\n",
      "Requirement already satisfied: importlib-metadata>=4.4 in /home/chris/.local/lib/python3.8/site-packages (from markdown) (4.12.0)\n",
      "Requirement already satisfied: zipp>=0.5 in /usr/lib/python3/dist-packages (from importlib-metadata>=4.4->markdown) (1.0.0)\n",
      "Defaulting to user installation because normal site-packages is not writeable\n",
      "Requirement already satisfied: imbalanced-learn in /home/chris/.local/lib/python3.8/site-packages (0.9.1)\n",
      "Requirement already satisfied: scikit-learn>=1.1.0 in /home/chris/.local/lib/python3.8/site-packages (from imbalanced-learn) (1.1.3)\n",
      "Requirement already satisfied: scipy>=1.3.2 in /home/chris/.local/lib/python3.8/site-packages (from imbalanced-learn) (1.9.3)\n",
      "Requirement already satisfied: joblib>=1.0.0 in /home/chris/.local/lib/python3.8/site-packages (from imbalanced-learn) (1.1.0)\n",
      "Requirement already satisfied: numpy>=1.17.3 in /home/chris/.local/lib/python3.8/site-packages (from imbalanced-learn) (1.23.5)\n",
      "Requirement already satisfied: threadpoolctl>=2.0.0 in /home/chris/.local/lib/python3.8/site-packages (from imbalanced-learn) (3.1.0)\n"
     ]
    }
   ],
   "source": [
    "!pip install --upgrade pip #upgrade pip package installer\n",
    "!pip install scikit-learn --upgrade #upgrade scikit-learn package\n",
    "!pip install numpy --upgrade #upgrade numpy package\n",
    "!pip install --upgrade matplotlib # Κάνουμε update την matplotlib\n",
    "!pip install seaborn\n",
    "!pip install markdown\n",
    "!pip install --upgrade imbalanced-learn"
   ]
  },
  {
   "cell_type": "markdown",
   "id": "e6b524bd",
   "metadata": {},
   "source": [
    "## Εισαγωγή & Επισκόπηση"
   ]
  },
  {
   "cell_type": "code",
   "execution_count": 1,
   "id": "6b7b192c",
   "metadata": {},
   "outputs": [
    {
     "data": {
      "text/html": [
       "<div>\n",
       "<style scoped>\n",
       "    .dataframe tbody tr th:only-of-type {\n",
       "        vertical-align: middle;\n",
       "    }\n",
       "\n",
       "    .dataframe tbody tr th {\n",
       "        vertical-align: top;\n",
       "    }\n",
       "\n",
       "    .dataframe thead th {\n",
       "        text-align: right;\n",
       "    }\n",
       "</style>\n",
       "<table border=\"1\" class=\"dataframe\">\n",
       "  <thead>\n",
       "    <tr style=\"text-align: right;\">\n",
       "      <th></th>\n",
       "      <th>0</th>\n",
       "      <th>1</th>\n",
       "      <th>2</th>\n",
       "      <th>3</th>\n",
       "      <th>4</th>\n",
       "      <th>5</th>\n",
       "      <th>6</th>\n",
       "      <th>7</th>\n",
       "      <th>8</th>\n",
       "      <th>9</th>\n",
       "      <th>...</th>\n",
       "      <th>51</th>\n",
       "      <th>52</th>\n",
       "      <th>53</th>\n",
       "      <th>54</th>\n",
       "      <th>55</th>\n",
       "      <th>56</th>\n",
       "      <th>57</th>\n",
       "      <th>58</th>\n",
       "      <th>59</th>\n",
       "      <th>60</th>\n",
       "    </tr>\n",
       "  </thead>\n",
       "  <tbody>\n",
       "    <tr>\n",
       "      <th>0</th>\n",
       "      <td>0.0200</td>\n",
       "      <td>0.0371</td>\n",
       "      <td>0.0428</td>\n",
       "      <td>0.0207</td>\n",
       "      <td>0.0954</td>\n",
       "      <td>0.0986</td>\n",
       "      <td>0.1539</td>\n",
       "      <td>0.1601</td>\n",
       "      <td>0.3109</td>\n",
       "      <td>0.2111</td>\n",
       "      <td>...</td>\n",
       "      <td>0.0027</td>\n",
       "      <td>0.0065</td>\n",
       "      <td>0.0159</td>\n",
       "      <td>0.0072</td>\n",
       "      <td>0.0167</td>\n",
       "      <td>0.0180</td>\n",
       "      <td>0.0084</td>\n",
       "      <td>0.0090</td>\n",
       "      <td>0.0032</td>\n",
       "      <td>R</td>\n",
       "    </tr>\n",
       "    <tr>\n",
       "      <th>1</th>\n",
       "      <td>0.0453</td>\n",
       "      <td>0.0523</td>\n",
       "      <td>0.0843</td>\n",
       "      <td>0.0689</td>\n",
       "      <td>0.1183</td>\n",
       "      <td>0.2583</td>\n",
       "      <td>0.2156</td>\n",
       "      <td>0.3481</td>\n",
       "      <td>0.3337</td>\n",
       "      <td>0.2872</td>\n",
       "      <td>...</td>\n",
       "      <td>0.0084</td>\n",
       "      <td>0.0089</td>\n",
       "      <td>0.0048</td>\n",
       "      <td>0.0094</td>\n",
       "      <td>0.0191</td>\n",
       "      <td>0.0140</td>\n",
       "      <td>0.0049</td>\n",
       "      <td>0.0052</td>\n",
       "      <td>0.0044</td>\n",
       "      <td>R</td>\n",
       "    </tr>\n",
       "    <tr>\n",
       "      <th>2</th>\n",
       "      <td>0.0262</td>\n",
       "      <td>0.0582</td>\n",
       "      <td>0.1099</td>\n",
       "      <td>0.1083</td>\n",
       "      <td>0.0974</td>\n",
       "      <td>0.2280</td>\n",
       "      <td>0.2431</td>\n",
       "      <td>0.3771</td>\n",
       "      <td>0.5598</td>\n",
       "      <td>0.6194</td>\n",
       "      <td>...</td>\n",
       "      <td>0.0232</td>\n",
       "      <td>0.0166</td>\n",
       "      <td>0.0095</td>\n",
       "      <td>0.0180</td>\n",
       "      <td>0.0244</td>\n",
       "      <td>0.0316</td>\n",
       "      <td>0.0164</td>\n",
       "      <td>0.0095</td>\n",
       "      <td>0.0078</td>\n",
       "      <td>R</td>\n",
       "    </tr>\n",
       "    <tr>\n",
       "      <th>3</th>\n",
       "      <td>0.0100</td>\n",
       "      <td>0.0171</td>\n",
       "      <td>0.0623</td>\n",
       "      <td>0.0205</td>\n",
       "      <td>0.0205</td>\n",
       "      <td>0.0368</td>\n",
       "      <td>0.1098</td>\n",
       "      <td>0.1276</td>\n",
       "      <td>0.0598</td>\n",
       "      <td>0.1264</td>\n",
       "      <td>...</td>\n",
       "      <td>0.0121</td>\n",
       "      <td>0.0036</td>\n",
       "      <td>0.0150</td>\n",
       "      <td>0.0085</td>\n",
       "      <td>0.0073</td>\n",
       "      <td>0.0050</td>\n",
       "      <td>0.0044</td>\n",
       "      <td>0.0040</td>\n",
       "      <td>0.0117</td>\n",
       "      <td>R</td>\n",
       "    </tr>\n",
       "    <tr>\n",
       "      <th>4</th>\n",
       "      <td>0.0762</td>\n",
       "      <td>0.0666</td>\n",
       "      <td>0.0481</td>\n",
       "      <td>0.0394</td>\n",
       "      <td>0.0590</td>\n",
       "      <td>0.0649</td>\n",
       "      <td>0.1209</td>\n",
       "      <td>0.2467</td>\n",
       "      <td>0.3564</td>\n",
       "      <td>0.4459</td>\n",
       "      <td>...</td>\n",
       "      <td>0.0031</td>\n",
       "      <td>0.0054</td>\n",
       "      <td>0.0105</td>\n",
       "      <td>0.0110</td>\n",
       "      <td>0.0015</td>\n",
       "      <td>0.0072</td>\n",
       "      <td>0.0048</td>\n",
       "      <td>0.0107</td>\n",
       "      <td>0.0094</td>\n",
       "      <td>R</td>\n",
       "    </tr>\n",
       "    <tr>\n",
       "      <th>...</th>\n",
       "      <td>...</td>\n",
       "      <td>...</td>\n",
       "      <td>...</td>\n",
       "      <td>...</td>\n",
       "      <td>...</td>\n",
       "      <td>...</td>\n",
       "      <td>...</td>\n",
       "      <td>...</td>\n",
       "      <td>...</td>\n",
       "      <td>...</td>\n",
       "      <td>...</td>\n",
       "      <td>...</td>\n",
       "      <td>...</td>\n",
       "      <td>...</td>\n",
       "      <td>...</td>\n",
       "      <td>...</td>\n",
       "      <td>...</td>\n",
       "      <td>...</td>\n",
       "      <td>...</td>\n",
       "      <td>...</td>\n",
       "      <td>...</td>\n",
       "    </tr>\n",
       "    <tr>\n",
       "      <th>203</th>\n",
       "      <td>0.0187</td>\n",
       "      <td>0.0346</td>\n",
       "      <td>0.0168</td>\n",
       "      <td>0.0177</td>\n",
       "      <td>0.0393</td>\n",
       "      <td>0.1630</td>\n",
       "      <td>0.2028</td>\n",
       "      <td>0.1694</td>\n",
       "      <td>0.2328</td>\n",
       "      <td>0.2684</td>\n",
       "      <td>...</td>\n",
       "      <td>0.0116</td>\n",
       "      <td>0.0098</td>\n",
       "      <td>0.0199</td>\n",
       "      <td>0.0033</td>\n",
       "      <td>0.0101</td>\n",
       "      <td>0.0065</td>\n",
       "      <td>0.0115</td>\n",
       "      <td>0.0193</td>\n",
       "      <td>0.0157</td>\n",
       "      <td>M</td>\n",
       "    </tr>\n",
       "    <tr>\n",
       "      <th>204</th>\n",
       "      <td>0.0323</td>\n",
       "      <td>0.0101</td>\n",
       "      <td>0.0298</td>\n",
       "      <td>0.0564</td>\n",
       "      <td>0.0760</td>\n",
       "      <td>0.0958</td>\n",
       "      <td>0.0990</td>\n",
       "      <td>0.1018</td>\n",
       "      <td>0.1030</td>\n",
       "      <td>0.2154</td>\n",
       "      <td>...</td>\n",
       "      <td>0.0061</td>\n",
       "      <td>0.0093</td>\n",
       "      <td>0.0135</td>\n",
       "      <td>0.0063</td>\n",
       "      <td>0.0063</td>\n",
       "      <td>0.0034</td>\n",
       "      <td>0.0032</td>\n",
       "      <td>0.0062</td>\n",
       "      <td>0.0067</td>\n",
       "      <td>M</td>\n",
       "    </tr>\n",
       "    <tr>\n",
       "      <th>205</th>\n",
       "      <td>0.0522</td>\n",
       "      <td>0.0437</td>\n",
       "      <td>0.0180</td>\n",
       "      <td>0.0292</td>\n",
       "      <td>0.0351</td>\n",
       "      <td>0.1171</td>\n",
       "      <td>0.1257</td>\n",
       "      <td>0.1178</td>\n",
       "      <td>0.1258</td>\n",
       "      <td>0.2529</td>\n",
       "      <td>...</td>\n",
       "      <td>0.0160</td>\n",
       "      <td>0.0029</td>\n",
       "      <td>0.0051</td>\n",
       "      <td>0.0062</td>\n",
       "      <td>0.0089</td>\n",
       "      <td>0.0140</td>\n",
       "      <td>0.0138</td>\n",
       "      <td>0.0077</td>\n",
       "      <td>0.0031</td>\n",
       "      <td>M</td>\n",
       "    </tr>\n",
       "    <tr>\n",
       "      <th>206</th>\n",
       "      <td>0.0303</td>\n",
       "      <td>0.0353</td>\n",
       "      <td>0.0490</td>\n",
       "      <td>0.0608</td>\n",
       "      <td>0.0167</td>\n",
       "      <td>0.1354</td>\n",
       "      <td>0.1465</td>\n",
       "      <td>0.1123</td>\n",
       "      <td>0.1945</td>\n",
       "      <td>0.2354</td>\n",
       "      <td>...</td>\n",
       "      <td>0.0086</td>\n",
       "      <td>0.0046</td>\n",
       "      <td>0.0126</td>\n",
       "      <td>0.0036</td>\n",
       "      <td>0.0035</td>\n",
       "      <td>0.0034</td>\n",
       "      <td>0.0079</td>\n",
       "      <td>0.0036</td>\n",
       "      <td>0.0048</td>\n",
       "      <td>M</td>\n",
       "    </tr>\n",
       "    <tr>\n",
       "      <th>207</th>\n",
       "      <td>0.0260</td>\n",
       "      <td>0.0363</td>\n",
       "      <td>0.0136</td>\n",
       "      <td>0.0272</td>\n",
       "      <td>0.0214</td>\n",
       "      <td>0.0338</td>\n",
       "      <td>0.0655</td>\n",
       "      <td>0.1400</td>\n",
       "      <td>0.1843</td>\n",
       "      <td>0.2354</td>\n",
       "      <td>...</td>\n",
       "      <td>0.0146</td>\n",
       "      <td>0.0129</td>\n",
       "      <td>0.0047</td>\n",
       "      <td>0.0039</td>\n",
       "      <td>0.0061</td>\n",
       "      <td>0.0040</td>\n",
       "      <td>0.0036</td>\n",
       "      <td>0.0061</td>\n",
       "      <td>0.0115</td>\n",
       "      <td>M</td>\n",
       "    </tr>\n",
       "  </tbody>\n",
       "</table>\n",
       "<p>208 rows × 61 columns</p>\n",
       "</div>"
      ],
      "text/plain": [
       "         0       1       2       3       4       5       6       7       8   \\\n",
       "0    0.0200  0.0371  0.0428  0.0207  0.0954  0.0986  0.1539  0.1601  0.3109   \n",
       "1    0.0453  0.0523  0.0843  0.0689  0.1183  0.2583  0.2156  0.3481  0.3337   \n",
       "2    0.0262  0.0582  0.1099  0.1083  0.0974  0.2280  0.2431  0.3771  0.5598   \n",
       "3    0.0100  0.0171  0.0623  0.0205  0.0205  0.0368  0.1098  0.1276  0.0598   \n",
       "4    0.0762  0.0666  0.0481  0.0394  0.0590  0.0649  0.1209  0.2467  0.3564   \n",
       "..      ...     ...     ...     ...     ...     ...     ...     ...     ...   \n",
       "203  0.0187  0.0346  0.0168  0.0177  0.0393  0.1630  0.2028  0.1694  0.2328   \n",
       "204  0.0323  0.0101  0.0298  0.0564  0.0760  0.0958  0.0990  0.1018  0.1030   \n",
       "205  0.0522  0.0437  0.0180  0.0292  0.0351  0.1171  0.1257  0.1178  0.1258   \n",
       "206  0.0303  0.0353  0.0490  0.0608  0.0167  0.1354  0.1465  0.1123  0.1945   \n",
       "207  0.0260  0.0363  0.0136  0.0272  0.0214  0.0338  0.0655  0.1400  0.1843   \n",
       "\n",
       "         9   ...      51      52      53      54      55      56      57  \\\n",
       "0    0.2111  ...  0.0027  0.0065  0.0159  0.0072  0.0167  0.0180  0.0084   \n",
       "1    0.2872  ...  0.0084  0.0089  0.0048  0.0094  0.0191  0.0140  0.0049   \n",
       "2    0.6194  ...  0.0232  0.0166  0.0095  0.0180  0.0244  0.0316  0.0164   \n",
       "3    0.1264  ...  0.0121  0.0036  0.0150  0.0085  0.0073  0.0050  0.0044   \n",
       "4    0.4459  ...  0.0031  0.0054  0.0105  0.0110  0.0015  0.0072  0.0048   \n",
       "..      ...  ...     ...     ...     ...     ...     ...     ...     ...   \n",
       "203  0.2684  ...  0.0116  0.0098  0.0199  0.0033  0.0101  0.0065  0.0115   \n",
       "204  0.2154  ...  0.0061  0.0093  0.0135  0.0063  0.0063  0.0034  0.0032   \n",
       "205  0.2529  ...  0.0160  0.0029  0.0051  0.0062  0.0089  0.0140  0.0138   \n",
       "206  0.2354  ...  0.0086  0.0046  0.0126  0.0036  0.0035  0.0034  0.0079   \n",
       "207  0.2354  ...  0.0146  0.0129  0.0047  0.0039  0.0061  0.0040  0.0036   \n",
       "\n",
       "         58      59  60  \n",
       "0    0.0090  0.0032   R  \n",
       "1    0.0052  0.0044   R  \n",
       "2    0.0095  0.0078   R  \n",
       "3    0.0040  0.0117   R  \n",
       "4    0.0107  0.0094   R  \n",
       "..      ...     ...  ..  \n",
       "203  0.0193  0.0157   M  \n",
       "204  0.0062  0.0067   M  \n",
       "205  0.0077  0.0031   M  \n",
       "206  0.0036  0.0048   M  \n",
       "207  0.0061  0.0115   M  \n",
       "\n",
       "[208 rows x 61 columns]"
      ]
     },
     "execution_count": 1,
     "metadata": {},
     "output_type": "execute_result"
    }
   ],
   "source": [
    "import pandas as pd\n",
    "\n",
    "df = pd.read_csv('sonar.all-data', header=None)\n",
    "df"
   ]
  },
  {
   "cell_type": "code",
   "execution_count": 2,
   "id": "a5d3f386",
   "metadata": {},
   "outputs": [
    {
     "name": "stdout",
     "output_type": "stream",
     "text": [
      "There are no missing data in the Dataset\n"
     ]
    }
   ],
   "source": [
    "# check if we have any missing values\n",
    "\n",
    "isNullArray, nullValsPresent = df.isnull(), False\n",
    "\n",
    "for numCol in isNullArray:\n",
    "    if True in isNullArray[numCol]:\n",
    "        print(\"Missing Values in column: \" + str(col))\n",
    "        flag = True\n",
    "\n",
    "if not nullValsPresent:\n",
    "    print(\"There are no missing data in the Dataset\")"
   ]
  },
  {
   "cell_type": "markdown",
   "id": "8ae222a7",
   "metadata": {},
   "source": [
    "#### Σύντομη Παρουσίαση του Dataset\n",
    "Το παραπάνω Dataset περιλαμβάνει δείγματα που αντιστοιχούν σε patterns συχνοτήτων. Αυτά τα patterns έχουν προκύψει από την αντανάκλαση σημάτων Sonar σε μεταλλικούς κυλίνδρους και σε πετρώματα. Συγκεκριμένα τα σήματα Sonar που χρησιμοποιήθηκαν είναι \"Chirps\" αυξανόμενης συχνότητας. Το Dataset περιλαμβάνει αποτελέσματα εκπομπής Sonar από ποικίλες γωνίες (aspect angles), μεχρί 90$^{o}$ για τους μεταλλικούς κυλίνδρους και μέχρι 180$^{o}$ για τα πετρώματα. \n",
    "\n",
    "Κάθε pattern περιγράφεται από 60 αριθμούς μεταξύ 0.0 και 1.0. Καθένας από αυτούς τους αριθμούς αντιστοιχεί στο ολοκλήρωμα της ενέργειας μιας συγκεκριμένης μπάντας συχνοτήτων για μια περίοδο στον χρόνο. \n",
    "\n",
    "Τα labels που συναντάμε στο dataset είναι 'R' για τα πετρώματα (Rocks) και 'Μ' για τους μεταλλικούς κυλίνδρους (Metal cylinder). "
   ]
  },
  {
   "cell_type": "markdown",
   "id": "66c7cde9",
   "metadata": {},
   "source": [
    "Σημειώνεται ότι **δεν** χρειάστηκε να γίνουν μετατροπές στο αρχείο 'sonar.all-data' πριν την εισαγωγή του στο Notebook"
   ]
  },
  {
   "cell_type": "markdown",
   "id": "d1c3018c",
   "metadata": {},
   "source": [
    "#### Ακολουθούν κάποιες επιπλέον πληροφορίες για το Dataset:\n",
    "* Το Dataset περιλαμβάνει 208 δείγματα. Κάθε δείγμα έχει 60 χαρακτηριστηκά. Το καθένα από αυτά είναι μία τιμή μεταξύ 0.0 και 1.1 (Το ολοκλήρωμα της ενέργειας που αναφέραμε παραπάνω) \n",
    "* Δεν υπάρχουν επικεφαλίδες, ούτε αρίθμηση γραμμών\n",
    "* Οι ετικέτες των κλάσεων παίρνουν τιμές 'R' και 'Μ', όπως αναφέραμε παραπάνω. Βρίσκονται στην 61$^{η}$ κολόνα (index 60).\n",
    "* Δεν υπάρχουν δείγματα με απουσιάζουσες τιμές\n",
    "* Η κλαση R έχει 97 δείγματα (ποσοστό: 46.6%), ενώ η κλάση M έχει 111 δείγματα (ποσοστό: 53.4%). Σύμφωνα με το όριο 60%-40% πρόκειται για ισορροπημένο Dataset."
   ]
  },
  {
   "cell_type": "markdown",
   "id": "45f8e4df",
   "metadata": {},
   "source": [
    "## Προετοιμασία"
   ]
  },
  {
   "cell_type": "code",
   "execution_count": 3,
   "id": "a7e7ada7",
   "metadata": {},
   "outputs": [
    {
     "name": "stdout",
     "output_type": "stream",
     "text": [
      "(208, 1)\n",
      "(208, 60)\n"
     ]
    }
   ],
   "source": [
    "# split the dataframe into features matrix and labels column\n",
    "features_df, labels_df = df.iloc[:,0:60], df.iloc[:,[60]]\n",
    "print(labels_df.shape)\n",
    "print(features_df.shape)"
   ]
  },
  {
   "cell_type": "code",
   "execution_count": 4,
   "id": "7b2d6100",
   "metadata": {},
   "outputs": [
    {
     "data": {
      "text/plain": [
       "array([[0.02  , 0.0371, 0.0428, ..., 0.0084, 0.009 , 0.0032],\n",
       "       [0.0453, 0.0523, 0.0843, ..., 0.0049, 0.0052, 0.0044],\n",
       "       [0.0262, 0.0582, 0.1099, ..., 0.0164, 0.0095, 0.0078],\n",
       "       ...,\n",
       "       [0.0522, 0.0437, 0.018 , ..., 0.0138, 0.0077, 0.0031],\n",
       "       [0.0303, 0.0353, 0.049 , ..., 0.0079, 0.0036, 0.0048],\n",
       "       [0.026 , 0.0363, 0.0136, ..., 0.0036, 0.0061, 0.0115]])"
      ]
     },
     "execution_count": 4,
     "metadata": {},
     "output_type": "execute_result"
    }
   ],
   "source": [
    "# turn features into a numpy array\n",
    "features_np = features_df.values\n",
    "features_np"
   ]
  },
  {
   "cell_type": "code",
   "execution_count": 5,
   "id": "26e8f1b8",
   "metadata": {
    "scrolled": true
   },
   "outputs": [
    {
     "data": {
      "text/plain": [
       "array([0, 0, 0, 0, 0, 0, 0, 0, 0, 0, 0, 0, 0, 0, 0, 0, 0, 0, 0, 0, 0, 0,\n",
       "       0, 0, 0, 0, 0, 0, 0, 0, 0, 0, 0, 0, 0, 0, 0, 0, 0, 0, 0, 0, 0, 0,\n",
       "       0, 0, 0, 0, 0, 0, 0, 0, 0, 0, 0, 0, 0, 0, 0, 0, 0, 0, 0, 0, 0, 0,\n",
       "       0, 0, 0, 0, 0, 0, 0, 0, 0, 0, 0, 0, 0, 0, 0, 0, 0, 0, 0, 0, 0, 0,\n",
       "       0, 0, 0, 0, 0, 0, 0, 0, 0, 1, 1, 1, 1, 1, 1, 1, 1, 1, 1, 1, 1, 1,\n",
       "       1, 1, 1, 1, 1, 1, 1, 1, 1, 1, 1, 1, 1, 1, 1, 1, 1, 1, 1, 1, 1, 1,\n",
       "       1, 1, 1, 1, 1, 1, 1, 1, 1, 1, 1, 1, 1, 1, 1, 1, 1, 1, 1, 1, 1, 1,\n",
       "       1, 1, 1, 1, 1, 1, 1, 1, 1, 1, 1, 1, 1, 1, 1, 1, 1, 1, 1, 1, 1, 1,\n",
       "       1, 1, 1, 1, 1, 1, 1, 1, 1, 1, 1, 1, 1, 1, 1, 1, 1, 1, 1, 1, 1, 1,\n",
       "       1, 1, 1, 1, 1, 1, 1, 1, 1, 1])"
      ]
     },
     "execution_count": 5,
     "metadata": {},
     "output_type": "execute_result"
    }
   ],
   "source": [
    "# replace (R,M) with (0,1) in labels \n",
    "\n",
    "labels_df = labels_df.replace({'R':0}).replace({'M':1})\n",
    "labels_np = labels_df.values.flatten()\n",
    "labels_np"
   ]
  },
  {
   "cell_type": "code",
   "execution_count": 6,
   "id": "0512a743",
   "metadata": {},
   "outputs": [],
   "source": [
    "from sklearn.model_selection import train_test_split\n",
    "\n",
    "# split our data into training and testing data\n",
    "train, test, train_labels, test_labels = train_test_split(features_np, labels_np,\n",
    "                                                          test_size=0.30,\n",
    "                                                          random_state=42,\n",
    "                                                          stratify = labels_np # keep proportions when spliting\n",
    "                                                         )"
   ]
  },
  {
   "cell_type": "markdown",
   "id": "fd6cf35e",
   "metadata": {},
   "source": [
    "## Ταξινόμηση"
   ]
  },
  {
   "cell_type": "code",
   "execution_count": 7,
   "id": "0d33120e",
   "metadata": {},
   "outputs": [],
   "source": [
    "# import all classifiers \n",
    "from sklearn.dummy import DummyClassifier\n",
    "from sklearn.naive_bayes import GaussianNB\n",
    "from sklearn.neighbors import KNeighborsClassifier\n",
    "from sklearn.linear_model import LogisticRegression\n",
    "\n",
    "\n",
    "# import metrics\n",
    "from sklearn.metrics import accuracy_score\n",
    "from sklearn.metrics import precision_recall_fscore_support\n",
    "from sklearn.metrics import classification_report\n",
    "from sklearn.metrics import f1_score"
   ]
  },
  {
   "cell_type": "markdown",
   "id": "86295d97",
   "metadata": {},
   "source": [
    "### Επίδοση Out-Of-the-Box"
   ]
  },
  {
   "cell_type": "code",
   "execution_count": 47,
   "id": "81220973",
   "metadata": {},
   "outputs": [],
   "source": [
    "# Dummy Classifier\n",
    "\n",
    "dc_uniform = DummyClassifier(strategy=\"uniform\", random_state=123)\n",
    "dc_constant_0 = DummyClassifier(strategy=\"constant\", constant=0)\n",
    "dc_constant_1 = DummyClassifier(strategy=\"constant\", constant=1)\n",
    "dc_most_frequent = DummyClassifier(strategy=\"most_frequent\")\n",
    "\n",
    "accuracy_scores_ootb = dict()\n",
    "f1_scores_ootb = dict()\n",
    "dummy_classifiers = [(dc_uniform, 'dc uniform'), (dc_constant_0, 'dc constant 0'),\\\n",
    "                       (dc_constant_1, 'dc constant 1'), (dc_most_frequent, 'dc most frequent')]\n",
    "\n",
    "for (classifier, name) in dummy_classifiers:\n",
    "    # train \n",
    "    model = classifier.fit(train, train_labels)\n",
    "    # predict for test data\n",
    "    preds = classifier.predict(test)\n",
    "    # calculate accuracy\n",
    "    accuracy_scores_ootb[name] = round(accuracy_score(test_labels, preds),3)\n",
    "    # calculate f1 scores\n",
    "    f1_scores_ootb[name] = round(f1_score(test_labels, preds),3)"
   ]
  },
  {
   "cell_type": "code",
   "execution_count": 48,
   "id": "d45bd3dc",
   "metadata": {},
   "outputs": [],
   "source": [
    "# Gaussian Naive Bayes Classifier\n",
    "\n",
    "name = 'gnb'\n",
    "gnb = GaussianNB()\n",
    "#train\n",
    "model = gnb.fit(train, train_labels)\n",
    "# predict for test data\n",
    "preds = gnb.predict(test)\n",
    "# calculate accuracy\n",
    "accuracy_scores_ootb[name] = round(accuracy_score(test_labels, preds),3)\n",
    "# calculate f1 scores\n",
    "# f1_scores_ootb[name] = round(precision_recall_fscore_support(test_labels, preds, average='macro', zero_division=1)[2],3)\n",
    "f1_scores_ootb[name] = round(f1_score(test_labels, preds),3)"
   ]
  },
  {
   "cell_type": "code",
   "execution_count": 49,
   "id": "f956e12b",
   "metadata": {},
   "outputs": [],
   "source": [
    "# K-Nearest-Neighbours\n",
    "\n",
    "name = 'knn'\n",
    "knn = KNeighborsClassifier()\n",
    "# train\n",
    "knn.fit(train, train_labels)\n",
    "# predict for test data\n",
    "preds = knn.predict(test)\n",
    "# calculate accuracy\n",
    "accuracy_scores_ootb[name] = round(accuracy_score(test_labels, preds),3)\n",
    "# calculate f1 scores\n",
    "# f1_scores_ootb[name] = round(precision_recall_fscore_support(test_labels, preds, average='macro', zero_division=1)[2],3)\n",
    "f1_scores_ootb[name] = round(f1_score(test_labels, preds),3)"
   ]
  },
  {
   "cell_type": "code",
   "execution_count": 50,
   "id": "3e9bb2d1",
   "metadata": {},
   "outputs": [],
   "source": [
    "name = 'logisticRegression'\n",
    "logReg = LogisticRegression()\n",
    "\n",
    "# train\n",
    "logReg.fit(train, train_labels)\n",
    "# predict for test data\n",
    "preds = logReg.predict(test)\n",
    "# calculate accuracy\n",
    "accuracy_scores_ootb[name] = round(accuracy_score(test_labels, preds),3)\n",
    "# calculate f1 scores\n",
    "# f1_scores_ootb[name] = round(precision_recall_fscore_support(test_labels, preds, average='macro', zero_division=1)[2],3)\n",
    "f1_scores_ootb[name] = round(f1_score(test_labels, preds),3)"
   ]
  },
  {
   "cell_type": "markdown",
   "id": "4237f3b9",
   "metadata": {},
   "source": [
    "**Παρουσίαση Επίδοσης Out-of-the-Box:**"
   ]
  },
  {
   "cell_type": "code",
   "execution_count": 51,
   "id": "72bc14fb",
   "metadata": {},
   "outputs": [
    {
     "data": {
      "text/markdown": [
       "\n",
       "| Classifier | Accuracy | F1-score |\n",
       "| :-: | :-: | :-: |\n",
       "|dc uniform|0.619|0.613|\n",
       "|dc constant 0|0.46|0.0|\n",
       "|dc constant 1|0.54|0.701|\n",
       "|dc most frequent|0.54|0.701|\n",
       "|gnb|0.762|0.769|\n",
       "|knn|0.794|0.822|\n",
       "|logisticRegression|0.778|0.794|\n"
      ],
      "text/plain": [
       "<IPython.core.display.Markdown object>"
      ]
     },
     "metadata": {},
     "output_type": "display_data"
    }
   ],
   "source": [
    "# print results\n",
    "from IPython.display import display, Markdown, Latex\n",
    "\n",
    "disp = \"\"\"\n",
    "| Classifier | Accuracy | F1-score |\n",
    "| :-: | :-: | :-: |\n",
    "\"\"\"\n",
    "\n",
    "for name in accuracy_scores_ootb.keys():\n",
    "    disp += \"|\"+name+\"|\"+str(accuracy_scores_ootb[name])+\"|\"+str(f1_scores_ootb[name])+\"|\\n\"\n",
    "\n",
    "display(Markdown(disp))\n"
   ]
  },
  {
   "cell_type": "code",
   "execution_count": 52,
   "id": "247da720",
   "metadata": {},
   "outputs": [],
   "source": [
    "import numpy as np\n",
    "import matplotlib.pyplot as plt\n",
    "\n",
    "# functions to plot bar charts\n",
    "\n",
    "def plotBarChart(x, ylist, cols, labs, tit, xlab, ylab):\n",
    "    plt.clf()\n",
    "    xaxis = np.arange(len(x))\n",
    "\n",
    "    # offsets of bar plots\n",
    "    totalWidth = len(ylist)*0.2-0.2\n",
    "    offset = [-(totalWidth/2)+i*0.2 for i in range(len(ylist))]\n",
    "    fig, ax = plt.subplots(figsize=(15,8))\n",
    "    \n",
    "    for i in range(len(ylist)):\n",
    "        fig = plt.bar(xaxis+offset[i], ylist[i], color=cols[i], label=labs[i], width=0.2)\n",
    "\n",
    "    # correct the xticklabels\n",
    "    ax.set_xticks(xaxis)\n",
    "    ax.set_xticklabels(x)\n",
    "    \n",
    "    plt.legend()\n",
    "    plt.xlabel(xlab)\n",
    "    plt.ylabel(ylab)\n",
    "    plt.title(tit)\n",
    "    \n",
    "def plotBarChartDoubleAxes(x,ylist,cols,labs,tit,xlab,ylabList):\n",
    "    xaxis = np.arange(len(x))\n",
    "    \n",
    "    # offsets of bar plots\n",
    "    totalWidth = len(ylist)*0.2-0.2\n",
    "    offset = [-(totalWidth/2)+i*0.2 for i in range(len(ylist))]\n",
    "    \n",
    "    \n",
    "    fig, ax0 = plt.subplots(figsize=(15,9))\n",
    "    # create second set of axes with same x axis\n",
    "    ax1 = ax0.twinx()\n",
    "    \n",
    "    ax0.set_yticks([i/10 for i in range(11)])\n",
    "    # plot       \n",
    "    ax0.bar(xaxis+offset[0], ylist[0], color=cols[0], label=labs[0], width=0.2)\n",
    "    ax1.bar(xaxis+offset[1], ylist[1], color=cols[1], label=labs[1], width=0.2)\n",
    "    \n",
    "    # ylabels\n",
    "    ax0.set_ylabel(ylabList[0])\n",
    "    ax1.set_ylabel(ylabList[1])\n",
    "    \n",
    "    # correct the xticklabels\n",
    "    ax0.set_xticks(xaxis)\n",
    "    ax0.set_xticklabels(x)\n",
    "    \n",
    "    \n",
    "    ax0.legend(loc='upper right', bbox_to_anchor=(0.95,0.99))\n",
    "    ax1.legend(loc='upper right', bbox_to_anchor=(0.95,0.94))\n",
    "    ax0.set_xlabel(xlab)\n",
    "    plt.title(tit)   "
   ]
  },
  {
   "cell_type": "code",
   "execution_count": 53,
   "id": "f9b8c019",
   "metadata": {},
   "outputs": [
    {
     "data": {
      "text/plain": [
       "<Figure size 432x288 with 0 Axes>"
      ]
     },
     "metadata": {},
     "output_type": "display_data"
    },
    {
     "data": {
      "image/png": "[encoded data removed]",
      "text/plain": [
       "<Figure size 1080x576 with 1 Axes>"
      ]
     },
     "metadata": {
      "needs_background": "light"
     },
     "output_type": "display_data"
    }
   ],
   "source": [
    "xaxis, yaxis = [], []\n",
    "for (key, val) in accuracy_scores_ootb.items():\n",
    "    xaxis.append(key)\n",
    "    yaxis.append(val)\n",
    "\n",
    "plotBarChart(xaxis, [yaxis], ['darkseagreen'], ['accuracy'],\\\n",
    "             'Accuracy scores per Classifier', 'Classifier', 'Accuracy Score')"
   ]
  },
  {
   "cell_type": "code",
   "execution_count": 54,
   "id": "7572f201",
   "metadata": {},
   "outputs": [
    {
     "data": {
      "text/plain": [
       "<Figure size 432x288 with 0 Axes>"
      ]
     },
     "metadata": {},
     "output_type": "display_data"
    },
    {
     "data": {
      "image/png": "[encoded data removed]",
      "text/plain": [
       "<Figure size 1080x576 with 1 Axes>"
      ]
     },
     "metadata": {
      "needs_background": "light"
     },
     "output_type": "display_data"
    }
   ],
   "source": [
    "xaxis, yaxis = [], []\n",
    "for (key, val) in f1_scores_ootb.items():\n",
    "    xaxis.append(key)\n",
    "    yaxis.append(val)\n",
    "\n",
    "plotBarChart(xaxis, [yaxis], ['teal'], ['F1-score'],\\\n",
    "             'F1-score per Classifier', 'Classifier', 'Accuracy Score')"
   ]
  },
  {
   "cell_type": "markdown",
   "id": "d069509c",
   "metadata": {},
   "source": [
    "**Σχολιασμός της Out-of-the-Box συμπεριφοράς**\n",
    "\n",
    "Οι Constant Dummy Classifiers έχουν Accuracy που ακολουθεί το ποσοστό εμφάνισης της κάθε κλάσης, όπως άλλωστε είναι αναμενόμενο. Επίσης, εδώ ο 1-constant Dummy πετυχαίνει και σχετικά καλό F1-score (είναι κοντινό με το καλύτερο F1-score που πετυχαίνουμε ootb). Επίσης, λόγω των πολύ ισορροπημένων κλάσεων στο Dataset (έχουμε πολύ κοντινό πλήθος δειγμάτων για τις δύο κλάσεις), εδώ ο Uniform Dummy πετυχαίνει καλύτερο Accuracy από τους Constant Dummy Classifiers.\n",
    "\n",
    "Όσον αφορά τους GNB, Knn και Logistic Regression Classifiers, βλέπουμε ότι έχουν σχετικά υψηλή επίδοση (σημαντικά καλύτερη από όλους τους Dummy) ακόμα και χωρίς να έχει πραγματοποιηθεί προεπεξεργασία και βελτιστοποίηση. Αυτό μπορεί να εξηγηθεί σε έναν βαθμό από τα χαρακτηριστικά του Dataset. Αρχικά, αυτό είναι ισορροπημένο από πλευράς κλάσεων. Επιπλέον, οι τιμές των χαρακτηριστικών σε όλες τις στήλες είναι αριθμητικές και διατεταγμένες, ενώ βρίσκονται ήδη μεταξύ 0 και 1 (είναι επί της ουσίας κανονικοποιημένες). Αυτά είναι γνωρίσματα τα οποία βελτιώνουν γενικά την επίδοση των ταξινομητών και υπό άλλες συνθήκες προσπαθούμε να τα πετύχουμε μέσω της διαδικασίας προεπεξεργασίας. Επομένως, η καλή επίδοση των ootb ταξινομητών οφείλεται σε έναν βαθμό στην καλή ποιότητα των δεδομένων μας. Με βάση τις παραπάνω παρατηρήσεις μας, αξίζει επίσης να σημειώσουμε ότι δεν περιμένουμε η επιπλέον προεπεξεργασία που θα πραγματοποιήσουμε να έχει θεαματικά αποτελέσματα στην επίδοση, δεδομένου ότι το Dataset είναι ήδη σε _\"σε καλή κατάσταση\"_. Για να σχολιάσουμε συγκεκριμένα την επίδοση, ως προς το accuracy ο GNB, ο Knn και ο Logistic Regression έχουν πολλή κοντινές επιδόσεις, με τον Knn να είναι ο καλύτερος με μικρή διαφορά. Για την μετρική F1-score ο Knn ξεχωρίζει ως ο καλύτερος με μεγαλύτερη διαφορά, ενώ οι άλλοι δύο πετυχαίνουν κοντινό αποτέλεσμα."
   ]
  },
  {
   "cell_type": "markdown",
   "id": "6a129ac5",
   "metadata": {},
   "source": [
    "## Βελτιστοποίηση"
   ]
  },
  {
   "cell_type": "code",
   "execution_count": 55,
   "id": "aa486ecb",
   "metadata": {},
   "outputs": [],
   "source": [
    "from imblearn.pipeline import Pipeline\n",
    "from sklearn.feature_selection import VarianceThreshold\n",
    "from sklearn.preprocessing import StandardScaler \n",
    "from imblearn.over_sampling import RandomOverSampler\n",
    "from sklearn.decomposition import PCA\n",
    "from sklearn import preprocessing\n",
    "from sklearn.model_selection import GridSearchCV\n",
    "from sklearn.metrics import confusion_matrix\n",
    "from sklearn.model_selection import StratifiedKFold\n",
    "\n",
    "import time\n",
    "\n",
    "cv = StratifiedKFold(n_splits=10, shuffle= True, random_state=42)"
   ]
  },
  {
   "cell_type": "markdown",
   "id": "5e5935d9",
   "metadata": {},
   "source": [
    "**Προεπεξεργασία**"
   ]
  },
  {
   "cell_type": "markdown",
   "id": "22abb0f2",
   "metadata": {},
   "source": [
    "Σε επίπεδο προεπεξεργασίας θα χρησιμοποιήσουμε τις εξής τεχνικές:\n",
    "* **Μείωση διαστατικότητας**. Για αυτόν τον σκοπό θα πειραματιστούμε με Variance Threshold και PCA. \n",
    "\n",
    "* **Εξισορρόπηση των κλάσεων**. Για αυτόν τον σκοπό θα χρησιμοποιήσουμε Random oversampling.\n",
    "\n",
    "* **Κανονικοποίηση**. Για αυτόν τον σκοπό θα χρησιμοποιήσουμε standard scaling.\n",
    "\n",
    "Παρακάτω θα εντάξουμε αυτες τις τεχνικές στα πλαίσια γενικότερων Pipelines."
   ]
  },
  {
   "cell_type": "code",
   "execution_count": 56,
   "id": "43f56393",
   "metadata": {},
   "outputs": [
    {
     "data": {
      "text/plain": [
       "0.07404667920760999"
      ]
     },
     "execution_count": 56,
     "metadata": {},
     "output_type": "execute_result"
    }
   ],
   "source": [
    "train_variance = train.var(axis=0)\n",
    "# print(train_variance)\n",
    "\n",
    "# maximum variance\n",
    "max_variance = np.max(train_variance)\n",
    "max_variance"
   ]
  },
  {
   "cell_type": "markdown",
   "id": "59c3c056",
   "metadata": {},
   "source": [
    "**Εύρεση Βέλτιστων Υπερπαραμέτρων**\n",
    "**(Διασταυρούμενη Επικύρωση με Αναζήτηση Πλέγματος)**\n",
    "\n",
    "Για κάθε ταξινομητή και κάθε μετρική θα κάνουμε πρώτα μία αναζήτηση σε μεγαλύτερα εύρη υπερπαραμέτρων για να εντοπίσουμε _καλές περιοχές_. Στη συνέχεια, με βάση τα απότελέσματά μας στην προηγούμενη φάση θα κάνουμε μία πιο συγκεκριμένη αναζήτηση, για να καταλήξουμε στον βέλτιστο ταξινομητή κάθε περίπτωσης."
   ]
  },
  {
   "cell_type": "code",
   "execution_count": 57,
   "id": "53e97e83",
   "metadata": {},
   "outputs": [],
   "source": [
    "accuracy_scores_best = dict()\n",
    "f1_scores_best = dict()\n",
    "accuracy_test_time = dict()\n",
    "accuracy_train_time = dict()\n",
    "f1_test_time = dict()\n",
    "f1_train_time = dict()\n",
    "cnf_matrices = dict()"
   ]
  },
  {
   "cell_type": "markdown",
   "id": "bcceecdf",
   "metadata": {},
   "source": [
    "### *Gaussian Naive Bayes*"
   ]
  },
  {
   "cell_type": "markdown",
   "id": "93a47d70",
   "metadata": {},
   "source": [
    "**GNB - Βελτιστοποίηση ως προς το F1-score**"
   ]
  },
  {
   "cell_type": "code",
   "execution_count": 58,
   "id": "17b8ce19",
   "metadata": {},
   "outputs": [],
   "source": [
    "# create pipeline to perform preprocessing and fitting\n",
    "selector = VarianceThreshold()\n",
    "scaler = StandardScaler()\n",
    "ros = RandomOverSampler()\n",
    "pca = PCA()\n",
    "clf = GaussianNB()\n",
    "pipe = Pipeline(steps=[('selector', selector), ('scaler', scaler), ('sampler', ros), ('pca', pca), ('gnb', clf)])"
   ]
  },
  {
   "cell_type": "code",
   "execution_count": 59,
   "id": "847f33b6",
   "metadata": {},
   "outputs": [],
   "source": [
    "# parameters for the grid\n",
    "\n",
    "# variance thresholds\n",
    "vthresholds = [0, max_variance/1000000, max_variance/100000,max_variance/10000,max_variance/1000,max_variance/100]\n",
    "\n",
    "# number of components for pca \n",
    "# n_components = [8,9,10,11,12,13,17,18,19,20]\n",
    "n_components = [5,10,20,30,40,45]\n",
    "\n",
    "#smoothing\n",
    "smoothing = np.logspace(0,-12, num=15)"
   ]
  },
  {
   "cell_type": "code",
   "execution_count": 60,
   "id": "cf5d862d",
   "metadata": {},
   "outputs": [],
   "source": [
    "estimator_f1_score_gnb = GridSearchCV(pipe,\n",
    "                         dict(selector__threshold=vthresholds,\n",
    "                              pca__n_components=n_components,\n",
    "                              gnb__var_smoothing = smoothing\n",
    "                             ),\n",
    "                         cv=cv,\n",
    "                         scoring='f1_macro',\n",
    "                         n_jobs=-1)"
   ]
  },
  {
   "cell_type": "code",
   "execution_count": 61,
   "id": "25ac70df",
   "metadata": {},
   "outputs": [
    {
     "data": {
      "text/html": [
       "<style>#sk-container-id-1 {color: black;background-color: white;}#sk-container-id-1 pre{padding: 0;}#sk-container-id-1 div.sk-toggleable {background-color: white;}#sk-container-id-1 label.sk-toggleable__label {cursor: pointer;display: block;width: 100%;margin-bottom: 0;padding: 0.3em;box-sizing: border-box;text-align: center;}#sk-container-id-1 label.sk-toggleable__label-arrow:before {content: \"▸\";float: left;margin-right: 0.25em;color: #696969;}#sk-container-id-1 label.sk-toggleable__label-arrow:hover:before {color: black;}#sk-container-id-1 div.sk-estimator:hover label.sk-toggleable__label-arrow:before {color: black;}#sk-container-id-1 div.sk-toggleable__content {max-height: 0;max-width: 0;overflow: hidden;text-align: left;background-color: #f0f8ff;}#sk-container-id-1 div.sk-toggleable__content pre {margin: 0.2em;color: black;border-radius: 0.25em;background-color: #f0f8ff;}#sk-container-id-1 input.sk-toggleable__control:checked~div.sk-toggleable__content {max-height: 200px;max-width: 100%;overflow: auto;}#sk-container-id-1 input.sk-toggleable__control:checked~label.sk-toggleable__label-arrow:before {content: \"▾\";}#sk-container-id-1 div.sk-estimator input.sk-toggleable__control:checked~label.sk-toggleable__label {background-color: #d4ebff;}#sk-container-id-1 div.sk-label input.sk-toggleable__control:checked~label.sk-toggleable__label {background-color: #d4ebff;}#sk-container-id-1 input.sk-hidden--visually {border: 0;clip: rect(1px 1px 1px 1px);clip: rect(1px, 1px, 1px, 1px);height: 1px;margin: -1px;overflow: hidden;padding: 0;position: absolute;width: 1px;}#sk-container-id-1 div.sk-estimator {font-family: monospace;background-color: #f0f8ff;border: 1px dotted black;border-radius: 0.25em;box-sizing: border-box;margin-bottom: 0.5em;}#sk-container-id-1 div.sk-estimator:hover {background-color: #d4ebff;}#sk-container-id-1 div.sk-parallel-item::after {content: \"\";width: 100%;border-bottom: 1px solid gray;flex-grow: 1;}#sk-container-id-1 div.sk-label:hover label.sk-toggleable__label {background-color: #d4ebff;}#sk-container-id-1 div.sk-serial::before {content: \"\";position: absolute;border-left: 1px solid gray;box-sizing: border-box;top: 0;bottom: 0;left: 50%;z-index: 0;}#sk-container-id-1 div.sk-serial {display: flex;flex-direction: column;align-items: center;background-color: white;padding-right: 0.2em;padding-left: 0.2em;position: relative;}#sk-container-id-1 div.sk-item {position: relative;z-index: 1;}#sk-container-id-1 div.sk-parallel {display: flex;align-items: stretch;justify-content: center;background-color: white;position: relative;}#sk-container-id-1 div.sk-item::before, #sk-container-id-1 div.sk-parallel-item::before {content: \"\";position: absolute;border-left: 1px solid gray;box-sizing: border-box;top: 0;bottom: 0;left: 50%;z-index: -1;}#sk-container-id-1 div.sk-parallel-item {display: flex;flex-direction: column;z-index: 1;position: relative;background-color: white;}#sk-container-id-1 div.sk-parallel-item:first-child::after {align-self: flex-end;width: 50%;}#sk-container-id-1 div.sk-parallel-item:last-child::after {align-self: flex-start;width: 50%;}#sk-container-id-1 div.sk-parallel-item:only-child::after {width: 0;}#sk-container-id-1 div.sk-dashed-wrapped {border: 1px dashed gray;margin: 0 0.4em 0.5em 0.4em;box-sizing: border-box;padding-bottom: 0.4em;background-color: white;}#sk-container-id-1 div.sk-label label {font-family: monospace;font-weight: bold;display: inline-block;line-height: 1.2em;}#sk-container-id-1 div.sk-label-container {text-align: center;}#sk-container-id-1 div.sk-container {/* jupyter's `normalize.less` sets `[hidden] { display: none; }` but bootstrap.min.css set `[hidden] { display: none !important; }` so we also need the `!important` here to be able to override the default hidden behavior on the sphinx rendered scikit-learn.org. See: https://github.com/scikit-learn/scikit-learn/issues/21755 */display: inline-block !important;position: relative;}#sk-container-id-1 div.sk-text-repr-fallback {display: none;}</style><div id=\"sk-container-id-1\" class=\"sk-top-container\"><div class=\"sk-text-repr-fallback\"><pre>GridSearchCV(cv=StratifiedKFold(n_splits=10, random_state=42, shuffle=True),\n",
       "             estimator=Pipeline(steps=[(&#x27;selector&#x27;, VarianceThreshold()),\n",
       "                                       (&#x27;scaler&#x27;, StandardScaler()),\n",
       "                                       (&#x27;sampler&#x27;, RandomOverSampler()),\n",
       "                                       (&#x27;pca&#x27;, PCA()), (&#x27;gnb&#x27;, GaussianNB())]),\n",
       "             n_jobs=-1,\n",
       "             param_grid={&#x27;gnb__var_smoothing&#x27;: array([1.00000000e+00, 1.38949549e-01, 1.93069773e-02, 2.68269580e-03,\n",
       "       3.72759372e-04, 5.17947468e-05, 7.19685673e-06, 1.00000000e-06,\n",
       "       1.38949549e-07, 1.93069773e-08, 2.68269580e-09, 3.72759372e-10,\n",
       "       5.17947468e-11, 7.19685673e-12, 1.00000000e-12]),\n",
       "                         &#x27;pca__n_components&#x27;: [5, 10, 20, 30, 40, 45],\n",
       "                         &#x27;selector__threshold&#x27;: [0, 7.404667920760999e-08,\n",
       "                                                 7.404667920760998e-07,\n",
       "                                                 7.404667920760999e-06,\n",
       "                                                 7.404667920760998e-05,\n",
       "                                                 0.0007404667920760999]},\n",
       "             scoring=&#x27;f1_macro&#x27;)</pre><b>In a Jupyter environment, please rerun this cell to show the HTML representation or trust the notebook. <br />On GitHub, the HTML representation is unable to render, please try loading this page with nbviewer.org.</b></div><div class=\"sk-container\" hidden><div class=\"sk-item sk-dashed-wrapped\"><div class=\"sk-label-container\"><div class=\"sk-label sk-toggleable\"><input class=\"sk-toggleable__control sk-hidden--visually\" id=\"sk-estimator-id-1\" type=\"checkbox\" ><label for=\"sk-estimator-id-1\" class=\"sk-toggleable__label sk-toggleable__label-arrow\">GridSearchCV</label><div class=\"sk-toggleable__content\"><pre>GridSearchCV(cv=StratifiedKFold(n_splits=10, random_state=42, shuffle=True),\n",
       "             estimator=Pipeline(steps=[(&#x27;selector&#x27;, VarianceThreshold()),\n",
       "                                       (&#x27;scaler&#x27;, StandardScaler()),\n",
       "                                       (&#x27;sampler&#x27;, RandomOverSampler()),\n",
       "                                       (&#x27;pca&#x27;, PCA()), (&#x27;gnb&#x27;, GaussianNB())]),\n",
       "             n_jobs=-1,\n",
       "             param_grid={&#x27;gnb__var_smoothing&#x27;: array([1.00000000e+00, 1.38949549e-01, 1.93069773e-02, 2.68269580e-03,\n",
       "       3.72759372e-04, 5.17947468e-05, 7.19685673e-06, 1.00000000e-06,\n",
       "       1.38949549e-07, 1.93069773e-08, 2.68269580e-09, 3.72759372e-10,\n",
       "       5.17947468e-11, 7.19685673e-12, 1.00000000e-12]),\n",
       "                         &#x27;pca__n_components&#x27;: [5, 10, 20, 30, 40, 45],\n",
       "                         &#x27;selector__threshold&#x27;: [0, 7.404667920760999e-08,\n",
       "                                                 7.404667920760998e-07,\n",
       "                                                 7.404667920760999e-06,\n",
       "                                                 7.404667920760998e-05,\n",
       "                                                 0.0007404667920760999]},\n",
       "             scoring=&#x27;f1_macro&#x27;)</pre></div></div></div><div class=\"sk-parallel\"><div class=\"sk-parallel-item\"><div class=\"sk-item\"><div class=\"sk-label-container\"><div class=\"sk-label sk-toggleable\"><input class=\"sk-toggleable__control sk-hidden--visually\" id=\"sk-estimator-id-2\" type=\"checkbox\" ><label for=\"sk-estimator-id-2\" class=\"sk-toggleable__label sk-toggleable__label-arrow\">estimator: Pipeline</label><div class=\"sk-toggleable__content\"><pre>Pipeline(steps=[(&#x27;selector&#x27;, VarianceThreshold()), (&#x27;scaler&#x27;, StandardScaler()),\n",
       "                (&#x27;sampler&#x27;, RandomOverSampler()), (&#x27;pca&#x27;, PCA()),\n",
       "                (&#x27;gnb&#x27;, GaussianNB())])</pre></div></div></div><div class=\"sk-serial\"><div class=\"sk-item\"><div class=\"sk-serial\"><div class=\"sk-item\"><div class=\"sk-estimator sk-toggleable\"><input class=\"sk-toggleable__control sk-hidden--visually\" id=\"sk-estimator-id-3\" type=\"checkbox\" ><label for=\"sk-estimator-id-3\" class=\"sk-toggleable__label sk-toggleable__label-arrow\">VarianceThreshold</label><div class=\"sk-toggleable__content\"><pre>VarianceThreshold()</pre></div></div></div><div class=\"sk-item\"><div class=\"sk-estimator sk-toggleable\"><input class=\"sk-toggleable__control sk-hidden--visually\" id=\"sk-estimator-id-4\" type=\"checkbox\" ><label for=\"sk-estimator-id-4\" class=\"sk-toggleable__label sk-toggleable__label-arrow\">StandardScaler</label><div class=\"sk-toggleable__content\"><pre>StandardScaler()</pre></div></div></div><div class=\"sk-item\"><div class=\"sk-estimator sk-toggleable\"><input class=\"sk-toggleable__control sk-hidden--visually\" id=\"sk-estimator-id-5\" type=\"checkbox\" ><label for=\"sk-estimator-id-5\" class=\"sk-toggleable__label sk-toggleable__label-arrow\">RandomOverSampler</label><div class=\"sk-toggleable__content\"><pre>RandomOverSampler()</pre></div></div></div><div class=\"sk-item\"><div class=\"sk-estimator sk-toggleable\"><input class=\"sk-toggleable__control sk-hidden--visually\" id=\"sk-estimator-id-6\" type=\"checkbox\" ><label for=\"sk-estimator-id-6\" class=\"sk-toggleable__label sk-toggleable__label-arrow\">PCA</label><div class=\"sk-toggleable__content\"><pre>PCA()</pre></div></div></div><div class=\"sk-item\"><div class=\"sk-estimator sk-toggleable\"><input class=\"sk-toggleable__control sk-hidden--visually\" id=\"sk-estimator-id-7\" type=\"checkbox\" ><label for=\"sk-estimator-id-7\" class=\"sk-toggleable__label sk-toggleable__label-arrow\">GaussianNB</label><div class=\"sk-toggleable__content\"><pre>GaussianNB()</pre></div></div></div></div></div></div></div></div></div></div></div></div>"
      ],
      "text/plain": [
       "GridSearchCV(cv=StratifiedKFold(n_splits=10, random_state=42, shuffle=True),\n",
       "             estimator=Pipeline(steps=[('selector', VarianceThreshold()),\n",
       "                                       ('scaler', StandardScaler()),\n",
       "                                       ('sampler', RandomOverSampler()),\n",
       "                                       ('pca', PCA()), ('gnb', GaussianNB())]),\n",
       "             n_jobs=-1,\n",
       "             param_grid={'gnb__var_smoothing': array([1.00000000e+00, 1.38949549e-01, 1.93069773e-02, 2.68269580e-03,\n",
       "       3.72759372e-04, 5.17947468e-05, 7.19685673e-06, 1.00000000e-06,\n",
       "       1.38949549e-07, 1.93069773e-08, 2.68269580e-09, 3.72759372e-10,\n",
       "       5.17947468e-11, 7.19685673e-12, 1.00000000e-12]),\n",
       "                         'pca__n_components': [5, 10, 20, 30, 40, 45],\n",
       "                         'selector__threshold': [0, 7.404667920760999e-08,\n",
       "                                                 7.404667920760998e-07,\n",
       "                                                 7.404667920760999e-06,\n",
       "                                                 7.404667920760998e-05,\n",
       "                                                 0.0007404667920760999]},\n",
       "             scoring='f1_macro')"
      ]
     },
     "execution_count": 61,
     "metadata": {},
     "output_type": "execute_result"
    }
   ],
   "source": [
    "# find best parameters according to f1-score metric\n",
    "estimator_f1_score_gnb.fit(train, train_labels)"
   ]
  },
  {
   "cell_type": "code",
   "execution_count": 62,
   "id": "116acf7a",
   "metadata": {},
   "outputs": [
    {
     "name": "stdout",
     "output_type": "stream",
     "text": [
      "{'gnb__var_smoothing': 0.002682695795279727, 'pca__n_components': 10, 'selector__threshold': 7.404667920760998e-05}\n"
     ]
    }
   ],
   "source": [
    "print(estimator_f1_score_gnb.best_params_)\n",
    "# print('Best f1-score: %s' % estimator_f1_score_gnb.best_score_)"
   ]
  },
  {
   "cell_type": "markdown",
   "id": "957313db",
   "metadata": {},
   "source": [
    "Με βάση τα παραπάνω αποτελέσματα κάνουμε μία πιό στενή αναζήτηση στην περιοχή των υπερπαραμέτρων που υποδεικνύει η προηγούμενη αναζητηση."
   ]
  },
  {
   "cell_type": "code",
   "execution_count": 63,
   "id": "04e01d4b",
   "metadata": {},
   "outputs": [],
   "source": [
    "selector = VarianceThreshold()\n",
    "scaler = StandardScaler()\n",
    "ros = RandomOverSampler()\n",
    "pca = PCA()\n",
    "clf = GaussianNB()\n",
    "pipe = Pipeline(steps=[('selector', selector), ('scaler', scaler), ('sampler', ros), ('pca', pca), ('gnb', clf)])\n",
    "\n",
    "# parameters for the grid\n",
    "vthresholds_narrow = np.logspace(-4, -6, num=20)\n",
    "n_components_narrow = [8,9,10,11,12,13]\n",
    "smoothing_narrow = np.logspace(-2,-4, num=20)\n",
    "\n",
    "estimator_f1_score_gnb_narrow = GridSearchCV(pipe,\n",
    "                         dict(selector__threshold=vthresholds_narrow,\n",
    "                              pca__n_components=n_components_narrow,\n",
    "                              gnb__var_smoothing = smoothing_narrow\n",
    "                             ),\n",
    "                         cv=cv,\n",
    "                         scoring='f1_macro',\n",
    "                         n_jobs=-1)\n",
    "start_time = time.time()\n",
    "estimator_f1_score_gnb_narrow.fit(train, train_labels)\n",
    "f1_train_time['gnb'] = (time.time()-start_time)"
   ]
  },
  {
   "cell_type": "code",
   "execution_count": 64,
   "id": "ad4582f4",
   "metadata": {},
   "outputs": [
    {
     "name": "stdout",
     "output_type": "stream",
     "text": [
      "{'gnb__var_smoothing': 0.0003359818286283781, 'pca__n_components': 10, 'selector__threshold': 4.8329302385717524e-05}\n"
     ]
    }
   ],
   "source": [
    "print(estimator_f1_score_gnb_narrow.best_params_)\n",
    "# print('Best f1-score: %s' % estimator_f1_score_gnb_narrow.best_score_)"
   ]
  },
  {
   "cell_type": "code",
   "execution_count": 65,
   "id": "31e7eb06",
   "metadata": {},
   "outputs": [
    {
     "name": "stdout",
     "output_type": "stream",
     "text": [
      "0.787\n"
     ]
    }
   ],
   "source": [
    "import time\n",
    "\n",
    "# test the best model\n",
    "gnb_f1_best = estimator_f1_score_gnb_narrow.best_estimator_\n",
    "\n",
    "# find testing time\n",
    "start_time = time.time()\n",
    "preds = gnb_f1_best.predict(test)\n",
    "f1_test_time['gnb'] = (time.time()-start_time)\n",
    "\n",
    "\n",
    "# calculate f1 scores\n",
    "f1_scores_best['gnb'] = round(f1_score(test_labels, preds),3)\n",
    "print(f1_scores_best['gnb'])"
   ]
  },
  {
   "cell_type": "markdown",
   "id": "f7f6afe6",
   "metadata": {},
   "source": [
    "**GNB - Βελτιστοποίηση ως προς το Accuracy**"
   ]
  },
  {
   "cell_type": "code",
   "execution_count": 66,
   "id": "75b69b9a",
   "metadata": {},
   "outputs": [
    {
     "data": {
      "text/html": [
       "<style>#sk-container-id-2 {color: black;background-color: white;}#sk-container-id-2 pre{padding: 0;}#sk-container-id-2 div.sk-toggleable {background-color: white;}#sk-container-id-2 label.sk-toggleable__label {cursor: pointer;display: block;width: 100%;margin-bottom: 0;padding: 0.3em;box-sizing: border-box;text-align: center;}#sk-container-id-2 label.sk-toggleable__label-arrow:before {content: \"▸\";float: left;margin-right: 0.25em;color: #696969;}#sk-container-id-2 label.sk-toggleable__label-arrow:hover:before {color: black;}#sk-container-id-2 div.sk-estimator:hover label.sk-toggleable__label-arrow:before {color: black;}#sk-container-id-2 div.sk-toggleable__content {max-height: 0;max-width: 0;overflow: hidden;text-align: left;background-color: #f0f8ff;}#sk-container-id-2 div.sk-toggleable__content pre {margin: 0.2em;color: black;border-radius: 0.25em;background-color: #f0f8ff;}#sk-container-id-2 input.sk-toggleable__control:checked~div.sk-toggleable__content {max-height: 200px;max-width: 100%;overflow: auto;}#sk-container-id-2 input.sk-toggleable__control:checked~label.sk-toggleable__label-arrow:before {content: \"▾\";}#sk-container-id-2 div.sk-estimator input.sk-toggleable__control:checked~label.sk-toggleable__label {background-color: #d4ebff;}#sk-container-id-2 div.sk-label input.sk-toggleable__control:checked~label.sk-toggleable__label {background-color: #d4ebff;}#sk-container-id-2 input.sk-hidden--visually {border: 0;clip: rect(1px 1px 1px 1px);clip: rect(1px, 1px, 1px, 1px);height: 1px;margin: -1px;overflow: hidden;padding: 0;position: absolute;width: 1px;}#sk-container-id-2 div.sk-estimator {font-family: monospace;background-color: #f0f8ff;border: 1px dotted black;border-radius: 0.25em;box-sizing: border-box;margin-bottom: 0.5em;}#sk-container-id-2 div.sk-estimator:hover {background-color: #d4ebff;}#sk-container-id-2 div.sk-parallel-item::after {content: \"\";width: 100%;border-bottom: 1px solid gray;flex-grow: 1;}#sk-container-id-2 div.sk-label:hover label.sk-toggleable__label {background-color: #d4ebff;}#sk-container-id-2 div.sk-serial::before {content: \"\";position: absolute;border-left: 1px solid gray;box-sizing: border-box;top: 0;bottom: 0;left: 50%;z-index: 0;}#sk-container-id-2 div.sk-serial {display: flex;flex-direction: column;align-items: center;background-color: white;padding-right: 0.2em;padding-left: 0.2em;position: relative;}#sk-container-id-2 div.sk-item {position: relative;z-index: 1;}#sk-container-id-2 div.sk-parallel {display: flex;align-items: stretch;justify-content: center;background-color: white;position: relative;}#sk-container-id-2 div.sk-item::before, #sk-container-id-2 div.sk-parallel-item::before {content: \"\";position: absolute;border-left: 1px solid gray;box-sizing: border-box;top: 0;bottom: 0;left: 50%;z-index: -1;}#sk-container-id-2 div.sk-parallel-item {display: flex;flex-direction: column;z-index: 1;position: relative;background-color: white;}#sk-container-id-2 div.sk-parallel-item:first-child::after {align-self: flex-end;width: 50%;}#sk-container-id-2 div.sk-parallel-item:last-child::after {align-self: flex-start;width: 50%;}#sk-container-id-2 div.sk-parallel-item:only-child::after {width: 0;}#sk-container-id-2 div.sk-dashed-wrapped {border: 1px dashed gray;margin: 0 0.4em 0.5em 0.4em;box-sizing: border-box;padding-bottom: 0.4em;background-color: white;}#sk-container-id-2 div.sk-label label {font-family: monospace;font-weight: bold;display: inline-block;line-height: 1.2em;}#sk-container-id-2 div.sk-label-container {text-align: center;}#sk-container-id-2 div.sk-container {/* jupyter's `normalize.less` sets `[hidden] { display: none; }` but bootstrap.min.css set `[hidden] { display: none !important; }` so we also need the `!important` here to be able to override the default hidden behavior on the sphinx rendered scikit-learn.org. See: https://github.com/scikit-learn/scikit-learn/issues/21755 */display: inline-block !important;position: relative;}#sk-container-id-2 div.sk-text-repr-fallback {display: none;}</style><div id=\"sk-container-id-2\" class=\"sk-top-container\"><div class=\"sk-text-repr-fallback\"><pre>GridSearchCV(cv=StratifiedKFold(n_splits=10, random_state=42, shuffle=True),\n",
       "             estimator=Pipeline(steps=[(&#x27;selector&#x27;, VarianceThreshold()),\n",
       "                                       (&#x27;scaler&#x27;, StandardScaler()),\n",
       "                                       (&#x27;sampler&#x27;, RandomOverSampler()),\n",
       "                                       (&#x27;pca&#x27;, PCA()), (&#x27;gnb&#x27;, GaussianNB())]),\n",
       "             n_jobs=-1,\n",
       "             param_grid={&#x27;gnb__var_smoothing&#x27;: array([1.00000000e+00, 1.38949549e-01, 1.93069773e-02, 2.68269580e-03,\n",
       "       3.72759372e-04, 5.17947468e-05, 7.19685673e-06, 1.00000000e-06,\n",
       "       1.38949549e-07, 1.93069773e-08, 2.68269580e-09, 3.72759372e-10,\n",
       "       5.17947468e-11, 7.19685673e-12, 1.00000000e-12]),\n",
       "                         &#x27;pca__n_components&#x27;: [5, 10, 20, 30, 40, 45],\n",
       "                         &#x27;selector__threshold&#x27;: [0, 7.404667920760999e-08,\n",
       "                                                 7.404667920760998e-07,\n",
       "                                                 7.404667920760999e-06,\n",
       "                                                 7.404667920760998e-05,\n",
       "                                                 0.0007404667920760999]},\n",
       "             scoring=&#x27;accuracy&#x27;)</pre><b>In a Jupyter environment, please rerun this cell to show the HTML representation or trust the notebook. <br />On GitHub, the HTML representation is unable to render, please try loading this page with nbviewer.org.</b></div><div class=\"sk-container\" hidden><div class=\"sk-item sk-dashed-wrapped\"><div class=\"sk-label-container\"><div class=\"sk-label sk-toggleable\"><input class=\"sk-toggleable__control sk-hidden--visually\" id=\"sk-estimator-id-8\" type=\"checkbox\" ><label for=\"sk-estimator-id-8\" class=\"sk-toggleable__label sk-toggleable__label-arrow\">GridSearchCV</label><div class=\"sk-toggleable__content\"><pre>GridSearchCV(cv=StratifiedKFold(n_splits=10, random_state=42, shuffle=True),\n",
       "             estimator=Pipeline(steps=[(&#x27;selector&#x27;, VarianceThreshold()),\n",
       "                                       (&#x27;scaler&#x27;, StandardScaler()),\n",
       "                                       (&#x27;sampler&#x27;, RandomOverSampler()),\n",
       "                                       (&#x27;pca&#x27;, PCA()), (&#x27;gnb&#x27;, GaussianNB())]),\n",
       "             n_jobs=-1,\n",
       "             param_grid={&#x27;gnb__var_smoothing&#x27;: array([1.00000000e+00, 1.38949549e-01, 1.93069773e-02, 2.68269580e-03,\n",
       "       3.72759372e-04, 5.17947468e-05, 7.19685673e-06, 1.00000000e-06,\n",
       "       1.38949549e-07, 1.93069773e-08, 2.68269580e-09, 3.72759372e-10,\n",
       "       5.17947468e-11, 7.19685673e-12, 1.00000000e-12]),\n",
       "                         &#x27;pca__n_components&#x27;: [5, 10, 20, 30, 40, 45],\n",
       "                         &#x27;selector__threshold&#x27;: [0, 7.404667920760999e-08,\n",
       "                                                 7.404667920760998e-07,\n",
       "                                                 7.404667920760999e-06,\n",
       "                                                 7.404667920760998e-05,\n",
       "                                                 0.0007404667920760999]},\n",
       "             scoring=&#x27;accuracy&#x27;)</pre></div></div></div><div class=\"sk-parallel\"><div class=\"sk-parallel-item\"><div class=\"sk-item\"><div class=\"sk-label-container\"><div class=\"sk-label sk-toggleable\"><input class=\"sk-toggleable__control sk-hidden--visually\" id=\"sk-estimator-id-9\" type=\"checkbox\" ><label for=\"sk-estimator-id-9\" class=\"sk-toggleable__label sk-toggleable__label-arrow\">estimator: Pipeline</label><div class=\"sk-toggleable__content\"><pre>Pipeline(steps=[(&#x27;selector&#x27;, VarianceThreshold()), (&#x27;scaler&#x27;, StandardScaler()),\n",
       "                (&#x27;sampler&#x27;, RandomOverSampler()), (&#x27;pca&#x27;, PCA()),\n",
       "                (&#x27;gnb&#x27;, GaussianNB())])</pre></div></div></div><div class=\"sk-serial\"><div class=\"sk-item\"><div class=\"sk-serial\"><div class=\"sk-item\"><div class=\"sk-estimator sk-toggleable\"><input class=\"sk-toggleable__control sk-hidden--visually\" id=\"sk-estimator-id-10\" type=\"checkbox\" ><label for=\"sk-estimator-id-10\" class=\"sk-toggleable__label sk-toggleable__label-arrow\">VarianceThreshold</label><div class=\"sk-toggleable__content\"><pre>VarianceThreshold()</pre></div></div></div><div class=\"sk-item\"><div class=\"sk-estimator sk-toggleable\"><input class=\"sk-toggleable__control sk-hidden--visually\" id=\"sk-estimator-id-11\" type=\"checkbox\" ><label for=\"sk-estimator-id-11\" class=\"sk-toggleable__label sk-toggleable__label-arrow\">StandardScaler</label><div class=\"sk-toggleable__content\"><pre>StandardScaler()</pre></div></div></div><div class=\"sk-item\"><div class=\"sk-estimator sk-toggleable\"><input class=\"sk-toggleable__control sk-hidden--visually\" id=\"sk-estimator-id-12\" type=\"checkbox\" ><label for=\"sk-estimator-id-12\" class=\"sk-toggleable__label sk-toggleable__label-arrow\">RandomOverSampler</label><div class=\"sk-toggleable__content\"><pre>RandomOverSampler()</pre></div></div></div><div class=\"sk-item\"><div class=\"sk-estimator sk-toggleable\"><input class=\"sk-toggleable__control sk-hidden--visually\" id=\"sk-estimator-id-13\" type=\"checkbox\" ><label for=\"sk-estimator-id-13\" class=\"sk-toggleable__label sk-toggleable__label-arrow\">PCA</label><div class=\"sk-toggleable__content\"><pre>PCA()</pre></div></div></div><div class=\"sk-item\"><div class=\"sk-estimator sk-toggleable\"><input class=\"sk-toggleable__control sk-hidden--visually\" id=\"sk-estimator-id-14\" type=\"checkbox\" ><label for=\"sk-estimator-id-14\" class=\"sk-toggleable__label sk-toggleable__label-arrow\">GaussianNB</label><div class=\"sk-toggleable__content\"><pre>GaussianNB()</pre></div></div></div></div></div></div></div></div></div></div></div></div>"
      ],
      "text/plain": [
       "GridSearchCV(cv=StratifiedKFold(n_splits=10, random_state=42, shuffle=True),\n",
       "             estimator=Pipeline(steps=[('selector', VarianceThreshold()),\n",
       "                                       ('scaler', StandardScaler()),\n",
       "                                       ('sampler', RandomOverSampler()),\n",
       "                                       ('pca', PCA()), ('gnb', GaussianNB())]),\n",
       "             n_jobs=-1,\n",
       "             param_grid={'gnb__var_smoothing': array([1.00000000e+00, 1.38949549e-01, 1.93069773e-02, 2.68269580e-03,\n",
       "       3.72759372e-04, 5.17947468e-05, 7.19685673e-06, 1.00000000e-06,\n",
       "       1.38949549e-07, 1.93069773e-08, 2.68269580e-09, 3.72759372e-10,\n",
       "       5.17947468e-11, 7.19685673e-12, 1.00000000e-12]),\n",
       "                         'pca__n_components': [5, 10, 20, 30, 40, 45],\n",
       "                         'selector__threshold': [0, 7.404667920760999e-08,\n",
       "                                                 7.404667920760998e-07,\n",
       "                                                 7.404667920760999e-06,\n",
       "                                                 7.404667920760998e-05,\n",
       "                                                 0.0007404667920760999]},\n",
       "             scoring='accuracy')"
      ]
     },
     "execution_count": 66,
     "metadata": {},
     "output_type": "execute_result"
    }
   ],
   "source": [
    "selector = VarianceThreshold()\n",
    "scaler = StandardScaler()\n",
    "ros = RandomOverSampler()\n",
    "pca = PCA()\n",
    "clf = GaussianNB()\n",
    "pipe = Pipeline(steps=[('selector', selector), ('scaler', scaler), ('sampler', ros), ('pca', pca), ('gnb', clf)])\n",
    "\n",
    "# parameters for the grid\n",
    "vthresholds = [0, max_variance/1000000, max_variance/100000,max_variance/10000,max_variance/1000,max_variance/100]\n",
    "n_components = [5,10,20,30,40,45]\n",
    "smoothing = np.logspace(0,-12, num=15)\n",
    "\n",
    "estimator_accuracy_gnb = GridSearchCV(pipe,\n",
    "                         dict(selector__threshold=vthresholds,\n",
    "                              pca__n_components=n_components,\n",
    "                              gnb__var_smoothing = smoothing\n",
    "                             ),\n",
    "                         cv=cv,\n",
    "                         scoring='accuracy',\n",
    "                         n_jobs=-1)\n",
    "\n",
    "# find best parameters according to accuracy metric\n",
    "estimator_accuracy_gnb.fit(train, train_labels)"
   ]
  },
  {
   "cell_type": "code",
   "execution_count": 67,
   "id": "1773c21c",
   "metadata": {
    "scrolled": true
   },
   "outputs": [
    {
     "name": "stdout",
     "output_type": "stream",
     "text": [
      "{'gnb__var_smoothing': 1e-12, 'pca__n_components': 10, 'selector__threshold': 7.404667920760998e-05}\n"
     ]
    }
   ],
   "source": [
    "print(estimator_accuracy_gnb.best_params_)\n",
    "# print('Best accuracy: %s' % estimator_accuracy_gnb.best_score_)"
   ]
  },
  {
   "cell_type": "markdown",
   "id": "7f4065c6",
   "metadata": {},
   "source": [
    "Με βάση τα παραπάνω αποτελέσματα προχωράμε σε μία πιο συγκεκριμένη αναζήτηση:"
   ]
  },
  {
   "cell_type": "code",
   "execution_count": 68,
   "id": "c216bd84",
   "metadata": {},
   "outputs": [],
   "source": [
    "selector = VarianceThreshold()\n",
    "scaler = StandardScaler()\n",
    "ros = RandomOverSampler()\n",
    "pca = PCA()\n",
    "clf = GaussianNB()\n",
    "pipe = Pipeline(steps=[('selector', selector), ('scaler', scaler), ('sampler', ros), ('pca', pca), ('gnb', clf)])\n",
    "\n",
    "# parameters for the grid\n",
    "vthresholds_narrow = np.logspace(-4,-6,num=15)\n",
    "\n",
    "n_components_narrow = [8,9,10,11,12,13]\n",
    "\n",
    "smoothing_narrow = np.logspace(-11,-13, num=20)\n",
    "\n",
    "estimator_accuracy_gnb_narrow = GridSearchCV(pipe,\n",
    "                         dict(selector__threshold=vthresholds_narrow,\n",
    "                              pca__n_components=n_components_narrow,\n",
    "                              gnb__var_smoothing = smoothing_narrow\n",
    "                             ),\n",
    "                         cv=cv,\n",
    "                         scoring='accuracy',\n",
    "                         n_jobs=-1)\n",
    "\n",
    "start_time = time.time()\n",
    "# find best parameters according to accuracy metric\n",
    "estimator_accuracy_gnb_narrow.fit(train, train_labels)\n",
    "accuracy_train_time['gnb'] = (time.time()-start_time)"
   ]
  },
  {
   "cell_type": "code",
   "execution_count": 69,
   "id": "a1261c53",
   "metadata": {},
   "outputs": [
    {
     "name": "stdout",
     "output_type": "stream",
     "text": [
      "0.81\n"
     ]
    }
   ],
   "source": [
    "import time\n",
    "\n",
    "# test the best model\n",
    "gnb_accuracy_best = estimator_accuracy_gnb_narrow.best_estimator_\n",
    "\n",
    "\n",
    "# find testing time\n",
    "start_time = time.time()\n",
    "preds = gnb_accuracy_best.predict(test)\n",
    "accuracy_test_time['gnb'] = (time.time()-start_time)\n",
    "\n",
    "# calculate accuracy\n",
    "accuracy_scores_best['gnb'] = round(accuracy_score(test_labels, preds),3)\n",
    "print(accuracy_scores_best['gnb'])\n",
    "\n",
    "# cnf matrix\n",
    "cnf_matrices['gnb'] = confusion_matrix(test_labels, preds)"
   ]
  },
  {
   "cell_type": "markdown",
   "id": "a78ee95a",
   "metadata": {},
   "source": [
    "### *K-Nearest-Neighbours*"
   ]
  },
  {
   "cell_type": "markdown",
   "id": "9224ead6",
   "metadata": {},
   "source": [
    "**Knn - Βελτιστοποίηση ως προς το F1-score**"
   ]
  },
  {
   "cell_type": "code",
   "execution_count": 70,
   "id": "961ab3c8",
   "metadata": {},
   "outputs": [
    {
     "data": {
      "text/html": [
       "<style>#sk-container-id-3 {color: black;background-color: white;}#sk-container-id-3 pre{padding: 0;}#sk-container-id-3 div.sk-toggleable {background-color: white;}#sk-container-id-3 label.sk-toggleable__label {cursor: pointer;display: block;width: 100%;margin-bottom: 0;padding: 0.3em;box-sizing: border-box;text-align: center;}#sk-container-id-3 label.sk-toggleable__label-arrow:before {content: \"▸\";float: left;margin-right: 0.25em;color: #696969;}#sk-container-id-3 label.sk-toggleable__label-arrow:hover:before {color: black;}#sk-container-id-3 div.sk-estimator:hover label.sk-toggleable__label-arrow:before {color: black;}#sk-container-id-3 div.sk-toggleable__content {max-height: 0;max-width: 0;overflow: hidden;text-align: left;background-color: #f0f8ff;}#sk-container-id-3 div.sk-toggleable__content pre {margin: 0.2em;color: black;border-radius: 0.25em;background-color: #f0f8ff;}#sk-container-id-3 input.sk-toggleable__control:checked~div.sk-toggleable__content {max-height: 200px;max-width: 100%;overflow: auto;}#sk-container-id-3 input.sk-toggleable__control:checked~label.sk-toggleable__label-arrow:before {content: \"▾\";}#sk-container-id-3 div.sk-estimator input.sk-toggleable__control:checked~label.sk-toggleable__label {background-color: #d4ebff;}#sk-container-id-3 div.sk-label input.sk-toggleable__control:checked~label.sk-toggleable__label {background-color: #d4ebff;}#sk-container-id-3 input.sk-hidden--visually {border: 0;clip: rect(1px 1px 1px 1px);clip: rect(1px, 1px, 1px, 1px);height: 1px;margin: -1px;overflow: hidden;padding: 0;position: absolute;width: 1px;}#sk-container-id-3 div.sk-estimator {font-family: monospace;background-color: #f0f8ff;border: 1px dotted black;border-radius: 0.25em;box-sizing: border-box;margin-bottom: 0.5em;}#sk-container-id-3 div.sk-estimator:hover {background-color: #d4ebff;}#sk-container-id-3 div.sk-parallel-item::after {content: \"\";width: 100%;border-bottom: 1px solid gray;flex-grow: 1;}#sk-container-id-3 div.sk-label:hover label.sk-toggleable__label {background-color: #d4ebff;}#sk-container-id-3 div.sk-serial::before {content: \"\";position: absolute;border-left: 1px solid gray;box-sizing: border-box;top: 0;bottom: 0;left: 50%;z-index: 0;}#sk-container-id-3 div.sk-serial {display: flex;flex-direction: column;align-items: center;background-color: white;padding-right: 0.2em;padding-left: 0.2em;position: relative;}#sk-container-id-3 div.sk-item {position: relative;z-index: 1;}#sk-container-id-3 div.sk-parallel {display: flex;align-items: stretch;justify-content: center;background-color: white;position: relative;}#sk-container-id-3 div.sk-item::before, #sk-container-id-3 div.sk-parallel-item::before {content: \"\";position: absolute;border-left: 1px solid gray;box-sizing: border-box;top: 0;bottom: 0;left: 50%;z-index: -1;}#sk-container-id-3 div.sk-parallel-item {display: flex;flex-direction: column;z-index: 1;position: relative;background-color: white;}#sk-container-id-3 div.sk-parallel-item:first-child::after {align-self: flex-end;width: 50%;}#sk-container-id-3 div.sk-parallel-item:last-child::after {align-self: flex-start;width: 50%;}#sk-container-id-3 div.sk-parallel-item:only-child::after {width: 0;}#sk-container-id-3 div.sk-dashed-wrapped {border: 1px dashed gray;margin: 0 0.4em 0.5em 0.4em;box-sizing: border-box;padding-bottom: 0.4em;background-color: white;}#sk-container-id-3 div.sk-label label {font-family: monospace;font-weight: bold;display: inline-block;line-height: 1.2em;}#sk-container-id-3 div.sk-label-container {text-align: center;}#sk-container-id-3 div.sk-container {/* jupyter's `normalize.less` sets `[hidden] { display: none; }` but bootstrap.min.css set `[hidden] { display: none !important; }` so we also need the `!important` here to be able to override the default hidden behavior on the sphinx rendered scikit-learn.org. See: https://github.com/scikit-learn/scikit-learn/issues/21755 */display: inline-block !important;position: relative;}#sk-container-id-3 div.sk-text-repr-fallback {display: none;}</style><div id=\"sk-container-id-3\" class=\"sk-top-container\"><div class=\"sk-text-repr-fallback\"><pre>GridSearchCV(cv=StratifiedKFold(n_splits=10, random_state=42, shuffle=True),\n",
       "             estimator=Pipeline(steps=[(&#x27;selector&#x27;, VarianceThreshold()),\n",
       "                                       (&#x27;scaler&#x27;, StandardScaler()),\n",
       "                                       (&#x27;pca&#x27;, PCA()),\n",
       "                                       (&#x27;kNN&#x27;,\n",
       "                                        KNeighborsClassifier(n_jobs=-1))]),\n",
       "             n_jobs=-1,\n",
       "             param_grid={&#x27;kNN__n_neighbors&#x27;: [1, 3, 5, 7],\n",
       "                         &#x27;pca__n_components&#x27;: [5, 10, 20, 30, 40, 45],\n",
       "                         &#x27;selector__threshold&#x27;: [0, 7.404667920760999e-08,\n",
       "                                                 7.404667920760998e-07,\n",
       "                                                 7.404667920760999e-06,\n",
       "                                                 7.404667920760998e-05,\n",
       "                                                 0.0007404667920760999]},\n",
       "             scoring=&#x27;f1_macro&#x27;)</pre><b>In a Jupyter environment, please rerun this cell to show the HTML representation or trust the notebook. <br />On GitHub, the HTML representation is unable to render, please try loading this page with nbviewer.org.</b></div><div class=\"sk-container\" hidden><div class=\"sk-item sk-dashed-wrapped\"><div class=\"sk-label-container\"><div class=\"sk-label sk-toggleable\"><input class=\"sk-toggleable__control sk-hidden--visually\" id=\"sk-estimator-id-15\" type=\"checkbox\" ><label for=\"sk-estimator-id-15\" class=\"sk-toggleable__label sk-toggleable__label-arrow\">GridSearchCV</label><div class=\"sk-toggleable__content\"><pre>GridSearchCV(cv=StratifiedKFold(n_splits=10, random_state=42, shuffle=True),\n",
       "             estimator=Pipeline(steps=[(&#x27;selector&#x27;, VarianceThreshold()),\n",
       "                                       (&#x27;scaler&#x27;, StandardScaler()),\n",
       "                                       (&#x27;pca&#x27;, PCA()),\n",
       "                                       (&#x27;kNN&#x27;,\n",
       "                                        KNeighborsClassifier(n_jobs=-1))]),\n",
       "             n_jobs=-1,\n",
       "             param_grid={&#x27;kNN__n_neighbors&#x27;: [1, 3, 5, 7],\n",
       "                         &#x27;pca__n_components&#x27;: [5, 10, 20, 30, 40, 45],\n",
       "                         &#x27;selector__threshold&#x27;: [0, 7.404667920760999e-08,\n",
       "                                                 7.404667920760998e-07,\n",
       "                                                 7.404667920760999e-06,\n",
       "                                                 7.404667920760998e-05,\n",
       "                                                 0.0007404667920760999]},\n",
       "             scoring=&#x27;f1_macro&#x27;)</pre></div></div></div><div class=\"sk-parallel\"><div class=\"sk-parallel-item\"><div class=\"sk-item\"><div class=\"sk-label-container\"><div class=\"sk-label sk-toggleable\"><input class=\"sk-toggleable__control sk-hidden--visually\" id=\"sk-estimator-id-16\" type=\"checkbox\" ><label for=\"sk-estimator-id-16\" class=\"sk-toggleable__label sk-toggleable__label-arrow\">estimator: Pipeline</label><div class=\"sk-toggleable__content\"><pre>Pipeline(steps=[(&#x27;selector&#x27;, VarianceThreshold()), (&#x27;scaler&#x27;, StandardScaler()),\n",
       "                (&#x27;pca&#x27;, PCA()), (&#x27;kNN&#x27;, KNeighborsClassifier(n_jobs=-1))])</pre></div></div></div><div class=\"sk-serial\"><div class=\"sk-item\"><div class=\"sk-serial\"><div class=\"sk-item\"><div class=\"sk-estimator sk-toggleable\"><input class=\"sk-toggleable__control sk-hidden--visually\" id=\"sk-estimator-id-17\" type=\"checkbox\" ><label for=\"sk-estimator-id-17\" class=\"sk-toggleable__label sk-toggleable__label-arrow\">VarianceThreshold</label><div class=\"sk-toggleable__content\"><pre>VarianceThreshold()</pre></div></div></div><div class=\"sk-item\"><div class=\"sk-estimator sk-toggleable\"><input class=\"sk-toggleable__control sk-hidden--visually\" id=\"sk-estimator-id-18\" type=\"checkbox\" ><label for=\"sk-estimator-id-18\" class=\"sk-toggleable__label sk-toggleable__label-arrow\">StandardScaler</label><div class=\"sk-toggleable__content\"><pre>StandardScaler()</pre></div></div></div><div class=\"sk-item\"><div class=\"sk-estimator sk-toggleable\"><input class=\"sk-toggleable__control sk-hidden--visually\" id=\"sk-estimator-id-19\" type=\"checkbox\" ><label for=\"sk-estimator-id-19\" class=\"sk-toggleable__label sk-toggleable__label-arrow\">PCA</label><div class=\"sk-toggleable__content\"><pre>PCA()</pre></div></div></div><div class=\"sk-item\"><div class=\"sk-estimator sk-toggleable\"><input class=\"sk-toggleable__control sk-hidden--visually\" id=\"sk-estimator-id-20\" type=\"checkbox\" ><label for=\"sk-estimator-id-20\" class=\"sk-toggleable__label sk-toggleable__label-arrow\">KNeighborsClassifier</label><div class=\"sk-toggleable__content\"><pre>KNeighborsClassifier(n_jobs=-1)</pre></div></div></div></div></div></div></div></div></div></div></div></div>"
      ],
      "text/plain": [
       "GridSearchCV(cv=StratifiedKFold(n_splits=10, random_state=42, shuffle=True),\n",
       "             estimator=Pipeline(steps=[('selector', VarianceThreshold()),\n",
       "                                       ('scaler', StandardScaler()),\n",
       "                                       ('pca', PCA()),\n",
       "                                       ('kNN',\n",
       "                                        KNeighborsClassifier(n_jobs=-1))]),\n",
       "             n_jobs=-1,\n",
       "             param_grid={'kNN__n_neighbors': [1, 3, 5, 7],\n",
       "                         'pca__n_components': [5, 10, 20, 30, 40, 45],\n",
       "                         'selector__threshold': [0, 7.404667920760999e-08,\n",
       "                                                 7.404667920760998e-07,\n",
       "                                                 7.404667920760999e-06,\n",
       "                                                 7.404667920760998e-05,\n",
       "                                                 0.0007404667920760999]},\n",
       "             scoring='f1_macro')"
      ]
     },
     "execution_count": 70,
     "metadata": {},
     "output_type": "execute_result"
    }
   ],
   "source": [
    "selector = VarianceThreshold()\n",
    "scaler = StandardScaler()\n",
    "ros = RandomOverSampler()\n",
    "pca = PCA()\n",
    "clf = KNeighborsClassifier(n_jobs=-1) \n",
    "pipe = Pipeline(steps=[('selector', selector), ('scaler', scaler), ('pca', pca), ('kNN', clf)])\n",
    "\n",
    "# variance thresholds\n",
    "vthresholds = [0, max_variance/1000000, max_variance/100000,max_variance/10000,max_variance/1000, max_variance/100]\n",
    "\n",
    "# number of components for pca \n",
    "n_components = [5,10,20,30,40,45]\n",
    "\n",
    "# number of neighbours\n",
    "k = [1,3,5,7]\n",
    "\n",
    "estimator_f1_score_knn = GridSearchCV(pipe, \n",
    "                         dict(selector__threshold=vthresholds, \n",
    "                              pca__n_components=n_components, \n",
    "                              kNN__n_neighbors=k\n",
    "                             ), \n",
    "                         cv=cv, \n",
    "                         scoring='f1_macro',\n",
    "                         n_jobs=-1)\n",
    "\n",
    "# find best parameters according to f1-score metric\n",
    "estimator_f1_score_knn.fit(train, train_labels)"
   ]
  },
  {
   "cell_type": "code",
   "execution_count": 71,
   "id": "85aaf604",
   "metadata": {},
   "outputs": [
    {
     "name": "stdout",
     "output_type": "stream",
     "text": [
      "{'kNN__n_neighbors': 1, 'pca__n_components': 20, 'selector__threshold': 0}\n"
     ]
    }
   ],
   "source": [
    "print(estimator_f1_score_knn.best_params_)\n",
    "# print('Best f1-score: %s' % estimator_f1_score_knn.best_score_)"
   ]
  },
  {
   "cell_type": "markdown",
   "id": "7477eb23",
   "metadata": {},
   "source": [
    "Προχωράμε σε μιά πιο στενή αναζήτηση:"
   ]
  },
  {
   "cell_type": "code",
   "execution_count": 72,
   "id": "2656f1f3",
   "metadata": {},
   "outputs": [],
   "source": [
    "selector = VarianceThreshold()\n",
    "scaler = StandardScaler()\n",
    "ros = RandomOverSampler()\n",
    "pca = PCA()\n",
    "clf = KNeighborsClassifier(n_jobs=-1) \n",
    "pipe = Pipeline(steps=[('selector', selector), ('scaler', scaler), ('pca', pca), ('kNN', clf)])\n",
    "\n",
    "# grid search parameters\n",
    "vthresholds_narrow = list(set([0]) | set(np.logspace(-10,-14,num=15)))\n",
    "n_components_narrow = [16,17,18,19,20,21,22,23,24]\n",
    "k_narrow = [1,2,3,4]\n",
    "\n",
    "estimator_f1_score_knn_narrow = GridSearchCV(pipe, \n",
    "                         dict(selector__threshold=vthresholds_narrow, \n",
    "                              pca__n_components=n_components_narrow, \n",
    "                              kNN__n_neighbors=k_narrow\n",
    "                             ), \n",
    "                         cv=cv, \n",
    "                         scoring='f1_macro',\n",
    "                         n_jobs=-1)\n",
    "\n",
    "start_time = time.time()\n",
    "# find best parameters according to f1-score metric\n",
    "estimator_f1_score_knn_narrow.fit(train, train_labels)\n",
    "f1_train_time['knn'] = (time.time()-start_time)"
   ]
  },
  {
   "cell_type": "code",
   "execution_count": 73,
   "id": "71c1a0f2",
   "metadata": {},
   "outputs": [
    {
     "name": "stdout",
     "output_type": "stream",
     "text": [
      "{'kNN__n_neighbors': 1, 'pca__n_components': 20, 'selector__threshold': 0}\n"
     ]
    }
   ],
   "source": [
    "print(estimator_f1_score_knn_narrow.best_params_)\n",
    "# print('Best f1-score: %s' % estimator_f1_score_knn_narrow.best_score_)"
   ]
  },
  {
   "cell_type": "code",
   "execution_count": 74,
   "id": "bbd0a168",
   "metadata": {},
   "outputs": [
    {
     "name": "stdout",
     "output_type": "stream",
     "text": [
      "0.886\n"
     ]
    }
   ],
   "source": [
    "import time\n",
    "\n",
    "# test best model\n",
    "knn_f1_best = estimator_f1_score_knn_narrow.best_estimator_\n",
    "\n",
    "# find testing time\n",
    "start_time = time.time()\n",
    "preds = knn_f1_best.predict(test)\n",
    "f1_test_time['knn'] = (time.time()-start_time)\n",
    "\n",
    "f1_scores_best['knn'] = round(f1_score(test_labels, preds),3)\n",
    "print(f1_scores_best['knn'])"
   ]
  },
  {
   "cell_type": "markdown",
   "id": "b14d552b",
   "metadata": {},
   "source": [
    "**Knn - Βελτιστοποίηση ως προς το Accuracy**"
   ]
  },
  {
   "cell_type": "code",
   "execution_count": 75,
   "id": "2d466e65",
   "metadata": {},
   "outputs": [
    {
     "data": {
      "text/html": [
       "<style>#sk-container-id-4 {color: black;background-color: white;}#sk-container-id-4 pre{padding: 0;}#sk-container-id-4 div.sk-toggleable {background-color: white;}#sk-container-id-4 label.sk-toggleable__label {cursor: pointer;display: block;width: 100%;margin-bottom: 0;padding: 0.3em;box-sizing: border-box;text-align: center;}#sk-container-id-4 label.sk-toggleable__label-arrow:before {content: \"▸\";float: left;margin-right: 0.25em;color: #696969;}#sk-container-id-4 label.sk-toggleable__label-arrow:hover:before {color: black;}#sk-container-id-4 div.sk-estimator:hover label.sk-toggleable__label-arrow:before {color: black;}#sk-container-id-4 div.sk-toggleable__content {max-height: 0;max-width: 0;overflow: hidden;text-align: left;background-color: #f0f8ff;}#sk-container-id-4 div.sk-toggleable__content pre {margin: 0.2em;color: black;border-radius: 0.25em;background-color: #f0f8ff;}#sk-container-id-4 input.sk-toggleable__control:checked~div.sk-toggleable__content {max-height: 200px;max-width: 100%;overflow: auto;}#sk-container-id-4 input.sk-toggleable__control:checked~label.sk-toggleable__label-arrow:before {content: \"▾\";}#sk-container-id-4 div.sk-estimator input.sk-toggleable__control:checked~label.sk-toggleable__label {background-color: #d4ebff;}#sk-container-id-4 div.sk-label input.sk-toggleable__control:checked~label.sk-toggleable__label {background-color: #d4ebff;}#sk-container-id-4 input.sk-hidden--visually {border: 0;clip: rect(1px 1px 1px 1px);clip: rect(1px, 1px, 1px, 1px);height: 1px;margin: -1px;overflow: hidden;padding: 0;position: absolute;width: 1px;}#sk-container-id-4 div.sk-estimator {font-family: monospace;background-color: #f0f8ff;border: 1px dotted black;border-radius: 0.25em;box-sizing: border-box;margin-bottom: 0.5em;}#sk-container-id-4 div.sk-estimator:hover {background-color: #d4ebff;}#sk-container-id-4 div.sk-parallel-item::after {content: \"\";width: 100%;border-bottom: 1px solid gray;flex-grow: 1;}#sk-container-id-4 div.sk-label:hover label.sk-toggleable__label {background-color: #d4ebff;}#sk-container-id-4 div.sk-serial::before {content: \"\";position: absolute;border-left: 1px solid gray;box-sizing: border-box;top: 0;bottom: 0;left: 50%;z-index: 0;}#sk-container-id-4 div.sk-serial {display: flex;flex-direction: column;align-items: center;background-color: white;padding-right: 0.2em;padding-left: 0.2em;position: relative;}#sk-container-id-4 div.sk-item {position: relative;z-index: 1;}#sk-container-id-4 div.sk-parallel {display: flex;align-items: stretch;justify-content: center;background-color: white;position: relative;}#sk-container-id-4 div.sk-item::before, #sk-container-id-4 div.sk-parallel-item::before {content: \"\";position: absolute;border-left: 1px solid gray;box-sizing: border-box;top: 0;bottom: 0;left: 50%;z-index: -1;}#sk-container-id-4 div.sk-parallel-item {display: flex;flex-direction: column;z-index: 1;position: relative;background-color: white;}#sk-container-id-4 div.sk-parallel-item:first-child::after {align-self: flex-end;width: 50%;}#sk-container-id-4 div.sk-parallel-item:last-child::after {align-self: flex-start;width: 50%;}#sk-container-id-4 div.sk-parallel-item:only-child::after {width: 0;}#sk-container-id-4 div.sk-dashed-wrapped {border: 1px dashed gray;margin: 0 0.4em 0.5em 0.4em;box-sizing: border-box;padding-bottom: 0.4em;background-color: white;}#sk-container-id-4 div.sk-label label {font-family: monospace;font-weight: bold;display: inline-block;line-height: 1.2em;}#sk-container-id-4 div.sk-label-container {text-align: center;}#sk-container-id-4 div.sk-container {/* jupyter's `normalize.less` sets `[hidden] { display: none; }` but bootstrap.min.css set `[hidden] { display: none !important; }` so we also need the `!important` here to be able to override the default hidden behavior on the sphinx rendered scikit-learn.org. See: https://github.com/scikit-learn/scikit-learn/issues/21755 */display: inline-block !important;position: relative;}#sk-container-id-4 div.sk-text-repr-fallback {display: none;}</style><div id=\"sk-container-id-4\" class=\"sk-top-container\"><div class=\"sk-text-repr-fallback\"><pre>GridSearchCV(cv=StratifiedKFold(n_splits=10, random_state=42, shuffle=True),\n",
       "             estimator=Pipeline(steps=[(&#x27;selector&#x27;, VarianceThreshold()),\n",
       "                                       (&#x27;scaler&#x27;, StandardScaler()),\n",
       "                                       (&#x27;pca&#x27;, PCA()),\n",
       "                                       (&#x27;kNN&#x27;,\n",
       "                                        KNeighborsClassifier(n_jobs=-1))]),\n",
       "             n_jobs=-1,\n",
       "             param_grid={&#x27;kNN__n_neighbors&#x27;: [1, 3, 5, 7],\n",
       "                         &#x27;pca__n_components&#x27;: [5, 10, 20, 30, 40, 45],\n",
       "                         &#x27;selector__threshold&#x27;: [0, 7.404667920760999e-08,\n",
       "                                                 7.404667920760998e-07,\n",
       "                                                 7.404667920760999e-06,\n",
       "                                                 7.404667920760998e-05,\n",
       "                                                 0.0007404667920760999]},\n",
       "             scoring=&#x27;accuracy&#x27;)</pre><b>In a Jupyter environment, please rerun this cell to show the HTML representation or trust the notebook. <br />On GitHub, the HTML representation is unable to render, please try loading this page with nbviewer.org.</b></div><div class=\"sk-container\" hidden><div class=\"sk-item sk-dashed-wrapped\"><div class=\"sk-label-container\"><div class=\"sk-label sk-toggleable\"><input class=\"sk-toggleable__control sk-hidden--visually\" id=\"sk-estimator-id-21\" type=\"checkbox\" ><label for=\"sk-estimator-id-21\" class=\"sk-toggleable__label sk-toggleable__label-arrow\">GridSearchCV</label><div class=\"sk-toggleable__content\"><pre>GridSearchCV(cv=StratifiedKFold(n_splits=10, random_state=42, shuffle=True),\n",
       "             estimator=Pipeline(steps=[(&#x27;selector&#x27;, VarianceThreshold()),\n",
       "                                       (&#x27;scaler&#x27;, StandardScaler()),\n",
       "                                       (&#x27;pca&#x27;, PCA()),\n",
       "                                       (&#x27;kNN&#x27;,\n",
       "                                        KNeighborsClassifier(n_jobs=-1))]),\n",
       "             n_jobs=-1,\n",
       "             param_grid={&#x27;kNN__n_neighbors&#x27;: [1, 3, 5, 7],\n",
       "                         &#x27;pca__n_components&#x27;: [5, 10, 20, 30, 40, 45],\n",
       "                         &#x27;selector__threshold&#x27;: [0, 7.404667920760999e-08,\n",
       "                                                 7.404667920760998e-07,\n",
       "                                                 7.404667920760999e-06,\n",
       "                                                 7.404667920760998e-05,\n",
       "                                                 0.0007404667920760999]},\n",
       "             scoring=&#x27;accuracy&#x27;)</pre></div></div></div><div class=\"sk-parallel\"><div class=\"sk-parallel-item\"><div class=\"sk-item\"><div class=\"sk-label-container\"><div class=\"sk-label sk-toggleable\"><input class=\"sk-toggleable__control sk-hidden--visually\" id=\"sk-estimator-id-22\" type=\"checkbox\" ><label for=\"sk-estimator-id-22\" class=\"sk-toggleable__label sk-toggleable__label-arrow\">estimator: Pipeline</label><div class=\"sk-toggleable__content\"><pre>Pipeline(steps=[(&#x27;selector&#x27;, VarianceThreshold()), (&#x27;scaler&#x27;, StandardScaler()),\n",
       "                (&#x27;pca&#x27;, PCA()), (&#x27;kNN&#x27;, KNeighborsClassifier(n_jobs=-1))])</pre></div></div></div><div class=\"sk-serial\"><div class=\"sk-item\"><div class=\"sk-serial\"><div class=\"sk-item\"><div class=\"sk-estimator sk-toggleable\"><input class=\"sk-toggleable__control sk-hidden--visually\" id=\"sk-estimator-id-23\" type=\"checkbox\" ><label for=\"sk-estimator-id-23\" class=\"sk-toggleable__label sk-toggleable__label-arrow\">VarianceThreshold</label><div class=\"sk-toggleable__content\"><pre>VarianceThreshold()</pre></div></div></div><div class=\"sk-item\"><div class=\"sk-estimator sk-toggleable\"><input class=\"sk-toggleable__control sk-hidden--visually\" id=\"sk-estimator-id-24\" type=\"checkbox\" ><label for=\"sk-estimator-id-24\" class=\"sk-toggleable__label sk-toggleable__label-arrow\">StandardScaler</label><div class=\"sk-toggleable__content\"><pre>StandardScaler()</pre></div></div></div><div class=\"sk-item\"><div class=\"sk-estimator sk-toggleable\"><input class=\"sk-toggleable__control sk-hidden--visually\" id=\"sk-estimator-id-25\" type=\"checkbox\" ><label for=\"sk-estimator-id-25\" class=\"sk-toggleable__label sk-toggleable__label-arrow\">PCA</label><div class=\"sk-toggleable__content\"><pre>PCA()</pre></div></div></div><div class=\"sk-item\"><div class=\"sk-estimator sk-toggleable\"><input class=\"sk-toggleable__control sk-hidden--visually\" id=\"sk-estimator-id-26\" type=\"checkbox\" ><label for=\"sk-estimator-id-26\" class=\"sk-toggleable__label sk-toggleable__label-arrow\">KNeighborsClassifier</label><div class=\"sk-toggleable__content\"><pre>KNeighborsClassifier(n_jobs=-1)</pre></div></div></div></div></div></div></div></div></div></div></div></div>"
      ],
      "text/plain": [
       "GridSearchCV(cv=StratifiedKFold(n_splits=10, random_state=42, shuffle=True),\n",
       "             estimator=Pipeline(steps=[('selector', VarianceThreshold()),\n",
       "                                       ('scaler', StandardScaler()),\n",
       "                                       ('pca', PCA()),\n",
       "                                       ('kNN',\n",
       "                                        KNeighborsClassifier(n_jobs=-1))]),\n",
       "             n_jobs=-1,\n",
       "             param_grid={'kNN__n_neighbors': [1, 3, 5, 7],\n",
       "                         'pca__n_components': [5, 10, 20, 30, 40, 45],\n",
       "                         'selector__threshold': [0, 7.404667920760999e-08,\n",
       "                                                 7.404667920760998e-07,\n",
       "                                                 7.404667920760999e-06,\n",
       "                                                 7.404667920760998e-05,\n",
       "                                                 0.0007404667920760999]},\n",
       "             scoring='accuracy')"
      ]
     },
     "execution_count": 75,
     "metadata": {},
     "output_type": "execute_result"
    }
   ],
   "source": [
    "selector = VarianceThreshold()\n",
    "scaler = StandardScaler()\n",
    "ros = RandomOverSampler()\n",
    "pca = PCA()\n",
    "clf = KNeighborsClassifier(n_jobs=-1) \n",
    "pipe = Pipeline(steps=[('selector', selector), ('scaler', scaler), ('pca', pca), ('kNN', clf)])\n",
    "\n",
    "vthresholds = [0, max_variance/1000000, max_variance/100000,max_variance/10000,max_variance/1000, max_variance/100]\n",
    "n_components = [5,10,20,30,40,45]\n",
    "k = [1,3,5,7]\n",
    "\n",
    "estimator_accuracy_knn = GridSearchCV(pipe, \n",
    "                         dict(selector__threshold=vthresholds, \n",
    "                              pca__n_components=n_components, \n",
    "                              kNN__n_neighbors=k\n",
    "                             ), \n",
    "                         cv=cv, \n",
    "                         scoring='accuracy',\n",
    "                         n_jobs=-1)\n",
    "\n",
    "# find best parameters according to accuracy metric\n",
    "estimator_accuracy_knn.fit(train, train_labels)"
   ]
  },
  {
   "cell_type": "code",
   "execution_count": 76,
   "id": "21e83477",
   "metadata": {},
   "outputs": [
    {
     "name": "stdout",
     "output_type": "stream",
     "text": [
      "{'kNN__n_neighbors': 1, 'pca__n_components': 20, 'selector__threshold': 0}\n"
     ]
    }
   ],
   "source": [
    "print(estimator_accuracy_knn.best_params_)\n",
    "# print('Best accuracy: %s' % estimator_accuracy_knn.best_score_)"
   ]
  },
  {
   "cell_type": "markdown",
   "id": "e2786b88",
   "metadata": {},
   "source": [
    "Κάνουμε μιά πιο στενή αναζήτηση που πληροφορείται από τα απότελέσματα της παραπάνω:"
   ]
  },
  {
   "cell_type": "code",
   "execution_count": 77,
   "id": "02a387c8",
   "metadata": {},
   "outputs": [],
   "source": [
    "selector = VarianceThreshold()\n",
    "scaler = StandardScaler()\n",
    "ros = RandomOverSampler()\n",
    "pca = PCA()\n",
    "clf = KNeighborsClassifier(n_jobs=-1) \n",
    "pipe = Pipeline(steps=[('selector', selector), ('scaler', scaler), ('pca', pca), ('kNN', clf)])\n",
    "\n",
    "vthresholds_narrow = list(set([0]) | set(np.logspace(-10,-14,num=15)))\n",
    "n_components_narrow = [16,17,18,19,20,21,22,23]\n",
    "k_narrow = [1,2,3]\n",
    "\n",
    "estimator_accuracy_knn_narrow = GridSearchCV(pipe, \n",
    "                         dict(selector__threshold=vthresholds_narrow, \n",
    "                              pca__n_components=n_components_narrow, \n",
    "                              kNN__n_neighbors=k_narrow\n",
    "                             ), \n",
    "                         cv=cv, \n",
    "                         scoring='accuracy',\n",
    "                         n_jobs=-1)\n",
    "\n",
    "start_time = time.time()\n",
    "# find best parameters according to accuracy metric\n",
    "estimator_accuracy_knn_narrow.fit(train, train_labels)\n",
    "accuracy_train_time['knn'] = (time.time()-start_time)"
   ]
  },
  {
   "cell_type": "code",
   "execution_count": 78,
   "id": "76666c89",
   "metadata": {},
   "outputs": [
    {
     "name": "stdout",
     "output_type": "stream",
     "text": [
      "{'kNN__n_neighbors': 1, 'pca__n_components': 20, 'selector__threshold': 0}\n"
     ]
    }
   ],
   "source": [
    "print(estimator_accuracy_knn_narrow.best_params_)\n",
    "# print('Best accuracy: %s' % estimator_accuracy_knn_narrow.best_score_)"
   ]
  },
  {
   "cell_type": "code",
   "execution_count": 79,
   "id": "ad199ee5",
   "metadata": {},
   "outputs": [
    {
     "name": "stdout",
     "output_type": "stream",
     "text": [
      "0.873\n"
     ]
    }
   ],
   "source": [
    "import time\n",
    "\n",
    "# test the best model\n",
    "knn_accuracy_best = estimator_accuracy_knn_narrow.best_estimator_\n",
    "\n",
    "# find testing time\n",
    "start_time = time.time()\n",
    "preds = knn_accuracy_best.predict(test)\n",
    "accuracy_test_time['knn'] = (time.time()-start_time)\n",
    "\n",
    "# calculate accuracy\n",
    "accuracy_scores_best['knn'] = round(accuracy_score(test_labels, preds),3)\n",
    "\n",
    "# cnf matrix\n",
    "cnf_matrices['knn'] = confusion_matrix(test_labels, preds)\n",
    "print(accuracy_scores_best['knn'])"
   ]
  },
  {
   "cell_type": "markdown",
   "id": "c11e8361",
   "metadata": {},
   "source": [
    "### *Logistic Regression*"
   ]
  },
  {
   "cell_type": "markdown",
   "id": "53a6a45e",
   "metadata": {},
   "source": [
    "**Logistic Regression - Βελτιστοποίηση ως προς το F1-Score**"
   ]
  },
  {
   "cell_type": "code",
   "execution_count": 80,
   "id": "ee136666",
   "metadata": {},
   "outputs": [
    {
     "data": {
      "text/html": [
       "<style>#sk-container-id-5 {color: black;background-color: white;}#sk-container-id-5 pre{padding: 0;}#sk-container-id-5 div.sk-toggleable {background-color: white;}#sk-container-id-5 label.sk-toggleable__label {cursor: pointer;display: block;width: 100%;margin-bottom: 0;padding: 0.3em;box-sizing: border-box;text-align: center;}#sk-container-id-5 label.sk-toggleable__label-arrow:before {content: \"▸\";float: left;margin-right: 0.25em;color: #696969;}#sk-container-id-5 label.sk-toggleable__label-arrow:hover:before {color: black;}#sk-container-id-5 div.sk-estimator:hover label.sk-toggleable__label-arrow:before {color: black;}#sk-container-id-5 div.sk-toggleable__content {max-height: 0;max-width: 0;overflow: hidden;text-align: left;background-color: #f0f8ff;}#sk-container-id-5 div.sk-toggleable__content pre {margin: 0.2em;color: black;border-radius: 0.25em;background-color: #f0f8ff;}#sk-container-id-5 input.sk-toggleable__control:checked~div.sk-toggleable__content {max-height: 200px;max-width: 100%;overflow: auto;}#sk-container-id-5 input.sk-toggleable__control:checked~label.sk-toggleable__label-arrow:before {content: \"▾\";}#sk-container-id-5 div.sk-estimator input.sk-toggleable__control:checked~label.sk-toggleable__label {background-color: #d4ebff;}#sk-container-id-5 div.sk-label input.sk-toggleable__control:checked~label.sk-toggleable__label {background-color: #d4ebff;}#sk-container-id-5 input.sk-hidden--visually {border: 0;clip: rect(1px 1px 1px 1px);clip: rect(1px, 1px, 1px, 1px);height: 1px;margin: -1px;overflow: hidden;padding: 0;position: absolute;width: 1px;}#sk-container-id-5 div.sk-estimator {font-family: monospace;background-color: #f0f8ff;border: 1px dotted black;border-radius: 0.25em;box-sizing: border-box;margin-bottom: 0.5em;}#sk-container-id-5 div.sk-estimator:hover {background-color: #d4ebff;}#sk-container-id-5 div.sk-parallel-item::after {content: \"\";width: 100%;border-bottom: 1px solid gray;flex-grow: 1;}#sk-container-id-5 div.sk-label:hover label.sk-toggleable__label {background-color: #d4ebff;}#sk-container-id-5 div.sk-serial::before {content: \"\";position: absolute;border-left: 1px solid gray;box-sizing: border-box;top: 0;bottom: 0;left: 50%;z-index: 0;}#sk-container-id-5 div.sk-serial {display: flex;flex-direction: column;align-items: center;background-color: white;padding-right: 0.2em;padding-left: 0.2em;position: relative;}#sk-container-id-5 div.sk-item {position: relative;z-index: 1;}#sk-container-id-5 div.sk-parallel {display: flex;align-items: stretch;justify-content: center;background-color: white;position: relative;}#sk-container-id-5 div.sk-item::before, #sk-container-id-5 div.sk-parallel-item::before {content: \"\";position: absolute;border-left: 1px solid gray;box-sizing: border-box;top: 0;bottom: 0;left: 50%;z-index: -1;}#sk-container-id-5 div.sk-parallel-item {display: flex;flex-direction: column;z-index: 1;position: relative;background-color: white;}#sk-container-id-5 div.sk-parallel-item:first-child::after {align-self: flex-end;width: 50%;}#sk-container-id-5 div.sk-parallel-item:last-child::after {align-self: flex-start;width: 50%;}#sk-container-id-5 div.sk-parallel-item:only-child::after {width: 0;}#sk-container-id-5 div.sk-dashed-wrapped {border: 1px dashed gray;margin: 0 0.4em 0.5em 0.4em;box-sizing: border-box;padding-bottom: 0.4em;background-color: white;}#sk-container-id-5 div.sk-label label {font-family: monospace;font-weight: bold;display: inline-block;line-height: 1.2em;}#sk-container-id-5 div.sk-label-container {text-align: center;}#sk-container-id-5 div.sk-container {/* jupyter's `normalize.less` sets `[hidden] { display: none; }` but bootstrap.min.css set `[hidden] { display: none !important; }` so we also need the `!important` here to be able to override the default hidden behavior on the sphinx rendered scikit-learn.org. See: https://github.com/scikit-learn/scikit-learn/issues/21755 */display: inline-block !important;position: relative;}#sk-container-id-5 div.sk-text-repr-fallback {display: none;}</style><div id=\"sk-container-id-5\" class=\"sk-top-container\"><div class=\"sk-text-repr-fallback\"><pre>GridSearchCV(cv=StratifiedKFold(n_splits=10, random_state=42, shuffle=True),\n",
       "             estimator=Pipeline(steps=[(&#x27;selector&#x27;, VarianceThreshold()),\n",
       "                                       (&#x27;scaler&#x27;, StandardScaler()),\n",
       "                                       (&#x27;sampler&#x27;, RandomOverSampler()),\n",
       "                                       (&#x27;pca&#x27;, PCA()),\n",
       "                                       (&#x27;logReg&#x27;, LogisticRegression())]),\n",
       "             n_jobs=-1,\n",
       "             param_grid={&#x27;logReg__C&#x27;: array([1.00000000e-04, 2.68269580e-04, 7.19685673e-04, 1.93069773e-03,\n",
       "       5.179474...\n",
       "       2.68269580e-01, 7.19685673e-01, 1.93069773e+00, 5.17947468e+00,\n",
       "       1.38949549e+01, 3.72759372e+01, 1.00000000e+02]),\n",
       "                         &#x27;logReg__max_iter&#x27;: [70, 80, 100],\n",
       "                         &#x27;logReg__solver&#x27;: [&#x27;liblinear&#x27;, &#x27;sag&#x27;, &#x27;saga&#x27;],\n",
       "                         &#x27;pca__n_components&#x27;: [5, 10, 20, 30, 40, 45],\n",
       "                         &#x27;selector__threshold&#x27;: [0, 7.404667920760999e-08,\n",
       "                                                 7.404667920760998e-07,\n",
       "                                                 7.404667920760999e-06,\n",
       "                                                 7.404667920760998e-05,\n",
       "                                                 0.0007404667920760999]},\n",
       "             scoring=&#x27;f1_macro&#x27;)</pre><b>In a Jupyter environment, please rerun this cell to show the HTML representation or trust the notebook. <br />On GitHub, the HTML representation is unable to render, please try loading this page with nbviewer.org.</b></div><div class=\"sk-container\" hidden><div class=\"sk-item sk-dashed-wrapped\"><div class=\"sk-label-container\"><div class=\"sk-label sk-toggleable\"><input class=\"sk-toggleable__control sk-hidden--visually\" id=\"sk-estimator-id-27\" type=\"checkbox\" ><label for=\"sk-estimator-id-27\" class=\"sk-toggleable__label sk-toggleable__label-arrow\">GridSearchCV</label><div class=\"sk-toggleable__content\"><pre>GridSearchCV(cv=StratifiedKFold(n_splits=10, random_state=42, shuffle=True),\n",
       "             estimator=Pipeline(steps=[(&#x27;selector&#x27;, VarianceThreshold()),\n",
       "                                       (&#x27;scaler&#x27;, StandardScaler()),\n",
       "                                       (&#x27;sampler&#x27;, RandomOverSampler()),\n",
       "                                       (&#x27;pca&#x27;, PCA()),\n",
       "                                       (&#x27;logReg&#x27;, LogisticRegression())]),\n",
       "             n_jobs=-1,\n",
       "             param_grid={&#x27;logReg__C&#x27;: array([1.00000000e-04, 2.68269580e-04, 7.19685673e-04, 1.93069773e-03,\n",
       "       5.179474...\n",
       "       2.68269580e-01, 7.19685673e-01, 1.93069773e+00, 5.17947468e+00,\n",
       "       1.38949549e+01, 3.72759372e+01, 1.00000000e+02]),\n",
       "                         &#x27;logReg__max_iter&#x27;: [70, 80, 100],\n",
       "                         &#x27;logReg__solver&#x27;: [&#x27;liblinear&#x27;, &#x27;sag&#x27;, &#x27;saga&#x27;],\n",
       "                         &#x27;pca__n_components&#x27;: [5, 10, 20, 30, 40, 45],\n",
       "                         &#x27;selector__threshold&#x27;: [0, 7.404667920760999e-08,\n",
       "                                                 7.404667920760998e-07,\n",
       "                                                 7.404667920760999e-06,\n",
       "                                                 7.404667920760998e-05,\n",
       "                                                 0.0007404667920760999]},\n",
       "             scoring=&#x27;f1_macro&#x27;)</pre></div></div></div><div class=\"sk-parallel\"><div class=\"sk-parallel-item\"><div class=\"sk-item\"><div class=\"sk-label-container\"><div class=\"sk-label sk-toggleable\"><input class=\"sk-toggleable__control sk-hidden--visually\" id=\"sk-estimator-id-28\" type=\"checkbox\" ><label for=\"sk-estimator-id-28\" class=\"sk-toggleable__label sk-toggleable__label-arrow\">estimator: Pipeline</label><div class=\"sk-toggleable__content\"><pre>Pipeline(steps=[(&#x27;selector&#x27;, VarianceThreshold()), (&#x27;scaler&#x27;, StandardScaler()),\n",
       "                (&#x27;sampler&#x27;, RandomOverSampler()), (&#x27;pca&#x27;, PCA()),\n",
       "                (&#x27;logReg&#x27;, LogisticRegression())])</pre></div></div></div><div class=\"sk-serial\"><div class=\"sk-item\"><div class=\"sk-serial\"><div class=\"sk-item\"><div class=\"sk-estimator sk-toggleable\"><input class=\"sk-toggleable__control sk-hidden--visually\" id=\"sk-estimator-id-29\" type=\"checkbox\" ><label for=\"sk-estimator-id-29\" class=\"sk-toggleable__label sk-toggleable__label-arrow\">VarianceThreshold</label><div class=\"sk-toggleable__content\"><pre>VarianceThreshold()</pre></div></div></div><div class=\"sk-item\"><div class=\"sk-estimator sk-toggleable\"><input class=\"sk-toggleable__control sk-hidden--visually\" id=\"sk-estimator-id-30\" type=\"checkbox\" ><label for=\"sk-estimator-id-30\" class=\"sk-toggleable__label sk-toggleable__label-arrow\">StandardScaler</label><div class=\"sk-toggleable__content\"><pre>StandardScaler()</pre></div></div></div><div class=\"sk-item\"><div class=\"sk-estimator sk-toggleable\"><input class=\"sk-toggleable__control sk-hidden--visually\" id=\"sk-estimator-id-31\" type=\"checkbox\" ><label for=\"sk-estimator-id-31\" class=\"sk-toggleable__label sk-toggleable__label-arrow\">RandomOverSampler</label><div class=\"sk-toggleable__content\"><pre>RandomOverSampler()</pre></div></div></div><div class=\"sk-item\"><div class=\"sk-estimator sk-toggleable\"><input class=\"sk-toggleable__control sk-hidden--visually\" id=\"sk-estimator-id-32\" type=\"checkbox\" ><label for=\"sk-estimator-id-32\" class=\"sk-toggleable__label sk-toggleable__label-arrow\">PCA</label><div class=\"sk-toggleable__content\"><pre>PCA()</pre></div></div></div><div class=\"sk-item\"><div class=\"sk-estimator sk-toggleable\"><input class=\"sk-toggleable__control sk-hidden--visually\" id=\"sk-estimator-id-33\" type=\"checkbox\" ><label for=\"sk-estimator-id-33\" class=\"sk-toggleable__label sk-toggleable__label-arrow\">LogisticRegression</label><div class=\"sk-toggleable__content\"><pre>LogisticRegression()</pre></div></div></div></div></div></div></div></div></div></div></div></div>"
      ],
      "text/plain": [
       "GridSearchCV(cv=StratifiedKFold(n_splits=10, random_state=42, shuffle=True),\n",
       "             estimator=Pipeline(steps=[('selector', VarianceThreshold()),\n",
       "                                       ('scaler', StandardScaler()),\n",
       "                                       ('sampler', RandomOverSampler()),\n",
       "                                       ('pca', PCA()),\n",
       "                                       ('logReg', LogisticRegression())]),\n",
       "             n_jobs=-1,\n",
       "             param_grid={'logReg__C': array([1.00000000e-04, 2.68269580e-04, 7.19685673e-04, 1.93069773e-03,\n",
       "       5.179474...\n",
       "       2.68269580e-01, 7.19685673e-01, 1.93069773e+00, 5.17947468e+00,\n",
       "       1.38949549e+01, 3.72759372e+01, 1.00000000e+02]),\n",
       "                         'logReg__max_iter': [70, 80, 100],\n",
       "                         'logReg__solver': ['liblinear', 'sag', 'saga'],\n",
       "                         'pca__n_components': [5, 10, 20, 30, 40, 45],\n",
       "                         'selector__threshold': [0, 7.404667920760999e-08,\n",
       "                                                 7.404667920760998e-07,\n",
       "                                                 7.404667920760999e-06,\n",
       "                                                 7.404667920760998e-05,\n",
       "                                                 0.0007404667920760999]},\n",
       "             scoring='f1_macro')"
      ]
     },
     "execution_count": 80,
     "metadata": {},
     "output_type": "execute_result"
    }
   ],
   "source": [
    "selector = VarianceThreshold()\n",
    "scaler = StandardScaler()\n",
    "ros = RandomOverSampler()\n",
    "pca = PCA()\n",
    "clf = LogisticRegression()\n",
    "pipe = Pipeline(steps=[('selector', selector), ('scaler', scaler), ('sampler', ros), ('pca', pca),\\\n",
    "                       ('logReg', clf)])\n",
    "\n",
    "# variance thresholds\n",
    "vthresholds = [0, max_variance/1000000, max_variance/100000,max_variance/10000,max_variance/1000,max_variance/100]\n",
    "\n",
    "# number of components for pca \n",
    "n_components = [5,10,20,30,40,45]\n",
    "\n",
    "\n",
    "# max iterations \n",
    "iterations = [70,80,100]\n",
    "\n",
    "# logistic regression classifier parameters\n",
    "C = np.logspace(-4, 2, num=15)\n",
    "\n",
    "logReg_solver = ['liblinear','sag','saga']\n",
    "\n",
    "estimator_f1_score_logReg = GridSearchCV(pipe, \n",
    "                         dict(selector__threshold=vthresholds, \n",
    "                              pca__n_components=n_components,\n",
    "                              logReg__C=C,\n",
    "                              logReg__solver=logReg_solver,\n",
    "                              logReg__max_iter=iterations\n",
    "                             ),\n",
    "                         cv=cv, \n",
    "                         scoring='f1_macro', \n",
    "                         n_jobs=-1)\n",
    "\n",
    "# find best parameters according to f1-score metric\n",
    "estimator_f1_score_logReg.fit(train, train_labels)"
   ]
  },
  {
   "cell_type": "code",
   "execution_count": 81,
   "id": "251c6ee4",
   "metadata": {},
   "outputs": [
    {
     "name": "stdout",
     "output_type": "stream",
     "text": [
      "{'logReg__C': 0.2682695795279725, 'logReg__max_iter': 80, 'logReg__solver': 'saga', 'pca__n_components': 10, 'selector__threshold': 0.0007404667920760999}\n"
     ]
    }
   ],
   "source": [
    "print(estimator_f1_score_logReg.best_params_)\n",
    "# print(\"Best F1-score: %s\" % estimator_f1_score_logReg.best_score_)"
   ]
  },
  {
   "cell_type": "markdown",
   "id": "6f96e4f1",
   "metadata": {},
   "source": [
    "Προχωράμε σε μιά πιο στενή αναζήτηση:"
   ]
  },
  {
   "cell_type": "code",
   "execution_count": 82,
   "id": "c7c19752",
   "metadata": {},
   "outputs": [],
   "source": [
    "selector = VarianceThreshold()\n",
    "scaler = StandardScaler()\n",
    "ros = RandomOverSampler()\n",
    "pca = PCA()\n",
    "clf = LogisticRegression()\n",
    "pipe = Pipeline(steps=[('selector', selector), ('scaler', scaler), ('sampler', ros), ('pca', pca),\\\n",
    "                       ('logReg', clf)])\n",
    "\n",
    "vthresholds_narrow = np.logspace(-3,-5,num=20)\n",
    "n_components_narrow = [8,9,10,11,12,13]\n",
    "iterations_narrow = [70,80,100]\n",
    "C_narrow = [i/100 for i in range(1,41,2)]\n",
    "# logReg_solver_narrow = ['lbfgs','newton-cg','liblinear','sag','saga']\n",
    "logReg_solver_narrow = ['sag', 'saga']\n",
    "\n",
    "\n",
    "estimator_f1_score_logReg_narrow = GridSearchCV(pipe, \n",
    "                         dict(selector__threshold=vthresholds, \n",
    "                              pca__n_components=n_components_narrow,\n",
    "                              logReg__C=C_narrow,\n",
    "                              logReg__solver=logReg_solver_narrow,\n",
    "                              logReg__max_iter=iterations_narrow\n",
    "                             ),\n",
    "                         cv=cv, \n",
    "                         scoring='f1_macro', \n",
    "                         n_jobs=-1)\n",
    "\n",
    "start_time = time.time()\n",
    "# find best parameters according to f1-score metric\n",
    "estimator_f1_score_logReg_narrow.fit(train, train_labels)\n",
    "f1_train_time['logisticRegression'] = (time.time()-start_time)"
   ]
  },
  {
   "cell_type": "code",
   "execution_count": 83,
   "id": "7df4e0d1",
   "metadata": {},
   "outputs": [
    {
     "name": "stdout",
     "output_type": "stream",
     "text": [
      "{'logReg__C': 0.23, 'logReg__max_iter': 80, 'logReg__solver': 'sag', 'pca__n_components': 12, 'selector__threshold': 0.0007404667920760999}\n"
     ]
    }
   ],
   "source": [
    "print(estimator_f1_score_logReg_narrow.best_params_)\n",
    "# print(\"Best F1-score: %s\" % estimator_f1_score_logReg_narrow.best_score_)"
   ]
  },
  {
   "cell_type": "code",
   "execution_count": 84,
   "id": "f9398008",
   "metadata": {},
   "outputs": [
    {
     "name": "stdout",
     "output_type": "stream",
     "text": [
      "0.8\n"
     ]
    }
   ],
   "source": [
    "import time\n",
    "\n",
    "# test best model\n",
    "logReg_f1_best = estimator_f1_score_logReg_narrow.best_estimator_\n",
    "\n",
    "# find testing time\n",
    "start_time = time.time()\n",
    "preds = logReg_f1_best.predict(test)\n",
    "f1_test_time['logisticRegression'] = (time.time()-start_time)\n",
    "\n",
    "f1_scores_best['logisticRegression'] = round(f1_score(test_labels, preds),3)\n",
    "print(f1_scores_best['logisticRegression'])"
   ]
  },
  {
   "cell_type": "markdown",
   "id": "0579b41f",
   "metadata": {},
   "source": [
    "**Logistic Regression - Βελτιστοποίηση ως προς το Accuracy**"
   ]
  },
  {
   "cell_type": "code",
   "execution_count": 85,
   "id": "e67453a8",
   "metadata": {},
   "outputs": [
    {
     "data": {
      "text/html": [
       "<style>#sk-container-id-6 {color: black;background-color: white;}#sk-container-id-6 pre{padding: 0;}#sk-container-id-6 div.sk-toggleable {background-color: white;}#sk-container-id-6 label.sk-toggleable__label {cursor: pointer;display: block;width: 100%;margin-bottom: 0;padding: 0.3em;box-sizing: border-box;text-align: center;}#sk-container-id-6 label.sk-toggleable__label-arrow:before {content: \"▸\";float: left;margin-right: 0.25em;color: #696969;}#sk-container-id-6 label.sk-toggleable__label-arrow:hover:before {color: black;}#sk-container-id-6 div.sk-estimator:hover label.sk-toggleable__label-arrow:before {color: black;}#sk-container-id-6 div.sk-toggleable__content {max-height: 0;max-width: 0;overflow: hidden;text-align: left;background-color: #f0f8ff;}#sk-container-id-6 div.sk-toggleable__content pre {margin: 0.2em;color: black;border-radius: 0.25em;background-color: #f0f8ff;}#sk-container-id-6 input.sk-toggleable__control:checked~div.sk-toggleable__content {max-height: 200px;max-width: 100%;overflow: auto;}#sk-container-id-6 input.sk-toggleable__control:checked~label.sk-toggleable__label-arrow:before {content: \"▾\";}#sk-container-id-6 div.sk-estimator input.sk-toggleable__control:checked~label.sk-toggleable__label {background-color: #d4ebff;}#sk-container-id-6 div.sk-label input.sk-toggleable__control:checked~label.sk-toggleable__label {background-color: #d4ebff;}#sk-container-id-6 input.sk-hidden--visually {border: 0;clip: rect(1px 1px 1px 1px);clip: rect(1px, 1px, 1px, 1px);height: 1px;margin: -1px;overflow: hidden;padding: 0;position: absolute;width: 1px;}#sk-container-id-6 div.sk-estimator {font-family: monospace;background-color: #f0f8ff;border: 1px dotted black;border-radius: 0.25em;box-sizing: border-box;margin-bottom: 0.5em;}#sk-container-id-6 div.sk-estimator:hover {background-color: #d4ebff;}#sk-container-id-6 div.sk-parallel-item::after {content: \"\";width: 100%;border-bottom: 1px solid gray;flex-grow: 1;}#sk-container-id-6 div.sk-label:hover label.sk-toggleable__label {background-color: #d4ebff;}#sk-container-id-6 div.sk-serial::before {content: \"\";position: absolute;border-left: 1px solid gray;box-sizing: border-box;top: 0;bottom: 0;left: 50%;z-index: 0;}#sk-container-id-6 div.sk-serial {display: flex;flex-direction: column;align-items: center;background-color: white;padding-right: 0.2em;padding-left: 0.2em;position: relative;}#sk-container-id-6 div.sk-item {position: relative;z-index: 1;}#sk-container-id-6 div.sk-parallel {display: flex;align-items: stretch;justify-content: center;background-color: white;position: relative;}#sk-container-id-6 div.sk-item::before, #sk-container-id-6 div.sk-parallel-item::before {content: \"\";position: absolute;border-left: 1px solid gray;box-sizing: border-box;top: 0;bottom: 0;left: 50%;z-index: -1;}#sk-container-id-6 div.sk-parallel-item {display: flex;flex-direction: column;z-index: 1;position: relative;background-color: white;}#sk-container-id-6 div.sk-parallel-item:first-child::after {align-self: flex-end;width: 50%;}#sk-container-id-6 div.sk-parallel-item:last-child::after {align-self: flex-start;width: 50%;}#sk-container-id-6 div.sk-parallel-item:only-child::after {width: 0;}#sk-container-id-6 div.sk-dashed-wrapped {border: 1px dashed gray;margin: 0 0.4em 0.5em 0.4em;box-sizing: border-box;padding-bottom: 0.4em;background-color: white;}#sk-container-id-6 div.sk-label label {font-family: monospace;font-weight: bold;display: inline-block;line-height: 1.2em;}#sk-container-id-6 div.sk-label-container {text-align: center;}#sk-container-id-6 div.sk-container {/* jupyter's `normalize.less` sets `[hidden] { display: none; }` but bootstrap.min.css set `[hidden] { display: none !important; }` so we also need the `!important` here to be able to override the default hidden behavior on the sphinx rendered scikit-learn.org. See: https://github.com/scikit-learn/scikit-learn/issues/21755 */display: inline-block !important;position: relative;}#sk-container-id-6 div.sk-text-repr-fallback {display: none;}</style><div id=\"sk-container-id-6\" class=\"sk-top-container\"><div class=\"sk-text-repr-fallback\"><pre>GridSearchCV(cv=StratifiedKFold(n_splits=10, random_state=42, shuffle=True),\n",
       "             estimator=Pipeline(steps=[(&#x27;selector&#x27;, VarianceThreshold()),\n",
       "                                       (&#x27;scaler&#x27;, StandardScaler()),\n",
       "                                       (&#x27;sampler&#x27;, RandomOverSampler()),\n",
       "                                       (&#x27;pca&#x27;, PCA()),\n",
       "                                       (&#x27;logReg&#x27;, LogisticRegression())]),\n",
       "             n_jobs=-1,\n",
       "             param_grid={&#x27;logReg__C&#x27;: array([1.00000000e-04, 2.68269580e-04, 7.19685673e-04, 1.93069773e-03,\n",
       "       5.179474...-01,\n",
       "       2.68269580e-01, 7.19685673e-01, 1.93069773e+00, 5.17947468e+00,\n",
       "       1.38949549e+01, 3.72759372e+01, 1.00000000e+02]),\n",
       "                         &#x27;logReg__solver&#x27;: [&#x27;liblinear&#x27;, &#x27;sag&#x27;, &#x27;saga&#x27;],\n",
       "                         &#x27;pca__n_components&#x27;: [5, 10, 20, 30, 40, 45],\n",
       "                         &#x27;selector__threshold&#x27;: [0, 7.404667920760999e-08,\n",
       "                                                 7.404667920760998e-07,\n",
       "                                                 7.404667920760999e-06,\n",
       "                                                 7.404667920760998e-05,\n",
       "                                                 0.0007404667920760999]},\n",
       "             scoring=&#x27;accuracy&#x27;)</pre><b>In a Jupyter environment, please rerun this cell to show the HTML representation or trust the notebook. <br />On GitHub, the HTML representation is unable to render, please try loading this page with nbviewer.org.</b></div><div class=\"sk-container\" hidden><div class=\"sk-item sk-dashed-wrapped\"><div class=\"sk-label-container\"><div class=\"sk-label sk-toggleable\"><input class=\"sk-toggleable__control sk-hidden--visually\" id=\"sk-estimator-id-34\" type=\"checkbox\" ><label for=\"sk-estimator-id-34\" class=\"sk-toggleable__label sk-toggleable__label-arrow\">GridSearchCV</label><div class=\"sk-toggleable__content\"><pre>GridSearchCV(cv=StratifiedKFold(n_splits=10, random_state=42, shuffle=True),\n",
       "             estimator=Pipeline(steps=[(&#x27;selector&#x27;, VarianceThreshold()),\n",
       "                                       (&#x27;scaler&#x27;, StandardScaler()),\n",
       "                                       (&#x27;sampler&#x27;, RandomOverSampler()),\n",
       "                                       (&#x27;pca&#x27;, PCA()),\n",
       "                                       (&#x27;logReg&#x27;, LogisticRegression())]),\n",
       "             n_jobs=-1,\n",
       "             param_grid={&#x27;logReg__C&#x27;: array([1.00000000e-04, 2.68269580e-04, 7.19685673e-04, 1.93069773e-03,\n",
       "       5.179474...-01,\n",
       "       2.68269580e-01, 7.19685673e-01, 1.93069773e+00, 5.17947468e+00,\n",
       "       1.38949549e+01, 3.72759372e+01, 1.00000000e+02]),\n",
       "                         &#x27;logReg__solver&#x27;: [&#x27;liblinear&#x27;, &#x27;sag&#x27;, &#x27;saga&#x27;],\n",
       "                         &#x27;pca__n_components&#x27;: [5, 10, 20, 30, 40, 45],\n",
       "                         &#x27;selector__threshold&#x27;: [0, 7.404667920760999e-08,\n",
       "                                                 7.404667920760998e-07,\n",
       "                                                 7.404667920760999e-06,\n",
       "                                                 7.404667920760998e-05,\n",
       "                                                 0.0007404667920760999]},\n",
       "             scoring=&#x27;accuracy&#x27;)</pre></div></div></div><div class=\"sk-parallel\"><div class=\"sk-parallel-item\"><div class=\"sk-item\"><div class=\"sk-label-container\"><div class=\"sk-label sk-toggleable\"><input class=\"sk-toggleable__control sk-hidden--visually\" id=\"sk-estimator-id-35\" type=\"checkbox\" ><label for=\"sk-estimator-id-35\" class=\"sk-toggleable__label sk-toggleable__label-arrow\">estimator: Pipeline</label><div class=\"sk-toggleable__content\"><pre>Pipeline(steps=[(&#x27;selector&#x27;, VarianceThreshold()), (&#x27;scaler&#x27;, StandardScaler()),\n",
       "                (&#x27;sampler&#x27;, RandomOverSampler()), (&#x27;pca&#x27;, PCA()),\n",
       "                (&#x27;logReg&#x27;, LogisticRegression())])</pre></div></div></div><div class=\"sk-serial\"><div class=\"sk-item\"><div class=\"sk-serial\"><div class=\"sk-item\"><div class=\"sk-estimator sk-toggleable\"><input class=\"sk-toggleable__control sk-hidden--visually\" id=\"sk-estimator-id-36\" type=\"checkbox\" ><label for=\"sk-estimator-id-36\" class=\"sk-toggleable__label sk-toggleable__label-arrow\">VarianceThreshold</label><div class=\"sk-toggleable__content\"><pre>VarianceThreshold()</pre></div></div></div><div class=\"sk-item\"><div class=\"sk-estimator sk-toggleable\"><input class=\"sk-toggleable__control sk-hidden--visually\" id=\"sk-estimator-id-37\" type=\"checkbox\" ><label for=\"sk-estimator-id-37\" class=\"sk-toggleable__label sk-toggleable__label-arrow\">StandardScaler</label><div class=\"sk-toggleable__content\"><pre>StandardScaler()</pre></div></div></div><div class=\"sk-item\"><div class=\"sk-estimator sk-toggleable\"><input class=\"sk-toggleable__control sk-hidden--visually\" id=\"sk-estimator-id-38\" type=\"checkbox\" ><label for=\"sk-estimator-id-38\" class=\"sk-toggleable__label sk-toggleable__label-arrow\">RandomOverSampler</label><div class=\"sk-toggleable__content\"><pre>RandomOverSampler()</pre></div></div></div><div class=\"sk-item\"><div class=\"sk-estimator sk-toggleable\"><input class=\"sk-toggleable__control sk-hidden--visually\" id=\"sk-estimator-id-39\" type=\"checkbox\" ><label for=\"sk-estimator-id-39\" class=\"sk-toggleable__label sk-toggleable__label-arrow\">PCA</label><div class=\"sk-toggleable__content\"><pre>PCA()</pre></div></div></div><div class=\"sk-item\"><div class=\"sk-estimator sk-toggleable\"><input class=\"sk-toggleable__control sk-hidden--visually\" id=\"sk-estimator-id-40\" type=\"checkbox\" ><label for=\"sk-estimator-id-40\" class=\"sk-toggleable__label sk-toggleable__label-arrow\">LogisticRegression</label><div class=\"sk-toggleable__content\"><pre>LogisticRegression()</pre></div></div></div></div></div></div></div></div></div></div></div></div>"
      ],
      "text/plain": [
       "GridSearchCV(cv=StratifiedKFold(n_splits=10, random_state=42, shuffle=True),\n",
       "             estimator=Pipeline(steps=[('selector', VarianceThreshold()),\n",
       "                                       ('scaler', StandardScaler()),\n",
       "                                       ('sampler', RandomOverSampler()),\n",
       "                                       ('pca', PCA()),\n",
       "                                       ('logReg', LogisticRegression())]),\n",
       "             n_jobs=-1,\n",
       "             param_grid={'logReg__C': array([1.00000000e-04, 2.68269580e-04, 7.19685673e-04, 1.93069773e-03,\n",
       "       5.179474...-01,\n",
       "       2.68269580e-01, 7.19685673e-01, 1.93069773e+00, 5.17947468e+00,\n",
       "       1.38949549e+01, 3.72759372e+01, 1.00000000e+02]),\n",
       "                         'logReg__solver': ['liblinear', 'sag', 'saga'],\n",
       "                         'pca__n_components': [5, 10, 20, 30, 40, 45],\n",
       "                         'selector__threshold': [0, 7.404667920760999e-08,\n",
       "                                                 7.404667920760998e-07,\n",
       "                                                 7.404667920760999e-06,\n",
       "                                                 7.404667920760998e-05,\n",
       "                                                 0.0007404667920760999]},\n",
       "             scoring='accuracy')"
      ]
     },
     "execution_count": 85,
     "metadata": {},
     "output_type": "execute_result"
    }
   ],
   "source": [
    "selector = VarianceThreshold()\n",
    "scaler = StandardScaler()\n",
    "ros = RandomOverSampler()\n",
    "pca = PCA()\n",
    "clf = LogisticRegression()\n",
    "pipe = Pipeline(steps=[('selector', selector), ('scaler', scaler), ('sampler', ros), ('pca', pca),\\\n",
    "                       ('logReg', clf)])\n",
    "\n",
    "vthresholds = [0, max_variance/1000000, max_variance/100000,max_variance/10000,max_variance/1000,max_variance/100]\n",
    "n_components = [5,10,20,30,40,45]\n",
    "iterations = [70,80,100]\n",
    "C = np.logspace(-4, 2, num=15)\n",
    "\n",
    "logReg_solver = ['liblinear','sag','saga']\n",
    "\n",
    "estimator_accuracy_logReg = GridSearchCV(pipe, \n",
    "                         dict(selector__threshold=vthresholds, \n",
    "                              pca__n_components=n_components,\n",
    "                              logReg__C=C,\n",
    "                              logReg__solver=logReg_solver,\n",
    "                             ),\n",
    "                         cv=cv, \n",
    "                         scoring='accuracy', \n",
    "                         n_jobs=-1)\n",
    "\n",
    "# find best parameters according to accuracy metric\n",
    "estimator_accuracy_logReg.fit(train, train_labels)"
   ]
  },
  {
   "cell_type": "code",
   "execution_count": 86,
   "id": "812723bb",
   "metadata": {},
   "outputs": [
    {
     "name": "stdout",
     "output_type": "stream",
     "text": [
      "{'logReg__C': 37.27593720314938, 'logReg__solver': 'saga', 'pca__n_components': 10, 'selector__threshold': 0.0007404667920760999}\n"
     ]
    }
   ],
   "source": [
    "print(estimator_accuracy_logReg.best_params_)\n",
    "# print(\"Best Accuracy: %s\" % estimator_accuracy_logReg.best_score_)"
   ]
  },
  {
   "cell_type": "markdown",
   "id": "ef2cea20",
   "metadata": {},
   "source": [
    "Προχωράμε σε μιά πιο στενή αναζήτηση:"
   ]
  },
  {
   "cell_type": "code",
   "execution_count": 87,
   "id": "65afc8c1",
   "metadata": {},
   "outputs": [],
   "source": [
    "selector = VarianceThreshold()\n",
    "scaler = StandardScaler()\n",
    "ros = RandomOverSampler()\n",
    "pca = PCA()\n",
    "clf = LogisticRegression()\n",
    "pipe = Pipeline(steps=[('selector', selector), ('scaler', scaler), ('sampler', ros), ('pca', pca),\\\n",
    "                       ('logReg', clf)])\n",
    "\n",
    "vthresholds = np.logspace(-3,-5,num=20)\n",
    "n_components_narrow = [7,8,9,10,11,12,13,14]\n",
    "iterations_narrow = [70,80,100]\n",
    "C_narrow = [i for i in range(11,81,2)]\n",
    "logReg_solver_narrow = ['sag', 'saga']\n",
    "\n",
    "estimator_accuracy_logReg_narrow = GridSearchCV(pipe, \n",
    "                         dict(selector__threshold=vthresholds_narrow, \n",
    "                              pca__n_components=n_components_narrow,\n",
    "                              logReg__C=C_narrow,\n",
    "                              logReg__solver=logReg_solver_narrow,\n",
    "                             ),\n",
    "                         cv=cv, \n",
    "                         scoring='accuracy', \n",
    "                         n_jobs=-1)\n",
    "\n",
    "start_time = time.time()\n",
    "# find best parameters according to accuracy metric\n",
    "estimator_accuracy_logReg_narrow.fit(train, train_labels)\n",
    "accuracy_train_time['logisticRegression'] = (time.time()-start_time)"
   ]
  },
  {
   "cell_type": "code",
   "execution_count": 88,
   "id": "eaa91c9d",
   "metadata": {},
   "outputs": [
    {
     "name": "stdout",
     "output_type": "stream",
     "text": [
      "{'logReg__C': 31, 'logReg__solver': 'sag', 'pca__n_components': 14, 'selector__threshold': 4.281332398719396e-05}\n"
     ]
    }
   ],
   "source": [
    "print(estimator_accuracy_logReg_narrow.best_params_)\n",
    "# print(\"Best Accuracy: %s\" % estimator_accuracy_logReg_narrow.best_score_)"
   ]
  },
  {
   "cell_type": "code",
   "execution_count": 89,
   "id": "58d95907",
   "metadata": {},
   "outputs": [
    {
     "name": "stdout",
     "output_type": "stream",
     "text": [
      "0.794\n"
     ]
    }
   ],
   "source": [
    "import time\n",
    "\n",
    "# test best model\n",
    "logReg_accuracy_best = estimator_accuracy_logReg_narrow.best_estimator_\n",
    "\n",
    "# find testing time\n",
    "start_time = time.time()\n",
    "preds = logReg_accuracy_best.predict(test)\n",
    "accuracy_test_time['logisticRegression'] = (time.time()-start_time)\n",
    "\n",
    "# calculate accuracy\n",
    "accuracy_scores_best['logisticRegression'] = round(accuracy_score(test_labels, preds),3)\n",
    "\n",
    "# cnf matrix\n",
    "cnf_matrices['logisticRegression'] = confusion_matrix(test_labels, preds)\n",
    "print(accuracy_scores_best['logisticRegression'])"
   ]
  },
  {
   "cell_type": "markdown",
   "id": "da648080",
   "metadata": {},
   "source": [
    "## Αποτελέσματα & Συμπεράσματα"
   ]
  },
  {
   "cell_type": "code",
   "execution_count": 101,
   "id": "1dfc84a7",
   "metadata": {},
   "outputs": [],
   "source": [
    "# calculate relative metrics\n",
    "accuracy_scores_improvement = dict()\n",
    "f1_scores_improvement = dict()\n",
    "accuracy_scores_improvement_dummy = dict()\n",
    "f1_scores_improvement_dummy = dict()\n",
    "\n",
    "for name in accuracy_scores_best.keys():\n",
    "    accuracy_scores_improvement[name] =\\\n",
    "        round((accuracy_scores_best[name]-accuracy_scores_ootb[name])*100/accuracy_scores_ootb[name],3)\n",
    "    accuracy_scores_improvement_dummy[name] =\\\n",
    "        round((accuracy_scores_best[name]-accuracy_scores_ootb['dc uniform'])*100/accuracy_scores_ootb['dc uniform'],3)\n",
    "    f1_scores_improvement[name] = \\\n",
    "        round((f1_scores_best[name]-f1_scores_ootb[name])*100/f1_scores_ootb[name],3)    \n",
    "    f1_scores_improvement_dummy[name] = \\\n",
    "        round((f1_scores_best[name]-f1_scores_ootb['dc uniform'])*100/f1_scores_ootb['dc uniform'],3)\n"
   ]
  },
  {
   "cell_type": "markdown",
   "id": "bc6881a8",
   "metadata": {},
   "source": [
    "**Αποτελέσματα με μορφή Πίνακα**"
   ]
  },
  {
   "cell_type": "markdown",
   "id": "193474e3",
   "metadata": {},
   "source": [
    "Παρουσιάζουμε τις επιδόσεις των βέλτιστων ταξινομητών κάθε είδους. Η στήλη `F1-score Improvement (relative to ootb)` περιλαμβάνει το ποσοστό βελτίωσης σε σχέση με το αντίστοιχο Out-of-the-Box μοντέλο (πχ την βελτίωση του knn σε σχέση με τον ootb knn). Το ακριβώς ανάλογο ισχύει για την στήλη `Accuracy Improvement (relative to ootb)`. Ο τύπος υπολογισμός του Improvement: Improvement = $\\frac{(Optimal Score) - (Out Of The Box Score)} {(Out Of The Box Score)}$. Κάτι αντίστοιχο ισχύει για τις στήλες `F1-score Improvement (relative to dummy)` και `Accuracy Improvement (relative to dummy)`, μόνο που ο βελτίωση, εδώ γίνεται σε σχέση με το καλύτερο dummy μοντέλο.  "
   ]
  },
  {
   "cell_type": "code",
   "execution_count": 104,
   "id": "b2339374",
   "metadata": {},
   "outputs": [
    {
     "data": {
      "text/markdown": [
       "\n",
       "| Classifier | F1-score | F1-score Improvement (relative to ootb) | F1-score Improvement (relative to dummy) | Train Time (s) | Test Time (s) |\n",
       "| :-: | :-: | :-: | :-: | :-: | :-: |\n",
       "|gnb|0.787|2.341%|28.385%|72.74736285209656|0.0015475749969482422|\n",
       "|knn|0.886|7.786%|44.535%|18.070628881454468|0.04207444190979004|\n",
       "|logisticRegression|0.8|0.756%|30.506%|154.38290905952454|0.0042018890380859375|\n"
      ],
      "text/plain": [
       "<IPython.core.display.Markdown object>"
      ]
     },
     "metadata": {},
     "output_type": "display_data"
    }
   ],
   "source": [
    "from IPython.display import display, Markdown, Latex\n",
    "disp = \"\"\"\n",
    "| Classifier | F1-score | F1-score Improvement (relative to ootb) | F1-score Improvement (relative to dummy) | Train Time (s) | Test Time (s) |\n",
    "| :-: | :-: | :-: | :-: | :-: | :-: |\n",
    "\"\"\"\n",
    "\n",
    "for name in f1_scores_best.keys():\n",
    "    disp += \"|\"+name+\"|\"+str(f1_scores_best[name])+\"|\"+str(f1_scores_improvement[name])+'%'+\\\n",
    "    \"|\"+str(f1_scores_improvement_dummy[name])+'%'+\"|\"+str(f1_train_time[name])+\"|\"+str(f1_test_time[name])+\"|\\n\"\n",
    "\n",
    "display(Markdown(disp))"
   ]
  },
  {
   "cell_type": "code",
   "execution_count": 107,
   "id": "3769ef70",
   "metadata": {},
   "outputs": [
    {
     "data": {
      "text/markdown": [
       "\n",
       "| Classifier | Accuracy | Accuracy Improvement (relative to ootb) | Accuracy Improvement (relative to dummy) | Train Time (s) | Test Time (s) |\n",
       "| :-: | :-: | :-: | :-: | :-: | :-: |\n",
       "|gnb|0.81|6.299%|30.856%|58.56660842895508|0.0021355152130126953|\n",
       "|knn|0.873|9.95%|41.034%|12.966668605804443|0.050504446029663086|\n",
       "|logisticRegression|0.794|2.057%|28.271%|371.940078496933|0.0036818981170654297|\n"
      ],
      "text/plain": [
       "<IPython.core.display.Markdown object>"
      ]
     },
     "metadata": {},
     "output_type": "display_data"
    }
   ],
   "source": [
    "from IPython.display import display, Markdown, Latex\n",
    "\n",
    "disp = \"\"\"\n",
    "| Classifier | Accuracy | Accuracy Improvement (relative to ootb) | Accuracy Improvement (relative to dummy) | Train Time (s) | Test Time (s) |\n",
    "| :-: | :-: | :-: | :-: | :-: | :-: |\n",
    "\"\"\"\n",
    "\n",
    "for name in f1_scores_best.keys():\n",
    "    disp += \"|\"+name+\"|\"+str(accuracy_scores_best[name])+\"|\"+str(accuracy_scores_improvement[name])+'%'+\\\n",
    "    \"|\"+str(accuracy_scores_improvement_dummy[name])+'%'+\"|\"+str(accuracy_train_time[name])+\"|\"+str(accuracy_test_time[name])+\"|\\n\"\n",
    "\n",
    "display(Markdown(disp))"
   ]
  },
  {
   "cell_type": "markdown",
   "id": "701aaf6f",
   "metadata": {},
   "source": [
    "**Αποτελέσματα με μορφή Διαγράμματος**"
   ]
  },
  {
   "cell_type": "markdown",
   "id": "ed4c5bc6",
   "metadata": {},
   "source": [
    "Παρουσιάζουμε τα αποτελέσματά μας για τους βέλτιστους ταξινομητές κάθε κατηγορίας σε μορφή bar-plots:"
   ]
  },
  {
   "cell_type": "code",
   "execution_count": 93,
   "id": "08422bb9",
   "metadata": {},
   "outputs": [],
   "source": [
    "# prapare to plot\n",
    "names, f1_best_axis, accuracy_best_axis, f1_relative_axis, accuracy_relative_axis = [], [], [], [], []\n",
    "\n",
    "for name in accuracy_scores_best.keys():\n",
    "    names.append(name)\n",
    "    f1_best_axis.append(f1_scores_best[name])\n",
    "    accuracy_best_axis.append(accuracy_scores_best[name])\n",
    "    f1_relative_axis.append(f1_scores_relative[name])\n",
    "    accuracy_relative_axis.append(accuracy_scores_relative[name])\n",
    "    "
   ]
  },
  {
   "cell_type": "code",
   "execution_count": 94,
   "id": "86db7796",
   "metadata": {},
   "outputs": [
    {
     "data": {
      "image/png": "[encoded data removed]",
      "text/plain": [
       "<Figure size 1080x648 with 2 Axes>"
      ]
     },
     "metadata": {
      "needs_background": "light"
     },
     "output_type": "display_data"
    }
   ],
   "source": [
    "# plot f1 scores\n",
    "plotBarChartDoubleAxes(names, [f1_best_axis, f1_relative_axis], ['goldenrod','lightgreen'],\\\n",
    "            ['F1-score','F1-score Improvement(%)'],\\\n",
    "             'F1-score & F1-score Improvement(%)', 'Classifier', ['F1-score','F1-score Improvement(%)'])"
   ]
  },
  {
   "cell_type": "code",
   "execution_count": 95,
   "id": "d9117af9",
   "metadata": {},
   "outputs": [
    {
     "data": {
      "image/png": "[encoded data removed]",
      "text/plain": [
       "<Figure size 1080x648 with 2 Axes>"
      ]
     },
     "metadata": {
      "needs_background": "light"
     },
     "output_type": "display_data"
    }
   ],
   "source": [
    "# plot accuracy\n",
    "plotBarChartDoubleAxes(names, [accuracy_best_axis, accuracy_relative_axis], ['slateblue','violet'],\\\n",
    "            ['Accuracy','Accuracy Improvement(%)'],\\\n",
    "             'Accuracy & Accuracy Improvement(%)', 'Classifier', ['Accuracy','Accuracy Improvement(%)'])\n"
   ]
  },
  {
   "cell_type": "markdown",
   "id": "3c5ca6da",
   "metadata": {},
   "source": [
    "### Σχολιασμός"
   ]
  },
  {
   "cell_type": "markdown",
   "id": "c0aae1ef",
   "metadata": {},
   "source": [
    "Αρχικά, παρατηρούμε ότι όλοι οι ταξινομητές βελτιώθηκαν ως προς την επίδοση τους και στις δύο μετρικές με τις διαδικασίες προεπεξεργασίας και αναζήτησης υπερπαραμέτρων. \n",
    "\n",
    "**Επίδοση**\n",
    "\n",
    "Όσον αφορά την επίδοση ως απόλυτο νούμερο, μετά την βελτιστοποίηση ο καλύτερος ταξινομητής είναι ο Knn. Συγκεκριμένα, πετυχαίνει την καλύτερη επίδοση και για τις δύο μετρικές και με αρκετά μεγάλη διαφορά σε σχέση με τους προηγούμενους. Σε δέυτερη θέση για το F1-score έρχεται ο Logistic Regression, ενώ για το Accuracy ο GNB. Ωστόσο και για τις δύο μετρικές, ο δεύτερος και ο τρίτος ταξινομητής απέχουν λίγο σε επίδοση.\n",
    "\n",
    "\n",
    "**Επίδοση σε σχέση με τους Out-of-the-Box**\n",
    "\n",
    "Όσον αφορά την βελτίωση της επίδοσης σε σχέση με τις ootb εκδοχές, πάλι είναι πρώτος ο Knn με βελτίωση γύρω στο 7.8% και 10% αντίστοιχα για το F1-score και το Accuracy. Λαμβάνοντας μάλιστα υπόψιν ότι είναι ο ταξινομητής που χρειάστηκε τον λιγότερο χρόνο για την έυρεση των υπερπαραμέτρων, μπορούμε να υποθέσουμε ότι έχει και άλλο περιθώριο βελτίωσης με μιά πιο εξαντλητική αναζήτηση ή μια πιο ισχυρή και έξυπνη μέθοδο βελτιστοποίησης. \n",
    "\n",
    "Όσον αφορά τον GNB, παρουσιάζει υπολογίσιμη βελτίωση (ειδικά, μάλιστα για το Accuracy) με την βελτιστοποίση υπερπαραμέτρων, ενώ παίρνει σημαντικά περισσότερο χρόνο από τον Knn για την βελτιστοποίση των παραμέτρων (4 με 5 φορές παραπάνω).\n",
    "\n",
    "Ο ταξινομητής Logistic Regression, είναι χαρακτηριστικό ότι έχει ελάχιστη βελτίωση (λιγότερο από 1%) σε σχέση με την out of the box εκδοχή του. Άλλωστε είναι αυτός στον οποίο χρειάστηκε με διαφορά ο περισσότερος χρόνος για την βελτιστοποίηση υπερπαραμέτρων, συνεπώς συγκριτικά με τους υπόλοιπους είναι ο χειρότερος από όλες τις απόψεις.\n",
    "\n",
    "**Ο καλύτερος Ταξινομητής**\n",
    "\n",
    "Από τα αποτελέσματά μας προκύπτει ξεκάθαρα ότι ο καλύτερος ταξινομητής για το πρόβλημα που εξετάσαμε είναι ο Knn. Πράγματι, με τον Knn πετύχαμε τις καλύτερες επιδόσεις και για τις δύο μετρικές, ενώ για για την βελτιστοποίηση τον υπερπαραμέτρων του ξοδέξαμε τον λιγότερο χρόνο. \n",
    "\n",
    "Σχετικά με την επιτυχία του Knn μπορούμε να υποθέσουμε ότι σχετίζεται με την φύση του προβλήματος. Θα μπορούσαμε, δηλαδή να σκεφτούμε ότι ένα υλικό (πέτρωμα ή μέταλλο) παρουσιάζει συνήθως πολύ κοντινές νούμερα στις τιμές ενέργειας που εξετάζουμε με κάποιο άλλο υλικό ίδιας φύσης (μέταλλο με μέταλλο ή πέτρωμα με πέτρωμα) και συνεπώς η ταξινόμηση σε σχέση με τους πλησιέστερους γείτονες έχει καλό αποτέλεσμα. Αξίζει, μάλιστα να σημειωθεί ότι κατά την βελτιστοποίηση υπερπαραμέτρων καταλήξαμε για όλες τις περιπτώσεις σε k=1, συνεπώς, για το συγκεκριμένο πρόβλημα, έχει ιδιαίτερη σημασία να εντοπίσουμε το _ένα_ υλικό με την κοντινότερη συμπεριφορά, ως προς την αντανάκλαση συχνοτήτων και να ταξινομήσουμε σύμφωνα με αυτό."
   ]
  },
  {
   "cell_type": "markdown",
   "id": "073c8e5c",
   "metadata": {},
   "source": [
    "**Εκτύπωση Confusion Matrices**"
   ]
  },
  {
   "cell_type": "code",
   "execution_count": 96,
   "id": "d9f081b9",
   "metadata": {},
   "outputs": [],
   "source": [
    "import seaborn as sns"
   ]
  },
  {
   "cell_type": "markdown",
   "id": "6b4ecadb",
   "metadata": {},
   "source": [
    "**_Confusion Matrix του Ταξινομητή με την Χειρότερη Ορθότητα_** (Logistic Regression):"
   ]
  },
  {
   "cell_type": "code",
   "execution_count": 97,
   "id": "62be35e6",
   "metadata": {},
   "outputs": [
    {
     "name": "stdout",
     "output_type": "stream",
     "text": [
      "logisticRegression\n",
      "AxesSubplot(0.125,0.125;0.62x0.755)\n"
     ]
    },
    {
     "data": {
      "image/png": "[encoded data removed]",
      "text/plain": [
       "<Figure size 432x288 with 2 Axes>"
      ]
     },
     "metadata": {
      "needs_background": "light"
     },
     "output_type": "display_data"
    }
   ],
   "source": [
    "ind = list(accuracy_scores_best.values()).index(min(list(accuracy_scores_best.values())))\n",
    "name = list(accuracy_scores_best.keys())[ind]\n",
    "print(name)\n",
    "\n",
    "print(sns.heatmap(cnf_matrices[name]/np.sum(cnf_matrices[name]), annot=True, fmt='.2%', cmap='Oranges'))"
   ]
  },
  {
   "cell_type": "markdown",
   "id": "1c879d18",
   "metadata": {},
   "source": [
    "**_Confusion Matrix του Ταξινομητή με την Καλύτερη Ορθότητα_** (Knn):"
   ]
  },
  {
   "cell_type": "code",
   "execution_count": 98,
   "id": "59813556",
   "metadata": {},
   "outputs": [
    {
     "name": "stdout",
     "output_type": "stream",
     "text": [
      "knn\n",
      "AxesSubplot(0.125,0.125;0.62x0.755)\n"
     ]
    },
    {
     "data": {
      "image/png": "[encoded data removed]",
      "text/plain": [
       "<Figure size 432x288 with 2 Axes>"
      ]
     },
     "metadata": {
      "needs_background": "light"
     },
     "output_type": "display_data"
    }
   ],
   "source": [
    "ind = list(accuracy_scores_best.values()).index(max(list(accuracy_scores_best.values())))\n",
    "name = list(accuracy_scores_best.keys())[ind]\n",
    "print(name)\n",
    "\n",
    "print(sns.heatmap(cnf_matrices[name]/np.sum(cnf_matrices[name]), annot=True, fmt='.2%', cmap='Greens'))"
   ]
  }
 ],
 "metadata": {
  "kernelspec": {
   "display_name": "Python 3",
   "language": "python",
   "name": "python3"
  },
  "language_info": {
   "codemirror_mode": {
    "name": "ipython",
    "version": 3
   },
   "file_extension": ".py",
   "mimetype": "text/x-python",
   "name": "python",
   "nbconvert_exporter": "python",
   "pygments_lexer": "ipython3",
   "version": "3.8.10"
  }
 },
 "nbformat": 4,
 "nbformat_minor": 5
}
