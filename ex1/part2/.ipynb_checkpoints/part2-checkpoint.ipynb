{
 "cells": [
  {
   "cell_type": "code",
   "execution_count": 16,
   "metadata": {
    "_cell_guid": "b1076dfc-b9ad-4769-8c92-a6c4dae69d19",
    "_uuid": "8f2839f25d086af736a60e9eeb907d3b93b6e0e5",
    "execution": {
     "iopub.execute_input": "2022-11-30T09:47:23.182827Z",
     "iopub.status.busy": "2022-11-30T09:47:23.182387Z",
     "iopub.status.idle": "2022-11-30T09:47:23.203592Z",
     "shell.execute_reply": "2022-11-30T09:47:23.202208Z",
     "shell.execute_reply.started": "2022-11-30T09:47:23.182792Z"
    }
   },
   "outputs": [
    {
     "name": "stdout",
     "output_type": "stream",
     "text": [
      "/kaggle/input/company-bankruptcy-prediction/data.csv\n"
     ]
    }
   ],
   "source": [
    "# This Python 3 environment comes with many helpful analytics libraries installed\n",
    "# It is defined by the kaggle/python Docker image: https://github.com/kaggle/docker-python\n",
    "# For example, here's several helpful packages to load\n",
    "\n",
    "import numpy as np # linear algebra\n",
    "import pandas as pd # data processing, CSV file I/O (e.g. pd.read_csv)\n",
    "\n",
    "# Input data files are available in the read-only \"../input/\" directory\n",
    "# For example, running this (by clicking run or pressing Shift+Enter) will list all files under the input directory\n",
    "\n",
    "import os\n",
    "for dirname, _, filenames in os.walk('/kaggle/input'):\n",
    "    for filename in filenames:\n",
    "        print(os.path.join(dirname, filename))\n",
    "\n",
    "# You can write up to 20GB to the current directory (/kaggle/working/) that gets preserved as output when you create a version using \"Save & Run All\" \n",
    "# You can also write temporary files to /kaggle/temp/, but they won't be saved outside of the current session"
   ]
  },
  {
   "cell_type": "code",
   "execution_count": 17,
   "metadata": {
    "execution": {
     "iopub.execute_input": "2022-11-30T09:47:24.221677Z",
     "iopub.status.busy": "2022-11-30T09:47:24.221279Z",
     "iopub.status.idle": "2022-11-30T09:47:24.227087Z",
     "shell.execute_reply": "2022-11-30T09:47:24.225968Z",
     "shell.execute_reply.started": "2022-11-30T09:47:24.221645Z"
    }
   },
   "outputs": [],
   "source": [
    "from sklearn.model_selection import StratifiedKFold\n",
    "\n",
    "cv = StratifiedKFold(n_splits=10, shuffle=True, random_state=42)"
   ]
  },
  {
   "cell_type": "markdown",
   "metadata": {},
   "source": [
    "### Ομάδα 70:\n",
    "**Χρήστος Παπαδημητρίου, el18017**\n",
    "\n",
    "**Βαρθολομαίος Βαμβακάρης, el18072**\n",
    "\n",
    "**Ζαχαρίας-Παύλος Αναστασιάδης, el18161**"
   ]
  },
  {
   "cell_type": "markdown",
   "metadata": {},
   "source": [
    "## Dataset: Company Bankrumptcy Prediction"
   ]
  },
  {
   "cell_type": "code",
   "execution_count": 18,
   "metadata": {
    "execution": {
     "iopub.execute_input": "2022-11-30T09:47:25.468395Z",
     "iopub.status.busy": "2022-11-30T09:47:25.468037Z",
     "iopub.status.idle": "2022-11-30T09:47:25.473026Z",
     "shell.execute_reply": "2022-11-30T09:47:25.472167Z",
     "shell.execute_reply.started": "2022-11-30T09:47:25.468366Z"
    }
   },
   "outputs": [],
   "source": [
    "# !pip install --upgrade pip #upgrade pip package installer\n",
    "# !pip install scikit-learn --upgrade #upgrade scikit-learn package\n",
    "# !pip install numpy --upgrade #upgrade numpy package\n",
    "# !pip install --upgrade matplotlib # Κάνουμε update την matplotlib\n",
    "# !pip install seaborn\n",
    "# !pip install markdown\n",
    "# !pip install -U imbalanced-learn"
   ]
  },
  {
   "cell_type": "code",
   "execution_count": 19,
   "metadata": {
    "execution": {
     "iopub.execute_input": "2022-11-30T09:47:25.949444Z",
     "iopub.status.busy": "2022-11-30T09:47:25.948836Z",
     "iopub.status.idle": "2022-11-30T09:47:27.069324Z",
     "shell.execute_reply": "2022-11-30T09:47:27.068040Z",
     "shell.execute_reply.started": "2022-11-30T09:47:25.949398Z"
    }
   },
   "outputs": [
    {
     "name": "stdout",
     "output_type": "stream",
     "text": [
      "data.csv\n"
     ]
    }
   ],
   "source": [
    "!ls /kaggle/input/company-bankruptcy-prediction"
   ]
  },
  {
   "cell_type": "markdown",
   "metadata": {},
   "source": [
    "## Εισαγωγή και Επισκόπιση "
   ]
  },
  {
   "cell_type": "code",
   "execution_count": 20,
   "metadata": {
    "execution": {
     "iopub.execute_input": "2022-11-30T09:47:27.072681Z",
     "iopub.status.busy": "2022-11-30T09:47:27.071504Z",
     "iopub.status.idle": "2022-11-30T09:47:27.510617Z",
     "shell.execute_reply": "2022-11-30T09:47:27.509445Z",
     "shell.execute_reply.started": "2022-11-30T09:47:27.072636Z"
    }
   },
   "outputs": [
    {
     "data": {
      "text/html": [
       "<div>\n",
       "<style scoped>\n",
       "    .dataframe tbody tr th:only-of-type {\n",
       "        vertical-align: middle;\n",
       "    }\n",
       "\n",
       "    .dataframe tbody tr th {\n",
       "        vertical-align: top;\n",
       "    }\n",
       "\n",
       "    .dataframe thead th {\n",
       "        text-align: right;\n",
       "    }\n",
       "</style>\n",
       "<table border=\"1\" class=\"dataframe\">\n",
       "  <thead>\n",
       "    <tr style=\"text-align: right;\">\n",
       "      <th></th>\n",
       "      <th>Bankrupt?</th>\n",
       "      <th>ROA(C) before interest and depreciation before interest</th>\n",
       "      <th>ROA(A) before interest and % after tax</th>\n",
       "      <th>ROA(B) before interest and depreciation after tax</th>\n",
       "      <th>Operating Gross Margin</th>\n",
       "      <th>Realized Sales Gross Margin</th>\n",
       "      <th>Operating Profit Rate</th>\n",
       "      <th>Pre-tax net Interest Rate</th>\n",
       "      <th>After-tax net Interest Rate</th>\n",
       "      <th>Non-industry income and expenditure/revenue</th>\n",
       "      <th>...</th>\n",
       "      <th>Net Income to Total Assets</th>\n",
       "      <th>Total assets to GNP price</th>\n",
       "      <th>No-credit Interval</th>\n",
       "      <th>Gross Profit to Sales</th>\n",
       "      <th>Net Income to Stockholder's Equity</th>\n",
       "      <th>Liability to Equity</th>\n",
       "      <th>Degree of Financial Leverage (DFL)</th>\n",
       "      <th>Interest Coverage Ratio (Interest expense to EBIT)</th>\n",
       "      <th>Net Income Flag</th>\n",
       "      <th>Equity to Liability</th>\n",
       "    </tr>\n",
       "  </thead>\n",
       "  <tbody>\n",
       "    <tr>\n",
       "      <th>0</th>\n",
       "      <td>1</td>\n",
       "      <td>0.370594</td>\n",
       "      <td>0.424389</td>\n",
       "      <td>0.405750</td>\n",
       "      <td>0.601457</td>\n",
       "      <td>0.601457</td>\n",
       "      <td>0.998969</td>\n",
       "      <td>0.796887</td>\n",
       "      <td>0.808809</td>\n",
       "      <td>0.302646</td>\n",
       "      <td>...</td>\n",
       "      <td>0.716845</td>\n",
       "      <td>0.009219</td>\n",
       "      <td>0.622879</td>\n",
       "      <td>0.601453</td>\n",
       "      <td>0.827890</td>\n",
       "      <td>0.290202</td>\n",
       "      <td>0.026601</td>\n",
       "      <td>0.564050</td>\n",
       "      <td>1</td>\n",
       "      <td>0.016469</td>\n",
       "    </tr>\n",
       "    <tr>\n",
       "      <th>1</th>\n",
       "      <td>1</td>\n",
       "      <td>0.464291</td>\n",
       "      <td>0.538214</td>\n",
       "      <td>0.516730</td>\n",
       "      <td>0.610235</td>\n",
       "      <td>0.610235</td>\n",
       "      <td>0.998946</td>\n",
       "      <td>0.797380</td>\n",
       "      <td>0.809301</td>\n",
       "      <td>0.303556</td>\n",
       "      <td>...</td>\n",
       "      <td>0.795297</td>\n",
       "      <td>0.008323</td>\n",
       "      <td>0.623652</td>\n",
       "      <td>0.610237</td>\n",
       "      <td>0.839969</td>\n",
       "      <td>0.283846</td>\n",
       "      <td>0.264577</td>\n",
       "      <td>0.570175</td>\n",
       "      <td>1</td>\n",
       "      <td>0.020794</td>\n",
       "    </tr>\n",
       "    <tr>\n",
       "      <th>2</th>\n",
       "      <td>1</td>\n",
       "      <td>0.426071</td>\n",
       "      <td>0.499019</td>\n",
       "      <td>0.472295</td>\n",
       "      <td>0.601450</td>\n",
       "      <td>0.601364</td>\n",
       "      <td>0.998857</td>\n",
       "      <td>0.796403</td>\n",
       "      <td>0.808388</td>\n",
       "      <td>0.302035</td>\n",
       "      <td>...</td>\n",
       "      <td>0.774670</td>\n",
       "      <td>0.040003</td>\n",
       "      <td>0.623841</td>\n",
       "      <td>0.601449</td>\n",
       "      <td>0.836774</td>\n",
       "      <td>0.290189</td>\n",
       "      <td>0.026555</td>\n",
       "      <td>0.563706</td>\n",
       "      <td>1</td>\n",
       "      <td>0.016474</td>\n",
       "    </tr>\n",
       "    <tr>\n",
       "      <th>3</th>\n",
       "      <td>1</td>\n",
       "      <td>0.399844</td>\n",
       "      <td>0.451265</td>\n",
       "      <td>0.457733</td>\n",
       "      <td>0.583541</td>\n",
       "      <td>0.583541</td>\n",
       "      <td>0.998700</td>\n",
       "      <td>0.796967</td>\n",
       "      <td>0.808966</td>\n",
       "      <td>0.303350</td>\n",
       "      <td>...</td>\n",
       "      <td>0.739555</td>\n",
       "      <td>0.003252</td>\n",
       "      <td>0.622929</td>\n",
       "      <td>0.583538</td>\n",
       "      <td>0.834697</td>\n",
       "      <td>0.281721</td>\n",
       "      <td>0.026697</td>\n",
       "      <td>0.564663</td>\n",
       "      <td>1</td>\n",
       "      <td>0.023982</td>\n",
       "    </tr>\n",
       "    <tr>\n",
       "      <th>4</th>\n",
       "      <td>1</td>\n",
       "      <td>0.465022</td>\n",
       "      <td>0.538432</td>\n",
       "      <td>0.522298</td>\n",
       "      <td>0.598783</td>\n",
       "      <td>0.598783</td>\n",
       "      <td>0.998973</td>\n",
       "      <td>0.797366</td>\n",
       "      <td>0.809304</td>\n",
       "      <td>0.303475</td>\n",
       "      <td>...</td>\n",
       "      <td>0.795016</td>\n",
       "      <td>0.003878</td>\n",
       "      <td>0.623521</td>\n",
       "      <td>0.598782</td>\n",
       "      <td>0.839973</td>\n",
       "      <td>0.278514</td>\n",
       "      <td>0.024752</td>\n",
       "      <td>0.575617</td>\n",
       "      <td>1</td>\n",
       "      <td>0.035490</td>\n",
       "    </tr>\n",
       "    <tr>\n",
       "      <th>...</th>\n",
       "      <td>...</td>\n",
       "      <td>...</td>\n",
       "      <td>...</td>\n",
       "      <td>...</td>\n",
       "      <td>...</td>\n",
       "      <td>...</td>\n",
       "      <td>...</td>\n",
       "      <td>...</td>\n",
       "      <td>...</td>\n",
       "      <td>...</td>\n",
       "      <td>...</td>\n",
       "      <td>...</td>\n",
       "      <td>...</td>\n",
       "      <td>...</td>\n",
       "      <td>...</td>\n",
       "      <td>...</td>\n",
       "      <td>...</td>\n",
       "      <td>...</td>\n",
       "      <td>...</td>\n",
       "      <td>...</td>\n",
       "      <td>...</td>\n",
       "    </tr>\n",
       "    <tr>\n",
       "      <th>6814</th>\n",
       "      <td>0</td>\n",
       "      <td>0.493687</td>\n",
       "      <td>0.539468</td>\n",
       "      <td>0.543230</td>\n",
       "      <td>0.604455</td>\n",
       "      <td>0.604462</td>\n",
       "      <td>0.998992</td>\n",
       "      <td>0.797409</td>\n",
       "      <td>0.809331</td>\n",
       "      <td>0.303510</td>\n",
       "      <td>...</td>\n",
       "      <td>0.799927</td>\n",
       "      <td>0.000466</td>\n",
       "      <td>0.623620</td>\n",
       "      <td>0.604455</td>\n",
       "      <td>0.840359</td>\n",
       "      <td>0.279606</td>\n",
       "      <td>0.027064</td>\n",
       "      <td>0.566193</td>\n",
       "      <td>1</td>\n",
       "      <td>0.029890</td>\n",
       "    </tr>\n",
       "    <tr>\n",
       "      <th>6815</th>\n",
       "      <td>0</td>\n",
       "      <td>0.475162</td>\n",
       "      <td>0.538269</td>\n",
       "      <td>0.524172</td>\n",
       "      <td>0.598308</td>\n",
       "      <td>0.598308</td>\n",
       "      <td>0.998992</td>\n",
       "      <td>0.797414</td>\n",
       "      <td>0.809327</td>\n",
       "      <td>0.303520</td>\n",
       "      <td>...</td>\n",
       "      <td>0.799748</td>\n",
       "      <td>0.001959</td>\n",
       "      <td>0.623931</td>\n",
       "      <td>0.598306</td>\n",
       "      <td>0.840306</td>\n",
       "      <td>0.278132</td>\n",
       "      <td>0.027009</td>\n",
       "      <td>0.566018</td>\n",
       "      <td>1</td>\n",
       "      <td>0.038284</td>\n",
       "    </tr>\n",
       "    <tr>\n",
       "      <th>6816</th>\n",
       "      <td>0</td>\n",
       "      <td>0.472725</td>\n",
       "      <td>0.533744</td>\n",
       "      <td>0.520638</td>\n",
       "      <td>0.610444</td>\n",
       "      <td>0.610213</td>\n",
       "      <td>0.998984</td>\n",
       "      <td>0.797401</td>\n",
       "      <td>0.809317</td>\n",
       "      <td>0.303512</td>\n",
       "      <td>...</td>\n",
       "      <td>0.797778</td>\n",
       "      <td>0.002840</td>\n",
       "      <td>0.624156</td>\n",
       "      <td>0.610441</td>\n",
       "      <td>0.840138</td>\n",
       "      <td>0.275789</td>\n",
       "      <td>0.026791</td>\n",
       "      <td>0.565158</td>\n",
       "      <td>1</td>\n",
       "      <td>0.097649</td>\n",
       "    </tr>\n",
       "    <tr>\n",
       "      <th>6817</th>\n",
       "      <td>0</td>\n",
       "      <td>0.506264</td>\n",
       "      <td>0.559911</td>\n",
       "      <td>0.554045</td>\n",
       "      <td>0.607850</td>\n",
       "      <td>0.607850</td>\n",
       "      <td>0.999074</td>\n",
       "      <td>0.797500</td>\n",
       "      <td>0.809399</td>\n",
       "      <td>0.303498</td>\n",
       "      <td>...</td>\n",
       "      <td>0.811808</td>\n",
       "      <td>0.002837</td>\n",
       "      <td>0.623957</td>\n",
       "      <td>0.607846</td>\n",
       "      <td>0.841084</td>\n",
       "      <td>0.277547</td>\n",
       "      <td>0.026822</td>\n",
       "      <td>0.565302</td>\n",
       "      <td>1</td>\n",
       "      <td>0.044009</td>\n",
       "    </tr>\n",
       "    <tr>\n",
       "      <th>6818</th>\n",
       "      <td>0</td>\n",
       "      <td>0.493053</td>\n",
       "      <td>0.570105</td>\n",
       "      <td>0.549548</td>\n",
       "      <td>0.627409</td>\n",
       "      <td>0.627409</td>\n",
       "      <td>0.998080</td>\n",
       "      <td>0.801987</td>\n",
       "      <td>0.813800</td>\n",
       "      <td>0.313415</td>\n",
       "      <td>...</td>\n",
       "      <td>0.815956</td>\n",
       "      <td>0.000707</td>\n",
       "      <td>0.626680</td>\n",
       "      <td>0.627408</td>\n",
       "      <td>0.841019</td>\n",
       "      <td>0.275114</td>\n",
       "      <td>0.026793</td>\n",
       "      <td>0.565167</td>\n",
       "      <td>1</td>\n",
       "      <td>0.233902</td>\n",
       "    </tr>\n",
       "  </tbody>\n",
       "</table>\n",
       "<p>6819 rows × 96 columns</p>\n",
       "</div>"
      ],
      "text/plain": [
       "      Bankrupt?   ROA(C) before interest and depreciation before interest  \\\n",
       "0             1                                           0.370594          \n",
       "1             1                                           0.464291          \n",
       "2             1                                           0.426071          \n",
       "3             1                                           0.399844          \n",
       "4             1                                           0.465022          \n",
       "...         ...                                                ...          \n",
       "6814          0                                           0.493687          \n",
       "6815          0                                           0.475162          \n",
       "6816          0                                           0.472725          \n",
       "6817          0                                           0.506264          \n",
       "6818          0                                           0.493053          \n",
       "\n",
       "       ROA(A) before interest and % after tax  \\\n",
       "0                                    0.424389   \n",
       "1                                    0.538214   \n",
       "2                                    0.499019   \n",
       "3                                    0.451265   \n",
       "4                                    0.538432   \n",
       "...                                       ...   \n",
       "6814                                 0.539468   \n",
       "6815                                 0.538269   \n",
       "6816                                 0.533744   \n",
       "6817                                 0.559911   \n",
       "6818                                 0.570105   \n",
       "\n",
       "       ROA(B) before interest and depreciation after tax  \\\n",
       "0                                              0.405750    \n",
       "1                                              0.516730    \n",
       "2                                              0.472295    \n",
       "3                                              0.457733    \n",
       "4                                              0.522298    \n",
       "...                                                 ...    \n",
       "6814                                           0.543230    \n",
       "6815                                           0.524172    \n",
       "6816                                           0.520638    \n",
       "6817                                           0.554045    \n",
       "6818                                           0.549548    \n",
       "\n",
       "       Operating Gross Margin   Realized Sales Gross Margin  \\\n",
       "0                    0.601457                      0.601457   \n",
       "1                    0.610235                      0.610235   \n",
       "2                    0.601450                      0.601364   \n",
       "3                    0.583541                      0.583541   \n",
       "4                    0.598783                      0.598783   \n",
       "...                       ...                           ...   \n",
       "6814                 0.604455                      0.604462   \n",
       "6815                 0.598308                      0.598308   \n",
       "6816                 0.610444                      0.610213   \n",
       "6817                 0.607850                      0.607850   \n",
       "6818                 0.627409                      0.627409   \n",
       "\n",
       "       Operating Profit Rate   Pre-tax net Interest Rate  \\\n",
       "0                   0.998969                    0.796887   \n",
       "1                   0.998946                    0.797380   \n",
       "2                   0.998857                    0.796403   \n",
       "3                   0.998700                    0.796967   \n",
       "4                   0.998973                    0.797366   \n",
       "...                      ...                         ...   \n",
       "6814                0.998992                    0.797409   \n",
       "6815                0.998992                    0.797414   \n",
       "6816                0.998984                    0.797401   \n",
       "6817                0.999074                    0.797500   \n",
       "6818                0.998080                    0.801987   \n",
       "\n",
       "       After-tax net Interest Rate  \\\n",
       "0                         0.808809   \n",
       "1                         0.809301   \n",
       "2                         0.808388   \n",
       "3                         0.808966   \n",
       "4                         0.809304   \n",
       "...                            ...   \n",
       "6814                      0.809331   \n",
       "6815                      0.809327   \n",
       "6816                      0.809317   \n",
       "6817                      0.809399   \n",
       "6818                      0.813800   \n",
       "\n",
       "       Non-industry income and expenditure/revenue  ...  \\\n",
       "0                                         0.302646  ...   \n",
       "1                                         0.303556  ...   \n",
       "2                                         0.302035  ...   \n",
       "3                                         0.303350  ...   \n",
       "4                                         0.303475  ...   \n",
       "...                                            ...  ...   \n",
       "6814                                      0.303510  ...   \n",
       "6815                                      0.303520  ...   \n",
       "6816                                      0.303512  ...   \n",
       "6817                                      0.303498  ...   \n",
       "6818                                      0.313415  ...   \n",
       "\n",
       "       Net Income to Total Assets   Total assets to GNP price  \\\n",
       "0                        0.716845                    0.009219   \n",
       "1                        0.795297                    0.008323   \n",
       "2                        0.774670                    0.040003   \n",
       "3                        0.739555                    0.003252   \n",
       "4                        0.795016                    0.003878   \n",
       "...                           ...                         ...   \n",
       "6814                     0.799927                    0.000466   \n",
       "6815                     0.799748                    0.001959   \n",
       "6816                     0.797778                    0.002840   \n",
       "6817                     0.811808                    0.002837   \n",
       "6818                     0.815956                    0.000707   \n",
       "\n",
       "       No-credit Interval   Gross Profit to Sales  \\\n",
       "0                0.622879                0.601453   \n",
       "1                0.623652                0.610237   \n",
       "2                0.623841                0.601449   \n",
       "3                0.622929                0.583538   \n",
       "4                0.623521                0.598782   \n",
       "...                   ...                     ...   \n",
       "6814             0.623620                0.604455   \n",
       "6815             0.623931                0.598306   \n",
       "6816             0.624156                0.610441   \n",
       "6817             0.623957                0.607846   \n",
       "6818             0.626680                0.627408   \n",
       "\n",
       "       Net Income to Stockholder's Equity   Liability to Equity  \\\n",
       "0                                0.827890              0.290202   \n",
       "1                                0.839969              0.283846   \n",
       "2                                0.836774              0.290189   \n",
       "3                                0.834697              0.281721   \n",
       "4                                0.839973              0.278514   \n",
       "...                                   ...                   ...   \n",
       "6814                             0.840359              0.279606   \n",
       "6815                             0.840306              0.278132   \n",
       "6816                             0.840138              0.275789   \n",
       "6817                             0.841084              0.277547   \n",
       "6818                             0.841019              0.275114   \n",
       "\n",
       "       Degree of Financial Leverage (DFL)  \\\n",
       "0                                0.026601   \n",
       "1                                0.264577   \n",
       "2                                0.026555   \n",
       "3                                0.026697   \n",
       "4                                0.024752   \n",
       "...                                   ...   \n",
       "6814                             0.027064   \n",
       "6815                             0.027009   \n",
       "6816                             0.026791   \n",
       "6817                             0.026822   \n",
       "6818                             0.026793   \n",
       "\n",
       "       Interest Coverage Ratio (Interest expense to EBIT)   Net Income Flag  \\\n",
       "0                                              0.564050                   1   \n",
       "1                                              0.570175                   1   \n",
       "2                                              0.563706                   1   \n",
       "3                                              0.564663                   1   \n",
       "4                                              0.575617                   1   \n",
       "...                                                 ...                 ...   \n",
       "6814                                           0.566193                   1   \n",
       "6815                                           0.566018                   1   \n",
       "6816                                           0.565158                   1   \n",
       "6817                                           0.565302                   1   \n",
       "6818                                           0.565167                   1   \n",
       "\n",
       "       Equity to Liability  \n",
       "0                 0.016469  \n",
       "1                 0.020794  \n",
       "2                 0.016474  \n",
       "3                 0.023982  \n",
       "4                 0.035490  \n",
       "...                    ...  \n",
       "6814              0.029890  \n",
       "6815              0.038284  \n",
       "6816              0.097649  \n",
       "6817              0.044009  \n",
       "6818              0.233902  \n",
       "\n",
       "[6819 rows x 96 columns]"
      ]
     },
     "execution_count": 20,
     "metadata": {},
     "output_type": "execute_result"
    }
   ],
   "source": [
    "import pandas as pd\n",
    "\n",
    "df = pd.read_csv('/kaggle/input/company-bankruptcy-prediction/data.csv')\n",
    "df"
   ]
  },
  {
   "cell_type": "code",
   "execution_count": 21,
   "metadata": {
    "execution": {
     "iopub.execute_input": "2022-11-30T09:47:28.004859Z",
     "iopub.status.busy": "2022-11-30T09:47:28.004029Z",
     "iopub.status.idle": "2022-11-30T09:47:28.011474Z",
     "shell.execute_reply": "2022-11-30T09:47:28.010577Z",
     "shell.execute_reply.started": "2022-11-30T09:47:28.004820Z"
    }
   },
   "outputs": [
    {
     "name": "stdout",
     "output_type": "stream",
     "text": [
      "Bankrupt?\n",
      " ROA(C) before interest and depreciation before interest\n",
      " ROA(A) before interest and % after tax\n",
      " ROA(B) before interest and depreciation after tax\n",
      " Operating Gross Margin\n",
      " Realized Sales Gross Margin\n",
      " Operating Profit Rate\n",
      " Pre-tax net Interest Rate\n",
      " After-tax net Interest Rate\n",
      " Non-industry income and expenditure/revenue\n",
      " Continuous interest rate (after tax)\n",
      " Operating Expense Rate\n",
      " Research and development expense rate\n",
      " Cash flow rate\n",
      " Interest-bearing debt interest rate\n",
      " Tax rate (A)\n",
      " Net Value Per Share (B)\n",
      " Net Value Per Share (A)\n",
      " Net Value Per Share (C)\n",
      " Persistent EPS in the Last Four Seasons\n",
      " Cash Flow Per Share\n",
      " Revenue Per Share (Yuan ¥)\n",
      " Operating Profit Per Share (Yuan ¥)\n",
      " Per Share Net profit before tax (Yuan ¥)\n",
      " Realized Sales Gross Profit Growth Rate\n",
      " Operating Profit Growth Rate\n",
      " After-tax Net Profit Growth Rate\n",
      " Regular Net Profit Growth Rate\n",
      " Continuous Net Profit Growth Rate\n",
      " Total Asset Growth Rate\n",
      " Net Value Growth Rate\n",
      " Total Asset Return Growth Rate Ratio\n",
      " Cash Reinvestment %\n",
      " Current Ratio\n",
      " Quick Ratio\n",
      " Interest Expense Ratio\n",
      " Total debt/Total net worth\n",
      " Debt ratio %\n",
      " Net worth/Assets\n",
      " Long-term fund suitability ratio (A)\n",
      " Borrowing dependency\n",
      " Contingent liabilities/Net worth\n",
      " Operating profit/Paid-in capital\n",
      " Net profit before tax/Paid-in capital\n",
      " Inventory and accounts receivable/Net value\n",
      " Total Asset Turnover\n",
      " Accounts Receivable Turnover\n",
      " Average Collection Days\n",
      " Inventory Turnover Rate (times)\n",
      " Fixed Assets Turnover Frequency\n",
      " Net Worth Turnover Rate (times)\n",
      " Revenue per person\n",
      " Operating profit per person\n",
      " Allocation rate per person\n",
      " Working Capital to Total Assets\n",
      " Quick Assets/Total Assets\n",
      " Current Assets/Total Assets\n",
      " Cash/Total Assets\n",
      " Quick Assets/Current Liability\n",
      " Cash/Current Liability\n",
      " Current Liability to Assets\n",
      " Operating Funds to Liability\n",
      " Inventory/Working Capital\n",
      " Inventory/Current Liability\n",
      " Current Liabilities/Liability\n",
      " Working Capital/Equity\n",
      " Current Liabilities/Equity\n",
      " Long-term Liability to Current Assets\n",
      " Retained Earnings to Total Assets\n",
      " Total income/Total expense\n",
      " Total expense/Assets\n",
      " Current Asset Turnover Rate\n",
      " Quick Asset Turnover Rate\n",
      " Working capitcal Turnover Rate\n",
      " Cash Turnover Rate\n",
      " Cash Flow to Sales\n",
      " Fixed Assets to Assets\n",
      " Current Liability to Liability\n",
      " Current Liability to Equity\n",
      " Equity to Long-term Liability\n",
      " Cash Flow to Total Assets\n",
      " Cash Flow to Liability\n",
      " CFO to Assets\n",
      " Cash Flow to Equity\n",
      " Current Liability to Current Assets\n",
      " Liability-Assets Flag\n",
      " Net Income to Total Assets\n",
      " Total assets to GNP price\n",
      " No-credit Interval\n",
      " Gross Profit to Sales\n",
      " Net Income to Stockholder's Equity\n",
      " Liability to Equity\n",
      " Degree of Financial Leverage (DFL)\n",
      " Interest Coverage Ratio (Interest expense to EBIT)\n",
      " Net Income Flag\n",
      " Equity to Liability\n"
     ]
    }
   ],
   "source": [
    "for col in df:\n",
    "    print(col)"
   ]
  },
  {
   "cell_type": "code",
   "execution_count": 22,
   "metadata": {
    "execution": {
     "iopub.execute_input": "2022-11-30T09:47:29.250924Z",
     "iopub.status.busy": "2022-11-30T09:47:29.250438Z",
     "iopub.status.idle": "2022-11-30T09:47:29.263380Z",
     "shell.execute_reply": "2022-11-30T09:47:29.262457Z",
     "shell.execute_reply.started": "2022-11-30T09:47:29.250887Z"
    }
   },
   "outputs": [
    {
     "name": "stdout",
     "output_type": "stream",
     "text": [
      "3.23 96.77\n"
     ]
    }
   ],
   "source": [
    "isBankrupt = list(df['Bankrupt?'])\n",
    "count_ones = isBankrupt.count(1)\n",
    "count_zeros = isBankrupt.count(0)\n",
    "print(round(count_ones*100/len(isBankrupt),2),\n",
    "      round(count_zeros*100/len(isBankrupt),2))"
   ]
  },
  {
   "cell_type": "code",
   "execution_count": 23,
   "metadata": {
    "execution": {
     "iopub.execute_input": "2022-11-30T09:47:30.564242Z",
     "iopub.status.busy": "2022-11-30T09:47:30.563855Z",
     "iopub.status.idle": "2022-11-30T09:47:30.651572Z",
     "shell.execute_reply": "2022-11-30T09:47:30.650300Z",
     "shell.execute_reply.started": "2022-11-30T09:47:30.564212Z"
    }
   },
   "outputs": [
    {
     "name": "stdout",
     "output_type": "stream",
     "text": [
      "There are no missing data in the Dataset\n"
     ]
    }
   ],
   "source": [
    "# check if we have any missing values\n",
    "\n",
    "isNullArray, nullValsPresent = df.isnull(), False\n",
    "\n",
    "for numCol in isNullArray:\n",
    "    if True in list(isNullArray[numCol]):\n",
    "        print(\"missing value in colunm: \" + str(numCol))\n",
    "        nullValsPresent = True\n",
    "\n",
    "if not nullValsPresent:\n",
    "    print(\"There are no missing data in the Dataset\")"
   ]
  },
  {
   "cell_type": "markdown",
   "metadata": {},
   "source": [
    "#### Σύντομη Παρουσίαση του Dataset"
   ]
  },
  {
   "cell_type": "markdown",
   "metadata": {},
   "source": [
    "Το Dataset περιέχει δεδομένα από το Taiwan Economic Journal για το χρονικό διάστημα 1999-2009. Τα δεδομένα αφορούν διάφορα χαρακτηριστικά για εταιρίες καθώς και το αν αυτές χρεοκόπησαν στο παραπάνω διάστημα. Η χρεοκοπία εδώ ακολουθεί τον ορισμό του Ταϊβανέζικου Χρηματιστηρίου.\n",
    "\n",
    "Συγκεκριμένα το Dataset περιέχει:\n",
    "* 6819 δείγματα. Καθένα από αυτά έχει 95 χαρακτηριστικά. \n",
    "* Τα χαρακτηριστικά αυτά εμφανίζονται στις στήλες 1-95 του Dataset (η αρίθμηση ξεκινά από το 0)\n",
    "* Η πρώτη στήλη του Dataset (index 0) αντιστοιχεί στις ετικέτα της κλάσης για κάθε δείγμα. Παίρνει τιμή 0 ή 1, όπου το 1 δηλώνει ότι η εταιρία-δείγμα χρεοκόπησε.\n",
    "\n",
    "Επιπλέον για το Dataset σημειώνουμε ότι:\n",
    "* Υπάρχουν επικεφαλίδες των χαρακτηριστικών, ενώ δεν υπάρχει αρίθμηση γραμμών\n",
    "* Η συχνότητα των κλάσεων είναι: _96.77%_ / _3.23%_ (0/1).\n",
    "* Δεν υπάρχουν απουσιάζουσες τιμές"
   ]
  },
  {
   "cell_type": "markdown",
   "metadata": {},
   "source": [
    "## Επιλογή Μετρικής\n",
    "\n",
    "Η μετρική που κρίνουμε ως πιο κατάλληλη για το συγκεκριμένο πρόβλημα είναι το **F2-score**. Αρχικά, αυτή η επιλογή βασίζεται στο γεγονός ότι το Dataset που εξετάζουμε είναι εντελώς μη-ισορροπημένο (μεγάλη διαφορά στα ποσοστά εμφάνισης των δύο κλάσεων). Σε τέτοιες περιπτώσεις είναι γνωστό ότι το F2-score λαμβάνει καλύτερα υπόψιν αυτή την ανισορροπία σε σχέση με μια μετρική όπως το accuracy που αδυνατεί να την λάβει υπόψιν. Επιπλέον, στην περίπτωσή μας τα False Negatives (πρόβλεψη κλάσης 0 (μη χρεοκοπία) για μία εταιρία που πρόκειται να χρεοκοπήσει) είναι μεγάλης σημασίας. Για παράδειγμα αν σκεφτούμε έναν επενδυτή που θα χρησιμοποιήσει τις προβέψεις μας για να επιλέξει σε ποια εταιρία θα επενδύσει, μία False-Negative ταξινόμηση μπορεί να αποβεί καταστροφική για αυτόν. Το F2-score, λοιπόν θα μας δώσει καλύτερη εικόνα σε σχέση με αυτά, λαμβάνοντας υπόψιν με επιπλέον βάρος το Recall. Συνεπώς, στη συνέχεια θα αξιολογήσουμε και θα βελτιστοποιήσουμε τα συστήματά μας ως προς το F2-score. Για λόγους πληρότητας παρουσιάζουμε και αποτελέσματα ως προς το Accuracy και το F1-score, όμως δεν θα κρίνουμε τους ταξινομητές με βάση αυτά.\n",
    "\n",
    "Ο τύπος που δίνει το F2-score: $F_2 = \\frac{5 \\times Precision \\times Recall}{4 \\times Precision+Recall}$"
   ]
  },
  {
   "cell_type": "markdown",
   "metadata": {},
   "source": [
    "## Προετοιμασία"
   ]
  },
  {
   "cell_type": "markdown",
   "metadata": {},
   "source": [
    "Απομονώνουμε το διάνυσμα των labels και τον πίνακα των features:"
   ]
  },
  {
   "cell_type": "code",
   "execution_count": 24,
   "metadata": {
    "execution": {
     "iopub.execute_input": "2022-11-30T09:47:34.554400Z",
     "iopub.status.busy": "2022-11-30T09:47:34.553660Z",
     "iopub.status.idle": "2022-11-30T09:47:34.564652Z",
     "shell.execute_reply": "2022-11-30T09:47:34.563231Z",
     "shell.execute_reply.started": "2022-11-30T09:47:34.554353Z"
    }
   },
   "outputs": [
    {
     "name": "stdout",
     "output_type": "stream",
     "text": [
      "(6819, 1)\n",
      "(6819, 95)\n"
     ]
    }
   ],
   "source": [
    "# split dataset into features and labels\n",
    "features_df, labels_df = df.iloc[:,1:96], df.iloc[:,[0]]\n",
    "print(labels_df.shape)\n",
    "print(features_df.shape)"
   ]
  },
  {
   "cell_type": "markdown",
   "metadata": {},
   "source": [
    "Μετατρέπουμε τα παραπάνω σε numpy arrays:"
   ]
  },
  {
   "cell_type": "code",
   "execution_count": 25,
   "metadata": {
    "execution": {
     "iopub.execute_input": "2022-11-30T09:47:36.150012Z",
     "iopub.status.busy": "2022-11-30T09:47:36.149287Z",
     "iopub.status.idle": "2022-11-30T09:47:36.156746Z",
     "shell.execute_reply": "2022-11-30T09:47:36.155535Z",
     "shell.execute_reply.started": "2022-11-30T09:47:36.149971Z"
    }
   },
   "outputs": [],
   "source": [
    "# turn features into numpy array \n",
    "features_np = features_df.values\n",
    "features_np\n",
    "\n",
    "# labels into numpy array\n",
    "labels_np = labels_df.values.flatten()"
   ]
  },
  {
   "cell_type": "markdown",
   "metadata": {},
   "source": [
    "Χωρίζουμε τα δεδομένα μας σε train και test με την κλασική αναλογία (0.66/0.33). Επίσης, δεδομένου ότι έχουμε μη ισορροπημένα δεδομένα, φροντίζουμε να διατηρηθεί η αναλογία κατά το split (θέτοντας την παράμετρο stratify)."
   ]
  },
  {
   "cell_type": "code",
   "execution_count": 26,
   "metadata": {
    "execution": {
     "iopub.execute_input": "2022-11-30T09:47:37.118008Z",
     "iopub.status.busy": "2022-11-30T09:47:37.117617Z",
     "iopub.status.idle": "2022-11-30T09:47:37.135985Z",
     "shell.execute_reply": "2022-11-30T09:47:37.134700Z",
     "shell.execute_reply.started": "2022-11-30T09:47:37.117978Z"
    }
   },
   "outputs": [
    {
     "name": "stdout",
     "output_type": "stream",
     "text": [
      "(4568, 95)\n",
      "(2251, 95)\n"
     ]
    }
   ],
   "source": [
    "from sklearn.model_selection import train_test_split\n",
    "\n",
    "#split data into training and testing data\n",
    "train, test, train_labels, test_labels = train_test_split(features_np, labels_np,\n",
    "                                                          test_size=0.33,\n",
    "                                                          random_state=42,\n",
    "                                                          stratify = labels_np # keep proportions when spliting\n",
    "                                                         )\n",
    "print(train.shape)\n",
    "print(test.shape)"
   ]
  },
  {
   "cell_type": "markdown",
   "metadata": {},
   "source": [
    "## Ταξινόμηση: Επίδοση Out-Of-The-Box"
   ]
  },
  {
   "cell_type": "markdown",
   "metadata": {},
   "source": [
    "Σε αυτό το σημείο εκπαιδεύουμε 5 dummy classifiers, καθώς και έναν MLP και έναν SVM out-of-the-box με default παραμέτρους, για να τους χρησιμοποιήσουμε τα αποτελεσματά τους ως baseline κατά την βελτιστοποίηση."
   ]
  },
  {
   "cell_type": "code",
   "execution_count": 27,
   "metadata": {
    "execution": {
     "iopub.execute_input": "2022-11-30T09:47:39.026780Z",
     "iopub.status.busy": "2022-11-30T09:47:39.026379Z",
     "iopub.status.idle": "2022-11-30T09:47:39.033464Z",
     "shell.execute_reply": "2022-11-30T09:47:39.032411Z",
     "shell.execute_reply.started": "2022-11-30T09:47:39.026750Z"
    }
   },
   "outputs": [],
   "source": [
    "# import classifiers\n",
    "from sklearn.dummy import DummyClassifier\n",
    "from sklearn.neural_network import MLPClassifier\n",
    "from sklearn.svm import SVC\n",
    "\n",
    "# import metrics\n",
    "from sklearn.metrics import precision_recall_fscore_support\n",
    "from sklearn.metrics import classification_report\n",
    "from sklearn.metrics import fbeta_score\n",
    "from sklearn.metrics import f1_score\n",
    "from sklearn.metrics import accuracy_score\n",
    "from sklearn.metrics import make_scorer"
   ]
  },
  {
   "cell_type": "markdown",
   "metadata": {},
   "source": [
    "Εδώ ορίζουμε μία \"_custom_\" συνάρτηση scorer που υπολογίζει το f2-score και θα μας χρησιμεύσει στην βελτιστοποίηση."
   ]
  },
  {
   "cell_type": "code",
   "execution_count": 28,
   "metadata": {
    "execution": {
     "iopub.execute_input": "2022-11-30T09:47:41.277130Z",
     "iopub.status.busy": "2022-11-30T09:47:41.276729Z",
     "iopub.status.idle": "2022-11-30T09:47:41.283296Z",
     "shell.execute_reply": "2022-11-30T09:47:41.281939Z",
     "shell.execute_reply.started": "2022-11-30T09:47:41.277100Z"
    }
   },
   "outputs": [],
   "source": [
    "# make and f2_scores for cross validation\n",
    "f2_scorer = make_scorer(fbeta_score, beta=2)"
   ]
  },
  {
   "cell_type": "code",
   "execution_count": 29,
   "metadata": {
    "execution": {
     "iopub.execute_input": "2022-11-30T09:47:42.477580Z",
     "iopub.status.busy": "2022-11-30T09:47:42.476908Z",
     "iopub.status.idle": "2022-11-30T09:47:42.482759Z",
     "shell.execute_reply": "2022-11-30T09:47:42.481794Z",
     "shell.execute_reply.started": "2022-11-30T09:47:42.477543Z"
    }
   },
   "outputs": [],
   "source": [
    "f1_scores_ootb = dict()\n",
    "f2_scores_ootb = dict()\n",
    "acc_scores_ootb = dict()"
   ]
  },
  {
   "cell_type": "markdown",
   "metadata": {},
   "source": [
    "Ορίζουμε τους classifiers:"
   ]
  },
  {
   "cell_type": "code",
   "execution_count": 30,
   "metadata": {
    "execution": {
     "iopub.execute_input": "2022-11-30T09:47:44.403255Z",
     "iopub.status.busy": "2022-11-30T09:47:44.402833Z",
     "iopub.status.idle": "2022-11-30T09:47:44.411979Z",
     "shell.execute_reply": "2022-11-30T09:47:44.410585Z",
     "shell.execute_reply.started": "2022-11-30T09:47:44.403220Z"
    }
   },
   "outputs": [],
   "source": [
    "# initialize out of the box classifiers\n",
    "\n",
    "dc_uniform = DummyClassifier(strategy=\"uniform\", random_state=42)\n",
    "dc_constant_0 = DummyClassifier(strategy=\"constant\", constant=0, random_state=42)\n",
    "dc_constant_1 = DummyClassifier(strategy=\"constant\", constant=1, random_state=42)\n",
    "dc_most_frequent = DummyClassifier(strategy=\"most_frequent\", random_state=42)\n",
    "dc_stratified = DummyClassifier(strategy=\"stratified\", random_state=42)\n",
    "\n",
    "mlp_clf_ootb = MLPClassifier()\n",
    "svm_clf_ootb = SVC()\n",
    "\n",
    "ootb_clfs = [(dc_uniform, 'dc uniform'),\n",
    "             (dc_constant_0, 'dc constant 0'),\n",
    "             (dc_constant_1, 'dc constant 1'), \n",
    "             (dc_most_frequent, 'dc most frequent'),\n",
    "             (dc_stratified, 'dc stratified'),\n",
    "             (mlp_clf_ootb, 'mlp'),\n",
    "             (svm_clf_ootb, 'svm')\n",
    "            ]"
   ]
  },
  {
   "cell_type": "markdown",
   "metadata": {},
   "source": [
    "Εκπαιδεύουμε όλους τους classifiers:"
   ]
  },
  {
   "cell_type": "code",
   "execution_count": 31,
   "metadata": {
    "execution": {
     "iopub.execute_input": "2022-11-30T09:47:46.201249Z",
     "iopub.status.busy": "2022-11-30T09:47:46.200874Z",
     "iopub.status.idle": "2022-11-30T09:47:51.650889Z",
     "shell.execute_reply": "2022-11-30T09:47:51.649451Z",
     "shell.execute_reply.started": "2022-11-30T09:47:46.201221Z"
    }
   },
   "outputs": [],
   "source": [
    "for (clf, name) in ootb_clfs:\n",
    "    #train\n",
    "    model = clf.fit(train, train_labels)\n",
    "    # predict for test data\n",
    "    preds = clf.predict(test)\n",
    "    # calc scores\n",
    "    f1_scores_ootb[name] = f1_score(test_labels, preds)\n",
    "    f2_scores_ootb[name] = fbeta_score(test_labels, preds, beta=2)\n",
    "    acc_scores_ootb[name] = accuracy_score(test_labels, preds)"
   ]
  },
  {
   "cell_type": "markdown",
   "metadata": {},
   "source": [
    "Παρουσιάζουμε όλα τα αποτελέσματα με μορφή πίνακα. Όπως αναφέραμε και παραπάνω υπολογίζουμε το f1-score, το f2-score και το Accuracy, όμως αξιολογούμε με βάση το f2-score."
   ]
  },
  {
   "cell_type": "code",
   "execution_count": 30,
   "metadata": {
    "execution": {
     "iopub.execute_input": "2022-12-05T10:39:46.536434Z",
     "iopub.status.busy": "2022-12-05T10:39:46.536000Z",
     "iopub.status.idle": "2022-12-05T10:39:46.542054Z",
     "shell.execute_reply": "2022-12-05T10:39:46.540774Z",
     "shell.execute_reply.started": "2022-12-05T10:39:46.536378Z"
    }
   },
   "outputs": [],
   "source": [
    "# # display results\n",
    "# from IPython.display import display, Markdown, Latex\n",
    "\n",
    "# disp = \"\"\"\n",
    "# **Out-Of-The-Box Results:**\n",
    "\n",
    "# | Classifier | F1-score | F2-score | Accuracy |\n",
    "# | :-: | :-: | :-: | :-: |\n",
    "# \"\"\"\n",
    "\n",
    "# for name in f1_scores_ootb.keys():\n",
    "#     disp += \"|\"+name+\"|\"+str(f1_scores_ootb[name])+\"|**\"+str(f2_scores_ootb[name])+\"**|\"+str(acc_scores_ootb[name])+\"|\\n\"\n",
    "\n",
    "# display(Markdown(disp))"
   ]
  },
  {
   "cell_type": "markdown",
   "metadata": {},
   "source": [
    "Out-of-the-Box Results:\n",
    "\n",
    "| Classifier       | F1-score             | F2-score                | Accuracy            |\n",
    "| :-: | :-: | :-: | :-: |\n",
    "|    dc uniform    | 0.06484641638225257  | **0.13659237958303383** | 0.5131052865393159  |\n",
    "|   dc constant 0  | 0.0                  | **0.0**                     | 0.9675699689027099  |\n",
    "|   dc constant 1  | 0.06282271944922548  | **0.14353126228863547**     | 0.03243003109729009 |\n",
    "| dc most frequent | 0.0                  | **0.0**                     | 0.9675699689027099  |\n",
    "|   dc stratified  | 0.026315789473684213 | **0.02695417789757413**   | 0.9342514438027544  |\n",
    "|        mlp       | 0.08928571428571427  | **0.07552870090634439**     | 0.9546868058640604  |\n",
    "|        svm       | 0.0                  | **0.0**                     | 0.9675699689027099  |"
   ]
  },
  {
   "cell_type": "markdown",
   "metadata": {},
   "source": [
    "Ορίζουμε κάποιες βοηθητικές συναρτήσεις για τον σχεδιασμό διαγραμμάτων και τυπώνουμε το διάγραμμα f2-score:"
   ]
  },
  {
   "cell_type": "code",
   "execution_count": 33,
   "metadata": {
    "execution": {
     "iopub.execute_input": "2022-11-30T09:48:02.774055Z",
     "iopub.status.busy": "2022-11-30T09:48:02.773646Z",
     "iopub.status.idle": "2022-11-30T09:48:02.790366Z",
     "shell.execute_reply": "2022-11-30T09:48:02.788862Z",
     "shell.execute_reply.started": "2022-11-30T09:48:02.774023Z"
    }
   },
   "outputs": [],
   "source": [
    "# plotting functions\n",
    "\n",
    "import numpy as np\n",
    "import matplotlib.pyplot as plt\n",
    "\n",
    "# functions to plot bar charts\n",
    "\n",
    "def plotBarChart(x, ylist, cols, labs, tit, xlab, ylab):\n",
    "    plt.clf()\n",
    "    xaxis = np.arange(len(x))\n",
    "\n",
    "    # offsets of bar plots\n",
    "    totalWidth = len(ylist)*0.2-0.2\n",
    "    offset = [-(totalWidth/2)+i*0.2 for i in range(len(ylist))]\n",
    "    fig, ax = plt.subplots(figsize=(15,8))\n",
    "    \n",
    "    for i in range(len(ylist)):\n",
    "        fig = plt.bar(xaxis+offset[i], ylist[i], color=cols[i], label=labs[i], width=0.2)\n",
    "\n",
    "    # correct the xticklabels\n",
    "    ax.set_xticks(xaxis)\n",
    "    ax.set_xticklabels(x)\n",
    "    \n",
    "    # activate grid lines\n",
    "    ax.grid()\n",
    "    \n",
    "    plt.legend()\n",
    "    plt.xlabel(xlab)\n",
    "    plt.ylabel(ylab)\n",
    "    plt.title(tit)\n",
    "    \n",
    "def plotBarChartDoubleAxes(x,ylist,cols,labs,tit,xlab,ylabList):\n",
    "    xaxis = np.arange(len(x))\n",
    "    \n",
    "    # offsets of bar plots\n",
    "    totalWidth = len(ylist)*0.2-0.2\n",
    "    offset = [-(totalWidth/2)+i*0.2 for i in range(len(ylist))]\n",
    "    \n",
    "    \n",
    "    fig, ax0 = plt.subplots(figsize=(15,9))\n",
    "    # create second set of axes with same x axis\n",
    "    ax1 = ax0.twinx()\n",
    "    \n",
    "    ax0.set_yticks([i/10 for i in range(11)])\n",
    "    # plot       \n",
    "    ax0.bar(xaxis+offset[0], ylist[0], color=cols[0], label=labs[0], width=0.2)\n",
    "    ax1.bar(xaxis+offset[1], ylist[1], color=cols[1], label=labs[1], width=0.2)\n",
    "    \n",
    "    # ylabels\n",
    "    ax0.set_ylabel(ylabList[0])\n",
    "    ax1.set_ylabel(ylabList[1])\n",
    "    \n",
    "    # correct the xticklabels\n",
    "    ax0.set_xticks(xaxis)\n",
    "    ax0.set_xticklabels(x)\n",
    "    \n",
    "    \n",
    "    ax0.legend(loc='upper right', bbox_to_anchor=(0.95,0.99))\n",
    "    ax1.legend(loc='upper right', bbox_to_anchor=(0.95,0.94))\n",
    "    ax0.set_xlabel(xlab)\n",
    "    plt.title(tit)   "
   ]
  },
  {
   "cell_type": "code",
   "execution_count": 34,
   "metadata": {
    "execution": {
     "iopub.execute_input": "2022-11-30T09:48:03.547798Z",
     "iopub.status.busy": "2022-11-30T09:48:03.547360Z",
     "iopub.status.idle": "2022-11-30T09:48:03.887882Z",
     "shell.execute_reply": "2022-11-30T09:48:03.886332Z",
     "shell.execute_reply.started": "2022-11-30T09:48:03.547761Z"
    }
   },
   "outputs": [
    {
     "data": {
      "text/plain": [
       "<Figure size 432x288 with 0 Axes>"
      ]
     },
     "metadata": {},
     "output_type": "display_data"
    },
    {
     "data": {
      "image/png": "[encoded data removed]",
      "text/plain": [
       "<Figure size 1080x576 with 1 Axes>"
      ]
     },
     "metadata": {
      "needs_background": "light"
     },
     "output_type": "display_data"
    }
   ],
   "source": [
    "xaxis, yaxis = [], []\n",
    "for (key, val) in f2_scores_ootb.items():\n",
    "    xaxis.append(key)\n",
    "    yaxis.append(val)\n",
    "\n",
    "plotBarChart(xaxis, [yaxis], ['teal'], ['F2-score'],\\\n",
    "             'F2-score per Classifier', 'Classifier', 'Accuracy Score')"
   ]
  },
  {
   "cell_type": "markdown",
   "metadata": {},
   "source": [
    "Είναι φανερό ότι τόσο o MLP, όσο και ο SVM έχουν πολύ κακή επίδοση, ως προς το f2-score Out-Of-The-Box. Παρατηρούμε επίσης, όπως άλλωστε είχαμε προβλέψει ότι το Accuracy δεν είναι καλή μετρική. Πράγματι, (σχεδόν) όλοι οι classifiers έχουν καλή επίδοση σε αυτήν, ενώ ο Dummy constant-0 έχει την καλύτερη επίδοση κάνοντας πάντα ίδια πρόβλεψη. Σημειώνουμε, τέλος ότι η τιμή του F2-score για τον Dummy constant-1 (**0.143**) είναι η καλύτερη που εμφανίζεται στον πίνακα και μπορεί να χρησιμοποιηθεί ως αναφορά για την συνέχεια."
   ]
  },
  {
   "cell_type": "markdown",
   "metadata": {},
   "source": [
    "## Ταξινόμηση: Βελτιστοποίηση της Επίδοσης"
   ]
  },
  {
   "cell_type": "markdown",
   "metadata": {},
   "source": [
    "### Βελτιστοποίηση του MLP"
   ]
  },
  {
   "cell_type": "markdown",
   "metadata": {},
   "source": [
    "**Προεπεξεργασία**"
   ]
  },
  {
   "cell_type": "markdown",
   "metadata": {},
   "source": [
    "Αρχικά, όπως ελέγξαμε παραπάνω δεν υπάρχουν στήλες με ελλιπή δεδομένα που να χρειάζεται να φροντίσουμε. Επίσης όλες οι στήλες περιέχουν αριθμητικά διατεταγμένα δεδομένα, συνεπώς δεν χρειάζεται μετατροπή σε κατηγορικά."
   ]
  },
  {
   "cell_type": "markdown",
   "metadata": {},
   "source": [
    "Τυπώνουμε την μικρότερη και την μεγαλύτερη τιμή στο train set:"
   ]
  },
  {
   "cell_type": "code",
   "execution_count": 35,
   "metadata": {
    "execution": {
     "iopub.execute_input": "2022-11-30T09:48:23.357096Z",
     "iopub.status.busy": "2022-11-30T09:48:23.356681Z",
     "iopub.status.idle": "2022-11-30T09:48:23.364425Z",
     "shell.execute_reply": "2022-11-30T09:48:23.363145Z",
     "shell.execute_reply.started": "2022-11-30T09:48:23.357066Z"
    }
   },
   "outputs": [
    {
     "name": "stdout",
     "output_type": "stream",
     "text": [
      "0.0 10000000000.0\n"
     ]
    }
   ],
   "source": [
    "print(np.min(train), np.max(train))"
   ]
  },
  {
   "cell_type": "markdown",
   "metadata": {},
   "source": [
    "Όπως φαίνεται από την έξοδο του παραπάνω κελιού υπάρχει πολύ μεγάλο εύρος αριθμητικών τιμών για τα χαρακτηριστικά στο Dataset. Για να περιορίσουμε αυτό το πρόβλημα σίγουρα θα πραγματοποιήσουμε Scaling."
   ]
  },
  {
   "cell_type": "markdown",
   "metadata": {},
   "source": [
    "Υπολογίζουμε τις διασπορές των διαφόρων χαρακτηριστικών και και ελέγχουμε σε τι περιοχές τιμών κυμαίνονται:"
   ]
  },
  {
   "cell_type": "code",
   "execution_count": 36,
   "metadata": {
    "execution": {
     "iopub.execute_input": "2022-11-30T09:48:24.945618Z",
     "iopub.status.busy": "2022-11-30T09:48:24.945038Z",
     "iopub.status.idle": "2022-11-30T09:48:24.961819Z",
     "shell.execute_reply": "2022-11-30T09:48:24.960238Z",
     "shell.execute_reply.started": "2022-11-30T09:48:24.945564Z"
    }
   },
   "outputs": [
    {
     "name": "stdout",
     "output_type": "stream",
     "text": [
      "76.842% of variances <= 0.1\n",
      "70.526% of variances <= 0.01\n",
      "51.579% of variances <= 0.001\n",
      "10.526% of variances <= 0.0001\n"
     ]
    }
   ],
   "source": [
    "variances = (np.var(train, axis=0))\n",
    "p1 = round(100*np.sum(variances<=0.1)/len(variances),3)\n",
    "print(f\"{p1}% of variances <= 0.1\")\n",
    "p2 = round(100*np.sum(variances<=0.01)/len(variances),3)\n",
    "print(f\"{p2}% of variances <= 0.01\")\n",
    "p3 = round(100*np.sum(variances<=0.001)/len(variances),3)\n",
    "print(f\"{p3}% of variances <= 0.001\")\n",
    "p4 = round(100*np.sum(variances<=0.0001)/len(variances),3)\n",
    "print(f\"{p4}% of variances <= 0.0001\")"
   ]
  },
  {
   "cell_type": "markdown",
   "metadata": {},
   "source": [
    "Φαίνεται ότι υπάρχει σημαντικό ποσοστό χαρακτηριστικών με _\"μικρές\"_ διασπορές, επομένως θα πειραματιστούμε με τεχνικές μείωσεις της διαστατικότητας. Επιπλέον όπως έχουμε ήδη αναφέρει, υπάρχει μεγάλη ανισορροπία ως προς τα ποσοστά εμφάνισης των δύο κλάσεων στο Dataset, επομένως θα είναι μάλλον βοηθητικό να πραγματοποιήσουμε oversampling."
   ]
  },
  {
   "cell_type": "markdown",
   "metadata": {},
   "source": [
    "**Ορισμός Pipeline**"
   ]
  },
  {
   "cell_type": "markdown",
   "metadata": {},
   "source": [
    "Δοκιμάζουμε δύο διαφορετικά Pipelines, ένα με Min-Max Scaler και ένα με Standard Scaler. Σε πρώτη φάση θα δοκιμάσουμε να εκπαιδεύσουμε τα Pipelines χρησιμοποιώντας MLP με default παραμέτρους, για να επιβεβαιώσουμε ότι οι ιδέες μας για την προεπεξεργασία κινούνται στην σωστή κατεύθυνση."
   ]
  },
  {
   "cell_type": "code",
   "execution_count": 37,
   "metadata": {
    "execution": {
     "iopub.execute_input": "2022-11-30T09:48:29.817657Z",
     "iopub.status.busy": "2022-11-30T09:48:29.816469Z",
     "iopub.status.idle": "2022-11-30T09:48:29.823794Z",
     "shell.execute_reply": "2022-11-30T09:48:29.822565Z",
     "shell.execute_reply.started": "2022-11-30T09:48:29.817610Z"
    }
   },
   "outputs": [],
   "source": [
    "\n",
    "from imblearn.pipeline import Pipeline\n",
    "from sklearn.feature_selection import VarianceThreshold\n",
    "from sklearn.preprocessing import StandardScaler \n",
    "from imblearn.over_sampling import RandomOverSampler\n",
    "from imblearn.under_sampling import RandomUnderSampler\n",
    "from sklearn.decomposition import PCA\n",
    "from sklearn.metrics import confusion_matrix\n",
    "from sklearn.model_selection import cross_val_score\n",
    "from sklearn import preprocessing\n"
   ]
  },
  {
   "cell_type": "code",
   "execution_count": 38,
   "metadata": {
    "execution": {
     "iopub.execute_input": "2022-11-30T09:48:30.229655Z",
     "iopub.status.busy": "2022-11-30T09:48:30.228446Z",
     "iopub.status.idle": "2022-11-30T09:48:30.234439Z",
     "shell.execute_reply": "2022-11-30T09:48:30.233282Z",
     "shell.execute_reply.started": "2022-11-30T09:48:30.229609Z"
    }
   },
   "outputs": [],
   "source": [
    "# max_var = np.max(variances)\n",
    "# print(max_var)\n",
    "# min_var = np.min(variances)\n",
    "# print(min_var)"
   ]
  },
  {
   "cell_type": "markdown",
   "metadata": {},
   "source": [
    "Ορίζουμε το Pipeline με MinMaxScaler:"
   ]
  },
  {
   "cell_type": "code",
   "execution_count": 39,
   "metadata": {
    "execution": {
     "iopub.execute_input": "2022-11-30T09:48:31.025213Z",
     "iopub.status.busy": "2022-11-30T09:48:31.024815Z",
     "iopub.status.idle": "2022-11-30T09:48:31.033661Z",
     "shell.execute_reply": "2022-11-30T09:48:31.032150Z",
     "shell.execute_reply.started": "2022-11-30T09:48:31.025183Z"
    }
   },
   "outputs": [],
   "source": [
    "# min max scaler\n",
    "import sklearn\n",
    "min_max_scaler = preprocessing.MinMaxScaler()\n",
    "selector = VarianceThreshold(threshold=0.0001)\n",
    "ros = RandomOverSampler()\n",
    "pca = PCA(n_components=40)\n",
    "clf = MLPClassifier(\n",
    "                    hidden_layer_sizes=(100,100,10,),\n",
    "                    activation='relu',\n",
    "                    solver='adam',\n",
    "                    learning_rate='adaptive',\n",
    "                    max_iter=800\n",
    "                   )\n",
    "pipe1 = Pipeline(steps=[('scaler', min_max_scaler),\n",
    "                       ('selector', selector),\n",
    "                       ('sampler', ros),\n",
    "                       ('pca', pca),\n",
    "                       ('mlp', clf)\n",
    "                      ])\n",
    "\n",
    "# score = cross_val_score(pipe, train_min_max, train_labels, cv=10, scoring='f1')\n",
    "# mean_score = score.mean()\n",
    "# print(mean_score)"
   ]
  },
  {
   "cell_type": "markdown",
   "metadata": {},
   "source": [
    "Ορίζουμε το Pipeline με StandardScaler:"
   ]
  },
  {
   "cell_type": "code",
   "execution_count": 41,
   "metadata": {
    "execution": {
     "iopub.execute_input": "2022-11-30T09:48:50.989148Z",
     "iopub.status.busy": "2022-11-30T09:48:50.988023Z",
     "iopub.status.idle": "2022-11-30T09:48:50.999534Z",
     "shell.execute_reply": "2022-11-30T09:48:50.997913Z",
     "shell.execute_reply.started": "2022-11-30T09:48:50.989103Z"
    }
   },
   "outputs": [],
   "source": [
    "# Standard Scaler\n",
    "import sklearn\n",
    "\n",
    "selector = VarianceThreshold(threshold=0.001)\n",
    "scaler = StandardScaler()\n",
    "ros = RandomOverSampler()\n",
    "pca = PCA(n_components=40)\n",
    "clf = MLPClassifier(\n",
    "                    hidden_layer_sizes=(20,100,10,),\n",
    "                    activation='relu',\n",
    "                    solver='adam',\n",
    "                    learning_rate='adaptive',\n",
    "                    max_iter=800\n",
    "                   )\n",
    "pipe2 = Pipeline(steps=[('selector', selector),\n",
    "                       ('scaler', scaler),\n",
    "                       ('sampler', ros),\n",
    "                       ('pca', pca),\n",
    "                       ('mlp', clf)\n",
    "                      ])\n",
    "\n",
    "# score = cross_val_score(pipe, train_min_max, train_labels, cv=10, scoring='f1')\n",
    "# mean_score = score.mean()\n",
    "# print(mean_score)"
   ]
  },
  {
   "cell_type": "markdown",
   "metadata": {},
   "source": [
    "Εκπαιδέυουμε τα δύο Pipelines στο σύνολο του Train Set και τα τεστάρουμε στο σύνολο του Test Set:"
   ]
  },
  {
   "cell_type": "code",
   "execution_count": 42,
   "metadata": {
    "execution": {
     "iopub.execute_input": "2022-11-30T09:48:54.680950Z",
     "iopub.status.busy": "2022-11-30T09:48:54.680506Z",
     "iopub.status.idle": "2022-11-30T09:49:18.272027Z",
     "shell.execute_reply": "2022-11-30T09:49:18.270394Z",
     "shell.execute_reply.started": "2022-11-30T09:48:54.680910Z"
    }
   },
   "outputs": [],
   "source": [
    "f2_scores = dict()\n",
    "\n",
    "clfs = [\n",
    "         (pipe1, 'pipeMinMax - mlp'),\n",
    "         (pipe2, 'pipeStandard - mlp')\n",
    "        ]\n",
    "\n",
    "for (clf, name) in clfs:\n",
    "    #train\n",
    "    model = clf.fit(train, train_labels)\n",
    "    # predict for test data\n",
    "    preds = clf.predict(test)\n",
    "    # calc f2-scores\n",
    "    f2_scores[name] = fbeta_score(test_labels, preds, beta=2)\n",
    "#     f1_scores[name] = sklearn.metrics.f1_score(test_labels, preds)"
   ]
  },
  {
   "cell_type": "markdown",
   "metadata": {},
   "source": [
    "Τυπώνουμε τα αποτελέσματα σε πίνακα, μαζί με τα αποτελέσματα του καλύτερου Dummy και του MLP-ootb, για λόγους σύγκρισης"
   ]
  },
  {
   "cell_type": "code",
   "execution_count": 31,
   "metadata": {
    "execution": {
     "iopub.execute_input": "2022-12-05T10:44:12.451187Z",
     "iopub.status.busy": "2022-12-05T10:44:12.450643Z",
     "iopub.status.idle": "2022-12-05T10:44:12.457282Z",
     "shell.execute_reply": "2022-12-05T10:44:12.455896Z",
     "shell.execute_reply.started": "2022-12-05T10:44:12.451130Z"
    }
   },
   "outputs": [],
   "source": [
    "# # display results\n",
    "# from IPython.display import display, Markdown, Latex\n",
    "\n",
    "# disp = \"\"\"\n",
    "# | Classifier | F2-score |\n",
    "# | :-: | :-: |\n",
    "# \"\"\"\n",
    "\n",
    "# disp += \"| dc constant 1 |\"+str(f2_scores_ootb['dc constant 1'])+\"|\\n\"\n",
    "# disp += \"| mlp ootb |\"+str(f2_scores_ootb['mlp'])+\"|\\n\"\n",
    "\n",
    "# for name in f2_scores.keys():\n",
    "#     disp += \"|\"+name+\"|\"+str(f2_scores[name])+\"|\\n\"\n",
    "\n",
    "# display(Markdown(disp))"
   ]
  },
  {
   "cell_type": "markdown",
   "metadata": {},
   "source": [
    "|     Classifier     |       F2-score      |\n",
    "|:------------------:|:-------------------:|\n",
    "|    dc constant 1   | 0.14353126228863547 |\n",
    "|      mlp ootb      | 0.07552870090634439 |\n",
    "|  pipeMinMax - mlp  |  0.2714285714285714 |\n",
    "| pipeStandard - mlp | 0.35135135135135137 |"
   ]
  },
  {
   "cell_type": "markdown",
   "metadata": {},
   "source": [
    "Παρατηρούμε ότι και τα δύο Pipes που δοκιμάσαμε βελτιώνουν κατά μία τάξη μεγέθους την επίδοση σε σχέση με τον ootb mlp, ενώ πετυχαίνουν καλύτερη επίδοση από όλους τους ootb classifiers. Συνεπώς οι τεχνικές προεπεξεργασίας που προκρίναμε κινούνται γενικώς στην σωστή κατεύθυνση. Παρακάτω επιχειρούμε να βελτιστοποιήσουμε τις υπερπαραμέτρους των Pipes για να βελτιώσουμε ακόμα περισσότερο την επίδοση."
   ]
  },
  {
   "cell_type": "markdown",
   "metadata": {},
   "source": [
    "**Βελτιστοποίηση Υπερπαραμέτρων**"
   ]
  },
  {
   "cell_type": "markdown",
   "metadata": {},
   "source": [
    "Επιχειρούμε να βελτιστοποιήσουμε τις παραμέτρους με χρήση της Βιβλιοθήκης `Optuna`"
   ]
  },
  {
   "cell_type": "code",
   "execution_count": 36,
   "metadata": {
    "execution": {
     "iopub.execute_input": "2022-11-22T17:56:55.958860Z",
     "iopub.status.busy": "2022-11-22T17:56:55.957578Z",
     "iopub.status.idle": "2022-11-22T17:56:55.964933Z",
     "shell.execute_reply": "2022-11-22T17:56:55.963527Z",
     "shell.execute_reply.started": "2022-11-22T17:56:55.958795Z"
    }
   },
   "outputs": [],
   "source": [
    "# !pip install optuna"
   ]
  },
  {
   "cell_type": "markdown",
   "metadata": {},
   "source": [
    "Αρχικά χρησιμοποιήσαμε το παρακάτω (γενικό) Objective για να εντοπίσουμε καποιες περιοχές υπερπαραμέτρων στις οποίες βελτιώνεται η επίδοση. Το objective αυτό πειραματίζεται με πολλές διαφορετικές παραμέτρους του pipe και με μεγάλα έυρη τιμών. Συγκεκριμένα, οι τιμές για τις οποίες κάνει δοκιμές είναι:\n",
    "* Ως προς τον **Scaler** δοκιμάζει MinMaxScaler ή StandardScaler\n",
    "* Ως προς το **Variance Threshold** δοκιμάζει κατόφλια από το 0 έως το $10^{-3}$ με βήμα $10^{-4}$\n",
    "* Ως προς το **Dimension Reduction** δοκιμάζει είτε PCA είτε την πλήρη απουσία τέτοιου Αλγορίθμου. Για το PCA δομικάζει από 25 εως 50 κύριες συνιστώσες\n",
    "* Για τις παραμέτρους του **Multilayer Perceptron** δοκιμάζει από 1 εώς 7 κρυφά layers. Σε κάθε layer το πλήθος των Νευρώνων μπορεί να είναι από 10 έως 100. Επίσης για το Activation δίνουμε τις επιλογές _tanh_ ή _relu_ και για τον Solver, _sgd_ ή _adam_."
   ]
  },
  {
   "cell_type": "code",
   "execution_count": 38,
   "metadata": {
    "execution": {
     "iopub.execute_input": "2022-11-22T17:58:09.946612Z",
     "iopub.status.busy": "2022-11-22T17:58:09.946144Z",
     "iopub.status.idle": "2022-11-23T00:05:02.076753Z",
     "shell.execute_reply": "2022-11-23T00:05:02.075632Z",
     "shell.execute_reply.started": "2022-11-22T17:58:09.946578Z"
    }
   },
   "outputs": [
    {
     "name": "stderr",
     "output_type": "stream",
     "text": [
      "\u001b[32m[I 2022-11-22 17:58:09,960]\u001b[0m A new study created in memory with name: no-name-7dec47a1-b2d2-49ae-954a-ca3e93bfe23f\u001b[0m\n",
      "/opt/conda/lib/python3.7/site-packages/sklearn/neural_network/_multilayer_perceptron.py:696: ConvergenceWarning: Stochastic Optimizer: Maximum iterations (1200) reached and the optimization hasn't converged yet.\n",
      "  ConvergenceWarning,\n",
      "/opt/conda/lib/python3.7/site-packages/sklearn/neural_network/_multilayer_perceptron.py:696: ConvergenceWarning: Stochastic Optimizer: Maximum iterations (1200) reached and the optimization hasn't converged yet.\n",
      "  ConvergenceWarning,\n",
      "\u001b[32m[I 2022-11-22 18:01:46,373]\u001b[0m Trial 0 finished with value: 0.44958675309984797 and parameters: {'scaler': 'min_max', 'is_var_thres': None, 'dim_red': None, 'n_layers': 2, 'n_units_0': 66, 'n_units_1': 39, 'activation': 'tanh', 'solver': 'sgd'}. Best is trial 0 with value: 0.44958675309984797.\u001b[0m\n",
      "\u001b[32m[I 2022-11-22 18:04:04,425]\u001b[0m Trial 1 finished with value: 0.4081110575841344 and parameters: {'scaler': 'min_max', 'is_var_thres': None, 'dim_red': None, 'n_layers': 2, 'n_units_0': 21, 'n_units_1': 54, 'activation': 'tanh', 'solver': 'adam'}. Best is trial 0 with value: 0.44958675309984797.\u001b[0m\n",
      "\u001b[32m[I 2022-11-22 18:04:28,643]\u001b[0m Trial 2 finished with value: 0.3105225538315032 and parameters: {'scaler': 'standard', 'is_var_thres': 'var_thres', 'vthreshold': 0.0001, 'dim_red': 'PCA', 'pca_n_components': 30, 'n_layers': 5, 'n_units_0': 61, 'n_units_1': 11, 'n_units_2': 92, 'n_units_3': 39, 'n_units_4': 83, 'activation': 'relu', 'solver': 'adam'}. Best is trial 0 with value: 0.44958675309984797.\u001b[0m\n",
      "\u001b[32m[I 2022-11-22 18:06:32,257]\u001b[0m Trial 3 finished with value: 0.32386144458869764 and parameters: {'scaler': 'min_max', 'is_var_thres': None, 'dim_red': None, 'n_layers': 6, 'n_units_0': 100, 'n_units_1': 68, 'n_units_2': 76, 'n_units_3': 99, 'n_units_4': 25, 'n_units_5': 83, 'activation': 'tanh', 'solver': 'adam'}. Best is trial 0 with value: 0.44958675309984797.\u001b[0m\n",
      "\u001b[32m[I 2022-11-22 18:09:22,430]\u001b[0m Trial 4 finished with value: 0.3257864316531853 and parameters: {'scaler': 'standard', 'is_var_thres': None, 'dim_red': None, 'n_layers': 6, 'n_units_0': 96, 'n_units_1': 35, 'n_units_2': 74, 'n_units_3': 91, 'n_units_4': 86, 'n_units_5': 20, 'activation': 'tanh', 'solver': 'sgd'}. Best is trial 0 with value: 0.44958675309984797.\u001b[0m\n",
      "\u001b[32m[I 2022-11-22 18:11:12,298]\u001b[0m Trial 5 finished with value: 0.29410494149333305 and parameters: {'scaler': 'standard', 'is_var_thres': 'var_thres', 'vthreshold': 0.0008, 'dim_red': 'PCA', 'pca_n_components': 40, 'n_layers': 7, 'n_units_0': 80, 'n_units_1': 53, 'n_units_2': 38, 'n_units_3': 62, 'n_units_4': 13, 'n_units_5': 58, 'n_units_6': 90, 'activation': 'relu', 'solver': 'sgd'}. Best is trial 0 with value: 0.44958675309984797.\u001b[0m\n",
      "\u001b[32m[I 2022-11-22 18:14:00,325]\u001b[0m Trial 6 finished with value: 0.43389195792982405 and parameters: {'scaler': 'standard', 'is_var_thres': 'var_thres', 'vthreshold': 0.0008, 'dim_red': 'PCA', 'pca_n_components': 50, 'n_layers': 2, 'n_units_0': 69, 'n_units_1': 14, 'activation': 'tanh', 'solver': 'sgd'}. Best is trial 0 with value: 0.44958675309984797.\u001b[0m\n",
      "\u001b[32m[I 2022-11-22 18:15:34,682]\u001b[0m Trial 7 finished with value: 0.46282351774872676 and parameters: {'scaler': 'min_max', 'is_var_thres': 'var_thres', 'vthreshold': 0.0007, 'dim_red': None, 'n_layers': 1, 'n_units_0': 56, 'activation': 'tanh', 'solver': 'sgd'}. Best is trial 7 with value: 0.46282351774872676.\u001b[0m\n",
      "\u001b[32m[I 2022-11-22 18:17:54,807]\u001b[0m Trial 8 finished with value: 0.2917097884237749 and parameters: {'scaler': 'standard', 'is_var_thres': None, 'dim_red': 'PCA', 'pca_n_components': 50, 'n_layers': 4, 'n_units_0': 18, 'n_units_1': 31, 'n_units_2': 63, 'n_units_3': 93, 'activation': 'relu', 'solver': 'sgd'}. Best is trial 7 with value: 0.46282351774872676.\u001b[0m\n",
      "\u001b[32m[I 2022-11-22 18:20:06,489]\u001b[0m Trial 9 finished with value: 0.29801585357308913 and parameters: {'scaler': 'min_max', 'is_var_thres': 'var_thres', 'vthreshold': 0.0001, 'dim_red': None, 'n_layers': 3, 'n_units_0': 97, 'n_units_1': 27, 'n_units_2': 77, 'activation': 'tanh', 'solver': 'adam'}. Best is trial 7 with value: 0.46282351774872676.\u001b[0m\n",
      "\u001b[32m[I 2022-11-22 18:21:28,888]\u001b[0m Trial 10 finished with value: 0.46837991163722126 and parameters: {'scaler': 'min_max', 'is_var_thres': 'var_thres', 'vthreshold': 0.0005, 'dim_red': None, 'n_layers': 1, 'n_units_0': 40, 'activation': 'tanh', 'solver': 'sgd'}. Best is trial 10 with value: 0.46837991163722126.\u001b[0m\n",
      "\u001b[32m[I 2022-11-22 18:22:46,019]\u001b[0m Trial 11 finished with value: 0.46680703296031834 and parameters: {'scaler': 'min_max', 'is_var_thres': 'var_thres', 'vthreshold': 0.0005, 'dim_red': None, 'n_layers': 1, 'n_units_0': 39, 'activation': 'tanh', 'solver': 'sgd'}. Best is trial 10 with value: 0.46837991163722126.\u001b[0m\n",
      "\u001b[32m[I 2022-11-22 18:24:02,231]\u001b[0m Trial 12 finished with value: 0.4690528859900973 and parameters: {'scaler': 'min_max', 'is_var_thres': 'var_thres', 'vthreshold': 0.0005, 'dim_red': None, 'n_layers': 1, 'n_units_0': 38, 'activation': 'tanh', 'solver': 'sgd'}. Best is trial 12 with value: 0.4690528859900973.\u001b[0m\n",
      "\u001b[32m[I 2022-11-22 18:25:25,525]\u001b[0m Trial 13 finished with value: 0.47052466710394825 and parameters: {'scaler': 'min_max', 'is_var_thres': 'var_thres', 'vthreshold': 0.0004, 'dim_red': None, 'n_layers': 1, 'n_units_0': 39, 'activation': 'tanh', 'solver': 'sgd'}. Best is trial 13 with value: 0.47052466710394825.\u001b[0m\n",
      "\u001b[32m[I 2022-11-22 18:28:36,968]\u001b[0m Trial 14 finished with value: 0.44592562519441836 and parameters: {'scaler': 'min_max', 'is_var_thres': 'var_thres', 'vthreshold': 0.00030000000000000003, 'dim_red': None, 'n_layers': 3, 'n_units_0': 40, 'n_units_1': 100, 'n_units_2': 13, 'activation': 'relu', 'solver': 'sgd'}. Best is trial 13 with value: 0.47052466710394825.\u001b[0m\n",
      "\u001b[32m[I 2022-11-22 18:33:18,013]\u001b[0m Trial 15 finished with value: 0.4484927991767605 and parameters: {'scaler': 'min_max', 'is_var_thres': 'var_thres', 'vthreshold': 0.00030000000000000003, 'dim_red': None, 'n_layers': 3, 'n_units_0': 29, 'n_units_1': 100, 'n_units_2': 36, 'activation': 'tanh', 'solver': 'sgd'}. Best is trial 13 with value: 0.47052466710394825.\u001b[0m\n",
      "\u001b[32m[I 2022-11-22 18:34:41,358]\u001b[0m Trial 16 finished with value: 0.464705892215857 and parameters: {'scaler': 'min_max', 'is_var_thres': 'var_thres', 'vthreshold': 0.001, 'dim_red': None, 'n_layers': 1, 'n_units_0': 47, 'activation': 'tanh', 'solver': 'sgd'}. Best is trial 13 with value: 0.47052466710394825.\u001b[0m\n",
      "\u001b[32m[I 2022-11-22 18:39:02,073]\u001b[0m Trial 17 finished with value: 0.4415718563996124 and parameters: {'scaler': 'min_max', 'is_var_thres': 'var_thres', 'vthreshold': 0.0004, 'dim_red': None, 'n_layers': 4, 'n_units_0': 26, 'n_units_1': 76, 'n_units_2': 98, 'n_units_3': 17, 'activation': 'tanh', 'solver': 'sgd'}. Best is trial 13 with value: 0.47052466710394825.\u001b[0m\n",
      "\u001b[32m[I 2022-11-22 18:39:34,367]\u001b[0m Trial 18 finished with value: 0.3102838874134488 and parameters: {'scaler': 'min_max', 'is_var_thres': 'var_thres', 'vthreshold': 0.0006000000000000001, 'dim_red': 'PCA', 'pca_n_components': 25, 'n_layers': 2, 'n_units_0': 50, 'n_units_1': 78, 'activation': 'relu', 'solver': 'adam'}. Best is trial 13 with value: 0.47052466710394825.\u001b[0m\n",
      "\u001b[32m[I 2022-11-22 18:43:10,027]\u001b[0m Trial 19 finished with value: 0.45260244468779154 and parameters: {'scaler': 'min_max', 'is_var_thres': 'var_thres', 'vthreshold': 0.00030000000000000003, 'dim_red': None, 'n_layers': 3, 'n_units_0': 11, 'n_units_1': 90, 'n_units_2': 16, 'activation': 'tanh', 'solver': 'sgd'}. Best is trial 13 with value: 0.47052466710394825.\u001b[0m\n",
      "\u001b[32m[I 2022-11-22 18:44:22,108]\u001b[0m Trial 20 finished with value: 0.47467200012862987 and parameters: {'scaler': 'min_max', 'is_var_thres': 'var_thres', 'vthreshold': 0.0, 'dim_red': None, 'n_layers': 1, 'n_units_0': 35, 'activation': 'tanh', 'solver': 'sgd'}. Best is trial 20 with value: 0.47467200012862987.\u001b[0m\n",
      "\u001b[32m[I 2022-11-22 18:45:37,056]\u001b[0m Trial 21 finished with value: 0.48213313118021306 and parameters: {'scaler': 'min_max', 'is_var_thres': 'var_thres', 'vthreshold': 0.0, 'dim_red': None, 'n_layers': 1, 'n_units_0': 33, 'activation': 'tanh', 'solver': 'sgd'}. Best is trial 21 with value: 0.48213313118021306.\u001b[0m\n",
      "/opt/conda/lib/python3.7/site-packages/sklearn/neural_network/_multilayer_perceptron.py:696: ConvergenceWarning: Stochastic Optimizer: Maximum iterations (1200) reached and the optimization hasn't converged yet.\n",
      "  ConvergenceWarning,\n",
      "/opt/conda/lib/python3.7/site-packages/sklearn/neural_network/_multilayer_perceptron.py:696: ConvergenceWarning: Stochastic Optimizer: Maximum iterations (1200) reached and the optimization hasn't converged yet.\n",
      "  ConvergenceWarning,\n",
      "\u001b[32m[I 2022-11-22 18:49:10,216]\u001b[0m Trial 22 finished with value: 0.46338072534280705 and parameters: {'scaler': 'min_max', 'is_var_thres': 'var_thres', 'vthreshold': 0.0, 'dim_red': None, 'n_layers': 2, 'n_units_0': 28, 'n_units_1': 63, 'activation': 'tanh', 'solver': 'sgd'}. Best is trial 21 with value: 0.48213313118021306.\u001b[0m\n",
      "\u001b[32m[I 2022-11-22 18:50:19,956]\u001b[0m Trial 23 finished with value: 0.4758110185697313 and parameters: {'scaler': 'min_max', 'is_var_thres': 'var_thres', 'vthreshold': 0.0, 'dim_red': None, 'n_layers': 1, 'n_units_0': 33, 'activation': 'tanh', 'solver': 'sgd'}. Best is trial 21 with value: 0.48213313118021306.\u001b[0m\n",
      "/opt/conda/lib/python3.7/site-packages/sklearn/neural_network/_multilayer_perceptron.py:696: ConvergenceWarning: Stochastic Optimizer: Maximum iterations (1200) reached and the optimization hasn't converged yet.\n",
      "  ConvergenceWarning,\n",
      "/opt/conda/lib/python3.7/site-packages/sklearn/neural_network/_multilayer_perceptron.py:696: ConvergenceWarning: Stochastic Optimizer: Maximum iterations (1200) reached and the optimization hasn't converged yet.\n",
      "  ConvergenceWarning,\n",
      "/opt/conda/lib/python3.7/site-packages/sklearn/neural_network/_multilayer_perceptron.py:696: ConvergenceWarning: Stochastic Optimizer: Maximum iterations (1200) reached and the optimization hasn't converged yet.\n",
      "  ConvergenceWarning,\n",
      "/opt/conda/lib/python3.7/site-packages/sklearn/neural_network/_multilayer_perceptron.py:696: ConvergenceWarning: Stochastic Optimizer: Maximum iterations (1200) reached and the optimization hasn't converged yet.\n",
      "  ConvergenceWarning,\n",
      "\u001b[32m[I 2022-11-22 18:54:00,704]\u001b[0m Trial 24 finished with value: 0.45086394793794515 and parameters: {'scaler': 'min_max', 'is_var_thres': 'var_thres', 'vthreshold': 0.0, 'dim_red': None, 'n_layers': 2, 'n_units_0': 32, 'n_units_1': 45, 'activation': 'tanh', 'solver': 'sgd'}. Best is trial 21 with value: 0.48213313118021306.\u001b[0m\n",
      "\u001b[32m[I 2022-11-22 18:54:54,766]\u001b[0m Trial 25 finished with value: 0.4682634844544992 and parameters: {'scaler': 'min_max', 'is_var_thres': 'var_thres', 'vthreshold': 0.0001, 'dim_red': None, 'n_layers': 1, 'n_units_0': 12, 'activation': 'tanh', 'solver': 'sgd'}. Best is trial 21 with value: 0.48213313118021306.\u001b[0m\n",
      "\u001b[32m[I 2022-11-22 18:55:10,305]\u001b[0m Trial 26 finished with value: 0.3075539554280587 and parameters: {'scaler': 'standard', 'is_var_thres': None, 'dim_red': 'PCA', 'pca_n_components': 40, 'n_layers': 2, 'n_units_0': 48, 'n_units_1': 20, 'activation': 'relu', 'solver': 'adam'}. Best is trial 21 with value: 0.48213313118021306.\u001b[0m\n",
      "\u001b[32m[I 2022-11-22 18:59:23,624]\u001b[0m Trial 27 finished with value: 0.46790686673361515 and parameters: {'scaler': 'min_max', 'is_var_thres': 'var_thres', 'vthreshold': 0.0002, 'dim_red': None, 'n_layers': 3, 'n_units_0': 20, 'n_units_1': 86, 'n_units_2': 43, 'activation': 'tanh', 'solver': 'sgd'}. Best is trial 21 with value: 0.48213313118021306.\u001b[0m\n",
      "\u001b[32m[I 2022-11-22 19:01:54,741]\u001b[0m Trial 28 finished with value: 0.45833459937796406 and parameters: {'scaler': 'min_max', 'is_var_thres': 'var_thres', 'vthreshold': 0.0, 'dim_red': None, 'n_layers': 5, 'n_units_0': 35, 'n_units_1': 63, 'n_units_2': 55, 'n_units_3': 10, 'n_units_4': 47, 'activation': 'tanh', 'solver': 'sgd'}. Best is trial 21 with value: 0.48213313118021306.\u001b[0m\n",
      "/opt/conda/lib/python3.7/site-packages/sklearn/neural_network/_multilayer_perceptron.py:696: ConvergenceWarning: Stochastic Optimizer: Maximum iterations (1200) reached and the optimization hasn't converged yet.\n",
      "  ConvergenceWarning,\n",
      "/opt/conda/lib/python3.7/site-packages/sklearn/neural_network/_multilayer_perceptron.py:696: ConvergenceWarning: Stochastic Optimizer: Maximum iterations (1200) reached and the optimization hasn't converged yet.\n",
      "  ConvergenceWarning,\n",
      "\u001b[32m[I 2022-11-22 19:05:35,472]\u001b[0m Trial 29 finished with value: 0.45202495094993045 and parameters: {'scaler': 'min_max', 'is_var_thres': None, 'dim_red': None, 'n_layers': 2, 'n_units_0': 66, 'n_units_1': 43, 'activation': 'tanh', 'solver': 'sgd'}. Best is trial 21 with value: 0.48213313118021306.\u001b[0m\n",
      "\u001b[32m[I 2022-11-22 19:06:37,392]\u001b[0m Trial 30 finished with value: 0.47285558696593916 and parameters: {'scaler': 'min_max', 'is_var_thres': 'var_thres', 'vthreshold': 0.0002, 'dim_red': None, 'n_layers': 1, 'n_units_0': 23, 'activation': 'tanh', 'solver': 'sgd'}. Best is trial 21 with value: 0.48213313118021306.\u001b[0m\n",
      "\u001b[32m[I 2022-11-22 19:07:38,982]\u001b[0m Trial 31 finished with value: 0.4679848345395393 and parameters: {'scaler': 'min_max', 'is_var_thres': 'var_thres', 'vthreshold': 0.0001, 'dim_red': None, 'n_layers': 1, 'n_units_0': 20, 'activation': 'tanh', 'solver': 'sgd'}. Best is trial 21 with value: 0.48213313118021306.\u001b[0m\n",
      "\u001b[32m[I 2022-11-22 19:08:40,787]\u001b[0m Trial 32 finished with value: 0.4734067613536717 and parameters: {'scaler': 'min_max', 'is_var_thres': 'var_thres', 'vthreshold': 0.0002, 'dim_red': None, 'n_layers': 1, 'n_units_0': 24, 'activation': 'tanh', 'solver': 'sgd'}. Best is trial 21 with value: 0.48213313118021306.\u001b[0m\n",
      "/opt/conda/lib/python3.7/site-packages/sklearn/neural_network/_multilayer_perceptron.py:696: ConvergenceWarning: Stochastic Optimizer: Maximum iterations (1200) reached and the optimization hasn't converged yet.\n",
      "  ConvergenceWarning,\n",
      "\u001b[32m[I 2022-11-22 19:11:19,832]\u001b[0m Trial 33 finished with value: 0.45127163929963043 and parameters: {'scaler': 'min_max', 'is_var_thres': 'var_thres', 'vthreshold': 0.0, 'dim_red': None, 'n_layers': 2, 'n_units_0': 32, 'n_units_1': 22, 'activation': 'tanh', 'solver': 'sgd'}. Best is trial 21 with value: 0.48213313118021306.\u001b[0m\n",
      "/opt/conda/lib/python3.7/site-packages/sklearn/neural_network/_multilayer_perceptron.py:696: ConvergenceWarning: Stochastic Optimizer: Maximum iterations (1200) reached and the optimization hasn't converged yet.\n",
      "  ConvergenceWarning,\n",
      "\u001b[32m[I 2022-11-22 19:14:11,586]\u001b[0m Trial 34 finished with value: 0.3740504488540336 and parameters: {'scaler': 'min_max', 'is_var_thres': None, 'dim_red': None, 'n_layers': 1, 'n_units_0': 45, 'activation': 'tanh', 'solver': 'adam'}. Best is trial 21 with value: 0.48213313118021306.\u001b[0m\n",
      "\u001b[32m[I 2022-11-22 19:15:05,903]\u001b[0m Trial 35 finished with value: 0.4795390200802639 and parameters: {'scaler': 'min_max', 'is_var_thres': 'var_thres', 'vthreshold': 0.0002, 'dim_red': None, 'n_layers': 1, 'n_units_0': 15, 'activation': 'tanh', 'solver': 'sgd'}. Best is trial 21 with value: 0.48213313118021306.\u001b[0m\n",
      "\u001b[32m[I 2022-11-22 19:15:35,400]\u001b[0m Trial 36 finished with value: 0.26546993094792076 and parameters: {'scaler': 'standard', 'is_var_thres': 'var_thres', 'vthreshold': 0.0, 'dim_red': 'PCA', 'pca_n_components': 35, 'n_layers': 2, 'n_units_0': 15, 'n_units_1': 48, 'activation': 'relu', 'solver': 'adam'}. Best is trial 21 with value: 0.48213313118021306.\u001b[0m\n",
      "\u001b[32m[I 2022-11-22 19:17:59,109]\u001b[0m Trial 37 finished with value: 0.44899970963171915 and parameters: {'scaler': 'min_max', 'is_var_thres': None, 'dim_red': None, 'n_layers': 7, 'n_units_0': 55, 'n_units_1': 86, 'n_units_2': 25, 'n_units_3': 65, 'n_units_4': 57, 'n_units_5': 15, 'n_units_6': 19, 'activation': 'tanh', 'solver': 'sgd'}. Best is trial 21 with value: 0.48213313118021306.\u001b[0m\n",
      "\u001b[32m[I 2022-11-22 19:20:47,348]\u001b[0m Trial 38 finished with value: 0.33495998074389477 and parameters: {'scaler': 'standard', 'is_var_thres': 'var_thres', 'vthreshold': 0.0001, 'dim_red': None, 'n_layers': 5, 'n_units_0': 80, 'n_units_1': 72, 'n_units_2': 54, 'n_units_3': 39, 'n_units_4': 58, 'activation': 'tanh', 'solver': 'sgd'}. Best is trial 21 with value: 0.48213313118021306.\u001b[0m\n",
      "/opt/conda/lib/python3.7/site-packages/sklearn/neural_network/_multilayer_perceptron.py:696: ConvergenceWarning: Stochastic Optimizer: Maximum iterations (1200) reached and the optimization hasn't converged yet.\n",
      "  ConvergenceWarning,\n",
      "/opt/conda/lib/python3.7/site-packages/sklearn/neural_network/_multilayer_perceptron.py:696: ConvergenceWarning: Stochastic Optimizer: Maximum iterations (1200) reached and the optimization hasn't converged yet.\n",
      "  ConvergenceWarning,\n",
      "\u001b[32m[I 2022-11-22 19:22:21,861]\u001b[0m Trial 39 finished with value: 0.4631880314875144 and parameters: {'scaler': 'min_max', 'is_var_thres': 'var_thres', 'vthreshold': 0.0002, 'dim_red': 'PCA', 'pca_n_components': 25, 'n_layers': 2, 'n_units_0': 15, 'n_units_1': 63, 'activation': 'tanh', 'solver': 'sgd'}. Best is trial 21 with value: 0.48213313118021306.\u001b[0m\n",
      "\u001b[32m[I 2022-11-22 19:22:45,636]\u001b[0m Trial 40 finished with value: 0.33330362064483615 and parameters: {'scaler': 'standard', 'is_var_thres': None, 'dim_red': None, 'n_layers': 1, 'n_units_0': 53, 'activation': 'relu', 'solver': 'adam'}. Best is trial 21 with value: 0.48213313118021306.\u001b[0m\n",
      "\u001b[32m[I 2022-11-22 19:23:49,699]\u001b[0m Trial 41 finished with value: 0.47046105392814186 and parameters: {'scaler': 'min_max', 'is_var_thres': 'var_thres', 'vthreshold': 0.0002, 'dim_red': None, 'n_layers': 1, 'n_units_0': 24, 'activation': 'tanh', 'solver': 'sgd'}. Best is trial 21 with value: 0.48213313118021306.\u001b[0m\n",
      "\u001b[32m[I 2022-11-22 19:24:59,072]\u001b[0m Trial 42 finished with value: 0.46306460741939615 and parameters: {'scaler': 'min_max', 'is_var_thres': 'var_thres', 'vthreshold': 0.0001, 'dim_red': None, 'n_layers': 1, 'n_units_0': 34, 'activation': 'tanh', 'solver': 'sgd'}. Best is trial 21 with value: 0.48213313118021306.\u001b[0m\n",
      "\u001b[32m[I 2022-11-22 19:28:49,247]\u001b[0m Trial 43 finished with value: 0.4336729934065742 and parameters: {'scaler': 'min_max', 'is_var_thres': 'var_thres', 'vthreshold': 0.0, 'dim_red': None, 'n_layers': 6, 'n_units_0': 29, 'n_units_1': 93, 'n_units_2': 90, 'n_units_3': 76, 'n_units_4': 100, 'n_units_5': 100, 'activation': 'tanh', 'solver': 'sgd'}. Best is trial 21 with value: 0.48213313118021306.\u001b[0m\n",
      "/opt/conda/lib/python3.7/site-packages/sklearn/neural_network/_multilayer_perceptron.py:696: ConvergenceWarning: Stochastic Optimizer: Maximum iterations (1200) reached and the optimization hasn't converged yet.\n",
      "  ConvergenceWarning,\n",
      "\u001b[32m[I 2022-11-22 19:31:24,121]\u001b[0m Trial 44 finished with value: 0.46208611576871295 and parameters: {'scaler': 'min_max', 'is_var_thres': 'var_thres', 'vthreshold': 0.0002, 'dim_red': None, 'n_layers': 2, 'n_units_0': 17, 'n_units_1': 36, 'activation': 'tanh', 'solver': 'sgd'}. Best is trial 21 with value: 0.48213313118021306.\u001b[0m\n",
      "\u001b[32m[I 2022-11-22 19:32:45,801]\u001b[0m Trial 45 finished with value: 0.4724887016495408 and parameters: {'scaler': 'min_max', 'is_var_thres': 'var_thres', 'vthreshold': 0.0001, 'dim_red': None, 'n_layers': 1, 'n_units_0': 44, 'activation': 'tanh', 'solver': 'sgd'}. Best is trial 21 with value: 0.48213313118021306.\u001b[0m\n",
      "\u001b[32m[I 2022-11-22 19:33:48,015]\u001b[0m Trial 46 finished with value: 0.4753937674572474 and parameters: {'scaler': 'min_max', 'is_var_thres': 'var_thres', 'vthreshold': 0.0, 'dim_red': None, 'n_layers': 1, 'n_units_0': 24, 'activation': 'tanh', 'solver': 'sgd'}. Best is trial 21 with value: 0.48213313118021306.\u001b[0m\n",
      "/opt/conda/lib/python3.7/site-packages/sklearn/neural_network/_multilayer_perceptron.py:696: ConvergenceWarning: Stochastic Optimizer: Maximum iterations (1200) reached and the optimization hasn't converged yet.\n",
      "  ConvergenceWarning,\n",
      "/opt/conda/lib/python3.7/site-packages/sklearn/neural_network/_multilayer_perceptron.py:696: ConvergenceWarning: Stochastic Optimizer: Maximum iterations (1200) reached and the optimization hasn't converged yet.\n",
      "  ConvergenceWarning,\n",
      "/opt/conda/lib/python3.7/site-packages/sklearn/neural_network/_multilayer_perceptron.py:696: ConvergenceWarning: Stochastic Optimizer: Maximum iterations (1200) reached and the optimization hasn't converged yet.\n",
      "  ConvergenceWarning,\n",
      "/opt/conda/lib/python3.7/site-packages/sklearn/neural_network/_multilayer_perceptron.py:696: ConvergenceWarning: Stochastic Optimizer: Maximum iterations (1200) reached and the optimization hasn't converged yet.\n",
      "  ConvergenceWarning,\n",
      "/opt/conda/lib/python3.7/site-packages/sklearn/neural_network/_multilayer_perceptron.py:696: ConvergenceWarning: Stochastic Optimizer: Maximum iterations (1200) reached and the optimization hasn't converged yet.\n",
      "  ConvergenceWarning,\n",
      "\u001b[32m[I 2022-11-22 19:37:25,190]\u001b[0m Trial 47 finished with value: 0.45153667083328874 and parameters: {'scaler': 'min_max', 'is_var_thres': 'var_thres', 'vthreshold': 0.0, 'dim_red': 'PCA', 'pca_n_components': 45, 'n_layers': 2, 'n_units_0': 36, 'n_units_1': 82, 'activation': 'tanh', 'solver': 'sgd'}. Best is trial 21 with value: 0.48213313118021306.\u001b[0m\n",
      "\u001b[32m[I 2022-11-22 19:38:53,080]\u001b[0m Trial 48 finished with value: 0.46686709375302077 and parameters: {'scaler': 'standard', 'is_var_thres': 'var_thres', 'vthreshold': 0.0001, 'dim_red': None, 'n_layers': 1, 'n_units_0': 10, 'activation': 'tanh', 'solver': 'sgd'}. Best is trial 21 with value: 0.48213313118021306.\u001b[0m\n",
      "\u001b[32m[I 2022-11-22 19:40:25,898]\u001b[0m Trial 49 finished with value: 0.44953365970844167 and parameters: {'scaler': 'min_max', 'is_var_thres': 'var_thres', 'vthreshold': 0.0, 'dim_red': None, 'n_layers': 4, 'n_units_0': 60, 'n_units_1': 56, 'n_units_2': 25, 'n_units_3': 41, 'activation': 'relu', 'solver': 'sgd'}. Best is trial 21 with value: 0.48213313118021306.\u001b[0m\n",
      "\u001b[32m[I 2022-11-22 19:41:34,558]\u001b[0m Trial 50 finished with value: 0.47744342377102306 and parameters: {'scaler': 'min_max', 'is_var_thres': 'var_thres', 'vthreshold': 0.0, 'dim_red': None, 'n_layers': 1, 'n_units_0': 28, 'activation': 'tanh', 'solver': 'sgd'}. Best is trial 21 with value: 0.48213313118021306.\u001b[0m\n",
      "\u001b[32m[I 2022-11-22 19:42:36,613]\u001b[0m Trial 51 finished with value: 0.48191475389855826 and parameters: {'scaler': 'min_max', 'is_var_thres': 'var_thres', 'vthreshold': 0.0, 'dim_red': None, 'n_layers': 1, 'n_units_0': 28, 'activation': 'tanh', 'solver': 'sgd'}. Best is trial 21 with value: 0.48213313118021306.\u001b[0m\n",
      "\u001b[32m[I 2022-11-22 19:43:42,021]\u001b[0m Trial 52 finished with value: 0.4658183883234696 and parameters: {'scaler': 'min_max', 'is_var_thres': 'var_thres', 'vthreshold': 0.0, 'dim_red': None, 'n_layers': 1, 'n_units_0': 28, 'activation': 'tanh', 'solver': 'sgd'}. Best is trial 21 with value: 0.48213313118021306.\u001b[0m\n",
      "\u001b[32m[I 2022-11-22 19:44:35,931]\u001b[0m Trial 53 finished with value: 0.4760974284848879 and parameters: {'scaler': 'min_max', 'is_var_thres': 'var_thres', 'vthreshold': 0.0001, 'dim_red': None, 'n_layers': 1, 'n_units_0': 20, 'activation': 'tanh', 'solver': 'sgd'}. Best is trial 21 with value: 0.48213313118021306.\u001b[0m\n",
      "\u001b[32m[I 2022-11-22 19:45:52,686]\u001b[0m Trial 54 finished with value: 0.47007914080541413 and parameters: {'scaler': 'min_max', 'is_var_thres': 'var_thres', 'vthreshold': 0.0001, 'dim_red': None, 'n_layers': 1, 'n_units_0': 42, 'activation': 'tanh', 'solver': 'sgd'}. Best is trial 21 with value: 0.48213313118021306.\u001b[0m\n",
      "\u001b[32m[I 2022-11-22 19:48:15,512]\u001b[0m Trial 55 finished with value: 0.44053492766431157 and parameters: {'scaler': 'min_max', 'is_var_thres': 'var_thres', 'vthreshold': 0.0001, 'dim_red': None, 'n_layers': 3, 'n_units_0': 18, 'n_units_1': 17, 'n_units_2': 66, 'activation': 'tanh', 'solver': 'sgd'}. Best is trial 21 with value: 0.48213313118021306.\u001b[0m\n",
      "/opt/conda/lib/python3.7/site-packages/sklearn/neural_network/_multilayer_perceptron.py:696: ConvergenceWarning: Stochastic Optimizer: Maximum iterations (1200) reached and the optimization hasn't converged yet.\n",
      "  ConvergenceWarning,\n",
      "/opt/conda/lib/python3.7/site-packages/sklearn/neural_network/_multilayer_perceptron.py:696: ConvergenceWarning: Stochastic Optimizer: Maximum iterations (1200) reached and the optimization hasn't converged yet.\n",
      "  ConvergenceWarning,\n",
      "/opt/conda/lib/python3.7/site-packages/sklearn/neural_network/_multilayer_perceptron.py:696: ConvergenceWarning: Stochastic Optimizer: Maximum iterations (1200) reached and the optimization hasn't converged yet.\n",
      "  ConvergenceWarning,\n",
      "/opt/conda/lib/python3.7/site-packages/sklearn/neural_network/_multilayer_perceptron.py:696: ConvergenceWarning: Stochastic Optimizer: Maximum iterations (1200) reached and the optimization hasn't converged yet.\n",
      "  ConvergenceWarning,\n",
      "/opt/conda/lib/python3.7/site-packages/sklearn/neural_network/_multilayer_perceptron.py:696: ConvergenceWarning: Stochastic Optimizer: Maximum iterations (1200) reached and the optimization hasn't converged yet.\n",
      "  ConvergenceWarning,\n",
      "/opt/conda/lib/python3.7/site-packages/sklearn/neural_network/_multilayer_perceptron.py:696: ConvergenceWarning: Stochastic Optimizer: Maximum iterations (1200) reached and the optimization hasn't converged yet.\n",
      "  ConvergenceWarning,\n",
      "/opt/conda/lib/python3.7/site-packages/sklearn/neural_network/_multilayer_perceptron.py:696: ConvergenceWarning: Stochastic Optimizer: Maximum iterations (1200) reached and the optimization hasn't converged yet.\n",
      "  ConvergenceWarning,\n",
      "\u001b[32m[I 2022-11-22 19:50:49,438]\u001b[0m Trial 56 finished with value: 0.3501266586654952 and parameters: {'scaler': 'min_max', 'is_var_thres': 'var_thres', 'vthreshold': 0.001, 'dim_red': None, 'n_layers': 1, 'n_units_0': 30, 'activation': 'tanh', 'solver': 'adam'}. Best is trial 21 with value: 0.48213313118021306.\u001b[0m\n",
      "/opt/conda/lib/python3.7/site-packages/sklearn/neural_network/_multilayer_perceptron.py:696: ConvergenceWarning: Stochastic Optimizer: Maximum iterations (1200) reached and the optimization hasn't converged yet.\n",
      "  ConvergenceWarning,\n",
      "\u001b[32m[I 2022-11-22 19:52:55,845]\u001b[0m Trial 57 finished with value: 0.448530408356196 and parameters: {'scaler': 'min_max', 'is_var_thres': 'var_thres', 'vthreshold': 0.0001, 'dim_red': None, 'n_layers': 2, 'n_units_0': 14, 'n_units_1': 26, 'activation': 'tanh', 'solver': 'sgd'}. Best is trial 21 with value: 0.48213313118021306.\u001b[0m\n",
      "/opt/conda/lib/python3.7/site-packages/sklearn/neural_network/_multilayer_perceptron.py:696: ConvergenceWarning: Stochastic Optimizer: Maximum iterations (1200) reached and the optimization hasn't converged yet.\n",
      "  ConvergenceWarning,\n",
      "/opt/conda/lib/python3.7/site-packages/sklearn/neural_network/_multilayer_perceptron.py:696: ConvergenceWarning: Stochastic Optimizer: Maximum iterations (1200) reached and the optimization hasn't converged yet.\n",
      "  ConvergenceWarning,\n",
      "/opt/conda/lib/python3.7/site-packages/sklearn/neural_network/_multilayer_perceptron.py:696: ConvergenceWarning: Stochastic Optimizer: Maximum iterations (1200) reached and the optimization hasn't converged yet.\n",
      "  ConvergenceWarning,\n",
      "\u001b[32m[I 2022-11-22 19:54:46,837]\u001b[0m Trial 58 finished with value: 0.47135174612711406 and parameters: {'scaler': 'min_max', 'is_var_thres': None, 'dim_red': 'PCA', 'pca_n_components': 35, 'n_layers': 2, 'n_units_0': 22, 'n_units_1': 56, 'activation': 'tanh', 'solver': 'sgd'}. Best is trial 21 with value: 0.48213313118021306.\u001b[0m\n",
      "/opt/conda/lib/python3.7/site-packages/sklearn/neural_network/_multilayer_perceptron.py:696: ConvergenceWarning: Stochastic Optimizer: Maximum iterations (1200) reached and the optimization hasn't converged yet.\n",
      "  ConvergenceWarning,\n",
      "/opt/conda/lib/python3.7/site-packages/sklearn/neural_network/_multilayer_perceptron.py:696: ConvergenceWarning: Stochastic Optimizer: Maximum iterations (1200) reached and the optimization hasn't converged yet.\n",
      "  ConvergenceWarning,\n",
      "/opt/conda/lib/python3.7/site-packages/sklearn/neural_network/_multilayer_perceptron.py:696: ConvergenceWarning: Stochastic Optimizer: Maximum iterations (1200) reached and the optimization hasn't converged yet.\n",
      "  ConvergenceWarning,\n",
      "/opt/conda/lib/python3.7/site-packages/sklearn/neural_network/_multilayer_perceptron.py:696: ConvergenceWarning: Stochastic Optimizer: Maximum iterations (1200) reached and the optimization hasn't converged yet.\n",
      "  ConvergenceWarning,\n",
      "/opt/conda/lib/python3.7/site-packages/sklearn/neural_network/_multilayer_perceptron.py:696: ConvergenceWarning: Stochastic Optimizer: Maximum iterations (1200) reached and the optimization hasn't converged yet.\n",
      "  ConvergenceWarning,\n",
      "/opt/conda/lib/python3.7/site-packages/sklearn/neural_network/_multilayer_perceptron.py:696: ConvergenceWarning: Stochastic Optimizer: Maximum iterations (1200) reached and the optimization hasn't converged yet.\n",
      "  ConvergenceWarning,\n",
      "/opt/conda/lib/python3.7/site-packages/sklearn/neural_network/_multilayer_perceptron.py:696: ConvergenceWarning: Stochastic Optimizer: Maximum iterations (1200) reached and the optimization hasn't converged yet.\n",
      "  ConvergenceWarning,\n",
      "/opt/conda/lib/python3.7/site-packages/sklearn/neural_network/_multilayer_perceptron.py:696: ConvergenceWarning: Stochastic Optimizer: Maximum iterations (1200) reached and the optimization hasn't converged yet.\n",
      "  ConvergenceWarning,\n",
      "/opt/conda/lib/python3.7/site-packages/sklearn/neural_network/_multilayer_perceptron.py:696: ConvergenceWarning: Stochastic Optimizer: Maximum iterations (1200) reached and the optimization hasn't converged yet.\n",
      "  ConvergenceWarning,\n",
      "\u001b[32m[I 2022-11-22 19:57:46,800]\u001b[0m Trial 59 finished with value: 0.47850638347203234 and parameters: {'scaler': 'min_max', 'is_var_thres': 'var_thres', 'vthreshold': 0.0007, 'dim_red': None, 'n_layers': 1, 'n_units_0': 86, 'activation': 'relu', 'solver': 'sgd'}. Best is trial 21 with value: 0.48213313118021306.\u001b[0m\n",
      "/opt/conda/lib/python3.7/site-packages/sklearn/neural_network/_multilayer_perceptron.py:696: ConvergenceWarning: Stochastic Optimizer: Maximum iterations (1200) reached and the optimization hasn't converged yet.\n",
      "  ConvergenceWarning,\n",
      "/opt/conda/lib/python3.7/site-packages/sklearn/neural_network/_multilayer_perceptron.py:696: ConvergenceWarning: Stochastic Optimizer: Maximum iterations (1200) reached and the optimization hasn't converged yet.\n",
      "  ConvergenceWarning,\n",
      "/opt/conda/lib/python3.7/site-packages/sklearn/neural_network/_multilayer_perceptron.py:696: ConvergenceWarning: Stochastic Optimizer: Maximum iterations (1200) reached and the optimization hasn't converged yet.\n",
      "  ConvergenceWarning,\n",
      "/opt/conda/lib/python3.7/site-packages/sklearn/neural_network/_multilayer_perceptron.py:696: ConvergenceWarning: Stochastic Optimizer: Maximum iterations (1200) reached and the optimization hasn't converged yet.\n",
      "  ConvergenceWarning,\n",
      "/opt/conda/lib/python3.7/site-packages/sklearn/neural_network/_multilayer_perceptron.py:696: ConvergenceWarning: Stochastic Optimizer: Maximum iterations (1200) reached and the optimization hasn't converged yet.\n",
      "  ConvergenceWarning,\n",
      "/opt/conda/lib/python3.7/site-packages/sklearn/neural_network/_multilayer_perceptron.py:696: ConvergenceWarning: Stochastic Optimizer: Maximum iterations (1200) reached and the optimization hasn't converged yet.\n",
      "  ConvergenceWarning,\n",
      "/opt/conda/lib/python3.7/site-packages/sklearn/neural_network/_multilayer_perceptron.py:696: ConvergenceWarning: Stochastic Optimizer: Maximum iterations (1200) reached and the optimization hasn't converged yet.\n",
      "  ConvergenceWarning,\n",
      "/opt/conda/lib/python3.7/site-packages/sklearn/neural_network/_multilayer_perceptron.py:696: ConvergenceWarning: Stochastic Optimizer: Maximum iterations (1200) reached and the optimization hasn't converged yet.\n",
      "  ConvergenceWarning,\n",
      "/opt/conda/lib/python3.7/site-packages/sklearn/neural_network/_multilayer_perceptron.py:696: ConvergenceWarning: Stochastic Optimizer: Maximum iterations (1200) reached and the optimization hasn't converged yet.\n",
      "  ConvergenceWarning,\n",
      "\u001b[32m[I 2022-11-22 20:00:46,893]\u001b[0m Trial 60 finished with value: 0.47228348479885296 and parameters: {'scaler': 'min_max', 'is_var_thres': 'var_thres', 'vthreshold': 0.0008, 'dim_red': None, 'n_layers': 1, 'n_units_0': 88, 'activation': 'relu', 'solver': 'sgd'}. Best is trial 21 with value: 0.48213313118021306.\u001b[0m\n",
      "/opt/conda/lib/python3.7/site-packages/sklearn/neural_network/_multilayer_perceptron.py:696: ConvergenceWarning: Stochastic Optimizer: Maximum iterations (1200) reached and the optimization hasn't converged yet.\n",
      "  ConvergenceWarning,\n",
      "/opt/conda/lib/python3.7/site-packages/sklearn/neural_network/_multilayer_perceptron.py:696: ConvergenceWarning: Stochastic Optimizer: Maximum iterations (1200) reached and the optimization hasn't converged yet.\n",
      "  ConvergenceWarning,\n",
      "/opt/conda/lib/python3.7/site-packages/sklearn/neural_network/_multilayer_perceptron.py:696: ConvergenceWarning: Stochastic Optimizer: Maximum iterations (1200) reached and the optimization hasn't converged yet.\n",
      "  ConvergenceWarning,\n",
      "/opt/conda/lib/python3.7/site-packages/sklearn/neural_network/_multilayer_perceptron.py:696: ConvergenceWarning: Stochastic Optimizer: Maximum iterations (1200) reached and the optimization hasn't converged yet.\n",
      "  ConvergenceWarning,\n",
      "/opt/conda/lib/python3.7/site-packages/sklearn/neural_network/_multilayer_perceptron.py:696: ConvergenceWarning: Stochastic Optimizer: Maximum iterations (1200) reached and the optimization hasn't converged yet.\n",
      "  ConvergenceWarning,\n",
      "\u001b[32m[I 2022-11-22 20:02:16,468]\u001b[0m Trial 61 finished with value: 0.46759695103397875 and parameters: {'scaler': 'min_max', 'is_var_thres': 'var_thres', 'vthreshold': 0.0008, 'dim_red': None, 'n_layers': 1, 'n_units_0': 27, 'activation': 'relu', 'solver': 'sgd'}. Best is trial 21 with value: 0.48213313118021306.\u001b[0m\n",
      "/opt/conda/lib/python3.7/site-packages/sklearn/neural_network/_multilayer_perceptron.py:696: ConvergenceWarning: Stochastic Optimizer: Maximum iterations (1200) reached and the optimization hasn't converged yet.\n",
      "  ConvergenceWarning,\n",
      "/opt/conda/lib/python3.7/site-packages/sklearn/neural_network/_multilayer_perceptron.py:696: ConvergenceWarning: Stochastic Optimizer: Maximum iterations (1200) reached and the optimization hasn't converged yet.\n",
      "  ConvergenceWarning,\n",
      "/opt/conda/lib/python3.7/site-packages/sklearn/neural_network/_multilayer_perceptron.py:696: ConvergenceWarning: Stochastic Optimizer: Maximum iterations (1200) reached and the optimization hasn't converged yet.\n",
      "  ConvergenceWarning,\n",
      "/opt/conda/lib/python3.7/site-packages/sklearn/neural_network/_multilayer_perceptron.py:696: ConvergenceWarning: Stochastic Optimizer: Maximum iterations (1200) reached and the optimization hasn't converged yet.\n",
      "  ConvergenceWarning,\n",
      "/opt/conda/lib/python3.7/site-packages/sklearn/neural_network/_multilayer_perceptron.py:696: ConvergenceWarning: Stochastic Optimizer: Maximum iterations (1200) reached and the optimization hasn't converged yet.\n",
      "  ConvergenceWarning,\n",
      "/opt/conda/lib/python3.7/site-packages/sklearn/neural_network/_multilayer_perceptron.py:696: ConvergenceWarning: Stochastic Optimizer: Maximum iterations (1200) reached and the optimization hasn't converged yet.\n",
      "  ConvergenceWarning,\n",
      "/opt/conda/lib/python3.7/site-packages/sklearn/neural_network/_multilayer_perceptron.py:696: ConvergenceWarning: Stochastic Optimizer: Maximum iterations (1200) reached and the optimization hasn't converged yet.\n",
      "  ConvergenceWarning,\n",
      "/opt/conda/lib/python3.7/site-packages/sklearn/neural_network/_multilayer_perceptron.py:696: ConvergenceWarning: Stochastic Optimizer: Maximum iterations (1200) reached and the optimization hasn't converged yet.\n",
      "  ConvergenceWarning,\n",
      "/opt/conda/lib/python3.7/site-packages/sklearn/neural_network/_multilayer_perceptron.py:696: ConvergenceWarning: Stochastic Optimizer: Maximum iterations (1200) reached and the optimization hasn't converged yet.\n",
      "  ConvergenceWarning,\n",
      "/opt/conda/lib/python3.7/site-packages/sklearn/neural_network/_multilayer_perceptron.py:696: ConvergenceWarning: Stochastic Optimizer: Maximum iterations (1200) reached and the optimization hasn't converged yet.\n",
      "  ConvergenceWarning,\n",
      "\u001b[32m[I 2022-11-22 20:05:00,765]\u001b[0m Trial 62 finished with value: 0.4712623192222923 and parameters: {'scaler': 'min_max', 'is_var_thres': 'var_thres', 'vthreshold': 0.0006000000000000001, 'dim_red': None, 'n_layers': 1, 'n_units_0': 70, 'activation': 'relu', 'solver': 'sgd'}. Best is trial 21 with value: 0.48213313118021306.\u001b[0m\n",
      "/opt/conda/lib/python3.7/site-packages/sklearn/neural_network/_multilayer_perceptron.py:696: ConvergenceWarning: Stochastic Optimizer: Maximum iterations (1200) reached and the optimization hasn't converged yet.\n",
      "  ConvergenceWarning,\n",
      "/opt/conda/lib/python3.7/site-packages/sklearn/neural_network/_multilayer_perceptron.py:696: ConvergenceWarning: Stochastic Optimizer: Maximum iterations (1200) reached and the optimization hasn't converged yet.\n",
      "  ConvergenceWarning,\n",
      "/opt/conda/lib/python3.7/site-packages/sklearn/neural_network/_multilayer_perceptron.py:696: ConvergenceWarning: Stochastic Optimizer: Maximum iterations (1200) reached and the optimization hasn't converged yet.\n",
      "  ConvergenceWarning,\n",
      "/opt/conda/lib/python3.7/site-packages/sklearn/neural_network/_multilayer_perceptron.py:696: ConvergenceWarning: Stochastic Optimizer: Maximum iterations (1200) reached and the optimization hasn't converged yet.\n",
      "  ConvergenceWarning,\n",
      "/opt/conda/lib/python3.7/site-packages/sklearn/neural_network/_multilayer_perceptron.py:696: ConvergenceWarning: Stochastic Optimizer: Maximum iterations (1200) reached and the optimization hasn't converged yet.\n",
      "  ConvergenceWarning,\n",
      "\u001b[32m[I 2022-11-22 20:06:38,667]\u001b[0m Trial 63 finished with value: 0.46685120459913987 and parameters: {'scaler': 'min_max', 'is_var_thres': 'var_thres', 'vthreshold': 0.0007, 'dim_red': None, 'n_layers': 1, 'n_units_0': 32, 'activation': 'relu', 'solver': 'sgd'}. Best is trial 21 with value: 0.48213313118021306.\u001b[0m\n",
      "/opt/conda/lib/python3.7/site-packages/sklearn/neural_network/_multilayer_perceptron.py:696: ConvergenceWarning: Stochastic Optimizer: Maximum iterations (1200) reached and the optimization hasn't converged yet.\n",
      "  ConvergenceWarning,\n",
      "/opt/conda/lib/python3.7/site-packages/sklearn/neural_network/_multilayer_perceptron.py:696: ConvergenceWarning: Stochastic Optimizer: Maximum iterations (1200) reached and the optimization hasn't converged yet.\n",
      "  ConvergenceWarning,\n",
      "/opt/conda/lib/python3.7/site-packages/sklearn/neural_network/_multilayer_perceptron.py:696: ConvergenceWarning: Stochastic Optimizer: Maximum iterations (1200) reached and the optimization hasn't converged yet.\n",
      "  ConvergenceWarning,\n",
      "/opt/conda/lib/python3.7/site-packages/sklearn/neural_network/_multilayer_perceptron.py:696: ConvergenceWarning: Stochastic Optimizer: Maximum iterations (1200) reached and the optimization hasn't converged yet.\n",
      "  ConvergenceWarning,\n",
      "/opt/conda/lib/python3.7/site-packages/sklearn/neural_network/_multilayer_perceptron.py:696: ConvergenceWarning: Stochastic Optimizer: Maximum iterations (1200) reached and the optimization hasn't converged yet.\n",
      "  ConvergenceWarning,\n",
      "/opt/conda/lib/python3.7/site-packages/sklearn/neural_network/_multilayer_perceptron.py:696: ConvergenceWarning: Stochastic Optimizer: Maximum iterations (1200) reached and the optimization hasn't converged yet.\n",
      "  ConvergenceWarning,\n",
      "/opt/conda/lib/python3.7/site-packages/sklearn/neural_network/_multilayer_perceptron.py:696: ConvergenceWarning: Stochastic Optimizer: Maximum iterations (1200) reached and the optimization hasn't converged yet.\n",
      "  ConvergenceWarning,\n",
      "/opt/conda/lib/python3.7/site-packages/sklearn/neural_network/_multilayer_perceptron.py:696: ConvergenceWarning: Stochastic Optimizer: Maximum iterations (1200) reached and the optimization hasn't converged yet.\n",
      "  ConvergenceWarning,\n",
      "/opt/conda/lib/python3.7/site-packages/sklearn/neural_network/_multilayer_perceptron.py:696: ConvergenceWarning: Stochastic Optimizer: Maximum iterations (1200) reached and the optimization hasn't converged yet.\n",
      "  ConvergenceWarning,\n",
      "/opt/conda/lib/python3.7/site-packages/sklearn/neural_network/_multilayer_perceptron.py:696: ConvergenceWarning: Stochastic Optimizer: Maximum iterations (1200) reached and the optimization hasn't converged yet.\n",
      "  ConvergenceWarning,\n",
      "\u001b[32m[I 2022-11-22 20:08:51,340]\u001b[0m Trial 64 finished with value: 0.46589854645186246 and parameters: {'scaler': 'min_max', 'is_var_thres': 'var_thres', 'vthreshold': 0.0009000000000000001, 'dim_red': None, 'n_layers': 2, 'n_units_0': 20, 'n_units_1': 11, 'activation': 'relu', 'solver': 'sgd'}. Best is trial 21 with value: 0.48213313118021306.\u001b[0m\n",
      "\u001b[32m[I 2022-11-22 20:10:47,767]\u001b[0m Trial 65 finished with value: 0.47071838085737194 and parameters: {'scaler': 'min_max', 'is_var_thres': 'var_thres', 'vthreshold': 0.00030000000000000003, 'dim_red': None, 'n_layers': 1, 'n_units_0': 95, 'activation': 'tanh', 'solver': 'sgd'}. Best is trial 21 with value: 0.48213313118021306.\u001b[0m\n",
      "\u001b[32m[I 2022-11-22 20:12:39,371]\u001b[0m Trial 66 finished with value: 0.4714766077483981 and parameters: {'scaler': 'min_max', 'is_var_thres': 'var_thres', 'vthreshold': 0.0004, 'dim_red': None, 'n_layers': 1, 'n_units_0': 84, 'activation': 'tanh', 'solver': 'sgd'}. Best is trial 21 with value: 0.48213313118021306.\u001b[0m\n",
      "\u001b[32m[I 2022-11-22 20:15:50,100]\u001b[0m Trial 67 finished with value: 0.3333406487073642 and parameters: {'scaler': 'standard', 'is_var_thres': 'var_thres', 'vthreshold': 0.0006000000000000001, 'dim_red': None, 'n_layers': 2, 'n_units_0': 70, 'n_units_1': 39, 'activation': 'tanh', 'solver': 'sgd'}. Best is trial 21 with value: 0.48213313118021306.\u001b[0m\n",
      "\u001b[32m[I 2022-11-22 20:17:04,527]\u001b[0m Trial 68 finished with value: 0.4655770282738515 and parameters: {'scaler': 'min_max', 'is_var_thres': 'var_thres', 'vthreshold': 0.0007, 'dim_red': None, 'n_layers': 1, 'n_units_0': 13, 'activation': 'relu', 'solver': 'adam'}. Best is trial 21 with value: 0.48213313118021306.\u001b[0m\n",
      "\u001b[32m[I 2022-11-22 20:18:04,462]\u001b[0m Trial 69 finished with value: 0.47246457712150336 and parameters: {'scaler': 'min_max', 'is_var_thres': 'var_thres', 'vthreshold': 0.0, 'dim_red': None, 'n_layers': 1, 'n_units_0': 26, 'activation': 'tanh', 'solver': 'sgd'}. Best is trial 21 with value: 0.48213313118021306.\u001b[0m\n",
      "\u001b[32m[I 2022-11-22 20:19:09,866]\u001b[0m Trial 70 finished with value: 0.469757137981697 and parameters: {'scaler': 'min_max', 'is_var_thres': None, 'dim_red': 'PCA', 'pca_n_components': 30, 'n_layers': 2, 'n_units_0': 38, 'n_units_1': 70, 'activation': 'tanh', 'solver': 'sgd'}. Best is trial 21 with value: 0.48213313118021306.\u001b[0m\n",
      "\u001b[32m[I 2022-11-22 20:20:13,276]\u001b[0m Trial 71 finished with value: 0.470917736690863 and parameters: {'scaler': 'min_max', 'is_var_thres': 'var_thres', 'vthreshold': 0.0, 'dim_red': None, 'n_layers': 1, 'n_units_0': 24, 'activation': 'tanh', 'solver': 'sgd'}. Best is trial 21 with value: 0.48213313118021306.\u001b[0m\n",
      "\u001b[32m[I 2022-11-22 20:21:04,662]\u001b[0m Trial 72 finished with value: 0.47450053479436693 and parameters: {'scaler': 'min_max', 'is_var_thres': 'var_thres', 'vthreshold': 0.0, 'dim_red': None, 'n_layers': 1, 'n_units_0': 17, 'activation': 'tanh', 'solver': 'sgd'}. Best is trial 21 with value: 0.48213313118021306.\u001b[0m\n",
      "\u001b[32m[I 2022-11-22 20:22:16,204]\u001b[0m Trial 73 finished with value: 0.4702609254850999 and parameters: {'scaler': 'min_max', 'is_var_thres': 'var_thres', 'vthreshold': 0.0, 'dim_red': None, 'n_layers': 1, 'n_units_0': 31, 'activation': 'tanh', 'solver': 'sgd'}. Best is trial 21 with value: 0.48213313118021306.\u001b[0m\n",
      "\u001b[32m[I 2022-11-22 20:23:16,421]\u001b[0m Trial 74 finished with value: 0.4692309535984756 and parameters: {'scaler': 'min_max', 'is_var_thres': 'var_thres', 'vthreshold': 0.0001, 'dim_red': None, 'n_layers': 1, 'n_units_0': 25, 'activation': 'tanh', 'solver': 'sgd'}. Best is trial 21 with value: 0.48213313118021306.\u001b[0m\n",
      "\u001b[32m[I 2022-11-22 20:24:14,112]\u001b[0m Trial 75 finished with value: 0.46823349831434075 and parameters: {'scaler': 'min_max', 'is_var_thres': 'var_thres', 'vthreshold': 0.0, 'dim_red': None, 'n_layers': 1, 'n_units_0': 21, 'activation': 'tanh', 'solver': 'sgd'}. Best is trial 21 with value: 0.48213313118021306.\u001b[0m\n",
      "/opt/conda/lib/python3.7/site-packages/sklearn/neural_network/_multilayer_perceptron.py:696: ConvergenceWarning: Stochastic Optimizer: Maximum iterations (1200) reached and the optimization hasn't converged yet.\n",
      "  ConvergenceWarning,\n",
      "\u001b[32m[I 2022-11-22 20:27:05,746]\u001b[0m Trial 76 finished with value: 0.4697608093391866 and parameters: {'scaler': 'min_max', 'is_var_thres': 'var_thres', 'vthreshold': 0.0001, 'dim_red': None, 'n_layers': 2, 'n_units_0': 37, 'n_units_1': 51, 'activation': 'tanh', 'solver': 'sgd'}. Best is trial 21 with value: 0.48213313118021306.\u001b[0m\n",
      "\u001b[32m[I 2022-11-22 20:28:18,750]\u001b[0m Trial 77 finished with value: 0.4655202900585566 and parameters: {'scaler': 'min_max', 'is_var_thres': 'var_thres', 'vthreshold': 0.0001, 'dim_red': None, 'n_layers': 1, 'n_units_0': 33, 'activation': 'tanh', 'solver': 'sgd'}. Best is trial 21 with value: 0.48213313118021306.\u001b[0m\n",
      "\u001b[32m[I 2022-11-22 20:31:27,624]\u001b[0m Trial 78 finished with value: 0.48727313669236716 and parameters: {'scaler': 'standard', 'is_var_thres': 'var_thres', 'vthreshold': 0.0, 'dim_red': None, 'n_layers': 1, 'n_units_0': 75, 'activation': 'tanh', 'solver': 'sgd'}. Best is trial 78 with value: 0.48727313669236716.\u001b[0m\n",
      "\u001b[32m[I 2022-11-22 20:31:44,971]\u001b[0m Trial 79 finished with value: 0.3483825937467469 and parameters: {'scaler': 'standard', 'is_var_thres': 'var_thres', 'vthreshold': 0.0002, 'dim_red': None, 'n_layers': 2, 'n_units_0': 85, 'n_units_1': 30, 'activation': 'relu', 'solver': 'adam'}. Best is trial 78 with value: 0.48727313669236716.\u001b[0m\n",
      "\u001b[32m[I 2022-11-22 20:34:46,256]\u001b[0m Trial 80 finished with value: 0.4335791907826513 and parameters: {'scaler': 'standard', 'is_var_thres': None, 'dim_red': None, 'n_layers': 1, 'n_units_0': 74, 'activation': 'tanh', 'solver': 'sgd'}. Best is trial 78 with value: 0.48727313669236716.\u001b[0m\n",
      "\u001b[32m[I 2022-11-22 20:38:26,025]\u001b[0m Trial 81 finished with value: 0.4799871399423086 and parameters: {'scaler': 'standard', 'is_var_thres': 'var_thres', 'vthreshold': 0.0, 'dim_red': None, 'n_layers': 1, 'n_units_0': 94, 'activation': 'tanh', 'solver': 'sgd'}. Best is trial 78 with value: 0.48727313669236716.\u001b[0m\n",
      "\u001b[32m[I 2022-11-22 20:42:00,387]\u001b[0m Trial 82 finished with value: 0.42798642168881973 and parameters: {'scaler': 'standard', 'is_var_thres': 'var_thres', 'vthreshold': 0.0, 'dim_red': None, 'n_layers': 1, 'n_units_0': 92, 'activation': 'tanh', 'solver': 'sgd'}. Best is trial 78 with value: 0.48727313669236716.\u001b[0m\n",
      "\u001b[32m[I 2022-11-22 20:45:51,391]\u001b[0m Trial 83 finished with value: 0.4619817385963819 and parameters: {'scaler': 'standard', 'is_var_thres': 'var_thres', 'vthreshold': 0.0, 'dim_red': None, 'n_layers': 1, 'n_units_0': 100, 'activation': 'tanh', 'solver': 'sgd'}. Best is trial 78 with value: 0.48727313669236716.\u001b[0m\n",
      "\u001b[32m[I 2022-11-22 20:48:31,676]\u001b[0m Trial 84 finished with value: 0.325700954710248 and parameters: {'scaler': 'standard', 'is_var_thres': 'var_thres', 'vthreshold': 0.0001, 'dim_red': None, 'n_layers': 6, 'n_units_0': 77, 'n_units_1': 96, 'n_units_2': 48, 'n_units_3': 26, 'n_units_4': 42, 'n_units_5': 43, 'activation': 'tanh', 'solver': 'sgd'}. Best is trial 78 with value: 0.48727313669236716.\u001b[0m\n",
      "\u001b[32m[I 2022-11-22 20:52:01,935]\u001b[0m Trial 85 finished with value: 0.4354180482811733 and parameters: {'scaler': 'standard', 'is_var_thres': 'var_thres', 'vthreshold': 0.0, 'dim_red': None, 'n_layers': 1, 'n_units_0': 92, 'activation': 'tanh', 'solver': 'sgd'}. Best is trial 78 with value: 0.48727313669236716.\u001b[0m\n",
      "\u001b[32m[I 2022-11-22 20:55:05,739]\u001b[0m Trial 86 finished with value: 0.42204341703064213 and parameters: {'scaler': 'standard', 'is_var_thres': 'var_thres', 'vthreshold': 0.0, 'dim_red': 'PCA', 'pca_n_components': 45, 'n_layers': 1, 'n_units_0': 89, 'activation': 'tanh', 'solver': 'sgd'}. Best is trial 78 with value: 0.48727313669236716.\u001b[0m\n",
      "\u001b[32m[I 2022-11-22 20:57:51,292]\u001b[0m Trial 87 finished with value: 0.35540335490053854 and parameters: {'scaler': 'standard', 'is_var_thres': 'var_thres', 'vthreshold': 0.0001, 'dim_red': None, 'n_layers': 2, 'n_units_0': 60, 'n_units_1': 40, 'activation': 'tanh', 'solver': 'sgd'}. Best is trial 78 with value: 0.48727313669236716.\u001b[0m\n",
      "\u001b[32m[I 2022-11-22 21:01:07,094]\u001b[0m Trial 88 finished with value: 0.42877016714547456 and parameters: {'scaler': 'standard', 'is_var_thres': 'var_thres', 'vthreshold': 0.0, 'dim_red': None, 'n_layers': 1, 'n_units_0': 85, 'activation': 'tanh', 'solver': 'sgd'}. Best is trial 78 with value: 0.48727313669236716.\u001b[0m\n",
      "\u001b[32m[I 2022-11-22 21:05:01,256]\u001b[0m Trial 89 finished with value: 0.46342213164119705 and parameters: {'scaler': 'standard', 'is_var_thres': 'var_thres', 'vthreshold': 0.0005, 'dim_red': None, 'n_layers': 1, 'n_units_0': 95, 'activation': 'tanh', 'solver': 'sgd'}. Best is trial 78 with value: 0.48727313669236716.\u001b[0m\n",
      "\u001b[32m[I 2022-11-22 21:06:47,919]\u001b[0m Trial 90 finished with value: 0.3920076497395718 and parameters: {'scaler': 'standard', 'is_var_thres': 'var_thres', 'vthreshold': 0.0002, 'dim_red': None, 'n_layers': 2, 'n_units_0': 80, 'n_units_1': 10, 'activation': 'relu', 'solver': 'sgd'}. Best is trial 78 with value: 0.48727313669236716.\u001b[0m\n",
      "\u001b[32m[I 2022-11-22 21:08:03,955]\u001b[0m Trial 91 finished with value: 0.4708518331838974 and parameters: {'scaler': 'min_max', 'is_var_thres': 'var_thres', 'vthreshold': 0.0, 'dim_red': None, 'n_layers': 1, 'n_units_0': 41, 'activation': 'tanh', 'solver': 'sgd'}. Best is trial 78 with value: 0.48727313669236716.\u001b[0m\n",
      "\u001b[32m[I 2022-11-22 21:10:00,177]\u001b[0m Trial 92 finished with value: 0.4683135522219491 and parameters: {'scaler': 'min_max', 'is_var_thres': 'var_thres', 'vthreshold': 0.0, 'dim_red': None, 'n_layers': 1, 'n_units_0': 98, 'activation': 'tanh', 'solver': 'sgd'}. Best is trial 78 with value: 0.48727313669236716.\u001b[0m\n",
      "\u001b[32m[I 2022-11-22 21:12:51,527]\u001b[0m Trial 93 finished with value: 0.4680801004692109 and parameters: {'scaler': 'min_max', 'is_var_thres': 'var_thres', 'vthreshold': 0.0001, 'dim_red': None, 'n_layers': 4, 'n_units_0': 17, 'n_units_1': 78, 'n_units_2': 28, 'n_units_3': 80, 'activation': 'tanh', 'solver': 'sgd'}. Best is trial 78 with value: 0.48727313669236716.\u001b[0m\n",
      "\u001b[32m[I 2022-11-22 21:14:00,027]\u001b[0m Trial 94 finished with value: 0.4687415530749671 and parameters: {'scaler': 'min_max', 'is_var_thres': 'var_thres', 'vthreshold': 0.0, 'dim_red': None, 'n_layers': 1, 'n_units_0': 29, 'activation': 'tanh', 'solver': 'sgd'}. Best is trial 78 with value: 0.48727313669236716.\u001b[0m\n",
      "\u001b[32m[I 2022-11-22 21:15:28,276]\u001b[0m Trial 95 finished with value: 0.4828524122293967 and parameters: {'scaler': 'min_max', 'is_var_thres': 'var_thres', 'vthreshold': 0.0001, 'dim_red': None, 'n_layers': 1, 'n_units_0': 63, 'activation': 'tanh', 'solver': 'sgd'}. Best is trial 78 with value: 0.48727313669236716.\u001b[0m\n",
      "\u001b[32m[I 2022-11-22 21:16:59,605]\u001b[0m Trial 96 finished with value: 0.4785882488816334 and parameters: {'scaler': 'min_max', 'is_var_thres': 'var_thres', 'vthreshold': 0.0001, 'dim_red': None, 'n_layers': 1, 'n_units_0': 63, 'activation': 'tanh', 'solver': 'sgd'}. Best is trial 78 with value: 0.48727313669236716.\u001b[0m\n",
      "\u001b[32m[I 2022-11-22 21:20:13,266]\u001b[0m Trial 97 finished with value: 0.3872408411377182 and parameters: {'scaler': 'min_max', 'is_var_thres': 'var_thres', 'vthreshold': 0.0002, 'dim_red': None, 'n_layers': 1, 'n_units_0': 62, 'activation': 'tanh', 'solver': 'adam'}. Best is trial 78 with value: 0.48727313669236716.\u001b[0m\n",
      "\u001b[32m[I 2022-11-22 21:21:46,189]\u001b[0m Trial 98 finished with value: 0.46465527852216965 and parameters: {'scaler': 'min_max', 'is_var_thres': 'var_thres', 'vthreshold': 0.0001, 'dim_red': None, 'n_layers': 1, 'n_units_0': 64, 'activation': 'tanh', 'solver': 'sgd'}. Best is trial 78 with value: 0.48727313669236716.\u001b[0m\n",
      "\u001b[32m[I 2022-11-22 21:23:12,293]\u001b[0m Trial 99 finished with value: 0.4694829722584286 and parameters: {'scaler': 'min_max', 'is_var_thres': None, 'dim_red': None, 'n_layers': 1, 'n_units_0': 58, 'activation': 'tanh', 'solver': 'sgd'}. Best is trial 78 with value: 0.48727313669236716.\u001b[0m\n",
      "\u001b[32m[I 2022-11-22 21:27:35,930]\u001b[0m Trial 100 finished with value: 0.31334890668381943 and parameters: {'scaler': 'min_max', 'is_var_thres': 'var_thres', 'vthreshold': 0.0001, 'dim_red': 'PCA', 'pca_n_components': 30, 'n_layers': 7, 'n_units_0': 73, 'n_units_1': 58, 'n_units_2': 86, 'n_units_3': 51, 'n_units_4': 71, 'n_units_5': 61, 'n_units_6': 98, 'activation': 'relu', 'solver': 'sgd'}. Best is trial 78 with value: 0.48727313669236716.\u001b[0m\n",
      "\u001b[32m[I 2022-11-22 21:29:01,662]\u001b[0m Trial 101 finished with value: 0.4718783242220743 and parameters: {'scaler': 'min_max', 'is_var_thres': 'var_thres', 'vthreshold': 0.0001, 'dim_red': None, 'n_layers': 1, 'n_units_0': 52, 'activation': 'tanh', 'solver': 'sgd'}. Best is trial 78 with value: 0.48727313669236716.\u001b[0m\n",
      "\u001b[32m[I 2022-11-22 21:30:41,226]\u001b[0m Trial 102 finished with value: 0.4728638955717255 and parameters: {'scaler': 'min_max', 'is_var_thres': 'var_thres', 'vthreshold': 0.00030000000000000003, 'dim_red': None, 'n_layers': 1, 'n_units_0': 68, 'activation': 'tanh', 'solver': 'sgd'}. Best is trial 78 with value: 0.48727313669236716.\u001b[0m\n",
      "\u001b[32m[I 2022-11-22 21:32:12,018]\u001b[0m Trial 103 finished with value: 0.47034794202008434 and parameters: {'scaler': 'min_max', 'is_var_thres': 'var_thres', 'vthreshold': 0.0004, 'dim_red': None, 'n_layers': 1, 'n_units_0': 66, 'activation': 'tanh', 'solver': 'sgd'}. Best is trial 78 with value: 0.48727313669236716.\u001b[0m\n",
      "\u001b[32m[I 2022-11-22 21:33:55,688]\u001b[0m Trial 104 finished with value: 0.4697711753750635 and parameters: {'scaler': 'min_max', 'is_var_thres': 'var_thres', 'vthreshold': 0.0, 'dim_red': None, 'n_layers': 1, 'n_units_0': 73, 'activation': 'tanh', 'solver': 'sgd'}. Best is trial 78 with value: 0.48727313669236716.\u001b[0m\n",
      "\u001b[32m[I 2022-11-22 21:35:19,956]\u001b[0m Trial 105 finished with value: 0.4706896344983179 and parameters: {'scaler': 'min_max', 'is_var_thres': 'var_thres', 'vthreshold': 0.0001, 'dim_red': None, 'n_layers': 1, 'n_units_0': 57, 'activation': 'tanh', 'solver': 'sgd'}. Best is trial 78 with value: 0.48727313669236716.\u001b[0m\n",
      "\u001b[32m[I 2022-11-22 21:39:09,438]\u001b[0m Trial 106 finished with value: 0.4489788215051501 and parameters: {'scaler': 'min_max', 'is_var_thres': 'var_thres', 'vthreshold': 0.0009000000000000001, 'dim_red': None, 'n_layers': 5, 'n_units_0': 82, 'n_units_1': 67, 'n_units_2': 63, 'n_units_3': 29, 'n_units_4': 34, 'activation': 'tanh', 'solver': 'sgd'}. Best is trial 78 with value: 0.48727313669236716.\u001b[0m\n",
      "\u001b[32m[I 2022-11-22 21:40:58,112]\u001b[0m Trial 107 finished with value: 0.47108026972930084 and parameters: {'scaler': 'min_max', 'is_var_thres': 'var_thres', 'vthreshold': 0.0002, 'dim_red': None, 'n_layers': 1, 'n_units_0': 77, 'activation': 'tanh', 'solver': 'sgd'}. Best is trial 78 with value: 0.48727313669236716.\u001b[0m\n",
      "\u001b[32m[I 2022-11-22 21:43:20,417]\u001b[0m Trial 108 finished with value: 0.44207234435029497 and parameters: {'scaler': 'standard', 'is_var_thres': 'var_thres', 'vthreshold': 0.0, 'dim_red': None, 'n_layers': 1, 'n_units_0': 47, 'activation': 'tanh', 'solver': 'sgd'}. Best is trial 78 with value: 0.48727313669236716.\u001b[0m\n",
      "\u001b[32m[I 2022-11-22 21:45:03,186]\u001b[0m Trial 109 finished with value: 0.47067004284074637 and parameters: {'scaler': 'min_max', 'is_var_thres': 'var_thres', 'vthreshold': 0.0001, 'dim_red': None, 'n_layers': 1, 'n_units_0': 63, 'activation': 'tanh', 'solver': 'sgd'}. Best is trial 78 with value: 0.48727313669236716.\u001b[0m\n",
      "\u001b[32m[I 2022-11-22 21:46:09,925]\u001b[0m Trial 110 finished with value: 0.30431873540122145 and parameters: {'scaler': 'min_max', 'is_var_thres': 'var_thres', 'vthreshold': 0.0, 'dim_red': None, 'n_layers': 2, 'n_units_0': 88, 'n_units_1': 34, 'activation': 'relu', 'solver': 'adam'}. Best is trial 78 with value: 0.48727313669236716.\u001b[0m\n",
      "\u001b[32m[I 2022-11-22 21:47:12,873]\u001b[0m Trial 111 finished with value: 0.47243085477103486 and parameters: {'scaler': 'min_max', 'is_var_thres': 'var_thres', 'vthreshold': 0.0, 'dim_red': None, 'n_layers': 1, 'n_units_0': 23, 'activation': 'tanh', 'solver': 'sgd'}. Best is trial 78 with value: 0.48727313669236716.\u001b[0m\n",
      "\u001b[32m[I 2022-11-22 21:48:10,321]\u001b[0m Trial 112 finished with value: 0.4675567068862113 and parameters: {'scaler': 'min_max', 'is_var_thres': 'var_thres', 'vthreshold': 0.0, 'dim_red': None, 'n_layers': 1, 'n_units_0': 19, 'activation': 'tanh', 'solver': 'sgd'}. Best is trial 78 with value: 0.48727313669236716.\u001b[0m\n",
      "\u001b[32m[I 2022-11-22 21:49:13,666]\u001b[0m Trial 113 finished with value: 0.4673503789898225 and parameters: {'scaler': 'min_max', 'is_var_thres': 'var_thres', 'vthreshold': 0.0, 'dim_red': None, 'n_layers': 1, 'n_units_0': 27, 'activation': 'tanh', 'solver': 'sgd'}. Best is trial 78 with value: 0.48727313669236716.\u001b[0m\n",
      "\u001b[32m[I 2022-11-22 21:50:16,917]\u001b[0m Trial 114 finished with value: 0.4718718529977114 and parameters: {'scaler': 'min_max', 'is_var_thres': 'var_thres', 'vthreshold': 0.0007, 'dim_red': None, 'n_layers': 1, 'n_units_0': 21, 'activation': 'tanh', 'solver': 'sgd'}. Best is trial 78 with value: 0.48727313669236716.\u001b[0m\n",
      "\u001b[32m[I 2022-11-22 21:51:14,626]\u001b[0m Trial 115 finished with value: 0.4694395351031801 and parameters: {'scaler': 'min_max', 'is_var_thres': 'var_thres', 'vthreshold': 0.0001, 'dim_red': None, 'n_layers': 1, 'n_units_0': 15, 'activation': 'tanh', 'solver': 'sgd'}. Best is trial 78 with value: 0.48727313669236716.\u001b[0m\n",
      "\u001b[32m[I 2022-11-22 21:52:17,023]\u001b[0m Trial 116 finished with value: 0.46973626697632165 and parameters: {'scaler': 'min_max', 'is_var_thres': 'var_thres', 'vthreshold': 0.0, 'dim_red': None, 'n_layers': 1, 'n_units_0': 30, 'activation': 'tanh', 'solver': 'sgd'}. Best is trial 78 with value: 0.48727313669236716.\u001b[0m\n",
      "\u001b[32m[I 2022-11-22 21:54:04,721]\u001b[0m Trial 117 finished with value: 0.46353297327344506 and parameters: {'scaler': 'min_max', 'is_var_thres': None, 'dim_red': None, 'n_layers': 2, 'n_units_0': 11, 'n_units_1': 25, 'activation': 'tanh', 'solver': 'sgd'}. Best is trial 78 with value: 0.48727313669236716.\u001b[0m\n",
      "\u001b[32m[I 2022-11-22 21:55:51,182]\u001b[0m Trial 118 finished with value: 0.45398765901386884 and parameters: {'scaler': 'standard', 'is_var_thres': 'var_thres', 'vthreshold': 0.0, 'dim_red': None, 'n_layers': 1, 'n_units_0': 26, 'activation': 'tanh', 'solver': 'sgd'}. Best is trial 78 with value: 0.48727313669236716.\u001b[0m\n",
      "\u001b[32m[I 2022-11-22 21:56:46,828]\u001b[0m Trial 119 finished with value: 0.47478405510101496 and parameters: {'scaler': 'min_max', 'is_var_thres': 'var_thres', 'vthreshold': 0.0001, 'dim_red': 'PCA', 'pca_n_components': 45, 'n_layers': 1, 'n_units_0': 34, 'activation': 'relu', 'solver': 'sgd'}. Best is trial 78 with value: 0.48727313669236716.\u001b[0m\n",
      "\u001b[32m[I 2022-11-22 21:58:36,403]\u001b[0m Trial 120 finished with value: 0.47392489957205425 and parameters: {'scaler': 'min_max', 'is_var_thres': 'var_thres', 'vthreshold': 0.0, 'dim_red': None, 'n_layers': 1, 'n_units_0': 91, 'activation': 'tanh', 'solver': 'sgd'}. Best is trial 78 with value: 0.48727313669236716.\u001b[0m\n",
      "\u001b[32m[I 2022-11-22 21:59:28,607]\u001b[0m Trial 121 finished with value: 0.46740833384075575 and parameters: {'scaler': 'min_max', 'is_var_thres': 'var_thres', 'vthreshold': 0.0001, 'dim_red': 'PCA', 'pca_n_components': 45, 'n_layers': 1, 'n_units_0': 34, 'activation': 'relu', 'solver': 'sgd'}. Best is trial 78 with value: 0.48727313669236716.\u001b[0m\n",
      "\u001b[32m[I 2022-11-22 22:00:23,482]\u001b[0m Trial 122 finished with value: 0.4695140113046854 and parameters: {'scaler': 'min_max', 'is_var_thres': 'var_thres', 'vthreshold': 0.0001, 'dim_red': 'PCA', 'pca_n_components': 50, 'n_layers': 1, 'n_units_0': 31, 'activation': 'relu', 'solver': 'sgd'}. Best is trial 78 with value: 0.48727313669236716.\u001b[0m\n",
      "\u001b[32m[I 2022-11-22 22:01:04,489]\u001b[0m Trial 123 finished with value: 0.469884063510965 and parameters: {'scaler': 'min_max', 'is_var_thres': 'var_thres', 'vthreshold': 0.0002, 'dim_red': 'PCA', 'pca_n_components': 40, 'n_layers': 1, 'n_units_0': 23, 'activation': 'relu', 'solver': 'sgd'}. Best is trial 78 with value: 0.48727313669236716.\u001b[0m\n",
      "\u001b[32m[I 2022-11-22 22:01:58,094]\u001b[0m Trial 124 finished with value: 0.4811183599971162 and parameters: {'scaler': 'min_max', 'is_var_thres': 'var_thres', 'vthreshold': 0.0005, 'dim_red': 'PCA', 'pca_n_components': 45, 'n_layers': 1, 'n_units_0': 35, 'activation': 'relu', 'solver': 'sgd'}. Best is trial 78 with value: 0.48727313669236716.\u001b[0m\n",
      "\u001b[32m[I 2022-11-22 22:02:48,949]\u001b[0m Trial 125 finished with value: 0.46899066830415415 and parameters: {'scaler': 'min_max', 'is_var_thres': 'var_thres', 'vthreshold': 0.0005, 'dim_red': 'PCA', 'pca_n_components': 35, 'n_layers': 1, 'n_units_0': 37, 'activation': 'relu', 'solver': 'sgd'}. Best is trial 78 with value: 0.48727313669236716.\u001b[0m\n",
      "\u001b[32m[I 2022-11-22 22:05:11,569]\u001b[0m Trial 126 finished with value: 0.4574473437158947 and parameters: {'scaler': 'standard', 'is_var_thres': 'var_thres', 'vthreshold': 0.0006000000000000001, 'dim_red': None, 'n_layers': 1, 'n_units_0': 43, 'activation': 'tanh', 'solver': 'sgd'}. Best is trial 78 with value: 0.48727313669236716.\u001b[0m\n",
      "/opt/conda/lib/python3.7/site-packages/sklearn/neural_network/_multilayer_perceptron.py:696: ConvergenceWarning: Stochastic Optimizer: Maximum iterations (1200) reached and the optimization hasn't converged yet.\n",
      "  ConvergenceWarning,\n",
      "/opt/conda/lib/python3.7/site-packages/sklearn/neural_network/_multilayer_perceptron.py:696: ConvergenceWarning: Stochastic Optimizer: Maximum iterations (1200) reached and the optimization hasn't converged yet.\n",
      "  ConvergenceWarning,\n",
      "/opt/conda/lib/python3.7/site-packages/sklearn/neural_network/_multilayer_perceptron.py:696: ConvergenceWarning: Stochastic Optimizer: Maximum iterations (1200) reached and the optimization hasn't converged yet.\n",
      "  ConvergenceWarning,\n",
      "/opt/conda/lib/python3.7/site-packages/sklearn/neural_network/_multilayer_perceptron.py:696: ConvergenceWarning: Stochastic Optimizer: Maximum iterations (1200) reached and the optimization hasn't converged yet.\n",
      "  ConvergenceWarning,\n",
      "\u001b[32m[I 2022-11-22 22:06:40,322]\u001b[0m Trial 127 finished with value: 0.4586944122793475 and parameters: {'scaler': 'min_max', 'is_var_thres': 'var_thres', 'vthreshold': 0.0009000000000000001, 'dim_red': None, 'n_layers': 1, 'n_units_0': 28, 'activation': 'relu', 'solver': 'sgd'}. Best is trial 78 with value: 0.48727313669236716.\u001b[0m\n",
      "\u001b[32m[I 2022-11-22 22:07:29,990]\u001b[0m Trial 128 finished with value: 0.47503527946895724 and parameters: {'scaler': 'min_max', 'is_var_thres': 'var_thres', 'vthreshold': 0.0008, 'dim_red': 'PCA', 'pca_n_components': 50, 'n_layers': 1, 'n_units_0': 53, 'activation': 'tanh', 'solver': 'sgd'}. Best is trial 78 with value: 0.48727313669236716.\u001b[0m\n",
      "\u001b[32m[I 2022-11-22 22:08:29,723]\u001b[0m Trial 129 finished with value: 0.47476395459550674 and parameters: {'scaler': 'min_max', 'is_var_thres': 'var_thres', 'vthreshold': 0.0, 'dim_red': None, 'n_layers': 1, 'n_units_0': 25, 'activation': 'tanh', 'solver': 'sgd'}. Best is trial 78 with value: 0.48727313669236716.\u001b[0m\n",
      "\u001b[32m[I 2022-11-22 22:08:48,846]\u001b[0m Trial 130 finished with value: 0.3163922139213761 and parameters: {'scaler': 'standard', 'is_var_thres': 'var_thres', 'vthreshold': 0.00030000000000000003, 'dim_red': None, 'n_layers': 2, 'n_units_0': 39, 'n_units_1': 15, 'activation': 'tanh', 'solver': 'adam'}. Best is trial 78 with value: 0.48727313669236716.\u001b[0m\n",
      "\u001b[32m[I 2022-11-22 22:09:45,562]\u001b[0m Trial 131 finished with value: 0.47666818148432055 and parameters: {'scaler': 'min_max', 'is_var_thres': 'var_thres', 'vthreshold': 0.0008, 'dim_red': 'PCA', 'pca_n_components': 50, 'n_layers': 1, 'n_units_0': 65, 'activation': 'tanh', 'solver': 'sgd'}. Best is trial 78 with value: 0.48727313669236716.\u001b[0m\n",
      "\u001b[32m[I 2022-11-22 22:10:43,552]\u001b[0m Trial 132 finished with value: 0.461668184346545 and parameters: {'scaler': 'min_max', 'is_var_thres': 'var_thres', 'vthreshold': 0.0008, 'dim_red': 'PCA', 'pca_n_components': 45, 'n_layers': 1, 'n_units_0': 65, 'activation': 'tanh', 'solver': 'sgd'}. Best is trial 78 with value: 0.48727313669236716.\u001b[0m\n",
      "\u001b[32m[I 2022-11-22 22:11:35,048]\u001b[0m Trial 133 finished with value: 0.4752368564520088 and parameters: {'scaler': 'min_max', 'is_var_thres': 'var_thres', 'vthreshold': 0.0007, 'dim_red': 'PCA', 'pca_n_components': 50, 'n_layers': 1, 'n_units_0': 60, 'activation': 'tanh', 'solver': 'sgd'}. Best is trial 78 with value: 0.48727313669236716.\u001b[0m\n",
      "\u001b[32m[I 2022-11-22 22:12:28,115]\u001b[0m Trial 134 finished with value: 0.479480859419186 and parameters: {'scaler': 'min_max', 'is_var_thres': 'var_thres', 'vthreshold': 0.0006000000000000001, 'dim_red': 'PCA', 'pca_n_components': 40, 'n_layers': 1, 'n_units_0': 71, 'activation': 'tanh', 'solver': 'sgd'}. Best is trial 78 with value: 0.48727313669236716.\u001b[0m\n",
      "\u001b[32m[I 2022-11-22 22:13:24,290]\u001b[0m Trial 135 finished with value: 0.47570090914882346 and parameters: {'scaler': 'min_max', 'is_var_thres': 'var_thres', 'vthreshold': 0.0006000000000000001, 'dim_red': 'PCA', 'pca_n_components': 40, 'n_layers': 1, 'n_units_0': 77, 'activation': 'tanh', 'solver': 'sgd'}. Best is trial 78 with value: 0.48727313669236716.\u001b[0m\n",
      "\u001b[32m[I 2022-11-22 22:14:17,226]\u001b[0m Trial 136 finished with value: 0.4755802202567751 and parameters: {'scaler': 'min_max', 'is_var_thres': 'var_thres', 'vthreshold': 0.0006000000000000001, 'dim_red': 'PCA', 'pca_n_components': 45, 'n_layers': 1, 'n_units_0': 63, 'activation': 'tanh', 'solver': 'sgd'}. Best is trial 78 with value: 0.48727313669236716.\u001b[0m\n",
      "\u001b[32m[I 2022-11-22 22:15:10,241]\u001b[0m Trial 137 finished with value: 0.4676226742184649 and parameters: {'scaler': 'min_max', 'is_var_thres': 'var_thres', 'vthreshold': 0.0007, 'dim_red': 'PCA', 'pca_n_components': 40, 'n_layers': 1, 'n_units_0': 67, 'activation': 'tanh', 'solver': 'sgd'}. Best is trial 78 with value: 0.48727313669236716.\u001b[0m\n",
      "\u001b[32m[I 2022-11-22 22:16:04,959]\u001b[0m Trial 138 finished with value: 0.47334910900364624 and parameters: {'scaler': 'min_max', 'is_var_thres': 'var_thres', 'vthreshold': 0.0007, 'dim_red': 'PCA', 'pca_n_components': 45, 'n_layers': 1, 'n_units_0': 69, 'activation': 'tanh', 'solver': 'sgd'}. Best is trial 78 with value: 0.48727313669236716.\u001b[0m\n",
      "\u001b[32m[I 2022-11-22 22:17:23,424]\u001b[0m Trial 139 finished with value: 0.4819523152802815 and parameters: {'scaler': 'min_max', 'is_var_thres': None, 'dim_red': 'PCA', 'pca_n_components': 50, 'n_layers': 1, 'n_units_0': 71, 'activation': 'relu', 'solver': 'sgd'}. Best is trial 78 with value: 0.48727313669236716.\u001b[0m\n",
      "\u001b[32m[I 2022-11-22 22:19:01,145]\u001b[0m Trial 140 finished with value: 0.46771049812438437 and parameters: {'scaler': 'min_max', 'is_var_thres': None, 'dim_red': 'PCA', 'pca_n_components': 50, 'n_layers': 1, 'n_units_0': 72, 'activation': 'relu', 'solver': 'sgd'}. Best is trial 78 with value: 0.48727313669236716.\u001b[0m\n",
      "\u001b[32m[I 2022-11-22 22:20:42,157]\u001b[0m Trial 141 finished with value: 0.4705999011928304 and parameters: {'scaler': 'min_max', 'is_var_thres': None, 'dim_red': 'PCA', 'pca_n_components': 50, 'n_layers': 1, 'n_units_0': 67, 'activation': 'relu', 'solver': 'sgd'}. Best is trial 78 with value: 0.48727313669236716.\u001b[0m\n",
      "/opt/conda/lib/python3.7/site-packages/sklearn/neural_network/_multilayer_perceptron.py:696: ConvergenceWarning: Stochastic Optimizer: Maximum iterations (1200) reached and the optimization hasn't converged yet.\n",
      "  ConvergenceWarning,\n",
      "\u001b[32m[I 2022-11-22 22:22:18,202]\u001b[0m Trial 142 finished with value: 0.47081443533151424 and parameters: {'scaler': 'min_max', 'is_var_thres': None, 'dim_red': 'PCA', 'pca_n_components': 45, 'n_layers': 1, 'n_units_0': 72, 'activation': 'relu', 'solver': 'sgd'}. Best is trial 78 with value: 0.48727313669236716.\u001b[0m\n",
      "/opt/conda/lib/python3.7/site-packages/sklearn/neural_network/_multilayer_perceptron.py:696: ConvergenceWarning: Stochastic Optimizer: Maximum iterations (1200) reached and the optimization hasn't converged yet.\n",
      "  ConvergenceWarning,\n",
      "\u001b[32m[I 2022-11-22 22:24:12,514]\u001b[0m Trial 143 finished with value: 0.4611368521250519 and parameters: {'scaler': 'min_max', 'is_var_thres': None, 'dim_red': 'PCA', 'pca_n_components': 50, 'n_layers': 1, 'n_units_0': 70, 'activation': 'relu', 'solver': 'sgd'}. Best is trial 78 with value: 0.48727313669236716.\u001b[0m\n",
      "\u001b[32m[I 2022-11-22 22:25:40,329]\u001b[0m Trial 144 finished with value: 0.4837392598033229 and parameters: {'scaler': 'min_max', 'is_var_thres': None, 'dim_red': 'PCA', 'pca_n_components': 50, 'n_layers': 1, 'n_units_0': 74, 'activation': 'relu', 'solver': 'sgd'}. Best is trial 78 with value: 0.48727313669236716.\u001b[0m\n",
      "/opt/conda/lib/python3.7/site-packages/sklearn/neural_network/_multilayer_perceptron.py:696: ConvergenceWarning: Stochastic Optimizer: Maximum iterations (1200) reached and the optimization hasn't converged yet.\n",
      "  ConvergenceWarning,\n",
      "/opt/conda/lib/python3.7/site-packages/sklearn/neural_network/_multilayer_perceptron.py:696: ConvergenceWarning: Stochastic Optimizer: Maximum iterations (1200) reached and the optimization hasn't converged yet.\n",
      "  ConvergenceWarning,\n",
      "\u001b[32m[I 2022-11-22 22:27:17,597]\u001b[0m Trial 145 finished with value: 0.46685807966963405 and parameters: {'scaler': 'min_max', 'is_var_thres': None, 'dim_red': 'PCA', 'pca_n_components': 50, 'n_layers': 1, 'n_units_0': 76, 'activation': 'relu', 'solver': 'sgd'}. Best is trial 78 with value: 0.48727313669236716.\u001b[0m\n",
      "\u001b[32m[I 2022-11-22 22:29:15,008]\u001b[0m Trial 146 finished with value: 0.4688782946007507 and parameters: {'scaler': 'min_max', 'is_var_thres': None, 'dim_red': 'PCA', 'pca_n_components': 50, 'n_layers': 1, 'n_units_0': 81, 'activation': 'relu', 'solver': 'sgd'}. Best is trial 78 with value: 0.48727313669236716.\u001b[0m\n",
      "\u001b[32m[I 2022-11-22 22:30:54,977]\u001b[0m Trial 147 finished with value: 0.42765656922132517 and parameters: {'scaler': 'standard', 'is_var_thres': None, 'dim_red': 'PCA', 'pca_n_components': 50, 'n_layers': 1, 'n_units_0': 71, 'activation': 'relu', 'solver': 'sgd'}. Best is trial 78 with value: 0.48727313669236716.\u001b[0m\n",
      "/opt/conda/lib/python3.7/site-packages/sklearn/neural_network/_multilayer_perceptron.py:696: ConvergenceWarning: Stochastic Optimizer: Maximum iterations (1200) reached and the optimization hasn't converged yet.\n",
      "  ConvergenceWarning,\n",
      "\u001b[32m[I 2022-11-22 22:32:33,016]\u001b[0m Trial 148 finished with value: 0.4656563650176634 and parameters: {'scaler': 'min_max', 'is_var_thres': None, 'dim_red': 'PCA', 'pca_n_components': 45, 'n_layers': 1, 'n_units_0': 61, 'activation': 'relu', 'solver': 'sgd'}. Best is trial 78 with value: 0.48727313669236716.\u001b[0m\n",
      "/opt/conda/lib/python3.7/site-packages/sklearn/neural_network/_multilayer_perceptron.py:696: ConvergenceWarning: Stochastic Optimizer: Maximum iterations (1200) reached and the optimization hasn't converged yet.\n",
      "  ConvergenceWarning,\n",
      "/opt/conda/lib/python3.7/site-packages/sklearn/neural_network/_multilayer_perceptron.py:696: ConvergenceWarning: Stochastic Optimizer: Maximum iterations (1200) reached and the optimization hasn't converged yet.\n",
      "  ConvergenceWarning,\n",
      "\u001b[32m[I 2022-11-22 22:34:10,875]\u001b[0m Trial 149 finished with value: 0.4679678804167745 and parameters: {'scaler': 'min_max', 'is_var_thres': None, 'dim_red': 'PCA', 'pca_n_components': 40, 'n_layers': 1, 'n_units_0': 69, 'activation': 'relu', 'solver': 'sgd'}. Best is trial 78 with value: 0.48727313669236716.\u001b[0m\n",
      "\u001b[32m[I 2022-11-22 22:35:50,242]\u001b[0m Trial 150 finished with value: 0.47313737972220943 and parameters: {'scaler': 'min_max', 'is_var_thres': None, 'dim_red': 'PCA', 'pca_n_components': 50, 'n_layers': 1, 'n_units_0': 76, 'activation': 'relu', 'solver': 'sgd'}. Best is trial 78 with value: 0.48727313669236716.\u001b[0m\n",
      "/opt/conda/lib/python3.7/site-packages/sklearn/neural_network/_multilayer_perceptron.py:696: ConvergenceWarning: Stochastic Optimizer: Maximum iterations (1200) reached and the optimization hasn't converged yet.\n",
      "  ConvergenceWarning,\n",
      "/opt/conda/lib/python3.7/site-packages/sklearn/neural_network/_multilayer_perceptron.py:696: ConvergenceWarning: Stochastic Optimizer: Maximum iterations (1200) reached and the optimization hasn't converged yet.\n",
      "  ConvergenceWarning,\n",
      "/opt/conda/lib/python3.7/site-packages/sklearn/neural_network/_multilayer_perceptron.py:696: ConvergenceWarning: Stochastic Optimizer: Maximum iterations (1200) reached and the optimization hasn't converged yet.\n",
      "  ConvergenceWarning,\n",
      "/opt/conda/lib/python3.7/site-packages/sklearn/neural_network/_multilayer_perceptron.py:696: ConvergenceWarning: Stochastic Optimizer: Maximum iterations (1200) reached and the optimization hasn't converged yet.\n",
      "  ConvergenceWarning,\n",
      "/opt/conda/lib/python3.7/site-packages/sklearn/neural_network/_multilayer_perceptron.py:696: ConvergenceWarning: Stochastic Optimizer: Maximum iterations (1200) reached and the optimization hasn't converged yet.\n",
      "  ConvergenceWarning,\n",
      "/opt/conda/lib/python3.7/site-packages/sklearn/neural_network/_multilayer_perceptron.py:696: ConvergenceWarning: Stochastic Optimizer: Maximum iterations (1200) reached and the optimization hasn't converged yet.\n",
      "  ConvergenceWarning,\n",
      "/opt/conda/lib/python3.7/site-packages/sklearn/neural_network/_multilayer_perceptron.py:696: ConvergenceWarning: Stochastic Optimizer: Maximum iterations (1200) reached and the optimization hasn't converged yet.\n",
      "  ConvergenceWarning,\n",
      "/opt/conda/lib/python3.7/site-packages/sklearn/neural_network/_multilayer_perceptron.py:696: ConvergenceWarning: Stochastic Optimizer: Maximum iterations (1200) reached and the optimization hasn't converged yet.\n",
      "  ConvergenceWarning,\n",
      "/opt/conda/lib/python3.7/site-packages/sklearn/neural_network/_multilayer_perceptron.py:696: ConvergenceWarning: Stochastic Optimizer: Maximum iterations (1200) reached and the optimization hasn't converged yet.\n",
      "  ConvergenceWarning,\n",
      "/opt/conda/lib/python3.7/site-packages/sklearn/neural_network/_multilayer_perceptron.py:696: ConvergenceWarning: Stochastic Optimizer: Maximum iterations (1200) reached and the optimization hasn't converged yet.\n",
      "  ConvergenceWarning,\n",
      "\u001b[32m[I 2022-11-22 22:43:59,698]\u001b[0m Trial 151 finished with value: 0.451793699785661 and parameters: {'scaler': 'min_max', 'is_var_thres': 'var_thres', 'vthreshold': 0.0008, 'dim_red': 'PCA', 'pca_n_components': 45, 'n_layers': 3, 'n_units_0': 74, 'n_units_1': 74, 'n_units_2': 32, 'activation': 'tanh', 'solver': 'sgd'}. Best is trial 78 with value: 0.48727313669236716.\u001b[0m\n",
      "\u001b[32m[I 2022-11-22 22:44:58,930]\u001b[0m Trial 152 finished with value: 0.4729429626945362 and parameters: {'scaler': 'min_max', 'is_var_thres': 'var_thres', 'vthreshold': 0.0007, 'dim_red': 'PCA', 'pca_n_components': 50, 'n_layers': 1, 'n_units_0': 75, 'activation': 'tanh', 'solver': 'sgd'}. Best is trial 78 with value: 0.48727313669236716.\u001b[0m\n",
      "\u001b[32m[I 2022-11-22 22:46:28,336]\u001b[0m Trial 153 finished with value: 0.4678408977970114 and parameters: {'scaler': 'min_max', 'is_var_thres': 'var_thres', 'vthreshold': 0.0005, 'dim_red': None, 'n_layers': 1, 'n_units_0': 65, 'activation': 'tanh', 'solver': 'sgd'}. Best is trial 78 with value: 0.48727313669236716.\u001b[0m\n",
      "\u001b[32m[I 2022-11-22 22:47:54,022]\u001b[0m Trial 154 finished with value: 0.47050318199273244 and parameters: {'scaler': 'min_max', 'is_var_thres': 'var_thres', 'vthreshold': 0.0, 'dim_red': None, 'n_layers': 1, 'n_units_0': 59, 'activation': 'tanh', 'solver': 'sgd'}. Best is trial 78 with value: 0.48727313669236716.\u001b[0m\n",
      "\u001b[32m[I 2022-11-22 22:49:26,937]\u001b[0m Trial 155 finished with value: 0.47616918968099525 and parameters: {'scaler': 'min_max', 'is_var_thres': 'var_thres', 'vthreshold': 0.0008, 'dim_red': None, 'n_layers': 1, 'n_units_0': 56, 'activation': 'tanh', 'solver': 'sgd'}. Best is trial 78 with value: 0.48727313669236716.\u001b[0m\n",
      "\u001b[32m[I 2022-11-22 22:51:28,306]\u001b[0m Trial 156 finished with value: 0.47929320114593965 and parameters: {'scaler': 'min_max', 'is_var_thres': 'var_thres', 'vthreshold': 0.0008, 'dim_red': None, 'n_layers': 1, 'n_units_0': 79, 'activation': 'tanh', 'solver': 'sgd'}. Best is trial 78 with value: 0.48727313669236716.\u001b[0m\n",
      "\u001b[32m[I 2022-11-22 22:54:48,531]\u001b[0m Trial 157 finished with value: 0.4597982448273304 and parameters: {'scaler': 'standard', 'is_var_thres': 'var_thres', 'vthreshold': 0.0009000000000000001, 'dim_red': 'PCA', 'pca_n_components': 40, 'n_layers': 1, 'n_units_0': 79, 'activation': 'tanh', 'solver': 'sgd'}. Best is trial 78 with value: 0.48727313669236716.\u001b[0m\n",
      "/opt/conda/lib/python3.7/site-packages/sklearn/neural_network/_multilayer_perceptron.py:696: ConvergenceWarning: Stochastic Optimizer: Maximum iterations (1200) reached and the optimization hasn't converged yet.\n",
      "  ConvergenceWarning,\n",
      "/opt/conda/lib/python3.7/site-packages/sklearn/neural_network/_multilayer_perceptron.py:696: ConvergenceWarning: Stochastic Optimizer: Maximum iterations (1200) reached and the optimization hasn't converged yet.\n",
      "  ConvergenceWarning,\n",
      "/opt/conda/lib/python3.7/site-packages/sklearn/neural_network/_multilayer_perceptron.py:696: ConvergenceWarning: Stochastic Optimizer: Maximum iterations (1200) reached and the optimization hasn't converged yet.\n",
      "  ConvergenceWarning,\n",
      "/opt/conda/lib/python3.7/site-packages/sklearn/neural_network/_multilayer_perceptron.py:696: ConvergenceWarning: Stochastic Optimizer: Maximum iterations (1200) reached and the optimization hasn't converged yet.\n",
      "  ConvergenceWarning,\n",
      "/opt/conda/lib/python3.7/site-packages/sklearn/neural_network/_multilayer_perceptron.py:696: ConvergenceWarning: Stochastic Optimizer: Maximum iterations (1200) reached and the optimization hasn't converged yet.\n",
      "  ConvergenceWarning,\n",
      "\u001b[32m[I 2022-11-22 22:56:40,944]\u001b[0m Trial 158 finished with value: 0.46011742537016254 and parameters: {'scaler': 'min_max', 'is_var_thres': 'var_thres', 'vthreshold': 0.0008, 'dim_red': None, 'n_layers': 1, 'n_units_0': 55, 'activation': 'relu', 'solver': 'sgd'}. Best is trial 78 with value: 0.48727313669236716.\u001b[0m\n",
      "\u001b[32m[I 2022-11-22 22:58:28,444]\u001b[0m Trial 159 finished with value: 0.46707343358879283 and parameters: {'scaler': 'min_max', 'is_var_thres': 'var_thres', 'vthreshold': 0.0008, 'dim_red': None, 'n_layers': 1, 'n_units_0': 79, 'activation': 'tanh', 'solver': 'sgd'}. Best is trial 78 with value: 0.48727313669236716.\u001b[0m\n",
      "/opt/conda/lib/python3.7/site-packages/sklearn/neural_network/_multilayer_perceptron.py:696: ConvergenceWarning: Stochastic Optimizer: Maximum iterations (1200) reached and the optimization hasn't converged yet.\n",
      "  ConvergenceWarning,\n",
      "\u001b[32m[I 2022-11-22 23:01:26,549]\u001b[0m Trial 160 finished with value: 0.37309692604666134 and parameters: {'scaler': 'min_max', 'is_var_thres': None, 'dim_red': None, 'n_layers': 1, 'n_units_0': 50, 'activation': 'tanh', 'solver': 'adam'}. Best is trial 78 with value: 0.48727313669236716.\u001b[0m\n",
      "\u001b[32m[I 2022-11-22 23:03:32,489]\u001b[0m Trial 161 finished with value: 0.45988843585119693 and parameters: {'scaler': 'min_max', 'is_var_thres': 'var_thres', 'vthreshold': 0.0008, 'dim_red': None, 'n_layers': 1, 'n_units_0': 86, 'activation': 'tanh', 'solver': 'sgd'}. Best is trial 78 with value: 0.48727313669236716.\u001b[0m\n",
      "\u001b[32m[I 2022-11-22 23:05:17,127]\u001b[0m Trial 162 finished with value: 0.45870355815898894 and parameters: {'scaler': 'min_max', 'is_var_thres': 'var_thres', 'vthreshold': 0.0009000000000000001, 'dim_red': None, 'n_layers': 1, 'n_units_0': 83, 'activation': 'tanh', 'solver': 'sgd'}. Best is trial 78 with value: 0.48727313669236716.\u001b[0m\n",
      "\u001b[32m[I 2022-11-22 23:06:53,896]\u001b[0m Trial 163 finished with value: 0.46822739125991814 and parameters: {'scaler': 'min_max', 'is_var_thres': 'var_thres', 'vthreshold': 0.0007, 'dim_red': None, 'n_layers': 1, 'n_units_0': 74, 'activation': 'tanh', 'solver': 'sgd'}. Best is trial 78 with value: 0.48727313669236716.\u001b[0m\n",
      "\u001b[32m[I 2022-11-22 23:08:27,746]\u001b[0m Trial 164 finished with value: 0.4701667203591164 and parameters: {'scaler': 'min_max', 'is_var_thres': 'var_thres', 'vthreshold': 0.0006000000000000001, 'dim_red': None, 'n_layers': 1, 'n_units_0': 71, 'activation': 'tanh', 'solver': 'sgd'}. Best is trial 78 with value: 0.48727313669236716.\u001b[0m\n",
      "\u001b[32m[I 2022-11-22 23:09:24,499]\u001b[0m Trial 165 finished with value: 0.4610602891172654 and parameters: {'scaler': 'min_max', 'is_var_thres': 'var_thres', 'vthreshold': 0.0008, 'dim_red': None, 'n_layers': 1, 'n_units_0': 13, 'activation': 'tanh', 'solver': 'sgd'}. Best is trial 78 with value: 0.48727313669236716.\u001b[0m\n",
      "\u001b[32m[I 2022-11-22 23:11:02,531]\u001b[0m Trial 166 finished with value: 0.47042821060158985 and parameters: {'scaler': 'min_max', 'is_var_thres': 'var_thres', 'vthreshold': 0.0004, 'dim_red': None, 'n_layers': 1, 'n_units_0': 68, 'activation': 'tanh', 'solver': 'sgd'}. Best is trial 78 with value: 0.48727313669236716.\u001b[0m\n",
      "\u001b[32m[I 2022-11-22 23:12:48,756]\u001b[0m Trial 167 finished with value: 0.4352097109786959 and parameters: {'scaler': 'standard', 'is_var_thres': 'var_thres', 'vthreshold': 0.0008, 'dim_red': 'PCA', 'pca_n_components': 35, 'n_layers': 1, 'n_units_0': 55, 'activation': 'relu', 'solver': 'sgd'}. Best is trial 78 with value: 0.48727313669236716.\u001b[0m\n",
      "\u001b[32m[I 2022-11-22 23:14:44,740]\u001b[0m Trial 168 finished with value: 0.46517110583729 and parameters: {'scaler': 'min_max', 'is_var_thres': 'var_thres', 'vthreshold': 0.0008, 'dim_red': None, 'n_layers': 1, 'n_units_0': 79, 'activation': 'tanh', 'solver': 'sgd'}. Best is trial 78 with value: 0.48727313669236716.\u001b[0m\n",
      "\u001b[32m[I 2022-11-22 23:19:37,953]\u001b[0m Trial 169 finished with value: 0.46014016918113604 and parameters: {'scaler': 'min_max', 'is_var_thres': 'var_thres', 'vthreshold': 0.0009000000000000001, 'dim_red': None, 'n_layers': 5, 'n_units_0': 94, 'n_units_1': 60, 'n_units_2': 99, 'n_units_3': 78, 'n_units_4': 12, 'activation': 'tanh', 'solver': 'sgd'}. Best is trial 78 with value: 0.48727313669236716.\u001b[0m\n",
      "\u001b[32m[I 2022-11-22 23:20:28,873]\u001b[0m Trial 170 finished with value: 0.4684063072160535 and parameters: {'scaler': 'min_max', 'is_var_thres': 'var_thres', 'vthreshold': 0.0002, 'dim_red': None, 'n_layers': 1, 'n_units_0': 16, 'activation': 'tanh', 'solver': 'sgd'}. Best is trial 78 with value: 0.48727313669236716.\u001b[0m\n",
      "\u001b[32m[I 2022-11-22 23:21:36,574]\u001b[0m Trial 171 finished with value: 0.47538932143034174 and parameters: {'scaler': 'min_max', 'is_var_thres': 'var_thres', 'vthreshold': 0.0, 'dim_red': None, 'n_layers': 1, 'n_units_0': 32, 'activation': 'tanh', 'solver': 'sgd'}. Best is trial 78 with value: 0.48727313669236716.\u001b[0m\n",
      "\u001b[32m[I 2022-11-22 23:23:35,392]\u001b[0m Trial 172 finished with value: 0.46379936650495523 and parameters: {'scaler': 'min_max', 'is_var_thres': 'var_thres', 'vthreshold': 0.0005, 'dim_red': None, 'n_layers': 1, 'n_units_0': 98, 'activation': 'tanh', 'solver': 'sgd'}. Best is trial 78 with value: 0.48727313669236716.\u001b[0m\n",
      "\u001b[32m[I 2022-11-22 23:24:38,787]\u001b[0m Trial 173 finished with value: 0.4680556610494137 and parameters: {'scaler': 'min_max', 'is_var_thres': 'var_thres', 'vthreshold': 0.0, 'dim_red': None, 'n_layers': 1, 'n_units_0': 29, 'activation': 'tanh', 'solver': 'sgd'}. Best is trial 78 with value: 0.48727313669236716.\u001b[0m\n",
      "\u001b[32m[I 2022-11-22 23:25:50,520]\u001b[0m Trial 174 finished with value: 0.46698488489521867 and parameters: {'scaler': 'min_max', 'is_var_thres': 'var_thres', 'vthreshold': 0.0001, 'dim_red': None, 'n_layers': 1, 'n_units_0': 35, 'activation': 'tanh', 'solver': 'sgd'}. Best is trial 78 with value: 0.48727313669236716.\u001b[0m\n",
      "\u001b[32m[I 2022-11-22 23:27:35,535]\u001b[0m Trial 175 finished with value: 0.46494056293819863 and parameters: {'scaler': 'min_max', 'is_var_thres': 'var_thres', 'vthreshold': 0.0, 'dim_red': None, 'n_layers': 1, 'n_units_0': 65, 'activation': 'tanh', 'solver': 'sgd'}. Best is trial 78 with value: 0.48727313669236716.\u001b[0m\n",
      "\u001b[32m[I 2022-11-22 23:28:55,432]\u001b[0m Trial 176 finished with value: 0.4776212232707504 and parameters: {'scaler': 'min_max', 'is_var_thres': 'var_thres', 'vthreshold': 0.0001, 'dim_red': 'PCA', 'pca_n_components': 45, 'n_layers': 1, 'n_units_0': 62, 'activation': 'relu', 'solver': 'sgd'}. Best is trial 78 with value: 0.48727313669236716.\u001b[0m\n",
      "\u001b[32m[I 2022-11-22 23:30:10,715]\u001b[0m Trial 177 finished with value: 0.47967722333581975 and parameters: {'scaler': 'min_max', 'is_var_thres': 'var_thres', 'vthreshold': 0.0001, 'dim_red': 'PCA', 'pca_n_components': 45, 'n_layers': 1, 'n_units_0': 62, 'activation': 'relu', 'solver': 'sgd'}. Best is trial 78 with value: 0.48727313669236716.\u001b[0m\n",
      "\u001b[32m[I 2022-11-22 23:31:35,082]\u001b[0m Trial 178 finished with value: 0.4718561832240158 and parameters: {'scaler': 'min_max', 'is_var_thres': 'var_thres', 'vthreshold': 0.0001, 'dim_red': 'PCA', 'pca_n_components': 45, 'n_layers': 1, 'n_units_0': 57, 'activation': 'relu', 'solver': 'sgd'}. Best is trial 78 with value: 0.48727313669236716.\u001b[0m\n",
      "\u001b[32m[I 2022-11-22 23:33:15,911]\u001b[0m Trial 179 finished with value: 0.4654467282269894 and parameters: {'scaler': 'standard', 'is_var_thres': 'var_thres', 'vthreshold': 0.0001, 'dim_red': 'PCA', 'pca_n_components': 45, 'n_layers': 1, 'n_units_0': 61, 'activation': 'relu', 'solver': 'sgd'}. Best is trial 78 with value: 0.48727313669236716.\u001b[0m\n",
      "\u001b[32m[I 2022-11-22 23:34:49,429]\u001b[0m Trial 180 finished with value: 0.48443679125994593 and parameters: {'scaler': 'min_max', 'is_var_thres': None, 'dim_red': 'PCA', 'pca_n_components': 50, 'n_layers': 1, 'n_units_0': 63, 'activation': 'relu', 'solver': 'sgd'}. Best is trial 78 with value: 0.48727313669236716.\u001b[0m\n",
      "\u001b[32m[I 2022-11-22 23:36:16,446]\u001b[0m Trial 181 finished with value: 0.47943064852184014 and parameters: {'scaler': 'min_max', 'is_var_thres': None, 'dim_red': 'PCA', 'pca_n_components': 50, 'n_layers': 1, 'n_units_0': 63, 'activation': 'relu', 'solver': 'sgd'}. Best is trial 78 with value: 0.48727313669236716.\u001b[0m\n",
      "\u001b[32m[I 2022-11-22 23:37:40,237]\u001b[0m Trial 182 finished with value: 0.4779639510010985 and parameters: {'scaler': 'min_max', 'is_var_thres': None, 'dim_red': 'PCA', 'pca_n_components': 50, 'n_layers': 1, 'n_units_0': 64, 'activation': 'relu', 'solver': 'sgd'}. Best is trial 78 with value: 0.48727313669236716.\u001b[0m\n",
      "\u001b[32m[I 2022-11-22 23:39:12,629]\u001b[0m Trial 183 finished with value: 0.4603376806006968 and parameters: {'scaler': 'min_max', 'is_var_thres': None, 'dim_red': 'PCA', 'pca_n_components': 50, 'n_layers': 1, 'n_units_0': 64, 'activation': 'relu', 'solver': 'sgd'}. Best is trial 78 with value: 0.48727313669236716.\u001b[0m\n",
      "/opt/conda/lib/python3.7/site-packages/sklearn/neural_network/_multilayer_perceptron.py:696: ConvergenceWarning: Stochastic Optimizer: Maximum iterations (1200) reached and the optimization hasn't converged yet.\n",
      "  ConvergenceWarning,\n",
      "\u001b[32m[I 2022-11-22 23:40:37,771]\u001b[0m Trial 184 finished with value: 0.47289207253829524 and parameters: {'scaler': 'min_max', 'is_var_thres': None, 'dim_red': 'PCA', 'pca_n_components': 50, 'n_layers': 1, 'n_units_0': 62, 'activation': 'relu', 'solver': 'sgd'}. Best is trial 78 with value: 0.48727313669236716.\u001b[0m\n",
      "\u001b[32m[I 2022-11-22 23:41:53,532]\u001b[0m Trial 185 finished with value: 0.4727263232488113 and parameters: {'scaler': 'min_max', 'is_var_thres': None, 'dim_red': 'PCA', 'pca_n_components': 50, 'n_layers': 1, 'n_units_0': 62, 'activation': 'relu', 'solver': 'sgd'}. Best is trial 78 with value: 0.48727313669236716.\u001b[0m\n",
      "\u001b[32m[I 2022-11-22 23:43:22,248]\u001b[0m Trial 186 finished with value: 0.4849981806683701 and parameters: {'scaler': 'min_max', 'is_var_thres': None, 'dim_red': 'PCA', 'pca_n_components': 45, 'n_layers': 1, 'n_units_0': 66, 'activation': 'relu', 'solver': 'sgd'}. Best is trial 78 with value: 0.48727313669236716.\u001b[0m\n",
      "\u001b[32m[I 2022-11-22 23:44:40,544]\u001b[0m Trial 187 finished with value: 0.470514702281037 and parameters: {'scaler': 'min_max', 'is_var_thres': None, 'dim_red': 'PCA', 'pca_n_components': 45, 'n_layers': 1, 'n_units_0': 59, 'activation': 'relu', 'solver': 'sgd'}. Best is trial 78 with value: 0.48727313669236716.\u001b[0m\n",
      "\u001b[32m[I 2022-11-22 23:46:00,225]\u001b[0m Trial 188 finished with value: 0.48554486703855176 and parameters: {'scaler': 'min_max', 'is_var_thres': None, 'dim_red': 'PCA', 'pca_n_components': 45, 'n_layers': 1, 'n_units_0': 63, 'activation': 'relu', 'solver': 'sgd'}. Best is trial 78 with value: 0.48727313669236716.\u001b[0m\n",
      "\u001b[32m[I 2022-11-22 23:46:57,794]\u001b[0m Trial 189 finished with value: 0.27998470154910493 and parameters: {'scaler': 'min_max', 'is_var_thres': None, 'dim_red': 'PCA', 'pca_n_components': 50, 'n_layers': 1, 'n_units_0': 67, 'activation': 'relu', 'solver': 'adam'}. Best is trial 78 with value: 0.48727313669236716.\u001b[0m\n",
      "\u001b[32m[I 2022-11-22 23:50:51,955]\u001b[0m Trial 190 finished with value: 0.29055790227109035 and parameters: {'scaler': 'min_max', 'is_var_thres': None, 'dim_red': 'PCA', 'pca_n_components': 45, 'n_layers': 4, 'n_units_0': 64, 'n_units_1': 87, 'n_units_2': 19, 'n_units_3': 55, 'activation': 'relu', 'solver': 'sgd'}. Best is trial 78 with value: 0.48727313669236716.\u001b[0m\n",
      "/opt/conda/lib/python3.7/site-packages/sklearn/neural_network/_multilayer_perceptron.py:696: ConvergenceWarning: Stochastic Optimizer: Maximum iterations (1200) reached and the optimization hasn't converged yet.\n",
      "  ConvergenceWarning,\n",
      "\u001b[32m[I 2022-11-22 23:52:29,974]\u001b[0m Trial 191 finished with value: 0.4618543039743629 and parameters: {'scaler': 'min_max', 'is_var_thres': None, 'dim_red': 'PCA', 'pca_n_components': 45, 'n_layers': 1, 'n_units_0': 66, 'activation': 'relu', 'solver': 'sgd'}. Best is trial 78 with value: 0.48727313669236716.\u001b[0m\n",
      "/opt/conda/lib/python3.7/site-packages/sklearn/neural_network/_multilayer_perceptron.py:696: ConvergenceWarning: Stochastic Optimizer: Maximum iterations (1200) reached and the optimization hasn't converged yet.\n",
      "  ConvergenceWarning,\n",
      "\u001b[32m[I 2022-11-22 23:53:49,107]\u001b[0m Trial 192 finished with value: 0.473968313182443 and parameters: {'scaler': 'min_max', 'is_var_thres': None, 'dim_red': 'PCA', 'pca_n_components': 45, 'n_layers': 1, 'n_units_0': 62, 'activation': 'relu', 'solver': 'sgd'}. Best is trial 78 with value: 0.48727313669236716.\u001b[0m\n",
      "\u001b[32m[I 2022-11-22 23:55:19,123]\u001b[0m Trial 193 finished with value: 0.48484233598450127 and parameters: {'scaler': 'min_max', 'is_var_thres': None, 'dim_red': 'PCA', 'pca_n_components': 50, 'n_layers': 1, 'n_units_0': 63, 'activation': 'relu', 'solver': 'sgd'}. Best is trial 78 with value: 0.48727313669236716.\u001b[0m\n",
      "\u001b[32m[I 2022-11-22 23:56:44,182]\u001b[0m Trial 194 finished with value: 0.46956539147514303 and parameters: {'scaler': 'min_max', 'is_var_thres': None, 'dim_red': 'PCA', 'pca_n_components': 50, 'n_layers': 1, 'n_units_0': 68, 'activation': 'relu', 'solver': 'sgd'}. Best is trial 78 with value: 0.48727313669236716.\u001b[0m\n",
      "/opt/conda/lib/python3.7/site-packages/sklearn/neural_network/_multilayer_perceptron.py:696: ConvergenceWarning: Stochastic Optimizer: Maximum iterations (1200) reached and the optimization hasn't converged yet.\n",
      "  ConvergenceWarning,\n",
      "\u001b[32m[I 2022-11-22 23:58:12,756]\u001b[0m Trial 195 finished with value: 0.4702343461127637 and parameters: {'scaler': 'min_max', 'is_var_thres': None, 'dim_red': 'PCA', 'pca_n_components': 50, 'n_layers': 1, 'n_units_0': 64, 'activation': 'relu', 'solver': 'sgd'}. Best is trial 78 with value: 0.48727313669236716.\u001b[0m\n",
      "\u001b[32m[I 2022-11-22 23:59:46,846]\u001b[0m Trial 196 finished with value: 0.3954811610592021 and parameters: {'scaler': 'standard', 'is_var_thres': None, 'dim_red': 'PCA', 'pca_n_components': 50, 'n_layers': 1, 'n_units_0': 59, 'activation': 'relu', 'solver': 'sgd'}. Best is trial 78 with value: 0.48727313669236716.\u001b[0m\n",
      "\u001b[32m[I 2022-11-23 00:01:22,397]\u001b[0m Trial 197 finished with value: 0.4889201875646757 and parameters: {'scaler': 'min_max', 'is_var_thres': None, 'dim_red': 'PCA', 'pca_n_components': 50, 'n_layers': 1, 'n_units_0': 71, 'activation': 'relu', 'solver': 'sgd'}. Best is trial 197 with value: 0.4889201875646757.\u001b[0m\n",
      "/opt/conda/lib/python3.7/site-packages/sklearn/neural_network/_multilayer_perceptron.py:696: ConvergenceWarning: Stochastic Optimizer: Maximum iterations (1200) reached and the optimization hasn't converged yet.\n",
      "  ConvergenceWarning,\n",
      "\u001b[32m[I 2022-11-23 00:03:16,373]\u001b[0m Trial 198 finished with value: 0.4728322186479839 and parameters: {'scaler': 'min_max', 'is_var_thres': None, 'dim_red': 'PCA', 'pca_n_components': 50, 'n_layers': 1, 'n_units_0': 72, 'activation': 'relu', 'solver': 'sgd'}. Best is trial 197 with value: 0.4889201875646757.\u001b[0m\n",
      "/opt/conda/lib/python3.7/site-packages/sklearn/neural_network/_multilayer_perceptron.py:696: ConvergenceWarning: Stochastic Optimizer: Maximum iterations (1200) reached and the optimization hasn't converged yet.\n",
      "  ConvergenceWarning,\n",
      "\u001b[32m[I 2022-11-23 00:05:02,071]\u001b[0m Trial 199 finished with value: 0.47422445000141195 and parameters: {'scaler': 'min_max', 'is_var_thres': None, 'dim_red': 'PCA', 'pca_n_components': 50, 'n_layers': 1, 'n_units_0': 70, 'activation': 'relu', 'solver': 'sgd'}. Best is trial 197 with value: 0.4889201875646757.\u001b[0m\n"
     ]
    },
    {
     "name": "stdout",
     "output_type": "stream",
     "text": [
      "time spent optimizing: 22012.110318899155\n"
     ]
    }
   ],
   "source": [
    "# optimization with optuna\n",
    "import time\n",
    "import optuna\n",
    "\n",
    "\n",
    "def objective(trial):\n",
    "    # -- Scalers --\n",
    "    scalers = trial.suggest_categorical('scaler',['min_max', 'standard'])\n",
    "    if scalers == 'min_max':\n",
    "        scaler = preprocessing.MinMaxScaler()\n",
    "    else:\n",
    "        scaler = StandardScaler()\n",
    "        \n",
    "    # -- Dimensionality reduction: variance threshold --\n",
    "    is_var_thres = trial.suggest_categorical('is_var_thres', ['var_thres', None])\n",
    "    if is_var_thres == 'var_thres':\n",
    "        vthreshold = trial.suggest_float('vthreshold', 0, 0.001, step=0.0001)\n",
    "        selector = VarianceThreshold(threshold=vthreshold)\n",
    "    else:\n",
    "        selector = 'passthrough'\n",
    "    \n",
    "\n",
    "    # -- random oversampler --\n",
    "    ros = RandomOverSampler()\n",
    "       \n",
    "    \n",
    "    # -- initialize dimensionality reduction --\n",
    "    dim_red = trial.suggest_categorical('dim_red',['PCA',None])\n",
    "    \n",
    "    # -- Define PCA hyperparameters --\n",
    "    if dim_red == 'PCA':\n",
    "        pca_n_components=trial.suggest_int('pca_n_components', 25, 50, 5)\n",
    "        dimen_reduction_algo = PCA(n_components=pca_n_components)\n",
    "    else:\n",
    "        dimen_reduction_algo = 'passthrough'\n",
    "        \n",
    "    ## -- Classifier (MLP) --\n",
    "    # hidden layers\n",
    "    n_layers = trial.suggest_int('n_layers', 1 ,7)\n",
    "    layers = []\n",
    "    for i in range(n_layers):\n",
    "        layers.append(trial.suggest_int(f'n_units_{i}', 10, 100))\n",
    "    \n",
    "    # activation\n",
    "    activation = trial.suggest_categorical('activation', ['tanh', 'relu'])\n",
    "    \n",
    "    # solver\n",
    "    solver = trial.suggest_categorical('solver', ['sgd', 'adam'])\n",
    "    \n",
    "    # alpha\n",
    "    # learning rate\n",
    "    \n",
    "    clf = MLPClassifier(hidden_layer_sizes=tuple(layers), activation=activation, solver=solver, max_iter=1200)\n",
    "   \n",
    "    # -- Make pipeline --\n",
    "    # sequence depends on the chosen scaler\n",
    "    if scalers == 'min_max':\n",
    "        pipe = Pipeline(steps=[('scaler',scaler),\n",
    "                           ('selector', selector),\n",
    "                           ('sampler', ros),\n",
    "                           ('dimen_reduction', dimen_reduction_algo),\n",
    "                           ('mlp', clf)\n",
    "                          ])\n",
    "    else:\n",
    "        pipe = Pipeline(steps=[('selector', selector),\n",
    "                           ('scaler',scaler),\n",
    "                           ('sampler', ros),\n",
    "                           ('dimen_reduction', dimen_reduction_algo),\n",
    "                           ('mlp', clf)\n",
    "                          ])\n",
    "    # evaluate \n",
    "    score = cross_val_score(pipe, train, train_labels, scoring=f2_scorer,n_jobs=-1, error_score=0.0, cv=cv) \n",
    "    f1_mean = score.mean()\n",
    "    return f1_mean\n",
    "    \n",
    "study = optuna.create_study(direction='maximize')\n",
    "start_time=time.time()\n",
    "study.optimize(objective, n_trials=200)\n",
    "print(\"time spent optimizing: \" + str(time.time()-start_time))"
   ]
  },
  {
   "cell_type": "code",
   "execution_count": 52,
   "metadata": {
    "execution": {
     "iopub.execute_input": "2022-11-23T08:44:01.935088Z",
     "iopub.status.busy": "2022-11-23T08:44:01.934730Z",
     "iopub.status.idle": "2022-11-23T08:44:01.940414Z",
     "shell.execute_reply": "2022-11-23T08:44:01.939190Z",
     "shell.execute_reply.started": "2022-11-23T08:44:01.935064Z"
    }
   },
   "outputs": [],
   "source": [
    "# # print the best trials and their parameters\n",
    "\n",
    "# from IPython.display import display, Markdown, Latex\n",
    "\n",
    "# disp = \"\"\"\n",
    "# | Scaler | Use Variance Thr. | Vthreshold | Use PCA  | hidden layers | layer 0 units | Activation | Solver | F2-Score |\n",
    "# | :-: | :-: | :-: | :-: | :-: | :-: | :-: | :-: | :-: |\n",
    "# \"\"\"\n",
    "\n",
    "# for tr in study.trials:\n",
    "#     if tr.values[0] > 0.4:\n",
    "#         disp += '|' + str(tr.params['scaler']) + '|' + str(tr.params['is_var_thres']) + '|' + str(tr.params['vthreshold']) + '|' + str(tr.params['dim_red']) + \\\n",
    "#         '|' + str(tr.params['n_layers']) +  '|' + str(tr.params['n_units_0']) + '|' + str(tr.params['activation'])  + '|' + str(tr.params['solver'])  + '|' + str(tr.values[0]) + '|' +'\\n'\n",
    "        \n",
    "\n",
    "# display(Markdown(disp))"
   ]
  },
  {
   "cell_type": "markdown",
   "metadata": {},
   "source": [
    "Παρουσιάζουμε τα καλύτερα αποτελεσμάτων που πήραμε κάνοντας βελτιστοποίση ενός study ως προς το παραπάνω (γενικό) objective. Συγκεκριμένα παρουσιάζουμε τις υπερπαραμέτρους των ταξινομητών που πέτυχαν f2-score μεγαλύτερο από 0.48:"
   ]
  },
  {
   "cell_type": "markdown",
   "metadata": {},
   "source": [
    "| Scaler | Use Variance Thr. | Vthreshold | Use PCA | # PCA Components | hidden layers | layer 0 units | Activation | Solver | F2-Score |\n",
    "| :-: | :-: | :-: | :-: | :-: | :-: | :-: | :-: | :-: | :-: |\n",
    "|min_max|var_thres|0.0|None|None|1|33|tanh|sgd|0.48213313118021306 |\n",
    "|min_max|var_thres|0.0|None|None|1|28|tanh|sgd|0.48191475389855826  |\n",
    "|standard|var_thres|0.0|None|None|1|75|tanh|sgd| 0.48727313669236716  |\n",
    "|min_max|var_thres|0.0001|None|None|1|63|tanh|sgd|0.4828524122293967  |\n",
    "|min_max|var_thres|0.0005|PCA|45|1|35|relu|sgd|0.4811183599971162  |\n",
    "|min_max|None|None|PCA|50|1|71|relu|sgd|0.4819523152802815  |\n",
    "|min_max|None|None|PCA|50|1|74|relu|sgd|0.4837392598033229  |\n",
    "|min_max|None|None|PCA|50|1|63|relu|sgd|0.48443679125994593  |\n",
    "|min_max|None|None|PCA|45|1|66|relu|sgd|0.4849981806683701  |\n",
    "|min_max|None|None|PCA|45|1|63|relu|sgd|0.48554486703855176  |\n",
    "|min_max|None|None|PCA|50|1|63|relu|sgd|0.48484233598450127  |\n",
    "|min_max|None|None|PCA|50|1|71|relu|sgd|0.4889201875646757  |"
   ]
  },
  {
   "cell_type": "markdown",
   "metadata": {},
   "source": [
    "Μελετώντας τον παραπάνω πίνακα, εντοπίζουμε τις τιμές παραμέτρων που έδωσαν καλά αποτελέσματα. Στη συνέχεια θα κινηθούμε σε περιοχές γύρω από αυτές, πραγματοποιώντας ένα study σε ένα πιο \"_στενό_\" objective, για να πετύχουμε ακόμα καλύτερα αποτελέσματα. Οι παρατηρήσεις μας είναι οι εξής:\n",
    "\n",
    "* Σε όλες τις περιπτώσεις πλην μίας έχουμε **Standard Scaler**, συνεπώς είναι ασφαλές στο επόμενο objective να χρησιμοποιήσουμε μόνο αυτόν.\n",
    "* Το **Variance Threshold** είτε απουσιάζει τελείως, είτε κινείται σε μικρές τιμές, συνεπώς στο επόμενο objective θα μειώσουμε την μέγιστη τιμή, καθώς και το βήμα (άρα και την ακρίβεια που επιτρέπουμε)\n",
    "* Το **PCA** είτε απουσιάζει τελείως, είτε κινέιται στις τιμές 45-50, συνεπώς μπορούμε να επιτρέψουμε μεγαλύτερη ακρίβεια (να μειώσουμε το βήμα) γύρω από αυτές τις τιμές.\n",
    "* Σε όλες τις περιπτώσεις έχει επιλεγεί ένα μόνο **hidden layer**, συνεπώς δεν έχει νόημα να πειραματιστούμε με μεγάλες τιμές (θα επιτρέψουμε από 1 εως 3).\n",
    "* Ο **solver** που επιλέχθηκε σε όλες τις περιπτώσεις είναι ο Stochastic Gradient Descent (sgd) συνεπώς στην επόμενη απόπειρα βελτιστοποίησης θα χρησιμοποιήσουε μόνο αυτόν.\n",
    "* Επιπλέον παρατηρήσαμε ότι αρκετα trials του προηγούμενου Study απέτυχαν, γιατί εξαντλήθηκαν τα **iterations** πριν επιτευχθεί σύγκλιση, συνεπώς στο επόμενο objective θα επιτρέψουμε μεγαλύτερο αριθμό iterations."
   ]
  },
  {
   "cell_type": "code",
   "execution_count": 3,
   "metadata": {
    "execution": {
     "iopub.execute_input": "2022-11-30T08:22:17.595305Z",
     "iopub.status.busy": "2022-11-30T08:22:17.594925Z",
     "iopub.status.idle": "2022-11-30T08:22:17.599958Z",
     "shell.execute_reply": "2022-11-30T08:22:17.599075Z",
     "shell.execute_reply.started": "2022-11-30T08:22:17.595274Z"
    }
   },
   "outputs": [],
   "source": [
    "# # plot \n",
    "# fig = optuna.visualization.plot_param_importances(study)\n",
    "# fig.show()"
   ]
  },
  {
   "cell_type": "code",
   "execution_count": 89,
   "metadata": {
    "execution": {
     "iopub.execute_input": "2022-11-23T08:58:02.409946Z",
     "iopub.status.busy": "2022-11-23T08:58:02.409303Z",
     "iopub.status.idle": "2022-11-23T17:32:14.716870Z",
     "shell.execute_reply": "2022-11-23T17:32:14.714545Z",
     "shell.execute_reply.started": "2022-11-23T08:58:02.409881Z"
    }
   },
   "outputs": [
    {
     "name": "stderr",
     "output_type": "stream",
     "text": [
      "\u001b[32m[I 2022-11-23 08:58:02,421]\u001b[0m A new study created in memory with name: no-name-9e480698-4213-4ec0-bc0a-5a190d504a2a\u001b[0m\n",
      "\u001b[32m[I 2022-11-23 08:59:42,268]\u001b[0m Trial 0 finished with value: 0.46790655590678537 and parameters: {'is_var_thres': None, 'dim_red': None, 'n_layers': 1, 'n_units_0': 55, 'activation': 'relu'}. Best is trial 0 with value: 0.46790655590678537.\u001b[0m\n",
      "\u001b[32m[I 2022-11-23 09:02:04,200]\u001b[0m Trial 1 finished with value: 0.45805010072004004 and parameters: {'is_var_thres': None, 'dim_red': None, 'n_layers': 3, 'n_units_0': 38, 'n_units_1': 11, 'n_units_2': 71, 'activation': 'tanh'}. Best is trial 0 with value: 0.46790655590678537.\u001b[0m\n",
      "\u001b[32m[I 2022-11-23 09:04:38,508]\u001b[0m Trial 2 finished with value: 0.4699284897933988 and parameters: {'is_var_thres': 'var_thres', 'vthreshold': 0.00015000000000000001, 'dim_red': None, 'n_layers': 2, 'n_units_0': 83, 'n_units_1': 86, 'activation': 'tanh'}. Best is trial 2 with value: 0.4699284897933988.\u001b[0m\n",
      "\u001b[32m[I 2022-11-23 09:05:51,671]\u001b[0m Trial 3 finished with value: 0.46284885295255734 and parameters: {'is_var_thres': 'var_thres', 'vthreshold': 0.00032, 'dim_red': 'PCA', 'pca_n_components': 59, 'n_layers': 1, 'n_units_0': 72, 'activation': 'relu'}. Best is trial 2 with value: 0.4699284897933988.\u001b[0m\n",
      "\u001b[32m[I 2022-11-23 09:08:42,457]\u001b[0m Trial 4 finished with value: 0.4561610061778543 and parameters: {'is_var_thres': 'var_thres', 'vthreshold': 0.00017, 'dim_red': None, 'n_layers': 1, 'n_units_0': 106, 'activation': 'relu'}. Best is trial 2 with value: 0.4699284897933988.\u001b[0m\n",
      "\u001b[32m[I 2022-11-23 09:10:31,430]\u001b[0m Trial 5 finished with value: 0.4755539359556815 and parameters: {'is_var_thres': 'var_thres', 'vthreshold': 0.00021, 'dim_red': 'PCA', 'pca_n_components': 41, 'n_layers': 2, 'n_units_0': 119, 'n_units_1': 139, 'activation': 'tanh'}. Best is trial 5 with value: 0.4755539359556815.\u001b[0m\n",
      "\u001b[32m[I 2022-11-23 09:11:34,637]\u001b[0m Trial 6 finished with value: 0.4669291097454368 and parameters: {'is_var_thres': 'var_thres', 'vthreshold': 0.00027, 'dim_red': None, 'n_layers': 1, 'n_units_0': 59, 'activation': 'tanh'}. Best is trial 5 with value: 0.4755539359556815.\u001b[0m\n",
      "\u001b[32m[I 2022-11-23 09:12:51,558]\u001b[0m Trial 7 finished with value: 0.4733089728568302 and parameters: {'is_var_thres': 'var_thres', 'vthreshold': 0.00028000000000000003, 'dim_red': None, 'n_layers': 1, 'n_units_0': 42, 'activation': 'relu'}. Best is trial 5 with value: 0.4755539359556815.\u001b[0m\n",
      "\u001b[32m[I 2022-11-23 09:15:04,714]\u001b[0m Trial 8 finished with value: 0.4533791211442983 and parameters: {'is_var_thres': None, 'dim_red': 'PCA', 'pca_n_components': 48, 'n_layers': 2, 'n_units_0': 52, 'n_units_1': 43, 'activation': 'tanh'}. Best is trial 5 with value: 0.4755539359556815.\u001b[0m\n",
      "\u001b[32m[I 2022-11-23 09:16:37,689]\u001b[0m Trial 9 finished with value: 0.4697062760550176 and parameters: {'is_var_thres': None, 'dim_red': 'PCA', 'pca_n_components': 42, 'n_layers': 2, 'n_units_0': 135, 'n_units_1': 88, 'activation': 'tanh'}. Best is trial 5 with value: 0.4755539359556815.\u001b[0m\n",
      "\u001b[32m[I 2022-11-23 09:25:09,634]\u001b[0m Trial 10 finished with value: 0.4518985006081052 and parameters: {'is_var_thres': 'var_thres', 'vthreshold': 0.0004900000000000001, 'dim_red': 'PCA', 'pca_n_components': 40, 'n_layers': 3, 'n_units_0': 140, 'n_units_1': 149, 'n_units_2': 145, 'activation': 'tanh'}. Best is trial 5 with value: 0.4755539359556815.\u001b[0m\n",
      "\u001b[32m[I 2022-11-23 09:29:06,288]\u001b[0m Trial 11 finished with value: 0.41003447933243764 and parameters: {'is_var_thres': 'var_thres', 'vthreshold': 0.0, 'dim_red': 'PCA', 'pca_n_components': 49, 'n_layers': 2, 'n_units_0': 12, 'n_units_1': 138, 'activation': 'relu'}. Best is trial 5 with value: 0.4755539359556815.\u001b[0m\n",
      "\u001b[32m[I 2022-11-23 09:33:10,417]\u001b[0m Trial 12 finished with value: 0.38350122940796166 and parameters: {'is_var_thres': 'var_thres', 'vthreshold': 0.00038, 'dim_red': 'PCA', 'pca_n_components': 58, 'n_layers': 3, 'n_units_0': 106, 'n_units_1': 117, 'n_units_2': 13, 'activation': 'relu'}. Best is trial 5 with value: 0.4755539359556815.\u001b[0m\n",
      "\u001b[32m[I 2022-11-23 09:34:13,125]\u001b[0m Trial 13 finished with value: 0.4737587184057773 and parameters: {'is_var_thres': 'var_thres', 'vthreshold': 0.00019, 'dim_red': None, 'n_layers': 1, 'n_units_0': 22, 'activation': 'relu'}. Best is trial 5 with value: 0.4755539359556815.\u001b[0m\n",
      "\u001b[32m[I 2022-11-23 09:37:42,105]\u001b[0m Trial 14 finished with value: 0.4388799688270867 and parameters: {'is_var_thres': 'var_thres', 'vthreshold': 0.00014000000000000001, 'dim_red': 'PCA', 'pca_n_components': 45, 'n_layers': 2, 'n_units_0': 14, 'n_units_1': 116, 'activation': 'relu'}. Best is trial 5 with value: 0.4755539359556815.\u001b[0m\n",
      "\u001b[32m[I 2022-11-23 09:39:11,069]\u001b[0m Trial 15 finished with value: 0.4733217618527439 and parameters: {'is_var_thres': 'var_thres', 'vthreshold': 7.000000000000001e-05, 'dim_red': None, 'n_layers': 1, 'n_units_0': 114, 'activation': 'tanh'}. Best is trial 5 with value: 0.4755539359556815.\u001b[0m\n",
      "\u001b[32m[I 2022-11-23 09:41:45,479]\u001b[0m Trial 16 finished with value: 0.446596097100979 and parameters: {'is_var_thres': 'var_thres', 'vthreshold': 0.0002, 'dim_red': None, 'n_layers': 3, 'n_units_0': 89, 'n_units_1': 53, 'n_units_2': 148, 'activation': 'relu'}. Best is trial 5 with value: 0.4755539359556815.\u001b[0m\n",
      "\u001b[32m[I 2022-11-23 09:44:04,084]\u001b[0m Trial 17 finished with value: 0.4734960465982921 and parameters: {'is_var_thres': 'var_thres', 'vthreshold': 0.00039000000000000005, 'dim_red': 'PCA', 'pca_n_components': 55, 'n_layers': 2, 'n_units_0': 123, 'n_units_1': 116, 'activation': 'tanh'}. Best is trial 5 with value: 0.4755539359556815.\u001b[0m\n",
      "\u001b[32m[I 2022-11-23 09:46:30,305]\u001b[0m Trial 18 finished with value: 0.4698386867615351 and parameters: {'is_var_thres': None, 'dim_red': 'PCA', 'pca_n_components': 54, 'n_layers': 1, 'n_units_0': 150, 'activation': 'relu'}. Best is trial 5 with value: 0.4755539359556815.\u001b[0m\n",
      "\u001b[32m[I 2022-11-23 09:48:52,529]\u001b[0m Trial 19 finished with value: 0.44605745183548196 and parameters: {'is_var_thres': 'var_thres', 'vthreshold': 8e-05, 'dim_red': None, 'n_layers': 2, 'n_units_0': 29, 'n_units_1': 60, 'activation': 'tanh'}. Best is trial 5 with value: 0.4755539359556815.\u001b[0m\n",
      "\u001b[32m[I 2022-11-23 09:53:22,841]\u001b[0m Trial 20 finished with value: 0.458901071560634 and parameters: {'is_var_thres': 'var_thres', 'vthreshold': 0.00024000000000000003, 'dim_red': None, 'n_layers': 2, 'n_units_0': 100, 'n_units_1': 102, 'activation': 'tanh'}. Best is trial 5 with value: 0.4755539359556815.\u001b[0m\n",
      "\u001b[32m[I 2022-11-23 09:55:45,925]\u001b[0m Trial 21 finished with value: 0.4759022627324594 and parameters: {'is_var_thres': 'var_thres', 'vthreshold': 0.0004, 'dim_red': 'PCA', 'pca_n_components': 54, 'n_layers': 2, 'n_units_0': 124, 'n_units_1': 128, 'activation': 'tanh'}. Best is trial 21 with value: 0.4759022627324594.\u001b[0m\n",
      "\u001b[32m[I 2022-11-23 09:58:14,302]\u001b[0m Trial 22 finished with value: 0.48064991238109317 and parameters: {'is_var_thres': 'var_thres', 'vthreshold': 0.00035000000000000005, 'dim_red': 'PCA', 'pca_n_components': 53, 'n_layers': 2, 'n_units_0': 124, 'n_units_1': 135, 'activation': 'tanh'}. Best is trial 22 with value: 0.48064991238109317.\u001b[0m\n",
      "\u001b[32m[I 2022-11-23 10:00:35,136]\u001b[0m Trial 23 finished with value: 0.47099589555909294 and parameters: {'is_var_thres': 'var_thres', 'vthreshold': 0.00044, 'dim_red': 'PCA', 'pca_n_components': 52, 'n_layers': 2, 'n_units_0': 121, 'n_units_1': 132, 'activation': 'tanh'}. Best is trial 22 with value: 0.48064991238109317.\u001b[0m\n",
      "\u001b[32m[I 2022-11-23 10:02:54,172]\u001b[0m Trial 24 finished with value: 0.4660930073457047 and parameters: {'is_var_thres': 'var_thres', 'vthreshold': 0.00034, 'dim_red': 'PCA', 'pca_n_components': 55, 'n_layers': 2, 'n_units_0': 131, 'n_units_1': 149, 'activation': 'tanh'}. Best is trial 22 with value: 0.48064991238109317.\u001b[0m\n",
      "\u001b[32m[I 2022-11-23 10:04:56,600]\u001b[0m Trial 25 finished with value: 0.4731091782330984 and parameters: {'is_var_thres': 'var_thres', 'vthreshold': 0.00042, 'dim_red': 'PCA', 'pca_n_components': 51, 'n_layers': 2, 'n_units_0': 95, 'n_units_1': 129, 'activation': 'tanh'}. Best is trial 22 with value: 0.48064991238109317.\u001b[0m\n",
      "\u001b[32m[I 2022-11-23 10:16:45,077]\u001b[0m Trial 26 finished with value: 0.4105314261371049 and parameters: {'is_var_thres': None, 'dim_red': 'PCA', 'pca_n_components': 46, 'n_layers': 3, 'n_units_0': 145, 'n_units_1': 103, 'n_units_2': 14, 'activation': 'tanh'}. Best is trial 22 with value: 0.48064991238109317.\u001b[0m\n",
      "\u001b[32m[I 2022-11-23 10:19:07,963]\u001b[0m Trial 27 finished with value: 0.46863512719336403 and parameters: {'is_var_thres': 'var_thres', 'vthreshold': 0.00033000000000000005, 'dim_red': 'PCA', 'pca_n_components': 53, 'n_layers': 2, 'n_units_0': 127, 'n_units_1': 134, 'activation': 'tanh'}. Best is trial 22 with value: 0.48064991238109317.\u001b[0m\n",
      "\u001b[32m[I 2022-11-23 10:21:31,389]\u001b[0m Trial 28 finished with value: 0.4700350177794438 and parameters: {'is_var_thres': 'var_thres', 'vthreshold': 0.00048000000000000007, 'dim_red': 'PCA', 'pca_n_components': 57, 'n_layers': 2, 'n_units_0': 114, 'n_units_1': 150, 'activation': 'tanh'}. Best is trial 22 with value: 0.48064991238109317.\u001b[0m\n",
      "\u001b[32m[I 2022-11-23 10:33:31,101]\u001b[0m Trial 29 finished with value: 0.36883515878711093 and parameters: {'is_var_thres': None, 'dim_red': 'PCA', 'pca_n_components': 50, 'n_layers': 3, 'n_units_0': 71, 'n_units_1': 103, 'n_units_2': 88, 'activation': 'tanh'}. Best is trial 22 with value: 0.48064991238109317.\u001b[0m\n",
      "\u001b[32m[I 2022-11-23 10:35:52,139]\u001b[0m Trial 30 finished with value: 0.4817157456398144 and parameters: {'is_var_thres': 'var_thres', 'vthreshold': 0.00037000000000000005, 'dim_red': 'PCA', 'pca_n_components': 56, 'n_layers': 2, 'n_units_0': 117, 'n_units_1': 128, 'activation': 'tanh'}. Best is trial 30 with value: 0.4817157456398144.\u001b[0m\n",
      "\u001b[32m[I 2022-11-23 10:38:03,478]\u001b[0m Trial 31 finished with value: 0.4716541269896844 and parameters: {'is_var_thres': 'var_thres', 'vthreshold': 0.00039000000000000005, 'dim_red': 'PCA', 'pca_n_components': 56, 'n_layers': 2, 'n_units_0': 116, 'n_units_1': 126, 'activation': 'tanh'}. Best is trial 30 with value: 0.4817157456398144.\u001b[0m\n",
      "\u001b[32m[I 2022-11-23 10:40:31,331]\u001b[0m Trial 32 finished with value: 0.467437384041145 and parameters: {'is_var_thres': 'var_thres', 'vthreshold': 0.00034, 'dim_red': 'PCA', 'pca_n_components': 60, 'n_layers': 2, 'n_units_0': 135, 'n_units_1': 120, 'activation': 'tanh'}. Best is trial 30 with value: 0.4817157456398144.\u001b[0m\n",
      "\u001b[32m[I 2022-11-23 10:43:13,442]\u001b[0m Trial 33 finished with value: 0.47354685584025297 and parameters: {'is_var_thres': 'var_thres', 'vthreshold': 0.00023, 'dim_red': 'PCA', 'pca_n_components': 53, 'n_layers': 2, 'n_units_0': 107, 'n_units_1': 140, 'activation': 'tanh'}. Best is trial 30 with value: 0.4817157456398144.\u001b[0m\n",
      "\u001b[32m[I 2022-11-23 10:45:48,734]\u001b[0m Trial 34 finished with value: 0.4731994548088993 and parameters: {'is_var_thres': 'var_thres', 'vthreshold': 0.00030000000000000003, 'dim_red': 'PCA', 'pca_n_components': 57, 'n_layers': 2, 'n_units_0': 125, 'n_units_1': 138, 'activation': 'tanh'}. Best is trial 30 with value: 0.4817157456398144.\u001b[0m\n",
      "\u001b[32m[I 2022-11-23 10:47:41,011]\u001b[0m Trial 35 finished with value: 0.46815149803060246 and parameters: {'is_var_thres': 'var_thres', 'vthreshold': 0.00037000000000000005, 'dim_red': 'PCA', 'pca_n_components': 54, 'n_layers': 2, 'n_units_0': 79, 'n_units_1': 106, 'activation': 'tanh'}. Best is trial 30 with value: 0.4817157456398144.\u001b[0m\n",
      "\u001b[32m[I 2022-11-23 11:01:41,668]\u001b[0m Trial 36 finished with value: 0.3865197240169783 and parameters: {'is_var_thres': None, 'dim_red': 'PCA', 'pca_n_components': 51, 'n_layers': 3, 'n_units_0': 95, 'n_units_1': 125, 'n_units_2': 85, 'activation': 'tanh'}. Best is trial 30 with value: 0.4817157456398144.\u001b[0m\n",
      "\u001b[32m[I 2022-11-23 11:03:37,690]\u001b[0m Trial 37 finished with value: 0.46530081673554474 and parameters: {'is_var_thres': 'var_thres', 'vthreshold': 0.00044, 'dim_red': 'PCA', 'pca_n_components': 44, 'n_layers': 2, 'n_units_0': 142, 'n_units_1': 111, 'activation': 'tanh'}. Best is trial 30 with value: 0.4817157456398144.\u001b[0m\n",
      "\u001b[32m[I 2022-11-23 11:06:03,026]\u001b[0m Trial 38 finished with value: 0.4634574027336913 and parameters: {'is_var_thres': 'var_thres', 'vthreshold': 0.00044, 'dim_red': 'PCA', 'pca_n_components': 47, 'n_layers': 2, 'n_units_0': 112, 'n_units_1': 18, 'activation': 'tanh'}. Best is trial 30 with value: 0.4817157456398144.\u001b[0m\n",
      "\u001b[32m[I 2022-11-23 11:06:58,377]\u001b[0m Trial 39 finished with value: 0.46988274959693915 and parameters: {'is_var_thres': 'var_thres', 'vthreshold': 0.00036, 'dim_red': 'PCA', 'pca_n_components': 56, 'n_layers': 1, 'n_units_0': 132, 'activation': 'tanh'}. Best is trial 30 with value: 0.4817157456398144.\u001b[0m\n",
      "\u001b[32m[I 2022-11-23 11:08:41,262]\u001b[0m Trial 40 finished with value: 0.480425276621293 and parameters: {'is_var_thres': None, 'dim_red': 'PCA', 'pca_n_components': 52, 'n_layers': 2, 'n_units_0': 103, 'n_units_1': 74, 'activation': 'tanh'}. Best is trial 30 with value: 0.4817157456398144.\u001b[0m\n",
      "\u001b[32m[I 2022-11-23 11:11:20,516]\u001b[0m Trial 41 finished with value: 0.4664500665252401 and parameters: {'is_var_thres': None, 'dim_red': 'PCA', 'pca_n_components': 52, 'n_layers': 2, 'n_units_0': 101, 'n_units_1': 72, 'activation': 'tanh'}. Best is trial 30 with value: 0.4817157456398144.\u001b[0m\n",
      "\u001b[32m[I 2022-11-23 11:13:13,217]\u001b[0m Trial 42 finished with value: 0.46433294775500017 and parameters: {'is_var_thres': None, 'dim_red': 'PCA', 'pca_n_components': 53, 'n_layers': 2, 'n_units_0': 119, 'n_units_1': 92, 'activation': 'tanh'}. Best is trial 30 with value: 0.4817157456398144.\u001b[0m\n",
      "\u001b[32m[I 2022-11-23 11:15:40,996]\u001b[0m Trial 43 finished with value: 0.4687205459139963 and parameters: {'is_var_thres': None, 'dim_red': 'PCA', 'pca_n_components': 50, 'n_layers': 2, 'n_units_0': 108, 'n_units_1': 68, 'activation': 'tanh'}. Best is trial 30 with value: 0.4817157456398144.\u001b[0m\n",
      "\u001b[32m[I 2022-11-23 11:18:06,972]\u001b[0m Trial 44 finished with value: 0.4642968019050492 and parameters: {'is_var_thres': None, 'dim_red': 'PCA', 'pca_n_components': 59, 'n_layers': 2, 'n_units_0': 128, 'n_units_1': 83, 'activation': 'tanh'}. Best is trial 30 with value: 0.4817157456398144.\u001b[0m\n",
      "\u001b[32m[I 2022-11-23 11:21:08,916]\u001b[0m Trial 45 finished with value: 0.45837264730453586 and parameters: {'is_var_thres': None, 'dim_red': 'PCA', 'pca_n_components': 55, 'n_layers': 2, 'n_units_0': 85, 'n_units_1': 95, 'activation': 'tanh'}. Best is trial 30 with value: 0.4817157456398144.\u001b[0m\n",
      "\u001b[32m[I 2022-11-23 11:23:05,599]\u001b[0m Trial 46 finished with value: 0.47019919486631057 and parameters: {'is_var_thres': 'var_thres', 'vthreshold': 0.00030000000000000003, 'dim_red': 'PCA', 'pca_n_components': 41, 'n_layers': 2, 'n_units_0': 135, 'n_units_1': 143, 'activation': 'tanh'}. Best is trial 30 with value: 0.4817157456398144.\u001b[0m\n",
      "\u001b[32m[I 2022-11-23 11:23:51,604]\u001b[0m Trial 47 finished with value: 0.47269428620450615 and parameters: {'is_var_thres': 'var_thres', 'vthreshold': 0.00041000000000000005, 'dim_red': 'PCA', 'pca_n_components': 52, 'n_layers': 1, 'n_units_0': 100, 'activation': 'tanh'}. Best is trial 30 with value: 0.4817157456398144.\u001b[0m\n",
      "\u001b[32m[I 2022-11-23 11:28:48,095]\u001b[0m Trial 48 finished with value: 0.4292020650001242 and parameters: {'is_var_thres': None, 'dim_red': None, 'n_layers': 2, 'n_units_0': 120, 'n_units_1': 77, 'activation': 'relu'}. Best is trial 30 with value: 0.4817157456398144.\u001b[0m\n",
      "\u001b[32m[I 2022-11-23 11:30:21,436]\u001b[0m Trial 49 finished with value: 0.47161455765334015 and parameters: {'is_var_thres': 'var_thres', 'vthreshold': 0.00013000000000000002, 'dim_red': 'PCA', 'pca_n_components': 48, 'n_layers': 2, 'n_units_0': 140, 'n_units_1': 43, 'activation': 'tanh'}. Best is trial 30 with value: 0.4817157456398144.\u001b[0m\n",
      "\u001b[32m[I 2022-11-23 11:31:09,217]\u001b[0m Trial 50 finished with value: 0.47849729222088727 and parameters: {'is_var_thres': 'var_thres', 'vthreshold': 0.00028000000000000003, 'dim_red': 'PCA', 'pca_n_components': 49, 'n_layers': 1, 'n_units_0': 110, 'activation': 'tanh'}. Best is trial 30 with value: 0.4817157456398144.\u001b[0m\n",
      "\u001b[32m[I 2022-11-23 11:31:55,106]\u001b[0m Trial 51 finished with value: 0.4773632586697891 and parameters: {'is_var_thres': 'var_thres', 'vthreshold': 0.00025, 'dim_red': 'PCA', 'pca_n_components': 43, 'n_layers': 1, 'n_units_0': 110, 'activation': 'tanh'}. Best is trial 30 with value: 0.4817157456398144.\u001b[0m\n",
      "\u001b[32m[I 2022-11-23 11:32:36,068]\u001b[0m Trial 52 finished with value: 0.47966158529564196 and parameters: {'is_var_thres': 'var_thres', 'vthreshold': 0.00027, 'dim_red': 'PCA', 'pca_n_components': 44, 'n_layers': 1, 'n_units_0': 91, 'activation': 'tanh'}. Best is trial 30 with value: 0.4817157456398144.\u001b[0m\n",
      "\u001b[32m[I 2022-11-23 11:33:12,162]\u001b[0m Trial 53 finished with value: 0.4740737479510522 and parameters: {'is_var_thres': 'var_thres', 'vthreshold': 0.00026000000000000003, 'dim_red': 'PCA', 'pca_n_components': 43, 'n_layers': 1, 'n_units_0': 73, 'activation': 'tanh'}. Best is trial 30 with value: 0.4817157456398144.\u001b[0m\n",
      "\u001b[32m[I 2022-11-23 11:33:51,751]\u001b[0m Trial 54 finished with value: 0.47063119152317856 and parameters: {'is_var_thres': 'var_thres', 'vthreshold': 0.00029, 'dim_red': 'PCA', 'pca_n_components': 40, 'n_layers': 1, 'n_units_0': 92, 'activation': 'tanh'}. Best is trial 30 with value: 0.4817157456398144.\u001b[0m\n",
      "\u001b[32m[I 2022-11-23 11:34:38,552]\u001b[0m Trial 55 finished with value: 0.47478705919042186 and parameters: {'is_var_thres': 'var_thres', 'vthreshold': 0.00023, 'dim_red': 'PCA', 'pca_n_components': 44, 'n_layers': 1, 'n_units_0': 110, 'activation': 'tanh'}. Best is trial 30 with value: 0.4817157456398144.\u001b[0m\n",
      "\u001b[32m[I 2022-11-23 11:38:01,376]\u001b[0m Trial 56 finished with value: 0.45502458411587987 and parameters: {'is_var_thres': 'var_thres', 'vthreshold': 0.00031, 'dim_red': None, 'n_layers': 1, 'n_units_0': 102, 'activation': 'relu'}. Best is trial 30 with value: 0.4817157456398144.\u001b[0m\n",
      "\u001b[32m[I 2022-11-23 11:38:39,737]\u001b[0m Trial 57 finished with value: 0.47278069932295963 and parameters: {'is_var_thres': 'var_thres', 'vthreshold': 0.00026000000000000003, 'dim_red': 'PCA', 'pca_n_components': 43, 'n_layers': 1, 'n_units_0': 88, 'activation': 'tanh'}. Best is trial 30 with value: 0.4817157456398144.\u001b[0m\n",
      "\u001b[32m[I 2022-11-23 11:39:18,472]\u001b[0m Trial 58 finished with value: 0.4713410988446928 and parameters: {'is_var_thres': 'var_thres', 'vthreshold': 0.00028000000000000003, 'dim_red': 'PCA', 'pca_n_components': 48, 'n_layers': 1, 'n_units_0': 80, 'activation': 'tanh'}. Best is trial 30 with value: 0.4817157456398144.\u001b[0m\n",
      "\u001b[32m[I 2022-11-23 11:40:01,650]\u001b[0m Trial 59 finished with value: 0.4751170953367089 and parameters: {'is_var_thres': None, 'dim_red': 'PCA', 'pca_n_components': 46, 'n_layers': 1, 'n_units_0': 103, 'activation': 'tanh'}. Best is trial 30 with value: 0.4817157456398144.\u001b[0m\n",
      "\u001b[32m[I 2022-11-23 11:41:31,238]\u001b[0m Trial 60 finished with value: 0.4693055281384547 and parameters: {'is_var_thres': 'var_thres', 'vthreshold': 0.00035000000000000005, 'dim_red': 'PCA', 'pca_n_components': 42, 'n_layers': 1, 'n_units_0': 96, 'activation': 'relu'}. Best is trial 30 with value: 0.4817157456398144.\u001b[0m\n",
      "\u001b[32m[I 2022-11-23 11:42:24,121]\u001b[0m Trial 61 finished with value: 0.4786352473092615 and parameters: {'is_var_thres': 'var_thres', 'vthreshold': 0.00017, 'dim_red': 'PCA', 'pca_n_components': 54, 'n_layers': 1, 'n_units_0': 111, 'activation': 'tanh'}. Best is trial 30 with value: 0.4817157456398144.\u001b[0m\n",
      "\u001b[32m[I 2022-11-23 11:43:13,874]\u001b[0m Trial 62 finished with value: 0.4791394733876457 and parameters: {'is_var_thres': 'var_thres', 'vthreshold': 0.00021, 'dim_red': 'PCA', 'pca_n_components': 54, 'n_layers': 1, 'n_units_0': 117, 'activation': 'tanh'}. Best is trial 30 with value: 0.4817157456398144.\u001b[0m\n",
      "\u001b[32m[I 2022-11-23 11:44:04,322]\u001b[0m Trial 63 finished with value: 0.47274960345553074 and parameters: {'is_var_thres': 'var_thres', 'vthreshold': 0.00018, 'dim_red': 'PCA', 'pca_n_components': 54, 'n_layers': 1, 'n_units_0': 117, 'activation': 'tanh'}. Best is trial 30 with value: 0.4817157456398144.\u001b[0m\n",
      "\u001b[32m[I 2022-11-23 11:44:54,552]\u001b[0m Trial 64 finished with value: 0.4756554387593356 and parameters: {'is_var_thres': 'var_thres', 'vthreshold': 0.00021, 'dim_red': 'PCA', 'pca_n_components': 56, 'n_layers': 1, 'n_units_0': 114, 'activation': 'tanh'}. Best is trial 30 with value: 0.4817157456398144.\u001b[0m\n",
      "\u001b[32m[I 2022-11-23 11:46:24,527]\u001b[0m Trial 65 finished with value: 0.4731876332557217 and parameters: {'is_var_thres': 'var_thres', 'vthreshold': 0.00016, 'dim_red': None, 'n_layers': 1, 'n_units_0': 105, 'activation': 'tanh'}. Best is trial 30 with value: 0.4817157456398144.\u001b[0m\n",
      "\u001b[32m[I 2022-11-23 11:47:16,545]\u001b[0m Trial 66 finished with value: 0.4743010450507958 and parameters: {'is_var_thres': 'var_thres', 'vthreshold': 0.0001, 'dim_red': 'PCA', 'pca_n_components': 55, 'n_layers': 1, 'n_units_0': 122, 'activation': 'tanh'}. Best is trial 30 with value: 0.4817157456398144.\u001b[0m\n",
      "\u001b[32m[I 2022-11-23 11:47:50,755]\u001b[0m Trial 67 finished with value: 0.47417727572461044 and parameters: {'is_var_thres': 'var_thres', 'vthreshold': 0.00012000000000000002, 'dim_red': 'PCA', 'pca_n_components': 51, 'n_layers': 1, 'n_units_0': 60, 'activation': 'tanh'}. Best is trial 30 with value: 0.4817157456398144.\u001b[0m\n",
      "\u001b[32m[I 2022-11-23 11:48:32,402]\u001b[0m Trial 68 finished with value: 0.47208818229111316 and parameters: {'is_var_thres': 'var_thres', 'vthreshold': 0.00032, 'dim_red': 'PCA', 'pca_n_components': 49, 'n_layers': 1, 'n_units_0': 92, 'activation': 'tanh'}. Best is trial 30 with value: 0.4817157456398144.\u001b[0m\n",
      "\u001b[32m[I 2022-11-23 11:55:59,525]\u001b[0m Trial 69 finished with value: 0.3713662106776091 and parameters: {'is_var_thres': 'var_thres', 'vthreshold': 0.00021, 'dim_red': 'PCA', 'pca_n_components': 53, 'n_layers': 3, 'n_units_0': 106, 'n_units_1': 20, 'n_units_2': 51, 'activation': 'tanh'}. Best is trial 30 with value: 0.4817157456398144.\u001b[0m\n",
      "\u001b[32m[I 2022-11-23 11:57:59,136]\u001b[0m Trial 70 finished with value: 0.48199824675287806 and parameters: {'is_var_thres': None, 'dim_red': 'PCA', 'pca_n_components': 54, 'n_layers': 1, 'n_units_0': 128, 'activation': 'relu'}. Best is trial 70 with value: 0.48199824675287806.\u001b[0m\n",
      "\u001b[32m[I 2022-11-23 11:59:43,798]\u001b[0m Trial 71 finished with value: 0.4680081704963315 and parameters: {'is_var_thres': None, 'dim_red': 'PCA', 'pca_n_components': 54, 'n_layers': 1, 'n_units_0': 128, 'activation': 'relu'}. Best is trial 70 with value: 0.48199824675287806.\u001b[0m\n",
      "\u001b[32m[I 2022-11-23 12:01:22,765]\u001b[0m Trial 72 finished with value: 0.4748285046300758 and parameters: {'is_var_thres': None, 'dim_red': 'PCA', 'pca_n_components': 57, 'n_layers': 1, 'n_units_0': 118, 'activation': 'relu'}. Best is trial 70 with value: 0.48199824675287806.\u001b[0m\n",
      "\u001b[32m[I 2022-11-23 12:02:50,265]\u001b[0m Trial 73 finished with value: 0.469941918460239 and parameters: {'is_var_thres': None, 'dim_red': 'PCA', 'pca_n_components': 52, 'n_layers': 1, 'n_units_0': 97, 'activation': 'relu'}. Best is trial 70 with value: 0.48199824675287806.\u001b[0m\n",
      "\u001b[32m[I 2022-11-23 12:04:37,287]\u001b[0m Trial 74 finished with value: 0.47514619685481857 and parameters: {'is_var_thres': None, 'dim_red': 'PCA', 'pca_n_components': 53, 'n_layers': 1, 'n_units_0': 131, 'activation': 'relu'}. Best is trial 70 with value: 0.48199824675287806.\u001b[0m\n",
      "\u001b[32m[I 2022-11-23 12:06:12,195]\u001b[0m Trial 75 finished with value: 0.47272928753092636 and parameters: {'is_var_thres': None, 'dim_red': 'PCA', 'pca_n_components': 55, 'n_layers': 1, 'n_units_0': 124, 'activation': 'relu'}. Best is trial 70 with value: 0.48199824675287806.\u001b[0m\n",
      "\u001b[32m[I 2022-11-23 12:07:00,787]\u001b[0m Trial 76 finished with value: 0.47098294179225375 and parameters: {'is_var_thres': 'var_thres', 'vthreshold': 3.0000000000000004e-05, 'dim_red': 'PCA', 'pca_n_components': 56, 'n_layers': 1, 'n_units_0': 111, 'activation': 'tanh'}. Best is trial 70 with value: 0.48199824675287806.\u001b[0m\n",
      "\u001b[32m[I 2022-11-23 12:08:39,043]\u001b[0m Trial 77 finished with value: 0.4767306480931123 and parameters: {'is_var_thres': None, 'dim_red': None, 'n_layers': 1, 'n_units_0': 136, 'activation': 'tanh'}. Best is trial 70 with value: 0.48199824675287806.\u001b[0m\n",
      "\u001b[32m[I 2022-11-23 12:09:38,511]\u001b[0m Trial 78 finished with value: 0.47362215592272844 and parameters: {'is_var_thres': 'var_thres', 'vthreshold': 0.00017, 'dim_red': 'PCA', 'pca_n_components': 51, 'n_layers': 1, 'n_units_0': 147, 'activation': 'tanh'}. Best is trial 70 with value: 0.48199824675287806.\u001b[0m\n",
      "\u001b[32m[I 2022-11-23 12:11:28,015]\u001b[0m Trial 79 finished with value: 0.4843499882979817 and parameters: {'is_var_thres': 'var_thres', 'vthreshold': 0.00023, 'dim_red': 'PCA', 'pca_n_components': 54, 'n_layers': 1, 'n_units_0': 115, 'activation': 'relu'}. Best is trial 79 with value: 0.4843499882979817.\u001b[0m\n",
      "\u001b[32m[I 2022-11-23 12:13:13,710]\u001b[0m Trial 80 finished with value: 0.47795288521069434 and parameters: {'is_var_thres': None, 'dim_red': 'PCA', 'pca_n_components': 54, 'n_layers': 1, 'n_units_0': 117, 'activation': 'relu'}. Best is trial 79 with value: 0.4843499882979817.\u001b[0m\n",
      "\u001b[32m[I 2022-11-23 12:15:17,865]\u001b[0m Trial 81 finished with value: 0.4717345835042613 and parameters: {'is_var_thres': 'var_thres', 'vthreshold': 0.00023, 'dim_red': 'PCA', 'pca_n_components': 54, 'n_layers': 1, 'n_units_0': 113, 'activation': 'relu'}. Best is trial 79 with value: 0.4843499882979817.\u001b[0m\n",
      "\u001b[32m[I 2022-11-23 12:16:39,597]\u001b[0m Trial 82 finished with value: 0.48055458665349127 and parameters: {'is_var_thres': 'var_thres', 'vthreshold': 0.00019, 'dim_red': 'PCA', 'pca_n_components': 52, 'n_layers': 1, 'n_units_0': 99, 'activation': 'relu'}. Best is trial 79 with value: 0.4843499882979817.\u001b[0m\n",
      "\u001b[32m[I 2022-11-23 12:19:01,640]\u001b[0m Trial 83 finished with value: 0.46140099991228994 and parameters: {'is_var_thres': 'var_thres', 'vthreshold': 0.00019, 'dim_red': 'PCA', 'pca_n_components': 53, 'n_layers': 1, 'n_units_0': 126, 'activation': 'relu'}. Best is trial 79 with value: 0.4843499882979817.\u001b[0m\n",
      "\u001b[32m[I 2022-11-23 12:20:51,469]\u001b[0m Trial 84 finished with value: 0.46505220652773505 and parameters: {'is_var_thres': 'var_thres', 'vthreshold': 0.00016, 'dim_red': 'PCA', 'pca_n_components': 52, 'n_layers': 1, 'n_units_0': 98, 'activation': 'relu'}. Best is trial 79 with value: 0.4843499882979817.\u001b[0m\n",
      "\u001b[32m[I 2022-11-23 12:25:15,867]\u001b[0m Trial 85 finished with value: 0.35659112564427964 and parameters: {'is_var_thres': 'var_thres', 'vthreshold': 0.0002, 'dim_red': 'PCA', 'pca_n_components': 55, 'n_layers': 2, 'n_units_0': 121, 'n_units_1': 37, 'activation': 'relu'}. Best is trial 79 with value: 0.4843499882979817.\u001b[0m\n",
      "\u001b[32m[I 2022-11-23 12:29:29,762]\u001b[0m Trial 86 finished with value: 0.3486723534765658 and parameters: {'is_var_thres': 'var_thres', 'vthreshold': 0.00022, 'dim_red': 'PCA', 'pca_n_components': 52, 'n_layers': 3, 'n_units_0': 85, 'n_units_1': 62, 'n_units_2': 114, 'activation': 'relu'}. Best is trial 79 with value: 0.4843499882979817.\u001b[0m\n",
      "\u001b[32m[I 2022-11-23 12:31:18,084]\u001b[0m Trial 87 finished with value: 0.46815351039896347 and parameters: {'is_var_thres': 'var_thres', 'vthreshold': 0.00014000000000000001, 'dim_red': 'PCA', 'pca_n_components': 55, 'n_layers': 1, 'n_units_0': 104, 'activation': 'relu'}. Best is trial 79 with value: 0.4843499882979817.\u001b[0m\n",
      "\u001b[32m[I 2022-11-23 12:36:31,238]\u001b[0m Trial 88 finished with value: 0.40708415679654 and parameters: {'is_var_thres': 'var_thres', 'vthreshold': 0.00019, 'dim_red': 'PCA', 'pca_n_components': 50, 'n_layers': 2, 'n_units_0': 93, 'n_units_1': 95, 'activation': 'relu'}. Best is trial 79 with value: 0.4843499882979817.\u001b[0m\n",
      "\u001b[32m[I 2022-11-23 12:38:20,449]\u001b[0m Trial 89 finished with value: 0.4824801365168218 and parameters: {'is_var_thres': None, 'dim_red': 'PCA', 'pca_n_components': 53, 'n_layers': 1, 'n_units_0': 108, 'activation': 'relu'}. Best is trial 79 with value: 0.4843499882979817.\u001b[0m\n",
      "\u001b[32m[I 2022-11-23 12:41:45,523]\u001b[0m Trial 90 finished with value: 0.44425219504119307 and parameters: {'is_var_thres': None, 'dim_red': None, 'n_layers': 2, 'n_units_0': 89, 'n_units_1': 48, 'activation': 'relu'}. Best is trial 79 with value: 0.4843499882979817.\u001b[0m\n",
      "\u001b[32m[I 2022-11-23 12:43:37,434]\u001b[0m Trial 91 finished with value: 0.4699334455098332 and parameters: {'is_var_thres': None, 'dim_red': 'PCA', 'pca_n_components': 58, 'n_layers': 1, 'n_units_0': 114, 'activation': 'relu'}. Best is trial 79 with value: 0.4843499882979817.\u001b[0m\n",
      "\u001b[32m[I 2022-11-23 12:45:14,492]\u001b[0m Trial 92 finished with value: 0.47172259542203215 and parameters: {'is_var_thres': None, 'dim_red': 'PCA', 'pca_n_components': 53, 'n_layers': 1, 'n_units_0': 108, 'activation': 'relu'}. Best is trial 79 with value: 0.4843499882979817.\u001b[0m\n",
      "\u001b[32m[I 2022-11-23 12:46:51,508]\u001b[0m Trial 93 finished with value: 0.47669270005519976 and parameters: {'is_var_thres': None, 'dim_red': 'PCA', 'pca_n_components': 51, 'n_layers': 1, 'n_units_0': 132, 'activation': 'relu'}. Best is trial 79 with value: 0.4843499882979817.\u001b[0m\n",
      "\u001b[32m[I 2022-11-23 12:48:46,520]\u001b[0m Trial 94 finished with value: 0.47842672548017173 and parameters: {'is_var_thres': None, 'dim_red': 'PCA', 'pca_n_components': 54, 'n_layers': 1, 'n_units_0': 101, 'activation': 'relu'}. Best is trial 79 with value: 0.4843499882979817.\u001b[0m\n",
      "\u001b[32m[I 2022-11-23 12:50:11,379]\u001b[0m Trial 95 finished with value: 0.46545082921276143 and parameters: {'is_var_thres': 'var_thres', 'vthreshold': 0.00025, 'dim_red': 'PCA', 'pca_n_components': 52, 'n_layers': 1, 'n_units_0': 116, 'activation': 'relu'}. Best is trial 79 with value: 0.4843499882979817.\u001b[0m\n",
      "\u001b[32m[I 2022-11-23 12:52:08,337]\u001b[0m Trial 96 finished with value: 0.47491713301726496 and parameters: {'is_var_thres': 'var_thres', 'vthreshold': 0.00047000000000000004, 'dim_red': 'PCA', 'pca_n_components': 56, 'n_layers': 1, 'n_units_0': 128, 'activation': 'relu'}. Best is trial 79 with value: 0.4843499882979817.\u001b[0m\n",
      "\u001b[32m[I 2022-11-23 12:52:55,786]\u001b[0m Trial 97 finished with value: 0.47498131586996795 and parameters: {'is_var_thres': None, 'dim_red': 'PCA', 'pca_n_components': 53, 'n_layers': 1, 'n_units_0': 108, 'activation': 'tanh'}. Best is trial 79 with value: 0.4843499882979817.\u001b[0m\n",
      "\u001b[32m[I 2022-11-23 12:55:04,800]\u001b[0m Trial 98 finished with value: 0.46379391038490214 and parameters: {'is_var_thres': 'var_thres', 'vthreshold': 0.00038, 'dim_red': 'PCA', 'pca_n_components': 54, 'n_layers': 2, 'n_units_0': 120, 'n_units_1': 76, 'activation': 'tanh'}. Best is trial 79 with value: 0.4843499882979817.\u001b[0m\n",
      "\u001b[32m[I 2022-11-23 12:59:28,360]\u001b[0m Trial 99 finished with value: 0.3743522864589409 and parameters: {'is_var_thres': 'var_thres', 'vthreshold': 0.00017, 'dim_red': 'PCA', 'pca_n_components': 53, 'n_layers': 2, 'n_units_0': 124, 'n_units_1': 33, 'activation': 'relu'}. Best is trial 79 with value: 0.4843499882979817.\u001b[0m\n",
      "\u001b[32m[I 2022-11-23 13:00:14,460]\u001b[0m Trial 100 finished with value: 0.47422434865188257 and parameters: {'is_var_thres': 'var_thres', 'vthreshold': 0.0001, 'dim_red': 'PCA', 'pca_n_components': 54, 'n_layers': 1, 'n_units_0': 99, 'activation': 'tanh'}. Best is trial 79 with value: 0.4843499882979817.\u001b[0m\n",
      "\u001b[32m[I 2022-11-23 13:01:01,809]\u001b[0m Trial 101 finished with value: 0.47546335831338277 and parameters: {'is_var_thres': 'var_thres', 'vthreshold': 0.00028000000000000003, 'dim_red': 'PCA', 'pca_n_components': 50, 'n_layers': 1, 'n_units_0': 110, 'activation': 'tanh'}. Best is trial 79 with value: 0.4843499882979817.\u001b[0m\n",
      "\u001b[32m[I 2022-11-23 13:01:48,667]\u001b[0m Trial 102 finished with value: 0.47412568035931935 and parameters: {'is_var_thres': 'var_thres', 'vthreshold': 0.00026000000000000003, 'dim_red': 'PCA', 'pca_n_components': 56, 'n_layers': 1, 'n_units_0': 104, 'activation': 'tanh'}. Best is trial 79 with value: 0.4843499882979817.\u001b[0m\n",
      "\u001b[32m[I 2022-11-23 13:02:39,712]\u001b[0m Trial 103 finished with value: 0.47408708611066064 and parameters: {'is_var_thres': 'var_thres', 'vthreshold': 0.00033000000000000005, 'dim_red': 'PCA', 'pca_n_components': 52, 'n_layers': 1, 'n_units_0': 111, 'activation': 'tanh'}. Best is trial 79 with value: 0.4843499882979817.\u001b[0m\n",
      "\u001b[32m[I 2022-11-23 13:03:33,294]\u001b[0m Trial 104 finished with value: 0.4729031103968683 and parameters: {'is_var_thres': 'var_thres', 'vthreshold': 0.00024000000000000003, 'dim_red': 'PCA', 'pca_n_components': 57, 'n_layers': 1, 'n_units_0': 115, 'activation': 'tanh'}. Best is trial 79 with value: 0.4843499882979817.\u001b[0m\n",
      "\u001b[32m[I 2022-11-23 13:04:05,434]\u001b[0m Trial 105 finished with value: 0.4783833475747771 and parameters: {'is_var_thres': 'var_thres', 'vthreshold': 0.00036, 'dim_red': 'PCA', 'pca_n_components': 55, 'n_layers': 1, 'n_units_0': 38, 'activation': 'tanh'}. Best is trial 79 with value: 0.4843499882979817.\u001b[0m\n",
      "\u001b[32m[I 2022-11-23 13:04:52,883]\u001b[0m Trial 106 finished with value: 0.47554279031417046 and parameters: {'is_var_thres': None, 'dim_red': 'PCA', 'pca_n_components': 49, 'n_layers': 1, 'n_units_0': 108, 'activation': 'tanh'}. Best is trial 79 with value: 0.4843499882979817.\u001b[0m\n",
      "\u001b[32m[I 2022-11-23 13:05:44,640]\u001b[0m Trial 107 finished with value: 0.47494034323597045 and parameters: {'is_var_thres': 'var_thres', 'vthreshold': 0.00030000000000000003, 'dim_red': 'PCA', 'pca_n_components': 51, 'n_layers': 1, 'n_units_0': 119, 'activation': 'tanh'}. Best is trial 79 with value: 0.4843499882979817.\u001b[0m\n",
      "\u001b[32m[I 2022-11-23 13:06:34,027]\u001b[0m Trial 108 finished with value: 0.46605014549121265 and parameters: {'is_var_thres': 'var_thres', 'vthreshold': 0.00027, 'dim_red': 'PCA', 'pca_n_components': 45, 'n_layers': 1, 'n_units_0': 123, 'activation': 'tanh'}. Best is trial 79 with value: 0.4843499882979817.\u001b[0m\n",
      "\u001b[32m[I 2022-11-23 13:11:02,518]\u001b[0m Trial 109 finished with value: 0.4529414797018675 and parameters: {'is_var_thres': None, 'dim_red': None, 'n_layers': 2, 'n_units_0': 102, 'n_units_1': 86, 'activation': 'relu'}. Best is trial 79 with value: 0.4843499882979817.\u001b[0m\n",
      "\u001b[32m[I 2022-11-23 13:11:48,197]\u001b[0m Trial 110 finished with value: 0.47519448498911876 and parameters: {'is_var_thres': 'var_thres', 'vthreshold': 0.00022, 'dim_red': 'PCA', 'pca_n_components': 53, 'n_layers': 1, 'n_units_0': 106, 'activation': 'tanh'}. Best is trial 79 with value: 0.4843499882979817.\u001b[0m\n",
      "\u001b[32m[I 2022-11-23 13:13:17,972]\u001b[0m Trial 111 finished with value: 0.4733698951267405 and parameters: {'is_var_thres': None, 'dim_red': 'PCA', 'pca_n_components': 54, 'n_layers': 1, 'n_units_0': 101, 'activation': 'relu'}. Best is trial 79 with value: 0.4843499882979817.\u001b[0m\n",
      "\u001b[32m[I 2022-11-23 13:14:51,818]\u001b[0m Trial 112 finished with value: 0.4742945715485368 and parameters: {'is_var_thres': None, 'dim_red': 'PCA', 'pca_n_components': 55, 'n_layers': 1, 'n_units_0': 95, 'activation': 'relu'}. Best is trial 79 with value: 0.4843499882979817.\u001b[0m\n",
      "\u001b[32m[I 2022-11-23 13:16:19,499]\u001b[0m Trial 113 finished with value: 0.4681700685776592 and parameters: {'is_var_thres': None, 'dim_red': 'PCA', 'pca_n_components': 54, 'n_layers': 1, 'n_units_0': 91, 'activation': 'relu'}. Best is trial 79 with value: 0.4843499882979817.\u001b[0m\n",
      "\u001b[32m[I 2022-11-23 13:17:51,464]\u001b[0m Trial 114 finished with value: 0.4772714603935152 and parameters: {'is_var_thres': None, 'dim_red': 'PCA', 'pca_n_components': 47, 'n_layers': 1, 'n_units_0': 113, 'activation': 'relu'}. Best is trial 79 with value: 0.4843499882979817.\u001b[0m\n",
      "\u001b[32m[I 2022-11-23 13:19:18,447]\u001b[0m Trial 115 finished with value: 0.47083065811732216 and parameters: {'is_var_thres': None, 'dim_red': 'PCA', 'pca_n_components': 53, 'n_layers': 1, 'n_units_0': 99, 'activation': 'relu'}. Best is trial 79 with value: 0.4843499882979817.\u001b[0m\n",
      "\u001b[32m[I 2022-11-23 13:19:58,221]\u001b[0m Trial 116 finished with value: 0.47750280037202675 and parameters: {'is_var_thres': None, 'dim_red': 'PCA', 'pca_n_components': 52, 'n_layers': 1, 'n_units_0': 83, 'activation': 'tanh'}. Best is trial 79 with value: 0.4843499882979817.\u001b[0m\n",
      "\u001b[32m[I 2022-11-23 13:26:26,413]\u001b[0m Trial 117 finished with value: 0.37845063102284315 and parameters: {'is_var_thres': 'var_thres', 'vthreshold': 0.0002, 'dim_red': 'PCA', 'pca_n_components': 54, 'n_layers': 2, 'n_units_0': 117, 'n_units_1': 111, 'activation': 'relu'}. Best is trial 79 with value: 0.4843499882979817.\u001b[0m\n",
      "\u001b[32m[I 2022-11-23 13:27:07,412]\u001b[0m Trial 118 finished with value: 0.47263456120042535 and parameters: {'is_var_thres': 'var_thres', 'vthreshold': 0.00042, 'dim_red': 'PCA', 'pca_n_components': 41, 'n_layers': 1, 'n_units_0': 95, 'activation': 'tanh'}. Best is trial 79 with value: 0.4843499882979817.\u001b[0m\n",
      "\u001b[32m[I 2022-11-23 13:28:11,116]\u001b[0m Trial 119 finished with value: 0.4876278344362227 and parameters: {'is_var_thres': None, 'dim_red': 'PCA', 'pca_n_components': 51, 'n_layers': 1, 'n_units_0': 76, 'activation': 'relu'}. Best is trial 119 with value: 0.4876278344362227.\u001b[0m\n",
      "\u001b[32m[I 2022-11-23 13:36:21,071]\u001b[0m Trial 120 finished with value: 0.33389937629910305 and parameters: {'is_var_thres': 'var_thres', 'vthreshold': 0.00015000000000000001, 'dim_red': 'PCA', 'pca_n_components': 51, 'n_layers': 3, 'n_units_0': 74, 'n_units_1': 57, 'n_units_2': 43, 'activation': 'tanh'}. Best is trial 119 with value: 0.4876278344362227.\u001b[0m\n",
      "\u001b[32m[I 2022-11-23 13:38:15,639]\u001b[0m Trial 121 finished with value: 0.4681082463603537 and parameters: {'is_var_thres': None, 'dim_red': 'PCA', 'pca_n_components': 53, 'n_layers': 1, 'n_units_0': 104, 'activation': 'relu'}. Best is trial 119 with value: 0.4876278344362227.\u001b[0m\n",
      "\u001b[32m[I 2022-11-23 13:39:20,515]\u001b[0m Trial 122 finished with value: 0.4845232778679308 and parameters: {'is_var_thres': None, 'dim_red': 'PCA', 'pca_n_components': 52, 'n_layers': 1, 'n_units_0': 76, 'activation': 'relu'}. Best is trial 119 with value: 0.4876278344362227.\u001b[0m\n",
      "\u001b[32m[I 2022-11-23 13:40:23,336]\u001b[0m Trial 123 finished with value: 0.473504943232378 and parameters: {'is_var_thres': None, 'dim_red': 'PCA', 'pca_n_components': 50, 'n_layers': 1, 'n_units_0': 64, 'activation': 'relu'}. Best is trial 119 with value: 0.4876278344362227.\u001b[0m\n",
      "\u001b[32m[I 2022-11-23 13:41:31,661]\u001b[0m Trial 124 finished with value: 0.4784687093595329 and parameters: {'is_var_thres': None, 'dim_red': 'PCA', 'pca_n_components': 51, 'n_layers': 1, 'n_units_0': 77, 'activation': 'relu'}. Best is trial 119 with value: 0.4876278344362227.\u001b[0m\n",
      "\u001b[32m[I 2022-11-23 13:42:48,134]\u001b[0m Trial 125 finished with value: 0.4792313494310802 and parameters: {'is_var_thres': None, 'dim_red': 'PCA', 'pca_n_components': 52, 'n_layers': 1, 'n_units_0': 76, 'activation': 'relu'}. Best is trial 119 with value: 0.4876278344362227.\u001b[0m\n",
      "\u001b[32m[I 2022-11-23 13:43:52,371]\u001b[0m Trial 126 finished with value: 0.4677943369495522 and parameters: {'is_var_thres': None, 'dim_red': 'PCA', 'pca_n_components': 52, 'n_layers': 1, 'n_units_0': 69, 'activation': 'relu'}. Best is trial 119 with value: 0.4876278344362227.\u001b[0m\n",
      "\u001b[32m[I 2022-11-23 13:44:43,648]\u001b[0m Trial 127 finished with value: 0.47351333838617615 and parameters: {'is_var_thres': None, 'dim_red': 'PCA', 'pca_n_components': 52, 'n_layers': 1, 'n_units_0': 66, 'activation': 'relu'}. Best is trial 119 with value: 0.4876278344362227.\u001b[0m\n",
      "\u001b[32m[I 2022-11-23 13:46:00,667]\u001b[0m Trial 128 finished with value: 0.4812765421287356 and parameters: {'is_var_thres': None, 'dim_red': 'PCA', 'pca_n_components': 51, 'n_layers': 1, 'n_units_0': 77, 'activation': 'relu'}. Best is trial 119 with value: 0.4876278344362227.\u001b[0m\n",
      "\u001b[32m[I 2022-11-23 13:48:49,762]\u001b[0m Trial 129 finished with value: 0.4592945929182908 and parameters: {'is_var_thres': None, 'dim_red': None, 'n_layers': 1, 'n_units_0': 83, 'activation': 'relu'}. Best is trial 119 with value: 0.4876278344362227.\u001b[0m\n",
      "\u001b[32m[I 2022-11-23 13:54:23,826]\u001b[0m Trial 130 finished with value: 0.3709914508091118 and parameters: {'is_var_thres': None, 'dim_red': 'PCA', 'pca_n_components': 51, 'n_layers': 2, 'n_units_0': 70, 'n_units_1': 122, 'activation': 'relu'}. Best is trial 119 with value: 0.4876278344362227.\u001b[0m\n",
      "\u001b[32m[I 2022-11-23 13:55:35,466]\u001b[0m Trial 131 finished with value: 0.47581343008633625 and parameters: {'is_var_thres': None, 'dim_red': 'PCA', 'pca_n_components': 52, 'n_layers': 1, 'n_units_0': 78, 'activation': 'relu'}. Best is trial 119 with value: 0.4876278344362227.\u001b[0m\n",
      "\u001b[32m[I 2022-11-23 13:56:20,881]\u001b[0m Trial 132 finished with value: 0.48391239603558567 and parameters: {'is_var_thres': None, 'dim_red': 'PCA', 'pca_n_components': 53, 'n_layers': 1, 'n_units_0': 53, 'activation': 'relu'}. Best is trial 119 with value: 0.4876278344362227.\u001b[0m\n",
      "\u001b[32m[I 2022-11-23 13:56:53,989]\u001b[0m Trial 133 finished with value: 0.476822857358587 and parameters: {'is_var_thres': None, 'dim_red': 'PCA', 'pca_n_components': 52, 'n_layers': 1, 'n_units_0': 25, 'activation': 'relu'}. Best is trial 119 with value: 0.4876278344362227.\u001b[0m\n",
      "\u001b[32m[I 2022-11-23 13:57:41,130]\u001b[0m Trial 134 finished with value: 0.48207445387812903 and parameters: {'is_var_thres': None, 'dim_red': 'PCA', 'pca_n_components': 53, 'n_layers': 1, 'n_units_0': 44, 'activation': 'relu'}. Best is trial 119 with value: 0.4876278344362227.\u001b[0m\n",
      "\u001b[32m[I 2022-11-23 13:58:29,902]\u001b[0m Trial 135 finished with value: 0.4735704279098368 and parameters: {'is_var_thres': None, 'dim_red': 'PCA', 'pca_n_components': 51, 'n_layers': 1, 'n_units_0': 48, 'activation': 'relu'}. Best is trial 119 with value: 0.4876278344362227.\u001b[0m\n",
      "\u001b[32m[I 2022-11-23 13:59:27,814]\u001b[0m Trial 136 finished with value: 0.4728887163999266 and parameters: {'is_var_thres': None, 'dim_red': 'PCA', 'pca_n_components': 53, 'n_layers': 1, 'n_units_0': 44, 'activation': 'relu'}. Best is trial 119 with value: 0.4876278344362227.\u001b[0m\n",
      "\u001b[32m[I 2022-11-23 14:00:26,802]\u001b[0m Trial 137 finished with value: 0.4763032648877579 and parameters: {'is_var_thres': None, 'dim_red': 'PCA', 'pca_n_components': 50, 'n_layers': 1, 'n_units_0': 59, 'activation': 'relu'}. Best is trial 119 with value: 0.4876278344362227.\u001b[0m\n",
      "\u001b[32m[I 2022-11-23 14:05:23,373]\u001b[0m Trial 138 finished with value: 0.3924341328759641 and parameters: {'is_var_thres': None, 'dim_red': 'PCA', 'pca_n_components': 52, 'n_layers': 2, 'n_units_0': 31, 'n_units_1': 145, 'activation': 'relu'}. Best is trial 119 with value: 0.4876278344362227.\u001b[0m\n",
      "\u001b[32m[I 2022-11-23 14:06:20,296]\u001b[0m Trial 139 finished with value: 0.4753843078325294 and parameters: {'is_var_thres': None, 'dim_red': 'PCA', 'pca_n_components': 53, 'n_layers': 1, 'n_units_0': 54, 'activation': 'relu'}. Best is trial 119 with value: 0.4876278344362227.\u001b[0m\n",
      "\u001b[32m[I 2022-11-23 14:07:38,244]\u001b[0m Trial 140 finished with value: 0.47562850375779286 and parameters: {'is_var_thres': None, 'dim_red': 'PCA', 'pca_n_components': 53, 'n_layers': 1, 'n_units_0': 75, 'activation': 'relu'}. Best is trial 119 with value: 0.4876278344362227.\u001b[0m\n",
      "\u001b[32m[I 2022-11-23 14:08:28,826]\u001b[0m Trial 141 finished with value: 0.46528512202482775 and parameters: {'is_var_thres': None, 'dim_red': 'PCA', 'pca_n_components': 51, 'n_layers': 1, 'n_units_0': 50, 'activation': 'relu'}. Best is trial 119 with value: 0.4876278344362227.\u001b[0m\n",
      "\u001b[32m[I 2022-11-23 14:09:29,144]\u001b[0m Trial 142 finished with value: 0.46862609059404 and parameters: {'is_var_thres': None, 'dim_red': 'PCA', 'pca_n_components': 52, 'n_layers': 1, 'n_units_0': 65, 'activation': 'relu'}. Best is trial 119 with value: 0.4876278344362227.\u001b[0m\n",
      "\u001b[32m[I 2022-11-23 14:10:48,403]\u001b[0m Trial 143 finished with value: 0.4759648060913465 and parameters: {'is_var_thres': None, 'dim_red': 'PCA', 'pca_n_components': 53, 'n_layers': 1, 'n_units_0': 87, 'activation': 'relu'}. Best is trial 119 with value: 0.4876278344362227.\u001b[0m\n",
      "\u001b[32m[I 2022-11-23 14:11:28,373]\u001b[0m Trial 144 finished with value: 0.4784183995329478 and parameters: {'is_var_thres': None, 'dim_red': 'PCA', 'pca_n_components': 54, 'n_layers': 1, 'n_units_0': 41, 'activation': 'relu'}. Best is trial 119 with value: 0.4876278344362227.\u001b[0m\n",
      "\u001b[32m[I 2022-11-23 14:12:41,303]\u001b[0m Trial 145 finished with value: 0.46399078661098825 and parameters: {'is_var_thres': None, 'dim_red': 'PCA', 'pca_n_components': 53, 'n_layers': 1, 'n_units_0': 81, 'activation': 'relu'}. Best is trial 119 with value: 0.4876278344362227.\u001b[0m\n",
      "\u001b[32m[I 2022-11-23 14:13:54,485]\u001b[0m Trial 146 finished with value: 0.473199371853221 and parameters: {'is_var_thres': None, 'dim_red': 'PCA', 'pca_n_components': 52, 'n_layers': 1, 'n_units_0': 80, 'activation': 'relu'}. Best is trial 119 with value: 0.4876278344362227.\u001b[0m\n",
      "\u001b[32m[I 2022-11-23 14:15:08,169]\u001b[0m Trial 147 finished with value: 0.4613341589329448 and parameters: {'is_var_thres': None, 'dim_red': 'PCA', 'pca_n_components': 52, 'n_layers': 1, 'n_units_0': 76, 'activation': 'relu'}. Best is trial 119 with value: 0.4876278344362227.\u001b[0m\n",
      "\u001b[32m[I 2022-11-23 14:15:43,139]\u001b[0m Trial 148 finished with value: 0.46789613185642026 and parameters: {'is_var_thres': None, 'dim_red': 'PCA', 'pca_n_components': 50, 'n_layers': 1, 'n_units_0': 31, 'activation': 'relu'}. Best is trial 119 with value: 0.4876278344362227.\u001b[0m\n",
      "\u001b[32m[I 2022-11-23 14:16:47,118]\u001b[0m Trial 149 finished with value: 0.4593453843211597 and parameters: {'is_var_thres': None, 'dim_red': 'PCA', 'pca_n_components': 58, 'n_layers': 1, 'n_units_0': 67, 'activation': 'relu'}. Best is trial 119 with value: 0.4876278344362227.\u001b[0m\n",
      "\u001b[32m[I 2022-11-23 14:20:59,006]\u001b[0m Trial 150 finished with value: 0.3678242706526859 and parameters: {'is_var_thres': None, 'dim_red': 'PCA', 'pca_n_components': 55, 'n_layers': 2, 'n_units_0': 72, 'n_units_1': 65, 'activation': 'relu'}. Best is trial 119 with value: 0.4876278344362227.\u001b[0m\n",
      "\u001b[32m[I 2022-11-23 14:22:55,111]\u001b[0m Trial 151 finished with value: 0.47477874644114293 and parameters: {'is_var_thres': 'var_thres', 'vthreshold': 0.00018, 'dim_red': 'PCA', 'pca_n_components': 54, 'n_layers': 1, 'n_units_0': 130, 'activation': 'relu'}. Best is trial 119 with value: 0.4876278344362227.\u001b[0m\n",
      "\u001b[32m[I 2022-11-23 14:23:37,928]\u001b[0m Trial 152 finished with value: 0.474762829407131 and parameters: {'is_var_thres': 'var_thres', 'vthreshold': 0.00012000000000000002, 'dim_red': 'PCA', 'pca_n_components': 54, 'n_layers': 1, 'n_units_0': 85, 'activation': 'tanh'}. Best is trial 119 with value: 0.4876278344362227.\u001b[0m\n",
      "\u001b[32m[I 2022-11-23 14:24:21,084]\u001b[0m Trial 153 finished with value: 0.47230521929755015 and parameters: {'is_var_thres': None, 'dim_red': 'PCA', 'pca_n_components': 53, 'n_layers': 1, 'n_units_0': 46, 'activation': 'relu'}. Best is trial 119 with value: 0.4876278344362227.\u001b[0m\n",
      "\u001b[32m[I 2022-11-23 14:25:15,038]\u001b[0m Trial 154 finished with value: 0.4777291627301102 and parameters: {'is_var_thres': 'var_thres', 'vthreshold': 0.0004, 'dim_red': 'PCA', 'pca_n_components': 55, 'n_layers': 1, 'n_units_0': 121, 'activation': 'tanh'}. Best is trial 119 with value: 0.4876278344362227.\u001b[0m\n",
      "\u001b[32m[I 2022-11-23 14:26:08,061]\u001b[0m Trial 155 finished with value: 0.49123506826417085 and parameters: {'is_var_thres': None, 'dim_red': 'PCA', 'pca_n_components': 51, 'n_layers': 1, 'n_units_0': 58, 'activation': 'relu'}. Best is trial 155 with value: 0.49123506826417085.\u001b[0m\n",
      "\u001b[32m[I 2022-11-23 14:27:27,163]\u001b[0m Trial 156 finished with value: 0.47941630914388333 and parameters: {'is_var_thres': None, 'dim_red': None, 'n_layers': 1, 'n_units_0': 57, 'activation': 'relu'}. Best is trial 155 with value: 0.49123506826417085.\u001b[0m\n",
      "\u001b[32m[I 2022-11-23 14:29:24,673]\u001b[0m Trial 157 finished with value: 0.4571989537492268 and parameters: {'is_var_thres': None, 'dim_red': None, 'n_layers': 1, 'n_units_0': 60, 'activation': 'relu'}. Best is trial 155 with value: 0.49123506826417085.\u001b[0m\n",
      "\u001b[32m[I 2022-11-23 14:31:15,596]\u001b[0m Trial 158 finished with value: 0.47038571789412364 and parameters: {'is_var_thres': None, 'dim_red': None, 'n_layers': 1, 'n_units_0': 56, 'activation': 'relu'}. Best is trial 155 with value: 0.49123506826417085.\u001b[0m\n",
      "\u001b[32m[I 2022-11-23 14:33:03,923]\u001b[0m Trial 159 finished with value: 0.4594080886570904 and parameters: {'is_var_thres': None, 'dim_red': None, 'n_layers': 1, 'n_units_0': 58, 'activation': 'relu'}. Best is trial 155 with value: 0.49123506826417085.\u001b[0m\n",
      "\u001b[32m[I 2022-11-23 14:37:07,378]\u001b[0m Trial 160 finished with value: 0.45358527247912955 and parameters: {'is_var_thres': None, 'dim_red': None, 'n_layers': 2, 'n_units_0': 50, 'n_units_1': 133, 'activation': 'relu'}. Best is trial 155 with value: 0.49123506826417085.\u001b[0m\n",
      "\u001b[32m[I 2022-11-23 14:39:09,018]\u001b[0m Trial 161 finished with value: 0.4654785620157728 and parameters: {'is_var_thres': None, 'dim_red': None, 'n_layers': 1, 'n_units_0': 62, 'activation': 'relu'}. Best is trial 155 with value: 0.49123506826417085.\u001b[0m\n",
      "\u001b[32m[I 2022-11-23 14:39:57,290]\u001b[0m Trial 162 finished with value: 0.4733445988895709 and parameters: {'is_var_thres': None, 'dim_red': 'PCA', 'pca_n_components': 51, 'n_layers': 1, 'n_units_0': 54, 'activation': 'relu'}. Best is trial 155 with value: 0.49123506826417085.\u001b[0m\n",
      "\u001b[32m[I 2022-11-23 14:40:40,264]\u001b[0m Trial 163 finished with value: 0.4850070214690218 and parameters: {'is_var_thres': None, 'dim_red': 'PCA', 'pca_n_components': 51, 'n_layers': 1, 'n_units_0': 36, 'activation': 'relu'}. Best is trial 155 with value: 0.49123506826417085.\u001b[0m\n",
      "\u001b[32m[I 2022-11-23 14:41:26,643]\u001b[0m Trial 164 finished with value: 0.4796389221069674 and parameters: {'is_var_thres': None, 'dim_red': 'PCA', 'pca_n_components': 51, 'n_layers': 1, 'n_units_0': 43, 'activation': 'relu'}. Best is trial 155 with value: 0.49123506826417085.\u001b[0m\n",
      "\u001b[32m[I 2022-11-23 14:42:07,075]\u001b[0m Trial 165 finished with value: 0.48649510765621223 and parameters: {'is_var_thres': None, 'dim_red': 'PCA', 'pca_n_components': 49, 'n_layers': 1, 'n_units_0': 38, 'activation': 'relu'}. Best is trial 155 with value: 0.49123506826417085.\u001b[0m\n",
      "\u001b[32m[I 2022-11-23 14:42:37,149]\u001b[0m Trial 166 finished with value: 0.47863412209414163 and parameters: {'is_var_thres': None, 'dim_red': 'PCA', 'pca_n_components': 49, 'n_layers': 1, 'n_units_0': 36, 'activation': 'relu'}. Best is trial 155 with value: 0.49123506826417085.\u001b[0m\n",
      "\u001b[32m[I 2022-11-23 14:43:18,058]\u001b[0m Trial 167 finished with value: 0.47594384115356697 and parameters: {'is_var_thres': None, 'dim_red': 'PCA', 'pca_n_components': 51, 'n_layers': 1, 'n_units_0': 41, 'activation': 'relu'}. Best is trial 155 with value: 0.49123506826417085.\u001b[0m\n",
      "\u001b[32m[I 2022-11-23 14:43:55,332]\u001b[0m Trial 168 finished with value: 0.47361733052866944 and parameters: {'is_var_thres': None, 'dim_red': 'PCA', 'pca_n_components': 50, 'n_layers': 1, 'n_units_0': 37, 'activation': 'relu'}. Best is trial 155 with value: 0.49123506826417085.\u001b[0m\n",
      "\u001b[32m[I 2022-11-23 14:49:19,908]\u001b[0m Trial 169 finished with value: 0.316534781814127 and parameters: {'is_var_thres': None, 'dim_red': 'PCA', 'pca_n_components': 51, 'n_layers': 3, 'n_units_0': 35, 'n_units_1': 115, 'n_units_2': 112, 'activation': 'relu'}. Best is trial 155 with value: 0.49123506826417085.\u001b[0m\n",
      "\u001b[32m[I 2022-11-23 14:50:03,460]\u001b[0m Trial 170 finished with value: 0.47340080532294665 and parameters: {'is_var_thres': None, 'dim_red': 'PCA', 'pca_n_components': 50, 'n_layers': 1, 'n_units_0': 43, 'activation': 'relu'}. Best is trial 155 with value: 0.49123506826417085.\u001b[0m\n",
      "\u001b[32m[I 2022-11-23 14:50:58,943]\u001b[0m Trial 171 finished with value: 0.455434470925317 and parameters: {'is_var_thres': None, 'dim_red': 'PCA', 'pca_n_components': 51, 'n_layers': 1, 'n_units_0': 49, 'activation': 'relu'}. Best is trial 155 with value: 0.49123506826417085.\u001b[0m\n",
      "\u001b[32m[I 2022-11-23 14:51:37,541]\u001b[0m Trial 172 finished with value: 0.4705234203671961 and parameters: {'is_var_thres': None, 'dim_red': 'PCA', 'pca_n_components': 44, 'n_layers': 1, 'n_units_0': 34, 'activation': 'relu'}. Best is trial 155 with value: 0.49123506826417085.\u001b[0m\n",
      "\u001b[32m[I 2022-11-23 14:52:14,431]\u001b[0m Trial 173 finished with value: 0.4734459957695608 and parameters: {'is_var_thres': None, 'dim_red': 'PCA', 'pca_n_components': 51, 'n_layers': 1, 'n_units_0': 40, 'activation': 'relu'}. Best is trial 155 with value: 0.49123506826417085.\u001b[0m\n",
      "\u001b[32m[I 2022-11-23 14:53:44,432]\u001b[0m Trial 174 finished with value: 0.46438400988166234 and parameters: {'is_var_thres': None, 'dim_red': None, 'n_layers': 1, 'n_units_0': 46, 'activation': 'relu'}. Best is trial 155 with value: 0.49123506826417085.\u001b[0m\n",
      "\u001b[32m[I 2022-11-23 14:58:10,739]\u001b[0m Trial 175 finished with value: 0.38302842517259195 and parameters: {'is_var_thres': None, 'dim_red': 'PCA', 'pca_n_components': 52, 'n_layers': 2, 'n_units_0': 46, 'n_units_1': 97, 'activation': 'relu'}. Best is trial 155 with value: 0.49123506826417085.\u001b[0m\n",
      "\u001b[32m[I 2022-11-23 14:59:10,037]\u001b[0m Trial 176 finished with value: 0.4779238520053705 and parameters: {'is_var_thres': None, 'dim_red': 'PCA', 'pca_n_components': 53, 'n_layers': 1, 'n_units_0': 53, 'activation': 'relu'}. Best is trial 155 with value: 0.49123506826417085.\u001b[0m\n",
      "\u001b[32m[I 2022-11-23 14:59:40,726]\u001b[0m Trial 177 finished with value: 0.4826384623873027 and parameters: {'is_var_thres': None, 'dim_red': 'PCA', 'pca_n_components': 52, 'n_layers': 1, 'n_units_0': 25, 'activation': 'relu'}. Best is trial 155 with value: 0.49123506826417085.\u001b[0m\n",
      "\u001b[32m[I 2022-11-23 15:00:10,193]\u001b[0m Trial 178 finished with value: 0.4772110593685304 and parameters: {'is_var_thres': None, 'dim_red': 'PCA', 'pca_n_components': 52, 'n_layers': 1, 'n_units_0': 20, 'activation': 'relu'}. Best is trial 155 with value: 0.49123506826417085.\u001b[0m\n",
      "\u001b[32m[I 2022-11-23 15:00:45,070]\u001b[0m Trial 179 finished with value: 0.4675973345650837 and parameters: {'is_var_thres': None, 'dim_red': 'PCA', 'pca_n_components': 51, 'n_layers': 1, 'n_units_0': 32, 'activation': 'relu'}. Best is trial 155 with value: 0.49123506826417085.\u001b[0m\n",
      "\u001b[32m[I 2022-11-23 15:01:18,167]\u001b[0m Trial 180 finished with value: 0.4778909775634819 and parameters: {'is_var_thres': None, 'dim_red': 'PCA', 'pca_n_components': 52, 'n_layers': 1, 'n_units_0': 25, 'activation': 'relu'}. Best is trial 155 with value: 0.49123506826417085.\u001b[0m\n",
      "\u001b[32m[I 2022-11-23 15:02:05,238]\u001b[0m Trial 181 finished with value: 0.4731770738525901 and parameters: {'is_var_thres': None, 'dim_red': 'PCA', 'pca_n_components': 49, 'n_layers': 1, 'n_units_0': 38, 'activation': 'relu'}. Best is trial 155 with value: 0.49123506826417085.\u001b[0m\n",
      "\u001b[32m[I 2022-11-23 15:02:38,608]\u001b[0m Trial 182 finished with value: 0.47987970927202694 and parameters: {'is_var_thres': None, 'dim_red': 'PCA', 'pca_n_components': 60, 'n_layers': 1, 'n_units_0': 27, 'activation': 'relu'}. Best is trial 155 with value: 0.49123506826417085.\u001b[0m\n",
      "\u001b[32m[I 2022-11-23 15:03:10,968]\u001b[0m Trial 183 finished with value: 0.48583017681128293 and parameters: {'is_var_thres': None, 'dim_red': 'PCA', 'pca_n_components': 59, 'n_layers': 1, 'n_units_0': 26, 'activation': 'relu'}. Best is trial 155 with value: 0.49123506826417085.\u001b[0m\n",
      "\u001b[32m[I 2022-11-23 15:03:39,410]\u001b[0m Trial 184 finished with value: 0.48007317615338624 and parameters: {'is_var_thres': None, 'dim_red': 'PCA', 'pca_n_components': 60, 'n_layers': 1, 'n_units_0': 18, 'activation': 'relu'}. Best is trial 155 with value: 0.49123506826417085.\u001b[0m\n",
      "\u001b[32m[I 2022-11-23 15:04:11,453]\u001b[0m Trial 185 finished with value: 0.4763605179592186 and parameters: {'is_var_thres': None, 'dim_red': 'PCA', 'pca_n_components': 60, 'n_layers': 1, 'n_units_0': 22, 'activation': 'relu'}. Best is trial 155 with value: 0.49123506826417085.\u001b[0m\n",
      "\u001b[32m[I 2022-11-23 15:08:15,523]\u001b[0m Trial 186 finished with value: 0.39577308365925495 and parameters: {'is_var_thres': None, 'dim_red': 'PCA', 'pca_n_components': 60, 'n_layers': 2, 'n_units_0': 27, 'n_units_1': 109, 'activation': 'relu'}. Best is trial 155 with value: 0.49123506826417085.\u001b[0m\n",
      "\u001b[32m[I 2022-11-23 15:08:46,665]\u001b[0m Trial 187 finished with value: 0.4729741409213971 and parameters: {'is_var_thres': None, 'dim_red': 'PCA', 'pca_n_components': 59, 'n_layers': 1, 'n_units_0': 23, 'activation': 'relu'}. Best is trial 155 with value: 0.49123506826417085.\u001b[0m\n",
      "\u001b[32m[I 2022-11-23 15:09:13,462]\u001b[0m Trial 188 finished with value: 0.4667195976229192 and parameters: {'is_var_thres': None, 'dim_red': 'PCA', 'pca_n_components': 59, 'n_layers': 1, 'n_units_0': 15, 'activation': 'relu'}. Best is trial 155 with value: 0.49123506826417085.\u001b[0m\n",
      "\u001b[32m[I 2022-11-23 15:09:40,939]\u001b[0m Trial 189 finished with value: 0.47183312597475685 and parameters: {'is_var_thres': None, 'dim_red': 'PCA', 'pca_n_components': 60, 'n_layers': 1, 'n_units_0': 21, 'activation': 'relu'}. Best is trial 155 with value: 0.49123506826417085.\u001b[0m\n",
      "\u001b[32m[I 2022-11-23 15:10:08,685]\u001b[0m Trial 190 finished with value: 0.47535555147910546 and parameters: {'is_var_thres': None, 'dim_red': 'PCA', 'pca_n_components': 59, 'n_layers': 1, 'n_units_0': 19, 'activation': 'relu'}. Best is trial 155 with value: 0.49123506826417085.\u001b[0m\n",
      "\u001b[32m[I 2022-11-23 15:10:33,160]\u001b[0m Trial 191 finished with value: 0.4697372676602435 and parameters: {'is_var_thres': None, 'dim_red': 'PCA', 'pca_n_components': 58, 'n_layers': 1, 'n_units_0': 11, 'activation': 'relu'}. Best is trial 155 with value: 0.49123506826417085.\u001b[0m\n",
      "\u001b[32m[I 2022-11-23 15:11:01,156]\u001b[0m Trial 192 finished with value: 0.4742561189135094 and parameters: {'is_var_thres': None, 'dim_red': 'PCA', 'pca_n_components': 57, 'n_layers': 1, 'n_units_0': 18, 'activation': 'relu'}. Best is trial 155 with value: 0.49123506826417085.\u001b[0m\n",
      "\u001b[32m[I 2022-11-23 15:11:32,153]\u001b[0m Trial 193 finished with value: 0.4710588862558879 and parameters: {'is_var_thres': None, 'dim_red': 'PCA', 'pca_n_components': 60, 'n_layers': 1, 'n_units_0': 28, 'activation': 'relu'}. Best is trial 155 with value: 0.49123506826417085.\u001b[0m\n",
      "\u001b[32m[I 2022-11-23 15:11:59,191]\u001b[0m Trial 194 finished with value: 0.48018769126166017 and parameters: {'is_var_thres': None, 'dim_red': 'PCA', 'pca_n_components': 60, 'n_layers': 1, 'n_units_0': 15, 'activation': 'relu'}. Best is trial 155 with value: 0.49123506826417085.\u001b[0m\n",
      "\u001b[32m[I 2022-11-23 15:12:32,227]\u001b[0m Trial 195 finished with value: 0.4657965756818344 and parameters: {'is_var_thres': None, 'dim_red': 'PCA', 'pca_n_components': 60, 'n_layers': 1, 'n_units_0': 24, 'activation': 'relu'}. Best is trial 155 with value: 0.49123506826417085.\u001b[0m\n",
      "\u001b[32m[I 2022-11-23 15:13:01,904]\u001b[0m Trial 196 finished with value: 0.47558216772123085 and parameters: {'is_var_thres': None, 'dim_red': 'PCA', 'pca_n_components': 59, 'n_layers': 1, 'n_units_0': 17, 'activation': 'relu'}. Best is trial 155 with value: 0.49123506826417085.\u001b[0m\n",
      "\u001b[32m[I 2022-11-23 15:13:24,441]\u001b[0m Trial 197 finished with value: 0.481374774940616 and parameters: {'is_var_thres': None, 'dim_red': 'PCA', 'pca_n_components': 60, 'n_layers': 1, 'n_units_0': 10, 'activation': 'relu'}. Best is trial 155 with value: 0.49123506826417085.\u001b[0m\n",
      "\u001b[32m[I 2022-11-23 15:13:48,495]\u001b[0m Trial 198 finished with value: 0.47686655054476096 and parameters: {'is_var_thres': None, 'dim_red': 'PCA', 'pca_n_components': 60, 'n_layers': 1, 'n_units_0': 11, 'activation': 'relu'}. Best is trial 155 with value: 0.49123506826417085.\u001b[0m\n",
      "\u001b[32m[I 2022-11-23 15:16:39,098]\u001b[0m Trial 199 finished with value: 0.41439188700169344 and parameters: {'is_var_thres': None, 'dim_red': 'PCA', 'pca_n_components': 48, 'n_layers': 2, 'n_units_0': 10, 'n_units_1': 81, 'activation': 'relu'}. Best is trial 155 with value: 0.49123506826417085.\u001b[0m\n",
      "\u001b[32m[I 2022-11-23 15:17:06,219]\u001b[0m Trial 200 finished with value: 0.4723088492157209 and parameters: {'is_var_thres': None, 'dim_red': 'PCA', 'pca_n_components': 59, 'n_layers': 1, 'n_units_0': 15, 'activation': 'relu'}. Best is trial 155 with value: 0.49123506826417085.\u001b[0m\n",
      "\u001b[32m[I 2022-11-23 15:17:33,048]\u001b[0m Trial 201 finished with value: 0.4780660539032354 and parameters: {'is_var_thres': None, 'dim_red': 'PCA', 'pca_n_components': 60, 'n_layers': 1, 'n_units_0': 13, 'activation': 'relu'}. Best is trial 155 with value: 0.49123506826417085.\u001b[0m\n",
      "\u001b[32m[I 2022-11-23 15:17:57,864]\u001b[0m Trial 202 finished with value: 0.4681634127012598 and parameters: {'is_var_thres': None, 'dim_red': 'PCA', 'pca_n_components': 60, 'n_layers': 1, 'n_units_0': 14, 'activation': 'relu'}. Best is trial 155 with value: 0.49123506826417085.\u001b[0m\n",
      "\u001b[32m[I 2022-11-23 15:18:31,495]\u001b[0m Trial 203 finished with value: 0.48022892475219986 and parameters: {'is_var_thres': None, 'dim_red': 'PCA', 'pca_n_components': 59, 'n_layers': 1, 'n_units_0': 26, 'activation': 'relu'}. Best is trial 155 with value: 0.49123506826417085.\u001b[0m\n",
      "\u001b[32m[I 2022-11-23 15:19:00,293]\u001b[0m Trial 204 finished with value: 0.48497052093347187 and parameters: {'is_var_thres': None, 'dim_red': 'PCA', 'pca_n_components': 59, 'n_layers': 1, 'n_units_0': 17, 'activation': 'relu'}. Best is trial 155 with value: 0.49123506826417085.\u001b[0m\n",
      "\u001b[32m[I 2022-11-23 15:19:33,963]\u001b[0m Trial 205 finished with value: 0.4778587835426908 and parameters: {'is_var_thres': None, 'dim_red': 'PCA', 'pca_n_components': 59, 'n_layers': 1, 'n_units_0': 30, 'activation': 'relu'}. Best is trial 155 with value: 0.49123506826417085.\u001b[0m\n",
      "\u001b[32m[I 2022-11-23 15:19:59,799]\u001b[0m Trial 206 finished with value: 0.47983097753481785 and parameters: {'is_var_thres': None, 'dim_red': 'PCA', 'pca_n_components': 58, 'n_layers': 1, 'n_units_0': 16, 'activation': 'relu'}. Best is trial 155 with value: 0.49123506826417085.\u001b[0m\n",
      "\u001b[32m[I 2022-11-23 15:21:54,517]\u001b[0m Trial 207 finished with value: 0.4568817810492014 and parameters: {'is_var_thres': None, 'dim_red': 'PCA', 'pca_n_components': 58, 'n_layers': 1, 'n_units_0': 124, 'activation': 'relu'}. Best is trial 155 with value: 0.49123506826417085.\u001b[0m\n",
      "\u001b[32m[I 2022-11-23 15:22:24,936]\u001b[0m Trial 208 finished with value: 0.472150239267456 and parameters: {'is_var_thres': None, 'dim_red': 'PCA', 'pca_n_components': 53, 'n_layers': 1, 'n_units_0': 29, 'activation': 'relu'}. Best is trial 155 with value: 0.49123506826417085.\u001b[0m\n",
      "\u001b[32m[I 2022-11-23 15:26:16,920]\u001b[0m Trial 209 finished with value: 0.39854922744303456 and parameters: {'is_var_thres': None, 'dim_red': 'PCA', 'pca_n_components': 52, 'n_layers': 2, 'n_units_0': 32, 'n_units_1': 89, 'activation': 'relu'}. Best is trial 155 with value: 0.49123506826417085.\u001b[0m\n",
      "\u001b[32m[I 2022-11-23 15:28:31,100]\u001b[0m Trial 210 finished with value: 0.4747306616151429 and parameters: {'is_var_thres': None, 'dim_red': 'PCA', 'pca_n_components': 59, 'n_layers': 1, 'n_units_0': 127, 'activation': 'relu'}. Best is trial 155 with value: 0.49123506826417085.\u001b[0m\n",
      "\u001b[32m[I 2022-11-23 15:29:01,322]\u001b[0m Trial 211 finished with value: 0.4694040494872782 and parameters: {'is_var_thres': None, 'dim_red': 'PCA', 'pca_n_components': 59, 'n_layers': 1, 'n_units_0': 20, 'activation': 'relu'}. Best is trial 155 with value: 0.49123506826417085.\u001b[0m\n",
      "\u001b[32m[I 2022-11-23 15:29:27,967]\u001b[0m Trial 212 finished with value: 0.46759235474772265 and parameters: {'is_var_thres': None, 'dim_red': 'PCA', 'pca_n_components': 53, 'n_layers': 1, 'n_units_0': 13, 'activation': 'relu'}. Best is trial 155 with value: 0.49123506826417085.\u001b[0m\n",
      "\u001b[32m[I 2022-11-23 15:29:57,692]\u001b[0m Trial 213 finished with value: 0.47669600813230073 and parameters: {'is_var_thres': None, 'dim_red': 'PCA', 'pca_n_components': 60, 'n_layers': 1, 'n_units_0': 21, 'activation': 'relu'}. Best is trial 155 with value: 0.49123506826417085.\u001b[0m\n",
      "\u001b[32m[I 2022-11-23 15:30:25,680]\u001b[0m Trial 214 finished with value: 0.4755778858596814 and parameters: {'is_var_thres': None, 'dim_red': 'PCA', 'pca_n_components': 52, 'n_layers': 1, 'n_units_0': 18, 'activation': 'relu'}. Best is trial 155 with value: 0.49123506826417085.\u001b[0m\n",
      "\u001b[32m[I 2022-11-23 15:30:49,760]\u001b[0m Trial 215 finished with value: 0.4702712574475493 and parameters: {'is_var_thres': None, 'dim_red': 'PCA', 'pca_n_components': 59, 'n_layers': 1, 'n_units_0': 10, 'activation': 'relu'}. Best is trial 155 with value: 0.49123506826417085.\u001b[0m\n",
      "\u001b[32m[I 2022-11-23 15:31:58,036]\u001b[0m Trial 216 finished with value: 0.47107257034989053 and parameters: {'is_var_thres': None, 'dim_red': 'PCA', 'pca_n_components': 50, 'n_layers': 1, 'n_units_0': 72, 'activation': 'relu'}. Best is trial 155 with value: 0.49123506826417085.\u001b[0m\n",
      "\u001b[32m[I 2022-11-23 15:34:10,118]\u001b[0m Trial 217 finished with value: 0.4643347876834974 and parameters: {'is_var_thres': None, 'dim_red': 'PCA', 'pca_n_components': 53, 'n_layers': 1, 'n_units_0': 135, 'activation': 'relu'}. Best is trial 155 with value: 0.49123506826417085.\u001b[0m\n",
      "\u001b[32m[I 2022-11-23 15:34:49,135]\u001b[0m Trial 218 finished with value: 0.4834053193634776 and parameters: {'is_var_thres': None, 'dim_red': 'PCA', 'pca_n_components': 52, 'n_layers': 1, 'n_units_0': 34, 'activation': 'relu'}. Best is trial 155 with value: 0.49123506826417085.\u001b[0m\n",
      "\u001b[32m[I 2022-11-23 15:35:25,086]\u001b[0m Trial 219 finished with value: 0.4645486012013686 and parameters: {'is_var_thres': None, 'dim_red': 'PCA', 'pca_n_components': 52, 'n_layers': 1, 'n_units_0': 39, 'activation': 'relu'}. Best is trial 155 with value: 0.49123506826417085.\u001b[0m\n",
      "\u001b[32m[I 2022-11-23 15:35:59,196]\u001b[0m Trial 220 finished with value: 0.4753081587671666 and parameters: {'is_var_thres': None, 'dim_red': 'PCA', 'pca_n_components': 51, 'n_layers': 1, 'n_units_0': 26, 'activation': 'relu'}. Best is trial 155 with value: 0.49123506826417085.\u001b[0m\n",
      "\u001b[32m[I 2022-11-23 15:36:34,577]\u001b[0m Trial 221 finished with value: 0.4759414665490338 and parameters: {'is_var_thres': None, 'dim_red': 'PCA', 'pca_n_components': 52, 'n_layers': 1, 'n_units_0': 34, 'activation': 'relu'}. Best is trial 155 with value: 0.49123506826417085.\u001b[0m\n",
      "\u001b[32m[I 2022-11-23 15:37:15,349]\u001b[0m Trial 222 finished with value: 0.4807172350541311 and parameters: {'is_var_thres': None, 'dim_red': 'PCA', 'pca_n_components': 53, 'n_layers': 1, 'n_units_0': 36, 'activation': 'relu'}. Best is trial 155 with value: 0.49123506826417085.\u001b[0m\n",
      "\u001b[32m[I 2022-11-23 15:38:01,813]\u001b[0m Trial 223 finished with value: 0.4720758837628961 and parameters: {'is_var_thres': None, 'dim_red': 'PCA', 'pca_n_components': 53, 'n_layers': 1, 'n_units_0': 36, 'activation': 'relu'}. Best is trial 155 with value: 0.49123506826417085.\u001b[0m\n",
      "\u001b[32m[I 2022-11-23 15:38:33,937]\u001b[0m Trial 224 finished with value: 0.47725398192887747 and parameters: {'is_var_thres': None, 'dim_red': 'PCA', 'pca_n_components': 53, 'n_layers': 1, 'n_units_0': 33, 'activation': 'relu'}. Best is trial 155 with value: 0.49123506826417085.\u001b[0m\n",
      "\u001b[32m[I 2022-11-23 15:39:08,316]\u001b[0m Trial 225 finished with value: 0.4748093560283578 and parameters: {'is_var_thres': None, 'dim_red': 'PCA', 'pca_n_components': 52, 'n_layers': 1, 'n_units_0': 30, 'activation': 'relu'}. Best is trial 155 with value: 0.49123506826417085.\u001b[0m\n",
      "\u001b[32m[I 2022-11-23 15:40:22,370]\u001b[0m Trial 226 finished with value: 0.47761578929942033 and parameters: {'is_var_thres': None, 'dim_red': 'PCA', 'pca_n_components': 54, 'n_layers': 1, 'n_units_0': 80, 'activation': 'relu'}. Best is trial 155 with value: 0.49123506826417085.\u001b[0m\n",
      "\u001b[32m[I 2022-11-23 15:40:59,676]\u001b[0m Trial 227 finished with value: 0.47861204319839956 and parameters: {'is_var_thres': None, 'dim_red': 'PCA', 'pca_n_components': 52, 'n_layers': 1, 'n_units_0': 38, 'activation': 'relu'}. Best is trial 155 with value: 0.49123506826417085.\u001b[0m\n",
      "\u001b[32m[I 2022-11-23 15:44:54,048]\u001b[0m Trial 228 finished with value: 0.3789309177539805 and parameters: {'is_var_thres': None, 'dim_red': 'PCA', 'pca_n_components': 53, 'n_layers': 2, 'n_units_0': 40, 'n_units_1': 101, 'activation': 'relu'}. Best is trial 155 with value: 0.49123506826417085.\u001b[0m\n",
      "\u001b[32m[I 2022-11-23 15:45:34,130]\u001b[0m Trial 229 finished with value: 0.47376114360863 and parameters: {'is_var_thres': None, 'dim_red': 'PCA', 'pca_n_components': 51, 'n_layers': 1, 'n_units_0': 35, 'activation': 'relu'}. Best is trial 155 with value: 0.49123506826417085.\u001b[0m\n",
      "\u001b[32m[I 2022-11-23 15:51:46,381]\u001b[0m Trial 230 finished with value: 0.40613540946612164 and parameters: {'is_var_thres': None, 'dim_red': 'PCA', 'pca_n_components': 51, 'n_layers': 3, 'n_units_0': 23, 'n_units_1': 119, 'n_units_2': 118, 'activation': 'relu'}. Best is trial 155 with value: 0.49123506826417085.\u001b[0m\n",
      "\u001b[32m[I 2022-11-23 15:52:14,501]\u001b[0m Trial 231 finished with value: 0.4714187418376262 and parameters: {'is_var_thres': None, 'dim_red': 'PCA', 'pca_n_components': 60, 'n_layers': 1, 'n_units_0': 16, 'activation': 'relu'}. Best is trial 155 with value: 0.49123506826417085.\u001b[0m\n",
      "\u001b[32m[I 2022-11-23 15:52:48,698]\u001b[0m Trial 232 finished with value: 0.4765847071600405 and parameters: {'is_var_thres': None, 'dim_red': 'PCA', 'pca_n_components': 58, 'n_layers': 1, 'n_units_0': 28, 'activation': 'relu'}. Best is trial 155 with value: 0.49123506826417085.\u001b[0m\n",
      "\u001b[32m[I 2022-11-23 15:54:26,230]\u001b[0m Trial 233 finished with value: 0.45865271481600195 and parameters: {'is_var_thres': None, 'dim_red': 'PCA', 'pca_n_components': 53, 'n_layers': 1, 'n_units_0': 107, 'activation': 'relu'}. Best is trial 155 with value: 0.49123506826417085.\u001b[0m\n",
      "\u001b[32m[I 2022-11-23 15:56:02,428]\u001b[0m Trial 234 finished with value: 0.47379074162913604 and parameters: {'is_var_thres': None, 'dim_red': 'PCA', 'pca_n_components': 52, 'n_layers': 1, 'n_units_0': 113, 'activation': 'relu'}. Best is trial 155 with value: 0.49123506826417085.\u001b[0m\n",
      "\u001b[32m[I 2022-11-23 15:58:14,338]\u001b[0m Trial 235 finished with value: 0.4783719679456656 and parameters: {'is_var_thres': None, 'dim_red': 'PCA', 'pca_n_components': 54, 'n_layers': 1, 'n_units_0': 132, 'activation': 'relu'}. Best is trial 155 with value: 0.49123506826417085.\u001b[0m\n",
      "\u001b[32m[I 2022-11-23 15:58:42,335]\u001b[0m Trial 236 finished with value: 0.46766506046571543 and parameters: {'is_var_thres': None, 'dim_red': 'PCA', 'pca_n_components': 53, 'n_layers': 1, 'n_units_0': 18, 'activation': 'relu'}. Best is trial 155 with value: 0.49123506826417085.\u001b[0m\n",
      "\u001b[32m[I 2022-11-23 15:59:21,531]\u001b[0m Trial 237 finished with value: 0.4754545418782743 and parameters: {'is_var_thres': None, 'dim_red': 'PCA', 'pca_n_components': 56, 'n_layers': 1, 'n_units_0': 43, 'activation': 'relu'}. Best is trial 155 with value: 0.49123506826417085.\u001b[0m\n",
      "\u001b[32m[I 2022-11-23 15:59:46,806]\u001b[0m Trial 238 finished with value: 0.4747759055773604 and parameters: {'is_var_thres': None, 'dim_red': 'PCA', 'pca_n_components': 50, 'n_layers': 1, 'n_units_0': 13, 'activation': 'relu'}. Best is trial 155 with value: 0.49123506826417085.\u001b[0m\n",
      "\u001b[32m[I 2022-11-23 16:01:31,976]\u001b[0m Trial 239 finished with value: 0.47914314312554235 and parameters: {'is_var_thres': None, 'dim_red': 'PCA', 'pca_n_components': 59, 'n_layers': 1, 'n_units_0': 119, 'activation': 'relu'}. Best is trial 155 with value: 0.49123506826417085.\u001b[0m\n",
      "/opt/conda/lib/python3.7/site-packages/sklearn/neural_network/_multilayer_perceptron.py:696: ConvergenceWarning: Stochastic Optimizer: Maximum iterations (1800) reached and the optimization hasn't converged yet.\n",
      "  ConvergenceWarning,\n",
      "/opt/conda/lib/python3.7/site-packages/sklearn/neural_network/_multilayer_perceptron.py:696: ConvergenceWarning: Stochastic Optimizer: Maximum iterations (1800) reached and the optimization hasn't converged yet.\n",
      "  ConvergenceWarning,\n",
      "/opt/conda/lib/python3.7/site-packages/sklearn/neural_network/_multilayer_perceptron.py:696: ConvergenceWarning: Stochastic Optimizer: Maximum iterations (1800) reached and the optimization hasn't converged yet.\n",
      "  ConvergenceWarning,\n",
      "/opt/conda/lib/python3.7/site-packages/sklearn/neural_network/_multilayer_perceptron.py:696: ConvergenceWarning: Stochastic Optimizer: Maximum iterations (1800) reached and the optimization hasn't converged yet.\n",
      "  ConvergenceWarning,\n",
      "/opt/conda/lib/python3.7/site-packages/sklearn/neural_network/_multilayer_perceptron.py:696: ConvergenceWarning: Stochastic Optimizer: Maximum iterations (1800) reached and the optimization hasn't converged yet.\n",
      "  ConvergenceWarning,\n",
      "/opt/conda/lib/python3.7/site-packages/sklearn/neural_network/_multilayer_perceptron.py:696: ConvergenceWarning: Stochastic Optimizer: Maximum iterations (1800) reached and the optimization hasn't converged yet.\n",
      "  ConvergenceWarning,\n",
      "/opt/conda/lib/python3.7/site-packages/sklearn/neural_network/_multilayer_perceptron.py:696: ConvergenceWarning: Stochastic Optimizer: Maximum iterations (1800) reached and the optimization hasn't converged yet.\n",
      "  ConvergenceWarning,\n",
      "/opt/conda/lib/python3.7/site-packages/sklearn/neural_network/_multilayer_perceptron.py:696: ConvergenceWarning: Stochastic Optimizer: Maximum iterations (1800) reached and the optimization hasn't converged yet.\n",
      "  ConvergenceWarning,\n",
      "/opt/conda/lib/python3.7/site-packages/sklearn/neural_network/_multilayer_perceptron.py:696: ConvergenceWarning: Stochastic Optimizer: Maximum iterations (1800) reached and the optimization hasn't converged yet.\n",
      "  ConvergenceWarning,\n",
      "/opt/conda/lib/python3.7/site-packages/sklearn/neural_network/_multilayer_perceptron.py:696: ConvergenceWarning: Stochastic Optimizer: Maximum iterations (1800) reached and the optimization hasn't converged yet.\n",
      "  ConvergenceWarning,\n",
      "/opt/conda/lib/python3.7/site-packages/sklearn/neural_network/_multilayer_perceptron.py:696: ConvergenceWarning: Stochastic Optimizer: Maximum iterations (1800) reached and the optimization hasn't converged yet.\n",
      "  ConvergenceWarning,\n",
      "/opt/conda/lib/python3.7/site-packages/sklearn/neural_network/_multilayer_perceptron.py:696: ConvergenceWarning: Stochastic Optimizer: Maximum iterations (1800) reached and the optimization hasn't converged yet.\n",
      "  ConvergenceWarning,\n",
      "/opt/conda/lib/python3.7/site-packages/sklearn/neural_network/_multilayer_perceptron.py:696: ConvergenceWarning: Stochastic Optimizer: Maximum iterations (1800) reached and the optimization hasn't converged yet.\n",
      "  ConvergenceWarning,\n",
      "/opt/conda/lib/python3.7/site-packages/sklearn/neural_network/_multilayer_perceptron.py:696: ConvergenceWarning: Stochastic Optimizer: Maximum iterations (1800) reached and the optimization hasn't converged yet.\n",
      "  ConvergenceWarning,\n",
      "/opt/conda/lib/python3.7/site-packages/sklearn/neural_network/_multilayer_perceptron.py:696: ConvergenceWarning: Stochastic Optimizer: Maximum iterations (1800) reached and the optimization hasn't converged yet.\n",
      "  ConvergenceWarning,\n",
      "/opt/conda/lib/python3.7/site-packages/sklearn/neural_network/_multilayer_perceptron.py:696: ConvergenceWarning: Stochastic Optimizer: Maximum iterations (1800) reached and the optimization hasn't converged yet.\n",
      "  ConvergenceWarning,\n",
      "/opt/conda/lib/python3.7/site-packages/sklearn/neural_network/_multilayer_perceptron.py:696: ConvergenceWarning: Stochastic Optimizer: Maximum iterations (1800) reached and the optimization hasn't converged yet.\n",
      "  ConvergenceWarning,\n",
      "/opt/conda/lib/python3.7/site-packages/sklearn/neural_network/_multilayer_perceptron.py:696: ConvergenceWarning: Stochastic Optimizer: Maximum iterations (1800) reached and the optimization hasn't converged yet.\n",
      "  ConvergenceWarning,\n",
      "/opt/conda/lib/python3.7/site-packages/sklearn/neural_network/_multilayer_perceptron.py:696: ConvergenceWarning: Stochastic Optimizer: Maximum iterations (1800) reached and the optimization hasn't converged yet.\n",
      "  ConvergenceWarning,\n",
      "/opt/conda/lib/python3.7/site-packages/sklearn/neural_network/_multilayer_perceptron.py:696: ConvergenceWarning: Stochastic Optimizer: Maximum iterations (1800) reached and the optimization hasn't converged yet.\n",
      "  ConvergenceWarning,\n",
      "/opt/conda/lib/python3.7/site-packages/sklearn/neural_network/_multilayer_perceptron.py:696: ConvergenceWarning: Stochastic Optimizer: Maximum iterations (1800) reached and the optimization hasn't converged yet.\n",
      "  ConvergenceWarning,\n",
      "/opt/conda/lib/python3.7/site-packages/sklearn/neural_network/_multilayer_perceptron.py:696: ConvergenceWarning: Stochastic Optimizer: Maximum iterations (1800) reached and the optimization hasn't converged yet.\n",
      "  ConvergenceWarning,\n",
      "/opt/conda/lib/python3.7/site-packages/sklearn/neural_network/_multilayer_perceptron.py:696: ConvergenceWarning: Stochastic Optimizer: Maximum iterations (1800) reached and the optimization hasn't converged yet.\n",
      "  ConvergenceWarning,\n",
      "/opt/conda/lib/python3.7/site-packages/sklearn/neural_network/_multilayer_perceptron.py:696: ConvergenceWarning: Stochastic Optimizer: Maximum iterations (1800) reached and the optimization hasn't converged yet.\n",
      "  ConvergenceWarning,\n",
      "/opt/conda/lib/python3.7/site-packages/sklearn/neural_network/_multilayer_perceptron.py:696: ConvergenceWarning: Stochastic Optimizer: Maximum iterations (1800) reached and the optimization hasn't converged yet.\n",
      "  ConvergenceWarning,\n",
      "/opt/conda/lib/python3.7/site-packages/sklearn/neural_network/_multilayer_perceptron.py:696: ConvergenceWarning: Stochastic Optimizer: Maximum iterations (1800) reached and the optimization hasn't converged yet.\n",
      "  ConvergenceWarning,\n",
      "/opt/conda/lib/python3.7/site-packages/sklearn/neural_network/_multilayer_perceptron.py:696: ConvergenceWarning: Stochastic Optimizer: Maximum iterations (1800) reached and the optimization hasn't converged yet.\n",
      "  ConvergenceWarning,\n",
      "/opt/conda/lib/python3.7/site-packages/sklearn/neural_network/_multilayer_perceptron.py:696: ConvergenceWarning: Stochastic Optimizer: Maximum iterations (1800) reached and the optimization hasn't converged yet.\n",
      "  ConvergenceWarning,\n",
      "/opt/conda/lib/python3.7/site-packages/sklearn/neural_network/_multilayer_perceptron.py:696: ConvergenceWarning: Stochastic Optimizer: Maximum iterations (1800) reached and the optimization hasn't converged yet.\n",
      "  ConvergenceWarning,\n",
      "/opt/conda/lib/python3.7/site-packages/sklearn/neural_network/_multilayer_perceptron.py:696: ConvergenceWarning: Stochastic Optimizer: Maximum iterations (1800) reached and the optimization hasn't converged yet.\n",
      "  ConvergenceWarning,\n",
      "/opt/conda/lib/python3.7/site-packages/sklearn/neural_network/_multilayer_perceptron.py:696: ConvergenceWarning: Stochastic Optimizer: Maximum iterations (1800) reached and the optimization hasn't converged yet.\n",
      "  ConvergenceWarning,\n",
      "/opt/conda/lib/python3.7/site-packages/sklearn/neural_network/_multilayer_perceptron.py:696: ConvergenceWarning: Stochastic Optimizer: Maximum iterations (1800) reached and the optimization hasn't converged yet.\n",
      "  ConvergenceWarning,\n",
      "/opt/conda/lib/python3.7/site-packages/sklearn/neural_network/_multilayer_perceptron.py:696: ConvergenceWarning: Stochastic Optimizer: Maximum iterations (1800) reached and the optimization hasn't converged yet.\n",
      "  ConvergenceWarning,\n",
      "/opt/conda/lib/python3.7/site-packages/sklearn/neural_network/_multilayer_perceptron.py:696: ConvergenceWarning: Stochastic Optimizer: Maximum iterations (1800) reached and the optimization hasn't converged yet.\n",
      "  ConvergenceWarning,\n",
      "/opt/conda/lib/python3.7/site-packages/sklearn/neural_network/_multilayer_perceptron.py:696: ConvergenceWarning: Stochastic Optimizer: Maximum iterations (1800) reached and the optimization hasn't converged yet.\n",
      "  ConvergenceWarning,\n",
      "/opt/conda/lib/python3.7/site-packages/sklearn/neural_network/_multilayer_perceptron.py:696: ConvergenceWarning: Stochastic Optimizer: Maximum iterations (1800) reached and the optimization hasn't converged yet.\n",
      "  ConvergenceWarning,\n",
      "\u001b[32m[I 2022-11-23 16:04:46,939]\u001b[0m Trial 240 finished with value: 0.399555908800751 and parameters: {'is_var_thres': 'var_thres', 'vthreshold': 0.0005, 'dim_red': 'PCA', 'pca_n_components': 52, 'n_layers': 2, 'n_units_0': 26, 'n_units_1': 55, 'activation': 'relu'}. Best is trial 155 with value: 0.49123506826417085.\u001b[0m\n",
      "\u001b[32m[I 2022-11-23 16:05:20,231]\u001b[0m Trial 241 finished with value: 0.4761299827169143 and parameters: {'is_var_thres': None, 'dim_red': 'PCA', 'pca_n_components': 60, 'n_layers': 1, 'n_units_0': 23, 'activation': 'relu'}. Best is trial 155 with value: 0.49123506826417085.\u001b[0m\n",
      "\u001b[32m[I 2022-11-23 16:05:53,709]\u001b[0m Trial 242 finished with value: 0.48036635841811276 and parameters: {'is_var_thres': None, 'dim_red': 'PCA', 'pca_n_components': 60, 'n_layers': 1, 'n_units_0': 26, 'activation': 'relu'}. Best is trial 155 with value: 0.49123506826417085.\u001b[0m\n",
      "\u001b[32m[I 2022-11-23 16:06:31,966]\u001b[0m Trial 243 finished with value: 0.476906605498432 and parameters: {'is_var_thres': None, 'dim_red': 'PCA', 'pca_n_components': 60, 'n_layers': 1, 'n_units_0': 31, 'activation': 'relu'}. Best is trial 155 with value: 0.49123506826417085.\u001b[0m\n",
      "\u001b[32m[I 2022-11-23 16:07:12,933]\u001b[0m Trial 244 finished with value: 0.48004479951663565 and parameters: {'is_var_thres': None, 'dim_red': 'PCA', 'pca_n_components': 60, 'n_layers': 1, 'n_units_0': 34, 'activation': 'relu'}. Best is trial 155 with value: 0.49123506826417085.\u001b[0m\n",
      "\u001b[32m[I 2022-11-23 16:07:46,428]\u001b[0m Trial 245 finished with value: 0.4773561418338124 and parameters: {'is_var_thres': None, 'dim_red': 'PCA', 'pca_n_components': 59, 'n_layers': 1, 'n_units_0': 26, 'activation': 'relu'}. Best is trial 155 with value: 0.49123506826417085.\u001b[0m\n",
      "\u001b[32m[I 2022-11-23 16:08:51,960]\u001b[0m Trial 246 finished with value: 0.4786152100942954 and parameters: {'is_var_thres': None, 'dim_red': 'PCA', 'pca_n_components': 57, 'n_layers': 1, 'n_units_0': 75, 'activation': 'relu'}. Best is trial 155 with value: 0.49123506826417085.\u001b[0m\n",
      "\u001b[32m[I 2022-11-23 16:09:21,893]\u001b[0m Trial 247 finished with value: 0.48046120366377626 and parameters: {'is_var_thres': None, 'dim_red': 'PCA', 'pca_n_components': 59, 'n_layers': 1, 'n_units_0': 22, 'activation': 'relu'}. Best is trial 155 with value: 0.49123506826417085.\u001b[0m\n",
      "\u001b[32m[I 2022-11-23 16:09:51,904]\u001b[0m Trial 248 finished with value: 0.47431028551391474 and parameters: {'is_var_thres': None, 'dim_red': 'PCA', 'pca_n_components': 59, 'n_layers': 1, 'n_units_0': 21, 'activation': 'relu'}. Best is trial 155 with value: 0.49123506826417085.\u001b[0m\n",
      "\u001b[32m[I 2022-11-23 16:11:04,541]\u001b[0m Trial 249 finished with value: 0.4588189284050639 and parameters: {'is_var_thres': 'var_thres', 'vthreshold': 0.00045000000000000004, 'dim_red': 'PCA', 'pca_n_components': 58, 'n_layers': 1, 'n_units_0': 69, 'activation': 'relu'}. Best is trial 155 with value: 0.49123506826417085.\u001b[0m\n",
      "\u001b[32m[I 2022-11-23 16:12:58,868]\u001b[0m Trial 250 finished with value: 0.46954888168375036 and parameters: {'is_var_thres': None, 'dim_red': 'PCA', 'pca_n_components': 51, 'n_layers': 1, 'n_units_0': 126, 'activation': 'relu'}. Best is trial 155 with value: 0.49123506826417085.\u001b[0m\n",
      "\u001b[32m[I 2022-11-23 16:13:31,150]\u001b[0m Trial 251 finished with value: 0.47265055064869443 and parameters: {'is_var_thres': None, 'dim_red': 'PCA', 'pca_n_components': 51, 'n_layers': 1, 'n_units_0': 25, 'activation': 'relu'}. Best is trial 155 with value: 0.49123506826417085.\u001b[0m\n",
      "\u001b[32m[I 2022-11-23 16:14:06,593]\u001b[0m Trial 252 finished with value: 0.48334834950374805 and parameters: {'is_var_thres': None, 'dim_red': 'PCA', 'pca_n_components': 53, 'n_layers': 1, 'n_units_0': 29, 'activation': 'relu'}. Best is trial 155 with value: 0.49123506826417085.\u001b[0m\n",
      "\u001b[32m[I 2022-11-23 16:14:40,868]\u001b[0m Trial 253 finished with value: 0.47464112116051344 and parameters: {'is_var_thres': None, 'dim_red': 'PCA', 'pca_n_components': 53, 'n_layers': 1, 'n_units_0': 29, 'activation': 'relu'}. Best is trial 155 with value: 0.49123506826417085.\u001b[0m\n",
      "\u001b[32m[I 2022-11-23 16:17:58,603]\u001b[0m Trial 254 finished with value: 0.3768455225533424 and parameters: {'is_var_thres': 'var_thres', 'vthreshold': 4e-05, 'dim_red': 'PCA', 'pca_n_components': 54, 'n_layers': 2, 'n_units_0': 28, 'n_units_1': 70, 'activation': 'relu'}. Best is trial 155 with value: 0.49123506826417085.\u001b[0m\n",
      "\u001b[32m[I 2022-11-23 16:18:24,461]\u001b[0m Trial 255 finished with value: 0.4746828520428884 and parameters: {'is_var_thres': None, 'dim_red': 'PCA', 'pca_n_components': 48, 'n_layers': 1, 'n_units_0': 32, 'activation': 'tanh'}. Best is trial 155 with value: 0.49123506826417085.\u001b[0m\n",
      "\u001b[32m[I 2022-11-23 16:19:12,579]\u001b[0m Trial 256 finished with value: 0.46551519092990395 and parameters: {'is_var_thres': None, 'dim_red': 'PCA', 'pca_n_components': 52, 'n_layers': 1, 'n_units_0': 37, 'activation': 'relu'}. Best is trial 155 with value: 0.49123506826417085.\u001b[0m\n",
      "\u001b[32m[I 2022-11-23 16:19:41,813]\u001b[0m Trial 257 finished with value: 0.47141256521916575 and parameters: {'is_var_thres': None, 'dim_red': 'PCA', 'pca_n_components': 53, 'n_layers': 1, 'n_units_0': 23, 'activation': 'relu'}. Best is trial 155 with value: 0.49123506826417085.\u001b[0m\n",
      "\u001b[32m[I 2022-11-23 16:21:44,882]\u001b[0m Trial 258 finished with value: 0.4629498732078031 and parameters: {'is_var_thres': None, 'dim_red': 'PCA', 'pca_n_components': 53, 'n_layers': 1, 'n_units_0': 130, 'activation': 'relu'}. Best is trial 155 with value: 0.49123506826417085.\u001b[0m\n",
      "\u001b[32m[I 2022-11-23 16:22:21,384]\u001b[0m Trial 259 finished with value: 0.4785477907973381 and parameters: {'is_var_thres': 'var_thres', 'vthreshold': 0.00032, 'dim_red': 'PCA', 'pca_n_components': 54, 'n_layers': 1, 'n_units_0': 29, 'activation': 'relu'}. Best is trial 155 with value: 0.49123506826417085.\u001b[0m\n",
      "\u001b[32m[I 2022-11-23 16:22:48,715]\u001b[0m Trial 260 finished with value: 0.4745588490277021 and parameters: {'is_var_thres': None, 'dim_red': 'PCA', 'pca_n_components': 52, 'n_layers': 1, 'n_units_0': 32, 'activation': 'tanh'}. Best is trial 155 with value: 0.49123506826417085.\u001b[0m\n",
      "\u001b[32m[I 2022-11-23 16:24:28,572]\u001b[0m Trial 261 finished with value: 0.46804514558821336 and parameters: {'is_var_thres': None, 'dim_red': 'PCA', 'pca_n_components': 50, 'n_layers': 1, 'n_units_0': 110, 'activation': 'relu'}. Best is trial 155 with value: 0.49123506826417085.\u001b[0m\n",
      "\u001b[32m[I 2022-11-23 16:31:17,156]\u001b[0m Trial 262 finished with value: 0.3735394290098591 and parameters: {'is_var_thres': None, 'dim_red': 'PCA', 'pca_n_components': 49, 'n_layers': 2, 'n_units_0': 115, 'n_units_1': 138, 'activation': 'relu'}. Best is trial 155 with value: 0.49123506826417085.\u001b[0m\n",
      "\u001b[32m[I 2022-11-23 16:32:29,830]\u001b[0m Trial 263 finished with value: 0.4675862464340823 and parameters: {'is_var_thres': None, 'dim_red': 'PCA', 'pca_n_components': 52, 'n_layers': 1, 'n_units_0': 78, 'activation': 'relu'}. Best is trial 155 with value: 0.49123506826417085.\u001b[0m\n",
      "\u001b[32m[I 2022-11-23 16:33:42,629]\u001b[0m Trial 264 finished with value: 0.4771562354483813 and parameters: {'is_var_thres': 'var_thres', 'vthreshold': 0.00035000000000000005, 'dim_red': 'PCA', 'pca_n_components': 53, 'n_layers': 1, 'n_units_0': 82, 'activation': 'relu'}. Best is trial 155 with value: 0.49123506826417085.\u001b[0m\n",
      "\u001b[32m[I 2022-11-23 16:35:38,989]\u001b[0m Trial 265 finished with value: 0.4633821253968299 and parameters: {'is_var_thres': None, 'dim_red': 'PCA', 'pca_n_components': 51, 'n_layers': 1, 'n_units_0': 104, 'activation': 'relu'}. Best is trial 155 with value: 0.49123506826417085.\u001b[0m\n",
      "\u001b[32m[I 2022-11-23 16:36:04,858]\u001b[0m Trial 266 finished with value: 0.4731661665133246 and parameters: {'is_var_thres': None, 'dim_red': 'PCA', 'pca_n_components': 55, 'n_layers': 1, 'n_units_0': 25, 'activation': 'tanh'}. Best is trial 155 with value: 0.49123506826417085.\u001b[0m\n",
      "\u001b[32m[I 2022-11-23 16:36:46,304]\u001b[0m Trial 267 finished with value: 0.47783877418843534 and parameters: {'is_var_thres': None, 'dim_red': 'PCA', 'pca_n_components': 54, 'n_layers': 1, 'n_units_0': 34, 'activation': 'relu'}. Best is trial 155 with value: 0.49123506826417085.\u001b[0m\n",
      "\u001b[32m[I 2022-11-23 16:37:35,827]\u001b[0m Trial 268 finished with value: 0.46407105485527483 and parameters: {'is_var_thres': None, 'dim_red': 'PCA', 'pca_n_components': 58, 'n_layers': 1, 'n_units_0': 40, 'activation': 'relu'}. Best is trial 155 with value: 0.49123506826417085.\u001b[0m\n",
      "\u001b[32m[I 2022-11-23 16:39:16,951]\u001b[0m Trial 269 finished with value: 0.4741804281432961 and parameters: {'is_var_thres': 'var_thres', 'vthreshold': 0.00038, 'dim_red': 'PCA', 'pca_n_components': 53, 'n_layers': 1, 'n_units_0': 122, 'activation': 'relu'}. Best is trial 155 with value: 0.49123506826417085.\u001b[0m\n",
      "\u001b[32m[I 2022-11-23 16:40:07,105]\u001b[0m Trial 270 finished with value: 0.4620337495754203 and parameters: {'is_var_thres': None, 'dim_red': 'PCA', 'pca_n_components': 52, 'n_layers': 1, 'n_units_0': 52, 'activation': 'relu'}. Best is trial 155 with value: 0.49123506826417085.\u001b[0m\n",
      "\u001b[32m[I 2022-11-23 16:40:51,076]\u001b[0m Trial 271 finished with value: 0.47158344893081894 and parameters: {'is_var_thres': None, 'dim_red': 'PCA', 'pca_n_components': 51, 'n_layers': 1, 'n_units_0': 36, 'activation': 'relu'}. Best is trial 155 with value: 0.49123506826417085.\u001b[0m\n",
      "\u001b[32m[I 2022-11-23 16:45:18,977]\u001b[0m Trial 272 finished with value: 0.4389459394939544 and parameters: {'is_var_thres': None, 'dim_red': 'PCA', 'pca_n_components': 59, 'n_layers': 2, 'n_units_0': 27, 'n_units_1': 130, 'activation': 'tanh'}. Best is trial 155 with value: 0.49123506826417085.\u001b[0m\n",
      "\u001b[32m[I 2022-11-23 16:45:50,702]\u001b[0m Trial 273 finished with value: 0.4693522582429326 and parameters: {'is_var_thres': None, 'dim_red': 'PCA', 'pca_n_components': 52, 'n_layers': 1, 'n_units_0': 24, 'activation': 'relu'}. Best is trial 155 with value: 0.49123506826417085.\u001b[0m\n",
      "\u001b[32m[I 2022-11-23 16:46:46,707]\u001b[0m Trial 274 finished with value: 0.4680483775457457 and parameters: {'is_var_thres': 'var_thres', 'vthreshold': 0.00047000000000000004, 'dim_red': 'PCA', 'pca_n_components': 53, 'n_layers': 1, 'n_units_0': 45, 'activation': 'relu'}. Best is trial 155 with value: 0.49123506826417085.\u001b[0m\n",
      "\u001b[32m[I 2022-11-23 16:48:20,730]\u001b[0m Trial 275 finished with value: 0.46710618484185656 and parameters: {'is_var_thres': None, 'dim_red': 'PCA', 'pca_n_components': 50, 'n_layers': 1, 'n_units_0': 99, 'activation': 'relu'}. Best is trial 155 with value: 0.49123506826417085.\u001b[0m\n",
      "\u001b[32m[I 2022-11-23 16:48:57,309]\u001b[0m Trial 276 finished with value: 0.46772125919996127 and parameters: {'is_var_thres': None, 'dim_red': 'PCA', 'pca_n_components': 52, 'n_layers': 1, 'n_units_0': 30, 'activation': 'relu'}. Best is trial 155 with value: 0.49123506826417085.\u001b[0m\n",
      "\u001b[32m[I 2022-11-23 16:54:58,495]\u001b[0m Trial 277 finished with value: 0.37088963126939367 and parameters: {'is_var_thres': None, 'dim_red': 'PCA', 'pca_n_components': 53, 'n_layers': 2, 'n_units_0': 72, 'n_units_1': 145, 'activation': 'relu'}. Best is trial 155 with value: 0.49123506826417085.\u001b[0m\n",
      "\u001b[32m[I 2022-11-23 16:55:22,338]\u001b[0m Trial 278 finished with value: 0.4702577217609737 and parameters: {'is_var_thres': None, 'dim_red': 'PCA', 'pca_n_components': 59, 'n_layers': 1, 'n_units_0': 21, 'activation': 'tanh'}. Best is trial 155 with value: 0.49123506826417085.\u001b[0m\n",
      "\u001b[32m[I 2022-11-23 16:57:06,771]\u001b[0m Trial 279 finished with value: 0.48626157525022534 and parameters: {'is_var_thres': 'var_thres', 'vthreshold': 6.000000000000001e-05, 'dim_red': 'PCA', 'pca_n_components': 51, 'n_layers': 1, 'n_units_0': 107, 'activation': 'relu'}. Best is trial 155 with value: 0.49123506826417085.\u001b[0m\n",
      "\u001b[32m[I 2022-11-23 16:58:57,031]\u001b[0m Trial 280 finished with value: 0.4588931144725527 and parameters: {'is_var_thres': 'var_thres', 'vthreshold': 1e-05, 'dim_red': 'PCA', 'pca_n_components': 51, 'n_layers': 1, 'n_units_0': 109, 'activation': 'relu'}. Best is trial 155 with value: 0.49123506826417085.\u001b[0m\n",
      "\u001b[32m[I 2022-11-23 17:00:34,776]\u001b[0m Trial 281 finished with value: 0.4710785082910419 and parameters: {'is_var_thres': 'var_thres', 'vthreshold': 0.0, 'dim_red': 'PCA', 'pca_n_components': 49, 'n_layers': 1, 'n_units_0': 112, 'activation': 'relu'}. Best is trial 155 with value: 0.49123506826417085.\u001b[0m\n",
      "\u001b[32m[I 2022-11-23 17:05:05,725]\u001b[0m Trial 282 finished with value: 0.3465583683954999 and parameters: {'is_var_thres': 'var_thres', 'vthreshold': 6.000000000000001e-05, 'dim_red': 'PCA', 'pca_n_components': 51, 'n_layers': 3, 'n_units_0': 106, 'n_units_1': 114, 'n_units_2': 41, 'activation': 'relu'}. Best is trial 155 with value: 0.49123506826417085.\u001b[0m\n",
      "\u001b[32m[I 2022-11-23 17:06:45,893]\u001b[0m Trial 283 finished with value: 0.4677632726506773 and parameters: {'is_var_thres': 'var_thres', 'vthreshold': 0.0001, 'dim_red': 'PCA', 'pca_n_components': 52, 'n_layers': 1, 'n_units_0': 103, 'activation': 'relu'}. Best is trial 155 with value: 0.49123506826417085.\u001b[0m\n",
      "\u001b[32m[I 2022-11-23 17:07:35,979]\u001b[0m Trial 284 finished with value: 0.47453055805159694 and parameters: {'is_var_thres': 'var_thres', 'vthreshold': 8e-05, 'dim_red': 'PCA', 'pca_n_components': 54, 'n_layers': 1, 'n_units_0': 118, 'activation': 'tanh'}. Best is trial 155 with value: 0.49123506826417085.\u001b[0m\n",
      "\u001b[32m[I 2022-11-23 17:08:57,601]\u001b[0m Trial 285 finished with value: 0.47695505588807574 and parameters: {'is_var_thres': 'var_thres', 'vthreshold': 5e-05, 'dim_red': 'PCA', 'pca_n_components': 50, 'n_layers': 1, 'n_units_0': 78, 'activation': 'relu'}. Best is trial 155 with value: 0.49123506826417085.\u001b[0m\n",
      "\u001b[32m[I 2022-11-23 17:10:49,175]\u001b[0m Trial 286 finished with value: 0.4811085855219237 and parameters: {'is_var_thres': 'var_thres', 'vthreshold': 0.0004, 'dim_red': 'PCA', 'pca_n_components': 51, 'n_layers': 1, 'n_units_0': 101, 'activation': 'relu'}. Best is trial 155 with value: 0.49123506826417085.\u001b[0m\n",
      "\u001b[32m[I 2022-11-23 17:17:07,684]\u001b[0m Trial 287 finished with value: 0.37351163248024954 and parameters: {'is_var_thres': 'var_thres', 'vthreshold': 0.00042, 'dim_red': 'PCA', 'pca_n_components': 51, 'n_layers': 2, 'n_units_0': 96, 'n_units_1': 124, 'activation': 'relu'}. Best is trial 155 with value: 0.49123506826417085.\u001b[0m\n",
      "\u001b[32m[I 2022-11-23 17:18:02,663]\u001b[0m Trial 288 finished with value: 0.4866173434464329 and parameters: {'is_var_thres': 'var_thres', 'vthreshold': 0.00045000000000000004, 'dim_red': 'PCA', 'pca_n_components': 50, 'n_layers': 1, 'n_units_0': 62, 'activation': 'relu'}. Best is trial 155 with value: 0.49123506826417085.\u001b[0m\n",
      "\u001b[32m[I 2022-11-23 17:19:03,956]\u001b[0m Trial 289 finished with value: 0.46901432728738757 and parameters: {'is_var_thres': 'var_thres', 'vthreshold': 0.00045000000000000004, 'dim_red': 'PCA', 'pca_n_components': 50, 'n_layers': 1, 'n_units_0': 64, 'activation': 'relu'}. Best is trial 155 with value: 0.49123506826417085.\u001b[0m\n",
      "\u001b[32m[I 2022-11-23 17:20:05,766]\u001b[0m Trial 290 finished with value: 0.47220158738842366 and parameters: {'is_var_thres': 'var_thres', 'vthreshold': 0.0004, 'dim_red': 'PCA', 'pca_n_components': 50, 'n_layers': 1, 'n_units_0': 61, 'activation': 'relu'}. Best is trial 155 with value: 0.49123506826417085.\u001b[0m\n",
      "\u001b[32m[I 2022-11-23 17:20:57,915]\u001b[0m Trial 291 finished with value: 0.46764787329891033 and parameters: {'is_var_thres': 'var_thres', 'vthreshold': 0.00041000000000000005, 'dim_red': 'PCA', 'pca_n_components': 51, 'n_layers': 1, 'n_units_0': 55, 'activation': 'relu'}. Best is trial 155 with value: 0.49123506826417085.\u001b[0m\n",
      "\u001b[32m[I 2022-11-23 17:22:47,018]\u001b[0m Trial 292 finished with value: 0.4647644699328467 and parameters: {'is_var_thres': 'var_thres', 'vthreshold': 0.00043000000000000004, 'dim_red': 'PCA', 'pca_n_components': 51, 'n_layers': 1, 'n_units_0': 116, 'activation': 'relu'}. Best is trial 155 with value: 0.49123506826417085.\u001b[0m\n",
      "\u001b[32m[I 2022-11-23 17:23:57,334]\u001b[0m Trial 293 finished with value: 0.46155811200342073 and parameters: {'is_var_thres': 'var_thres', 'vthreshold': 0.00039000000000000005, 'dim_red': 'PCA', 'pca_n_components': 49, 'n_layers': 1, 'n_units_0': 67, 'activation': 'relu'}. Best is trial 155 with value: 0.49123506826417085.\u001b[0m\n",
      "\u001b[32m[I 2022-11-23 17:24:49,731]\u001b[0m Trial 294 finished with value: 0.4656941617963655 and parameters: {'is_var_thres': 'var_thres', 'vthreshold': 0.00037000000000000005, 'dim_red': 'PCA', 'pca_n_components': 50, 'n_layers': 1, 'n_units_0': 52, 'activation': 'relu'}. Best is trial 155 with value: 0.49123506826417085.\u001b[0m\n",
      "\u001b[32m[I 2022-11-23 17:27:04,886]\u001b[0m Trial 295 finished with value: 0.4632113267587907 and parameters: {'is_var_thres': 'var_thres', 'vthreshold': 0.00046, 'dim_red': None, 'n_layers': 1, 'n_units_0': 63, 'activation': 'relu'}. Best is trial 155 with value: 0.49123506826417085.\u001b[0m\n",
      "\u001b[32m[I 2022-11-23 17:28:29,734]\u001b[0m Trial 296 finished with value: 0.47238774745643763 and parameters: {'is_var_thres': 'var_thres', 'vthreshold': 0.00048000000000000007, 'dim_red': 'PCA', 'pca_n_components': 52, 'n_layers': 1, 'n_units_0': 101, 'activation': 'relu'}. Best is trial 155 with value: 0.49123506826417085.\u001b[0m\n",
      "\u001b[32m[I 2022-11-23 17:30:26,842]\u001b[0m Trial 297 finished with value: 0.46653795930035635 and parameters: {'is_var_thres': 'var_thres', 'vthreshold': 0.00034, 'dim_red': 'PCA', 'pca_n_components': 51, 'n_layers': 1, 'n_units_0': 127, 'activation': 'relu'}. Best is trial 155 with value: 0.49123506826417085.\u001b[0m\n",
      "\u001b[32m[I 2022-11-23 17:31:25,627]\u001b[0m Trial 298 finished with value: 0.4671071090329123 and parameters: {'is_var_thres': 'var_thres', 'vthreshold': 0.00031, 'dim_red': 'PCA', 'pca_n_components': 53, 'n_layers': 1, 'n_units_0': 59, 'activation': 'relu'}. Best is trial 155 with value: 0.49123506826417085.\u001b[0m\n",
      "\u001b[32m[I 2022-11-23 17:32:14,709]\u001b[0m Trial 299 finished with value: 0.47112900124917373 and parameters: {'is_var_thres': 'var_thres', 'vthreshold': 0.00043000000000000004, 'dim_red': 'PCA', 'pca_n_components': 50, 'n_layers': 1, 'n_units_0': 48, 'activation': 'relu'}. Best is trial 155 with value: 0.49123506826417085.\u001b[0m\n"
     ]
    },
    {
     "name": "stdout",
     "output_type": "stream",
     "text": [
      "time spent optimizing: 30852.286672592163\n"
     ]
    }
   ],
   "source": [
    "# optimization with optuna\n",
    "import time\n",
    "import optuna\n",
    "\n",
    "\n",
    "def objective_narrow(trial):\n",
    "    # -- Scalers --\n",
    "    scaler = preprocessing.MinMaxScaler()\n",
    "        \n",
    "    # -- Dimensionality reduction: variance threshold --\n",
    "    is_var_thres = trial.suggest_categorical('is_var_thres', ['var_thres', None])\n",
    "    if is_var_thres == 'var_thres':\n",
    "        vthreshold = trial.suggest_float('vthreshold', 0, 0.0005, step=0.00001)\n",
    "        selector = VarianceThreshold(threshold=vthreshold)\n",
    "    else:\n",
    "        selector = 'passthrough'\n",
    "    \n",
    "\n",
    "    # -- random oversampler --\n",
    "    ros = RandomOverSampler()\n",
    "       \n",
    "    \n",
    "    # -- initialize dimensionality reduction --\n",
    "    dim_red = trial.suggest_categorical('dim_red',['PCA',None])\n",
    "    \n",
    "    # -- Define PCA hyperparameters --\n",
    "    if dim_red == 'PCA':\n",
    "        pca_n_components=trial.suggest_int('pca_n_components', 40, 60)\n",
    "        dimen_reduction_algo = PCA(n_components=pca_n_components)\n",
    "    else:\n",
    "        dimen_reduction_algo = 'passthrough'\n",
    "        \n",
    "    ## -- Classifier (MLP) --\n",
    "    # hidden layers\n",
    "    n_layers = trial.suggest_int('n_layers', 1 ,3)\n",
    "    layers = []\n",
    "    for i in range(n_layers):\n",
    "        layers.append(trial.suggest_int(f'n_units_{i}', 10, 150))\n",
    "    \n",
    "    # activation\n",
    "    activation = trial.suggest_categorical('activation', ['tanh', 'relu'])\n",
    "    \n",
    "    # solver\n",
    "    solver = 'sgd'\n",
    "    \n",
    "#     # alpha\n",
    "#     al = trial.suggest_float('al', 0.00001, 0.001, step=0.00005)\n",
    "#     # learning rate\n",
    "#     lr = trial.suggest_categorical('lr', ['constant', 'invscaling'])\n",
    "    \n",
    "    clf = MLPClassifier(\n",
    "                        hidden_layer_sizes=tuple(layers), \n",
    "                        activation=activation,\n",
    "                        solver=solver,\n",
    "#                         alpha=al,\n",
    "#                         learning_rate=lr,\n",
    "                        max_iter=1800\n",
    "                       )\n",
    "   \n",
    "    # -- Make pipeline -- \n",
    "    pipe = Pipeline(steps=[('scaler',scaler),\n",
    "                       ('selector', selector),\n",
    "                       ('sampler', ros),\n",
    "                       ('dimen_reduction', dimen_reduction_algo),\n",
    "                       ('mlp', clf)\n",
    "                      ])\n",
    "    \n",
    "    # evaluate \n",
    "    score = cross_val_score(pipe, train, train_labels, scoring=f2_scorer,n_jobs=-1, error_score=0.0, cv=cv) \n",
    "    f2_mean = score.mean()\n",
    "    return f2_mean\n",
    "    \n",
    "study_narrow = optuna.create_study(direction='maximize')\n",
    "start_time=time.time()\n",
    "study_narrow.optimize(objective_narrow, n_trials=300)\n",
    "print(\"time spent optimizing: \" + str(time.time()-start_time))"
   ]
  },
  {
   "cell_type": "markdown",
   "metadata": {},
   "source": [
    "Τυπώνουμε τις παραμέτρους του καλυτερου classifier που βρήκαμε κατά την πραγματοποίηση του δεύτερου Study:"
   ]
  },
  {
   "cell_type": "code",
   "execution_count": 36,
   "metadata": {
    "execution": {
     "iopub.execute_input": "2022-11-24T08:28:50.309941Z",
     "iopub.status.busy": "2022-11-24T08:28:50.309436Z",
     "iopub.status.idle": "2022-11-24T08:28:50.320573Z",
     "shell.execute_reply": "2022-11-24T08:28:50.318756Z",
     "shell.execute_reply.started": "2022-11-24T08:28:50.309901Z"
    }
   },
   "outputs": [
    {
     "data": {
      "text/plain": [
       "{'is_var_thres': None,\n",
       " 'dim_red': 'PCA',\n",
       " 'pca_n_components': 51,\n",
       " 'n_layers': 1,\n",
       " 'n_units_0': 58,\n",
       " 'activation': 'relu'}"
      ]
     },
     "execution_count": 36,
     "metadata": {},
     "output_type": "execute_result"
    }
   ],
   "source": [
    "# get best classifier\n",
    "study_narrow.best_params"
   ]
  },
  {
   "cell_type": "markdown",
   "metadata": {},
   "source": [
    "Ορίζουμε ένα νέο Pipeline, το `mlp_clf_best` παραμετροποιημένο σύμφωνα με τον καλύτερο συνδυασμό υπερπαραμέτρων που αναδείξαμε παραπάνω:"
   ]
  },
  {
   "cell_type": "code",
   "execution_count": 44,
   "metadata": {
    "execution": {
     "iopub.execute_input": "2022-11-30T09:50:12.612979Z",
     "iopub.status.busy": "2022-11-30T09:50:12.612571Z",
     "iopub.status.idle": "2022-11-30T09:50:12.622099Z",
     "shell.execute_reply": "2022-11-30T09:50:12.620223Z",
     "shell.execute_reply.started": "2022-11-30T09:50:12.612946Z"
    }
   },
   "outputs": [],
   "source": [
    "f1_scores_best, f2_scores_best, acc_scores_best = dict(), dict(), dict()\n",
    "# define best pipe\n",
    "scaler = preprocessing.MinMaxScaler()\n",
    "ros = RandomOverSampler()\n",
    "dimen_reduction_algo = PCA(n_components=51)\n",
    "clf = MLPClassifier(    \n",
    "                    hidden_layer_sizes=(58,), \n",
    "                    activation='relu',\n",
    "                    solver='sgd',\n",
    "                    max_iter=1800\n",
    "                   )\n",
    "\n",
    "mlp_clf_best = Pipeline(steps=[('scaler',scaler),\n",
    "                       ('sampler', ros),\n",
    "                       ('dimen_reduction', dimen_reduction_algo),\n",
    "                       ('mlp', clf)\n",
    "                      ])"
   ]
  },
  {
   "cell_type": "markdown",
   "metadata": {},
   "source": [
    "**Συνοπτικά Αποτελέσματα**"
   ]
  },
  {
   "cell_type": "markdown",
   "metadata": {},
   "source": [
    "Εκπαιδεύουμε τον classifier που ορίσαμε παραπάνω σε όλο το Train Set και τον αξιολογούμε σε όλο το Test Set με βάση τρεις μετρικές:"
   ]
  },
  {
   "cell_type": "code",
   "execution_count": 45,
   "metadata": {
    "execution": {
     "iopub.execute_input": "2022-11-30T09:50:16.055088Z",
     "iopub.status.busy": "2022-11-30T09:50:16.054657Z",
     "iopub.status.idle": "2022-11-30T09:51:23.111373Z",
     "shell.execute_reply": "2022-11-30T09:51:23.109549Z",
     "shell.execute_reply.started": "2022-11-30T09:50:16.055054Z"
    }
   },
   "outputs": [],
   "source": [
    "clfs = [(mlp_clf_best, 'mlp')]\n",
    "\n",
    "for (clf, name) in clfs:\n",
    "    #train\n",
    "    model = clf.fit(train, train_labels)\n",
    "    # predict for test data\n",
    "    preds = clf.predict(test)\n",
    "    # calc scores\n",
    "    f1_scores_best[name] = f1_score(test_labels, preds)\n",
    "    f2_scores_best[name] = fbeta_score(test_labels, preds, beta=2)\n",
    "    acc_scores_best[name] = accuracy_score(test_labels, preds)\n",
    "    "
   ]
  },
  {
   "cell_type": "markdown",
   "metadata": {},
   "source": [
    "Tυπώνουμε έναν πίνακα με τα συγκριτικά αποτελέσματα μας για τον MLP out-of-the-box, τον dummy constant-1 και τον καλύτερο MLP που μπορέσαμε να πετύχουμε. Είναι φανερό, ότι ο βέλτιστος MLP classifier στον οποίο καταλήξαμε πετυχαίνει σημαντική βελτίωση σε σχέση με τους άλλους δύο, στο f2-score, που είναι και η μετρική που έχουμε επιλέξει. "
   ]
  },
  {
   "cell_type": "code",
   "execution_count": 32,
   "metadata": {
    "execution": {
     "iopub.execute_input": "2022-12-05T10:49:04.285275Z",
     "iopub.status.busy": "2022-12-05T10:49:04.284883Z",
     "iopub.status.idle": "2022-12-05T10:49:04.291984Z",
     "shell.execute_reply": "2022-12-05T10:49:04.290480Z",
     "shell.execute_reply.started": "2022-12-05T10:49:04.285244Z"
    }
   },
   "outputs": [],
   "source": [
    "# # display results\n",
    "# from IPython.display import display, Markdown, Latex\n",
    "\n",
    "# disp = \"\"\"\n",
    "# | Classifier | F1-score | F2-score | Accuracy |\n",
    "# | :-: | :-: | :-: | :-: |\n",
    "# \"\"\"\n",
    "\n",
    "# name = 'dc constant 1'\n",
    "# disp += \"|\"+name+\"|\"+str(f1_scores_ootb[name])+\"|**\"+str(f2_scores_ootb[name])+\"**|\"+str(acc_scores_ootb[name])+\"|\\n\"\n",
    "# name = 'mlp'\n",
    "# disp += \"| mlp ootb |\"+str(f1_scores_ootb[name])+\"|**\"+str(f2_scores_ootb[name])+\"**|\"+str(acc_scores_ootb[name])+\"|\\n\"\n",
    "\n",
    "# for name in f1_scores_best.keys():\n",
    "#     disp += \"|\"+name+\"|\"+str(f1_scores_best[name])+\"|**\"+str(f2_scores_best[name])+\"**|\"+str(acc_scores_best[name])+\"|\\n\"\n",
    "\n",
    "# display(Markdown(disp))"
   ]
  },
  {
   "cell_type": "markdown",
   "metadata": {},
   "source": [
    "|   Classifier  |       F1-score      |       F2-score      |       Accuracy      |\n",
    "|:-------------:|:-------------------:|:-------------------:|:-------------------:|\n",
    "| dc constant 1 | 0.06282271944922548 | 0.14353126228863547 | 0.03243003109729009 |\n",
    "|    mlp ootb   | 0.08928571428571427 | 0.07552870090634439 |  0.9546868058640604 |\n",
    "|      mlp      | 0.31266846361185985 | 0.49152542372881364 |  0.8867170146601511 |"
   ]
  },
  {
   "cell_type": "markdown",
   "metadata": {},
   "source": [
    "### Βελτιστοποίηση του SVM"
   ]
  },
  {
   "cell_type": "markdown",
   "metadata": {},
   "source": [
    "#### Προεπεξεργασία"
   ]
  },
  {
   "cell_type": "markdown",
   "metadata": {},
   "source": [
    "Όσον αφορά την προεπεξεργασία ισχύουν οι παρατηρήσεις που κάναμε όταν εξετάζαμε τον MLP classifier, συνεπώς θα πειραματιστούμε με ίδιες τεχνικές."
   ]
  },
  {
   "cell_type": "markdown",
   "metadata": {},
   "source": [
    "#### Ορισμός Pipeline"
   ]
  },
  {
   "cell_type": "markdown",
   "metadata": {},
   "source": [
    "Ορίζουμε και εδώ δύο ενδεικτικά Pipelines (ένα με MinMax Scaler και ένα με Standard Scaler) για να έχουμε μία εικόνα σχετικά με το πόσο βελτιώνει την επίδοση η προεπεξεργασία."
   ]
  },
  {
   "cell_type": "code",
   "execution_count": 47,
   "metadata": {
    "execution": {
     "iopub.execute_input": "2022-11-30T09:52:11.838166Z",
     "iopub.status.busy": "2022-11-30T09:52:11.837763Z",
     "iopub.status.idle": "2022-11-30T09:52:11.845830Z",
     "shell.execute_reply": "2022-11-30T09:52:11.844311Z",
     "shell.execute_reply.started": "2022-11-30T09:52:11.838133Z"
    }
   },
   "outputs": [],
   "source": [
    "# min max scaler\n",
    "import sklearn\n",
    "min_max_scaler = preprocessing.MinMaxScaler()\n",
    "selector = VarianceThreshold(threshold=0.0001)\n",
    "ros = RandomOverSampler()\n",
    "pca = PCA(n_components=40)\n",
    "clf = SVC()\n",
    "pipe1 = Pipeline(steps=[('scaler', min_max_scaler),\n",
    "                       ('selector', selector),\n",
    "                       ('sampler', ros),\n",
    "                       ('pca', pca),\n",
    "                       ('svm', clf)\n",
    "                      ])"
   ]
  },
  {
   "cell_type": "code",
   "execution_count": 48,
   "metadata": {
    "execution": {
     "iopub.execute_input": "2022-11-30T09:52:17.208798Z",
     "iopub.status.busy": "2022-11-30T09:52:17.207258Z",
     "iopub.status.idle": "2022-11-30T09:52:17.219916Z",
     "shell.execute_reply": "2022-11-30T09:52:17.217519Z",
     "shell.execute_reply.started": "2022-11-30T09:52:17.208733Z"
    }
   },
   "outputs": [],
   "source": [
    "# Standard Scaler\n",
    "import sklearn\n",
    "\n",
    "selector = VarianceThreshold(threshold=0.001)\n",
    "scaler = StandardScaler()\n",
    "ros = RandomOverSampler()\n",
    "pca = PCA(n_components=40)\n",
    "clf = SVC()\n",
    "pipe2 = Pipeline(steps=[('selector', selector),\n",
    "                       ('scaler', scaler),\n",
    "                       ('sampler', ros),\n",
    "                       ('pca', pca),\n",
    "                       ('svm', clf)\n",
    "                      ])"
   ]
  },
  {
   "cell_type": "code",
   "execution_count": 49,
   "metadata": {
    "execution": {
     "iopub.execute_input": "2022-11-30T09:52:17.738858Z",
     "iopub.status.busy": "2022-11-30T09:52:17.738390Z",
     "iopub.status.idle": "2022-11-30T09:52:22.618841Z",
     "shell.execute_reply": "2022-11-30T09:52:22.617675Z",
     "shell.execute_reply.started": "2022-11-30T09:52:17.738813Z"
    }
   },
   "outputs": [],
   "source": [
    "f2_scores = dict()\n",
    "\n",
    "clfs = [\n",
    "         (pipe1, 'pipeMinMax - svm'),\n",
    "         (pipe2, 'pipeStandard - svm')\n",
    "        ]\n",
    "\n",
    "for (clf, name) in clfs:\n",
    "    #train\n",
    "    model = clf.fit(train, train_labels)\n",
    "    # predict for test data\n",
    "    preds = clf.predict(test)\n",
    "    # calc f2-scores\n",
    "    f2_scores[name] = fbeta_score(test_labels, preds, beta=2)\n",
    "#     f1_scores[name] = sklearn.metrics.f1_score(test_labels, preds)"
   ]
  },
  {
   "cell_type": "code",
   "execution_count": 33,
   "metadata": {
    "execution": {
     "iopub.execute_input": "2022-12-05T10:49:52.521625Z",
     "iopub.status.busy": "2022-12-05T10:49:52.521196Z",
     "iopub.status.idle": "2022-12-05T10:49:52.527495Z",
     "shell.execute_reply": "2022-12-05T10:49:52.526106Z",
     "shell.execute_reply.started": "2022-12-05T10:49:52.521591Z"
    }
   },
   "outputs": [],
   "source": [
    "# # display results\n",
    "# from IPython.display import display, Markdown, Latex\n",
    "\n",
    "# disp = \"\"\"\n",
    "# | Classifier | F2-score |\n",
    "# | :-: | :-: |\n",
    "# \"\"\"\n",
    "\n",
    "# disp += \"| dc constant 1 |\"+str(f2_scores_ootb['dc constant 1'])+\"|\\n\"\n",
    "# disp += \"| svm ootb |\"+str(f2_scores_ootb['svm'])+\"|\\n\"\n",
    "\n",
    "# for name in f2_scores.keys():\n",
    "#     disp += \"|\"+name+\"|\"+str(f2_scores[name])+\"|\\n\"\n",
    "\n",
    "# display(Markdown(disp))"
   ]
  },
  {
   "cell_type": "markdown",
   "metadata": {},
   "source": [
    "|     Classifier     |       F2-score      |\n",
    "|:------------------:|:-------------------:|\n",
    "|    dc constant 1   | 0.14353126228863547 |\n",
    "|      svm ootb      |         0.0         |\n",
    "|  pipeMinMax - svm  |  0.4148471615720524 |\n",
    "| pipeStandard - svm |  0.4553734061930783 |"
   ]
  },
  {
   "cell_type": "markdown",
   "metadata": {},
   "source": [
    "Είναι πολλή φανερή η βελτίωση της επίδοσης του SVM και μόνο εξαιτίας του Preprocessing. Πράγματι, από μηδενική επίδοση, έχει φτάσει σε κοντινές τιμές με το βέλτιστο μοντέλο MLP χωρίς να έχουμε ακόμα πειραματιστεί με τις υπερπαραμέτρους. Συνεχίζουμε, λοιπόν με την βελτιστοποίηση υπερπαραμέτρων."
   ]
  },
  {
   "cell_type": "markdown",
   "metadata": {},
   "source": [
    "#### Βελτιστοποίηση Υπερπαραμέτρων"
   ]
  },
  {
   "cell_type": "markdown",
   "metadata": {},
   "source": [
    "Χρησιμοποιούμε και πάλι την βιβλιοθήκη `Optuna`."
   ]
  },
  {
   "cell_type": "markdown",
   "metadata": {},
   "source": [
    "Όπως και με τον MLP ξεκινάμε με ένα γενικό Objective για να εντοπίσουμε καποιες περιοχές υπερπαραμέτρων στις οποίες βελτιώνεται η επίδοση. Το objective αυτό πειραματίζεται με πολλές διαφορετικές παραμέτρους του pipe και με μεγάλα έυρη τιμών. Συγκεκριμένα, οι τιμές για τις οποίες κάνει δοκιμές είναι:\n",
    "* Ως προς τον **Scaler** δοκιμάζει MinMaxScaler ή StandardScaler.\n",
    "* Ως προς το **Variance Threshold** δοκιμάζει κατόφλια από το 0 έως το $10^{-3}$ με βήμα $10^{-4}$.\n",
    "* Ως προς το **Dimension Reduction** δοκιμάζει είτε PCA είτε την πλήρη απουσία τέτοιου Αλγορίθμου. Για το PCA δομικάζει από 25 εως 50 κύριες συνιστώσες.\n",
    "* Για τον SVM δοκιμάζουμε, πρώτον τιμές της παραμέτρου C στην περιοχή $C = 10^{c_{exp}}$ με $c_{exp}$ από -6 εώς 6. Για την παράμετρο Gamma δοκιμάζουμε επίσης τιμές της μορφής $Gamma = 10^{gamma_{exp}}$ με $gamma_{exp}$ μεταξύ -6 και 6. Τέλος, πειραματιζόμαστε με kernels _rbf_ και _sigmoid_. Σημειώνουμε ότι επιλέξαμε να μην χρησιμοποιήσουμε καθόλου linear kernel, καθώς τον δοκιμάσαμε σε άλλο session και παρατηρήσαμε ότι αφενός απαιτούσε πολύ περισσότερο χρόνο από τους άλλους δύο και αφεταίρου έδινε υποδεέστερα αποτελέσματα."
   ]
  },
  {
   "cell_type": "code",
   "execution_count": 33,
   "metadata": {
    "execution": {
     "iopub.execute_input": "2022-11-27T15:02:29.728965Z",
     "iopub.status.busy": "2022-11-27T15:02:29.728057Z",
     "iopub.status.idle": "2022-11-27T15:13:33.636419Z",
     "shell.execute_reply": "2022-11-27T15:13:33.635120Z",
     "shell.execute_reply.started": "2022-11-27T15:02:29.728911Z"
    }
   },
   "outputs": [
    {
     "name": "stderr",
     "output_type": "stream",
     "text": [
      "\u001b[32m[I 2022-11-27 15:02:29,744]\u001b[0m A new study created in memory with name: no-name-d5140a56-8ea7-4069-a8eb-8b1b41614fc7\u001b[0m\n",
      "\u001b[32m[I 2022-11-27 15:02:45,965]\u001b[0m Trial 0 finished with value: 0.0 and parameters: {'scaler': 'standard', 'is_var_thres': None, 'dim_red': 'PCA', 'pca_n_components': 45, 'c_exp': 6, 'kernel': 'rbf', 'gam_exp': 3}. Best is trial 0 with value: 0.0.\u001b[0m\n",
      "\u001b[32m[I 2022-11-27 15:03:04,425]\u001b[0m Trial 2 finished with value: 0.29964223856421596 and parameters: {'scaler': 'min_max', 'is_var_thres': None, 'dim_red': None, 'c_exp': 1, 'kernel': 'rbf', 'gam_exp': 0}. Best is trial 2 with value: 0.29964223856421596.\u001b[0m\n",
      "\u001b[32m[I 2022-11-27 15:03:39,395]\u001b[0m Trial 3 finished with value: 0.2000200567633002 and parameters: {'scaler': 'min_max', 'is_var_thres': None, 'dim_red': None, 'c_exp': -3, 'kernel': 'rbf', 'gam_exp': -6}. Best is trial 2 with value: 0.29964223856421596.\u001b[0m\n",
      "\u001b[32m[I 2022-11-27 15:04:01,568]\u001b[0m Trial 4 finished with value: 0.2938855024061534 and parameters: {'scaler': 'min_max', 'is_var_thres': None, 'dim_red': 'PCA', 'pca_n_components': 35, 'c_exp': -5, 'kernel': 'sigmoid', 'gam_exp': 3}. Best is trial 2 with value: 0.29964223856421596.\u001b[0m\n",
      "\u001b[32m[I 2022-11-27 15:04:15,994]\u001b[0m Trial 5 finished with value: 0.18710349388321712 and parameters: {'scaler': 'standard', 'is_var_thres': 'var_thres', 'vthreshold': 0.001, 'dim_red': None, 'c_exp': 1, 'kernel': 'sigmoid', 'gam_exp': 0}. Best is trial 2 with value: 0.29964223856421596.\u001b[0m\n",
      "\u001b[32m[I 2022-11-27 15:04:38,490]\u001b[0m Trial 6 finished with value: 0.26035408769153445 and parameters: {'scaler': 'standard', 'is_var_thres': None, 'dim_red': None, 'c_exp': -3, 'kernel': 'sigmoid', 'gam_exp': 1}. Best is trial 2 with value: 0.29964223856421596.\u001b[0m\n",
      "\u001b[32m[I 2022-11-27 15:05:00,377]\u001b[0m Trial 7 finished with value: 0.20624167579217872 and parameters: {'scaler': 'min_max', 'is_var_thres': 'var_thres', 'vthreshold': 0.0009000000000000001, 'dim_red': 'PCA', 'pca_n_components': 35, 'c_exp': -3, 'kernel': 'rbf', 'gam_exp': -5}. Best is trial 2 with value: 0.29964223856421596.\u001b[0m\n",
      "\u001b[32m[I 2022-11-27 15:05:10,677]\u001b[0m Trial 8 finished with value: 0.46065772420587087 and parameters: {'scaler': 'standard', 'is_var_thres': None, 'dim_red': None, 'c_exp': 0, 'kernel': 'sigmoid', 'gam_exp': -3}. Best is trial 8 with value: 0.46065772420587087.\u001b[0m\n",
      "\u001b[32m[I 2022-11-27 15:05:25,373]\u001b[0m Trial 9 finished with value: 0.4439151842271921 and parameters: {'scaler': 'min_max', 'is_var_thres': None, 'dim_red': 'PCA', 'pca_n_components': 45, 'c_exp': 2, 'kernel': 'sigmoid', 'gam_exp': -3}. Best is trial 8 with value: 0.46065772420587087.\u001b[0m\n",
      "\u001b[32m[I 2022-11-27 15:05:32,967]\u001b[0m Trial 10 finished with value: 0.4265518709021393 and parameters: {'scaler': 'standard', 'is_var_thres': 'var_thres', 'vthreshold': 0.0, 'dim_red': None, 'c_exp': 5, 'kernel': 'sigmoid', 'gam_exp': -3}. Best is trial 8 with value: 0.46065772420587087.\u001b[0m\n",
      "\u001b[32m[I 2022-11-27 15:05:59,269]\u001b[0m Trial 11 finished with value: 0.3394929476831078 and parameters: {'scaler': 'min_max', 'is_var_thres': None, 'dim_red': 'PCA', 'pca_n_components': 50, 'c_exp': 0, 'kernel': 'sigmoid', 'gam_exp': -3}. Best is trial 8 with value: 0.46065772420587087.\u001b[0m\n",
      "\u001b[32m[I 2022-11-27 15:06:04,300]\u001b[0m Trial 12 finished with value: 0.41303141445085234 and parameters: {'scaler': 'standard', 'is_var_thres': None, 'dim_red': 'PCA', 'pca_n_components': 25, 'c_exp': 3, 'kernel': 'sigmoid', 'gam_exp': -3}. Best is trial 8 with value: 0.46065772420587087.\u001b[0m\n",
      "\u001b[32m[I 2022-11-27 15:06:33,711]\u001b[0m Trial 13 finished with value: 0.3394929476831078 and parameters: {'scaler': 'min_max', 'is_var_thres': None, 'dim_red': 'PCA', 'pca_n_components': 45, 'c_exp': -1, 'kernel': 'sigmoid', 'gam_exp': -2}. Best is trial 8 with value: 0.46065772420587087.\u001b[0m\n",
      "\u001b[32m[I 2022-11-27 15:06:44,262]\u001b[0m Trial 14 finished with value: 0.4554967138482592 and parameters: {'scaler': 'standard', 'is_var_thres': None, 'dim_red': 'PCA', 'pca_n_components': 40, 'c_exp': 3, 'kernel': 'sigmoid', 'gam_exp': -5}. Best is trial 8 with value: 0.46065772420587087.\u001b[0m\n",
      "\u001b[32m[I 2022-11-27 15:06:57,483]\u001b[0m Trial 15 finished with value: 0.4497697759987405 and parameters: {'scaler': 'standard', 'is_var_thres': 'var_thres', 'vthreshold': 0.0002, 'dim_red': None, 'c_exp': 4, 'kernel': 'sigmoid', 'gam_exp': -5}. Best is trial 8 with value: 0.46065772420587087.\u001b[0m\n",
      "\u001b[32m[I 2022-11-27 15:07:11,648]\u001b[0m Trial 16 finished with value: 0.19956806815029388 and parameters: {'scaler': 'standard', 'is_var_thres': None, 'dim_red': None, 'c_exp': -1, 'kernel': 'sigmoid', 'gam_exp': 6}. Best is trial 8 with value: 0.46065772420587087.\u001b[0m\n",
      "\u001b[32m[I 2022-11-27 15:07:37,832]\u001b[0m Trial 17 finished with value: 0.11749924088458179 and parameters: {'scaler': 'standard', 'is_var_thres': None, 'dim_red': 'PCA', 'pca_n_components': 25, 'c_exp': -6, 'kernel': 'sigmoid', 'gam_exp': -6}. Best is trial 8 with value: 0.46065772420587087.\u001b[0m\n",
      "\u001b[32m[I 2022-11-27 15:07:51,684]\u001b[0m Trial 18 finished with value: 0.3068267322360154 and parameters: {'scaler': 'standard', 'is_var_thres': 'var_thres', 'vthreshold': 0.0005, 'dim_red': None, 'c_exp': -1, 'kernel': 'rbf', 'gam_exp': -1}. Best is trial 8 with value: 0.46065772420587087.\u001b[0m\n",
      "\u001b[32m[I 2022-11-27 15:08:10,495]\u001b[0m Trial 19 finished with value: 0.37885382001338425 and parameters: {'scaler': 'standard', 'is_var_thres': None, 'dim_red': 'PCA', 'pca_n_components': 40, 'c_exp': 6, 'kernel': 'sigmoid', 'gam_exp': -4}. Best is trial 8 with value: 0.46065772420587087.\u001b[0m\n",
      "\u001b[32m[I 2022-11-27 15:08:25,317]\u001b[0m Trial 20 finished with value: 0.44146538002856905 and parameters: {'scaler': 'standard', 'is_var_thres': None, 'dim_red': 'PCA', 'pca_n_components': 30, 'c_exp': 4, 'kernel': 'sigmoid', 'gam_exp': -5}. Best is trial 8 with value: 0.46065772420587087.\u001b[0m\n",
      "\u001b[32m[I 2022-11-27 15:08:40,395]\u001b[0m Trial 21 finished with value: 0.4546384097063407 and parameters: {'scaler': 'standard', 'is_var_thres': 'var_thres', 'vthreshold': 0.0001, 'dim_red': None, 'c_exp': 4, 'kernel': 'sigmoid', 'gam_exp': -5}. Best is trial 8 with value: 0.46065772420587087.\u001b[0m\n",
      "\u001b[32m[I 2022-11-27 15:08:50,627]\u001b[0m Trial 22 finished with value: 0.45383297034432674 and parameters: {'scaler': 'standard', 'is_var_thres': 'var_thres', 'vthreshold': 0.0004, 'dim_red': None, 'c_exp': 2, 'kernel': 'sigmoid', 'gam_exp': -4}. Best is trial 8 with value: 0.46065772420587087.\u001b[0m\n",
      "\u001b[32m[I 2022-11-27 15:09:02,960]\u001b[0m Trial 23 finished with value: 0.4648967559270405 and parameters: {'scaler': 'standard', 'is_var_thres': 'var_thres', 'vthreshold': 0.0, 'dim_red': None, 'c_exp': 4, 'kernel': 'sigmoid', 'gam_exp': -6}. Best is trial 23 with value: 0.4648967559270405.\u001b[0m\n",
      "\u001b[32m[I 2022-11-27 15:09:20,014]\u001b[0m Trial 24 finished with value: 0.47489939279440874 and parameters: {'scaler': 'standard', 'is_var_thres': 'var_thres', 'vthreshold': 0.0007, 'dim_red': None, 'c_exp': 2, 'kernel': 'sigmoid', 'gam_exp': -6}. Best is trial 24 with value: 0.47489939279440874.\u001b[0m\n",
      "\u001b[32m[I 2022-11-27 15:09:46,530]\u001b[0m Trial 25 finished with value: 0.49587985975578397 and parameters: {'scaler': 'standard', 'is_var_thres': 'var_thres', 'vthreshold': 0.0007, 'dim_red': None, 'c_exp': 1, 'kernel': 'sigmoid', 'gam_exp': -6}. Best is trial 25 with value: 0.49587985975578397.\u001b[0m\n",
      "\u001b[32m[I 2022-11-27 15:09:59,249]\u001b[0m Trial 26 finished with value: 0.4636491487833617 and parameters: {'scaler': 'standard', 'is_var_thres': 'var_thres', 'vthreshold': 0.0007, 'dim_red': None, 'c_exp': 2, 'kernel': 'rbf', 'gam_exp': -6}. Best is trial 25 with value: 0.49587985975578397.\u001b[0m\n",
      "\u001b[32m[I 2022-11-27 15:10:11,310]\u001b[0m Trial 27 finished with value: 0.4699139166139973 and parameters: {'scaler': 'standard', 'is_var_thres': 'var_thres', 'vthreshold': 0.0007, 'dim_red': None, 'c_exp': 5, 'kernel': 'sigmoid', 'gam_exp': -6}. Best is trial 25 with value: 0.49587985975578397.\u001b[0m\n",
      "\u001b[32m[I 2022-11-27 15:13:20,116]\u001b[0m Trial 28 finished with value: 0.439284094359344 and parameters: {'scaler': 'standard', 'is_var_thres': 'var_thres', 'vthreshold': 0.0007, 'dim_red': None, 'c_exp': 5, 'kernel': 'sigmoid', 'gam_exp': -4}. Best is trial 25 with value: 0.49587985975578397.\u001b[0m\n",
      "\u001b[32m[I 2022-11-27 15:13:33,628]\u001b[0m Trial 29 finished with value: 0.0 and parameters: {'scaler': 'standard', 'is_var_thres': 'var_thres', 'vthreshold': 0.0007, 'dim_red': None, 'c_exp': 6, 'kernel': 'rbf', 'gam_exp': 2}. Best is trial 25 with value: 0.49587985975578397.\u001b[0m\n"
     ]
    },
    {
     "name": "stdout",
     "output_type": "stream",
     "text": [
      "time spent optimizing: 663.8837158679962\n"
     ]
    }
   ],
   "source": [
    "# optimization with optuna\n",
    "import time\n",
    "import optuna\n",
    "import imblearn\n",
    "\n",
    "\n",
    "def objective_svm(trial):\n",
    "    # -- Scalers --\n",
    "    scalers = trial.suggest_categorical('scaler',['min_max', 'standard'])\n",
    "    if scalers == 'min_max':\n",
    "        scaler = preprocessing.MinMaxScaler()\n",
    "    else:\n",
    "        scaler = StandardScaler()\n",
    "        \n",
    "    # -- Dimensionality reduction: variance threshold --\n",
    "    is_var_thres = trial.suggest_categorical('is_var_thres', ['var_thres', None])\n",
    "    if is_var_thres == 'var_thres':\n",
    "        vthreshold = trial.suggest_float('vthreshold', 0, 0.001, step=0.0001)\n",
    "        selector = VarianceThreshold(threshold=vthreshold)\n",
    "    else:\n",
    "        selector = 'passthrough'\n",
    "    \n",
    "\n",
    "    # -- random oversampler --\n",
    "    ros = RandomOverSampler(random_state=42)\n",
    "#     rus = imblearn.under_sampling.RandomUnderSampler(sampling_strategy={0:3500, 1:3500},\n",
    "#                                                 random_state=42)\n",
    "       \n",
    "    \n",
    "    # -- initialize dimensionality reduction --\n",
    "    dim_red = trial.suggest_categorical('dim_red',['PCA',None])\n",
    "    \n",
    "    # -- Define PCA hyperparameters --\n",
    "    if dim_red == 'PCA':\n",
    "        pca_n_components=trial.suggest_int('pca_n_components', 25, 50, 5)\n",
    "        dimen_reduction_algo = PCA(n_components=pca_n_components)\n",
    "    else:\n",
    "        dimen_reduction_algo = 'passthrough'\n",
    "        \n",
    "    ## -- Classifier (SVM) --\n",
    "    # C: regulirization parameter\n",
    "#     c_val = trial.suggest_float('c_val', 0.001, 1, step=0.001)\n",
    "    c_exp = trial.suggest_int('c_exp', -6,6,1)\n",
    "    c_val = 10**c_exp\n",
    "    \n",
    "    # kernel\n",
    "    kern = trial.suggest_categorical('kernel', ['rbf', 'sigmoid'])\n",
    "    \n",
    "#     # degree of the kernel function (only for poly)\n",
    "#     deg = trial.suggest_int('deg', 2, 7)\n",
    "    \n",
    "    # gamma\n",
    "#     gam = trial.suggest_float('gamma', 0.0001, 1, step=0.0001)\n",
    "    gam_exp = trial.suggest_int('gam_exp', -6,6,1)\n",
    "    gam = 10**gam_exp\n",
    "    \n",
    "    clf = SVC(\n",
    "        C=c_val,\n",
    "        kernel=kern,\n",
    "        gamma=gam\n",
    "    ) \n",
    "    \n",
    "   \n",
    "    # -- Make pipeline --\n",
    "    # sequence depends on the chosen scaler\n",
    "    if scalers == 'min_max':\n",
    "        pipe = Pipeline(steps=[('scaler',scaler),\n",
    "                           ('selector', selector),\n",
    "                           ('over_sampler', ros),\n",
    "                           ('dimen_reduction', dimen_reduction_algo),\n",
    "                           ('svm', clf)\n",
    "                          ])\n",
    "    else:\n",
    "        pipe = Pipeline(steps=[('selector', selector),\n",
    "                           ('scaler',scaler),\n",
    "                           ('over_sampler', ros),\n",
    "                           ('dimen_reduction', dimen_reduction_algo),\n",
    "                           ('svm', clf)\n",
    "                          ])\n",
    "\n",
    "    # evaluate \n",
    "    score = cross_val_score(pipe, train, train_labels, scoring=f2_scorer,n_jobs=-1, error_score=0.0, cv=cv) \n",
    "    f2_mean = score.mean()\n",
    "    return f2_mean\n",
    "    \n",
    "study_svm = optuna.create_study(direction='maximize')\n",
    "start_time=time.time()\n",
    "study_svm.optimize(objective_svm, n_trials=30)\n",
    "print(\"time spent optimizing: \" + str(time.time()-start_time))"
   ]
  },
  {
   "cell_type": "markdown",
   "metadata": {},
   "source": [
    "Τυπώνουμε τις υπερπαραμέτρους των trials που έδωσαν τα καλύτερα αποτελέσματα. Συμπεριλαμβάνουμε trials με f2-score πάνω από 0.45, αλλά δίνουμε ιδιαίτερη έμφαση σε αυτά με f2-score πάνω από 0.47 (είναι \"σημειωμένα\" με bold):"
   ]
  },
  {
   "cell_type": "code",
   "execution_count": 34,
   "metadata": {
    "execution": {
     "iopub.execute_input": "2022-12-05T10:51:57.290216Z",
     "iopub.status.busy": "2022-12-05T10:51:57.289781Z",
     "iopub.status.idle": "2022-12-05T10:51:57.296685Z",
     "shell.execute_reply": "2022-12-05T10:51:57.295290Z",
     "shell.execute_reply.started": "2022-12-05T10:51:57.290179Z"
    }
   },
   "outputs": [],
   "source": [
    "# # print the best trials and their parameters\n",
    "\n",
    "# from IPython.display import display, Markdown, Latex\n",
    "\n",
    "# disp = \"\"\"\n",
    "# Τα χαρακτηριστικά των Trials που δώσανε τα καλύτερα αποτελέσματα\n",
    "\n",
    "# | Scaler | Use Variance Thr. | Vthreshold | Use PCA  | PCA #components | C_exp value | kernel | Gamma_exp Value | F2-Score |\n",
    "# | :-: | :-: | :-: | :-: | :-: | :-: | :-: | :-: | :-: |\n",
    "# \"\"\"\n",
    "\n",
    "# for tr in list(study_svm.trials):\n",
    "#     if tr.values[0] > 0.47:\n",
    "#         disp += '|**' + str(tr.params['scaler']) + '**|**' + str(tr.params['is_var_thres']) + '**|**' + str(tr.params['vthreshold'] if 'vthreshold' in tr.params.keys() else 'None') + '**|**' +\\\n",
    "#         str(tr.params['dim_red']) + '**|**' + str(tr.params['pca_n_components'] if 'pca_n_compoments' in tr.params.keys() else 'None') +  '**|**' + str(tr.params['c_exp']) + '**|**' + \\\n",
    "#         str(tr.params['kernel'])  + '**|**' + str(tr.params['gam_exp'])  + '**|**' + str(tr.values[0]) + '**|**' +'\\n'\n",
    "#     elif tr.values[0] > 0.45:\n",
    "#         disp += '|' + str(tr.params['scaler']) + '|' + str(tr.params['is_var_thres']) + '|' + str(tr.params['vthreshold'] if 'vthreshold' in tr.params.keys() else 'None') + '|' +\\\n",
    "#         str(tr.params['dim_red']) + '|' + str(tr.params['pca_n_components'] if 'pca_n_compoments' in tr.params.keys() else 'None') +  '|' + str(tr.params['c_exp']) + '|' + \\\n",
    "#         str(tr.params['kernel'])  + '|' + str(tr.params['gam_exp'])  + '|' + str(tr.values[0]) + '|' +'\\n'\n",
    "        \n",
    "\n",
    "# display(Markdown(disp))"
   ]
  },
  {
   "cell_type": "markdown",
   "metadata": {},
   "source": [
    "|    Scaler    | Use Variance Thr. | Vthreshold |  Use PCA | PCA #components | C_exp value |    kernel   | Gamma_exp Value |         F2-Score        |\n",
    "|:------------:|:-----------------:|:----------:|:--------:|:---------------:|:-----------:|:-----------:|:---------------:|:-----------------------:|\n",
    "|   standard   |        None       |    None    |   None   |       None      |      0      |   sigmoid   |        -3       |   0.46065772420587087   |\n",
    "|   standard   |        None       |    None    |    PCA   |       None      |      3      |   sigmoid   |        -5       |    0.4554967138482592   |\n",
    "|   standard   |     var_thres     |   0.0001   |   None   |       None      |      4      |   sigmoid   |        -5       |    0.4546384097063407   |\n",
    "|   standard   |     var_thres     |   0.0004   |   None   |       None      |      2      |   sigmoid   |        -4       |   0.45383297034432674   |\n",
    "|   standard   |     var_thres     |     0.0    |   None   |       None      |      4      |   sigmoid   |        -6       |    0.4648967559270405   |\n",
    "| **standard** |   **var_thres**   | **0.0007** | **None** |     **None**    |    **2**    | **sigmoid** |      **-6**     | **0.47489939279440874** |\n",
    "| **standard** |   **var_thres**   | **0.0007** | **None** |     **None**    |    **1**    | **sigmoid** |      **-6**     | **0.49587985975578397** |\n",
    "|   standard   |     var_thres     |   0.0007   |   None   |       None      |      2      |     rbf     |        -6       |    0.4636491487833617   |\n",
    "|   standard   |     var_thres     |   0.0007   |   None   |       None      |      5      |   sigmoid   |        -6       |    0.4699139166139973   |"
   ]
  },
  {
   "cell_type": "markdown",
   "metadata": {},
   "source": [
    "Μελετώντας τον παραπάνω πίνακα βγάζουμε κάποια συμπεράσματα ως προς τις κατευθύνσεις στις οποίες αξίζει να κινηθούμε για να βελτιώσουμε το αποτέλεσμά μας. Ξεχωρίζουμε τις εξής παρατηρήσεις που θα αξιοποιήσουμε στο πιο \"_στενό_\" objective με το οποίο θα προχωρήσουμε στην συνέχεια:\n",
    "* Κρατάμε μόνο τον Standard Scaler, αφού όλες οι παραπάνω περιπτώσεις υιοθετούν αυτόν.\n",
    "* Θα χρησιμοποιήσουμε Variance Threshold με κατώφλι περί του $10^{-4}$ (θα αυξήσουμε την ακρίβεια μένοντας σε αυτήν την περιοχή).\n",
    "* Δεν θα χρησιμοποιήσουμε PCA. \n",
    "* Θα πειραματιστούμε με τιμές του C στην περιοχή [1,200]. Αυτή η απόφασή μας βασίζεται κυρίως στις δύο καλύτερες περιπτώσεις του παραπάνω πίνακα (που σημειώνονται με bold). Αυτές έχουν `C_exp value` ίση με 1 και 2 και αντιστοιχούνε σε τιμή C $10^1=10$ και $10^2=100$ αντίστοιχα. Αν και κάποιες άλλες περιπτώσεις στον πίνακα υιοθετούν αρκετά μεγαλύτερο C (πχ εκθέτες 4 ή 5), προτιμάμε να αποφύγουμε τέτοιες τιμές γιατί μπορούν να οδηγήσουν εύκολα σε overfitting (χαμηλό tolerance σε misclassification).\n",
    "* Θα πειραματιστούμε με τιμές του Gamma γύρω από το $10^{-6}$, όπως υποδεικνύουν οι περισσότερες από τις παραπάνω περιπτώσεις."
   ]
  },
  {
   "cell_type": "code",
   "execution_count": 97,
   "metadata": {
    "execution": {
     "iopub.execute_input": "2022-11-27T16:41:32.305049Z",
     "iopub.status.busy": "2022-11-27T16:41:32.304553Z",
     "iopub.status.idle": "2022-11-27T16:56:00.512290Z",
     "shell.execute_reply": "2022-11-27T16:56:00.510742Z",
     "shell.execute_reply.started": "2022-11-27T16:41:32.305015Z"
    }
   },
   "outputs": [
    {
     "name": "stderr",
     "output_type": "stream",
     "text": [
      "\u001b[32m[I 2022-11-27 16:41:32,316]\u001b[0m A new study created in memory with name: no-name-8483b937-6760-4aeb-8f6f-1950f619d778\u001b[0m\n",
      "\u001b[32m[I 2022-11-27 16:41:45,936]\u001b[0m Trial 0 finished with value: 0.4626095151784055 and parameters: {'is_var_thres': None, 'c_val': 195.0, 'kernel': 'rbf', 'gamma': 5.6e-06}. Best is trial 0 with value: 0.4626095151784055.\u001b[0m\n",
      "\u001b[32m[I 2022-11-27 16:42:01,609]\u001b[0m Trial 1 finished with value: 0.47601424651680596 and parameters: {'is_var_thres': 'var_thres', 'vthreshold': 0.00064, 'c_val': 15.0, 'kernel': 'rbf', 'gamma': 3.6e-06}. Best is trial 1 with value: 0.47601424651680596.\u001b[0m\n",
      "\u001b[32m[I 2022-11-27 16:42:20,191]\u001b[0m Trial 2 finished with value: 0.47097461959356435 and parameters: {'is_var_thres': None, 'c_val': 35.0, 'kernel': 'rbf', 'gamma': 1.6e-06}. Best is trial 1 with value: 0.47601424651680596.\u001b[0m\n",
      "\u001b[32m[I 2022-11-27 16:42:42,281]\u001b[0m Trial 3 finished with value: 0.4717817680354261 and parameters: {'is_var_thres': None, 'c_val': 190.0, 'kernel': 'sigmoid', 'gamma': 5e-07}. Best is trial 1 with value: 0.47601424651680596.\u001b[0m\n",
      "\u001b[32m[I 2022-11-27 16:43:03,276]\u001b[0m Trial 4 finished with value: 0.47428472312834247 and parameters: {'is_var_thres': None, 'c_val': 90.0, 'kernel': 'sigmoid', 'gamma': 1.2999999999999998e-06}. Best is trial 1 with value: 0.47601424651680596.\u001b[0m\n",
      "\u001b[32m[I 2022-11-27 16:43:15,212]\u001b[0m Trial 5 finished with value: 0.4578254491354142 and parameters: {'is_var_thres': 'var_thres', 'vthreshold': 0.00047000000000000004, 'c_val': 140.0, 'kernel': 'sigmoid', 'gamma': 9.100000000000001e-06}. Best is trial 1 with value: 0.47601424651680596.\u001b[0m\n",
      "\u001b[32m[I 2022-11-27 16:43:27,308]\u001b[0m Trial 6 finished with value: 0.4637322158709004 and parameters: {'is_var_thres': None, 'c_val': 190.0, 'kernel': 'rbf', 'gamma': 7.7e-06}. Best is trial 1 with value: 0.47601424651680596.\u001b[0m\n",
      "\u001b[32m[I 2022-11-27 16:43:42,200]\u001b[0m Trial 7 finished with value: 0.46166381662084416 and parameters: {'is_var_thres': None, 'c_val': 175.0, 'kernel': 'sigmoid', 'gamma': 7.3999999999999995e-06}. Best is trial 1 with value: 0.47601424651680596.\u001b[0m\n",
      "\u001b[32m[I 2022-11-27 16:43:51,891]\u001b[0m Trial 8 finished with value: 0.4607619387057388 and parameters: {'is_var_thres': 'var_thres', 'vthreshold': 0.00062, 'c_val': 175.0, 'kernel': 'rbf', 'gamma': 7.8e-06}. Best is trial 1 with value: 0.47601424651680596.\u001b[0m\n",
      "\u001b[32m[I 2022-11-27 16:44:08,044]\u001b[0m Trial 9 finished with value: 0.470754343468007 and parameters: {'is_var_thres': 'var_thres', 'vthreshold': 0.00067, 'c_val': 70.0, 'kernel': 'sigmoid', 'gamma': 2.1999999999999997e-06}. Best is trial 1 with value: 0.47601424651680596.\u001b[0m\n",
      "\u001b[32m[I 2022-11-27 16:44:23,500]\u001b[0m Trial 10 finished with value: 0.4663670733844755 and parameters: {'is_var_thres': 'var_thres', 'vthreshold': 0.0009800000000000002, 'c_val': 10.0, 'kernel': 'rbf', 'gamma': 3.9e-06}. Best is trial 1 with value: 0.47601424651680596.\u001b[0m\n",
      "\u001b[32m[I 2022-11-27 16:44:38,275]\u001b[0m Trial 11 finished with value: 0.4721431850175093 and parameters: {'is_var_thres': 'var_thres', 'vthreshold': 0.00013000000000000002, 'c_val': 90.0, 'kernel': 'sigmoid', 'gamma': 3.6e-06}. Best is trial 1 with value: 0.47601424651680596.\u001b[0m\n",
      "\u001b[32m[I 2022-11-27 16:44:53,668]\u001b[0m Trial 12 finished with value: 0.46709473128721807 and parameters: {'is_var_thres': None, 'c_val': 55.0, 'kernel': 'rbf', 'gamma': 2.6999999999999996e-06}. Best is trial 1 with value: 0.47601424651680596.\u001b[0m\n",
      "\u001b[32m[I 2022-11-27 16:45:18,801]\u001b[0m Trial 13 finished with value: 0.4970730700468982 and parameters: {'is_var_thres': 'var_thres', 'vthreshold': 0.00033000000000000005, 'c_val': 130.0, 'kernel': 'sigmoid', 'gamma': 2e-07}. Best is trial 13 with value: 0.4970730700468982.\u001b[0m\n",
      "\u001b[32m[I 2022-11-27 16:45:30,345]\u001b[0m Trial 14 finished with value: 0.45879991182775176 and parameters: {'is_var_thres': 'var_thres', 'vthreshold': 0.00029, 'c_val': 130.0, 'kernel': 'sigmoid', 'gamma': 5.4e-06}. Best is trial 13 with value: 0.4970730700468982.\u001b[0m\n",
      "\u001b[32m[I 2022-11-27 16:45:45,273]\u001b[0m Trial 15 finished with value: 0.46823021375919005 and parameters: {'is_var_thres': 'var_thres', 'vthreshold': 0.00046, 'c_val': 125.0, 'kernel': 'rbf', 'gamma': 6e-07}. Best is trial 13 with value: 0.4970730700468982.\u001b[0m\n",
      "\u001b[32m[I 2022-11-27 16:46:00,069]\u001b[0m Trial 16 finished with value: 0.4713336828871557 and parameters: {'is_var_thres': 'var_thres', 'vthreshold': 0.0008200000000000001, 'c_val': 10.0, 'kernel': 'rbf', 'gamma': 4.2e-06}. Best is trial 13 with value: 0.4970730700468982.\u001b[0m\n",
      "\u001b[32m[I 2022-11-27 16:46:26,001]\u001b[0m Trial 17 finished with value: 0.49825974512723475 and parameters: {'is_var_thres': 'var_thres', 'vthreshold': 0.0, 'c_val': 155.0, 'kernel': 'sigmoid', 'gamma': 2e-07}. Best is trial 17 with value: 0.49825974512723475.\u001b[0m\n",
      "\u001b[32m[I 2022-11-27 16:46:48,892]\u001b[0m Trial 18 finished with value: 0.47670086244921517 and parameters: {'is_var_thres': 'var_thres', 'vthreshold': 0.0, 'c_val': 140.0, 'kernel': 'sigmoid', 'gamma': 4e-07}. Best is trial 17 with value: 0.49825974512723475.\u001b[0m\n",
      "\u001b[32m[I 2022-11-27 16:47:01,119]\u001b[0m Trial 19 finished with value: 0.4604438354244319 and parameters: {'is_var_thres': 'var_thres', 'vthreshold': 0.00030000000000000003, 'c_val': 160.0, 'kernel': 'sigmoid', 'gamma': 2.4e-06}. Best is trial 17 with value: 0.49825974512723475.\u001b[0m\n",
      "\u001b[32m[I 2022-11-27 16:47:14,272]\u001b[0m Trial 20 finished with value: 0.4604665679243867 and parameters: {'is_var_thres': 'var_thres', 'vthreshold': 0.00018, 'c_val': 110.0, 'kernel': 'sigmoid', 'gamma': 6.2e-06}. Best is trial 17 with value: 0.49825974512723475.\u001b[0m\n",
      "\u001b[32m[I 2022-11-27 16:47:43,676]\u001b[0m Trial 21 finished with value: 0.5076922610564142 and parameters: {'is_var_thres': 'var_thres', 'vthreshold': 1e-05, 'c_val': 150.0, 'kernel': 'sigmoid', 'gamma': 1e-07}. Best is trial 21 with value: 0.5076922610564142.\u001b[0m\n",
      "\u001b[32m[I 2022-11-27 16:48:13,383]\u001b[0m Trial 22 finished with value: 0.507718604664979 and parameters: {'is_var_thres': 'var_thres', 'vthreshold': 0.0, 'c_val': 155.0, 'kernel': 'sigmoid', 'gamma': 1e-07}. Best is trial 22 with value: 0.507718604664979.\u001b[0m\n",
      "\u001b[32m[I 2022-11-27 16:48:29,580]\u001b[0m Trial 23 finished with value: 0.46893330952283235 and parameters: {'is_var_thres': 'var_thres', 'vthreshold': 4e-05, 'c_val': 160.0, 'kernel': 'sigmoid', 'gamma': 1.2999999999999998e-06}. Best is trial 22 with value: 0.507718604664979.\u001b[0m\n",
      "\u001b[32m[I 2022-11-27 16:48:55,467]\u001b[0m Trial 24 finished with value: 0.49152432151504605 and parameters: {'is_var_thres': 'var_thres', 'vthreshold': 0.00013000000000000002, 'c_val': 155.0, 'kernel': 'sigmoid', 'gamma': 1e-07}. Best is trial 22 with value: 0.507718604664979.\u001b[0m\n",
      "\u001b[32m[I 2022-11-27 16:49:12,701]\u001b[0m Trial 25 finished with value: 0.4712074157422088 and parameters: {'is_var_thres': 'var_thres', 'vthreshold': 0.0, 'c_val': 110.0, 'kernel': 'sigmoid', 'gamma': 1.6999999999999998e-06}. Best is trial 22 with value: 0.507718604664979.\u001b[0m\n",
      "\u001b[32m[I 2022-11-27 16:49:25,992]\u001b[0m Trial 26 finished with value: 0.4620578932061693 and parameters: {'is_var_thres': 'var_thres', 'vthreshold': 0.00019, 'c_val': 175.0, 'kernel': 'sigmoid', 'gamma': 2.9999999999999997e-06}. Best is trial 22 with value: 0.507718604664979.\u001b[0m\n",
      "\u001b[32m[I 2022-11-27 16:49:42,441]\u001b[0m Trial 27 finished with value: 0.47776262809968273 and parameters: {'is_var_thres': 'var_thres', 'vthreshold': 0.0001, 'c_val': 150.0, 'kernel': 'sigmoid', 'gamma': 9e-07}. Best is trial 22 with value: 0.507718604664979.\u001b[0m\n",
      "\u001b[32m[I 2022-11-27 16:49:55,904]\u001b[0m Trial 28 finished with value: 0.46439474222970734 and parameters: {'is_var_thres': 'var_thres', 'vthreshold': 0.00024000000000000003, 'c_val': 170.0, 'kernel': 'sigmoid', 'gamma': 1.9e-06}. Best is trial 22 with value: 0.507718604664979.\u001b[0m\n",
      "\u001b[32m[I 2022-11-27 16:50:08,736]\u001b[0m Trial 29 finished with value: 0.46729720931259006 and parameters: {'is_var_thres': 'var_thres', 'vthreshold': 7.000000000000001e-05, 'c_val': 120.0, 'kernel': 'sigmoid', 'gamma': 4.7e-06}. Best is trial 22 with value: 0.507718604664979.\u001b[0m\n",
      "\u001b[32m[I 2022-11-27 16:50:24,644]\u001b[0m Trial 30 finished with value: 0.4709072506920271 and parameters: {'is_var_thres': 'var_thres', 'vthreshold': 0.00039000000000000005, 'c_val': 145.0, 'kernel': 'sigmoid', 'gamma': 1e-06}. Best is trial 22 with value: 0.507718604664979.\u001b[0m\n",
      "\u001b[32m[I 2022-11-27 16:50:43,174]\u001b[0m Trial 31 finished with value: 0.4718973392322333 and parameters: {'is_var_thres': 'var_thres', 'vthreshold': 0.00036, 'c_val': 200.0, 'kernel': 'sigmoid', 'gamma': 3e-07}. Best is trial 22 with value: 0.507718604664979.\u001b[0m\n",
      "\u001b[32m[I 2022-11-27 16:51:01,492]\u001b[0m Trial 32 finished with value: 0.46949931141229084 and parameters: {'is_var_thres': 'var_thres', 'vthreshold': 0.0, 'c_val': 135.0, 'kernel': 'sigmoid', 'gamma': 1e-06}. Best is trial 22 with value: 0.507718604664979.\u001b[0m\n",
      "\u001b[32m[I 2022-11-27 16:51:27,639]\u001b[0m Trial 33 finished with value: 0.4871410707443366 and parameters: {'is_var_thres': 'var_thres', 'vthreshold': 0.00017, 'c_val': 165.0, 'kernel': 'sigmoid', 'gamma': 1e-07}. Best is trial 22 with value: 0.507718604664979.\u001b[0m\n",
      "\u001b[32m[I 2022-11-27 16:51:42,683]\u001b[0m Trial 34 finished with value: 0.4637715189539179 and parameters: {'is_var_thres': 'var_thres', 'vthreshold': 9e-05, 'c_val': 120.0, 'kernel': 'sigmoid', 'gamma': 1.7999999999999997e-06}. Best is trial 22 with value: 0.507718604664979.\u001b[0m\n",
      "\u001b[32m[I 2022-11-27 16:51:59,060]\u001b[0m Trial 35 finished with value: 0.4694627212501028 and parameters: {'is_var_thres': None, 'c_val': 95.0, 'kernel': 'sigmoid', 'gamma': 3.2999999999999997e-06}. Best is trial 22 with value: 0.507718604664979.\u001b[0m\n",
      "\u001b[32m[I 2022-11-27 16:52:09,411]\u001b[0m Trial 36 finished with value: 0.46300231521286195 and parameters: {'is_var_thres': 'var_thres', 'vthreshold': 0.00025, 'c_val': 150.0, 'kernel': 'sigmoid', 'gamma': 9.9e-06}. Best is trial 22 with value: 0.507718604664979.\u001b[0m\n",
      "\u001b[32m[I 2022-11-27 16:52:26,227]\u001b[0m Trial 37 finished with value: 0.46962926433093 and parameters: {'is_var_thres': None, 'c_val': 190.0, 'kernel': 'sigmoid', 'gamma': 1.2999999999999998e-06}. Best is trial 22 with value: 0.507718604664979.\u001b[0m\n",
      "\u001b[32m[I 2022-11-27 16:52:43,157]\u001b[0m Trial 38 finished with value: 0.4732734038504975 and parameters: {'is_var_thres': 'var_thres', 'vthreshold': 7.000000000000001e-05, 'c_val': 180.0, 'kernel': 'sigmoid', 'gamma': 6e-07}. Best is trial 22 with value: 0.507718604664979.\u001b[0m\n",
      "\u001b[32m[I 2022-11-27 16:53:00,582]\u001b[0m Trial 39 finished with value: 0.46978479428708325 and parameters: {'is_var_thres': None, 'c_val': 100.0, 'kernel': 'sigmoid', 'gamma': 2.3e-06}. Best is trial 22 with value: 0.507718604664979.\u001b[0m\n",
      "\u001b[32m[I 2022-11-27 16:53:10,032]\u001b[0m Trial 40 finished with value: 0.455824537863076 and parameters: {'is_var_thres': 'var_thres', 'vthreshold': 0.00058, 'c_val': 135.0, 'kernel': 'rbf', 'gamma': 6.1e-06}. Best is trial 22 with value: 0.507718604664979.\u001b[0m\n",
      "\u001b[32m[I 2022-11-27 16:53:36,036]\u001b[0m Trial 41 finished with value: 0.4921104255218662 and parameters: {'is_var_thres': 'var_thres', 'vthreshold': 0.00014000000000000001, 'c_val': 155.0, 'kernel': 'sigmoid', 'gamma': 1e-07}. Best is trial 22 with value: 0.507718604664979.\u001b[0m\n",
      "\u001b[32m[I 2022-11-27 16:54:02,609]\u001b[0m Trial 42 finished with value: 0.5060547230107467 and parameters: {'is_var_thres': 'var_thres', 'vthreshold': 5e-05, 'c_val': 150.0, 'kernel': 'sigmoid', 'gamma': 1e-07}. Best is trial 22 with value: 0.507718604664979.\u001b[0m\n",
      "\u001b[32m[I 2022-11-27 16:54:18,786]\u001b[0m Trial 43 finished with value: 0.4699328069180854 and parameters: {'is_var_thres': 'var_thres', 'vthreshold': 5e-05, 'c_val': 185.0, 'kernel': 'sigmoid', 'gamma': 8e-07}. Best is trial 22 with value: 0.507718604664979.\u001b[0m\n",
      "\u001b[32m[I 2022-11-27 16:54:36,100]\u001b[0m Trial 44 finished with value: 0.4704583693427321 and parameters: {'is_var_thres': 'var_thres', 'vthreshold': 0.0, 'c_val': 145.0, 'kernel': 'sigmoid', 'gamma': 1.3999999999999997e-06}. Best is trial 22 with value: 0.507718604664979.\u001b[0m\n",
      "\u001b[32m[I 2022-11-27 16:54:52,364]\u001b[0m Trial 45 finished with value: 0.4715724183716796 and parameters: {'is_var_thres': 'var_thres', 'vthreshold': 0.00022, 'c_val': 165.0, 'kernel': 'sigmoid', 'gamma': 7e-07}. Best is trial 22 with value: 0.507718604664979.\u001b[0m\n",
      "\u001b[32m[I 2022-11-27 16:55:11,489]\u001b[0m Trial 46 finished with value: 0.47173260841035036 and parameters: {'is_var_thres': None, 'c_val': 125.0, 'kernel': 'sigmoid', 'gamma': 1.2e-06}. Best is trial 22 with value: 0.507718604664979.\u001b[0m\n",
      "\u001b[32m[I 2022-11-27 16:55:22,626]\u001b[0m Trial 47 finished with value: 0.46766074411943936 and parameters: {'is_var_thres': 'var_thres', 'vthreshold': 8e-05, 'c_val': 135.0, 'kernel': 'rbf', 'gamma': 2e-06}. Best is trial 22 with value: 0.507718604664979.\u001b[0m\n",
      "\u001b[32m[I 2022-11-27 16:55:40,812]\u001b[0m Trial 48 finished with value: 0.47076767600213343 and parameters: {'is_var_thres': 'var_thres', 'vthreshold': 0.00071, 'c_val': 115.0, 'kernel': 'sigmoid', 'gamma': 5e-07}. Best is trial 22 with value: 0.507718604664979.\u001b[0m\n",
      "\u001b[32m[I 2022-11-27 16:56:00,502]\u001b[0m Trial 49 finished with value: 0.48367134553457947 and parameters: {'is_var_thres': 'var_thres', 'vthreshold': 0.0005300000000000001, 'c_val': 25.0, 'kernel': 'sigmoid', 'gamma': 1.6e-06}. Best is trial 22 with value: 0.507718604664979.\u001b[0m\n"
     ]
    },
    {
     "name": "stdout",
     "output_type": "stream",
     "text": [
      "time spent optimizing: 868.1861248016357\n"
     ]
    }
   ],
   "source": [
    "# optimization with optuna\n",
    "import time\n",
    "import optuna\n",
    "import imblearn\n",
    "\n",
    "\n",
    "def objective_svm_narrow(trial):\n",
    "    # -- Scalers --\n",
    "    scaler = StandardScaler()\n",
    "        \n",
    "    # -- Dimensionality reduction: variance threshold --\n",
    "    is_var_thres = trial.suggest_categorical('is_var_thres', ['var_thres', None])\n",
    "    if is_var_thres == 'var_thres':\n",
    "        vthreshold = trial.suggest_float('vthreshold', 0, 0.001, step=0.00001)\n",
    "        selector = VarianceThreshold(threshold=vthreshold)\n",
    "    else:\n",
    "        selector = 'passthrough'\n",
    "    \n",
    "\n",
    "    # -- random oversampler --\n",
    "    ros = RandomOverSampler(random_state=42)   \n",
    "    \n",
    "    # -- initialize dimensionality reduction --\n",
    "    dimen_reduction_algo= 'passthrough'\n",
    "        \n",
    "    ## -- Classifier (SVM) --\n",
    "    # C: regulirization parameter\n",
    "#     c_val = trial.suggest_float('c_val', 5, 200, step=1)\n",
    "    c_val = trial.suggest_float('c_val', 10, 200, step=5)\n",
    "\n",
    "    \n",
    "    # kernel\n",
    "    kern = trial.suggest_categorical('kernel', ['rbf', 'sigmoid'])\n",
    "    \n",
    "    # gamma\n",
    "    gam = trial.suggest_float('gamma', 1e-7, 1e-5, step=1e-7)\n",
    "\n",
    "    clf = SVC(\n",
    "        C=c_val,\n",
    "        kernel=kern,\n",
    "        gamma=gam\n",
    "    ) \n",
    "    \n",
    "   \n",
    "    # -- Make pipeline --\n",
    "    pipe = Pipeline(steps=[('selector', selector),\n",
    "                       ('scaler',scaler),\n",
    "                       ('over_sampler', ros),\n",
    "                       ('dimen_reduction', dimen_reduction_algo),\n",
    "                       ('svm', clf)\n",
    "                      ])\n",
    "\n",
    "    # evaluate \n",
    "    score = cross_val_score(pipe, train, train_labels, scoring=f2_scorer,n_jobs=-1, error_score=0.0, cv=cv) \n",
    "    f2_mean = score.mean()\n",
    "    return f2_mean\n",
    "    \n",
    "study_svm_narrow = optuna.create_study(direction='maximize')\n",
    "start_time=time.time()\n",
    "study_svm_narrow.optimize(objective_svm_narrow, n_trials=50)\n",
    "print(\"time spent optimizing: \" + str(time.time()-start_time))"
   ]
  },
  {
   "cell_type": "markdown",
   "metadata": {},
   "source": [
    "**Συνοπτική παρουσίαση των αποτελεσμάτων**"
   ]
  },
  {
   "cell_type": "markdown",
   "metadata": {},
   "source": [
    "Τυπώνουμε τις υπερπαραμέτρους που ανέδειξε το καλύτερο trial:"
   ]
  },
  {
   "cell_type": "code",
   "execution_count": 51,
   "metadata": {
    "execution": {
     "iopub.execute_input": "2022-11-30T09:52:49.203764Z",
     "iopub.status.busy": "2022-11-30T09:52:49.203352Z",
     "iopub.status.idle": "2022-11-30T09:52:49.211426Z",
     "shell.execute_reply": "2022-11-30T09:52:49.210392Z",
     "shell.execute_reply.started": "2022-11-30T09:52:49.203731Z"
    }
   },
   "outputs": [
    {
     "data": {
      "text/plain": [
       "{'is_var_thres': 'var_thres',\n",
       " 'vthreshold': 0.0,\n",
       " 'c_val': 155.0,\n",
       " 'kernel': 'sigmoid',\n",
       " 'gamma': 1e-07}"
      ]
     },
     "execution_count": 51,
     "metadata": {},
     "output_type": "execute_result"
    }
   ],
   "source": [
    "study_svm_narrow.best_params"
   ]
  },
  {
   "cell_type": "markdown",
   "metadata": {},
   "source": [
    "Ορίζουμε ένα νέο Pipeline, το `svm_best` με βάση τις παραπάνω παραμέτρους:"
   ]
  },
  {
   "cell_type": "code",
   "execution_count": 52,
   "metadata": {
    "execution": {
     "iopub.execute_input": "2022-11-30T09:52:53.506335Z",
     "iopub.status.busy": "2022-11-30T09:52:53.505939Z",
     "iopub.status.idle": "2022-11-30T09:52:53.514183Z",
     "shell.execute_reply": "2022-11-30T09:52:53.513009Z",
     "shell.execute_reply.started": "2022-11-30T09:52:53.506303Z"
    }
   },
   "outputs": [],
   "source": [
    "scaler = StandardScaler()\n",
    "selector = VarianceThreshold(threshold=0.0)\n",
    "# selector = 'passthrough'\n",
    "ros = RandomOverSampler(random_state=42)\n",
    "\n",
    "\n",
    "clf = SVC(\n",
    "        C=155.0,\n",
    "        kernel='sigmoid',\n",
    "#         degree=deg,\n",
    "        gamma=1e-07,\n",
    "        max_iter=-1\n",
    "    ) \n",
    "\n",
    "svm_best = Pipeline(steps=[('selector', selector),\n",
    "                           ('scaler',scaler),\n",
    "                           ('over_sampler', ros),\n",
    "                           ('svm', clf)\n",
    "                          ])\n"
   ]
  },
  {
   "cell_type": "markdown",
   "metadata": {},
   "source": [
    "Εκπαιδεύουμε το παραπάνω Pipeline σε όλο το train set και το αξιολογούμε σε όλο Test Set σύμφωνα με τις 3 μετρικές:"
   ]
  },
  {
   "cell_type": "code",
   "execution_count": 53,
   "metadata": {
    "execution": {
     "iopub.execute_input": "2022-11-30T09:52:55.463802Z",
     "iopub.status.busy": "2022-11-30T09:52:55.463371Z",
     "iopub.status.idle": "2022-11-30T09:53:06.143447Z",
     "shell.execute_reply": "2022-11-30T09:53:06.141923Z",
     "shell.execute_reply.started": "2022-11-30T09:52:55.463764Z"
    }
   },
   "outputs": [],
   "source": [
    "clfs = [(svm_best, 'svm')]\n",
    "\n",
    "for (clf, name) in clfs:\n",
    "    #train\n",
    "    model = clf.fit(train, train_labels)\n",
    "    # predict for test data\n",
    "    preds = clf.predict(test)\n",
    "    # calc scores\n",
    "    f1_scores_best[name] = f1_score(test_labels, preds)\n",
    "    f2_scores_best[name] = fbeta_score(test_labels, preds, beta=2)\n",
    "    acc_scores_best[name] = accuracy_score(test_labels, preds)"
   ]
  },
  {
   "cell_type": "markdown",
   "metadata": {},
   "source": [
    "Παρουσιάζουμε τα αποτελέσματα σε πίνακα markdown, για το καλύτερο SVM μοντέλο που πετύχαμε μαζί με το dummy constant-1 και το SVM out-of-the-box:"
   ]
  },
  {
   "cell_type": "code",
   "execution_count": 35,
   "metadata": {
    "execution": {
     "iopub.execute_input": "2022-12-05T10:52:46.987912Z",
     "iopub.status.busy": "2022-12-05T10:52:46.987475Z",
     "iopub.status.idle": "2022-12-05T10:52:46.993614Z",
     "shell.execute_reply": "2022-12-05T10:52:46.992441Z",
     "shell.execute_reply.started": "2022-12-05T10:52:46.987866Z"
    }
   },
   "outputs": [],
   "source": [
    "# # display results\n",
    "# from IPython.display import display, Markdown, Latex\n",
    "\n",
    "# disp = \"\"\"\n",
    "# | Classifier | F1-score | F2-score | Accuracy |\n",
    "# | :-: | :-: | :-: | :-: |\n",
    "# \"\"\"\n",
    "\n",
    "# name = 'dc constant 1'\n",
    "# disp += \"|\"+name+\"|\"+str(f1_scores_ootb[name])+\"|**\"+str(f2_scores_ootb[name])+\"**|\"+str(acc_scores_ootb[name])+\"|\\n\"\n",
    "# name = 'svm'\n",
    "# disp += \"| svm ootb |\"+str(f1_scores_ootb[name])+\"|**\"+str(f2_scores_ootb[name])+\"**|\"+str(acc_scores_ootb[name])+\"|\\n\"\n",
    "# name = 'svm'\n",
    "# disp += \"|\"+name+\"|\"+str(f1_scores_best[name])+\"|**\"+str(f2_scores_best[name])+\"**|\"+str(acc_scores_best[name])+\"|\\n\"\n",
    "\n",
    "# display(Markdown(disp))"
   ]
  },
  {
   "cell_type": "markdown",
   "metadata": {},
   "source": [
    "|   Classifier  |       F1-score      |       **F2-score**      |       Accuracy      |\n",
    "|:-------------:|:-------------------:|:-----------------------:|:-------------------:|\n",
    "| dc constant 1 | 0.06282271944922548 | **0.14353126228863547** | 0.03243003109729009 |\n",
    "|    svm ootb   |         0.0         |         **0.0**         |  0.9675699689027099 |\n",
    "|      svm      | 0.33522727272727276 |  **0.5166374781085815** |  0.8960462016881386 |"
   ]
  },
  {
   "cell_type": "markdown",
   "metadata": {},
   "source": [
    "## Παρουσίαση αποτελεσμάτων"
   ]
  },
  {
   "cell_type": "markdown",
   "metadata": {},
   "source": [
    "Κάναμε ήδη φανερό, κατά την βελτιστοποίηση των δύο ταξινομητών ότι τα βέλτιστα μοντέλα που πετύχαμε, τόσο για τον MLP όσο και για τον SVM βελτιώνουν σημαντικά την επίδοση (του f2-score) σε σχέση με τους out-of-the-box classifiers που χρησιμοποιήσαμε ως αναφορά. Παρακάτω θα κάνουμε μια συγκεντρωτική παρουσίαση των αποτελεσμάτων που πετύχαμε για τους βέλτιστους ταξινομητές, προκειμένου να τους συγκρίνουμε πλέον και μεταξύ τους. "
   ]
  },
  {
   "cell_type": "markdown",
   "metadata": {},
   "source": [
    "Αρχικά συγκεντρώνουμε τα αποτελέσματά μας σε έναν πίνακα. Συμπεριλαμβάνουμε τα f2-scores, καθώς και την βελτίωση του f2-score τόσο σε σχέση με τον αντίστοιχο out-of-the-box όσο και σε σχέση με τον καλυτερο Dummy, για καθέναν από τα βέλτιστα μοντέλα. Επίσης, δείχνουμε τον χρόνο που χρειάστηκε για την βελτιστοποίηση σε seconds/trial,\n",
    "για καθένα από τα βέλτιστα μοντέλα (Για το _\"στενότερο\"_ objective κάθε περίπτωσης). Τέλος, παραθέτουμε το f1-score και το accuracy. Σημειώνουμε ότι για την περίπτωση του SVM, η βελτίωση σε σχέση με την out-of-the-box περίπτωση δεν ορίζεται (είναι θεωρητικά άπειρη) γιατί ο ootb SVM είχε μηδενικό f2-score."
   ]
  },
  {
   "cell_type": "code",
   "execution_count": 6,
   "metadata": {
    "execution": {
     "iopub.execute_input": "2022-12-05T08:02:16.437350Z",
     "iopub.status.busy": "2022-12-05T08:02:16.436763Z",
     "iopub.status.idle": "2022-12-05T08:02:16.447202Z",
     "shell.execute_reply": "2022-12-05T08:02:16.445363Z",
     "shell.execute_reply.started": "2022-12-05T08:02:16.437301Z"
    }
   },
   "outputs": [],
   "source": [
    "# calculate relative metrics\n",
    "f2_scores_improvement = dict()\n",
    "f2_scores_improvement_dummy = dict()\n",
    "time_spent = dict()\n",
    "\n",
    "for name in f2_scores_best.keys():\n",
    "    f2_scores_improvement[name] = \\\n",
    "        round((f2_scores_best[name]-f2_scores_ootb[name])*100/f2_scores_ootb[name],3) if f2_scores_ootb[name] > 0 else float('inf') \n",
    "    f2_scores_improvement_dummy[name] = \\\n",
    "        round((f2_scores_best[name]-f2_scores_ootb['dc constant 1'])*100/f2_scores_ootb['dc constant 1'],3)\n",
    "\n",
    "time_spent['mlp'] = 30852/200\n",
    "time_spent['svm'] = 868/50"
   ]
  },
  {
   "cell_type": "code",
   "execution_count": 36,
   "metadata": {
    "execution": {
     "iopub.execute_input": "2022-12-05T10:53:43.396913Z",
     "iopub.status.busy": "2022-12-05T10:53:43.396464Z",
     "iopub.status.idle": "2022-12-05T10:53:43.401897Z",
     "shell.execute_reply": "2022-12-05T10:53:43.400876Z",
     "shell.execute_reply.started": "2022-12-05T10:53:43.396876Z"
    }
   },
   "outputs": [],
   "source": [
    "# from IPython.display import display, Markdown, Latex\n",
    "# disp = \"\"\"\n",
    "# | Classifier | F2-score | F2-score Improvement (relative to ootb) | F2-score Improvement (relative to dummy) | F1-score | Accuracy | Time (seconds/trial) |\n",
    "# | :-: | :-: | :-: | :-: | :-: | :-: | :-: |\n",
    "# \"\"\"\n",
    "\n",
    "# for name in f2_scores_best.keys():\n",
    "#     disp += \"|\"+name+\"|\"+str(round(f2_scores_best[name],5))+\"|\"+\\\n",
    "#     ((str(round(f2_scores_improvement[name],5))+'%') if f2_scores_improvement[name] < float('inf') else 'NaN')+\\\n",
    "#     \"|\"+str(round(f2_scores_improvement_dummy[name],5))+'%'+\"|\"+str(round(f1_scores_best[name],5))+\"|\"+str(round(acc_scores_best[name],5))+\\\n",
    "#     \"|\"+str(round(time_spent[name],3))+\"|\\n\"\n",
    "\n",
    "# display(Markdown(disp))"
   ]
  },
  {
   "cell_type": "markdown",
   "metadata": {},
   "source": [
    "| Classifier | F2-score | F2-score Improvement (relative to ootb) | F2-score Improvement (relative to dummy) | F1-score | Accuracy | Time (seconds/trial) |\n",
    "|:----------:|:--------:|:---------------------------------------:|:----------------------------------------:|:--------:|:--------:|:--------------------:|\n",
    "|     mlp    |  0.49153 |                 550.78%                 |                 242.452%                 |  0.31267 |  0.88672 |        154.26        |\n",
    "|     svm    |  0.51664 |                   NaN                   |                 259.948%                 |  0.33523 |  0.89605 |         17.36        |"
   ]
  },
  {
   "cell_type": "markdown",
   "metadata": {},
   "source": [
    "Παρουσιάζουμε επίσης το f2-score με την μορφή διαγράμματος για τα βέλτιστα μοντέλα, τα αντίστοιχα out-of-the-box μοντέλα και τον καλύτερο dummy (dc constant-1)."
   ]
  },
  {
   "cell_type": "code",
   "execution_count": 66,
   "metadata": {
    "execution": {
     "iopub.execute_input": "2022-11-30T10:06:38.260693Z",
     "iopub.status.busy": "2022-11-30T10:06:38.260281Z",
     "iopub.status.idle": "2022-11-30T10:06:38.268126Z",
     "shell.execute_reply": "2022-11-30T10:06:38.266723Z",
     "shell.execute_reply.started": "2022-11-30T10:06:38.260659Z"
    }
   },
   "outputs": [],
   "source": [
    "# prapare to plot\n",
    "names, f2_axis = [], []\n",
    "\n",
    "names.append('dc constant 1')\n",
    "f2_axis.append(f2_scores_ootb['dc constant 1'])\n",
    "\n",
    "names.append('mlp ootb')\n",
    "f2_axis.append(f2_scores_ootb['mlp'])\n",
    "\n",
    "names.append('svm ootb')\n",
    "f2_axis.append(f2_scores_ootb['svm'])\n",
    "\n",
    "\n",
    "for name in f2_scores_best.keys():\n",
    "    names.append(name)\n",
    "    f2_axis.append(f2_scores_best[name])"
   ]
  },
  {
   "cell_type": "code",
   "execution_count": 24,
   "metadata": {
    "execution": {
     "iopub.execute_input": "2022-12-04T15:25:30.463313Z",
     "iopub.status.busy": "2022-12-04T15:25:30.462950Z",
     "iopub.status.idle": "2022-12-04T15:25:30.760297Z",
     "shell.execute_reply": "2022-12-04T15:25:30.759478Z",
     "shell.execute_reply.started": "2022-12-04T15:25:30.463285Z"
    }
   },
   "outputs": [
    {
     "data": {
      "text/plain": [
       "<Figure size 432x288 with 0 Axes>"
      ]
     },
     "metadata": {},
     "output_type": "display_data"
    },
    {
     "data": {
      "image/png": "[encoded data removed]",
      "text/plain": [
       "<Figure size 1080x576 with 1 Axes>"
      ]
     },
     "metadata": {
      "needs_background": "light"
     },
     "output_type": "display_data"
    }
   ],
   "source": [
    "# plot f1 scores\n",
    "plotBarChart(names, [f2_axis], ['teal'],['F2-score'],'F2-score', 'Classifier', 'F2-score') "
   ]
  },
  {
   "cell_type": "markdown",
   "metadata": {},
   "source": [
    "## Συμπεράσματα"
   ]
  },
  {
   "cell_type": "markdown",
   "metadata": {},
   "source": [
    "Όπως ήδη αναφέραμε, η βελτιστοποίηση και για τους δύο ταξινομητές έφερε θεαματικά αποτελέσματα σε σχέση με τα baselines (Dummy και Out-Of-The-Box). Ωστόσο, το μοντέλο που τελικά υπερτερεί είναι το βελτιστοποιημένο SVM. Φυσικά το σημαντικότερο χαρακτηριστικό για το οποίο το ξεχωρίζουμε είναι ότι πετυχαίνει το μεγαλύτερο **f2-score**, το οποίο έχουμε προκρίνει ως βασική μετρική για το πρόβλημά μας. Σε δεύτερη φάση, αξίζει να παρατηρήσουμε ότι η βελτιστοποίηση στον SVM επιτέυχθηκε με γρηγορότερο ρυθμό σε σχέση με τον MLP (ένα trial για τον SVM χρειαζόταν περίπου το ένα δέκατο του χρόνου που χρειαζόταν ένα trial του MLP). Συνεπώς, το \"_κόστος_\" βελτιστοποίησης για το SVM ήταν μικρότερο. Επιπλέον, η διαφορά στην ταχύτητα μας επιτρέπει να υποθέσουμε ότι είναι πιο πιθανό το SVM να έχει, ενδεχομένως περιθώριο για ακόμα μεγαλύτερη βελτίωση (ακολουθώντας μια πιο εξονυχιστική και χρονοβόρα διαδικασία βελτιστοποίσης). Τέλος, αν και επιλέξαμε να μην αξιολογήσουμε τους ταξινομητές μας με άλλες μετρικές, αξίζει να σημειώσουμε ότι ο βελτιστοποιημένο SVM υπερτερεί του βελτιστοποιημένου MLP τόσο ως προς του F1-score, όσο και ως προς το Accuracy."
   ]
  }
 ],
 "metadata": {
  "kernelspec": {
   "display_name": "Python 3",
   "language": "python",
   "name": "python3"
  },
  "language_info": {
   "codemirror_mode": {
    "name": "ipython",
    "version": 3
   },
   "file_extension": ".py",
   "mimetype": "text/x-python",
   "name": "python",
   "nbconvert_exporter": "python",
   "pygments_lexer": "ipython3",
   "version": "3.8.10"
  }
 },
 "nbformat": 4,
 "nbformat_minor": 4
}
